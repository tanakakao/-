{
 "cells": [
  {
   "cell_type": "code",
   "execution_count": null,
   "id": "angry-stranger",
   "metadata": {},
   "outputs": [],
   "source": []
  },
  {
   "cell_type": "markdown",
   "id": "utility-supervisor",
   "metadata": {},
   "source": [
    "## 29. 半教師ありGAN\n",
    "**半教師あり学習**は、訓練データの一部にラベルが付与されている。  \n",
    "ここで、ラベルが付与されているデータと付与されていないデータは同じ分布に従っていなければならない。  \n",
    "**半教師ありGAN(SGAN: Semi-Supervised GAN)**は、識別器が多クラス分類器になっているGANであり、  \n",
    "Nクラスの確率ベクトルと画像が本物か偽物かを示す確率を合わせてN+1クラスを識別するように学習する。  \n",
    "  \n",
    "SGANの生成器の目的はGANと同様であり、乱数ベクトルを入力にとり訓練データと見分けがつかない偽のサンプルを生成することである。  \n",
    "識別器は、3つの入力を受け取るようになっている。  \n",
    "- 生成器から出力される偽のサンプル($x^*$)\n",
    "- 訓練データのうち、ラベルのないもの($x$)\n",
    "- ラベルのあるもの($(x,y)$　yはラベル)\n",
    "\n",
    "識別器の目標は、入力されるサンプルが本物の場合は正しくクラスに分類し、偽物の場合は偽物として却下することである。"
   ]
  },
  {
   "cell_type": "markdown",
   "id": "overall-strap",
   "metadata": {},
   "source": [
    "#### 訓練プロセス\n",
    "SGANの学習では、$D(x)$、$D(x^*)$に加え、教師ありのデータの損失$D((x,y))$の計算を行う。  \n",
    "識別器は、\n",
    "- 偽物のサンプルから本物のサンプルを区別すること(教師あり損失)\n",
    "- 本物のサンプルを正しいクラスに分類すること(教師なし損失)\n",
    "\n",
    "の2つの目的関数に対処(最小化)する。  \n",
    "生成器は、損失$D(x^*)$の最大化することで、最大限間違うように訓練する。  \n",
    "  \n",
    "SGANは今までのGANと違い、最大の関心事は識別器にある。  \n",
    "訓練が終わったら生成器は捨てられ、訓練済み識別器を分類器として利用する。"
   ]
  },
  {
   "cell_type": "code",
   "execution_count": 9,
   "id": "single-cement",
   "metadata": {},
   "outputs": [],
   "source": [
    "import matplotlib.pyplot as plt\n",
    "import numpy as np\n",
    "\n",
    "from tensorflow.keras import backend as K\n",
    "\n",
    "from tensorflow.keras.datasets import mnist\n",
    "from tensorflow.keras.layers import Activation, BatchNormalization, Concatenate, Dense, Dropout, Flatten, Input, Lambda, Reshape, Conv2D, Conv2DTranspose\n",
    "from keras.layers.advanced_activations import LeakyReLU\n",
    "from tensorflow.keras.models import Model, Sequential\n",
    "from tensorflow.keras.optimizers import Adam\n",
    "from tensorflow.keras.utils import to_categorical"
   ]
  },
  {
   "cell_type": "code",
   "execution_count": 10,
   "id": "marked-photography",
   "metadata": {},
   "outputs": [],
   "source": [
    "img_rows = 28\n",
    "img_cols = 28\n",
    "channels = 1\n",
    "\n",
    "img_shape = (img_rows, img_cols, channels)\n",
    "\n",
    "z_dim = 100\n",
    "\n",
    "num_classes = 10"
   ]
  },
  {
   "cell_type": "code",
   "execution_count": 58,
   "id": "headed-papua",
   "metadata": {},
   "outputs": [],
   "source": [
    "class Dataset:\n",
    "    def __init__(self, num_labeled):\n",
    "        self.num_labeled = num_labeled\n",
    "        \n",
    "        (self.x_train, self.y_train), (self.x_test, self.y_test) = mnist.load_data()\n",
    "    \n",
    "        def preprocess_imgs(x):\n",
    "            x = (x.astype(np.float32) - 127.5) / 127.5\n",
    "            x = np.expand_dims(x, axis=3)\n",
    "            return x\n",
    "    \n",
    "        def preprocess_labels(y):\n",
    "            return y.reshape(-1, 1)\n",
    "        \n",
    "        self.x_train = preprocess_imgs(self.x_train)\n",
    "        self.y_train = preprocess_labels(self.y_train)\n",
    "        \n",
    "        self.x_test = preprocess_imgs(self.x_test)\n",
    "        self.y_test = preprocess_labels(self.y_test)\n",
    "    \n",
    "    def batch_labeled(self, batch_size):\n",
    "        idx = np.random.randint(0, self.num_labeled, batch_size)\n",
    "        imgs = self.x_train[idx]\n",
    "        labels = self.y_train[idx]\n",
    "        return imgs, labels\n",
    "    \n",
    "    def batch_unlabeled(self, batch_size):\n",
    "        idx = np.random.randint(self.num_labeled, self.x_train.shape[0], batch_size)\n",
    "        imgs = self.x_train[idx]\n",
    "        return imgs\n",
    "    \n",
    "    def training_set(self):\n",
    "        x_train = self.x_train[range(self.num_labeled)]\n",
    "        y_train = self.y_train[range(self.num_labeled)]\n",
    "        return x_train, y_train\n",
    "    \n",
    "    def test_set(self):\n",
    "        return self.x_test, self.y_test"
   ]
  },
  {
   "cell_type": "code",
   "execution_count": 59,
   "id": "monthly-football",
   "metadata": {},
   "outputs": [],
   "source": [
    "num_labeled = 100\n",
    "\n",
    "dataset = Dataset(num_labeled)"
   ]
  },
  {
   "cell_type": "markdown",
   "id": "stock-masters",
   "metadata": {},
   "source": [
    "#### 生成器"
   ]
  },
  {
   "cell_type": "code",
   "execution_count": 14,
   "id": "little-poison",
   "metadata": {},
   "outputs": [],
   "source": [
    "def build_generator(z_dim):\n",
    "    model = Sequential()\n",
    "    \n",
    "    model.add(Dense(256*7*7, input_dim=z_dim))\n",
    "    model.add(Reshape((7, 7, 256)))\n",
    "    \n",
    "    model.add(Conv2DTranspose(128, kernel_size=3, strides=2, padding='same'))\n",
    "    model.add(BatchNormalization())\n",
    "    model.add(LeakyReLU(alpha=0.01))\n",
    "    model.add(Conv2DTranspose(64, kernel_size=3, strides=1, padding='same'))\n",
    "    model.add(BatchNormalization())\n",
    "    model.add(LeakyReLU(alpha=0.01))\n",
    "    model.add(Conv2DTranspose(1, kernel_size=3, strides=2, padding='same'))\n",
    "    model.add(Activation('tanh'))\n",
    "    \n",
    "    return model"
   ]
  },
  {
   "cell_type": "markdown",
   "id": "robust-missile",
   "metadata": {},
   "source": [
    "#### 識別器"
   ]
  },
  {
   "cell_type": "code",
   "execution_count": 15,
   "id": "medical-japan",
   "metadata": {},
   "outputs": [],
   "source": [
    "def build_discriminator_net(img_shape):\n",
    "    model = Sequential()\n",
    "    \n",
    "    model.add(Conv2D(32, kernel_size=3, strides=2, input_shape=img_shape, padding='same'))\n",
    "    model.add(LeakyReLU(alpha=0.01))\n",
    "    model.add(Conv2D(64, kernel_size=3, strides=2, input_shape=img_shape, padding='same'))\n",
    "    model.add(BatchNormalization())\n",
    "    model.add(LeakyReLU(alpha=0.01))\n",
    "    model.add(Conv2D(128, kernel_size=3, strides=2, input_shape=img_shape, padding='same'))\n",
    "    model.add(BatchNormalization())\n",
    "    model.add(LeakyReLU(alpha=0.01))\n",
    "    model.add(Dropout(0.5))\n",
    "    model.add(Flatten())\n",
    "    model.add(Dense(num_classes))\n",
    "    \n",
    "    return model"
   ]
  },
  {
   "cell_type": "markdown",
   "id": "north-uniform",
   "metadata": {},
   "source": [
    "さらに2種類の出力を作り出す。  \n",
    "- 教師あり部分"
   ]
  },
  {
   "cell_type": "code",
   "execution_count": 16,
   "id": "important-authorization",
   "metadata": {},
   "outputs": [],
   "source": [
    "def build_discriminator_supervised(discriminator_net):\n",
    "    model = Sequential()\n",
    "    model.add(discriminator_net)\n",
    "    model.add(Activation('softmax'))\n",
    "    return model"
   ]
  },
  {
   "cell_type": "markdown",
   "id": "material-distance",
   "metadata": {},
   "source": [
    "- 教師なし部分"
   ]
  },
  {
   "cell_type": "code",
   "execution_count": 42,
   "id": "worth-career",
   "metadata": {},
   "outputs": [],
   "source": [
    "def build_discriminator_unsupervised(discriminator_net):\n",
    "    model = Sequential()\n",
    "    model.add(discriminator_net)\n",
    "    \n",
    "    def predict(x):\n",
    "        prediction = 1.0 - (1.0 / (K.sum(K.exp(x), axis=-1, keepdims=True) + 1.0))\n",
    "        return prediction\n",
    "    \n",
    "    model.add(Lambda(predict))\n",
    "    return model"
   ]
  },
  {
   "cell_type": "markdown",
   "id": "clinical-wisconsin",
   "metadata": {},
   "source": [
    "#### モデルの構築"
   ]
  },
  {
   "cell_type": "code",
   "execution_count": 49,
   "id": "personalized-chinese",
   "metadata": {},
   "outputs": [],
   "source": [
    "def build_gan(generator ,discriminator):\n",
    "    model = Sequential()\n",
    "    \n",
    "    model.add(generator)\n",
    "    model.add(discriminator)\n",
    "    \n",
    "    return model\n",
    "\n",
    "# 教師あり・教師なしの訓練中に共有\n",
    "discriminator_net = build_discriminator_net(img_shape)\n",
    "\n",
    "# 教師あり\n",
    "discriminator_supervised = build_discriminator_supervised(discriminator_net)\n",
    "discriminator_supervised.compile(loss='categorical_crossentropy',\n",
    "                                 metrics=['accuracy'],\n",
    "                                 optimizer=Adam())\n",
    "\n",
    "# 教師なし\n",
    "discriminator_unsupervised = build_discriminator_unsupervised(discriminator_net)\n",
    "discriminator_unsupervised.compile(loss='binary_crossentropy',\n",
    "                                 optimizer=Adam())\n",
    "\n",
    "# 生成器\n",
    "generator = build_generator(z_dim)\n",
    "\n",
    "# 生成器の訓練中は識別器のパラメータは定数とする\n",
    "discriminator_unsupervised.trainable = False\n",
    "\n",
    "gan = build_gan(generator, discriminator_unsupervised)\n",
    "gan.compile(loss='binary_crossentropy', optimizer=Adam())"
   ]
  },
  {
   "cell_type": "markdown",
   "id": "restricted-snake",
   "metadata": {},
   "source": [
    "#### 訓練\n",
    "SGANの訓練アルゴリズム概要を以下に示す。  \n",
    "  \n",
    "For　各訓練ステップ　do\n",
    "1. 識別器の訓練(教師あり)  \n",
    "　a. ラベリングされた本物のデータ$(x,y)$からランダムにサンプルを取り出し、ミニバッチを作成する  \n",
    "　b. ミニバッチから$D((x,y))$を計算し、求めた多クラスの分類損失を逆誤差伝播し、誤差を最小化するように$\\theta^{(D)}$を更新する\n",
    "2. 識別器の訓練(教師なし)  \n",
    "　a. ラベルのない本物のデータ$x$からランダムにサンプルを取り出し、ミニバッチを作成する  \n",
    "　b. ミニバッチから$D(x)$を計算し、求めた二値分類の損失を逆誤差伝播し、誤差を最小化するように$\\theta^{(D)}$を更新する  \n",
    "　c. ランダムなノイズベクトル$z$からなるミニバッチを作り、偽のサンプルからなるミニバッチを作る　$G(z)=x^*$  \n",
    "　d. ミニバッチから$D(x^*)$を計算し、求めた二値分類の損失を逆誤差伝播し、誤差を最小化するように$\\theta^{(G)}$を更新する  \n",
    "3. 生成器の訓練  \n",
    "　a. ラベルのない本物のデータ$z$からミニバッチを作り、偽のサンプルからなるミニバッチを作る　$G(z)=x^*$  \n",
    "　b. ミニバッチから$D(x^*)$を計算し、求めた二値分類の損失を逆誤差伝播し、誤差を最小化するように$\\theta^{(G)}$を更新する  "
   ]
  },
  {
   "cell_type": "code",
   "execution_count": 50,
   "id": "infectious-moderator",
   "metadata": {},
   "outputs": [],
   "source": [
    "supervised_losses = []\n",
    "iteration_checkpoints = []\n",
    "\n",
    "def train(iterations, batch_size, sample_interval):\n",
    "    real = np.ones((batch_size, 1))\n",
    "    fake = np.zeros((batch_size, 1))\n",
    "    \n",
    "    for iteration in range(iterations):\n",
    "        # --------------------\n",
    "        # 識別器の学習\n",
    "        # --------------------\n",
    "        imgs, labels = dataset.batch_labeled(batch_size)\n",
    "        labels = to_categorical(labels, num_classes=num_classes)\n",
    "        \n",
    "        imgs_unlabeled = dataset.batch_unlabeled(batch_size)\n",
    "        \n",
    "        z = np.random.normal(0, 1, (batch_size, z_dim))\n",
    "        gen_imgs = generator.predict(z)\n",
    "        \n",
    "        # ラベル付き本物サンプルによる訓練\n",
    "        d_loss_supervised, accuracy = discriminator_supervised.train_on_batch(imgs, labels)\n",
    "        \n",
    "        # ラベルなし本物サンプルによる訓練\n",
    "        d_loss_real = discriminator_unsupervised.train_on_batch(imgs_unlabeled, real)\n",
    "        \n",
    "        # 偽のサンプルによる訓練\n",
    "        d_loss_fake = discriminator_unsupervised.train_on_batch(gen_imgs, fake)\n",
    "        \n",
    "        d_loss_unsupervised = 0.5 * np.add(d_loss_real, d_loss_fake)\n",
    "        \n",
    "        # --------------------\n",
    "        # 生成器の学習\n",
    "        # --------------------\n",
    "        z = np.random.normal(0, 1, (batch_size, z_dim))\n",
    "        gen_imags = generator.predict(z)\n",
    "        \n",
    "        g_loss = gan.train_on_batch(z, np.ones((batch_size, 1)))\n",
    "        \n",
    "        if (iteration + 1) % sample_interval == 0:\n",
    "            supervised_losses.append(d_loss_supervised)\n",
    "            iteration_checkpoints.append(iteration + 1)\n",
    "\n",
    "            print(\"%d [D loss supervised: %.4f, acc.: %.2f%%]\" % (iteration + 1, d_loss_supervised, 100*accuracy))\n",
    "            print(\"%d [D loss unsupervised: %.4f] [G loss: %f]\" % (iteration + 1, d_loss_unsupervised, g_loss))"
   ]
  },
  {
   "cell_type": "code",
   "execution_count": 51,
   "id": "uniform-relative",
   "metadata": {},
   "outputs": [
    {
     "name": "stdout",
     "output_type": "stream",
     "text": [
      "800 [D loss supervised: 0.0004, acc.: 100.00%]\n",
      "800 [D loss unsupervised: 0.0002] [G loss: 0.021493]\n",
      "1600 [D loss supervised: 0.0002, acc.: 100.00%]\n",
      "1600 [D loss unsupervised: 0.0000] [G loss: 0.003939]\n",
      "2400 [D loss supervised: 0.0000, acc.: 100.00%]\n",
      "2400 [D loss unsupervised: 0.0000] [G loss: 0.001399]\n",
      "3200 [D loss supervised: 0.0000, acc.: 100.00%]\n",
      "3200 [D loss unsupervised: 0.0000] [G loss: 0.000317]\n",
      "4000 [D loss supervised: 0.0000, acc.: 100.00%]\n",
      "4000 [D loss unsupervised: 0.0000] [G loss: 0.000350]\n",
      "4800 [D loss supervised: 0.0000, acc.: 100.00%]\n",
      "4800 [D loss unsupervised: 0.0000] [G loss: 0.000041]\n",
      "5600 [D loss supervised: 0.0000, acc.: 100.00%]\n",
      "5600 [D loss unsupervised: 0.0000] [G loss: 0.000093]\n",
      "6400 [D loss supervised: 0.0000, acc.: 100.00%]\n",
      "6400 [D loss unsupervised: 0.0000] [G loss: 0.000008]\n",
      "7200 [D loss supervised: 0.0000, acc.: 100.00%]\n",
      "7200 [D loss unsupervised: 0.0000] [G loss: 0.000004]\n",
      "8000 [D loss supervised: 0.0000, acc.: 100.00%]\n",
      "8000 [D loss unsupervised: 0.0000] [G loss: 0.000013]\n"
     ]
    }
   ],
   "source": [
    "iterations = 8000\n",
    "batch_size = 32\n",
    "sample_interval = 800\n",
    "\n",
    "train(iterations, batch_size, sample_interval)"
   ]
  },
  {
   "cell_type": "markdown",
   "id": "arabic-olympus",
   "metadata": {},
   "source": [
    "#### 精度の確認"
   ]
  },
  {
   "cell_type": "code",
   "execution_count": 52,
   "id": "regional-morgan",
   "metadata": {},
   "outputs": [
    {
     "name": "stdout",
     "output_type": "stream",
     "text": [
      "313/313 [==============================] - 3s 10ms/step - loss: 1.8342 - accuracy: 0.6830\n",
      "Test Accuracy: 68.30%\n"
     ]
    }
   ],
   "source": [
    "x, y = dataset.test_set()\n",
    "y = to_categorical(y, num_classes=num_classes)\n",
    "\n",
    "_, accuracy = discriminator_supervised.evaluate(x, y)\n",
    "print(\"Test Accuracy: %.2f%%\" % (100 * accuracy))"
   ]
  },
  {
   "cell_type": "code",
   "execution_count": 53,
   "id": "dense-clause",
   "metadata": {},
   "outputs": [
    {
     "data": {
      "text/plain": [
       "<matplotlib.legend.Legend at 0x1ad1e839c70>"
      ]
     },
     "execution_count": 53,
     "metadata": {},
     "output_type": "execute_result"
    },
    {
     "data": {
      "image/png": "[encoded data removed]",
      "text/plain": [
       "<Figure size 1080x360 with 1 Axes>"
      ]
     },
     "metadata": {
      "needs_background": "light"
     },
     "output_type": "display_data"
    }
   ],
   "source": [
    "losses = np.array(supervised_losses)\n",
    "\n",
    "# Plot Discriminator supervised loss\n",
    "plt.figure(figsize=(15, 5))\n",
    "plt.plot(iteration_checkpoints, losses, label=\"Discriminator loss\")\n",
    "\n",
    "plt.xticks(iteration_checkpoints, rotation=90)\n",
    "\n",
    "plt.title(\"Discriminator – Supervised Loss\")\n",
    "plt.xlabel(\"Iteration\")\n",
    "plt.ylabel(\"Loss\")\n",
    "plt.legend()"
   ]
  },
  {
   "cell_type": "code",
   "execution_count": null,
   "id": "competent-chair",
   "metadata": {},
   "outputs": [],
   "source": []
  },
  {
   "cell_type": "code",
   "execution_count": 62,
   "id": "ideal-empty",
   "metadata": {},
   "outputs": [],
   "source": [
    "# Fully supervised classifier with the same network architecture as the SGAN Discriminator\n",
    "mnist_classifier = build_discriminator_supervised(build_discriminator_net(img_shape))\n",
    "mnist_classifier.compile(loss='categorical_crossentropy',\n",
    "                         metrics=['accuracy'],\n",
    "                         optimizer=Adam())"
   ]
  },
  {
   "cell_type": "code",
   "execution_count": 63,
   "id": "neither-resort",
   "metadata": {},
   "outputs": [
    {
     "name": "stdout",
     "output_type": "stream",
     "text": [
      "Epoch 1/30\n",
      "4/4 [==============================] - 0s 10ms/step - loss: 2.5203 - accuracy: 0.2500\n",
      "Epoch 2/30\n",
      "4/4 [==============================] - 0s 11ms/step - loss: 1.0406 - accuracy: 0.7100\n",
      "Epoch 3/30\n",
      "4/4 [==============================] - 0s 11ms/step - loss: 0.5805 - accuracy: 0.8400\n",
      "Epoch 4/30\n",
      "4/4 [==============================] - 0s 12ms/step - loss: 0.3827 - accuracy: 0.8900\n",
      "Epoch 5/30\n",
      "4/4 [==============================] - 0s 12ms/step - loss: 0.2165 - accuracy: 0.9700\n",
      "Epoch 6/30\n",
      "4/4 [==============================] - 0s 12ms/step - loss: 0.1502 - accuracy: 0.9800\n",
      "Epoch 7/30\n",
      "4/4 [==============================] - 0s 12ms/step - loss: 0.0950 - accuracy: 0.9900\n",
      "Epoch 8/30\n",
      "4/4 [==============================] - 0s 12ms/step - loss: 0.0953 - accuracy: 0.9900\n",
      "Epoch 9/30\n",
      "4/4 [==============================] - 0s 12ms/step - loss: 0.0498 - accuracy: 0.9900\n",
      "Epoch 10/30\n",
      "4/4 [==============================] - 0s 12ms/step - loss: 0.0386 - accuracy: 1.0000\n",
      "Epoch 11/30\n",
      "4/4 [==============================] - 0s 12ms/step - loss: 0.0387 - accuracy: 1.0000\n",
      "Epoch 12/30\n",
      "4/4 [==============================] - 0s 12ms/step - loss: 0.0201 - accuracy: 1.0000\n",
      "Epoch 13/30\n",
      "4/4 [==============================] - 0s 12ms/step - loss: 0.0315 - accuracy: 1.0000\n",
      "Epoch 14/30\n",
      "4/4 [==============================] - 0s 13ms/step - loss: 0.0149 - accuracy: 1.0000\n",
      "Epoch 15/30\n",
      "4/4 [==============================] - 0s 12ms/step - loss: 0.0241 - accuracy: 1.0000\n",
      "Epoch 16/30\n",
      "4/4 [==============================] - 0s 12ms/step - loss: 0.0128 - accuracy: 1.0000\n",
      "Epoch 17/30\n",
      "4/4 [==============================] - 0s 10ms/step - loss: 0.0119 - accuracy: 1.0000\n",
      "Epoch 18/30\n",
      "4/4 [==============================] - 0s 11ms/step - loss: 0.0103 - accuracy: 1.0000\n",
      "Epoch 19/30\n",
      "4/4 [==============================] - 0s 12ms/step - loss: 0.0105 - accuracy: 1.0000\n",
      "Epoch 20/30\n",
      "4/4 [==============================] - 0s 12ms/step - loss: 0.0061 - accuracy: 1.0000\n",
      "Epoch 21/30\n",
      "4/4 [==============================] - 0s 11ms/step - loss: 0.0079 - accuracy: 1.0000\n",
      "Epoch 22/30\n",
      "4/4 [==============================] - 0s 11ms/step - loss: 0.0087 - accuracy: 1.0000\n",
      "Epoch 23/30\n",
      "4/4 [==============================] - 0s 11ms/step - loss: 0.0097 - accuracy: 1.0000\n",
      "Epoch 24/30\n",
      "4/4 [==============================] - 0s 11ms/step - loss: 0.0073 - accuracy: 1.0000\n",
      "Epoch 25/30\n",
      "4/4 [==============================] - 0s 11ms/step - loss: 0.0069 - accuracy: 1.0000\n",
      "Epoch 26/30\n",
      "4/4 [==============================] - 0s 11ms/step - loss: 0.0072 - accuracy: 1.0000\n",
      "Epoch 27/30\n",
      "4/4 [==============================] - 0s 11ms/step - loss: 0.0062 - accuracy: 1.0000\n",
      "Epoch 28/30\n",
      "4/4 [==============================] - 0s 10ms/step - loss: 0.0055 - accuracy: 1.0000\n",
      "Epoch 29/30\n",
      "4/4 [==============================] - 0s 11ms/step - loss: 0.0044 - accuracy: 1.0000\n",
      "Epoch 30/30\n",
      "4/4 [==============================] - 0s 12ms/step - loss: 0.0054 - accuracy: 1.0000\n"
     ]
    }
   ],
   "source": [
    "imgs, labels = dataset.training_set()\n",
    "\n",
    "# One-hot encode labels\n",
    "labels = to_categorical(labels, num_classes=num_classes)\n",
    "\n",
    "# Train the classifier\n",
    "training = mnist_classifier.fit(x=imgs,\n",
    "                                y=labels,\n",
    "                                batch_size=32,\n",
    "                                epochs=30,\n",
    "                                verbose=1)\n",
    "losses = training.history['loss']\n",
    "accuracies = training.history['accuracy']"
   ]
  },
  {
   "cell_type": "code",
   "execution_count": 64,
   "id": "reduced-synthetic",
   "metadata": {},
   "outputs": [
    {
     "data": {
      "text/plain": [
       "<matplotlib.legend.Legend at 0x1ad037bd3a0>"
      ]
     },
     "execution_count": 64,
     "metadata": {},
     "output_type": "execute_result"
    },
    {
     "data": {
      "image/png": "[encoded data removed]",
      "text/plain": [
       "<Figure size 720x360 with 1 Axes>"
      ]
     },
     "metadata": {
      "needs_background": "light"
     },
     "output_type": "display_data"
    }
   ],
   "source": [
    "# Plot classification loss\n",
    "plt.figure(figsize=(10, 5))\n",
    "plt.plot(np.array(losses), label=\"Loss\")\n",
    "plt.title(\"Classification Loss\")\n",
    "plt.legend()"
   ]
  },
  {
   "cell_type": "code",
   "execution_count": 65,
   "id": "norwegian-trader",
   "metadata": {},
   "outputs": [
    {
     "name": "stdout",
     "output_type": "stream",
     "text": [
      "313/313 [==============================] - 3s 9ms/step - loss: 1.9963 - accuracy: 0.3810\n",
      "Test Accuracy: 38.10%\n"
     ]
    }
   ],
   "source": [
    "x, y = dataset.test_set()\n",
    "y = to_categorical(y, num_classes=num_classes)\n",
    "\n",
    "# Compute classification accuracy on the test set\n",
    "_, accuracy = mnist_classifier.evaluate(x, y)\n",
    "print(\"Test Accuracy: %.2f%%\" % (100 * accuracy))"
   ]
  }
 ],
 "metadata": {
  "kernelspec": {
   "display_name": "Python 3",
   "language": "python",
   "name": "python3"
  },
  "language_info": {
   "codemirror_mode": {
    "name": "ipython",
    "version": 3
   },
   "file_extension": ".py",
   "mimetype": "text/x-python",
   "name": "python",
   "nbconvert_exporter": "python",
   "pygments_lexer": "ipython3",
   "version": "3.8.5"
  }
 },
 "nbformat": 4,
 "nbformat_minor": 5
}
