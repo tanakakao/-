{
 "cells": [
  {
   "cell_type": "code",
   "execution_count": null,
   "id": "ambient-thompson",
   "metadata": {},
   "outputs": [],
   "source": []
  },
  {
   "cell_type": "markdown",
   "id": "owned-liquid",
   "metadata": {},
   "source": [
    "## 10. 階層的クラスタリング\n",
    "プロトタイプベースのクラスタリングであり、**樹形図(dendrogram)**をプロットできるという特徴がある。  \n",
    "階層的クラスタリングには、**凝集型**と**分割型**があるが、ここでは凝集型を説明する。  \n",
    "個々のデータ点を1つのクラスタとして扱い、クラスタが1つだけ残った状態になるまで、最も近くにある2つのクラスタをマージしていく。  \n",
    "  \n",
    "凝集型階層的クラスタリングには、**単連結法**と**完全連結法**がある。  \n",
    "単連結法では、クラスタのペアごとに最も類似度の高いメンバーどうしの距離を計算し、距離が最小になるように2つのクラスタをマージする。  \n",
    "完全連結法では、最も類似度の低いメンバーを比較する。  \n",
    "完全連結法の手順を示す。\n",
    "1. すべてのデータ点の距離行列を計算する\n",
    "2. 各データ点を単一のクラスタと見なして表現する\n",
    "3. 最も類似度の低い(最も離れた)メンバーの距離に基づき、2つの最も低いクラスタをマージする\n",
    "4. 距離行列を更新する\n",
    "5. クラスタが1つだけ残った状態になるまで、手順3～4を繰り返す"
   ]
  },
  {
   "cell_type": "code",
   "execution_count": 1,
   "id": "emerging-kentucky",
   "metadata": {},
   "outputs": [
    {
     "data": {
      "text/html": [
       "<div>\n",
       "<style scoped>\n",
       "    .dataframe tbody tr th:only-of-type {\n",
       "        vertical-align: middle;\n",
       "    }\n",
       "\n",
       "    .dataframe tbody tr th {\n",
       "        vertical-align: top;\n",
       "    }\n",
       "\n",
       "    .dataframe thead th {\n",
       "        text-align: right;\n",
       "    }\n",
       "</style>\n",
       "<table border=\"1\" class=\"dataframe\">\n",
       "  <thead>\n",
       "    <tr style=\"text-align: right;\">\n",
       "      <th></th>\n",
       "      <th>sepal length (cm)</th>\n",
       "      <th>sepal width (cm)</th>\n",
       "      <th>petal length (cm)</th>\n",
       "      <th>petal width (cm)</th>\n",
       "    </tr>\n",
       "  </thead>\n",
       "  <tbody>\n",
       "    <tr>\n",
       "      <th>0</th>\n",
       "      <td>2.249683</td>\n",
       "      <td>-0.592373</td>\n",
       "      <td>1.672157</td>\n",
       "      <td>1.053935</td>\n",
       "    </tr>\n",
       "    <tr>\n",
       "      <th>1</th>\n",
       "      <td>-0.779513</td>\n",
       "      <td>2.400185</td>\n",
       "      <td>-1.283389</td>\n",
       "      <td>-1.447076</td>\n",
       "    </tr>\n",
       "    <tr>\n",
       "      <th>2</th>\n",
       "      <td>-0.052506</td>\n",
       "      <td>-0.822570</td>\n",
       "      <td>0.762758</td>\n",
       "      <td>0.922303</td>\n",
       "    </tr>\n",
       "    <tr>\n",
       "      <th>3</th>\n",
       "      <td>-0.052506</td>\n",
       "      <td>-1.052767</td>\n",
       "      <td>0.137547</td>\n",
       "      <td>0.000878</td>\n",
       "    </tr>\n",
       "    <tr>\n",
       "      <th>4</th>\n",
       "      <td>-1.264185</td>\n",
       "      <td>0.788808</td>\n",
       "      <td>-1.226552</td>\n",
       "      <td>-1.315444</td>\n",
       "    </tr>\n",
       "  </tbody>\n",
       "</table>\n",
       "</div>"
      ],
      "text/plain": [
       "   sepal length (cm)  sepal width (cm)  petal length (cm)  petal width (cm)\n",
       "0           2.249683         -0.592373           1.672157          1.053935\n",
       "1          -0.779513          2.400185          -1.283389         -1.447076\n",
       "2          -0.052506         -0.822570           0.762758          0.922303\n",
       "3          -0.052506         -1.052767           0.137547          0.000878\n",
       "4          -1.264185          0.788808          -1.226552         -1.315444"
      ]
     },
     "execution_count": 1,
     "metadata": {},
     "output_type": "execute_result"
    }
   ],
   "source": [
    "from sklearn import datasets\n",
    "from sklearn.preprocessing import StandardScaler\n",
    "from sklearn.model_selection import train_test_split\n",
    "import pandas as pd\n",
    "\n",
    "iris = datasets.load_iris()\n",
    "X = iris.data\n",
    "y = iris.target\n",
    "\n",
    "scaler = StandardScaler()\n",
    "X_std = scaler.fit_transform(X)\n",
    "df = pd.DataFrame(X_std, columns=iris.feature_names)\n",
    "_, df = train_test_split(df)\n",
    "df = df.reset_index(drop=True)\n",
    "df.head()"
   ]
  },
  {
   "cell_type": "code",
   "execution_count": 2,
   "id": "compliant-florence",
   "metadata": {},
   "outputs": [
    {
     "data": {
      "text/html": [
       "<div>\n",
       "<style scoped>\n",
       "    .dataframe tbody tr th:only-of-type {\n",
       "        vertical-align: middle;\n",
       "    }\n",
       "\n",
       "    .dataframe tbody tr th {\n",
       "        vertical-align: top;\n",
       "    }\n",
       "\n",
       "    .dataframe thead th {\n",
       "        text-align: right;\n",
       "    }\n",
       "</style>\n",
       "<table border=\"1\" class=\"dataframe\">\n",
       "  <thead>\n",
       "    <tr style=\"text-align: right;\">\n",
       "      <th></th>\n",
       "      <th>0</th>\n",
       "      <th>1</th>\n",
       "      <th>2</th>\n",
       "      <th>3</th>\n",
       "      <th>4</th>\n",
       "    </tr>\n",
       "  </thead>\n",
       "  <tbody>\n",
       "    <tr>\n",
       "      <th>0</th>\n",
       "      <td>0.000000</td>\n",
       "      <td>5.755150</td>\n",
       "      <td>2.489458</td>\n",
       "      <td>2.995997</td>\n",
       "      <td>5.317086</td>\n",
       "    </tr>\n",
       "    <tr>\n",
       "      <th>1</th>\n",
       "      <td>5.755150</td>\n",
       "      <td>0.000000</td>\n",
       "      <td>4.551414</td>\n",
       "      <td>4.070263</td>\n",
       "      <td>1.688787</td>\n",
       "    </tr>\n",
       "    <tr>\n",
       "      <th>2</th>\n",
       "      <td>2.489458</td>\n",
       "      <td>4.551414</td>\n",
       "      <td>0.000000</td>\n",
       "      <td>1.137060</td>\n",
       "      <td>3.609649</td>\n",
       "    </tr>\n",
       "    <tr>\n",
       "      <th>3</th>\n",
       "      <td>2.995997</td>\n",
       "      <td>4.070263</td>\n",
       "      <td>1.137060</td>\n",
       "      <td>0.000000</td>\n",
       "      <td>2.907409</td>\n",
       "    </tr>\n",
       "    <tr>\n",
       "      <th>4</th>\n",
       "      <td>5.317086</td>\n",
       "      <td>1.688787</td>\n",
       "      <td>3.609649</td>\n",
       "      <td>2.907409</td>\n",
       "      <td>0.000000</td>\n",
       "    </tr>\n",
       "  </tbody>\n",
       "</table>\n",
       "</div>"
      ],
      "text/plain": [
       "          0         1         2         3         4\n",
       "0  0.000000  5.755150  2.489458  2.995997  5.317086\n",
       "1  5.755150  0.000000  4.551414  4.070263  1.688787\n",
       "2  2.489458  4.551414  0.000000  1.137060  3.609649\n",
       "3  2.995997  4.070263  1.137060  0.000000  2.907409\n",
       "4  5.317086  1.688787  3.609649  2.907409  0.000000"
      ]
     },
     "execution_count": 2,
     "metadata": {},
     "output_type": "execute_result"
    }
   ],
   "source": [
    "from scipy.spatial.distance import pdist, squareform\n",
    "\n",
    "row_dist = pd.DataFrame(squareform(pdist(df[:5], metric='euclidean')), columns=df[:5].index, index=df[:5].index)\n",
    "row_dist"
   ]
  },
  {
   "cell_type": "code",
   "execution_count": 28,
   "id": "freelance-stage",
   "metadata": {},
   "outputs": [],
   "source": [
    "from scipy.cluster.hierarchy import linkage\n",
    "\n",
    "row_clusters = linkage(df.values, method='complete', metric='euclidean')"
   ]
  },
  {
   "cell_type": "code",
   "execution_count": 29,
   "id": "surprising-leather",
   "metadata": {},
   "outputs": [
    {
     "data": {
      "image/png": "[encoded data removed]",
      "text/plain": [
       "<Figure size 432x288 with 1 Axes>"
      ]
     },
     "metadata": {
      "needs_background": "light"
     },
     "output_type": "display_data"
    }
   ],
   "source": [
    "from scipy.cluster.hierarchy import dendrogram\n",
    "import matplotlib.pyplot as plt\n",
    "\n",
    "row_dendr = dendrogram(row_clusters,\n",
    "                       labels=df.index)\n",
    "\n",
    "plt.ylabel('Euclidean distance')\n",
    "plt.tight_layout()\n",
    "plt.show()"
   ]
  },
  {
   "cell_type": "code",
   "execution_count": 113,
   "id": "herbal-acceptance",
   "metadata": {},
   "outputs": [
    {
     "name": "stderr",
     "output_type": "stream",
     "text": [
      "<ipython-input-113-396552624239>:19: UserWarning: FixedFormatter should only be used together with FixedLocator\n",
      "  axm.set_xticklabels([''] + list(df_rowclust.columns), rotation =30, ha = 'left')\n"
     ]
    },
    {
     "data": {
      "image/png": "[encoded data removed]",
      "text/plain": [
       "<Figure size 432x2304 with 3 Axes>"
      ]
     },
     "metadata": {},
     "output_type": "display_data"
    }
   ],
   "source": [
    "import numpy as np\n",
    "\n",
    "fig = plt.figure(figsize=(6,32), facecolor='white')\n",
    "axd = fig.add_axes([0.09, 0.1, 0.2, 0.6])\n",
    "\n",
    "row_dendr = dendrogram(row_clusters, orientation='left')\n",
    "df_rowclust = df.iloc[row_dendr['leaves'][::-1]]\n",
    "\n",
    "axm = fig.add_axes([0.23, 0.1, 0.6, 0.6])\n",
    "cax = axm.matshow(df_rowclust, interpolation='nearest', cmap='hot_r')\n",
    "\n",
    "axd.set_xticks([])\n",
    "axd.set_yticks([])\n",
    "for i in axd.spines.values():\n",
    "    i.set_visible(False)\n",
    "fig.colorbar(cax)\n",
    "ticks=np.arange(0, 38)\n",
    "axm.set_yticks(ticks)\n",
    "axm.set_xticklabels([''] + list(df_rowclust.columns), rotation =30, ha = 'left')\n",
    "axm.set_yticklabels(list(df_rowclust.index))\n",
    "plt.show()"
   ]
  },
  {
   "cell_type": "markdown",
   "id": "asian-south",
   "metadata": {},
   "source": [
    "schikit-learnによる凝集型階層的クラスタリング"
   ]
  },
  {
   "cell_type": "code",
   "execution_count": 116,
   "id": "daily-spelling",
   "metadata": {},
   "outputs": [],
   "source": [
    "from sklearn.cluster import AgglomerativeClustering\n",
    "\n",
    "ac = AgglomerativeClustering(n_clusters=3,\n",
    "                             affinity='euclidean',\n",
    "                             linkage='complete')\n",
    "labels = ac.fit_predict(X_std)"
   ]
  },
  {
   "cell_type": "code",
   "execution_count": 118,
   "id": "controlled-leader",
   "metadata": {},
   "outputs": [
    {
     "data": {
      "image/png": "[encoded data removed]",
      "text/plain": [
       "<Figure size 432x288 with 1 Axes>"
      ]
     },
     "metadata": {
      "needs_background": "light"
     },
     "output_type": "display_data"
    }
   ],
   "source": [
    "for i in np.unique(labels):\n",
    "    plt.scatter(X_std[labels==i,2], X_std[labels==i,3]);"
   ]
  }
 ],
 "metadata": {
  "kernelspec": {
   "display_name": "Python 3",
   "language": "python",
   "name": "python3"
  },
  "language_info": {
   "codemirror_mode": {
    "name": "ipython",
    "version": 3
   },
   "file_extension": ".py",
   "mimetype": "text/x-python",
   "name": "python",
   "nbconvert_exporter": "python",
   "pygments_lexer": "ipython3",
   "version": "3.8.5"
  }
 },
 "nbformat": 4,
 "nbformat_minor": 5
}
