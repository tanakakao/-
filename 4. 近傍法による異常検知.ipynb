{
 "cells": [
  {
   "cell_type": "markdown",
   "id": "spanish-aspect",
   "metadata": {},
   "source": [
    "## 4. 近傍法による異常検知\n",
    "### 4.1 k近傍法：経験分布に基づく異常判定\n",
    "#### ラベルなしデータに対するk近傍法\n",
    "$M$次元ベクトル$\\boldsymbol{x}$がN個観測されているとする。\n",
    "$$\n",
    "D=\\{\\boldsymbol{x}^{(1)},\\boldsymbol{x}^{(2)},\\cdots,\\boldsymbol{x}^{(N)}\\}\n",
    "$$\n",
    "このデータの経験分布は、\n",
    "$$\n",
    "p_{emp}(\\boldsymbol{x}|D)=\\frac{1}{N}\\sum_{n=1}^N\\delta(\\boldsymbol{x}-\\boldsymbol{x}^{(n)})\n",
    "$$\n",
    "ここで、$\\delta()$はディラックのデルタ関数である。  \n",
    "経験分布という用語は、Dの中で経験された値のところでのみ値を持ち、その他の点では0になるという事実に由来する。  \n",
    "ここで、任意の位置$\\boldsymbol{x}'$での確率密度$p(\\boldsymbol{x}')$を経験分布から求めることを考える。  "
   ]
  },
  {
   "cell_type": "code",
   "execution_count": 341,
   "id": "clean-frost",
   "metadata": {},
   "outputs": [
    {
     "data": {
      "image/png": "[encoded data removed]",
      "text/plain": [
       "<Figure size 432x288 with 1 Axes>"
      ]
     },
     "metadata": {
      "needs_background": "light"
     },
     "output_type": "display_data"
    }
   ],
   "source": [
    "import numpy as np\n",
    "import matplotlib.pyplot as plt\n",
    "np.random.seed(1)\n",
    "\n",
    "def make_circle(x, y, r, theta):\n",
    "    return np.concatenate([[x + r * np.cos(theta)], [y + r * np.sin(theta)]], axis=0).T\n",
    "\n",
    "def find_near_k(x1, x2, k):    \n",
    "    dist = np.sum((x1 - x2)**2, axis=1)\n",
    "    near5 = x1[np.argsort(dist)[:k]]\n",
    "    dist5 = dist[np.argsort(dist)[k-1]]\n",
    "    return near5, dist5\n",
    "\n",
    "x1 = np.random.rand(100, 2)\n",
    "\n",
    "x2 = np.array([[0.5, 0.5],\n",
    "               [0.9, 0.6]])\n",
    "\n",
    "near5_1, dist5_1 = find_near_k(x1, x2=x2[0,:], k=5)\n",
    "near5_2, dist5_2 = find_near_k(x1, x2=x2[1,:], k=5)\n",
    "\n",
    "theta = np.linspace(0, 2*np.pi, 100)\n",
    "\n",
    "plt.scatter(x1[:,0], x1[:,1]);\n",
    "plt.scatter(x2[:,0], x2[:,1], color=['red', 'green']);\n",
    "\n",
    "c1 = make_circle(x2[0,0], x2[0,1], r=np.sqrt(dist5_1), theta=theta)\n",
    "c2 = make_circle(x2[1,0], x2[1,1], r=np.sqrt(dist5_2), theta=theta)\n",
    "\n",
    "#plt.scatter(near5_1[:,0], near5_1[:,1]);\n",
    "#plt.scatter(near5_2[:,0], near5_2[:,1]);\n",
    "\n",
    "plt.plot(c1[:,0], c1[:,1], '--', color='red');\n",
    "plt.plot(c2[:,0], c2[:,1], '--', color='green');"
   ]
  },
  {
   "cell_type": "markdown",
   "id": "sticky-adoption",
   "metadata": {},
   "source": [
    "$\\boldsymbol{x}'$を中心とした十分小さい半径$\\epsilon$の球を考え、この中で確率密度が一定だとみなす。  \n",
    "確率密度関数の定義から、\n",
    "$$\n",
    "p(\\boldsymbol{x}')×|V_M(\\epsilon,\\boldsymbol{x}')|\\approx\\int_{\\boldsymbol{x}\\in V_M(\\epsilon,\\boldsymbol{x}')}d\\boldsymbol{x}p_{emp}(\\boldsymbol{x}|D)\n",
    "$$\n",
    "が成り立つ。この式は$(確率密度)×(体積)\\approx (確率)$を意味する。  \n",
    "    $\\boldsymbol{x}'$を中心とした半径$\\epsilon$の$M$次元旧内部の領域を$V_M(\\epsilon,\\boldsymbol{x}')$、その体積は$|V_M(\\epsilon,\\boldsymbol{x}')|$と表している。  \n",
    "デルタ関数を使って右辺の積分を実行すると、\n",
    "$$\n",
    "p(\\boldsymbol{x}')\\approx\\frac{k}{N|V_M(\\epsilon,\\boldsymbol{x}')|}\n",
    "$$\n",
    "となる。  \n",
    "$k$は領域$V_M(\\epsilon,\\boldsymbol{x}')$に含まれる$D$の要素の数である。  \n",
    "$M$次元空間における球の体積$V_M(\\epsilon,\\boldsymbol{x}')$は、半径$\\epsilon$の$M$乗に比例するから異常度は、\n",
    "$$\n",
    "a(\\boldsymbol{x}')=-\\ln{p(\\boldsymbol{x}'})=-\\ln{k}+M\\ln{\\epsilon}+(定数)\n",
    "$$\n",
    "となる。  \n",
    "$\\epsilon$を固定すれば$k$が小さい方が高い異常度を与え、$k$を固定すれば$\\epsilon$が大きい方が高い異常度を与える。  \n",
    "  \n",
    "近傍標本数$k$を定数として与えて異常判定を行う方法を**k近傍法**もしくは**k最近傍法**と呼ぶ。  \n",
    "逆に、近傍半径$\\epsilon$を定数として与えるやり方を**$\\epsilon$近傍法**と呼ぶ。"
   ]
  },
  {
   "cell_type": "markdown",
   "id": "original-asbestos",
   "metadata": {},
   "source": [
    "#### ラベル付きデータに対するk近傍法\n",
    "$M$次元空間で異常標本と正常標本の双方が明示的に与えらrている場合を考える。  \n",
    "この場合、ラベル$y$が1か0かに応じた条件付き分布を求める必要がある。  \n",
    "ある$\\boldsymbol{x}'$に対する異常度を計算するには、あらかじめ与えられた近傍数$k$の数だけ近傍標本を選び、ラベルを確認する。  \n",
    "異常ラベルの付いた近傍標本の数を$N^1(\\boldsymbol{x}')$とし、正常ラベルの付いた近傍標本の数を$N^0(\\boldsymbol{x}')$とすれば明らかに、 \n",
    "$$\n",
    "p(y=1|\\boldsymbol{x}',D)=\\frac{N^1(\\boldsymbol{x}')}{k}\\\\\n",
    "p(y=0|\\boldsymbol{x}',D)=\\frac{N^0(\\boldsymbol{x}')}{k}\n",
    "$$\n",
    "が成り立つ。  \n",
    "これにベイズの定理を適用して$\\boldsymbol{x}'$と$y$の立場を入れ替えると、異常度は、\n",
    "$$\n",
    "a(\\boldsymbol{x}')=\\ln{\\frac{p(\\boldsymbol{x}'|y=1,D)}{p(\\boldsymbol{x}'|y=0,D)}}=\\ln{\\frac{\\pi^0N^1(\\boldsymbol{x}')}{\\pi^1N^0(\\boldsymbol{x}')}}\n",
    "$$\n",
    "のように定義できる。  \n",
    "ただし、$\\pi^1$は全標本に対する異常標本の割合、$\\pi^0$は全標本に対する異常標本の割合である。  \n",
    "近傍法による異常検知のアルゴリズムを示す。  \n",
    ">- 訓練時　探索する$k$と$a_{th}$の候補を挙げておく  \n",
    "距離の定義を決める  \n",
    "それぞれの$(k,a_{th})$について以下を行い、最大のF値を与えるパラメータ$(k^*,a^*_{th})$を選択する  \n",
    ">1. $D$の中から標本$\\boldsymbol{x}^{(n)}$を選ぶ$(n=1,\\cdots,N)$\n",
    "2. 残りの$N-1$個の標本の中から、$\\boldsymbol{x}^{(n)}$に最も近い標本を$k$個選ぶ\n",
    "3. $a(\\boldsymbol{x}^{(n)})>a_{th}$なら$\\boldsymbol{x}^{(n)}$を異常と判定する\n",
    "4. $N$個の標本すべてに判定結果が出そろったら、正常標本精度と異常標本精度を計算し、F値を求める  \n",
    "それを$(k,a_{th})$の評価値とする\n",
    ">- 運用時\n",
    ">1. 新たな観測値$\\boldsymbol{x}'$に対して、最近傍$k^*$個を$D$から選ぶ\n",
    "2. $a(\\boldsymbol{x}'^{(n)})>a^*_{th}$なら$\\boldsymbol{x}'$を異常と判定する\n",
    "\n",
    "今回は、距離尺度としてユークリッド距離を使用する。"
   ]
  },
  {
   "cell_type": "code",
   "execution_count": 278,
   "id": "bizarre-sacramento",
   "metadata": {},
   "outputs": [
    {
     "name": "stdout",
     "output_type": "stream",
     "text": [
      "pi0:  0.8\n",
      "pi1:  0.2\n"
     ]
    }
   ],
   "source": [
    "def find_self_near_k(x1, k, id=None, self=True, target=None):\n",
    "    if self:\n",
    "        x2 = x1[id, :]\n",
    "        x = np.delete(x1, id, 0)\n",
    "    elif target is not None:\n",
    "        x2 = target\n",
    "        x = x1\n",
    "    dist = np.sum((x - x2)**2, axis=1)\n",
    "    ids = np.argsort(dist)[:k]\n",
    "    near = x[ids]\n",
    "    return near, ids\n",
    "\n",
    "x3 = np.concatenate([np.random.rand(100, 2),\n",
    "                    np.random.rand(25, 2)/4+0.4])\n",
    "\n",
    "y = np.array([0]*100+[1]*25)\n",
    "\n",
    "eps = 1e-3\n",
    "\n",
    "# 全標本に対する正常標本・異常標本の割合\n",
    "pi0 = np.sum(y==0)/len(y)\n",
    "pi1 = np.sum(y==1)/len(y)\n",
    "print('pi0: ',pi0)\n",
    "print('pi1: ',pi1)\n",
    "\n",
    "K = np.arange(1, 10)\n",
    "Ath = np.arange(-3, 3, 0.2)\n",
    "\n",
    "def calc_a(ath, ids):\n",
    "    N0 = np.sum(y[ids]==0)\n",
    "    N1 = np.sum(y[ids]==1)\n",
    "        \n",
    "    # 異常度\n",
    "    a = np.log((pi0*N1+eps)/(pi1*N0+eps))\n",
    "    y_pred = 1 if a > ath else 0\n",
    "    return y_pred\n",
    "    \n",
    "def calc_TPTF(k, ath):\n",
    "    y_pred = np.zeros(len(x3))\n",
    "    # 1対N-1でラベルの予測\n",
    "    for i in range(len(x3)):\n",
    "        near_point, ids = find_self_near_k(x3, k=k, id=i)\n",
    "        y_pred[i] = calc_a(ath, ids)\n",
    "        \n",
    "    # 正常標本精度と異常標本精とF値\n",
    "    TP = np.sum((y_pred==1)*y) / np.sum(y==1)\n",
    "    TF = np.sum((y_pred==0)*(1-y)) / np.sum(y==0)\n",
    "    \n",
    "    F = 2*TP*TF/(TP+TF)\n",
    "    return TP, TF, F, y_pred\n",
    "\n",
    "F = np.zeros((len(K), len(Ath)))\n",
    "for i, k in enumerate(K):\n",
    "    for j, a in enumerate(Ath):\n",
    "        F[i, j] = calc_TPTF(k, a)[2]"
   ]
  },
  {
   "cell_type": "code",
   "execution_count": 279,
   "id": "thirty-motorcycle",
   "metadata": {},
   "outputs": [
    {
     "name": "stdout",
     "output_type": "stream",
     "text": [
      "7\n",
      "1.0000000000000036\n"
     ]
    }
   ],
   "source": [
    "max_id = np.where(F==np.max(F))\n",
    "print(K[min(max_id[0])])\n",
    "print(Ath[max(max_id[1])])"
   ]
  },
  {
   "cell_type": "code",
   "execution_count": 285,
   "id": "difficult-attendance",
   "metadata": {},
   "outputs": [
    {
     "name": "stdout",
     "output_type": "stream",
     "text": [
      "[0.3 0.6] :  0\n",
      "[0.5 0.4] :  1\n"
     ]
    }
   ],
   "source": [
    "x4 = np.array([[0.3, 0.6],\n",
    "               [0.5, 0.4]])\n",
    "\n",
    "_, ids = find_self_near_k(x3, k=7, self=False, target=x4[0,:])\n",
    "y_pred= calc_a(ath=1, ids=ids)\n",
    "print(x4[0,:], \": \", y_pred)\n",
    "\n",
    "_, ids = find_self_near_k(x3, k=7, self=False, target=x4[1,:])\n",
    "y_pred = calc_a(ath=1, ids=ids)\n",
    "print(x4[1,:], \": \", y_pred)"
   ]
  },
  {
   "cell_type": "code",
   "execution_count": 286,
   "id": "racial-copying",
   "metadata": {},
   "outputs": [
    {
     "data": {
      "image/png": "[encoded data removed]",
      "text/plain": [
       "<Figure size 432x288 with 1 Axes>"
      ]
     },
     "metadata": {
      "needs_background": "light"
     },
     "output_type": "display_data"
    }
   ],
   "source": [
    "plt.scatter(x3[y==1,0], x3[y==1,1], color='red');\n",
    "plt.scatter(x3[y==0,0], x3[y==0,1], color='blue');\n",
    "\n",
    "plt.scatter(x4[:,0], x4[:,1], color='green', marker='x');"
   ]
  },
  {
   "cell_type": "markdown",
   "id": "collectible-transsexual",
   "metadata": {},
   "source": [
    "### 4.2 マージン最大化近傍法\n",
    "#### 計量学習\n",
    "異常か正常かのラベル付きデータ$D=\\{(\\boldsymbol{x}^{(n)}, y^{(n)}|n=1,\\cdots,N)\\}$があるとする。  \n",
    "ユークリッド距離の代わりに、$M×M$半正定値行列$A$を使って、2つの標本間の距離の2乗を\n",
    "$$\n",
    "d^2_A(\\boldsymbol{x}',\\boldsymbol{x}'')=(\\boldsymbol{x}'-\\boldsymbol{x}'')^TA(\\boldsymbol{x}'-\\boldsymbol{x}'')\n",
    "$$\n",
    "のように置く。  \n",
    "$A$をうまく決めれば、性能の向上が期待できる。  \n",
    "行列$A$をデータから学習する手法を一般に**計量学習(またはリーマン計量)**と呼ぶ。  \n",
    "Aが$M$次元単位行列$I_M$であればユークリッド距離の2乗と同じである。  \n",
    "  \n",
    "考えるべき点は\n",
    "- 同一ラベルに属する標本をなるべく密集させること\n",
    "- 異なるラベルに属する標本をできる限り引き離すこと\n",
    "\n",
    "の2点である。  \n",
    "  \n",
    "#### マージン最大化近傍法の目的関数\n",
    "この2つの条件を実装したものが、マージン最大化近傍法という計量学習の手法である。  "
   ]
  },
  {
   "cell_type": "code",
   "execution_count": 336,
   "id": "lesser-lincoln",
   "metadata": {},
   "outputs": [
    {
     "data": {
      "image/png": "[encoded data removed]",
      "text/plain": [
       "<Figure size 720x216 with 2 Axes>"
      ]
     },
     "metadata": {
      "needs_background": "light"
     },
     "output_type": "display_data"
    }
   ],
   "source": [
    "def make_ellipse(x, y, a, b, theta, phi):\n",
    "    e = np.concatenate([[x + a * np.cos(theta)], [y + b * np.sin(theta)]], axis=0)\n",
    "    return np.dot(np.matrix([[np.cos(phi), -np.sin(phi)], [np.sin(phi), np.cos(phi)]]), e).T\n",
    "\n",
    "\n",
    "p1 = np.array([[0, 0],\n",
    "               [0,0.5],\n",
    "               [0.5, 1],\n",
    "               [-0.5, -0.5]])\n",
    "p2 = np.array([[-0.3, 0.3],\n",
    "               [-0.2, -0.5]])\n",
    "\n",
    "c1 = make_circle(0, 0, r=np.sqrt(0.5**2+1), theta=theta)\n",
    "\n",
    "fig ,axes = plt.subplots(nrows=1, ncols=2, figsize=(5*2, 3*1))\n",
    "\n",
    "axes[0].scatter(p1[:,0], p1[:,1]);\n",
    "axes[0].scatter(p2[:,0], p2[:,1]);\n",
    "axes[0].plot(c1[:,0], c1[:,1], '--');\n",
    "\n",
    "\n",
    "c2 = make_ellipse(0, 0, 0.4, 1.2, theta=theta, phi=-np.pi/6)\n",
    "p2 = np.array([[-0.3, 0.5],\n",
    "               [-0.2, -1.2]])\n",
    "axes[1].scatter(p1[:,0], p1[:,1]);\n",
    "axes[1].scatter(p2[:,0], p2[:,1]);\n",
    "axes[1].plot(c2[:,0], c2[:,1], '--');"
   ]
  },
  {
   "cell_type": "markdown",
   "id": "christian-water",
   "metadata": {},
   "source": [
    "近傍数$k$をパラメータとして与え、$A=I_M$としたときの距離の定義を用いて、$D$に属する任意の標本$\\boldsymbol{x}^{(n)}$の、  \n",
    "同一ラベルに属する$k$個の正近傍標本を求める。  \n",
    "それを$N^{(n)}$と表し、**標的近傍**と呼ぶ。(図では$k=3$の場合を示している。)  \n",
    "同一ラベルの標本をなるべく密集させるという条件は、\n",
    "$$\n",
    "\\psi_1^{(n)}(A)=\\sum_{i\\in N^{(n)}}d^2_A(\\boldsymbol{x}^{(n)},\\boldsymbol{x}^{(i)})\n",
    "$$\n",
    "をなるべく小さくする、と表現できる。  \n",
    "一方、異なるラベルの標本が良く分離している条件は、図を見ながら考えると、\n",
    "$$\n",
    "(\\boldsymbol{x}^{(n)}から異なるラベルの標本までの2乗距離)>(\\boldsymbol{x}^{(n)}から同一ラベルの標本までの2乗距離)+c^2\n",
    "$$\n",
    "\n",
    "と考えることができる。  \n",
    "このとき、$c$は**マージン**と呼び、2乗距離が$A$に比例することから$c$は$A$のスケール因子に吸収させることが可能で、  \n",
    "一般性を失わずに$c=1$とすることができる。  \n",
    "全標本について満たすことは難しいが、「条件が破られている度合い」を\n",
    "$$\n",
    "\\psi_2^{(n)}(A)=\\sum_{j\\in N^{(n)}}\\sum_{l=1}^NI[y^{(l)}\\neq y^{(n)}]\\bigl[1+d^2_A(\\boldsymbol{x}^{(n)},\\boldsymbol{x}^{(j)})-d^2_A(\\boldsymbol{x}^{(n)},\\boldsymbol{x}^{(l)}) \\bigr]_+\n",
    "$$\n",
    "\n",
    "$I[・]$は、$[]$内の式が成り立つときに1、そうでないときは0となる指示関数である。  \n",
    "$[h]_+$は、$h\\geq0$であれば$h$、$h<0$であれば0となる関数である。  \n",
    "リーマン計量$A$を求めるための最適化問題は次のように書ける。\n",
    "$$\n",
    "\\Psi(A)=\\frac{1}{N}\\sum_{n=1}^N\\bigl[(1-\\mu)\\psi_1^{(n)}(A)+\\mu\\psi_2^{(n)}(A) \\bigr]→最小化\\\\\n",
    "subject\\ to　A:半正定値行列\n",
    "$$"
   ]
  },
  {
   "cell_type": "markdown",
   "id": "suited-detail",
   "metadata": {},
   "source": [
    "#### 勾配法による最適化\n",
    "マージン最大化近傍法の最適化問題は半正定値計画だるが、勾配法と固有値問題を組み合わせて解くことができる。  \n",
    "$\\Psi(A)$の最小化するための一般的な更新式は\n",
    "$$\n",
    "A←A-\\eta\\frac{\\partial \\Psi(A)}{\\partial A}\n",
    "$$\n",
    "\n",
    "となる。$\\eta$は勾配法のステップ幅である。  \n",
    "$[・]_+$は微分できない関数であるので、微分可能な目的関数に対する勾配法との違いを強調して**劣勾配法**と呼ぶ。  \n",
    "この場合、$[・]_+$の中に正の項しか入らないようにすれば、普通の勾配法と同様になる。  \n",
    "  \n",
    "今$N$次元空間における$i$方向の単位ベクトルを$\\boldsymbol{e}_i$とかき、これを使って\n",
    "$$\n",
    "C^{(i,j)}=(\\boldsymbol{e}_i-\\boldsymbol{e}_j)(\\boldsymbol{e}_i-\\boldsymbol{e}_j)^T\n",
    "$$\n",
    "という行列を定義する。  \n",
    "$$\n",
    "\\frac{\\partial \\Psi(A)}{\\partial A}=\\frac{1}{N}XCX^T\\\\\n",
    "C=\\sum_{n=1}^N\\sum_{j\\in N^{(n)}}\\bigl\\{(1-\\mu)C^{(n,j)}+\\mu\\sum_{l\\in N_{n,j}}(C^{(n,j)}-C^{(n,l)}) \\bigr\\}\n",
    "$$\n",
    "\n",
    "ただし、$X$はデータ行列で、$X=[\\boldsymbol{x}^{(1)},\\cdots,\\boldsymbol{x}^{(N)}]$のように定義される。  \n",
    "また、集合は$N_{n,j}$は、$\\boldsymbol{x}^{(n)}$および$\\boldsymbol{x}^{(j)}$と異なるラベルを持ち、  \n",
    "なおかつ$1+d_A^2(\\boldsymbol{x}^{(n)},\\boldsymbol{x}^{(j)})-d_A^2(\\boldsymbol{x}^{(n)},\\boldsymbol{x}^{(l)})>0$となる標本の添え字$l$の集合である。  \n",
    "集合$N^{(n)}$は$A$の更新により変わることはないが、$N_{n,j}$は$A$の更新のつど変化することに注意する。  \n",
    "$A$が更新されたら、固有値分解$A=U\\Gamma U^T$を行い、\n",
    "$$\n",
    "A←U[\\Gamma]_+ U^T\n",
    "$$\n",
    "のようにさらに$A$を更新する。  \n",
    "ここで、$[\\Gamma]_+$は負の固有値を0で置き換えることを意味する。  \n",
    "アルゴリズムを示す。  \n",
    "標本数の不均衡の是正は、**ブートストラップ法**により、  \n",
    "少数クラスの見かけ上の標本数を増やすか、多数クラスの標本を間引くかすることでおこなうのが一般的である。  \n",
    ">- 初期化:　近傍数$k$、係数$\\mu$、ステップ幅の初期値$\\eta_0$を与える  \n",
    "$A=I_M$と置く。各クラスの標本数の不均衡がある場合は前処理で是正しておく。  \n",
    ">- 反復:　次の更新式を実行する  \n",
    "実行のたびに収束を判定し、収束していない場合、ステップ幅$\\nu$を更新して繰り返す  \n",
    "$$\n",
    "A←A-\\eta\\frac{\\partial \\Psi(A)}{\\partial A}\\\\\n",
    "A=U\\Gamma U^T\\\\\n",
    "A←U[\\Gamma]_+ U^T\n",
    "$$\n",
    ">- 収束した$A^*$を出力する"
   ]
  },
  {
   "cell_type": "code",
   "execution_count": 626,
   "id": "rapid-steering",
   "metadata": {},
   "outputs": [],
   "source": [
    "min_count = min(np.bincount(y))\n",
    "\n",
    "y_bs = np.concatenate([[label]*min_count for label in np.unique(y)])\n",
    "x_bs = np.concatenate([x3[y==label][np.random.choice(np.arange(np.sum(y==label)), min_count)] for label in np.unique(y)])"
   ]
  },
  {
   "cell_type": "code",
   "execution_count": 629,
   "id": "moral-swaziland",
   "metadata": {},
   "outputs": [],
   "source": [
    "k = 5\n",
    "mu = 0.5\n",
    "eta = 0.1\n",
    "\n",
    "M = 2\n",
    "N = len(x_bs)\n",
    "\n",
    "A = np.eye(M)\n",
    "c = np.eye(N)\n",
    "c = np.matrix(c)\n",
    "def make_Cij(i, j):\n",
    "    return np.matmul(c[i].T, c[j])\n",
    "\n",
    "Cij = np.array([[make_Cij(i, j) for j in np.arange(N)] for i in np.arange(N)])"
   ]
  },
  {
   "cell_type": "code",
   "execution_count": 642,
   "id": "realistic-pixel",
   "metadata": {},
   "outputs": [],
   "source": [
    "def recalc_A(A):\n",
    "    x_bs = np.concatenate([x3[y==label][np.random.choice(np.arange(np.sum(y==label)), min_count)] for label in np.unique(y)])\n",
    "    d = np.array([[np.dot(np.dot((x_bs[i]-x_bs[j]), A), (x_bs[i]-x_bs[j]).T) for j in np.arange(N)] for i in np.arange(N)])\n",
    "    \n",
    "    C = np.matrix(np.zeros((N,N)))\n",
    "    for n in np.arange(N):\n",
    "        Nn = np.where(y_bs==y_bs[n])[0]\n",
    "        for j in Nn:\n",
    "            Nnj = np.where((d[n] < d[n][j]+1)&(d[n]!=0)&(y_bs!=y_bs[n]))[0]\n",
    "            C += (1-mu)*Cij[n,j] + mu * np.sum((Cij[n,j]-Cij[n,Nnj]), axis=0)\n",
    "\n",
    "    dpsi = np.dot(np.dot(x_bs.T, C), x_bs)/N\n",
    "\n",
    "    A -= dpsi\n",
    "\n",
    "    U = np.linalg.eig(A)[1]\n",
    "    G = np.linalg.eig(A)[0]\n",
    "    G=np.diag(G)\n",
    "    G[G<0]=0\n",
    "    A_new = U@G@np.linalg.inv(U)\n",
    "    return A_new"
   ]
  },
  {
   "cell_type": "code",
   "execution_count": 643,
   "id": "stuffed-belly",
   "metadata": {},
   "outputs": [
    {
     "name": "stdout",
     "output_type": "stream",
     "text": [
      "[[ 0.4789882  -0.43020908]\n",
      " [-0.43020908  0.38639753]]\n"
     ]
    }
   ],
   "source": [
    "A = np.eye(M)\n",
    "\n",
    "for i in np.arange(10):\n",
    "    A_new = recalc_A(A)\n",
    "    if np.linalg.det(A-A_new) < 0.01:\n",
    "        A = A_new\n",
    "        print(A)\n",
    "        break\n",
    "    A = A_new\n",
    "    print(A)"
   ]
  },
  {
   "cell_type": "code",
   "execution_count": 644,
   "id": "separate-galaxy",
   "metadata": {},
   "outputs": [],
   "source": [
    "def find_self_near_k2(x1, k, A, id=None, self=True, target=None):\n",
    "    if self:\n",
    "        x2 = x1[id, :]\n",
    "        x = np.delete(x1, id, 0)\n",
    "    elif target is not None:\n",
    "        x2 = target\n",
    "        x = x1\n",
    "    dist = np.sum(np.dot((x - x2), A) * (x - x2), axis=1)\n",
    "    ids = np.argsort(dist)[:k]\n",
    "    near = x[ids]\n",
    "    return near, ids"
   ]
  },
  {
   "cell_type": "code",
   "execution_count": 645,
   "id": "neither-current",
   "metadata": {},
   "outputs": [
    {
     "name": "stdout",
     "output_type": "stream",
     "text": [
      "pi0:  0.8\n",
      "pi1:  0.2\n"
     ]
    }
   ],
   "source": [
    "eps = 1e-3\n",
    "\n",
    "# 全標本に対する正常標本・異常標本の割合\n",
    "pi0 = np.sum(y==0)/len(y)\n",
    "pi1 = np.sum(y==1)/len(y)\n",
    "print('pi0: ',pi0)\n",
    "print('pi1: ',pi1)\n",
    "\n",
    "K = np.arange(1, 10)\n",
    "Ath = np.arange(-10, 10, 0.5)\n",
    "\n",
    "def calc_a(ath, ids):\n",
    "    N0 = np.sum(y[ids]==0)\n",
    "    N1 = np.sum(y[ids]==1)\n",
    "        \n",
    "    # 異常度\n",
    "    a = np.log((pi0*N1+eps)/(pi1*N0+eps))\n",
    "    y_pred = 1 if a > ath else 0\n",
    "    return y_pred\n",
    "    \n",
    "def calc_TPTF(k, ath):\n",
    "    y_pred = np.zeros(len(x3))\n",
    "    # 1対N-1でラベルの予測\n",
    "    for i in range(len(x3)):\n",
    "        near_point, ids = find_self_near_k2(x3, k=k, id=i, A=A)\n",
    "        y_pred[i] = calc_a(ath, ids)\n",
    "        \n",
    "    # 正常標本精度と異常標本精とF値\n",
    "    TP = np.sum((y_pred==1)*y) / np.sum(y==1)\n",
    "    TF = np.sum((y_pred==0)*(1-y)) / np.sum(y==0)\n",
    "    \n",
    "    F = 2*TP*TF/(TP+TF)\n",
    "    return TP, TF, F, y_pred\n",
    "\n",
    "F = np.zeros((len(K), len(Ath)))\n",
    "for i, k in enumerate(K):\n",
    "    for j, a in enumerate(Ath):\n",
    "        F[i, j] = calc_TPTF(k, a)[2]"
   ]
  },
  {
   "cell_type": "code",
   "execution_count": 646,
   "id": "adult-excuse",
   "metadata": {},
   "outputs": [
    {
     "name": "stdout",
     "output_type": "stream",
     "text": [
      "9\n",
      "0.5\n"
     ]
    }
   ],
   "source": [
    "max_id = np.where(F==np.max(F))\n",
    "print(K[min(max_id[0])])\n",
    "print(Ath[max(max_id[1])])\n",
    "\n",
    "k = K[min(max_id[0])]\n",
    "ath = Ath[max(max_id[1])]"
   ]
  },
  {
   "cell_type": "code",
   "execution_count": 647,
   "id": "otherwise-criminal",
   "metadata": {},
   "outputs": [
    {
     "name": "stdout",
     "output_type": "stream",
     "text": [
      "[0.3 0.6] :  0\n",
      "[0.5 0.4] :  0\n",
      "[0.55 0.5 ] :  1\n"
     ]
    }
   ],
   "source": [
    "x4 = np.array([[0.3, 0.6],\n",
    "               [0.5, 0.4],\n",
    "               [0.55, 0.5]])\n",
    "\n",
    "_, ids = find_self_near_k2(x3, k=k, self=False, target=x4[0,:], A=A)\n",
    "y_pred= calc_a(ath=ath, ids=ids)\n",
    "print(x4[0,:], \": \", y_pred)\n",
    "\n",
    "_, ids = find_self_near_k2(x3, k=k, self=False, target=x4[1,:], A=A)\n",
    "y_pred = calc_a(ath=ath, ids=ids)\n",
    "print(x4[1,:], \": \", y_pred)\n",
    "\n",
    "_, ids = find_self_near_k2(x3, k=k, self=False, target=x4[2,:], A=A)\n",
    "y_pred = calc_a(ath=ath, ids=ids)\n",
    "print(x4[2,:], \": \", y_pred)"
   ]
  },
  {
   "cell_type": "code",
   "execution_count": 648,
   "id": "flush-morocco",
   "metadata": {},
   "outputs": [
    {
     "data": {
      "image/png": "[encoded data removed]",
      "text/plain": [
       "<Figure size 432x288 with 1 Axes>"
      ]
     },
     "metadata": {
      "needs_background": "light"
     },
     "output_type": "display_data"
    }
   ],
   "source": [
    "plt.scatter(x3[y==1,0], x3[y==1,1], color='red');\n",
    "plt.scatter(x3[y==0,0], x3[y==0,1], color='blue');\n",
    "\n",
    "plt.scatter(x4[:,0], x4[:,1], color='green', marker='x');"
   ]
  },
  {
   "cell_type": "code",
   "execution_count": null,
   "id": "earned-lying",
   "metadata": {},
   "outputs": [],
   "source": []
  }
 ],
 "metadata": {
  "kernelspec": {
   "display_name": "Python 3",
   "language": "python",
   "name": "python3"
  },
  "language_info": {
   "codemirror_mode": {
    "name": "ipython",
    "version": 3
   },
   "file_extension": ".py",
   "mimetype": "text/x-python",
   "name": "python",
   "nbconvert_exporter": "python",
   "pygments_lexer": "ipython3",
   "version": "3.8.5"
  }
 },
 "nbformat": 4,
 "nbformat_minor": 5
}
