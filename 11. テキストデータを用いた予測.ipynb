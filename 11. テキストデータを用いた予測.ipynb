{
 "cells": [
  {
   "cell_type": "markdown",
   "id": "inclusive-stability",
   "metadata": {},
   "source": [
    "## 11. テキストデータを用いた予測\n",
    "### 11.1 テキストの経時的分析\n",
    "営業日報、アンケート調査など情報システムに記録されるテキストデータは、経時的に並べることができる。  \n",
    "このようなデータを分析する際には、時間と共になにがどのように変化しているかを分析する必要がある。  \n",
    "例えば、経済情報に関するテキストデータを説明変数とし、  \n",
    "債券や経済指標など経時的な量的データを目的変数として回帰分析を行うことも可能である。  \n",
    "ここでは、テキストの経時的分析の例として文章の執筆時期の推定問題を取り上げ、その分析方法を説明する。"
   ]
  },
  {
   "cell_type": "markdown",
   "id": "peripheral-adapter",
   "metadata": {},
   "source": [
    "### 11.2 重回帰分析の定式\n",
    "回帰分析は線形回帰と非線形回帰に分けられr、説明変数が2つ以上の場合は重回帰と呼ぶ。\n",
    "#### 重回帰分析の定式\n",
    "重回帰分析では、観測データを次の式で表す。  \n",
    "複数の説明変数は$x_1,x_2,\\cdots,x_p$で表され、$\\beta_1,\\beta_2,\\cdots,\\beta_p$はそれぞれの変数に対する重みであり、$\\epsilon_i$は次に示す実測値$y_i$と予測値$\\hat{y}_i$の差である。  \n",
    "$$\n",
    "y_i=\\beta_0+\\beta_1x_1+\\beta_2x_2+\\cdots+\\beta_px_p+\\epsilon_i\n",
    "$$\n",
    "回帰分析で求める回帰式は、次に示すような近似式である。\n",
    "$$\n",
    "\\hat{y}_i=\\beta_0+\\beta_1x_1+\\beta_2x_2+\\cdots+\\beta_px_p\n",
    "$$\n",
    "回帰分析では、得られたデータからもっとも適切と思われる係数$\\beta_i$を求めることが主な目的である。  \n",
    "これらは、実測値$y_i$と回帰式による予測値$\\hat{y}_i$との差の2乗を最小二乗法で求めることができる。  \n",
    "$$\n",
    "\\beta=\\begin{bmatrix}\n",
    "\\beta_0\\\\\n",
    "\\beta_1\\\\\n",
    "\\vdots\\\\\n",
    "\\beta_p\n",
    "\\end{bmatrix},\\ \n",
    "Y=\\begin{bmatrix}\n",
    "y_1\\\\\n",
    "y_2\\\\\n",
    "\\vdots\\\\\n",
    "y_n\n",
    "\\end{bmatrix},\\ \n",
    "X=\\begin{bmatrix}\n",
    "1&x_{11}&\\cdots&x_{1p}\\\\\n",
    "1&x_{21}&\\cdots&x_{2p}\\\\\n",
    "\\vdots&\\vdots&&\\vdots\\\\\n",
    "1&x_{n1}&\\cdots&x_{np}\n",
    "\\end{bmatrix},\\ \n",
    "E=\\begin{bmatrix}\n",
    "\\epsilon_1&0&\\cdots&0\\\\\n",
    "0&\\epsilon_2&\\cdots&0\\\\\n",
    "\\vdots&\\vdots&&\\vdots\\\\\n",
    "0&0&\\cdots&\\epsilon_n\n",
    "\\end{bmatrix}\n",
    "$$\n",
    "データの真のモデルは$Y=X\\beta+E$、その回帰式は$\\hat{Y}=X\\beta$で表すことができる。  \n",
    "係数の推測値は$\\beta=(X^TX)^{-1}X^TY$となる。  \n",
    "#### 変数の選択\n",
    "できるだけ少ない説明変数を用いてシンプルな式を構築したほうが良い。  \n",
    "推測された係数の検定統計量を用いてその寄与度を評価することができる。  \n",
    "推測された係数の$t$値が小さく、その$t$値に対応する$p$値が大きいほど寄与の度合が低い。  \n",
    "**変数の選択方法**としては、変数増加法、変数減少法、変数増減法などがある。  \n",
    "変数増加法は、寄与度がもっとも高い変数から順次、変数を増やしながら最善と評価される回帰式を構築し、  \n",
    "変数減少法は寄与度がもっとも低い変数から順に削除しながら最善と評価される回帰式を構築する。  \n",
    "変数増減法(ステップワイズ法)は、変数の削除と追加を繰り返しながら最善と評価される回帰式を構築する。  \n",
    "  \n",
    "回帰式を評価する指標としては重相関係数、補正済み重相関係数、回帰係数の検定統計量$F$値などがある。  \n",
    "他にも、赤池情報量基準量(AIC)があり、次のように定義されている。\n",
    "$$\n",
    "AIC=-2×(モデルの最大対数尤度)+2×(モデルのパラメータ数)\n",
    "$$\n",
    "AICの値が小さいモデルが良いモデルであると評価する。"
   ]
  },
  {
   "cell_type": "markdown",
   "id": "charitable-dallas",
   "metadata": {},
   "source": [
    "#### 文学作品の執筆時期の推定\n",
    "文章の執筆時期の推定について、芥川龍之介の作品を用いて分析してみる。  \n",
    "クリーニングと形態素解析を行い、助詞のみを集計したデータを用いる。  \n",
    "数値は、各助詞がその作品の中の助詞全体に占める相対頻度である。"
   ]
  },
  {
   "cell_type": "code",
   "execution_count": 3,
   "id": "distinct-pressing",
   "metadata": {},
   "outputs": [
    {
     "data": {
      "text/html": [
       "<div>\n",
       "<style scoped>\n",
       "    .dataframe tbody tr th:only-of-type {\n",
       "        vertical-align: middle;\n",
       "    }\n",
       "\n",
       "    .dataframe tbody tr th {\n",
       "        vertical-align: top;\n",
       "    }\n",
       "\n",
       "    .dataframe thead th {\n",
       "        text-align: right;\n",
       "    }\n",
       "</style>\n",
       "<table border=\"1\" class=\"dataframe\">\n",
       "  <thead>\n",
       "    <tr style=\"text-align: right;\">\n",
       "      <th></th>\n",
       "      <th>y</th>\n",
       "      <th>の.接続助詞.</th>\n",
       "      <th>を.格助詞.</th>\n",
       "      <th>は.副助詞.</th>\n",
       "      <th>に.格助詞.</th>\n",
       "      <th>と.格助詞.</th>\n",
       "      <th>が.格助詞.</th>\n",
       "      <th>も.副助詞.</th>\n",
       "      <th>の.格助詞.</th>\n",
       "      <th>へ.格助詞.</th>\n",
       "      <th>...</th>\n",
       "      <th>だの.接続助詞.</th>\n",
       "      <th>と.接続助詞.</th>\n",
       "      <th>か.終助詞.</th>\n",
       "      <th>より.接続助詞.</th>\n",
       "      <th>しか.副助詞.</th>\n",
       "      <th>まで.接続助詞.</th>\n",
       "      <th>のみ.副助詞.</th>\n",
       "      <th>なら.副助詞.</th>\n",
       "      <th>やら.接続助詞.</th>\n",
       "      <th>OTHERS</th>\n",
       "    </tr>\n",
       "  </thead>\n",
       "  <tbody>\n",
       "    <tr>\n",
       "      <th>T03-04老年</th>\n",
       "      <td>1914.31</td>\n",
       "      <td>0.224</td>\n",
       "      <td>0.106</td>\n",
       "      <td>0.088</td>\n",
       "      <td>0.125</td>\n",
       "      <td>0.108</td>\n",
       "      <td>0.096</td>\n",
       "      <td>0.053</td>\n",
       "      <td>0.029</td>\n",
       "      <td>0.018</td>\n",
       "      <td>...</td>\n",
       "      <td>0.000</td>\n",
       "      <td>0.002</td>\n",
       "      <td>0.0</td>\n",
       "      <td>0.000</td>\n",
       "      <td>0.000</td>\n",
       "      <td>0.000</td>\n",
       "      <td>0.000</td>\n",
       "      <td>0.002</td>\n",
       "      <td>0.000</td>\n",
       "      <td>0.006</td>\n",
       "    </tr>\n",
       "    <tr>\n",
       "      <th>T03-12ひょっとこ</th>\n",
       "      <td>1914.92</td>\n",
       "      <td>0.167</td>\n",
       "      <td>0.129</td>\n",
       "      <td>0.110</td>\n",
       "      <td>0.098</td>\n",
       "      <td>0.116</td>\n",
       "      <td>0.103</td>\n",
       "      <td>0.040</td>\n",
       "      <td>0.017</td>\n",
       "      <td>0.022</td>\n",
       "      <td>...</td>\n",
       "      <td>0.000</td>\n",
       "      <td>0.001</td>\n",
       "      <td>0.0</td>\n",
       "      <td>0.001</td>\n",
       "      <td>0.003</td>\n",
       "      <td>0.001</td>\n",
       "      <td>0.000</td>\n",
       "      <td>0.001</td>\n",
       "      <td>0.002</td>\n",
       "      <td>0.000</td>\n",
       "    </tr>\n",
       "    <tr>\n",
       "      <th>T04-08松江印象記</th>\n",
       "      <td>1915.62</td>\n",
       "      <td>0.206</td>\n",
       "      <td>0.173</td>\n",
       "      <td>0.120</td>\n",
       "      <td>0.165</td>\n",
       "      <td>0.122</td>\n",
       "      <td>0.059</td>\n",
       "      <td>0.035</td>\n",
       "      <td>0.037</td>\n",
       "      <td>0.010</td>\n",
       "      <td>...</td>\n",
       "      <td>0.000</td>\n",
       "      <td>0.002</td>\n",
       "      <td>0.0</td>\n",
       "      <td>0.000</td>\n",
       "      <td>0.000</td>\n",
       "      <td>0.008</td>\n",
       "      <td>0.006</td>\n",
       "      <td>0.000</td>\n",
       "      <td>0.000</td>\n",
       "      <td>0.010</td>\n",
       "    </tr>\n",
       "    <tr>\n",
       "      <th>T04-09羅生門</th>\n",
       "      <td>1915.69</td>\n",
       "      <td>0.181</td>\n",
       "      <td>0.163</td>\n",
       "      <td>0.119</td>\n",
       "      <td>0.113</td>\n",
       "      <td>0.080</td>\n",
       "      <td>0.080</td>\n",
       "      <td>0.031</td>\n",
       "      <td>0.037</td>\n",
       "      <td>0.026</td>\n",
       "      <td>...</td>\n",
       "      <td>0.000</td>\n",
       "      <td>0.004</td>\n",
       "      <td>0.0</td>\n",
       "      <td>0.001</td>\n",
       "      <td>0.000</td>\n",
       "      <td>0.000</td>\n",
       "      <td>0.000</td>\n",
       "      <td>0.002</td>\n",
       "      <td>0.000</td>\n",
       "      <td>0.000</td>\n",
       "    </tr>\n",
       "    <tr>\n",
       "      <th>T05-01鼻</th>\n",
       "      <td>1916.08</td>\n",
       "      <td>0.158</td>\n",
       "      <td>0.154</td>\n",
       "      <td>0.146</td>\n",
       "      <td>0.114</td>\n",
       "      <td>0.069</td>\n",
       "      <td>0.087</td>\n",
       "      <td>0.048</td>\n",
       "      <td>0.030</td>\n",
       "      <td>0.021</td>\n",
       "      <td>...</td>\n",
       "      <td>0.001</td>\n",
       "      <td>0.000</td>\n",
       "      <td>0.0</td>\n",
       "      <td>0.001</td>\n",
       "      <td>0.000</td>\n",
       "      <td>0.000</td>\n",
       "      <td>0.001</td>\n",
       "      <td>0.000</td>\n",
       "      <td>0.000</td>\n",
       "      <td>0.002</td>\n",
       "    </tr>\n",
       "    <tr>\n",
       "      <th>...</th>\n",
       "      <td>...</td>\n",
       "      <td>...</td>\n",
       "      <td>...</td>\n",
       "      <td>...</td>\n",
       "      <td>...</td>\n",
       "      <td>...</td>\n",
       "      <td>...</td>\n",
       "      <td>...</td>\n",
       "      <td>...</td>\n",
       "      <td>...</td>\n",
       "      <td>...</td>\n",
       "      <td>...</td>\n",
       "      <td>...</td>\n",
       "      <td>...</td>\n",
       "      <td>...</td>\n",
       "      <td>...</td>\n",
       "      <td>...</td>\n",
       "      <td>...</td>\n",
       "      <td>...</td>\n",
       "      <td>...</td>\n",
       "      <td>...</td>\n",
       "    </tr>\n",
       "    <tr>\n",
       "      <th>S2-06古千屋</th>\n",
       "      <td>1927.46</td>\n",
       "      <td>0.238</td>\n",
       "      <td>0.163</td>\n",
       "      <td>0.174</td>\n",
       "      <td>0.192</td>\n",
       "      <td>0.032</td>\n",
       "      <td>0.006</td>\n",
       "      <td>0.044</td>\n",
       "      <td>0.047</td>\n",
       "      <td>0.020</td>\n",
       "      <td>...</td>\n",
       "      <td>0.000</td>\n",
       "      <td>0.000</td>\n",
       "      <td>0.0</td>\n",
       "      <td>0.000</td>\n",
       "      <td>0.000</td>\n",
       "      <td>0.003</td>\n",
       "      <td>0.000</td>\n",
       "      <td>0.000</td>\n",
       "      <td>0.000</td>\n",
       "      <td>0.000</td>\n",
       "    </tr>\n",
       "    <tr>\n",
       "      <th>S2-07或阿呆の一生</th>\n",
       "      <td>1927.54</td>\n",
       "      <td>0.227</td>\n",
       "      <td>0.166</td>\n",
       "      <td>0.202</td>\n",
       "      <td>0.158</td>\n",
       "      <td>0.037</td>\n",
       "      <td>0.012</td>\n",
       "      <td>0.039</td>\n",
       "      <td>0.036</td>\n",
       "      <td>0.014</td>\n",
       "      <td>...</td>\n",
       "      <td>0.001</td>\n",
       "      <td>0.000</td>\n",
       "      <td>0.0</td>\n",
       "      <td>0.001</td>\n",
       "      <td>0.000</td>\n",
       "      <td>0.000</td>\n",
       "      <td>0.000</td>\n",
       "      <td>0.000</td>\n",
       "      <td>0.000</td>\n",
       "      <td>0.000</td>\n",
       "    </tr>\n",
       "    <tr>\n",
       "      <th>S2-08冬</th>\n",
       "      <td>1927.62</td>\n",
       "      <td>0.198</td>\n",
       "      <td>0.156</td>\n",
       "      <td>0.175</td>\n",
       "      <td>0.193</td>\n",
       "      <td>0.041</td>\n",
       "      <td>0.014</td>\n",
       "      <td>0.051</td>\n",
       "      <td>0.037</td>\n",
       "      <td>0.026</td>\n",
       "      <td>...</td>\n",
       "      <td>0.000</td>\n",
       "      <td>0.000</td>\n",
       "      <td>0.0</td>\n",
       "      <td>0.001</td>\n",
       "      <td>0.000</td>\n",
       "      <td>0.001</td>\n",
       "      <td>0.000</td>\n",
       "      <td>0.000</td>\n",
       "      <td>0.000</td>\n",
       "      <td>0.001</td>\n",
       "    </tr>\n",
       "    <tr>\n",
       "      <th>S2-08西方の人</th>\n",
       "      <td>1927.62</td>\n",
       "      <td>0.230</td>\n",
       "      <td>0.142</td>\n",
       "      <td>0.209</td>\n",
       "      <td>0.171</td>\n",
       "      <td>0.041</td>\n",
       "      <td>0.000</td>\n",
       "      <td>0.060</td>\n",
       "      <td>0.030</td>\n",
       "      <td>0.005</td>\n",
       "      <td>...</td>\n",
       "      <td>0.000</td>\n",
       "      <td>0.000</td>\n",
       "      <td>0.0</td>\n",
       "      <td>0.001</td>\n",
       "      <td>0.000</td>\n",
       "      <td>0.000</td>\n",
       "      <td>0.000</td>\n",
       "      <td>0.001</td>\n",
       "      <td>0.000</td>\n",
       "      <td>0.001</td>\n",
       "    </tr>\n",
       "    <tr>\n",
       "      <th>S2-11続西方の人</th>\n",
       "      <td>1927.85</td>\n",
       "      <td>0.209</td>\n",
       "      <td>0.145</td>\n",
       "      <td>0.209</td>\n",
       "      <td>0.171</td>\n",
       "      <td>0.048</td>\n",
       "      <td>0.001</td>\n",
       "      <td>0.069</td>\n",
       "      <td>0.052</td>\n",
       "      <td>0.002</td>\n",
       "      <td>...</td>\n",
       "      <td>0.002</td>\n",
       "      <td>0.000</td>\n",
       "      <td>0.0</td>\n",
       "      <td>0.001</td>\n",
       "      <td>0.000</td>\n",
       "      <td>0.000</td>\n",
       "      <td>0.000</td>\n",
       "      <td>0.000</td>\n",
       "      <td>0.000</td>\n",
       "      <td>0.000</td>\n",
       "    </tr>\n",
       "  </tbody>\n",
       "</table>\n",
       "<p>113 rows × 41 columns</p>\n",
       "</div>"
      ],
      "text/plain": [
       "                   y  の.接続助詞.  を.格助詞.  は.副助詞.  に.格助詞.  と.格助詞.  が.格助詞.  も.副助詞.  \\\n",
       "T03-04老年     1914.31    0.224   0.106   0.088   0.125   0.108   0.096   0.053   \n",
       "T03-12ひょっとこ  1914.92    0.167   0.129   0.110   0.098   0.116   0.103   0.040   \n",
       "T04-08松江印象記  1915.62    0.206   0.173   0.120   0.165   0.122   0.059   0.035   \n",
       "T04-09羅生門    1915.69    0.181   0.163   0.119   0.113   0.080   0.080   0.031   \n",
       "T05-01鼻      1916.08    0.158   0.154   0.146   0.114   0.069   0.087   0.048   \n",
       "...              ...      ...     ...     ...     ...     ...     ...     ...   \n",
       "S2-06古千屋     1927.46    0.238   0.163   0.174   0.192   0.032   0.006   0.044   \n",
       "S2-07或阿呆の一生  1927.54    0.227   0.166   0.202   0.158   0.037   0.012   0.039   \n",
       "S2-08冬       1927.62    0.198   0.156   0.175   0.193   0.041   0.014   0.051   \n",
       "S2-08西方の人    1927.62    0.230   0.142   0.209   0.171   0.041   0.000   0.060   \n",
       "S2-11続西方の人   1927.85    0.209   0.145   0.209   0.171   0.048   0.001   0.069   \n",
       "\n",
       "             の.格助詞.  へ.格助詞.  ...  だの.接続助詞.  と.接続助詞.  か.終助詞.  より.接続助詞.  \\\n",
       "T03-04老年      0.029   0.018  ...     0.000    0.002     0.0     0.000   \n",
       "T03-12ひょっとこ   0.017   0.022  ...     0.000    0.001     0.0     0.001   \n",
       "T04-08松江印象記   0.037   0.010  ...     0.000    0.002     0.0     0.000   \n",
       "T04-09羅生門     0.037   0.026  ...     0.000    0.004     0.0     0.001   \n",
       "T05-01鼻       0.030   0.021  ...     0.001    0.000     0.0     0.001   \n",
       "...             ...     ...  ...       ...      ...     ...       ...   \n",
       "S2-06古千屋      0.047   0.020  ...     0.000    0.000     0.0     0.000   \n",
       "S2-07或阿呆の一生   0.036   0.014  ...     0.001    0.000     0.0     0.001   \n",
       "S2-08冬        0.037   0.026  ...     0.000    0.000     0.0     0.001   \n",
       "S2-08西方の人     0.030   0.005  ...     0.000    0.000     0.0     0.001   \n",
       "S2-11続西方の人    0.052   0.002  ...     0.002    0.000     0.0     0.001   \n",
       "\n",
       "             しか.副助詞.  まで.接続助詞.  のみ.副助詞.  なら.副助詞.  やら.接続助詞.  OTHERS  \n",
       "T03-04老年       0.000     0.000    0.000    0.002     0.000   0.006  \n",
       "T03-12ひょっとこ    0.003     0.001    0.000    0.001     0.002   0.000  \n",
       "T04-08松江印象記    0.000     0.008    0.006    0.000     0.000   0.010  \n",
       "T04-09羅生門      0.000     0.000    0.000    0.002     0.000   0.000  \n",
       "T05-01鼻        0.000     0.000    0.001    0.000     0.000   0.002  \n",
       "...              ...       ...      ...      ...       ...     ...  \n",
       "S2-06古千屋       0.000     0.003    0.000    0.000     0.000   0.000  \n",
       "S2-07或阿呆の一生    0.000     0.000    0.000    0.000     0.000   0.000  \n",
       "S2-08冬         0.000     0.001    0.000    0.000     0.000   0.001  \n",
       "S2-08西方の人      0.000     0.000    0.000    0.001     0.000   0.001  \n",
       "S2-11続西方の人     0.000     0.000    0.000    0.000     0.000   0.000  \n",
       "\n",
       "[113 rows x 41 columns]"
      ]
     },
     "execution_count": 3,
     "metadata": {},
     "output_type": "execute_result"
    }
   ],
   "source": [
    "import pandas as pd\n",
    "\n",
    "d1 = pd.read_csv('study/参考書/テキストアナリティクス/JYO113.csv', encoding='shift-jis', index_col=0)\n",
    "d1"
   ]
  },
  {
   "cell_type": "code",
   "execution_count": 8,
   "id": "satisfactory-monitoring",
   "metadata": {},
   "outputs": [
    {
     "data": {
      "text/plain": [
       "RFECV(cv=10, estimator=LinearRegression(), n_jobs=-1, scoring='r2')"
      ]
     },
     "execution_count": 8,
     "metadata": {},
     "output_type": "execute_result"
    }
   ],
   "source": [
    "from sklearn.linear_model import LinearRegression\n",
    "from sklearn.feature_selection import RFECV, SequentialFeatureSelector\n",
    "\n",
    "# 特徴量選定\n",
    "rfecv = RFECV(\n",
    "    estimator=LinearRegression(),\n",
    "    n_jobs=-1,\n",
    "    scoring=\"r2\",\n",
    "    cv=10,\n",
    ")\n",
    "rfecv.fit(d1.iloc[:,1:], d1.iloc[:,0])"
   ]
  },
  {
   "cell_type": "code",
   "execution_count": 13,
   "id": "understanding-county",
   "metadata": {},
   "outputs": [
    {
     "name": "stdout",
     "output_type": "stream",
     "text": [
      "0.9342915045608673\n"
     ]
    }
   ],
   "source": [
    "from sklearn.metrics import r2_score\n",
    "\n",
    "pred = rfecv.predict(d1.iloc[:,1:])\n",
    "print(r2_score(d1.iloc[:,0], pred))"
   ]
  },
  {
   "cell_type": "code",
   "execution_count": 27,
   "id": "functional-bryan",
   "metadata": {},
   "outputs": [
    {
     "name": "stdout",
     "output_type": "stream",
     "text": [
      "           False: dropped  ranking\n",
      "より.格助詞.              True        1\n",
      "だの.接続助詞.             True        1\n",
      "なり.接続助詞.             True        1\n",
      "など.副助詞.              True        1\n",
      "より.接続助詞.             True        1\n",
      "又.接続助詞.              True        1\n",
      "さえ.副助詞.              True        1\n",
      "また.接続助詞.             True        1\n",
      "まま.接続助詞.             True        1\n",
      "やら.接続助詞.             True        1\n",
      "だけ.副助詞.              True        1\n",
      "でも.副助詞.              True        1\n",
      "から.格助詞.              True        1\n",
      "に.接続助詞.              True        1\n",
      "も.副助詞.               True        1\n",
      "を.格助詞.               True        1\n",
      "なら.副助詞.              True        1\n",
      "のみ.副助詞.              True        1\n",
      "と.格助詞.               True        1\n",
      "が.格助詞.               True        1\n",
      "で.格助詞.               True        1\n",
      "か.終助詞.               True        1\n",
      "まで.接続助詞.             True        1\n",
      "ながら.接続助詞.            True        1\n",
      "が.接続助詞.             False        2\n",
      "や.接続助詞.             False        3\n",
      "から.接続助詞.            False        4\n",
      "ばかり.副助詞.            False        5\n",
      "かも.接続助詞.            False        6\n",
      "と.接続助詞.             False        7\n",
      "まで.格助詞.             False        8\n",
      "の.格助詞.              False        9\n",
      "しか.副助詞.             False       10\n",
      "OTHERS              False       11\n",
      "へ.格助詞.              False       12\n",
      "の.接続助詞.             False       13\n",
      "って.副助詞.             False       14\n",
      "か.接続助詞.             False       15\n",
      "は.副助詞.              False       16\n",
      "に.格助詞.              False       17\n",
      "Index(['を.格助詞.', 'と.格助詞.', 'が.格助詞.', 'も.副助詞.', 'ながら.接続助詞.', 'で.格助詞.',\n",
      "       'から.格助詞.', 'でも.副助詞.', 'に.接続助詞.', 'だけ.副助詞.', 'より.格助詞.', 'まま.接続助詞.',\n",
      "       'また.接続助詞.', 'さえ.副助詞.', '又.接続助詞.', 'など.副助詞.', 'なり.接続助詞.', 'だの.接続助詞.',\n",
      "       'か.終助詞.', 'より.接続助詞.', 'まで.接続助詞.', 'のみ.副助詞.', 'なら.副助詞.', 'やら.接続助詞.'],\n",
      "      dtype='object')\n"
     ]
    }
   ],
   "source": [
    "result = pd.DataFrame(rfecv.get_support(), index=d1.columns.values[1:], columns=['False: dropped'])\n",
    "result['ranking'] = rfecv.ranking_\n",
    "result = result.sort_values('ranking')\n",
    "print(result)\n",
    "print(d1.columns[1:][rfecv.support_])"
   ]
  },
  {
   "cell_type": "code",
   "execution_count": 29,
   "id": "afraid-teaching",
   "metadata": {},
   "outputs": [
    {
     "name": "stdout",
     "output_type": "stream",
     "text": [
      "0.9342915045608673\n"
     ]
    }
   ],
   "source": [
    "reg1 = LinearRegression().fit(rfecv.transform(d1.iloc[:,1:]), d1.iloc[:,0])\n",
    "\n",
    "pred = reg1.predict(rfecv.transform(d1.iloc[:,1:]))\n",
    "print(r2_score(d1.iloc[:,0], pred))"
   ]
  },
  {
   "cell_type": "markdown",
   "id": "lucky-bennett",
   "metadata": {},
   "source": [
    "このような予測分析を行う際に重要なのは、作成した回帰モデルにおいて目的変数に大きく影響を与えている説明変数が何かを分析することである。  "
   ]
  },
  {
   "cell_type": "code",
   "execution_count": 37,
   "id": "prime-tourism",
   "metadata": {},
   "outputs": [
    {
     "data": {
      "text/html": [
       "<div>\n",
       "<style scoped>\n",
       "    .dataframe tbody tr th:only-of-type {\n",
       "        vertical-align: middle;\n",
       "    }\n",
       "\n",
       "    .dataframe tbody tr th {\n",
       "        vertical-align: top;\n",
       "    }\n",
       "\n",
       "    .dataframe thead th {\n",
       "        text-align: right;\n",
       "    }\n",
       "</style>\n",
       "<table border=\"1\" class=\"dataframe\">\n",
       "  <thead>\n",
       "    <tr style=\"text-align: right;\">\n",
       "      <th></th>\n",
       "      <th>feature</th>\n",
       "      <th>weight</th>\n",
       "    </tr>\n",
       "  </thead>\n",
       "  <tbody>\n",
       "    <tr>\n",
       "      <th>0</th>\n",
       "      <td>のみ.副助詞.</td>\n",
       "      <td>-556.737406</td>\n",
       "    </tr>\n",
       "    <tr>\n",
       "      <th>1</th>\n",
       "      <td>さえ.副助詞.</td>\n",
       "      <td>-80.534328</td>\n",
       "    </tr>\n",
       "    <tr>\n",
       "      <th>2</th>\n",
       "      <td>か.終助詞.</td>\n",
       "      <td>-71.678936</td>\n",
       "    </tr>\n",
       "    <tr>\n",
       "      <th>3</th>\n",
       "      <td>やら.接続助詞.</td>\n",
       "      <td>-71.366051</td>\n",
       "    </tr>\n",
       "    <tr>\n",
       "      <th>4</th>\n",
       "      <td>より.接続助詞.</td>\n",
       "      <td>-62.227616</td>\n",
       "    </tr>\n",
       "    <tr>\n",
       "      <th>5</th>\n",
       "      <td>から.格助詞.</td>\n",
       "      <td>-56.980995</td>\n",
       "    </tr>\n",
       "    <tr>\n",
       "      <th>6</th>\n",
       "      <td>でも.副助詞.</td>\n",
       "      <td>-52.002538</td>\n",
       "    </tr>\n",
       "    <tr>\n",
       "      <th>7</th>\n",
       "      <td>が.格助詞.</td>\n",
       "      <td>-51.925357</td>\n",
       "    </tr>\n",
       "    <tr>\n",
       "      <th>8</th>\n",
       "      <td>で.格助詞.</td>\n",
       "      <td>-46.098606</td>\n",
       "    </tr>\n",
       "    <tr>\n",
       "      <th>9</th>\n",
       "      <td>を.格助詞.</td>\n",
       "      <td>-33.063683</td>\n",
       "    </tr>\n",
       "    <tr>\n",
       "      <th>10</th>\n",
       "      <td>も.副助詞.</td>\n",
       "      <td>-29.073427</td>\n",
       "    </tr>\n",
       "    <tr>\n",
       "      <th>11</th>\n",
       "      <td>と.格助詞.</td>\n",
       "      <td>-27.283178</td>\n",
       "    </tr>\n",
       "    <tr>\n",
       "      <th>12</th>\n",
       "      <td>なり.接続助詞.</td>\n",
       "      <td>-16.944421</td>\n",
       "    </tr>\n",
       "    <tr>\n",
       "      <th>13</th>\n",
       "      <td>ながら.接続助詞.</td>\n",
       "      <td>-12.072735</td>\n",
       "    </tr>\n",
       "    <tr>\n",
       "      <th>14</th>\n",
       "      <td>また.接続助詞.</td>\n",
       "      <td>23.124295</td>\n",
       "    </tr>\n",
       "  </tbody>\n",
       "</table>\n",
       "</div>"
      ],
      "text/plain": [
       "      feature      weight\n",
       "0     のみ.副助詞. -556.737406\n",
       "1     さえ.副助詞.  -80.534328\n",
       "2      か.終助詞.  -71.678936\n",
       "3    やら.接続助詞.  -71.366051\n",
       "4    より.接続助詞.  -62.227616\n",
       "5     から.格助詞.  -56.980995\n",
       "6     でも.副助詞.  -52.002538\n",
       "7      が.格助詞.  -51.925357\n",
       "8      で.格助詞.  -46.098606\n",
       "9      を.格助詞.  -33.063683\n",
       "10     も.副助詞.  -29.073427\n",
       "11     と.格助詞.  -27.283178\n",
       "12   なり.接続助詞.  -16.944421\n",
       "13  ながら.接続助詞.  -12.072735\n",
       "14   また.接続助詞.   23.124295"
      ]
     },
     "execution_count": 37,
     "metadata": {},
     "output_type": "execute_result"
    }
   ],
   "source": [
    "weights = pd.DataFrame({'feature':d1.columns[1:][rfecv.support_],\n",
    "                        'weight':reg1.coef_}).sort_values('weight').reset_index(drop=True)\n",
    "weights.head(15)"
   ]
  },
  {
   "cell_type": "code",
   "execution_count": 45,
   "id": "rural-spray",
   "metadata": {},
   "outputs": [
    {
     "data": {
      "image/png": "[encoded data removed]",
      "text/plain": [
       "<Figure size 288x432 with 1 Axes>"
      ]
     },
     "metadata": {
      "needs_background": "light"
     },
     "output_type": "display_data"
    }
   ],
   "source": [
    "import matplotlib.pyplot as plt\n",
    "import japanize_matplotlib\n",
    "\n",
    "plt.figure(figsize=(4, 6))\n",
    "\n",
    "plt.barh(y=weights['feature'],\n",
    "         width=weights['weight']);"
   ]
  },
  {
   "cell_type": "code",
   "execution_count": 48,
   "id": "indie-wholesale",
   "metadata": {},
   "outputs": [
    {
     "data": {
      "text/plain": [
       "SequentialFeatureSelector(estimator=LinearRegression(), n_features_to_select=15)"
      ]
     },
     "execution_count": 48,
     "metadata": {},
     "output_type": "execute_result"
    }
   ],
   "source": [
    "selector = SequentialFeatureSelector(LinearRegression(), n_features_to_select=15, cv=5)\n",
    "selector.fit(d1.iloc[:,1:], d1.iloc[:,0])"
   ]
  },
  {
   "cell_type": "code",
   "execution_count": 50,
   "id": "genuine-spread",
   "metadata": {},
   "outputs": [
    {
     "name": "stdout",
     "output_type": "stream",
     "text": [
      "0.9069907856439049\n"
     ]
    }
   ],
   "source": [
    "reg1 = LinearRegression().fit(selector.transform(d1.iloc[:,1:]), d1.iloc[:,0])\n",
    "\n",
    "\n",
    "pred = reg1.predict(selector.transform(d1.iloc[:,1:]))\n",
    "print(r2_score(d1.iloc[:,0], pred))"
   ]
  },
  {
   "cell_type": "code",
   "execution_count": 52,
   "id": "municipal-movement",
   "metadata": {},
   "outputs": [
    {
     "data": {
      "text/html": [
       "<div>\n",
       "<style scoped>\n",
       "    .dataframe tbody tr th:only-of-type {\n",
       "        vertical-align: middle;\n",
       "    }\n",
       "\n",
       "    .dataframe tbody tr th {\n",
       "        vertical-align: top;\n",
       "    }\n",
       "\n",
       "    .dataframe thead th {\n",
       "        text-align: right;\n",
       "    }\n",
       "</style>\n",
       "<table border=\"1\" class=\"dataframe\">\n",
       "  <thead>\n",
       "    <tr style=\"text-align: right;\">\n",
       "      <th></th>\n",
       "      <th>feature</th>\n",
       "      <th>weight</th>\n",
       "    </tr>\n",
       "  </thead>\n",
       "  <tbody>\n",
       "    <tr>\n",
       "      <th>0</th>\n",
       "      <td>なり.接続助詞.</td>\n",
       "      <td>-119.965405</td>\n",
       "    </tr>\n",
       "    <tr>\n",
       "      <th>1</th>\n",
       "      <td>で.格助詞.</td>\n",
       "      <td>-69.944002</td>\n",
       "    </tr>\n",
       "    <tr>\n",
       "      <th>2</th>\n",
       "      <td>さえ.副助詞.</td>\n",
       "      <td>-62.347298</td>\n",
       "    </tr>\n",
       "    <tr>\n",
       "      <th>3</th>\n",
       "      <td>が.格助詞.</td>\n",
       "      <td>-58.922483</td>\n",
       "    </tr>\n",
       "    <tr>\n",
       "      <th>4</th>\n",
       "      <td>かも.接続助詞.</td>\n",
       "      <td>-56.717382</td>\n",
       "    </tr>\n",
       "    <tr>\n",
       "      <th>5</th>\n",
       "      <td>から.格助詞.</td>\n",
       "      <td>-45.165702</td>\n",
       "    </tr>\n",
       "    <tr>\n",
       "      <th>6</th>\n",
       "      <td>を.格助詞.</td>\n",
       "      <td>-40.387446</td>\n",
       "    </tr>\n",
       "    <tr>\n",
       "      <th>7</th>\n",
       "      <td>と.格助詞.</td>\n",
       "      <td>-34.922067</td>\n",
       "    </tr>\n",
       "    <tr>\n",
       "      <th>8</th>\n",
       "      <td>も.副助詞.</td>\n",
       "      <td>-31.042469</td>\n",
       "    </tr>\n",
       "    <tr>\n",
       "      <th>9</th>\n",
       "      <td>ばかり.副助詞.</td>\n",
       "      <td>-8.481888</td>\n",
       "    </tr>\n",
       "    <tr>\n",
       "      <th>10</th>\n",
       "      <td>また.接続助詞.</td>\n",
       "      <td>60.002251</td>\n",
       "    </tr>\n",
       "    <tr>\n",
       "      <th>11</th>\n",
       "      <td>又.接続助詞.</td>\n",
       "      <td>63.017607</td>\n",
       "    </tr>\n",
       "    <tr>\n",
       "      <th>12</th>\n",
       "      <td>だけ.副助詞.</td>\n",
       "      <td>89.676071</td>\n",
       "    </tr>\n",
       "    <tr>\n",
       "      <th>13</th>\n",
       "      <td>に.接続助詞.</td>\n",
       "      <td>93.749321</td>\n",
       "    </tr>\n",
       "    <tr>\n",
       "      <th>14</th>\n",
       "      <td>より.格助詞.</td>\n",
       "      <td>102.160178</td>\n",
       "    </tr>\n",
       "  </tbody>\n",
       "</table>\n",
       "</div>"
      ],
      "text/plain": [
       "     feature      weight\n",
       "0   なり.接続助詞. -119.965405\n",
       "1     で.格助詞.  -69.944002\n",
       "2    さえ.副助詞.  -62.347298\n",
       "3     が.格助詞.  -58.922483\n",
       "4   かも.接続助詞.  -56.717382\n",
       "5    から.格助詞.  -45.165702\n",
       "6     を.格助詞.  -40.387446\n",
       "7     と.格助詞.  -34.922067\n",
       "8     も.副助詞.  -31.042469\n",
       "9   ばかり.副助詞.   -8.481888\n",
       "10  また.接続助詞.   60.002251\n",
       "11   又.接続助詞.   63.017607\n",
       "12   だけ.副助詞.   89.676071\n",
       "13   に.接続助詞.   93.749321\n",
       "14   より.格助詞.  102.160178"
      ]
     },
     "execution_count": 52,
     "metadata": {},
     "output_type": "execute_result"
    }
   ],
   "source": [
    "weights = pd.DataFrame({'feature':d1.columns[1:][selector.support_],\n",
    "                        'weight':reg1.coef_}).sort_values('weight').reset_index(drop=True)\n",
    "weights.head(15)"
   ]
  },
  {
   "cell_type": "code",
   "execution_count": 53,
   "id": "behavioral-anatomy",
   "metadata": {},
   "outputs": [
    {
     "data": {
      "image/png": "[encoded data removed]",
      "text/plain": [
       "<Figure size 288x432 with 1 Axes>"
      ]
     },
     "metadata": {
      "needs_background": "light"
     },
     "output_type": "display_data"
    }
   ],
   "source": [
    "plt.figure(figsize=(4, 6))\n",
    "\n",
    "plt.barh(y=weights['feature'],\n",
    "         width=weights['weight']);"
   ]
  },
  {
   "cell_type": "markdown",
   "id": "liked-harvey",
   "metadata": {},
   "source": [
    "### 11.3 正則化回帰モデル\n",
    "学習データの量が不十分であったり変数が多すぎたりすると、過学習が起こる場合がある。  \n",
    "これを避けるために正則化が行われる。  \n",
    "**正則化回帰モデル**は、通常の最小二乗法に罰則を加えて推定量を縮小し、次元を削減させる方法である。  \n",
    "もっとも基本的なものは、ridge回帰とLasso回帰、両者を折衷するElastic net回帰である。  \n",
    "従来の重回帰分析は次式のように残差の2乗和を最小化することによって回帰係数を求めている。  \n",
    "$$\n",
    "\\beta_{lm}=\\arg\\min\\{(Y-\\hat{Y})^2\\}=\\arg\\min\\{(Y-X\\beta)^2\\}\n",
    "$$\n",
    "正則化回帰モデルは、以下のように示される。  \n",
    "$\\lambda$は罰則の強さを調整するパラメータであり、$\\lambda$が大きくなるほど罰則が強くなる。  \n",
    "また、$q$の大きさによって回帰の名称が変わる。  \n",
    "$$\n",
    "\\beta_{regu}=\\arg\\min\\bigl\\{(Y-\\hat{Y})^2+\\lambda\\sum_{j=1}^p|\\beta_j|^2\\bigr\\}\n",
    "$$\n",
    "#### L1正則化lasso回帰\n",
    "$q=1$の時の回帰を**L1正則化**、もしくは**lasso回帰**と呼ぶ。  \n",
    "$$\n",
    "L(\\beta)=\\frac{1}{2}\\sum_{i=1}^n(y_i-\\beta X_i)^2+\\lambda\\sum_{j=1}^p|\\beta_j|\n",
    "$$\n",
    "正則化項は絶対値であり、微分できない。  \n",
    "lasso回帰モデルの構築では、説明変数の間に強い相関がある場合、その中から代表的な説明変数のみを用いることで多重共線性を回避する。  \n",
    "**多重共線性**とは、説明変数間に強い相関がある際に、計算された回帰係数の富豪が逆になり解釈に矛盾が生じることをいう。  \n",
    "lasso回帰は係数の一部を0にし、次元の削減をする効果を持つため、スパース回帰とも呼ばれる。  \n",
    "ただし、変数の数が標本サイズよりかなり大きい場合、予測精度を高めることが困難である。  \n",
    "#### LS正則化ridge回帰\n",
    "$q=2$の時の回帰を**L2正則化**、もしくは**ridge回帰**と呼ぶ。\n",
    "$$\n",
    "L(\\beta)=\\frac{1}{2}\\sum_{i=1}^n(y_i-\\beta X_i)^2+\\frac{\\lambda}{2}\\sum_{j=1}^p\\beta_j^2\n",
    "$$\n",
    "$L(\\beta)$を$\\beta$で微分した最小化方程式を解くと、次のような推測関数が得られる。\n",
    "$$\n",
    "\\hat{\\beta}=\\arg\\min L(\\beta)=(\\lambda I+X^TX)^{-1}X^TY\n",
    "$$\n",
    "#### Elastic net回帰\n",
    "**Elastic net回帰**は、lasso回帰において、モデルに取り込める説明変数の数に制限があるという問題に対処できる推定法である。  \n",
    "次式のように正則化を行う。\n",
    "$$\n",
    "L(\\beta)=\\frac{1}{2}\\sum_{i=1}^n(y_i-\\beta X_i)^2+\\sum_{j=1}^p\\{\\lambda_2\\beta_j^2+\\lambda_1|\\beta_j| \\}\n",
    "$$\n",
    "$\\alpha=\\lambda_2/(\\lambda_1+\\lambda_2)$とすると、上式は次式に書き換えられる。\n",
    "\n",
    "$$\n",
    "L(\\beta)=\\frac{1}{2}\\sum_{i=1}^n(y_i-\\beta X_i)^2+\\lambda\\sum_{j=1}^p\\{\\alpha\\beta_j^2+(1-\\alpha)|\\beta_j| \\}\n",
    "$$\n",
    "#### 正則化回帰モデルによる執筆時期の推定\n",
    "lasso回帰を用いた例を示す。  \n",
    "交差検証法を用いて$\\lambda$を推定する。"
   ]
  },
  {
   "cell_type": "code",
   "execution_count": 379,
   "id": "greatest-helicopter",
   "metadata": {},
   "outputs": [
    {
     "data": {
      "text/plain": [
       "GridSearchCV(cv=10, estimator=Lasso(normalize=True, selection='random'),\n",
       "             param_grid={'alpha': array([2.47875218e-03, 2.74341791e-03, 3.03634300e-03, 3.36054480e-03,\n",
       "       3.71936286e-03, 4.11649328e-03, 4.55602681e-03, 5.04249100e-03,\n",
       "       5.58089681e-03, 6.17679024e-03, 6.83630945e-03, 7.56624803e-03,\n",
       "       8.37412491e-03, 9.26826184e-03, 1.02578692e-02, 1.13531406e-02,\n",
       "       1.25653583e-0...\n",
       "       3.22892838e-01, 3.57369325e-01, 3.95526998e-01, 4.37758909e-01,\n",
       "       4.84500081e-01, 5.36231984e-01, 5.93487498e-01, 6.56856399e-01,\n",
       "       7.26991437e-01, 8.04615058e-01, 8.90526847e-01, 9.85611761e-01,\n",
       "       1.09084925e+00, 1.20732334e+00, 1.33623382e+00, 1.47890855e+00,\n",
       "       1.63681720e+00, 1.81158635e+00, 2.00501627e+00, 2.21909943e+00,\n",
       "       2.45604105e+00, 2.71828183e+00])},\n",
       "             scoring='neg_mean_squared_error')"
      ]
     },
     "execution_count": 379,
     "metadata": {},
     "output_type": "execute_result"
    }
   ],
   "source": [
    "from sklearn.model_selection import GridSearchCV,KFold\n",
    "from sklearn.linear_model import Lasso\n",
    "import numpy as np\n",
    "\n",
    "param_grid = {\n",
    "    \"alpha\":  np.logspace(-6, 1, num=70, base=np.exp(1))\n",
    "}\n",
    "\n",
    "search = GridSearchCV(Lasso(normalize=True), param_grid, scoring=\"neg_mean_squared_error\", cv=10)\n",
    "search.fit(d1.iloc[:,1:], d1.iloc[:,0].values)"
   ]
  },
  {
   "cell_type": "code",
   "execution_count": 380,
   "id": "developmental-rachel",
   "metadata": {},
   "outputs": [
    {
     "data": {
      "text/plain": [
       "<ErrorbarContainer object of 3 artists>"
      ]
     },
     "execution_count": 380,
     "metadata": {},
     "output_type": "execute_result"
    },
    {
     "data": {
      "image/png": "[encoded data removed]",
      "text/plain": [
       "<Figure size 432x288 with 1 Axes>"
      ]
     },
     "metadata": {
      "needs_background": "light"
     },
     "output_type": "display_data"
    }
   ],
   "source": [
    "grid_mean = search.cv_results_['mean_test_score']\n",
    "grid_std = search.cv_results_['std_test_score']/np.sqrt(113)*1.96\n",
    "\n",
    "plt.errorbar(np.linspace(-6, 1, 70), -grid_mean, yerr = grid_std, capsize=5, fmt='o', markersize=10, ecolor='black', markeredgecolor = \"black\", color='w')"
   ]
  },
  {
   "cell_type": "markdown",
   "id": "whole-declaration",
   "metadata": {},
   "source": [
    "MSEが最も小さいときの$\\lambda$をモデルの最適なパラメータとし、そのモデルを用いて予測・推定を行う。"
   ]
  },
  {
   "cell_type": "code",
   "execution_count": 381,
   "id": "inside-device",
   "metadata": {},
   "outputs": [
    {
     "name": "stdout",
     "output_type": "stream",
     "text": [
      "{'alpha': 0.009268261844366918}\n"
     ]
    }
   ],
   "source": [
    "print(search.best_params_)"
   ]
  },
  {
   "cell_type": "code",
   "execution_count": 383,
   "id": "sexual-barrier",
   "metadata": {},
   "outputs": [
    {
     "data": {
      "text/plain": [
       "Lasso(alpha=0.009268261844366918, normalize=True)"
      ]
     },
     "execution_count": 383,
     "metadata": {},
     "output_type": "execute_result"
    }
   ],
   "source": [
    "lasso = Lasso(**search.best_params_,normalize=True)\n",
    "\n",
    "lasso.fit(d1.iloc[:,1:], d1.iloc[:,0].values)"
   ]
  },
  {
   "cell_type": "markdown",
   "id": "worthy-litigation",
   "metadata": {},
   "source": [
    "作成されたモデルにおける非ゼロの係数を以下に示す。"
   ]
  },
  {
   "cell_type": "code",
   "execution_count": 387,
   "id": "stunning-catch",
   "metadata": {},
   "outputs": [
    {
     "data": {
      "text/html": [
       "<div>\n",
       "<style scoped>\n",
       "    .dataframe tbody tr th:only-of-type {\n",
       "        vertical-align: middle;\n",
       "    }\n",
       "\n",
       "    .dataframe tbody tr th {\n",
       "        vertical-align: top;\n",
       "    }\n",
       "\n",
       "    .dataframe thead th {\n",
       "        text-align: right;\n",
       "    }\n",
       "</style>\n",
       "<table border=\"1\" class=\"dataframe\">\n",
       "  <thead>\n",
       "    <tr style=\"text-align: right;\">\n",
       "      <th></th>\n",
       "      <th>feature</th>\n",
       "      <th>weight</th>\n",
       "    </tr>\n",
       "  </thead>\n",
       "  <tbody>\n",
       "    <tr>\n",
       "      <th>29</th>\n",
       "      <td>の.接続助詞.</td>\n",
       "      <td>3.463146</td>\n",
       "    </tr>\n",
       "    <tr>\n",
       "      <th>30</th>\n",
       "      <td>が.接続助詞.</td>\n",
       "      <td>4.751971</td>\n",
       "    </tr>\n",
       "    <tr>\n",
       "      <th>31</th>\n",
       "      <td>に.格助詞.</td>\n",
       "      <td>7.827132</td>\n",
       "    </tr>\n",
       "    <tr>\n",
       "      <th>32</th>\n",
       "      <td>だけ.副助詞.</td>\n",
       "      <td>9.880574</td>\n",
       "    </tr>\n",
       "    <tr>\n",
       "      <th>33</th>\n",
       "      <td>は.副助詞.</td>\n",
       "      <td>10.388483</td>\n",
       "    </tr>\n",
       "    <tr>\n",
       "      <th>34</th>\n",
       "      <td>だの.接続助詞.</td>\n",
       "      <td>52.826866</td>\n",
       "    </tr>\n",
       "    <tr>\n",
       "      <th>35</th>\n",
       "      <td>又.接続助詞.</td>\n",
       "      <td>58.300047</td>\n",
       "    </tr>\n",
       "    <tr>\n",
       "      <th>36</th>\n",
       "      <td>など.副助詞.</td>\n",
       "      <td>58.920228</td>\n",
       "    </tr>\n",
       "    <tr>\n",
       "      <th>37</th>\n",
       "      <td>に.接続助詞.</td>\n",
       "      <td>65.362583</td>\n",
       "    </tr>\n",
       "    <tr>\n",
       "      <th>38</th>\n",
       "      <td>より.格助詞.</td>\n",
       "      <td>78.138588</td>\n",
       "    </tr>\n",
       "    <tr>\n",
       "      <th>39</th>\n",
       "      <td>まま.接続助詞.</td>\n",
       "      <td>107.871603</td>\n",
       "    </tr>\n",
       "  </tbody>\n",
       "</table>\n",
       "</div>"
      ],
      "text/plain": [
       "     feature      weight\n",
       "29   の.接続助詞.    3.463146\n",
       "30   が.接続助詞.    4.751971\n",
       "31    に.格助詞.    7.827132\n",
       "32   だけ.副助詞.    9.880574\n",
       "33    は.副助詞.   10.388483\n",
       "34  だの.接続助詞.   52.826866\n",
       "35   又.接続助詞.   58.300047\n",
       "36   など.副助詞.   58.920228\n",
       "37   に.接続助詞.   65.362583\n",
       "38   より.格助詞.   78.138588\n",
       "39  まま.接続助詞.  107.871603"
      ]
     },
     "execution_count": 387,
     "metadata": {},
     "output_type": "execute_result"
    }
   ],
   "source": [
    "weights = pd.DataFrame({'feature':d1.columns[1:],\n",
    "                        'weight':lasso.coef_}).sort_values('weight').reset_index(drop=True)\n",
    "weights[weights[\"weight\"]>0]"
   ]
  },
  {
   "cell_type": "markdown",
   "id": "viral-bowling",
   "metadata": {},
   "source": [
    "Elastic net回帰を用いて、$\\alpha$と$\\lambda$についてグリッドサーチを行う。"
   ]
  },
  {
   "cell_type": "code",
   "execution_count": 398,
   "id": "political-empire",
   "metadata": {},
   "outputs": [
    {
     "data": {
      "text/plain": [
       "GridSearchCV(cv=10, estimator=ElasticNet(max_iter=100, normalize=True),\n",
       "             param_grid={'alpha': array([0.1, 0.2, 0.3, 0.4, 0.5, 0.6, 0.7, 0.8, 0.9]),\n",
       "                         'l1_ratio': array([0.1, 0.2, 0.3, 0.4, 0.5, 0.6, 0.7, 0.8, 0.9])},\n",
       "             scoring='neg_mean_squared_error')"
      ]
     },
     "execution_count": 398,
     "metadata": {},
     "output_type": "execute_result"
    }
   ],
   "source": [
    "from sklearn.linear_model import ElasticNet\n",
    "\n",
    "param_grid = {\n",
    "    \"alpha\":  np.arange(0.1,1,0.1),\n",
    "    \"l1_ratio\": np.arange(0.1,1,0.1)\n",
    "}\n",
    "\n",
    "search = GridSearchCV(ElasticNet(normalize=True, max_iter=100), param_grid, scoring=\"neg_mean_squared_error\", cv=10)\n",
    "search.fit(d1.iloc[:,1:], d1.iloc[:,0].values)"
   ]
  },
  {
   "cell_type": "code",
   "execution_count": 399,
   "id": "sporting-kelly",
   "metadata": {},
   "outputs": [
    {
     "name": "stdout",
     "output_type": "stream",
     "text": [
      "{'alpha': 0.1, 'l1_ratio': 0.9}\n"
     ]
    }
   ],
   "source": [
    "print(search.best_params_)"
   ]
  },
  {
   "cell_type": "code",
   "execution_count": 400,
   "id": "dramatic-terror",
   "metadata": {},
   "outputs": [
    {
     "data": {
      "text/plain": [
       "ElasticNet(alpha=0.1, l1_ratio=0.9, normalize=True)"
      ]
     },
     "execution_count": 400,
     "metadata": {},
     "output_type": "execute_result"
    }
   ],
   "source": [
    "EN = ElasticNet(**search.best_params_,normalize=True)\n",
    "\n",
    "EN.fit(d1.iloc[:,1:], d1.iloc[:,0].values)"
   ]
  },
  {
   "cell_type": "code",
   "execution_count": 401,
   "id": "major-static",
   "metadata": {},
   "outputs": [
    {
     "data": {
      "text/html": [
       "<div>\n",
       "<style scoped>\n",
       "    .dataframe tbody tr th:only-of-type {\n",
       "        vertical-align: middle;\n",
       "    }\n",
       "\n",
       "    .dataframe tbody tr th {\n",
       "        vertical-align: top;\n",
       "    }\n",
       "\n",
       "    .dataframe thead th {\n",
       "        text-align: right;\n",
       "    }\n",
       "</style>\n",
       "<table border=\"1\" class=\"dataframe\">\n",
       "  <thead>\n",
       "    <tr style=\"text-align: right;\">\n",
       "      <th></th>\n",
       "      <th>feature</th>\n",
       "      <th>weight</th>\n",
       "    </tr>\n",
       "  </thead>\n",
       "  <tbody>\n",
       "    <tr>\n",
       "      <th>37</th>\n",
       "      <td>に.格助詞.</td>\n",
       "      <td>5.925571</td>\n",
       "    </tr>\n",
       "    <tr>\n",
       "      <th>38</th>\n",
       "      <td>は.副助詞.</td>\n",
       "      <td>13.331322</td>\n",
       "    </tr>\n",
       "    <tr>\n",
       "      <th>39</th>\n",
       "      <td>まま.接続助詞.</td>\n",
       "      <td>25.105304</td>\n",
       "    </tr>\n",
       "  </tbody>\n",
       "</table>\n",
       "</div>"
      ],
      "text/plain": [
       "     feature     weight\n",
       "37    に.格助詞.   5.925571\n",
       "38    は.副助詞.  13.331322\n",
       "39  まま.接続助詞.  25.105304"
      ]
     },
     "execution_count": 401,
     "metadata": {},
     "output_type": "execute_result"
    }
   ],
   "source": [
    "weights = pd.DataFrame({'feature':d1.columns[1:],\n",
    "                        'weight':EN.coef_}).sort_values('weight').reset_index(drop=True)\n",
    "weights[weights[\"weight\"]>0]"
   ]
  },
  {
   "cell_type": "markdown",
   "id": "twelve-roots",
   "metadata": {},
   "source": [
    "### 11.4 ランダムフォレスト\n",
    "回帰木は階段式の回帰折れ線で予測を行う。  \n",
    "アンサンブル学習、なかでもランダムフォレスト法は回帰問題にも有効である。  \n",
    "ランダムフォレスト法は、異なる複数の折れ線の平均値を用いて回帰の結果とする。  \n"
   ]
  },
  {
   "cell_type": "code",
   "execution_count": 404,
   "id": "earned-broadcasting",
   "metadata": {},
   "outputs": [
    {
     "data": {
      "text/plain": [
       "RandomForestRegressor(max_depth=3, n_estimators=500, n_jobs=-1, random_state=0)"
      ]
     },
     "execution_count": 404,
     "metadata": {},
     "output_type": "execute_result"
    }
   ],
   "source": [
    "from sklearn.ensemble import RandomForestRegressor\n",
    "\n",
    "rf_reg = RandomForestRegressor(random_state=0, max_depth=3, n_estimators=500, n_jobs=-1)\n",
    "rf_reg.fit(d1.iloc[:,1:], d1.iloc[:,0].values)"
   ]
  },
  {
   "cell_type": "markdown",
   "id": "billion-retro",
   "metadata": {},
   "source": [
    "回帰木のノードの純度の増分に基づいて計算された変数の重要度の結果を示す。  \n",
    "重要と判断された変数は、上から順に「が」「は」「で」である。"
   ]
  },
  {
   "cell_type": "code",
   "execution_count": 405,
   "id": "funky-pharmaceutical",
   "metadata": {},
   "outputs": [
    {
     "data": {
      "image/png": "[encoded data removed]",
      "text/plain": [
       "<Figure size 360x720 with 1 Axes>"
      ]
     },
     "metadata": {
      "needs_background": "light"
     },
     "output_type": "display_data"
    }
   ],
   "source": [
    "importance =pd.DataFrame({'feature':d1.columns[1:],\n",
    "                          'importance':rf_reg.feature_importances_})\\\n",
    "                .sort_values('importance', ascending=True).reset_index(drop=True)\n",
    "\n",
    "plt.figure(figsize=(5,10))\n",
    "\n",
    "plt.barh(y=importance['feature'],\n",
    "         width=importance['importance']);"
   ]
  },
  {
   "cell_type": "markdown",
   "id": "pointed-upgrade",
   "metadata": {},
   "source": [
    "この3つの変数が時間と共にどのように変化しているかを考察するため、横軸を各作品の発表年とし、縦軸を使用率とした散布図を示す。"
   ]
  },
  {
   "cell_type": "code",
   "execution_count": 420,
   "id": "broadband-great",
   "metadata": {},
   "outputs": [
    {
     "data": {
      "image/png": "[encoded data removed]",
      "text/plain": [
       "<Figure size 1080x288 with 3 Axes>"
      ]
     },
     "metadata": {
      "needs_background": "light"
     },
     "output_type": "display_data"
    }
   ],
   "source": [
    "fig, axis = plt.subplots(1, 3, figsize=(15,4))\n",
    "\n",
    "axis[0].scatter(np.arange(len(d1)), d1['が.格助詞.']);\n",
    "axis[0].set_title('が/格助詞');\n",
    "axis[1].scatter(np.arange(len(d1)), d1['は.副助詞.']);\n",
    "axis[1].set_title('は/副助詞');\n",
    "axis[2].scatter(np.arange(len(d1)), d1['で.格助詞.']);\n",
    "axis[2].set_title('で/格助詞');"
   ]
  },
  {
   "cell_type": "markdown",
   "id": "comprehensive-recipe",
   "metadata": {},
   "source": [
    "### 11.5 トピックの経時的分析\n",
    "テキストの数がそれほど多くない場合のマクロ的なトピック分析には、主成分分析や階層的クラスタリングなどの方法が利用できる。  \n",
    "階層的クラスター分析法によっても、トピックの傾向を考察することが可能である。  \n",
    "ここでは、歴代総理大臣の所信表明演説文を例として示す。"
   ]
  },
  {
   "cell_type": "code",
   "execution_count": 421,
   "id": "genuine-evaluation",
   "metadata": {},
   "outputs": [
    {
     "data": {
      "text/html": [
       "<div>\n",
       "<style scoped>\n",
       "    .dataframe tbody tr th:only-of-type {\n",
       "        vertical-align: middle;\n",
       "    }\n",
       "\n",
       "    .dataframe tbody tr th {\n",
       "        vertical-align: top;\n",
       "    }\n",
       "\n",
       "    .dataframe thead th {\n",
       "        text-align: right;\n",
       "    }\n",
       "</style>\n",
       "<table border=\"1\" class=\"dataframe\">\n",
       "  <thead>\n",
       "    <tr style=\"text-align: right;\">\n",
       "      <th></th>\n",
       "      <th>経済</th>\n",
       "      <th>国民</th>\n",
       "      <th>社会</th>\n",
       "      <th>改革</th>\n",
       "      <th>政治</th>\n",
       "      <th>国際</th>\n",
       "      <th>関係</th>\n",
       "      <th>世界</th>\n",
       "      <th>政府</th>\n",
       "      <th>協力</th>\n",
       "      <th>...</th>\n",
       "      <th>集約</th>\n",
       "      <th>離職</th>\n",
       "      <th>電話</th>\n",
       "      <th>非行</th>\n",
       "      <th>預金</th>\n",
       "      <th>額</th>\n",
       "      <th>風評</th>\n",
       "      <th>高校</th>\n",
       "      <th>ＣＯＰ</th>\n",
       "      <th>OTHERS</th>\n",
       "    </tr>\n",
       "  </thead>\n",
       "  <tbody>\n",
       "    <tr>\n",
       "      <th>19531130_18_yoshida-shigeru</th>\n",
       "      <td>2</td>\n",
       "      <td>4</td>\n",
       "      <td>0</td>\n",
       "      <td>0</td>\n",
       "      <td>0</td>\n",
       "      <td>0</td>\n",
       "      <td>4</td>\n",
       "      <td>1</td>\n",
       "      <td>12</td>\n",
       "      <td>2</td>\n",
       "      <td>...</td>\n",
       "      <td>0</td>\n",
       "      <td>0</td>\n",
       "      <td>0</td>\n",
       "      <td>0</td>\n",
       "      <td>0</td>\n",
       "      <td>0</td>\n",
       "      <td>0</td>\n",
       "      <td>0</td>\n",
       "      <td>0</td>\n",
       "      <td>43</td>\n",
       "    </tr>\n",
       "    <tr>\n",
       "      <th>19541130_20_yoshida-shigeru</th>\n",
       "      <td>10</td>\n",
       "      <td>3</td>\n",
       "      <td>3</td>\n",
       "      <td>0</td>\n",
       "      <td>1</td>\n",
       "      <td>3</td>\n",
       "      <td>7</td>\n",
       "      <td>0</td>\n",
       "      <td>3</td>\n",
       "      <td>3</td>\n",
       "      <td>...</td>\n",
       "      <td>0</td>\n",
       "      <td>0</td>\n",
       "      <td>0</td>\n",
       "      <td>0</td>\n",
       "      <td>0</td>\n",
       "      <td>0</td>\n",
       "      <td>0</td>\n",
       "      <td>0</td>\n",
       "      <td>0</td>\n",
       "      <td>69</td>\n",
       "    </tr>\n",
       "    <tr>\n",
       "      <th>19551202_23_hatoyama-ichiro</th>\n",
       "      <td>0</td>\n",
       "      <td>11</td>\n",
       "      <td>1</td>\n",
       "      <td>3</td>\n",
       "      <td>9</td>\n",
       "      <td>0</td>\n",
       "      <td>1</td>\n",
       "      <td>0</td>\n",
       "      <td>1</td>\n",
       "      <td>2</td>\n",
       "      <td>...</td>\n",
       "      <td>0</td>\n",
       "      <td>0</td>\n",
       "      <td>0</td>\n",
       "      <td>0</td>\n",
       "      <td>0</td>\n",
       "      <td>0</td>\n",
       "      <td>0</td>\n",
       "      <td>0</td>\n",
       "      <td>0</td>\n",
       "      <td>34</td>\n",
       "    </tr>\n",
       "    <tr>\n",
       "      <th>19561116_25_hatoyama-ichiro</th>\n",
       "      <td>10</td>\n",
       "      <td>9</td>\n",
       "      <td>1</td>\n",
       "      <td>0</td>\n",
       "      <td>1</td>\n",
       "      <td>7</td>\n",
       "      <td>2</td>\n",
       "      <td>13</td>\n",
       "      <td>0</td>\n",
       "      <td>1</td>\n",
       "      <td>...</td>\n",
       "      <td>0</td>\n",
       "      <td>0</td>\n",
       "      <td>0</td>\n",
       "      <td>0</td>\n",
       "      <td>0</td>\n",
       "      <td>0</td>\n",
       "      <td>0</td>\n",
       "      <td>0</td>\n",
       "      <td>0</td>\n",
       "      <td>43</td>\n",
       "    </tr>\n",
       "    <tr>\n",
       "      <th>19570227_26_kishi-nobusuke</th>\n",
       "      <td>2</td>\n",
       "      <td>8</td>\n",
       "      <td>0</td>\n",
       "      <td>0</td>\n",
       "      <td>4</td>\n",
       "      <td>2</td>\n",
       "      <td>0</td>\n",
       "      <td>2</td>\n",
       "      <td>1</td>\n",
       "      <td>1</td>\n",
       "      <td>...</td>\n",
       "      <td>0</td>\n",
       "      <td>0</td>\n",
       "      <td>0</td>\n",
       "      <td>0</td>\n",
       "      <td>0</td>\n",
       "      <td>0</td>\n",
       "      <td>0</td>\n",
       "      <td>0</td>\n",
       "      <td>0</td>\n",
       "      <td>24</td>\n",
       "    </tr>\n",
       "    <tr>\n",
       "      <th>...</th>\n",
       "      <td>...</td>\n",
       "      <td>...</td>\n",
       "      <td>...</td>\n",
       "      <td>...</td>\n",
       "      <td>...</td>\n",
       "      <td>...</td>\n",
       "      <td>...</td>\n",
       "      <td>...</td>\n",
       "      <td>...</td>\n",
       "      <td>...</td>\n",
       "      <td>...</td>\n",
       "      <td>...</td>\n",
       "      <td>...</td>\n",
       "      <td>...</td>\n",
       "      <td>...</td>\n",
       "      <td>...</td>\n",
       "      <td>...</td>\n",
       "      <td>...</td>\n",
       "      <td>...</td>\n",
       "      <td>...</td>\n",
       "      <td>...</td>\n",
       "    </tr>\n",
       "    <tr>\n",
       "      <th>20111028_179_noda-yoshihiko</th>\n",
       "      <td>9</td>\n",
       "      <td>14</td>\n",
       "      <td>0</td>\n",
       "      <td>10</td>\n",
       "      <td>6</td>\n",
       "      <td>2</td>\n",
       "      <td>4</td>\n",
       "      <td>4</td>\n",
       "      <td>9</td>\n",
       "      <td>1</td>\n",
       "      <td>...</td>\n",
       "      <td>0</td>\n",
       "      <td>0</td>\n",
       "      <td>0</td>\n",
       "      <td>0</td>\n",
       "      <td>0</td>\n",
       "      <td>0</td>\n",
       "      <td>1</td>\n",
       "      <td>0</td>\n",
       "      <td>0</td>\n",
       "      <td>135</td>\n",
       "    </tr>\n",
       "    <tr>\n",
       "      <th>20121029_181_noda-yoshihiko</th>\n",
       "      <td>26</td>\n",
       "      <td>11</td>\n",
       "      <td>24</td>\n",
       "      <td>11</td>\n",
       "      <td>15</td>\n",
       "      <td>4</td>\n",
       "      <td>7</td>\n",
       "      <td>6</td>\n",
       "      <td>4</td>\n",
       "      <td>0</td>\n",
       "      <td>...</td>\n",
       "      <td>0</td>\n",
       "      <td>0</td>\n",
       "      <td>0</td>\n",
       "      <td>0</td>\n",
       "      <td>0</td>\n",
       "      <td>1</td>\n",
       "      <td>1</td>\n",
       "      <td>0</td>\n",
       "      <td>0</td>\n",
       "      <td>154</td>\n",
       "    </tr>\n",
       "    <tr>\n",
       "      <th>20130128_183_abe-shinzo</th>\n",
       "      <td>16</td>\n",
       "      <td>7</td>\n",
       "      <td>10</td>\n",
       "      <td>1</td>\n",
       "      <td>1</td>\n",
       "      <td>1</td>\n",
       "      <td>2</td>\n",
       "      <td>4</td>\n",
       "      <td>5</td>\n",
       "      <td>3</td>\n",
       "      <td>...</td>\n",
       "      <td>0</td>\n",
       "      <td>0</td>\n",
       "      <td>0</td>\n",
       "      <td>0</td>\n",
       "      <td>0</td>\n",
       "      <td>1</td>\n",
       "      <td>0</td>\n",
       "      <td>0</td>\n",
       "      <td>0</td>\n",
       "      <td>91</td>\n",
       "    </tr>\n",
       "    <tr>\n",
       "      <th>20131015_185_abe-shinzo</th>\n",
       "      <td>9</td>\n",
       "      <td>6</td>\n",
       "      <td>7</td>\n",
       "      <td>8</td>\n",
       "      <td>1</td>\n",
       "      <td>2</td>\n",
       "      <td>0</td>\n",
       "      <td>17</td>\n",
       "      <td>0</td>\n",
       "      <td>1</td>\n",
       "      <td>...</td>\n",
       "      <td>0</td>\n",
       "      <td>0</td>\n",
       "      <td>0</td>\n",
       "      <td>0</td>\n",
       "      <td>0</td>\n",
       "      <td>0</td>\n",
       "      <td>2</td>\n",
       "      <td>0</td>\n",
       "      <td>0</td>\n",
       "      <td>96</td>\n",
       "    </tr>\n",
       "    <tr>\n",
       "      <th>20140929_187_abe-shinzo</th>\n",
       "      <td>6</td>\n",
       "      <td>5</td>\n",
       "      <td>10</td>\n",
       "      <td>7</td>\n",
       "      <td>2</td>\n",
       "      <td>4</td>\n",
       "      <td>5</td>\n",
       "      <td>11</td>\n",
       "      <td>3</td>\n",
       "      <td>0</td>\n",
       "      <td>...</td>\n",
       "      <td>0</td>\n",
       "      <td>0</td>\n",
       "      <td>0</td>\n",
       "      <td>0</td>\n",
       "      <td>0</td>\n",
       "      <td>0</td>\n",
       "      <td>0</td>\n",
       "      <td>0</td>\n",
       "      <td>0</td>\n",
       "      <td>179</td>\n",
       "    </tr>\n",
       "  </tbody>\n",
       "</table>\n",
       "<p>82 rows × 1684 columns</p>\n",
       "</div>"
      ],
      "text/plain": [
       "                             経済  国民  社会  改革  政治  国際  関係  世界  政府  協力  ...  集約  \\\n",
       "19531130_18_yoshida-shigeru   2   4   0   0   0   0   4   1  12   2  ...   0   \n",
       "19541130_20_yoshida-shigeru  10   3   3   0   1   3   7   0   3   3  ...   0   \n",
       "19551202_23_hatoyama-ichiro   0  11   1   3   9   0   1   0   1   2  ...   0   \n",
       "19561116_25_hatoyama-ichiro  10   9   1   0   1   7   2  13   0   1  ...   0   \n",
       "19570227_26_kishi-nobusuke    2   8   0   0   4   2   0   2   1   1  ...   0   \n",
       "...                          ..  ..  ..  ..  ..  ..  ..  ..  ..  ..  ...  ..   \n",
       "20111028_179_noda-yoshihiko   9  14   0  10   6   2   4   4   9   1  ...   0   \n",
       "20121029_181_noda-yoshihiko  26  11  24  11  15   4   7   6   4   0  ...   0   \n",
       "20130128_183_abe-shinzo      16   7  10   1   1   1   2   4   5   3  ...   0   \n",
       "20131015_185_abe-shinzo       9   6   7   8   1   2   0  17   0   1  ...   0   \n",
       "20140929_187_abe-shinzo       6   5  10   7   2   4   5  11   3   0  ...   0   \n",
       "\n",
       "                             離職  電話  非行  預金  額  風評  高校  ＣＯＰ  OTHERS  \n",
       "19531130_18_yoshida-shigeru   0   0   0   0  0   0   0    0      43  \n",
       "19541130_20_yoshida-shigeru   0   0   0   0  0   0   0    0      69  \n",
       "19551202_23_hatoyama-ichiro   0   0   0   0  0   0   0    0      34  \n",
       "19561116_25_hatoyama-ichiro   0   0   0   0  0   0   0    0      43  \n",
       "19570227_26_kishi-nobusuke    0   0   0   0  0   0   0    0      24  \n",
       "...                          ..  ..  ..  .. ..  ..  ..  ...     ...  \n",
       "20111028_179_noda-yoshihiko   0   0   0   0  0   1   0    0     135  \n",
       "20121029_181_noda-yoshihiko   0   0   0   0  1   1   0    0     154  \n",
       "20130128_183_abe-shinzo       0   0   0   0  1   0   0    0      91  \n",
       "20131015_185_abe-shinzo       0   0   0   0  0   2   0    0      96  \n",
       "20140929_187_abe-shinzo       0   0   0   0  0   0   0    0     179  \n",
       "\n",
       "[82 rows x 1684 columns]"
      ]
     },
     "execution_count": 421,
     "metadata": {},
     "output_type": "execute_result"
    }
   ],
   "source": [
    "d2 = pd.read_csv('study/参考書/テキストアナリティクス/rekidai.csv', encoding='shift-jis', index_col=0)\n",
    "d2"
   ]
  },
  {
   "cell_type": "code",
   "execution_count": 427,
   "id": "convenient-worship",
   "metadata": {},
   "outputs": [
    {
     "data": {
      "text/plain": [
       "<Figure size 576x288 with 0 Axes>"
      ]
     },
     "metadata": {},
     "output_type": "display_data"
    }
   ],
   "source": [
    "from scipy.cluster.hierarchy import linkage, dendrogram\n",
    "from scipy.spatial.distance import pdist\n",
    "import matplotlib.pyplot as plt\n",
    "import japanize_matplotlib\n",
    "import numpy as np\n",
    "\n",
    "#method_list = (\"average\", \"centroid\", \"complete\", \"median\", \"single\", \"ward\", \"weighted\")\n",
    "#metric_lits = ('braycurtis', 'canberra', 'chebyshev', 'cityblock', 'correlation', 'cosine',\n",
    "#               'euclidean', 'hamming', 'jaccard', 'jensenshannon')\n",
    "\n",
    "d_array = np.array(d2.iloc[:,:-1])\n",
    "d_array = d_array / np.sum(d_array, axis=1).reshape(-1,1)+1e-6\n",
    "\n",
    "result_jsd = linkage(pdist(d_array, metric = \"jensenshannon\"),\n",
    "                  #metric = \"euclidean\",\n",
    "                  method = \"ward\"\n",
    "                   );"
   ]
  },
  {
   "cell_type": "code",
   "execution_count": 436,
   "id": "white-suspect",
   "metadata": {},
   "outputs": [
    {
     "data": {
      "image/png": "[encoded data removed]",
      "text/plain": [
       "<Figure size 864x360 with 1 Axes>"
      ]
     },
     "metadata": {
      "needs_background": "light"
     },
     "output_type": "display_data"
    }
   ],
   "source": [
    "plt.figure(figsize=(12,5))\n",
    "\n",
    "dendrogram(result_jsd, color_threshold=1., labels=d2.index);\n",
    "plt.tick_params(labelsize=12);"
   ]
  },
  {
   "cell_type": "markdown",
   "id": "fossil-polish",
   "metadata": {},
   "source": [
    "左のクラスターは1950年代から1970年代前半までに、中間のクラスターは1970年代後半から1990年代前半までに、  \n",
    "右のクラスターは1990年代後半以降にほぼ対応している。  \n",
    "樹形図だけでは各クラスターのトピックの詳細については確認できないが、経時的に変化していることは確認できる。  \n",
    "トピック分析を行うときはまず、トピックをいくつにするかを分析者が決めなければならない。  \n",
    "トピックを決める方法はいくつか提案されているが、的中確率は総じては高くない。"
   ]
  },
  {
   "cell_type": "code",
   "execution_count": 448,
   "id": "international-mozambique",
   "metadata": {},
   "outputs": [],
   "source": [
    "from sklearn.decomposition import LatentDirichletAllocation as LDA\n",
    "\n",
    "ppl = []\n",
    "for i in np.arange(1,11):\n",
    "    lda = LDA(max_iter=25,\n",
    "              learning_method='batch',\n",
    "              n_components=i).fit(d2.iloc[:,:-1])\n",
    "\n",
    "    ppl += [lda.perplexity(d2.iloc[:,:-1])]"
   ]
  },
  {
   "cell_type": "code",
   "execution_count": 449,
   "id": "caring-approach",
   "metadata": {},
   "outputs": [
    {
     "data": {
      "image/png": "[encoded data removed]",
      "text/plain": [
       "<Figure size 432x288 with 1 Axes>"
      ]
     },
     "metadata": {
      "needs_background": "light"
     },
     "output_type": "display_data"
    }
   ],
   "source": [
    "plt.plot(np.arange(1,11), ppl, '-o');\n",
    "plt.xlabel('トピック数');\n",
    "plt.ylabel('PPL値');"
   ]
  },
  {
   "cell_type": "code",
   "execution_count": 461,
   "id": "expected-sampling",
   "metadata": {},
   "outputs": [
    {
     "data": {
      "text/plain": [
       "19531130_18_yoshida-shigeru    [経済, 経済, 経済, 経済, 国民, 国民, 国民, 国民, 関係, 関係, 関係, 関...\n",
       "19541130_20_yoshida-shigeru    [経済, 経済, 経済, 経済, 経済, 経済, 経済, 経済, 経済, 経済, 経済, 経...\n",
       "19551202_23_hatoyama-ichiro    [国民, 国民, 国民, 国民, 国民, 国民, 国民, 国民, 国民, 国民, 国民, 社...\n",
       "19561116_25_hatoyama-ichiro    [経済, 経済, 経済, 経済, 経済, 経済, 経済, 経済, 経済, 経済, 経済, 経...\n",
       "19570227_26_kishi-nobusuke     [経済, 経済, 経済, 経済, 国民, 国民, 国民, 国民, 国民, 国民, 国民, 国...\n",
       "                                                     ...                        \n",
       "20111028_179_noda-yoshihiko    [経済, 経済, 経済, 経済, 経済, 経済, 経済, 経済, 経済, 経済, 経済, 経...\n",
       "20121029_181_noda-yoshihiko    [経済, 経済, 経済, 経済, 経済, 経済, 経済, 経済, 経済, 経済, 経済, 経...\n",
       "20130128_183_abe-shinzo        [経済, 経済, 経済, 経済, 経済, 経済, 経済, 経済, 経済, 経済, 経済, 経...\n",
       "20131015_185_abe-shinzo        [経済, 経済, 経済, 経済, 経済, 経済, 経済, 経済, 経済, 経済, 経済, 経...\n",
       "20140929_187_abe-shinzo        [経済, 経済, 経済, 経済, 経済, 経済, 経済, 経済, 経済, 経済, 経済, 経...\n",
       "Name: 経済, Length: 82, dtype: object"
      ]
     },
     "execution_count": 461,
     "metadata": {},
     "output_type": "execute_result"
    }
   ],
   "source": [
    "d_tmp = d2['経済'].map(lambda x: x*['経済'])\n",
    "for i in np.arange(len(d2.columns[1:-1])):\n",
    "    c = d2.columns[i]\n",
    "    d_tmp += d2[c].map(lambda x: x*[c])\n",
    "d_tmp"
   ]
  },
  {
   "cell_type": "code",
   "execution_count": 569,
   "id": "young-cable",
   "metadata": {},
   "outputs": [],
   "source": [
    "dictionary = gensim.corpora.Dictionary(np.array(d_tmp))\n",
    "# 最少出現ワード数\n",
    "no_below = 1\n",
    "# 全文書に対する特定ワードが出現する文章の最大割合\n",
    "no_above = 0.6\n",
    "dictionary.filter_extremes(no_below=no_below, no_above=no_above)\n",
    "bow_corpus = [dictionary.doc2bow(doc) for doc in np.array(d_tmp)]"
   ]
  },
  {
   "cell_type": "code",
   "execution_count": 570,
   "id": "labeled-automation",
   "metadata": {},
   "outputs": [
    {
     "name": "stderr",
     "output_type": "stream",
     "text": [
      "  0%|                                                                                            | 0/4 [00:00<?, ?it/s]WARNING:gensim.models.ldamodel:too few updates, training might not converge; consider increasing the number of passes or iterations to improve accuracy\n",
      " 25%|█████████████████████                                                               | 1/4 [00:07<00:22,  7.36s/it]WARNING:gensim.models.ldamodel:too few updates, training might not converge; consider increasing the number of passes or iterations to improve accuracy\n",
      " 50%|██████████████████████████████████████████                                          | 2/4 [00:16<00:16,  8.27s/it]WARNING:gensim.models.ldamodel:too few updates, training might not converge; consider increasing the number of passes or iterations to improve accuracy\n",
      " 75%|███████████████████████████████████████████████████████████████                     | 3/4 [00:25<00:08,  8.94s/it]WARNING:gensim.models.ldamodel:too few updates, training might not converge; consider increasing the number of passes or iterations to improve accuracy\n",
      "100%|████████████████████████████████████████████████████████████████████████████████████| 4/4 [00:34<00:00,  8.65s/it]\n"
     ]
    }
   ],
   "source": [
    "from tqdm import tqdm\n",
    "\n",
    "#Metrics for Topic Models\n",
    "start = 2\n",
    "limit = 6\n",
    "step = 1\n",
    "\n",
    "coherence_vals = []\n",
    "perplexity_vals = []\n",
    "\n",
    "for n_topic in tqdm(range(start, limit, step)):\n",
    "    lda_model = gensim.models.ldamodel.LdaModel(corpus=bow_corpus, id2word=dictionary, num_topics=n_topic, random_state=0)\n",
    "    perplexity_vals.append(np.exp2(-lda_model.log_perplexity(bow_corpus)))\n",
    "    coherence_model_lda = gensim.models.CoherenceModel(model=lda_model, texts=d_tmp, dictionary=dictionary, coherence='c_v')\n",
    "    coherence_vals.append(coherence_model_lda.get_coherence())"
   ]
  },
  {
   "cell_type": "code",
   "execution_count": 571,
   "id": "great-skirt",
   "metadata": {},
   "outputs": [
    {
     "data": {
      "image/png": "[encoded data removed]",
      "text/plain": [
       "<Figure size 864x360 with 2 Axes>"
      ]
     },
     "metadata": {},
     "output_type": "display_data"
    },
    {
     "data": {
      "text/plain": [
       "<Figure size 432x288 with 0 Axes>"
      ]
     },
     "metadata": {},
     "output_type": "display_data"
    }
   ],
   "source": [
    "# evaluation\n",
    "x = range(start, limit, step)\n",
    "\n",
    "fig, ax1 = plt.subplots(figsize=(12,5))\n",
    "\n",
    "# coherence\n",
    "c1 = 'darkturquoise'\n",
    "ax1.plot(x, coherence_vals, 'o-', color=c1)\n",
    "ax1.set_xlabel('Num Topics')\n",
    "ax1.set_ylabel('Coherence', color=c1); ax1.tick_params('y', colors=c1)\n",
    "\n",
    "# perplexity\n",
    "c2 = 'slategray'\n",
    "ax2 = ax1.twinx()\n",
    "ax2.plot(x, perplexity_vals, 'o-', color=c2)\n",
    "ax2.set_ylabel('Perplexity', color=c2); ax2.tick_params('y', colors=c2)\n",
    "\n",
    "# Vis\n",
    "ax1.set_xticks(x)\n",
    "fig.tight_layout()\n",
    "plt.show()\n",
    "\n",
    "# save as png\n",
    "plt.savefig('metrics.png') "
   ]
  },
  {
   "cell_type": "markdown",
   "id": "considered-supervision",
   "metadata": {},
   "source": [
    "トピック数を推定する方法は多数提案されているが、推定結果が必ずしも一致しない。  \n",
    "  \n",
    "ここではクラスター分析の結果なども踏まえて3つのトピックと仮定し、経年情報を取り入れたトピック分析を試みる。  \n",
    "このようなトピックモデルを**構造的トピックモデル(STM)**、またはダイナミックトピックモデルと呼ぶ。  "
   ]
  },
  {
   "cell_type": "markdown",
   "id": "important-simulation",
   "metadata": {},
   "source": [
    "各トピックの重要語と、各トピックの割合の経年的な遷移状況を図に示す。"
   ]
  },
  {
   "cell_type": "code",
   "execution_count": 572,
   "id": "cheap-complex",
   "metadata": {},
   "outputs": [
    {
     "name": "stderr",
     "output_type": "stream",
     "text": [
      "WARNING:gensim.models.ldamulticore:too few updates, training might not converge; consider increasing the number of passes or iterations to improve accuracy\n"
     ]
    }
   ],
   "source": [
    "lda_model = gensim.models.LdaMulticore(bow_corpus, \n",
    "                                   num_topics = 3, \n",
    "                                   id2word = dictionary,\n",
    "                                   iterations=100)"
   ]
  },
  {
   "cell_type": "code",
   "execution_count": 573,
   "id": "neither-strap",
   "metadata": {},
   "outputs": [
    {
     "name": "stdout",
     "output_type": "stream",
     "text": [
      "\n",
      "\n",
      "================================================================================\n",
      "TOPIC 1\n",
      "\n",
      "皆様                  0.00617980258539319\n",
      "選挙                  0.005085872020572424\n",
      "民間                  0.0044556790962815285\n",
      "状況                  0.0042176926508545876\n",
      "役割                  0.004092519637197256\n",
      "民主                  0.0040314388461411\n",
      "心                   0.0039914329536259174\n",
      "物価                  0.003973220940679312\n",
      "方々                  0.003904373152181506\n",
      "成立                  0.003868220141157508\n",
      "税                   0.0037995229940861464\n",
      "税制                  0.003763429122045636\n",
      "構築                  0.0037400219589471817\n",
      "議論                  0.0035512573085725307\n",
      "再生                  0.0035418143961578608\n",
      "災害                  0.0034206451382488012\n",
      "情報                  0.003326195292174816\n",
      "所存                  0.0032661696895956993\n",
      "規制                  0.0032452698796987534\n",
      "関連                  0.0031441180035471916\n",
      "交渉                  0.003106883028522134\n",
      "会議                  0.0030364657286554575\n",
      "医療                  0.003010541433468461\n",
      "計画                  0.002976400312036276\n",
      "未来                  0.0029026963748037815\n",
      "高齢                  0.0028757897671312094\n",
      "歴史                  0.0028207043651491404\n",
      "緩和                  0.002803554991260171\n",
      "投資                  0.0027795692440122366\n",
      "機会                  0.0027655374724417925\n",
      "\n",
      "\n",
      "================================================================================\n",
      "TOPIC 2\n",
      "\n",
      "皆様                  0.006711646914482117\n",
      "文化                  0.004934183321893215\n",
      "方々                  0.0044535440392792225\n",
      "所存                  0.0041590104810893536\n",
      "計画                  0.004103381652384996\n",
      "物価                  0.00405844347551465\n",
      "状況                  0.004041730426251888\n",
      "エネルギー               0.003839608747512102\n",
      "会議                  0.00380744063295424\n",
      "構築                  0.0036969364155083895\n",
      "高齢                  0.0036869500763714314\n",
      "歴史                  0.0036714388988912106\n",
      "規制                  0.003657636698335409\n",
      "民主                  0.003543962724506855\n",
      "人                   0.0034251196775585413\n",
      "税制                  0.0033093146048486233\n",
      "実行                  0.0032668502535670996\n",
      "道                   0.003200447652488947\n",
      "安心                  0.003191667143255472\n",
      "精神                  0.003026488935574889\n",
      "石油                  0.003026459366083145\n",
      "交渉                  0.003012652974575758\n",
      "投資                  0.0030084101017564535\n",
      "役割                  0.0030068436171859503\n",
      "戦略                  0.002981137251481414\n",
      "民間                  0.002937816781923175\n",
      "総理                  0.00287616322748363\n",
      "危機                  0.002870619762688875\n",
      "参加                  0.0028618008363991976\n",
      "再生                  0.0028566617984324694\n",
      "\n",
      "\n",
      "================================================================================\n",
      "TOPIC 3\n",
      "\n",
      "皆様                  0.005992640741169453\n",
      "方々                  0.004698869306594133\n",
      "歴史                  0.004663717932999134\n",
      "沖                   0.004604874644428492\n",
      "選挙                  0.0045829094015061855\n",
      "文化                  0.004397684708237648\n",
      "繩                   0.003991787787526846\n",
      "税制                  0.003822144353762269\n",
      "物価                  0.0037311529740691185\n",
      "心                   0.0037105376832187176\n",
      "状況                  0.0035867078695446253\n",
      "実行                  0.0034865487832576036\n",
      "医療                  0.0034042473416775465\n",
      "再生                  0.003316976595669985\n",
      "情報                  0.0032419241033494473\n",
      "危機                  0.003232816467061639\n",
      "所存                  0.003220283892005682\n",
      "戦略                  0.0032095301430672407\n",
      "皆さん                 0.003145997878164053\n",
      "人々                  0.003116205334663391\n",
      "合意                  0.003106289077550173\n",
      "総理                  0.0029906306881457567\n",
      "構築                  0.0029762249905616045\n",
      "議論                  0.002967722248286009\n",
      "被災                  0.002927649300545454\n",
      "税                   0.0029146275483071804\n",
      "展開                  0.0028804216999560595\n",
      "エネルギー               0.0028797914274036884\n",
      "未来                  0.0028652031905949116\n",
      "計画                  0.0028618089854717255\n"
     ]
    }
   ],
   "source": [
    "for i in range(3):\n",
    "    print(\"\\n\")\n",
    "    print(\"=\"*80)\n",
    "    print(\"TOPIC {0}\\n\".format(i+1))\n",
    "    topic = lda_model.show_topic(i, 30)\n",
    "    for t in topic:\n",
    "        print(\"{0:20s}{1}\".format(t[0], t[1]))"
   ]
  },
  {
   "cell_type": "code",
   "execution_count": 574,
   "id": "prepared-dating",
   "metadata": {},
   "outputs": [],
   "source": [
    "corpus_lda = lda_model[bow_corpus]\n",
    "arr = gensim.matutils.corpus2dense(\n",
    "        corpus_lda,\n",
    "        num_terms=3\n",
    "        ).T"
   ]
  },
  {
   "cell_type": "code",
   "execution_count": 575,
   "id": "hearing-ottawa",
   "metadata": {},
   "outputs": [
    {
     "data": {
      "text/plain": [
       "[<matplotlib.lines.Line2D at 0x235a5583430>]"
      ]
     },
     "execution_count": 575,
     "metadata": {},
     "output_type": "execute_result"
    },
    {
     "data": {
      "image/png": "[encoded data removed]",
      "text/plain": [
       "<Figure size 432x288 with 1 Axes>"
      ]
     },
     "metadata": {
      "needs_background": "light"
     },
     "output_type": "display_data"
    }
   ],
   "source": [
    "from scipy.ndimage import gaussian_filter1d\n",
    "\n",
    "xs=np.arange(len(arr))\n",
    "model=make_interp_spline(xs, arr[:,0])\n",
    "\n",
    "y_smoothed0 = gaussian_filter1d(arr[:,0], sigma=10)\n",
    "y_smoothed1 = gaussian_filter1d(arr[:,1], sigma=10)\n",
    "y_smoothed2 = gaussian_filter1d(arr[:,2], sigma=10)\n",
    "\n",
    "plt.plot(y_smoothed0)\n",
    "plt.plot(y_smoothed1)\n",
    "plt.plot(y_smoothed2)"
   ]
  },
  {
   "cell_type": "code",
   "execution_count": null,
   "id": "unsigned-narrow",
   "metadata": {},
   "outputs": [],
   "source": []
  },
  {
   "cell_type": "code",
   "execution_count": null,
   "id": "instant-diana",
   "metadata": {},
   "outputs": [],
   "source": []
  },
  {
   "cell_type": "code",
   "execution_count": null,
   "id": "productive-guide",
   "metadata": {},
   "outputs": [],
   "source": []
  },
  {
   "cell_type": "code",
   "execution_count": null,
   "id": "attached-anger",
   "metadata": {},
   "outputs": [],
   "source": []
  }
 ],
 "metadata": {
  "kernelspec": {
   "display_name": "Python 3",
   "language": "python",
   "name": "python3"
  },
  "language_info": {
   "codemirror_mode": {
    "name": "ipython",
    "version": 3
   },
   "file_extension": ".py",
   "mimetype": "text/x-python",
   "name": "python",
   "nbconvert_exporter": "python",
   "pygments_lexer": "ipython3",
   "version": "3.8.5"
  }
 },
 "nbformat": 4,
 "nbformat_minor": 5
}
