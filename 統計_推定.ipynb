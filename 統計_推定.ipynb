{
 "cells": [
  {
   "cell_type": "markdown",
   "id": "handed-trigger",
   "metadata": {},
   "source": [
    "### 推定\n",
    "\n",
    "母集団の母数は実際の問題では未知であり、これらを$X_1,X_2,\\cdots,X_n$から定める必要がある。\n",
    "これを母数の推定と呼ぶ。\n",
    "標本平均や標本分散のように、母数を推定するために標本から求められた統計量を一般に推定量と呼ぶ。\n",
    "推定しようとするパラメータを$\\theta$で表すものとする。推定量は、$\\hat{\\theta}$のように表す。\n",
    "たとえば、$\\theta$が母平均のとき、$\\theta$を推定するために、標本平均を\n",
    "$$\n",
    "\\hat{\\theta}=(X_1+\\cdots+X_n)\\ /\\ n\n",
    "$$\n",
    "のように使う。\n",
    "一般に$\\hat{\\theta}$は$X_1,\\cdots,X_n$の関数であるが、それを強調する場合は$\\hat{\\theta}(X_1,\\cdots,X_n)$と書くこともある。\n",
    "また、複数個の母数を同時に考える場合は、これらを$\\theta_1,\\cdots,\\theta_k$、その推定量を$\\hat{\\theta}_1,\\cdots,\\hat{\\theta}_k$と表す。\n",
    "\n",
    "### 点推定と区間推定\n",
    "母集団の未知の母数$\\theta$を推定する場合、それをある一つの値$\\hat{\\theta}$を指定する方法を点推定と呼ぶ。\n",
    "$\\hat{\\theta}$は$X_1,\\cdots,X_n$の関数である。この関数が推定量であるが、確率変数であるから現実の$\\hat{\\theta}$の値は$\\theta$に一致せず、実際の推定にはなにがしかの誤差を伴う。したがって、誤差の評価に行わなければならないが、これには推定量の標本分布を考えた確率的な取り扱いが必要である。\n",
    "区間推定は、真のパラメータに値が入る確率がある値$1-\\alpha$以上と保証される区間$[L,U]$を求めるもので、最初からある程度の誤りがあることを認めた推定法といえる。たとえば、\n",
    "\n",
    "$$\n",
    "P(L\\leq \\mu \\leq U) \\geq 1-\\alpha\n",
    "$$\n",
    "\n",
    "となる、$L,U$を求めるものである。\n",
    "$L,U$は$X_1,\\cdots,X_n$の関数、つまり統計量で、左辺の確率が$1-\\alpha$以上になるように標本分布から求められる\n",
    "### 点推定の考え方とその手順\n",
    "たとえば、標本平均$\\bar{X}$は母平均$\\mu$の推定量、標本分散$s^2$は母分散$\\sigma^2$の推定量である。\n",
    "$$\n",
    "E(\\bar{X})=\\mu,\\hspace{5mm}E[s^2]=\\sigma^2\n",
    "$$\n",
    "\n",
    "であるから、平均的に$\\bar{X}$は$\\mu$に、$s^2$は$\\sigma^2$に合致する推定量である。推定量は$X_1,\\cdots,X_n$の関数で確率変数である。\n",
    "具体的に$n$個の観測値が与えられた場合、推定量を実際の数字として計算することができる。これを推定値と呼ぶ。\n",
    "#### 点推定の手順\n",
    "##### モーメント法\n",
    "母集団が正規分布$N(\\mu,\\sigma^2)$のとき、母集団の1次、2次モーメント$\\mu_1,\\mu_2$は$\\sigma^2=\\mu_2-\\mu_1^2$だから、\n",
    "$$\n",
    "\\mu_1=\\mu_2,\\hspace{5mm}\\mu_2=\\sigma^2+\\mu^2\n",
    "$$\n",
    "である。一方、標本から、\n",
    "$$\n",
    "\\hat{\\mu}_1=\\sum X_i\\ /\\ n,\\hspace{5mm}\\hat{\\mu}_2=\\sum X_i^2\\ /\\ n\n",
    "$$\n",
    "\n",
    "で、推定することを考える。母モーメント=標本モーメントと等しく置くと、\n",
    "$$\n",
    "\\mu_1=\\hat{\\mu}_1,\\hspace{5mm}\\mu_2=\\hat{\\mu}_2\n",
    "$$\n",
    "から、母平均、母分散の$\\mu,\\sigma^2$の推定量\n",
    "$$\n",
    "\\hat{\\mu}=\\sum X_i\\ /\\ n\\hspace{5mm}\\hat{\\sigma}^2=\\sum(X_i-\\bar{X})^2\\ /\\ n\n",
    "$$\n",
    "\n",
    "が得られる。\n",
    "このようにモーメント$\\mu_1,\\mu_2,\\cdots$の推定によって、母数の推定を行う手続きをモーメント法という。\n",
    "\n",
    "##### 最尤法\n",
    "1をとる確率が$p$、0をとる確率が$1-p$のベルヌーイ分布$Bi(1,p)$が母集団分布の場合を考える。\n",
    "推定すべき未知の母数は$p$であり、0から1までの間の値をとる可能性があるが、母数が取り得る値の集合を母数空間と呼び、$\\Theta$で表す。\n",
    "たとえば、$X_1=1,X_2=1,X_3=1,X_4=1,X_5=0$の標本が得られたとする。\n",
    "最尤原理といわれる「現実の標本は確率最大のものが実現した」という仮定を採用する。\n",
    "この標本が得られる確率は、\n",
    "$$\n",
    "L(p)=p^4(1-p)\n",
    "$$\n",
    "である。\n",
    "$L(p)$は、母数空間$\\Theta$での$p$のいろいろな値におけるもっともらしさを表す関数とみなすことができ、このようにもっともらしさを尤度、その関数を尤度関数と呼ぶ。\n",
    "最尤法は尤度関数を母数空間$\\Theta$で最大にするものを推定値や推定量とするもので、尤度関数を最大にする値が最尤推定値、関数としては最尤推定量である。\n",
    "今回の例では、\n",
    "$$\n",
    "\\frac{dL(p)}{dp}=p^3(4-5p)\n",
    "$$\n",
    "なので、$\\hat{p}=0.8$が最尤推定値である。\n",
    "\n",
    "一般に、大きさ$n$の標本において、未知の母数を一般に$\\theta$とした場合、尤度関数は$X_1,\\cdots,X_n$の同時確率分布を$\\theta$の関数とみなしたもので、$X_i$の確率分布を$f(x_i,\\theta)$とすると、尤度関数は$n$個の確率関数の積\n",
    "$$\n",
    "L(\\theta)=f(x_1,\\theta)・f(x_2,\\theta)・\\cdots・f(x_n,\\theta)\n",
    "$$\n",
    "を$\\theta$の関数と見なしたものである。\n",
    "また、母集団分布が複数の母数$\\theta_1,\\cdots,\\theta_k$を含む場合は、尤度関数は、\n",
    "$$\n",
    "L(\\theta_1,\\cdots,\\theta_k)=\\prod_{i=1}^nf(x_i;\\theta_1,\\cdots,\\theta_k)\n",
    "$$\n",
    "となる。\n",
    "対数をとって和の形にした対数尤度\n",
    "$$\n",
    "\\log L(p)=\\sum_{i=1}^nf(X_i;\\theta)\n",
    "$$\n",
    "を考えるのが普通である。\n",
    "最尤推定量$\\hat{\\theta}$は、$\\log L(\\theta)$を母数空間$\\Theta$において最大にする推定量であり、通常\n",
    "$$\n",
    "\\frac{\\partial L(\\theta)}{\\partial \\theta}=0\n",
    "$$\n",
    "の解を考えることによって求める。\n",
    "ベルヌーイ分布では、\n",
    "$$\n",
    "\\log L(p)=r\\log p+(n-r)\\log (1-p)\n",
    "$$\n",
    "これを微分して\n",
    "$$\n",
    "\\frac{\\partial L(p)}{\\partial p}=\\frac{r}{p}-\\frac{n-r}{1-p}=0\n",
    "$$\n",
    "とおくと、$p$の最尤推定量は1の相対頻度$\\hat{p}=r\\ /\\ n$となる。"
   ]
  },
  {
   "cell_type": "markdown",
   "id": "stopped-booth",
   "metadata": {},
   "source": [
    "### 点推定の基準\n",
    "推定量は一つとは限らず複数考えることができる。\n",
    "すべてが推定量として適当であるとは限らず、実用上意味があるためには、標本分布は真の母数$\\theta$の周辺に集中していることを示すいくつかの基準を満足する必要がある。\n",
    "#### 基準1 不偏性\n",
    "$\\hat{\\theta}$は$\\theta$の推定量であるから、その分布は$\\theta$の回りに散布していなければならない。\n",
    "この一つの基準が不偏性である。\n",
    "不偏性とは、推定量の期待値をとった場合、真の母数の値となることであり、\n",
    "$$\n",
    "E[\\hat{\\theta}]=\\theta\n",
    "$$\n",
    "となる性質である。これを満足する推定量を不偏推定量と呼ぶ。\n",
    "いま、母平均を$\\mu$、母分散を$\\sigma^2$とすると、大きさ$n$の無作為標本$X_1,\\cdots,X_n$に対し、$E(X_i)=\\mu,V(X_i)=\\sigma^2$である。\n",
    "標本平均\n",
    "$$\n",
    "\\bar{X}=(X_1+\\cdots+X_n)\\ /\\ n\n",
    "$$\n",
    "に対しては、\n",
    "$$\n",
    "E(\\bar{X})=\\mu\n",
    "$$\n",
    "だから、標本平均はつねに母平均の不偏推定量である。\n",
    "母分散$\\sigma^2$の推定のために、\n",
    "$$\n",
    "S^2=\\frac{1}{n}\\sum_{i=1}^n(X_i-\\bar{X})^2\n",
    "$$\n",
    "を使うと、計算の結果\n",
    "$$\n",
    "E(S^2)=\\frac{n-1}{n}\\sigma^2\n",
    "$$\n",
    "となり、平均的に過小推定することになり、$\\sigma^2$に対して不偏ではない。\n",
    "$$\n",
    "s^2=\\frac{1}{n-1}\\sum_{i=1}^n(X_i-\\bar{X})^2\n",
    "$$\n",
    "を用いれば、\n",
    "$$\n",
    "E(s^2)=\\sigma^2\n",
    "$$\n",
    "となって、母分散の不偏推定量$\\sigma^2$を得る。\n",
    "#### 基準２ 一致性\n",
    "標本の大きさ$n$が大きくなるに従い、$\\hat{\\theta}_n$が、真の母数の値$\\theta$に近づく性質である。\n",
    "数学的には、すべての$\\varepsilon>0$に対して、$n→\\infty$のとき$P(|\\hat{\\theta}_n-\\theta|>\\epsilon)→0$となることである。\n",
    "この条件を満足する場合、$\\hat{\\theta}_n$は一致推定量であるという。\n",
    "#### 基準3 漸近正規性\n",
    "推定量が$X_1,\\cdots,X_n$の複雑な関数であっても、中心極限定理により漸近分布は正規分布であることが多い。\n",
    "漸近分布が正規分布である性質を漸近正規性と呼んだ。この性質を満たす推定量を漸近正規推定量と呼ぶ。\n",
    "中心極限定理によれば、$\\bar{X}$の漸近分布は、母集団分布に関係なく$N(\\mu,\\sigma^2\\ /\\ n)$であり、$\\bar{X}$は漸近推定量である。\n",
    "#### 基準4 有効性\n",
    "いかなる不偏推定量よりも分散が小さい推定量が存在すれば、それは非常に望ましい推定量であるといえる。\n",
    "そのような推定量が存在するとき、有向推定量または最小分散不偏推定量と呼ぶ。\n",
    "実際の推定では有向推定量を見つけることは難しいことが多い。\n",
    "そこで、有効性の基準を少し緩めた漸近有効性と呼ばれる基準が使われることがある。\n",
    "漸近有効性とは、漸近分布が正規分布おｔなる推定量のうち、その漸近分散が最小となる性質をいう。\n",
    "$n→\\infty$における有効性であり、この性質を満足する推定量を漸近的有向推定量と呼ぶ。"
   ]
  },
  {
   "cell_type": "markdown",
   "id": "cultural-moscow",
   "metadata": {},
   "source": [
    "### 点推定の例\n",
    "#### 正規分布に関する推定\n",
    "正規分布$N(\\mu,\\sigma^2)$の尤度関数は、\n",
    "$$\n",
    "L(\\mu,\\sigma^2)=\\prod_{i=1}^n\\frac{1}{\\sqrt{2\\pi}\\sigma}\\exp\\bigl\\\\{-(X_i-\\mu)^2/2\\sigma^2\\bigr\\\\}\\\\\n",
    "\\log L(\\mu,\\sigma^2)=-n\\log(\\sqrt{2\\pi}\\sigma)-\\sum_{i=1}^n(X_i-\\mu)^2\\ /\\ 2\\sigma^2\n",
    "$$\n",
    "である。\n",
    "$\\mu,\\sigma^2$で偏微分してそれぞれ0とおいて最尤推定量を求めると、\n",
    "$$\n",
    "\\bar{X}=\\sum_{i=1}^nX_i\\ /\\ n,\\hspace{5mm}S^2=\\sum_{i=1}^n(X_i-\\bar{X})^2\\ /\\ n\n",
    "$$\n",
    "ただし、$S^2$は不偏でないので、$s^2=\\sum_{i=1}^n(X_i-\\bar{X})^2\\ /\\ (n-1)$を推定量とする方が一般的である。\n",
    "#### 二項分布に関する推定\n",
    "母集団分布が標本$X_i=0,1$を出す母数$p$のベルヌーイ分布$Bi(1,p)$の二項分布であるとき、尤度関数の対数は、\n",
    "$$\n",
    "\\log L(p)=\\sum_{i=1}^n\\{X_i\\log p + (1-X_i)\\log (1-p)\\}\n",
    "$$\n",
    "であるから、最尤推定量は$\\hat{p}=\\bar{X}$となる。\n",
    "#### ポアソン分布に対する推定\n",
    "母数$\\lambda$の$Po(\\lambda)$のとき、対数尤度関数は、\n",
    "$$\n",
    "\\log L(p)=\\sum_{i=1}^n(-\\lambda+X_i\\log\\lambda-\\log X_i!)\n",
    "$$\n",
    "である、したがって最尤推定量を求めると、\n",
    "$$\n",
    "\\hat{\\lambda}=\\bar{X}\n",
    "$$\n",
    "となる。\n",
    "#### 一様分布に関する推定\n",
    "母集団分布が区間$(a,b)$の一様分布($a<b$)であるとき、$a,b$が母数であるが、\n",
    "$$\n",
    "\\mu=(a+b)/2,\\hspace{5mm}\\sigma^2=(a-b)^2/12\n",
    "$$\n",
    "である。これから$a,b$を解くと、\n",
    "$$\n",
    "a=\\mu-\\sqrt{3}\\sigma,\\hspace{5mm}b=\\mu+\\sqrt{3}\\sigma\n",
    "$$\n",
    "であるから、モーメント法による推定量は、\n",
    "$$\n",
    "a=\\bar{X}-\\sqrt{3}S,\\hspace{5mm}b=\\bar{X}+\\sqrt{3}S\n",
    "$$\n",
    "となる。\n",
    "一方、最尤推定量は求め方は略すが、\n",
    "$$\n",
    "a=\\min\\\\{X_1,\\cdots,X_n\\\\}\\hspace{5mm}b=\\max\\\\{X_1,\\cdots,X_n\\\\}\n",
    "$$"
   ]
  },
  {
   "cell_type": "markdown",
   "id": "instructional-dependence",
   "metadata": {},
   "source": [
    "### 区間推定\n",
    "区間推定とは真の母数$\\theta$が、ある区間$(L,U)$に入る確率を$1-\\alpha$以上になるように保証する方法であり、\n",
    "$$\n",
    "P\\bigl(L\\leq\\theta\\leq U\\bigr)\\geq 1-\\alpha\n",
    "$$\n",
    "となる確率変数$L,U$を求めるものである。\n",
    "$L,U$はそれぞれ、下側信頼限界、上側信頼限界といわれる。\n",
    "$1-\\alpha$は信頼係数と呼び、区間$[L,U]$を$100(1-\\alpha)%$信頼区間と呼ぶ。\n",
    "\n",
    "#### 正規母集団の母平均、母分散の区間推定\n",
    "##### 母平均の信頼区間\n",
    "$\\bar{X}$は正規分布$N(\\mu,\\sigma^2/n)$に従うから、これを標準化すると、\n",
    "$$\n",
    "P\\bigl(-Z_{\\alpha/2}\\leq \\sqrt{n}(\\bar{X}-\\mu)\\ /\\ \\sigma\\leq Z_{\\alpha/2}\\bigr)=1-\\alpha\n",
    "$$\n",
    "これを$\\mu$について解くと、\n",
    "$$\n",
    "P\\bigl(\\bar{X}-Z_{\\alpha/2}\\sigma\\ /\\ \\sqrt{n} \\leq \\mu \\leq \\bar{X}+Z_{\\alpha/2}\\sigma/\\sqrt{n}\\bigr)=1-\\alpha\n",
    "$$\n",
    "であり、$\\mu$の信頼区間は\n",
    "$$\n",
    "\\bigl[\\bar{X}-Z_{\\alpha/2}\\sigma\\ /\\ \\sqrt{n},\\bar{X}+Z_{\\alpha/2}\\sigma\\ /\\ \\sqrt{n}\\bigr]\n",
    "$$\n",
    "となる。\n",
    "\n",
    "また、$\\sigma^2$が未知のときは標本分散$s^2$を使うと、$\\sqrt{n}(\\bar{X}-\\mu)\\ /\\ s$は自由度$n-1$のt分布$t(n-1)$に従うから、\n",
    "$$\n",
    "P\\bigl(-t_{\\alpha\\ /\\ 2}\\leq \\sqrt{n}(\\bar{X}-\\mu)\\ /\\ s\\leq t_{\\alpha\\ /\\ 2}\\bigr)=1-\\alpha\n",
    "$$\n",
    "である。\n",
    "これを$\\mu$について解くと、\n",
    "$$\n",
    "P\\bigl(\\bar{X}-t_{\\alpha\\ /\\ 2}(n-1)s\\ /\\ \\sqrt{n} \\leq \\mu \\leq \\bar{X}+t_{\\alpha\\ /\\ 2}(n-1)s\\ /\\ \\sqrt{n}\\bigr)=1-\\alpha\n",
    "$$\n",
    "となる。したがって、母平均$\\mu$の信頼区間$1-\\alpha$の信頼区間は\n",
    "$$\n",
    "\\bigl[\\bar{X}-t_{\\alpha\\ /\\ 2}(n-1)s\\ /\\ \\sqrt{n},\\bar{X}+t_{\\alpha\\ /\\ 2}(n-1)s\\ /\\ \\sqrt{n}\\bigr]\n",
    "$$\n"
   ]
  },
  {
   "cell_type": "code",
   "execution_count": 198,
   "id": "dangerous-persian",
   "metadata": {},
   "outputs": [
    {
     "data": {
      "text/html": [
       "<div>\n",
       "<style scoped>\n",
       "    .dataframe tbody tr th:only-of-type {\n",
       "        vertical-align: middle;\n",
       "    }\n",
       "\n",
       "    .dataframe tbody tr th {\n",
       "        vertical-align: top;\n",
       "    }\n",
       "\n",
       "    .dataframe thead th {\n",
       "        text-align: right;\n",
       "    }\n",
       "</style>\n",
       "<table border=\"1\" class=\"dataframe\">\n",
       "  <thead>\n",
       "    <tr style=\"text-align: right;\">\n",
       "      <th></th>\n",
       "      <th>No.</th>\n",
       "      <th>ポケモン</th>\n",
       "      <th>タイプ1</th>\n",
       "      <th>タイプ2</th>\n",
       "      <th>重さ</th>\n",
       "      <th>高さ</th>\n",
       "      <th>HP</th>\n",
       "      <th>攻撃</th>\n",
       "      <th>防御</th>\n",
       "      <th>特攻</th>\n",
       "      <th>特防</th>\n",
       "      <th>素早さ</th>\n",
       "      <th>合計</th>\n",
       "      <th>世代</th>\n",
       "    </tr>\n",
       "  </thead>\n",
       "  <tbody>\n",
       "    <tr>\n",
       "      <th>0</th>\n",
       "      <td>1</td>\n",
       "      <td>フシギダネ</td>\n",
       "      <td>くさ</td>\n",
       "      <td>どく</td>\n",
       "      <td>6.9</td>\n",
       "      <td>0.7</td>\n",
       "      <td>45</td>\n",
       "      <td>49</td>\n",
       "      <td>49</td>\n",
       "      <td>65</td>\n",
       "      <td>65</td>\n",
       "      <td>45</td>\n",
       "      <td>318</td>\n",
       "      <td>第1世代</td>\n",
       "    </tr>\n",
       "    <tr>\n",
       "      <th>1</th>\n",
       "      <td>2</td>\n",
       "      <td>フシギソウ</td>\n",
       "      <td>くさ</td>\n",
       "      <td>どく</td>\n",
       "      <td>13.0</td>\n",
       "      <td>1.0</td>\n",
       "      <td>60</td>\n",
       "      <td>62</td>\n",
       "      <td>63</td>\n",
       "      <td>80</td>\n",
       "      <td>80</td>\n",
       "      <td>60</td>\n",
       "      <td>405</td>\n",
       "      <td>第1世代</td>\n",
       "    </tr>\n",
       "    <tr>\n",
       "      <th>2</th>\n",
       "      <td>3</td>\n",
       "      <td>フシギバナ</td>\n",
       "      <td>くさ</td>\n",
       "      <td>どく</td>\n",
       "      <td>100.0</td>\n",
       "      <td>2.0</td>\n",
       "      <td>80</td>\n",
       "      <td>82</td>\n",
       "      <td>83</td>\n",
       "      <td>100</td>\n",
       "      <td>100</td>\n",
       "      <td>80</td>\n",
       "      <td>525</td>\n",
       "      <td>第1世代</td>\n",
       "    </tr>\n",
       "    <tr>\n",
       "      <th>3</th>\n",
       "      <td>4</td>\n",
       "      <td>ヒトカゲ</td>\n",
       "      <td>ほのお</td>\n",
       "      <td>NaN</td>\n",
       "      <td>8.5</td>\n",
       "      <td>0.6</td>\n",
       "      <td>39</td>\n",
       "      <td>52</td>\n",
       "      <td>43</td>\n",
       "      <td>60</td>\n",
       "      <td>50</td>\n",
       "      <td>65</td>\n",
       "      <td>309</td>\n",
       "      <td>第1世代</td>\n",
       "    </tr>\n",
       "    <tr>\n",
       "      <th>4</th>\n",
       "      <td>5</td>\n",
       "      <td>リザード</td>\n",
       "      <td>ほのお</td>\n",
       "      <td>NaN</td>\n",
       "      <td>19.0</td>\n",
       "      <td>1.1</td>\n",
       "      <td>58</td>\n",
       "      <td>64</td>\n",
       "      <td>58</td>\n",
       "      <td>80</td>\n",
       "      <td>65</td>\n",
       "      <td>80</td>\n",
       "      <td>405</td>\n",
       "      <td>第1世代</td>\n",
       "    </tr>\n",
       "  </tbody>\n",
       "</table>\n",
       "</div>"
      ],
      "text/plain": [
       "   No.   ポケモン タイプ1 タイプ2     重さ   高さ  HP  攻撃  防御   特攻   特防  素早さ   合計    世代\n",
       "0    1  フシギダネ   くさ   どく    6.9  0.7  45  49  49   65   65   45  318  第1世代\n",
       "1    2  フシギソウ   くさ   どく   13.0  1.0  60  62  63   80   80   60  405  第1世代\n",
       "2    3  フシギバナ   くさ   どく  100.0  2.0  80  82  83  100  100   80  525  第1世代\n",
       "3    4   ヒトカゲ  ほのお  NaN    8.5  0.6  39  52  43   60   50   65  309  第1世代\n",
       "4    5   リザード  ほのお  NaN   19.0  1.1  58  64  58   80   65   80  405  第1世代"
      ]
     },
     "execution_count": 198,
     "metadata": {},
     "output_type": "execute_result"
    }
   ],
   "source": [
    "import pandas as pd\n",
    "import numpy as np\n",
    "import matplotlib.pyplot as plt\n",
    "import japanize_matplotlib\n",
    "\n",
    "d = pd.read_csv('C:/Users/tanak/OneDrive/ドキュメント/pokemon_for_stats.csv').iloc[:,1:]\n",
    "gen = [\"第1世代\"]*151+[\"第2世代\"]*100+[\"第3世代\"]*135+[\"第4世代\"]*107+[\"第5世代\"]*156+[\"第6世代\"]*72+[\"第7世代\"]*88+[\"第8世代\"]*89\n",
    "d['世代'] = gen\n",
    "\n",
    "num_cols = ['重さ','高さ','HP','攻撃','防御','特攻','特防','素早さ','合計']\n",
    "d.head()"
   ]
  },
  {
   "cell_type": "markdown",
   "id": "disturbed-security",
   "metadata": {},
   "source": [
    "ポケモンのデータの「攻撃」と「防御」を使って推定区間の計算を行う。"
   ]
  },
  {
   "cell_type": "code",
   "execution_count": 199,
   "id": "guided-principal",
   "metadata": {},
   "outputs": [
    {
     "data": {
      "text/plain": [
       "Text(0.5, 1.0, '防御')"
      ]
     },
     "execution_count": 199,
     "metadata": {},
     "output_type": "execute_result"
    },
    {
     "data": {
      "image/png": "[encoded data removed]",
      "text/plain": [
       "<Figure size 720x288 with 2 Axes>"
      ]
     },
     "metadata": {
      "needs_background": "light"
     },
     "output_type": "display_data"
    }
   ],
   "source": [
    "fig, ax = plt.subplots(1,2, figsize=(10,4))\n",
    "\n",
    "ax[0].hist(d['攻撃'], density=True);\n",
    "ax[0].set_title('攻撃')\n",
    "ax[1].hist(d['防御'], density=True);\n",
    "ax[1].set_title('防御')"
   ]
  },
  {
   "cell_type": "markdown",
   "id": "rural-chuck",
   "metadata": {},
   "source": [
    "分散既知と分散未知の場合の区間推定の例を示す。\n",
    "サンプル数を変化させ、どのように変化するか確認する。"
   ]
  },
  {
   "cell_type": "code",
   "execution_count": 203,
   "id": "latin-blake",
   "metadata": {},
   "outputs": [
    {
     "name": "stdout",
     "output_type": "stream",
     "text": [
      "n= 4\n",
      " 信頼区間(分散既知): [ 52.566587077420564 ,  101.33491292257943 ]\n",
      " 信頼区間(分散未知): [ 44.1881177787593 ,  109.71338222124069 ]\n",
      "\n",
      "n= 8\n",
      " 信頼区間(分散既知): [ 59.15641804388649 ,  93.6408319561135 ]\n",
      " 信頼区間(分散未知): [ 57.07162375784365 ,  95.72562624215634 ]\n",
      "\n",
      "n= 40\n",
      " 信頼区間(分散既知): [ 68.85280063280209 ,  84.27469936719791 ]\n",
      " 信頼区間(分散未知): [ 68.66257308823583 ,  84.46492691176417 ]\n",
      "\n"
     ]
    },
    {
     "data": {
      "image/png": "[encoded data removed]",
      "text/plain": [
       "<Figure size 1080x288 with 3 Axes>"
      ]
     },
     "metadata": {
      "needs_background": "light"
     },
     "output_type": "display_data"
    }
   ],
   "source": [
    "from scipy.stats import norm, t\n",
    "\n",
    "alpha = 0.1\n",
    "# 分散既知の場合\n",
    "sigma = np.std(d['攻撃'])\n",
    "\n",
    "fig, ax = plt.subplots(1,3, figsize=(15,4))\n",
    "for i, n in enumerate([4, 8, 40]):\n",
    "    print('n=',str(n))\n",
    "    # 各標本で平均と標準偏差の計算\n",
    "    sample_mean = np.array([d['攻撃'].sample(n).mean() for _  in range(1000)])\n",
    "    sample_std  = np.array([d['攻撃'].sample(n).std(ddof=1) for _  in range(1000)])\n",
    "\n",
    "    # 推定値\n",
    "    x_mean = np.mean(sample_mean)\n",
    "    s_mean = np.mean(sample_std)\n",
    "\n",
    "    # 正規分布のパーセント点(分散既知)\n",
    "    z = norm.ppf(1-alpha/2)\n",
    "    # t分布のパーセント点(分散未知)\n",
    "    pt = t.ppf(1-alpha/2, n-1)\n",
    "\n",
    "    print(' 信頼区間(分散既知): [',x_mean-z*sigma/np.sqrt(n),', ', x_mean+z*sigma/np.sqrt(n),']')\n",
    "    print(' 信頼区間(分散未知): [',x_mean-pt*s_mean/np.sqrt(n),', ', x_mean+pt*s_mean/np.sqrt(n),']\\n')\n",
    "\n",
    "    # プロット\n",
    "    ax[i].hist(sample_mean, color='lightblue');\n",
    "    ax[i].vlines([x_mean-z*sigma/np.sqrt(n), x_mean+z*sigma/np.sqrt(n)], 0, 300, color='red', linestyles='--', label='分散既知');\n",
    "    ax[i].vlines([x_mean-pt*s_mean/np.sqrt(n), x_mean+pt*s_mean/np.sqrt(n)], 0, 300, color='green', linestyles='--', label='分散未知');\n",
    "    ax[i].set_xlim(20,140)\n",
    "    ax[i].set_title('n='+str(n))\n",
    "    ax[i].legend();"
   ]
  },
  {
   "cell_type": "markdown",
   "id": "retained-blocking",
   "metadata": {},
   "source": [
    "分散既知の場合の方が、分散未知の場合より信頼区間が狭くなることが確認できる。\n",
    "サンプル数の増加とともに区間は狭くなり、分散既知と分散未知の場合での差はなくなることがわかる。"
   ]
  },
  {
   "cell_type": "markdown",
   "id": "controversial-custom",
   "metadata": {},
   "source": [
    "#### 母分散の信頼区間\n",
    "$(n-1)s^2/\\sigma^2$は自由度$n-1$の$\\chi^2$分布$\\chi^2(n-1)$に従うから、\n",
    "$$\n",
    "P\\bigl(\\chi^2_{1-\\alpha\\ /\\ 2}(n-1)\\leq (n-1)s^2\\ /\\ \\sigma^2\\leq\\chi^2_{\\alpha\\ /\\ 2}(n-1)\\bigr)=1-\\alpha\n",
    "$$\n",
    "となる。\n",
    "これを$\\sigma^2$について解くと、母分散$\\sigma^2$の信頼係数$1-\\alpha$の信頼区間は\n",
    "$$\n",
    "\\biggl[\\frac{(n-1)s^2}{\\chi^2_{\\alpha\\ /\\ 2}(n-1)}, \\frac{(n-1)s^2}{\\chi^2_{1-\\alpha\\ /\\ 2}(n-1)}\\biggr]\n",
    "$$\n",
    "となる。\n",
    "\n",
    "ここでも、サンプル数を変化させながら標本分布及び信頼区間の変化の様子を確認する。"
   ]
  },
  {
   "cell_type": "code",
   "execution_count": 201,
   "id": "elect-budapest",
   "metadata": {},
   "outputs": [
    {
     "name": "stdout",
     "output_type": "stream",
     "text": [
      "n= 4\n",
      " 信頼区間: [ 6405.515842590535 ,  288.3986736841427 ]\n",
      "\n",
      "n= 8\n",
      " 信頼区間: [ 2614.165852083134 ,  402.7692865374226 ]\n",
      "\n",
      "n= 40\n",
      " 信頼区間: [ 1322.1435673159722 ,  622.5326786463075 ]\n",
      "\n"
     ]
    },
    {
     "data": {
      "text/plain": [
       "<matplotlib.legend.Legend at 0x2a93a7ec490>"
      ]
     },
     "execution_count": 201,
     "metadata": {},
     "output_type": "execute_result"
    },
    {
     "data": {
      "image/png": "[encoded data removed]",
      "text/plain": [
       "<Figure size 432x288 with 1 Axes>"
      ]
     },
     "metadata": {
      "needs_background": "light"
     },
     "output_type": "display_data"
    }
   ],
   "source": [
    "from scipy.stats import chi2\n",
    "colors1 = ['lightblue', 'lightpink', 'lightgreen']\n",
    "colors2 = ['blue', 'red', 'green']\n",
    "\n",
    "for i, n in enumerate([4, 8, 40]):\n",
    "    print('n=',str(n))\n",
    "    # 標本の標準誤差の計算\n",
    "    sample_std  = np.array([d['攻撃'].sample(n).std(ddof=1) for _  in range(1000)])\n",
    "\n",
    "    # 推定値\n",
    "    s_mean = np.mean(sample_std)\n",
    "\n",
    "    # カイ二乗分布のパーセント点\n",
    "    cl = chi2.ppf(1-alpha/2, n-1)\n",
    "    cu = chi2.ppf(alpha/2, n-1)\n",
    "\n",
    "    print(' 信頼区間: [',(n-1)*(s_mean**2)/cu,', ', (n-1)*(s_mean**2)/cl,']\\n')\n",
    "\n",
    "    # プロット\n",
    "    plt.hist(sample_std**2, color=colors1[i], alpha=.5);\n",
    "    plt.vlines([(n-1)*(s_mean**2)/cu, (n-1)*(s_mean**2)/cl], 0, 300, color=colors2[i], linestyles='--', label='n='+str(n));\n",
    "plt.legend()"
   ]
  },
  {
   "cell_type": "markdown",
   "id": "detected-nylon",
   "metadata": {},
   "source": [
    "サンプル数の増加と共に分布の範囲は狭くなり、信頼区間も様くなることがわかる。"
   ]
  },
  {
   "cell_type": "markdown",
   "id": "critical-status",
   "metadata": {},
   "source": [
    "#### 二つの正規母集団の母平均の差、母分散の比の区間推定\n",
    "##### 母平均の差の信頼区間\n",
    "母集団分布$N(\\mu_1,\\sigma_1^2),N(\\mu_2,\\sigma_2^2)$である二つの正規母集団から個別に二つの標本$X_1,\\cdots,X_m$と$Y_1,\\cdots,Y_n$を抽出したときの、母平均の差$\\mu_1-\\mu_2$の区間推定について考える。\n",
    "二つの母分散が等しく$\\sigma_1^2=\\sigma_2^2=\\sigma^2$である場合、\n",
    "$$\n",
    "s^2=\\frac{1}{m+n-2}\\biggl(\\sum_{i=1}^m(X_i-\\bar{X})^2+\\sum_{j=1}^n(Y_j-\\bar{Y})^2\\biggr)\n",
    "$$\n",
    "\n",
    "とすると、\n",
    "$$\n",
    "t=\\frac{(\\bar{X}-\\bar{Y})-(\\mu_1-\\mu_2)}{s\\sqrt{\\frac{1}{m}+\\frac{1}{n}}}\n",
    "$$\n",
    "\n",
    "は自由度$m+n-2$の$t$分布$t(m+n-2)$に従う。\n",
    "したがって、\n",
    "$$\n",
    "P\\biggl(-t_{\\alpha\\ /\\ 2}(m+n-2)\\leq \\frac{(\\bar{X}-\\bar{Y})-(\\mu_1-\\mu_2)}{s\\sqrt{\\frac{1}{m}+\\frac{1}{n}}}\\leq  t_{\\alpha\\ /\\ 2}(m+n-2) \\biggr)=1-\\alpha\n",
    "$$\n",
    "\n",
    "これを差$\\mu_1-\\mu_2$について解くと、信頼係数$1-\\alpha$の信頼区間は\n",
    "$$\n",
    "\\biggl[\\bar{X}-\\bar{Y}-t_{\\alpha\\ /\\ 2}(m+n-2)s\\sqrt{\\frac{1}{m}+\\frac{1}{n}}, \\bar{X}-\\bar{Y}+t_{\\alpha\\ /\\ 2}(m+n-2)s\\sqrt{\\frac{1}{m}+\\frac{1}{n}} \\biggr]\n",
    "$$\n",
    "となる。\n",
    "また、二つの母分散が等しいとと仮定できない場合は\n",
    "$$\n",
    "s_1^2=\\frac{1}{m-1}\\sum(X_i-\\bar{X})^2,\\hspace{5mm}s_2^2=\\frac{1}{n-1}\\sum(Y_j-\\bar{Y})^2\n",
    "$$\n",
    "として、ウェルチの近似法を用いる、\n",
    "$$\n",
    "t=\\frac{(\\bar{X}-\\bar{Y})-(\\mu_1-\\mu_2)}{\\sqrt{\\frac{s_1^2}{m}+\\frac{s_2^2}{n}}}\n",
    "$$\n",
    "は自由度が\n",
    "$$\n",
    "\\nu=\\frac{\\bigl(\\frac{s_1^2}{m}+\\frac{s_2^2}{n} \\bigr)^2}{\\frac{(s_1^2/m)^2}{m-1}+\\frac{(s_2^2/n)^2}{n-1}}\n",
    "$$\n",
    "に最も近い整数$\\nu^*$の$t$分布$t(\\nu^*)$に近似的に従うから、信頼係数$1-\\alpha$の信頼区間は、次式となる。\n",
    "$$\n",
    "\\biggl[\\bar{X}-\\bar{Y}-t_{\\alpha\\ /\\ 2}(\\nu^*)\\sqrt{\\frac{s_1^2}{m}+\\frac{s_2^2}{n}}, \\bar{X}-\\bar{Y}+t_{\\alpha\\ /\\ 2}(\\nu^*)s\\sqrt{\\frac{s_1^2}{m}+\\frac{s_2^2}{n}} \\biggr]\n",
    "$$\n",
    "\n",
    "例として、「攻撃」と「防御」の種族値(ゲーム内で個体差を生むための設定値)の平均の差の分布と信頼区間の確認をする。\n",
    "それぞれのサンプル数は異なるものとし、数を増やして変化を見ることとする。\n",
    "等分散であるとした場合と、等分散でない(非等分散)とした場合の両方の結果を確認する。"
   ]
  },
  {
   "cell_type": "code",
   "execution_count": 204,
   "id": "rising-karen",
   "metadata": {},
   "outputs": [
    {
     "name": "stdout",
     "output_type": "stream",
     "text": [
      "n= 4  m= 8\n",
      " 信頼区間(等分散): [ -32.78010670567929 ,  44.19935670567929 ]\n",
      " 信頼区間(非等分散): [ -35.432273021966175 ,  -35.432273021966175 ]\n",
      "\n",
      "n= 8  m= 12\n",
      " 信頼区間(等分散): [ -23.744287477621306 ,  31.8356208109546 ]\n",
      " 信頼区間(非等分散): [ -23.968192767651328 ,  -23.968192767651328 ]\n",
      "\n",
      "n= 40  m= 60\n",
      " 信頼区間(等分散): [ -7.260140120298674 ,  16.47502345363202 ]\n",
      " 信頼区間(非等分散): [ -7.236513827751887 ,  -7.236513827751887 ]\n",
      "\n"
     ]
    },
    {
     "data": {
      "image/png": "[encoded data removed]",
      "text/plain": [
       "<Figure size 864x288 with 2 Axes>"
      ]
     },
     "metadata": {
      "needs_background": "light"
     },
     "output_type": "display_data"
    }
   ],
   "source": [
    "def calc_mean_var(df):\n",
    "    return df.mean(),df.std(ddof=1)\n",
    "\n",
    "# 標本のサイズ\n",
    "M = [8,12,60]\n",
    "N = [4,8,40]\n",
    "alpha = 0.05\n",
    "\n",
    "fig, ax = plt.subplots(1,2, figsize=(12,4))\n",
    "for i, (m, n) in enumerate(zip(M, N)):\n",
    "    print('n=',str(n),' m=',str(m))\n",
    "    # 各標本の平均の計算\n",
    "    sample_stats1 = np.array([calc_mean_var(d['攻撃'].sample(m)) for _  in range(1000)])\n",
    "    sample_stats2 = np.array([calc_mean_var(d['防御'].sample(n)) for _  in range(1000)])\n",
    "    \n",
    "    x_bar = sample_stats1[:,0]\n",
    "    y_bar = sample_stats2[:,0]\n",
    "    std1 = sample_stats1[:,1]\n",
    "    std2 = sample_stats2[:,1]\n",
    "    \n",
    "    # 各標本の平均値と標準偏差の推定値\n",
    "    mu1 = np.mean(x_bar)\n",
    "    mu2 = np.mean(y_bar)\n",
    "    \n",
    "    s1 = np.mean(std1)\n",
    "    s2 = np.mean(std2)\n",
    "    \n",
    "    # 差の標準偏差\n",
    "    s =  np.sqrt(((s1**2*(m-1))+(s2**2*(n-1)))/(m+n-2))\n",
    "    \n",
    "    # t統計量\n",
    "    # 等分散\n",
    "    t1 = ((x_bar - y_bar)-(mu1 - mu2))/(s*np.sqrt(1/m+1/n))\n",
    "    # 非等分散\n",
    "    t2 = ((x_bar - y_bar)-(mu1 - mu2))/(np.sqrt(s1**2/m+s2**2/n))\n",
    "\n",
    "    # 非等分散の場合の自由度\n",
    "    nu = int(((s1**2/m)+(s2**2/n))**2/((s1**2/m)**2/(m-1)+(s2**2/n)**2/(n-1)))\n",
    "    \n",
    "    # t分布\n",
    "    x = np.arange(-3,3,0.02)\n",
    "    t_dist1 = t.pdf(x, df=m+n-2)\n",
    "    t_dist2 = t.pdf(x, df=nu)\n",
    "    \n",
    "    # パーセント点\n",
    "    t10025 = t.ppf(1-alpha/2, m+n-2)\n",
    "    t20025 = t.ppf(1-alpha/2, nu)\n",
    "    \n",
    "    print(' 信頼区間(等分散): [', mu1-mu2-t10025*s*np.sqrt(1/m+1/n),', ', mu1-mu2+t10025*s*np.sqrt(1/m+1/n),']')\n",
    "    print(' 信頼区間(非等分散): [',mu1-mu2-t20025*np.sqrt(s1**2/m+s2**2/n),', ', mu1-mu2-t20025*np.sqrt(s1**2/m+s2**2/n),']\\n')\n",
    "\n",
    "    # プロット\n",
    "    ax[0].hist((x_bar - y_bar), color=colors1[i], density=True, alpha=.5, bins=30, label='n='+str(n)+' m='+str(m));\n",
    "    ax[1].hist(t1, color=colors1[i], density=True, alpha=.5, bins=30, label='n='+str(n)+' m='+str(m));\n",
    "    ax[1].plot(x, t_dist1)\n",
    "    ax[0].legend();\n",
    "    ax[1].legend();"
   ]
  },
  {
   "cell_type": "markdown",
   "id": "related-slide",
   "metadata": {},
   "source": [
    "サンプル数が増えるとともに分布は狭くなり、信頼区間も狭くなることがわかる。\n",
    "等分散であるとした場合の方が、非等分散であるとした場合より信頼区間は狭くなり、サンプル数が増加するとその差は小さくなることがわかる。\n",
    "また、右図の分布を標準化したものは$t$分布に近いものとなった。"
   ]
  },
  {
   "cell_type": "markdown",
   "id": "northern-corps",
   "metadata": {},
   "source": [
    "##### 母分散の比の信頼区間\n",
    "$(\\sigma_2^2s_1^2)\\ /\\ (\\sigma_1^2s_2^2)$は自由度$(m-1,n-1)$の$F$分布に従うから\n",
    "$$\n",
    "P\\bigl(F_{1-\\alpha\\ /\\ 2}(m-1,n-1)\\leq \\frac{s_1^2}{s_2^2}\\frac{\\sigma_2^2}{\\sigma_1^2} \\leq F_{\\alpha\\ /\\ 2}(m-1,n-1) \\bigr)=1-\\alpha\n",
    "$$\n",
    "となる。\n",
    "したがって、これを比$\\sigma_2^2\\ /\\ \\sigma_1^2$について解いて、この比の信頼係数$1-\\alpha$の信頼区間を求めると\n",
    "$$\n",
    "\\bigl[F_{1-\\alpha\\ /\\ 2}(m-1,n-1)s_2^2\\ /\\ s_1^2, F_{\\alpha\\ /\\ 2}(m-1,n-1)s_2^2\\ /\\ s_1^2\\bigr]\n",
    "$$\n",
    "となる。\n",
    "\n",
    "平均の差と同様に「攻撃」と「防御」の分散の比の信頼区間を調べる。"
   ]
  },
  {
   "cell_type": "code",
   "execution_count": 89,
   "id": "indonesian-emergency",
   "metadata": {},
   "outputs": [
    {
     "name": "stdout",
     "output_type": "stream",
     "text": [
      "n= 4\n",
      " 信頼区間: [ 0.14543806848404814 ,  12.527314153379395 ]\n",
      "n= 8\n",
      " 信頼区間: [ 0.2550514643627952 ,  4.514714936050411 ]\n",
      "n= 40\n",
      " 信頼区間: [ 0.5599682893670989 ,  1.7835664159928286 ]\n"
     ]
    },
    {
     "data": {
      "text/plain": [
       "<matplotlib.legend.Legend at 0x2a935748790>"
      ]
     },
     "execution_count": 89,
     "metadata": {},
     "output_type": "execute_result"
    },
    {
     "data": {
      "image/png": "[encoded data removed]",
      "text/plain": [
       "<Figure size 432x288 with 1 Axes>"
      ]
     },
     "metadata": {
      "needs_background": "light"
     },
     "output_type": "display_data"
    }
   ],
   "source": [
    "from scipy.stats import f\n",
    "\n",
    "M = [8,12,60]\n",
    "N = [4,8,40]\n",
    "alpha = 0.05\n",
    "\n",
    "for i, (m, n) in enumerate(zip(M, N)):\n",
    "    print('n=',str(n))\n",
    "    sample_stats1 = np.array([calc_mean_var(d['攻撃'].sample(m)) for _  in range(1000)])\n",
    "    sample_stats2 = np.array([calc_mean_var(d['防御'].sample(n)) for _  in range(1000)])\n",
    "  \n",
    "    std1 = sample_stats1[:,1]\n",
    "    std2 = sample_stats2[:,1]\n",
    "    std1_std2 = std2**2 / std1**2\n",
    "    \n",
    "    s1 = np.mean(std1)\n",
    "    s2 = np.mean(std2)\n",
    "    s1_s2 =  s2**2 / s1**2\n",
    "    \n",
    "    F0025 = f.ppf(alpha/2, dfn=m-1, dfd=n-1)\n",
    "    F0975 = f.ppf(1-alpha/2, dfn=m-1, dfd=n-1)\n",
    "    print(' 信頼区間: [', F0025*s1_s2,', ', F0975*s1_s2,']')\n",
    "    \n",
    "    x = np.arange(0,15,0.2)\n",
    "    f_dist = f.pdf(x, dfn=m-1, dfd=n-1)*s1_s2\n",
    "    \n",
    "    plt.hist(std1_std2, color=colors1[i], density=True, alpha=.5, bins=np.arange(0,15,0.1));\n",
    "    plt.plot(x,f_dist, color=colors1[i], label='n='+str(n)+' m='+str(m))\n",
    "    plt.xlim(0,6)\n",
    "plt.legend()"
   ]
  },
  {
   "cell_type": "markdown",
   "id": "constant-helen",
   "metadata": {},
   "source": [
    "サンプル数が増加すると信頼区間が狭くなっていくことが確認できる。"
   ]
  },
  {
   "cell_type": "markdown",
   "id": "conventional-yukon",
   "metadata": {},
   "source": [
    "### 二項、ポアソン母集団の各母数の信頼区間\n",
    "母集団分布が母数$p$のベルヌーイ分布$Bi(1,p)$のとき、$\\hat{p}=\\bar{X}$で推定する。\n",
    "二項分布$Bi(1,p)$に従う確率変数$X_i$は母平均$p$、母分散$p(1-p)$であるから、中心極限定理によって、$(\\sum X_i-np)\\ /\\ \\sqrt{np(1-p)}$の分布は$n$が大きい場合、標準正規分布で近似でき、\n",
    "$$\n",
    "P\\bigl(-Z_{\\alpha\\ /\\ 2}\\leq (\\sum{X}_i-np)\\ /\\ \\sqrt{np(1-p)} \\leq Z_{\\alpha\\ /\\ 2}\\bigr)=1-\\alpha\n",
    "$$\n",
    "であり、$\\hat{p}=\\bar{X}=\\sum X_i/n$として、$p$について解くと、\n",
    "$$\n",
    "P\\bigl(\\hat{p}-Z_{\\alpha\\ /\\ 2}\\sqrt{p(1-p)\\ /\\ n}\\leq p \\leq \\hat{p}+Z_{\\alpha\\ /\\ 2}\\sqrt{p(1-p)\\ /\\ n}\\bigr)=1-\\alpha\n",
    "$$\n",
    "大数の法則によって$\\hat{p}$は$p$の一致推定量であるから、$n$が大きい場合には、ほとんど$p$に等しいと考えられる。\n",
    "したがって、\n",
    "$$\n",
    "P\\bigl(\\hat{p}-Z_{\\alpha\\ /\\ 2}\\sqrt{\\hat{p}(1-\\hat{p})\\ /\\ n}\\leq p \\leq \\hat{p}+Z_{\\alpha\\ /\\ 2}\\sqrt{\\hat{p}(1-\\hat{p})\\ / \\ n}\\bigr)=1-\\alpha\n",
    "$$\n",
    "\n",
    "であり、有意水準$1-\\alpha$の$p$の信頼区間は、近似的に\n",
    "$$\n",
    "\\bigl[\\hat{p}-Z_{\\alpha\\ /\\ 2}\\sqrt{\\hat{p}(1-\\hat{p})\\ /\\ n}, \\hat{p}+Z_{\\alpha\\ /\\ 2}\\sqrt{\\hat{p}(1-\\hat{p})\\ /\\ n}\\bigr]\n",
    "$$\n",
    "で求められる。\n",
    "\n",
    "母集団分布が母数$\\lambda$のポアソン分布$Po(\\lambda)$である場合、平均、分散とも$\\lambda$であるから、中心極限定理によって、$(\\sum X_i-n\\lambda)\\ /\\ \\sqrt{n\\lambda}$の分布は$n$が大きい場合、標準正規分布で近似できる。\n",
    "したがって、$\\lambda$の推定量$\\hat{\\lambda}=\\bar{X}$を使って$\\lambda$の信頼係数$1-\\alpha$の信頼区間は\n",
    "$$\n",
    "\\biggl[\\hat{\\lambda}-Z_{\\alpha\\ /\\ 2}\\sqrt{\\frac{\\hat{\\lambda}}{n}},\\hat{\\lambda}+Z_{\\alpha\\ /\\ 2}\\sqrt{\\frac{\\hat{\\lambda}}{n}} \\biggr]\n",
    "$$\n",
    "で近似的に求めることができる。\n",
    "\n",
    "ここでは、二項分布の平均値の信頼区間を確認する。\n",
    "サンプル数を増やすことでどのように変化するかの確認をする。"
   ]
  },
  {
   "cell_type": "code",
   "execution_count": 91,
   "id": "qualified-tracker",
   "metadata": {},
   "outputs": [],
   "source": []
  },
  {
   "cell_type": "code",
   "execution_count": 196,
   "id": "hidden-george",
   "metadata": {},
   "outputs": [
    {
     "name": "stdout",
     "output_type": "stream",
     "text": [
      "n= 4\n",
      " 信頼区間: [ -0.39242968861788385 ,  0.8014296886178839 ]\n",
      "n= 10\n",
      " 信頼区間: [ -0.17511370028464124 ,  0.5703137002846412 ]\n",
      "n= 40\n",
      " 信頼区間: [ 0.01143660538238217 ,  0.38436339461761787 ]\n"
     ]
    },
    {
     "data": {
      "image/png": "[encoded data removed]",
      "text/plain": [
       "<Figure size 864x288 with 3 Axes>"
      ]
     },
     "metadata": {
      "needs_background": "light"
     },
     "output_type": "display_data"
    }
   ],
   "source": [
    "from scipy.stats import binom\n",
    "p = 0.2\n",
    "\n",
    "fig, ax = plt.subplots(1,3, figsize=(12,4))\n",
    "for i, n in enumerate([4,10,40]):\n",
    "    print('n=',str(n))\n",
    "    sample = binom.rvs(n=n,p=p,size=1000);\n",
    "    bar_p = sample / n\n",
    "    p_mean = sample.mean()/n\n",
    "    \n",
    "    x = np.arange(0,3,0.1)\n",
    "    z = norm.pdf(x, loc=p_mean, scale=np.sqrt(p_mean*(1-p_mean)/n))\n",
    "    b = binom.pmf(range(n), n=n, p=p)\n",
    "    \n",
    "    z_alpha = 1-norm.ppf(alpha/2)\n",
    "    \n",
    "    print(' 信頼区間: [', p_mean- z_alpha*np.sqrt(p_mean*(1-p_mean)/n),', ', p_mean+ z_alpha*np.sqrt(p_mean*(1-p_mean)/n),']')\n",
    "\n",
    "    ax[i].hist(bar_p, bins=20, color=colors1[i], density=True, alpha=.5);\n",
    "    ax[i].plot(x, z, color=colors1[i], label='norm')\n",
    "    ax[i].plot(np.arange(n)/n, b*n, color=colors1[i], linestyle='--', label='binom')\n",
    "    ax[i].set_xlim(0,1)\n",
    "    ax[i].set_title('n='+str(n))\n",
    "    ax[i].legend()"
   ]
  },
  {
   "cell_type": "markdown",
   "id": "automotive-roman",
   "metadata": {},
   "source": [
    "サンプル数が増加すると平均値の分布は正規分布に近づき、近似的に信頼区間が求められることがわかる。"
   ]
  },
  {
   "cell_type": "code",
   "execution_count": null,
   "id": "american-maker",
   "metadata": {},
   "outputs": [],
   "source": []
  },
  {
   "cell_type": "code",
   "execution_count": null,
   "id": "allied-corner",
   "metadata": {},
   "outputs": [],
   "source": []
  },
  {
   "cell_type": "code",
   "execution_count": null,
   "id": "statutory-matter",
   "metadata": {},
   "outputs": [],
   "source": []
  }
 ],
 "metadata": {
  "kernelspec": {
   "display_name": "Python 3",
   "language": "python",
   "name": "python3"
  },
  "language_info": {
   "codemirror_mode": {
    "name": "ipython",
    "version": 3
   },
   "file_extension": ".py",
   "mimetype": "text/x-python",
   "name": "python",
   "nbconvert_exporter": "python",
   "pygments_lexer": "ipython3",
   "version": "3.8.5"
  }
 },
 "nbformat": 4,
 "nbformat_minor": 5
}
