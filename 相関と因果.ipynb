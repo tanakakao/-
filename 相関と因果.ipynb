{
 "cells": [
  {
   "cell_type": "code",
   "execution_count": null,
   "id": "present-productivity",
   "metadata": {},
   "outputs": [],
   "source": []
  },
  {
   "cell_type": "markdown",
   "id": "republican-illustration",
   "metadata": {},
   "source": [
    "## 相関と因果\n",
    "**相関関係**とは、変数Zの値が大きいときに、対応する変数yも値が大きい傾向にある  \n",
    "**因果関係**とは、変数Zの値が大きくなるときに、対応する変数yの値も大きくなる傾向にある  \n",
    "直接因果関係のない2つの変数に相関関係が見られることを**疑似相関**と呼ぶ。  \n",
    "疑似相関には以下の3つのパターンがある。  \n",
    "1. 因果の関係が逆\n",
    "2. 共通する別の変数から影響を受けている  \n",
    "　このとき、共通変数のことを**交絡因子**と呼ぶ。\n",
    "3. 合流点での選別  \n",
    "　2つの変数の合計で選抜した場合などに起こる"
   ]
  },
  {
   "cell_type": "code",
   "execution_count": 6,
   "id": "crude-mitchell",
   "metadata": {},
   "outputs": [],
   "source": [
    "import numpy as np\n",
    "from scipy import stats\n",
    "from numpy.random import randn\n",
    "import matplotlib.pyplot as plt"
   ]
  },
  {
   "cell_type": "markdown",
   "id": "connected-relation",
   "metadata": {},
   "source": [
    "#### ZからYへ因果が存在する場合"
   ]
  },
  {
   "cell_type": "code",
   "execution_count": 2,
   "id": "fatal-entity",
   "metadata": {},
   "outputs": [],
   "source": [
    "num_data = 200\n",
    "e_z = randn(num_data)\n",
    "e_y = randn(num_data)\n",
    "\n",
    "Z = e_z\n",
    "Y = 2*Z + e_y"
   ]
  },
  {
   "cell_type": "code",
   "execution_count": 5,
   "id": "powered-shore",
   "metadata": {},
   "outputs": [
    {
     "data": {
      "text/plain": [
       "array([[1.        , 0.91288853],\n",
       "       [0.91288853, 1.        ]])"
      ]
     },
     "execution_count": 5,
     "metadata": {},
     "output_type": "execute_result"
    }
   ],
   "source": [
    "np.corrcoef(Z, Y)"
   ]
  },
  {
   "cell_type": "code",
   "execution_count": 7,
   "id": "certain-lease",
   "metadata": {},
   "outputs": [
    {
     "data": {
      "text/plain": [
       "<matplotlib.collections.PathCollection at 0x1c70cffad90>"
      ]
     },
     "execution_count": 7,
     "metadata": {},
     "output_type": "execute_result"
    },
    {
     "data": {
      "image/png": "[encoded data removed]",
      "text/plain": [
       "<Figure size 432x288 with 1 Axes>"
      ]
     },
     "metadata": {
      "needs_background": "light"
     },
     "output_type": "display_data"
    }
   ],
   "source": [
    "# 標準化\n",
    "Z_std = stats.zscore(Z)\n",
    "Y_std = stats.zscore(Y)\n",
    "\n",
    "plt.scatter(Z_std, Y_std)"
   ]
  },
  {
   "cell_type": "markdown",
   "id": "biblical-education",
   "metadata": {},
   "source": [
    "#### 1. 因果の関係が逆"
   ]
  },
  {
   "cell_type": "code",
   "execution_count": 8,
   "id": "proud-prediction",
   "metadata": {},
   "outputs": [
    {
     "data": {
      "text/plain": [
       "array([[1.        , 0.91490545],\n",
       "       [0.91490545, 1.        ]])"
      ]
     },
     "execution_count": 8,
     "metadata": {},
     "output_type": "execute_result"
    }
   ],
   "source": [
    "num_data = 200\n",
    "e_z = randn(num_data)\n",
    "e_y = randn(num_data)\n",
    "\n",
    "Y = e_y\n",
    "Z = 2*Y + e_z\n",
    "\n",
    "np.corrcoef(Z, Y)"
   ]
  },
  {
   "cell_type": "code",
   "execution_count": 9,
   "id": "familiar-radiation",
   "metadata": {},
   "outputs": [
    {
     "data": {
      "text/plain": [
       "<matplotlib.collections.PathCollection at 0x1c70d0f13a0>"
      ]
     },
     "execution_count": 9,
     "metadata": {},
     "output_type": "execute_result"
    },
    {
     "data": {
      "image/png": "[encoded data removed]",
      "text/plain": [
       "<Figure size 432x288 with 1 Axes>"
      ]
     },
     "metadata": {
      "needs_background": "light"
     },
     "output_type": "display_data"
    }
   ],
   "source": [
    "# 標準化\n",
    "Z_std = stats.zscore(Z)\n",
    "Y_std = stats.zscore(Y)\n",
    "\n",
    "plt.scatter(Z_std, Y_std)"
   ]
  },
  {
   "cell_type": "markdown",
   "id": "moral-titanium",
   "metadata": {},
   "source": [
    "#### 2. 共通原因（交絡）"
   ]
  },
  {
   "cell_type": "code",
   "execution_count": 12,
   "id": "standing-radical",
   "metadata": {},
   "outputs": [
    {
     "data": {
      "text/plain": [
       "array([[1.        , 0.92298759],\n",
       "       [0.92298759, 1.        ]])"
      ]
     },
     "execution_count": 12,
     "metadata": {},
     "output_type": "execute_result"
    }
   ],
   "source": [
    "num_data = 200\n",
    "e_x = randn(num_data)\n",
    "e_z = randn(num_data)\n",
    "e_y = randn(num_data)\n",
    "\n",
    "Y = 3.3*e_x + e_z\n",
    "Z = 3.3*e_x + e_y\n",
    "\n",
    "np.corrcoef(Z, Y)"
   ]
  },
  {
   "cell_type": "code",
   "execution_count": 13,
   "id": "advanced-imaging",
   "metadata": {},
   "outputs": [
    {
     "data": {
      "text/plain": [
       "<matplotlib.collections.PathCollection at 0x1c70d148dc0>"
      ]
     },
     "execution_count": 13,
     "metadata": {},
     "output_type": "execute_result"
    },
    {
     "data": {
      "image/png": "[encoded data removed]",
      "text/plain": [
       "<Figure size 432x288 with 1 Axes>"
      ]
     },
     "metadata": {
      "needs_background": "light"
     },
     "output_type": "display_data"
    }
   ],
   "source": [
    "# 標準化\n",
    "Z_std = stats.zscore(Z)\n",
    "Y_std = stats.zscore(Y)\n",
    "\n",
    "plt.scatter(Z_std, Y_std)"
   ]
  },
  {
   "cell_type": "markdown",
   "id": "designed-quarterly",
   "metadata": {},
   "source": [
    "#### 3. 合流点での選抜"
   ]
  },
  {
   "cell_type": "code",
   "execution_count": 15,
   "id": "finnish-simulation",
   "metadata": {},
   "outputs": [
    {
     "name": "stdout",
     "output_type": "stream",
     "text": [
      "[[ 1.         -0.02930556]\n",
      " [-0.02930556  1.        ]]\n"
     ]
    },
    {
     "data": {
      "text/plain": [
       "<matplotlib.collections.PathCollection at 0x1c70d1f6fa0>"
      ]
     },
     "execution_count": 15,
     "metadata": {},
     "output_type": "execute_result"
    },
    {
     "data": {
      "image/png": "[encoded data removed]",
      "text/plain": [
       "<Figure size 432x288 with 1 Axes>"
      ]
     },
     "metadata": {
      "needs_background": "light"
     },
     "output_type": "display_data"
    }
   ],
   "source": [
    "num_data = 600\n",
    "e_x = randn(num_data)\n",
    "e_y = randn(num_data)\n",
    "\n",
    "x = e_x\n",
    "y = e_y\n",
    "\n",
    "print(np.corrcoef(x, y))\n",
    "\n",
    "plt.scatter(x, y)"
   ]
  },
  {
   "cell_type": "code",
   "execution_count": 17,
   "id": "automatic-workstation",
   "metadata": {},
   "outputs": [
    {
     "name": "stdout",
     "output_type": "stream",
     "text": [
      "[[ 1.         -0.44719923]\n",
      " [-0.44719923  1.        ]]\n"
     ]
    },
    {
     "data": {
      "text/plain": [
       "<matplotlib.collections.PathCollection at 0x1c70d2ad3a0>"
      ]
     },
     "execution_count": 17,
     "metadata": {},
     "output_type": "execute_result"
    },
    {
     "data": {
      "image/png": "[encoded data removed]",
      "text/plain": [
       "<Figure size 432x288 with 1 Axes>"
      ]
     },
     "metadata": {
      "needs_background": "light"
     },
     "output_type": "display_data"
    }
   ],
   "source": [
    "z = x + y\n",
    "\n",
    "x_new = np.array([])\n",
    "y_new = np.array([])\n",
    "\n",
    "for i in range(num_data):\n",
    "    if z[i] > 0.0:\n",
    "        x_new = np.append(x_new, x[i])\n",
    "        y_new = np.append(y_new, y[i])\n",
    "\n",
    "print(np.corrcoef(x_new, y_new))\n",
    "plt.scatter(x_new, y_new)"
   ]
  },
  {
   "cell_type": "code",
   "execution_count": null,
   "id": "undefined-oliver",
   "metadata": {},
   "outputs": [],
   "source": []
  },
  {
   "cell_type": "code",
   "execution_count": null,
   "id": "blocked-chicken",
   "metadata": {},
   "outputs": [],
   "source": []
  },
  {
   "cell_type": "code",
   "execution_count": null,
   "id": "respiratory-sequence",
   "metadata": {},
   "outputs": [],
   "source": []
  }
 ],
 "metadata": {
  "kernelspec": {
   "display_name": "Python 3",
   "language": "python",
   "name": "python3"
  },
  "language_info": {
   "codemirror_mode": {
    "name": "ipython",
    "version": 3
   },
   "file_extension": ".py",
   "mimetype": "text/x-python",
   "name": "python",
   "nbconvert_exporter": "python",
   "pygments_lexer": "ipython3",
   "version": "3.8.5"
  }
 },
 "nbformat": 4,
 "nbformat_minor": 5
}
