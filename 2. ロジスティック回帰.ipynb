{
 "cells": [
  {
   "cell_type": "markdown",
   "id": "understood-alert",
   "metadata": {},
   "source": [
    "## 2. ロジスティック回帰\n",
    "ロジスティック回帰は分類モデルであり、線形分離可能なクラスでは精度が良い。  \n",
    "基本的には2クラス分類器であるが、多クラスに一般化するには、softmax回帰や1対他法などがある。  \n",
    "  \n",
    "正事象の確率を$p$としたとき、**オッズ比**は$\\frac{p}{1-p}$と書ける。  \n",
    "オッズ比の対数をとったもの(対数オッズ)を、**ロジット関数**と呼ぶ。\n",
    "$$\n",
    "logit(p)=\\frac{p}{1-p}\n",
    "$$  \n",
    "\n",
    "このロジット関数は、0よりも大きく1よりも小さい範囲の入力値を受け取り、それらを実数の全範囲の値に変換する。  \n",
    "特徴量の値と対数オッズ都の線形関係を以下のように表すことができる。  \n",
    "$$\n",
    "logit(p(y=1|\\boldsymbol{x}))=w_0x_0+w_1x_1+\\cdots+w_mx_m=\\sum_{i=0}^mw_ix_i=\\boldsymbol{w}^T\\boldsymbol{x}\n",
    "$$\n",
    "\n",
    "データ点が特定のクラスに属している確率は、ロジット関数の逆関数であり**ロジスティックシグモイド関数**と呼ばれる。  \n",
    "これは、単に**シグモイド関数**と呼ばれることもある。  \n",
    "$$\n",
    "\\phi(z)=\\frac{1}{1+e^{-z}}\\\\\n",
    "z=\\boldsymbol{w}^T\\boldsymbol{x}=w_0x_0+w_1x_1+\\cdots+w_mx_m\n",
    "$$\n",
    "\n",
    "クラス1に属する確率は$\\phi(z)=P(y=1|\\boldsymbol{x};\\boldsymbol{w})$と解釈できる。  \n",
    "そして、閾値を使って予測された確率を二値の指標に分類する。\n",
    "$$\n",
    "\\hat{y}= \\begin{cases}\n",
    "    1 & (\\phi(z) \\ge 0.5) \\\\\n",
    "    0 & (\\phi(z) < 0.5)\n",
    "  \\end{cases}\n",
    "$$"
   ]
  },
  {
   "cell_type": "code",
   "execution_count": 1,
   "id": "ruled-manner",
   "metadata": {},
   "outputs": [
    {
     "data": {
      "text/plain": [
       "[<matplotlib.lines.Line2D at 0x18bc0812cd0>]"
      ]
     },
     "execution_count": 1,
     "metadata": {},
     "output_type": "execute_result"
    },
    {
     "data": {
      "image/png": "[encoded data removed]",
      "text/plain": [
       "<Figure size 432x288 with 1 Axes>"
      ]
     },
     "metadata": {
      "needs_background": "light"
     },
     "output_type": "display_data"
    }
   ],
   "source": [
    "import matplotlib.pyplot as plt\n",
    "import numpy as np\n",
    "\n",
    "def sigmoid(z):\n",
    "    return 1.0 / (1 + np.exp(-z))\n",
    "\n",
    "z = np.arange(-7, 7, 0.1)\n",
    "\n",
    "phi_z = sigmoid(z)\n",
    "\n",
    "plt.plot(z, phi_z)"
   ]
  },
  {
   "cell_type": "markdown",
   "id": "according-quilt",
   "metadata": {},
   "source": [
    "ロジスティック回帰モデルで最大化したい尤度$L$を以下のように定義する。\n",
    "$$\n",
    "L(\\boldsymbol{w})=P(\\boldsymbol{y}|\\boldsymbol{x};\\boldsymbol{w})=\\prod_{i=1}^nP(y^{(i)}|x^{(i)};\\boldsymbol{w})=\\prod_{i=1}^n\\bigl(\\phi(z^{(i)}) \\bigr)^{y^{(i)}}\\bigl(1-\\phi(z^{(i)}) \\bigr)^{1-y^{(i)}}\n",
    "$$\n",
    "\n",
    "対数を取ったほうが計算が簡単であり、これは**対数尤度**と呼ばれる。  \n",
    "$$\n",
    "J(\\boldsymbol{w})=\\log{L(\\boldsymbol{w})}=\\sum_{i=1}^n\\biggl[y^{(i)}\\log{\\bigl(\\phi(z^{(i)})\\bigr)}+(1-y^{(i)})\\log{\\bigl(1-\\phi(z^{(i)})\\bigr)} \\biggr]\n",
    "$$\n",
    "\n",
    "このとき、単一のデータに対するコストは、\n",
    "$$\n",
    "J(\\phi(z),y;\\boldsymbol{w})=-y\\log{(\\phi(z))}-(1-y)\\log{(1-\\phi(z))}\n",
    "$$\n",
    "と計算できて、$y$が0と1の場合でそれぞれかき分けると、\n",
    "$$\n",
    "J(\\phi(z),y;\\boldsymbol{w})=\\begin{cases}\n",
    "    -\\log{(\\phi(z))} & (y = 1) \\\\\n",
    "    -\\log{(1-\\phi(z))} & (y = 0)\n",
    "  \\end{cases}\n",
    "$$\n",
    "\n",
    "となる。"
   ]
  },
  {
   "cell_type": "code",
   "execution_count": 10,
   "id": "ultimate-conspiracy",
   "metadata": {},
   "outputs": [],
   "source": [
    "from sklearn.datasets import load_iris\n",
    "from sklearn.model_selection import train_test_split\n",
    "from sklearn.preprocessing import StandardScaler\n",
    "\n",
    "iris = load_iris()\n",
    "X = iris.data[:,[2,3]]\n",
    "y = iris.target\n",
    "\n",
    "X_train, X_test, y_train, y_test = train_test_split(X, y, test_size=0.3, stratify=y)\n",
    "\n",
    "scaler = StandardScaler()\n",
    "scaler.fit(X_train)\n",
    "X_train_std = scaler.transform(X_train)\n",
    "X_test_std = scaler.transform(X_test)\n",
    "\n",
    "from matplotlib.colors import ListedColormap\n",
    "\n",
    "def plot_decision_regions(X, y, classifier):\n",
    "    colors = ['red', 'blue', 'lightgreen', 'gray', 'cuan']\n",
    "    cmap = ListedColormap(colors[:len(np.unique(y))])\n",
    "    \n",
    "    x1_min, x1_max = X[:,0].min() - 1, X[:,0].max() + 1\n",
    "    x2_min, x2_max = X[:,1].min() - 1, X[:,1].max() + 1\n",
    "    xx1, xx2 = np.meshgrid(np.arange(x1_min, x1_max, 0.02),\n",
    "                           np.arange(x2_min, x2_max, 0.02))\n",
    "    z = classifier.predict(np.array([xx1.ravel(), xx2.ravel()]).T)\n",
    "    z = z.reshape(xx1.shape)\n",
    "    plt.contourf(xx1, xx2, z, alpha=0.3)\n",
    "    plt.xlim(xx1.min(), xx1.max())\n",
    "    plt.ylim(xx2.min(), xx2.max())\n",
    "    \n",
    "    for idx, cl in enumerate(np.unique(y)):\n",
    "        plt.scatter(x=X[y==cl, 0], y=X[y==cl, 1],\n",
    "                    alpha=0.8,\n",
    "                    label=cl, \n",
    "                    cmap=cmap,\n",
    "                    edgecolor='black')"
   ]
  },
  {
   "cell_type": "code",
   "execution_count": 28,
   "id": "satellite-cricket",
   "metadata": {},
   "outputs": [
    {
     "data": {
      "text/plain": [
       "LogisticRegression(C=1, class_weight='balanced', multi_class='ovr')"
      ]
     },
     "execution_count": 28,
     "metadata": {},
     "output_type": "execute_result"
    }
   ],
   "source": [
    "from sklearn.linear_model import LogisticRegression\n",
    "\n",
    "lr = LogisticRegression(C=1, # 正則化のパラメータ、デフォルト1\n",
    "                        penalty='l2', # デフォルトl2\n",
    "                        # 大規模なデータなどではsag\n",
    "                        # L1正則化のときはliblinear\n",
    "                        solver='lbfgs', # デフォルトlbfgs、liblinear, sag, saga\n",
    "                        multi_class='ovr', # multinormal, ovr\n",
    "                        class_weight=\"balanced\" # クラスサイズが不均衡の場合\n",
    "                       )\n",
    "\n",
    "lr.fit(X_train_std, y_train)"
   ]
  },
  {
   "cell_type": "code",
   "execution_count": 29,
   "id": "useful-cross",
   "metadata": {
    "scrolled": true
   },
   "outputs": [
    {
     "data": {
      "image/png": "[encoded data removed]",
      "text/plain": [
       "<Figure size 432x288 with 1 Axes>"
      ]
     },
     "metadata": {
      "needs_background": "light"
     },
     "output_type": "display_data"
    }
   ],
   "source": [
    "plot_decision_regions(X_test_std, y_test, lr)"
   ]
  },
  {
   "cell_type": "markdown",
   "id": "saving-nevada",
   "metadata": {},
   "source": [
    "特定のクラスに所属する確率も計算できる。"
   ]
  },
  {
   "cell_type": "code",
   "execution_count": 30,
   "id": "numeric-delaware",
   "metadata": {},
   "outputs": [
    {
     "name": "stdout",
     "output_type": "stream",
     "text": [
      "[[7.34699918e-01 2.65220905e-01 7.91771199e-05]\n",
      " [1.20431409e-04 4.32342884e-01 5.67536685e-01]\n",
      " [7.32462801e-02 7.75502696e-01 1.51251023e-01]]\n",
      "[0 2 1]\n",
      "[0 2 1]\n"
     ]
    }
   ],
   "source": [
    "print(lr.predict_proba(X_test_std[:3, :]))\n",
    "print(lr.predict_proba(X_test_std[:3, :]).argmax(axis=1))\n",
    "print(lr.predict(X_test_std[:3, :]))"
   ]
  },
  {
   "cell_type": "markdown",
   "id": "residential-chambers",
   "metadata": {},
   "source": [
    "### 正則化\n",
    "正則化を適用するには、ロジスティック回帰のコスト関数に対して、重みを小さくするための正則化項を追加すればよい。\n",
    "$$\n",
    "J(\\boldsymbol{w})=\\sum_{i=1}^n\\biggl[y^{(i)}\\log{\\bigl(\\phi(z^{(i)})\\bigr)}+(1-y^{(i)})\\log{\\bigl(1-\\phi(z^{(i)})\\bigr)} \\biggr]+\\frac{\\lambda}{2}|\\boldsymbol{w}|^2\n",
    "$$\n",
    "\n",
    "ただし、schikit-learnで実装されている正則化コスト関数は、\n",
    "$$\n",
    "C=\\frac{1}{\\lambda}\n",
    "$$\n",
    "として、\n",
    "$$\n",
    "J(\\boldsymbol{w})=C\\sum_{i=1}^n\\biggl[y^{(i)}\\log{\\bigl(\\phi(z^{(i)})\\bigr)}+(1-y^{(i)})\\log{\\bigl(1-\\phi(z^{(i)})\\bigr)} \\biggr]+\\frac{1}{2}|\\boldsymbol{w}|^2\n",
    "$$\n",
    "\n",
    "となっており、逆正則化パラメータ$C$の値を減らすことは、正則化の強さを高めることを意味する。"
   ]
  },
  {
   "cell_type": "code",
   "execution_count": 31,
   "id": "young-rebel",
   "metadata": {},
   "outputs": [
    {
     "data": {
      "text/plain": [
       "LogisticRegressionCV(Cs=[1, 10])"
      ]
     },
     "execution_count": 31,
     "metadata": {},
     "output_type": "execute_result"
    }
   ],
   "source": [
    "from sklearn.linear_model import LogisticRegressionCV\n",
    "\n",
    "lr_l1 = LogisticRegressionCV(penalty='l1', solver='liblinear', Cs=[1,10])\n",
    "lr_l2 = LogisticRegressionCV(penalty='l2', Cs=[1,10])\n",
    "\n",
    "lr_l1.fit(X_train_std, y_train)\n",
    "lr_l2.fit(X_train_std, y_train)"
   ]
  },
  {
   "cell_type": "code",
   "execution_count": 32,
   "id": "healthy-weekend",
   "metadata": {},
   "outputs": [
    {
     "data": {
      "image/png": "[encoded data removed]",
      "text/plain": [
       "<Figure size 432x288 with 1 Axes>"
      ]
     },
     "metadata": {
      "needs_background": "light"
     },
     "output_type": "display_data"
    },
    {
     "data": {
      "image/png": "[encoded data removed]",
      "text/plain": [
       "<Figure size 432x288 with 1 Axes>"
      ]
     },
     "metadata": {
      "needs_background": "light"
     },
     "output_type": "display_data"
    }
   ],
   "source": [
    "plot_decision_regions(X_test_std, y_test, lr_l1)\n",
    "plt.show()\n",
    "plot_decision_regions(X_test_std, y_test, lr_l2)\n",
    "plt.show()"
   ]
  },
  {
   "cell_type": "code",
   "execution_count": null,
   "id": "fifteen-westminster",
   "metadata": {},
   "outputs": [],
   "source": []
  },
  {
   "cell_type": "code",
   "execution_count": null,
   "id": "single-importance",
   "metadata": {},
   "outputs": [],
   "source": []
  }
 ],
 "metadata": {
  "kernelspec": {
   "display_name": "Python 3",
   "language": "python",
   "name": "python3"
  },
  "language_info": {
   "codemirror_mode": {
    "name": "ipython",
    "version": 3
   },
   "file_extension": ".py",
   "mimetype": "text/x-python",
   "name": "python",
   "nbconvert_exporter": "python",
   "pygments_lexer": "ipython3",
   "version": "3.8.5"
  }
 },
 "nbformat": 4,
 "nbformat_minor": 5
}
