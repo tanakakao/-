{
 "cells": [
  {
   "cell_type": "markdown",
   "id": "communist-earthquake",
   "metadata": {},
   "source": [
    "ポアソン過程は、それぞれのイベントが互いに独立して発生することを仮定した最も基礎的な点仮定のモデルでである。\n",
    "ポアソン過程は各時刻の瞬間的なイベントの発生のしやすさを与える強度関数$\\lambda(t)$によって特徴づけられる。\n",
    "\n",
    "(定義)強度関数$\\lambda(t)$のポアソン過程では、微小な幅$\\Delta$の区間$[t,t+\\Delta]$にイベントが発生する、または発生しない確率は、それ以前のイベント発生には依存せず、それぞれ\n",
    "$$\n",
    "P[N(t,t+\\Delta)=1]=\\lambda(t)\\Delta\\\\\n",
    "P[N(t,t+\\Delta)=0]=1-\\lambda(t)\\Delta\n",
    "$$\n",
    "で与えられる。ただし、$N(t,t+\\Delta)$は区間$[t,t+\\Delta]$内のイベント数を表す。\n",
    "\n",
    "微小な$\\Delta$に対しては、\n",
    "$$\n",
    "1-\\lambda(t)\\Delta\\approx \\exp[-\\lambda(t)\\Delta]\n",
    "$$\n",
    "\n",
    "と近似することができる。\n",
    "強度関数が時間に依存しないと定数であるとき、つまり$\\lambda(t)=\\lambda$のときには、この過程は強度$\\lambda$の定常ポアソン過程と呼ばれる。\n",
    "これに対して、強度関数が時間に陽に依存するときには、この過程は特に非定定常ポアソン過程と呼ばれる。\n",
    "\n",
    "### 定常ポアソン過程\n",
    "強度$\\lambda$の定常ポアソン過程では、微小な幅$\\Delta$の区間$[t,t+\\Delta]$にイベントが発生する、または発生しない確率はそれぞれ\n",
    "$$\n",
    "\\begin{align}\n",
    "P[N(t,t+\\Delta)=1]&=\\lambda(t)\\Delta\\\\\n",
    "P[N(t,t+\\Delta)=0]&=1-\\lambda(t)\\Delta\\approx \\exp[-\\lambda(t)\\Delta]\n",
    "\\end{align}\n",
    "$$\n",
    "と与えられる。"
   ]
  },
  {
   "cell_type": "code",
   "execution_count": null,
   "id": "local-tulsa",
   "metadata": {},
   "outputs": [],
   "source": []
  },
  {
   "cell_type": "code",
   "execution_count": null,
   "id": "durable-spine",
   "metadata": {},
   "outputs": [],
   "source": []
  },
  {
   "cell_type": "code",
   "execution_count": null,
   "id": "powerful-pioneer",
   "metadata": {},
   "outputs": [],
   "source": []
  },
  {
   "cell_type": "code",
   "execution_count": null,
   "id": "formal-superintendent",
   "metadata": {},
   "outputs": [],
   "source": []
  },
  {
   "cell_type": "code",
   "execution_count": null,
   "id": "unusual-exhaust",
   "metadata": {},
   "outputs": [],
   "source": []
  },
  {
   "cell_type": "code",
   "execution_count": null,
   "id": "racial-convention",
   "metadata": {},
   "outputs": [],
   "source": []
  },
  {
   "cell_type": "code",
   "execution_count": null,
   "id": "excellent-tuesday",
   "metadata": {},
   "outputs": [],
   "source": []
  }
 ],
 "metadata": {
  "kernelspec": {
   "display_name": "Python 3",
   "language": "python",
   "name": "python3"
  },
  "language_info": {
   "codemirror_mode": {
    "name": "ipython",
    "version": 3
   },
   "file_extension": ".py",
   "mimetype": "text/x-python",
   "name": "python",
   "nbconvert_exporter": "python",
   "pygments_lexer": "ipython3",
   "version": "3.8.5"
  }
 },
 "nbformat": 4,
 "nbformat_minor": 5
}
