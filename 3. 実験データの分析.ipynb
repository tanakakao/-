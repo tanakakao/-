{
 "cells": [
  {
   "cell_type": "markdown",
   "id": "dutch-vision",
   "metadata": {},
   "source": [
    "### 2標本問題\n",
    "#### 対照実験\n",
    "ある薬物の副作用を調べる目的で、生後3週間のラット20匹をランダムに10匹ずつの2群に分け、一方に薬物を、他方に薬物の入っていない溶媒のみを一定期間投与したのち、体重を測定し\n",
    "、次のようのデータを得た。薬物が体重を減少させたといえるか。"
   ]
  },
  {
   "cell_type": "code",
   "execution_count": 3,
   "id": "positive-removal",
   "metadata": {},
   "outputs": [],
   "source": [
    "import numpy as np\n",
    "\n",
    "treatment = np.array([39.1, 40.5, 38.0, 40.1, 46.7, 42.3, 45.8, 36.3, 43.2, 43.3])\n",
    "control =  np.array([44.7, 39.1, 37.6, 40.0, 37.9, 34.8, 38.4, 30.3, 40.2, 35.2])"
   ]
  },
  {
   "cell_type": "markdown",
   "id": "raised-platinum",
   "metadata": {},
   "source": [
    "この場合、薬物を与られた群を処理群(treatment group)、そうでない方を対象群(control group)と呼ぶ。\n",
    "また、処理群と対象群を比較するために計画された実験を対照実験という。\n",
    "一般に、2つの条件のもとでの観測値の分布を比較する問題を2標本問題という。\n",
    "2組のデータ$y_{1j}(j=1,\\cdots,r_1),y_{2}(j=1,\\cdots,r_2)$がそれぞれ正規母集団$N(\\mu_1,\\sigma_1^2),N(\\mu_2,\\sigma_2^2)$からの独立な観測値であるときの比較について述べる。\n",
    "比較の基本となる統計量は、各標本の平均\n",
    "$$\n",
    "\\bar{y_{1・}}=\\sum_jy_{1j}/r_1,\\hspace{3mm}\\bar{y_{2・}}=\\sum_jy_{2j}/r_2\n",
    "$$\n",
    "と平方和\n",
    "$$\n",
    "S_1=\\sum_j(y_{1j}-\\bar{y}_{1・})^2,\\hspace{3mm}S_2=\\sum_j(y_{2j}-\\bar{y}_{2・})^2\n",
    "$$\n",
    "である。\n",
    "ここで、$\\bar{y}_1,\\bar{y}_2$はそれぞれ$N(\\mu_1,\\sigma_1^2/r_1),N(\\mu_2,\\sigma_2^2/r_2)$に従う。\n",
    "また、$S_1/\\sigma_1^2,S_2/\\sigma_2^2$はそれらと独立にそれぞれ自由度$r_1-1,r_2-1$の$\\chi^2$分布に従う。\n",
    "母分散$\\sigma_1^2,\\sigma_2^2$は推定量\n",
    "$$\n",
    "\\hat{\\sigma_1^2}=S_1/(r_1-1),\\hspace{3mm}\\hat{\\sigma_2^2}=S_2/(r_2-1)\n",
    "$$\n",
    "で不偏に推定される。"
   ]
  },
  {
   "cell_type": "code",
   "execution_count": 8,
   "id": "found-ladder",
   "metadata": {},
   "outputs": [
    {
     "name": "stdout",
     "output_type": "stream",
     "text": [
      "treatment\n",
      "\n",
      "  y_bar 41.529999999999994\n",
      "  S 100.301\n",
      "  sigma2_hat 11.144555555555556\n",
      "\n",
      "control\n",
      "\n",
      "  y_bar 37.81999999999999\n",
      "  S 132.31600000000003\n",
      "  sigma2_hat 14.701777777777782\n"
     ]
    }
   ],
   "source": [
    "r1 = len(treatment)\n",
    "r2 = len(control)\n",
    "\n",
    "y1_bar = np.mean(treatment)\n",
    "y2_bar = np.mean(control)\n",
    "\n",
    "S1 = np.sum((treatment-y1_bar)**2)\n",
    "S2 = np.sum((control-y2_bar)**2)\n",
    "\n",
    "sigma21_hat = S1 / (r1-1)\n",
    "sigma22_hat = S2 / (r2-1)\n",
    "\n",
    "print('treatment\\n')\n",
    "print('  y_bar', y1_bar)\n",
    "print('  S', S1)\n",
    "print('  sigma2_hat', sigma21_hat)\n",
    "print('\\ncontrol\\n')\n",
    "print('  y_bar', y2_bar)\n",
    "print('  S', S2)\n",
    "print('  sigma2_hat', sigma22_hat)"
   ]
  },
  {
   "cell_type": "markdown",
   "id": "acceptable-ethics",
   "metadata": {},
   "source": [
    "#### 母平均の差の検定\n",
    "2つの母平均が等しいという帰無仮説\n",
    "$$\n",
    "H_0:\\mu_1=\\mu_2\n",
    "$$\n",
    "を検定する。\n",
    "対立仮説としては通常次のものが考えられる。\n",
    "両側対立仮説　$H_1:\\mu_1\\neq\\mu_2$\n",
    "片側対立仮説　$H_2:\\mu_1>\\mu_2(またはH_2':\\mu_1<\\mu_2)$\n",
    "\n",
    "以下では、データの総数を$n=r_1+r_2$とおく。\n",
    "#### 母分散既知のとき\n",
    "標本平均の差$\\bar{y}_{1・}-\\bar{y}_{2・}$は平均$\\mu_1-\\mu_2$、分散$(\\sigma_1^2/r_1)+(\\sigma_2^2/r_2)$の正規分布に従うので、仮説が正しければ\n",
    "$$\n",
    "z=\\frac{\\bar{y}_{1・}-\\bar{y}_{2・}}{\\sqrt{(\\sigma_1^2/r_1)+(\\sigma_2^2/r_2)}}\n",
    "$$\n",
    "は標準正規分布に従う。\n",
    "$\\sigma_1^2,\\sigma_2^2$が既知ならば$z$が計算できて、有意水準$\\alpha$の棄却域は\n",
    "対立仮説が$H_1$のとき、$|z|>z_{\\alpha/2}$\n",
    "対立仮説が$H_2$のとき、$z>z_{\\alpha}$($H_2'$のとき、$z<-z_{\\alpha})$\n",
    "で与えられる。\n",
    "\n",
    "#### 母分散未知であるが、等しいと考えられるとき\n",
    "母分散$\\sigma_1^2,\\sigma_2^2$が未知でも、$\\sigma_1^2=\\sigma_2^2$と考えられるときは、その共通の値を$\\sigma^2$とおく。\n",
    "$\\bar{y}_{1・}-\\bar{y}_{2・}$は平均$\\mu_1-\\mu_2$、分散$(1/r_1+1/r_2)\\sigma^2$の正規分布に従う。\n",
    "他方、$(S_1+S_2)/\\sigma^2$が自由度$(r_1-1)+(r_2-1)=n-2$の$\\chi^2$分布に従うので、$\\sigma^2$は併合推定量\n",
    "$$\n",
    "\\hat{\\sigma}^2=(S_1+S_2)/(n-2)\n",
    "$$\n",
    "で不偏に推定される。\n",
    "したがって、仮説が正しければ\n",
    "$$\n",
    "t=\\frac{\\bar{y}_{1・}-\\bar{y}_{2・}}{\\sqrt{\\bigl(\\frac{1}{r_1}+\\frac{1}{r_2}\\bigr)\\hat{\\sigma}^2}}\n",
    "$$\n",
    "の分布は自由度$n-2$の$t$分布となる。これより有意水準$\\alpha$の棄却域は\n",
    "対立仮説が$H_1$のとき、$|t|>t_{\\alpha/2}(n-2)$\n",
    "対立仮説が$H_2$のとき、$t>t_{\\alpha}(n-2)$($H_2'$のとき、$t<-t_{\\alpha}(n-2))$\n",
    "で与えられる。\n",
    "\n",
    "#### 母分散未知で、等しいとも考えられないとき\n",
    "母分散既知の場合の$\\sigma_1^2,\\sigma_2^2$を推定量で置き換えた\n",
    "$$\n",
    "t'=\\frac{\\bar{y}_{1・}-\\bar{y}_{2・}}{\\sqrt{(\\hat{\\sigma_1}^2/r_1)+(\\hat{\\sigma_2}^2/r_2)}}\n",
    "$$\n",
    "の、仮説の下での分布は、自由度\n",
    "$$\n",
    "\\frac{\\{(\\sigma_1^2/r_1)+(\\sigma_2^2/r_2) \\}^2}{\\sigma_1^4/r_1^2(r_1-1)+\\sigma_2^4/r_2^2(r_2-1)}\n",
    "$$\n",
    "の$t$分布で近似できることが示される。\n",
    "これらの$\\sigma_1^2,\\sigma_2^2$を推定量で置き換えたものを\n",
    "$$\n",
    "\\nu^*=\\frac{\\{(\\hat{\\sigma}_1^2/r_1)+(\\hat{\\sigma}_2^2/r_2) \\}^2}{\\hat{\\sigma}_1^4/r_1^2(r_1-1)+\\hat{\\sigma}_2^4/r_2^2(r_2-1)}\n",
    "$$\n",
    "とし、$\\nu$を$\\nu^*$に最も近い整数として、棄却域を\n",
    "対立仮説が$H_1$のとき、$|t'|>t_{\\alpha/2}(\\nu)$\n",
    "対立仮説が$H_2$のとき、$t'>t_{\\alpha}(\\nu)$($H_2'$のとき、$t'<-t_{\\alpha}(\\nu))$\n",
    "とすると、近似的な有意水準$\\alpha$の検定が得られる。これをウェルチの検定と呼ぶ。"
   ]
  },
  {
   "cell_type": "code",
   "execution_count": 21,
   "id": "conventional-butler",
   "metadata": {},
   "outputs": [
    {
     "name": "stdout",
     "output_type": "stream",
     "text": [
      "sigma1^2 11.144555555555556\n",
      "sigma2^2 14.701777777777782\n",
      "sigma2(pooled) 12.923166666666667\n",
      "t-value 2.3076739049689503\n",
      "p-value 0.03354292380393513\n"
     ]
    }
   ],
   "source": [
    "from scipy import stats\n",
    "\n",
    "print('sigma1^2', sigma21_hat)\n",
    "print('sigma2^2', sigma22_hat)\n",
    "\n",
    "sigma2 = (S1+S2)/(r1+r2-2)\n",
    "print('sigma2(pooled)', sigma2)\n",
    "\n",
    "t = (y1_bar - y2_bar) / np.sqrt((1/r1+1/r2)*sigma2)\n",
    "print('t-value', t)\n",
    "\n",
    "print('p-value', stats.t.pdf(t, df=r1+r2-2))"
   ]
  },
  {
   "cell_type": "markdown",
   "id": "sitting-brooks",
   "metadata": {},
   "source": [
    "#### 母平均の差の推定\n",
    "$\\mu_1-\\mu_2$の不偏推定量は$\\bar{y}_{1・}-\\bar{y}_{2・}$であり、その分散は$(\\sigma_1^2/r_1)+(\\sigma_2^2/r_2)$である。\n",
    "区間推定では、検定に対応して3通りの場合が生じる。\n",
    "たとえば、信頼係数$1-\\alpha$の両側信頼区間の限界はそれぞれ次式で与えられる。\n",
    "1. 母分散既知のとき\n",
    "$$\n",
    "(\\bar{y}_{1・}-\\bar{y}_{2・})±z_{\\alpha/2}\\sqrt{(\\sigma_1^2/r_1)+(\\sigma_2^2/r_2)}\n",
    "$$\n",
    "\n",
    "2. 母分散未知であるが、等しいと考えられるとき\n",
    "$$\n",
    "(\\bar{y}_{1・}-\\bar{y}_{2・})±t_{\\alpha/2}(n-2)\\sqrt{(1/r_1+1/r_2)\\hat{\\sigma}^2}\n",
    "$$\n",
    "\n",
    "3. 母分散未知で、等しいとも考えられないとき\n",
    "$$\n",
    "(\\bar{y}_{1・}-\\bar{y}_{2・})±t_{\\alpha/2}(\\nu)\\sqrt{(\\hat{\\sigma_1}^2/r_1)+(\\hat{\\sigma_2}^2/r_2)}\n",
    "$$\n",
    "\n",
    "#### 分散比の推測\n",
    "2つの母分散が等しいという仮説(等分散仮説)\n",
    "$$\n",
    "H_0:\\sigma_1^2=\\sigma_2^2\n",
    "$$\n",
    "の検定は、分散比そのものに関心がある場合のほか、平均の差の推測において等分散を仮定できるかどうかの判定に用いられることが多い。\n",
    "$S_i/\\sigma_i^2$は自由度$r_i-1$の$\\chi^2$分布に従うので、仮説の下で\n",
    "$$\n",
    "F=\\frac{\\hat{\\sigma_1}^2}{\\hat{\\sigma_2}^2}=\\frac{S_1/(r_1-1)}{S_2/(r_2-1)}\n",
    "$$\n",
    "の分布は自由度$\\nu_1=r_1-1,\\nu_2=r_2-1$の$F$分布となる。したがって、\n",
    "対立仮説が$\\sigma_1^2\\neq\\sigma_2^2$のとき$F>F_{\\alpha/2}(\\nu_1,\\nu_2)$または$F<1/F_{\\alpha/2}(\\nu_2,\\nu_1)$\n",
    "対立仮説が$\\sigma_1^2>\\sigma_2^2$のとき$F>F_{\\alpha}(\\nu_1,\\nu_2)$\n",
    "対立仮説が$\\sigma_1^2<\\sigma_2^2$のとき$F<1/F_{\\alpha}(\\nu_2,\\nu_1)$\n",
    "を棄却域とすることで、有意水準$\\alpha$の検定が得られる。なお、$F_{1-\\alpha}(\\nu_1,\\nu_2)=1/F_{\\alpha}(\\nu_2,\\nu_1)$に注意する。\n",
    "分散比$\\sigma_1^2/\\sigma_2^2$に対する信頼区間$1-\\alpha$の両側信頼区間は、\n",
    "$$\n",
    "[F/F_{\\alpha/2}(\\nu_1,\\nu_2),F・F_{\\alpha/2}(\\nu_2,\\nu_1)]\n",
    "$$\n",
    "と表される。"
   ]
  },
  {
   "cell_type": "code",
   "execution_count": 41,
   "id": "latin-visitor",
   "metadata": {},
   "outputs": [
    {
     "name": "stdout",
     "output_type": "stream",
     "text": [
      "F 0.7580413555427913\n",
      "p-value 0.7045233361075518\n",
      "信頼区間\n",
      "[ 0.1882867499902394 3.0518700691521876 ]\n"
     ]
    }
   ],
   "source": [
    "F = sigma21_hat/sigma22_hat\n",
    "print('F', F)\n",
    "\n",
    "p_value = stats.f.pdf(F, r1-1,r2-1)\n",
    "print('p-value', p_value)\n",
    "\n",
    "upper_p = stats.f.ppf(q=0.975, dfn=r1-1, dfd=r2-1)\n",
    "\n",
    "print('信頼区間')\n",
    "print('[',F/upper_p,F*upper_p, ']')\n"
   ]
  },
  {
   "cell_type": "markdown",
   "id": "final-pasta",
   "metadata": {},
   "source": [
    "### 1元配置分散分析\n",
    "#### 1元配置とそのモデル\n",
    "3つ以上の母集団平均$\\mu_1,\\mu_2,\\cdots,\\mu_a(a\\geq3)$の比較($k$標本問題)には以下の分散分析(ANOVA)が基本的な役割を果たす。\n",
    "\n",
    "化学工場で製品中のある成分の含有量を多くするため、反応温度を\n",
    "$$\n",
    "A_1:50℃,\\hspace{5mm}A_2:55℃,\\hspace{5mm}A_3:60℃,\\hspace{5mm}A_4:65℃\n",
    "$$\n",
    "の4段階に変え、つくられた1kg中の含有量を調べた、各反応温度で5回ずつ実験を行った結果は次のようになった。"
   ]
  },
  {
   "cell_type": "code",
   "execution_count": 47,
   "id": "organized-equipment",
   "metadata": {},
   "outputs": [
    {
     "name": "stdout",
     "output_type": "stream",
     "text": [
      "     A1    A2    A3    A4\n",
      "0  77.4  78.3  79.2  78.9\n",
      "1  78.2  78.2  79.3  78.8\n",
      "2  78.1  78.4  79.1  78.1\n",
      "3  77.8  77.3  78.2  78.1\n",
      "4  77.9  79.1  79.3  78.9\n",
      "          A1      A2      A3      A4\n",
      "sum   389.40  391.30  395.10  392.80\n",
      "mean   77.88   78.26   79.02   78.56\n"
     ]
    }
   ],
   "source": [
    "import pandas as pd\n",
    "\n",
    "A1 = np.array([77.4, 78.2, 78.1, 77.8, 77.9])\n",
    "A2 = np.array([78.3, 78.2, 78.4, 77.3, 79.1])\n",
    "A3 = np.array([79.2, 79.3, 79.1, 78.2, 79.3])\n",
    "A4 = np.array([78.9, 78.8, 78.1, 78.1, 78.9])\n",
    "\n",
    "df = pd.DataFrame({'A1':A1,'A2':A2,'A3':A3,'A4':A4})\n",
    "print(df)\n",
    "\n",
    "print(df.agg({'sum', 'mean'}))"
   ]
  },
  {
   "cell_type": "markdown",
   "id": "drawn-seven",
   "metadata": {},
   "source": [
    "実験結果に影響を及ぼすと考えて実験で取り上げるものを因子と呼び、因子に対して与える条件を水準を呼ぶ。\n",
    "この実験は反応温度という単一の因子を持つ1因子実験であり、この因子は4つの水準を持つ。\n",
    "2因子以上の場合は各因子の水準の組合せが実験されることになるが、このような具体的な実験条件のことを処理と呼ぶ。\n",
    "なお、各水準での繰返しは同じ回数でなくてもよい。\n",
    "\n",
    "いま、因子を$A$、その$a$個の水準を$A_1,\\cdots,A_a$、各水準での繰り返し数を$r_1,\\cdots,r_a$とする。\n",
    "$A_i$水準の$j$番目のデータを$y_{ij}$と表し、データの構造として次のモデルを想定する。\n",
    "$$\n",
    "y_{ij}=\\mu_i+\\varepsilon_{ij},\\hspace{5mm}i=1,2,\\cdots,a;j=1,\\cdots,\\cdots,r_i\n",
    "$$\n",
    "\n",
    "ここで、母数$\\mu_i$は第$i$水準に固有な平均であり、それに加わる実験誤差$\\varepsilon_{ij}$はすべて互いに独立に$N(0,\\sigma^2)$に従うものとする。この共通な分散$\\sigma^2$は未知である。\n",
    "いま、データの総数を$N=\\sum r_i$とし、繰り返し数$r_i$の重みでの$\\mu_i$の加重平均\n",
    "$$\n",
    "\\mu=\\sum r_i\\mu_i/n\n",
    "$$\n",
    "を一般平均と呼ぶ。\n",
    "各水準の平均からこれを引いたものが、その正味の効果となる。こうして、\n",
    "$$\n",
    "\\alpha_i=\\mu_i-\\mu_j,\\hspace{5mm}i=1,2,\\cdots,a\n",
    "$$\n",
    "を$A_i$水準の効果と呼ぶ。なお、$\\sum r_i\\alpha_i=0$が成立する。\n",
    "この$\\mu$と$\\alpha_i$を用いると、\n",
    "$$\n",
    "y_{ij}=\\mu + \\alpha_i + \\varepsilon_{ij},\\hspace{3mm}i=1,2,\\cdots,a;j=1,\\cdots,r_i\n",
    "$$\n",
    "と表される。これは、(共通の効果)+(第$i$水準の効果)+(それ以外の誤差)という形になっている。\n"
   ]
  },
  {
   "cell_type": "code",
   "execution_count": 53,
   "id": "outdoor-turkey",
   "metadata": {},
   "outputs": [
    {
     "name": "stdout",
     "output_type": "stream",
     "text": [
      "mu(平均)\n",
      "A1    77.88\n",
      "A2    78.26\n",
      "A3    79.02\n",
      "A4    78.56\n",
      "dtype: float64\n",
      "alpha(効果)\n",
      "A1   -0.55\n",
      "A2   -0.17\n",
      "A3    0.59\n",
      "A4    0.13\n",
      "dtype: float64\n"
     ]
    }
   ],
   "source": [
    "df_mean = df.mean()\n",
    "\n",
    "print('mu(平均)')\n",
    "print(df_mean)\n",
    "print('alpha(効果)')\n",
    "print(df_mean - df_mean.mean())"
   ]
  },
  {
   "cell_type": "markdown",
   "id": "encouraging-cement",
   "metadata": {},
   "source": [
    "#### 分散分析\n",
    "分散分析は、因子$A$のすべての水準の平均が等しいという帰無仮説\n",
    "$$\n",
    "H_0:\\mu_1=\\mu_2=\\cdots=\\mu_a\n",
    "$$\n",
    "あるいは、これと同等な帰無仮説\n",
    "$$\n",
    "H_0:\\alpha_1=\\alpha_2=\\cdots=\\alpha_a=0\n",
    "$$\n",
    "を検定する方法である。\n",
    "繰返し数が一定でない1元配置モデルに関する推測は以下のようになる。\n",
    "なお、\n",
    "$$\n",
    "y_{i・}=\\sum_jy_{ij},\\hspace{3mm}y_{・・}=\\sum_i\\sum_jy_{ij}\\\\\n",
    "\\bar{y}_{i・}=y_{i・}/r_i,\\hspace{3mm}\\bar{y}_{・・}=y_{・・}/n\n",
    "$$\n",
    "を用いてある。\n",
    "データに1元配置をモデルをあてはめたときの残差平方和は\n",
    "$$\n",
    "\\begin{align}\n",
    "S_e&=\\sum_i\\sum_j(y_{ij}-\\bar{y}_{i・})^2\\\\\n",
    "&=\\sum_i\\sum_jy_{ij}^2-\\sum_iy_{i・}^2/r_i\n",
    "\\end{align}\n",
    "$$\n",
    "であり、$S_e/\\sigma^2$は自由度$\\nu_e=n-a$の$\\chi^2$分布に従う。\n",
    "また、仮説$H_0:\\mu_1=\\mu_2=\\cdots=\\mu_a$のもとでの、つまり、モデル$y_{ij}=\\mu+\\varepsilon_{ij}$をあてはめたときの残差平方和は、$\\mu$を総平均$\\bar{y}_{・・}$で推定して\n",
    "$$\n",
    "S_T=\\sum_i\\sum_j(y_{ij}-\\bar{y}_{・・})^2=\\sum_i\\sum_jy_{ij}^2-y_{・・}^2/n\n",
    "$$\n",
    "となる。\n",
    "こうして、仮説$H_0$を設けたことによる残差平方和の増加分は、\n",
    "$$\n",
    "\\begin{align}\n",
    "S_A&=S_T-S_e\\\\\n",
    "&=\\sum_i y_{i・}^2/r_i-y_{・・}^2/n=\\sum_ir_i(\\bar{y}_{i・}-\\bar{y}_{・・})^2\n",
    "\\end{align}\n",
    "$$\n",
    "となる。\n",
    "$S_A$は$S_e$と独立で、仮説が正しければ自由度$\\nu_A=a-1$の$\\chi^2$分布に従う。\n",
    "したがって、仮説の下で\n",
    "$$\n",
    "F=\\frac{S_A/\\nu_A}{S_e/\\nu_e}\n",
    "$$\n",
    "が自由度$\\nu_A,\\nu_e$の$F$分布$F(\\nu_A,\\nu_e)$に従うので、このことを用いて仮説が検定できる。\n",
    "これが分散分析検定(ANOVA test)である。\n",
    "\n",
    "#### 平方和の分解\n",
    "データ全体の変動の大きさは、総平方和と呼ばれる$S_T$によって表現されると考えられる。\n",
    "総平方和を上記の「水準変更による変動」$S_A$と「同一条件下の変動」$S_e$に分解する。\n",
    "$S_T$を\n",
    "$$\n",
    "y_{ij}-\\bar{y}_{・・}=(\\bar{y}_{i・}-\\bar{y}_{・・})+(y_{ij}-\\bar{y}_{i・})\n",
    "$$\n",
    "と表し、両辺を2乗して加えると、交差項の和は\n",
    "$$\n",
    "\\sum_i\\sum_j(\\bar{y}_{i・}-\\bar{y}_{・・})(y_{ij}-\\bar{y}_{i・})=\\sum_i\\{(\\bar{y}_{i・}-\\bar{y}_{・・})\\sum_j(y_{ij}-\\bar{y}_{i・}) \\}=0\n",
    "$$\n",
    "となるから\n",
    "$$\n",
    "\\sum_i\\sum_j(y_{ij}-\\bar{y}_{・・})^2=\\sum_ir_i(\\bar{y}_{i・}-\\bar{y}_{・・})^2+\\sum_i\\sum_j(y_{ij}-\\bar{y}_{i・})^2\n",
    "$$\n",
    "右辺第1項が$S_A$であり、水準の変更にともなうデータの変動の大きさを表し、級間平方和と呼ばれる。\n",
    "右辺第2項が$S_e$であり、同一実験条件でのデータの変動の大きさを表し、誤差平方和と呼ばれる。\n",
    "$$\n",
    "S_T=S_e+S_A\n",
    "$$\n",
    "を平方和の分解と呼ぶ。\n",
    "\n",
    "#### 平方和の計算\n",
    "分散分析検定のための平方和$S_A,S_e$の計算は、修正項と呼ばれる\n",
    "$$\n",
    "CT=y_{・・}^2/n\n",
    "$$\n",
    "を最初に求め\n",
    "$$\n",
    "S_T=\\sum_i\\sum_jy_{ij}^2-CT\\\\\n",
    "S_A=\\sum_iy_{i・}^2/r_i-CT\\\\\n",
    "S_e=S_T-S_A\n",
    "$$\n",
    "の順に求める方が簡単である。"
   ]
  },
  {
   "cell_type": "code",
   "execution_count": 68,
   "id": "imperial-porcelain",
   "metadata": {},
   "outputs": [
    {
     "name": "stdout",
     "output_type": "stream",
     "text": [
      "CT:  123025.29799999998\n",
      "ST:  7.102000000028056\n",
      "SA:  3.482000000018161\n",
      "Se:  3.6200000000098953\n"
     ]
    }
   ],
   "source": [
    "CT = df.sum().sum()**2 / np.size(df)\n",
    "print('CT: ', CT)\n",
    "\n",
    "ST = np.sum(np.sum(df**2)) - CT\n",
    "print('ST: ', ST)\n",
    "\n",
    "SA = np.sum(np.sum(df)**2 / len(df)) - CT\n",
    "print('SA: ', SA)\n",
    "\n",
    "Se = ST - SA\n",
    "print('Se: ', Se)"
   ]
  },
  {
   "cell_type": "code",
   "execution_count": 80,
   "id": "induced-lancaster",
   "metadata": {},
   "outputs": [
    {
     "name": "stdout",
     "output_type": "stream",
     "text": [
      "ST:  7.101999999999988\n",
      "SA:  3.4820000000000855\n",
      "Se:  3.620000000000001\n"
     ]
    }
   ],
   "source": [
    "ST = np.sum(np.sum((df - df.mean().mean())**2))\n",
    "SA = np.sum(len(df)*(df.mean() - df.mean().mean())**2)\n",
    "Se = np.sum(np.sum((df - df.mean())**2))\n",
    "\n",
    "print('ST: ', ST)\n",
    "print('SA: ', SA)\n",
    "print('Se: ', Se)"
   ]
  },
  {
   "cell_type": "markdown",
   "id": "unavailable-broadcasting",
   "metadata": {},
   "source": [
    "#### 分散分析表\n",
    "各平方和の自由度は、平方和に含まれる独立な成分の個数に一致する。\n",
    "まず、$S_A$の自由度$\\nu_A$は$a-1$である。実際、$S_A$は$\\bar{y}_{1・}-\\bar{y}_{・・},\\cdots,\\bar{y}_{a・}-\\bar{y}_{・・}$という$a$個の成分を持つが、$\\sum_ir_i(\\bar{y}_{i・}-\\bar{y}_{・・})=0$であるから、それらのうちの$(a-1)$個の値を決めれば最後の1個が決まってしまう。\n",
    "次に、$S_e=\\sum_i\\sum_j(y_{ij}-\\bar{y}_{i・})^2$は$n=\\sum_ir_i$個の成分からなる平方和であるが、$i=1,\\cdots,a$に対して$\\sum(y_{ij}-\\bar{y}_{i・})=0$であるから、$y_{i1}-\\bar{y}_{i・},\\cdots,y_{ir_i}-\\bar{y}_{i・}$のうち独立な成分の個数は$r_i-1$したがって、$S_e$の自由度$\\nu_e$はそれらの和である$n-a$となる。\n",
    "$S_T$の自由度は$n-1$だから、$\\nu_T=n-1,\\nu_A=a-1,\\nu_e=n-a$となり、平方和の分解に対応して、自由度についても\n",
    "$$\n",
    "\\nu_T=\\nu_A+\\nu_e\n",
    "$$\n",
    "が成り立つことがわかる。ここで、\n",
    "$$\n",
    "V_A=S_A/\\nu_A,\\hspace{5mm}V_e=S_e/\\nu_e\n",
    "$$\n",
    "とおき、それぞれ因子$A$および誤差の平均平方と呼ぶ。\n",
    "これを用いると分散分析検定の検定統計量は\n",
    "$$\n",
    "F=V_A/V_e\n",
    "$$\n",
    "と表される。\n",
    "\n",
    "$\\bar{y}_{i・}=\\mu+\\alpha_i+\\bar{\\varepsilon}_{i・},\\bar{y}_{・・}=\\mu+\\bar{\\varepsilon}_{・・}$となるので、\n",
    "$$\n",
    "\\begin{align}\n",
    "y_{ij}-\\bar{y}_{i・}&=\\varepsilon_{ij}-\\bar{\\varepsilon}_{i・}\\\\\n",
    "\\bar{y}_{i・}-\\bar{y}_{・・}&=\\alpha_i+\\varepsilon_{i・}-\\bar{\\varepsilon}_{・・}\n",
    "\\end{align}\n",
    "$$\n",
    "したがって、\n",
    "$$\n",
    "\\begin{align}\n",
    "S_e&=\\sum_i\\sum_j(\\varepsilon_{ij}-\\bar{\\varepsilon}_{i・})^2\\\\\n",
    "S_A&=\\sum r_i(\\alpha_i+\\varepsilon_{i・}-\\bar{\\varepsilon}_{・・})^2\n",
    "\\end{align}\n",
    "$$\n",
    "が得られる。この表現から、\n",
    "$$\n",
    "E(S_A)=(a-1)\\sigma^2+\\sum_ir_i\\alpha_i^2\n",
    "$$\n",
    "となること、および、\n",
    "$$\n",
    "E(S_e)=(n-a)\\sigma^2\n",
    "$$\n",
    "が成立することが示される。このことから、\n",
    "$$\n",
    "E(V_A)=\\sigma^2+\\sum_ir_i\\alpha_i^2/(a-1),\\hspace{5mm}E(V_e)=\\sigma^2\n",
    "$$\n",
    "が成り立つ。\n",
    "仮説$H_0:\\mu_1=\\mu_2=\\cdots=\\mu_a$は$\\sum_ir_i\\alpha_i^2=0$と同等なので、$H_0$のもとでは$E(V_A)=\\sigma^2$となり、$F$は1に近い値を取ることが期待される。\n",
    "検定は、$H_0$のもとで$F$が自由度$\\nu_A,\\nu_e$の$F$分布に従うことを利用して行われる。"
   ]
  },
  {
   "cell_type": "code",
   "execution_count": 93,
   "id": "infrared-submission",
   "metadata": {},
   "outputs": [
    {
     "name": "stdout",
     "output_type": "stream",
     "text": [
      "F: 5.130018416206386\n",
      "p-value: 0.00814355378807322\n"
     ]
    }
   ],
   "source": [
    "from scipy import stats\n",
    "\n",
    "a = df.shape[1]\n",
    "n = df.size\n",
    "\n",
    "nu_T = n - 1\n",
    "nu_A = a - 1\n",
    "nu_e = n - a\n",
    "\n",
    "VA = SA / nu_A\n",
    "Ve = Se / nu_e\n",
    "\n",
    "F = VA / Ve\n",
    "print('F:',F)\n",
    "print('p-value:', stats.f.pdf(F,nu_A,nu_e))"
   ]
  },
  {
   "cell_type": "markdown",
   "id": "consistent-saskatchewan",
   "metadata": {},
   "source": [
    "分散分析の結果は、分散分析表にまとめるのが通例である。\n",
    "\n",
    "|要因|平方和|自由度|平均平方|F値|\n",
    "|-|-|-|-|-|\n",
    "|反応温度(A)|$$S_A=3.482$$|$$\\nu_A=3$$|$$V_A=1.1607$$|$$F=5.13$$|\n",
    "|誤差|$$S_e=3.620$$|$$\\nu_e=16$$|$$V_e=0.2262$$||\n",
    "|計|$$S_T=7.102$$|$$\\nu_T=19$$|||\n",
    "\n",
    "#### 処理効果の推定\n",
    "因子の効果が有意となった場合、通常は水準平均に関する推定が行われる。\n",
    "第$i$水準の平均$\\mu_i$は、その水準のデータの平均で推定される。すなわち、\n",
    "$$\n",
    "\\hat{\\mu}_i=\\bar{y}_{i・}\n",
    "$$\n",
    "このとき、$E(\\bar{y}_{i・})=\\mu_i,V(\\bar{y}_{i・})=\\sigma^2/r_i$だから、信頼係数$1-\\alpha$の信頼限界は\n",
    "$$\n",
    "\\bar{y}_{i・}±t_{\\alpha/2}(\\nu_e)\\sqrt{V_e/r_i}\n",
    "$$\n",
    "で与えられる。また、2つの水準平均の差$\\mu_i-\\mu_j$の点推定値は\n",
    "$$\n",
    "\\hat{\\mu}_i-\\hat{\\mu}_j=\\bar{y}_{i・}-\\bar{y}_{j・}\n",
    "$$\n",
    "であり、これに対する信頼係数$1-\\alpha$の信頼限界は次のようになる。\n",
    "$$\n",
    "\\bar{y}_{i・}-\\bar{y}_{j・}±t_{\\alpha/2}(\\nu_e)\\sqrt{\\biggl(\\frac{1}{r_i}+\\frac{1}{r_j} \\biggr)V_e}\n",
    "$$"
   ]
  },
  {
   "cell_type": "code",
   "execution_count": 141,
   "id": "expressed-ballot",
   "metadata": {},
   "outputs": [
    {
     "name": "stdout",
     "output_type": "stream",
     "text": [
      "     mean      upper      lower\n",
      "A1  77.88  78.330947  77.429053\n",
      "A2  78.26  78.710947  77.809053\n",
      "A3  79.02  79.470947  78.569053\n",
      "A4  78.56  79.010947  78.109053\n"
     ]
    },
    {
     "data": {
      "image/png": "[encoded data removed]",
      "text/plain": [
       "<Figure size 432x288 with 1 Axes>"
      ]
     },
     "metadata": {
      "needs_background": "light"
     },
     "output_type": "display_data"
    }
   ],
   "source": [
    "import matplotlib.pyplot as plt\n",
    "\n",
    "alpha = 0.05\n",
    "\n",
    "t_value = stats.t.ppf(1-alpha/2, nu_e)\n",
    "\n",
    "df2 = pd.DataFrame(df.mean() ,columns=['mean'])\n",
    "df2['upper'] = df2['mean'] + t_value*np.sqrt(Ve/len(df))\n",
    "df2['lower'] = df2['mean'] - t_value*np.sqrt(Ve/len(df))\n",
    "\n",
    "print(df2)\n",
    "\n",
    "plt.errorbar(x=['A1','A2','A3','A4'], y=df2['mean'], yerr = t_value,\n",
    "             capsize=5, fmt='-o', markersize=10, ecolor='black', markeredgecolor = \"black\", color='black');"
   ]
  },
  {
   "cell_type": "code",
   "execution_count": 172,
   "id": "floppy-jacob",
   "metadata": {},
   "outputs": [
    {
     "name": "stdout",
     "output_type": "stream",
     "text": [
      "\n",
      "mu( A1 )-mu( A2 )\n",
      "   -0.37999999999999545\n",
      "   lower: -1.017735730713519\n",
      "   upper: 0.2577357307135283\n",
      "\n",
      "mu( A1 )-mu( A3 )\n",
      "   -1.1400000000000148\n",
      "   lower: -1.7777357307135384\n",
      "   upper: -0.502264269286491\n",
      "\n",
      "mu( A1 )-mu( A4 )\n",
      "   -0.6799999999999926\n",
      "   lower: -1.3177357307135162\n",
      "   upper: -0.04226426928646887\n",
      "\n",
      "mu( A2 )-mu( A3 )\n",
      "   -0.7600000000000193\n",
      "   lower: -1.397735730713543\n",
      "   upper: -0.12226426928649559\n",
      "\n",
      "mu( A2 )-mu( A4 )\n",
      "   -0.29999999999999716\n",
      "   lower: -0.9377357307135209\n",
      "   upper: 0.3377357307135266\n",
      "\n",
      "mu( A3 )-mu( A4 )\n",
      "   0.46000000000002217\n",
      "   lower: -0.17773573071350157\n",
      "   upper: 1.0977357307135458\n"
     ]
    }
   ],
   "source": [
    "for i, col1 in enumerate(df2.index):\n",
    "    for j, col2 in enumerate(df2.index[i+1:]):\n",
    "        j = j+i+1\n",
    "        print('\\nmu(',df2.index[i],')-mu(',df2.index[j],')')\n",
    "        print('  ', df2.iloc[i, 0] - df2.iloc[j, 0])\n",
    "        print('   lower:', df2.iloc[i, 0] - df2.iloc[j, 0]-t_value*np.sqrt((1/len(df)+1/len(df))*Ve))\n",
    "        print('   upper:', df2.iloc[i, 0] - df2.iloc[j, 0]+t_value*np.sqrt((1/len(df)+1/len(df))*Ve))"
   ]
  },
  {
   "cell_type": "markdown",
   "id": "residential-hepatitis",
   "metadata": {},
   "source": [
    "例えば、$\\mu_3,\\mu_4$の差の信頼区間が0を含むので、これらの平均に有意な差がないと結論できる。\n",
    "#### 3つ以上の分散の一様性の検定\n",
    "いくつかあるうち、パートレットの検定を説明する。\n",
    "それは、各水準の不偏分散を\n",
    "$$\n",
    "V_i=\\sum_i(y_{ij}-\\bar{y}_{i・})^2/(r_i-1),\\hspace{5mm}i=1,\\cdots,a\n",
    "$$\n",
    "それらを併合したものを\n",
    "$$\n",
    "V_e = \\sum_i(r_i-1)V_i/(n-a)=\\sum_i\\sum_j(y_{ij}-\\bar{y}_{i・})^2/(n-a)\n",
    "$$\n",
    "とするとき($n=\\sum_ir_i$)、\n",
    "$$\n",
    "B=(n-a)\\log V_e-\\sum_i(r_i-1)\\log V_i\n",
    "$$\n",
    "、等分散仮説$H_0:\\sigma_1^2=\\sigma_2^2=\\cdots =\\sigma_a^2$のもとで近似的に自由度$a-1$の$\\chi-2$分布に従うことを用いるものである。\n",
    "このとき、$\\chi^2$近似をよくするために\n",
    "$$\n",
    "B'=\\frac{B}{1+\\frac{1}{3(a-1)}\\}\\bigl\\{\\sum_i\\frac{1}{r_i-1}-\\frac{1}{n-a} \\bigr\\}}\n",
    "$$\n",
    "と補正する。"
   ]
  },
  {
   "cell_type": "code",
   "execution_count": 202,
   "id": "textile-conducting",
   "metadata": {},
   "outputs": [
    {
     "name": "stdout",
     "output_type": "stream",
     "text": [
      "Vi:\n",
      " A1    0.097\n",
      "A2    0.413\n",
      "A3    0.217\n",
      "A4    0.178\n",
      "dtype: float64\n",
      "Ve:  0.22625000000000006\n",
      "B: 2.10689142009274\n",
      "B_dash: 1.9081280785745571\n",
      "p-value: 0.21226044937842475\n"
     ]
    }
   ],
   "source": [
    "V = np.sum((df - df.mean())**2) / (len(df)-1)\n",
    "Ve = np.sum(np.sum((df - df.mean())**2)) / (n-a)\n",
    "print('Vi:\\n',V)\n",
    "print('Ve: ',Ve)\n",
    "\n",
    "B = (n-a)*np.log(Ve) - (len(df)-1)*np.sum(np.log(V))\n",
    "B_dash = B / (1+1/(3*(a-1)) * (4/(len(df)-1) - 1/(n-a)))\n",
    "print('B:',B)\n",
    "print('B_dash:',B_dash)\n",
    "\n",
    "p_value = stats.chi2.pdf(B_dash, df=a-1)\n",
    "print('p-value:',p_value)"
   ]
  },
  {
   "cell_type": "markdown",
   "id": "average-plastic",
   "metadata": {},
   "source": [
    "### 交互作用と要因実験\n",
    "2値上の因子をとりあげる実験を一般に多因子実験と呼ぶ。\n",
    "多因子実験の場合は、各因子の単独の効果(主効果)だけでなく、それらの組合せによる効果にも注意を払う必要がある。"
   ]
  },
  {
   "cell_type": "code",
   "execution_count": 217,
   "id": "amended-canyon",
   "metadata": {},
   "outputs": [
    {
     "name": "stdout",
     "output_type": "stream",
     "text": [
      "    B1  B2\n",
      "A1  30  50\n",
      "A2  60  80\n",
      "A3  70  90 \n",
      "\n",
      "    B1  B2\n",
      "A1  30  40\n",
      "A2  60  90\n",
      "A3  70  50\n"
     ]
    },
    {
     "data": {
      "image/png": "[encoded data removed]",
      "text/plain": [
       "<Figure size 720x288 with 2 Axes>"
      ]
     },
     "metadata": {
      "needs_background": "light"
     },
     "output_type": "display_data"
    }
   ],
   "source": [
    "test1 = pd.DataFrame({'B1':[30,60,70], 'B2':[50,80,90]}, index=['A1','A2','A3'])\n",
    "test2 = pd.DataFrame({'B1':[30,60,70], 'B2':[40,90,50]}, index=['A1','A2','A3'])\n",
    "print(test1,'\\n')\n",
    "print(test2)\n",
    "\n",
    "fig, ax = plt.subplots(1,2,figsize=(10,4))\n",
    "\n",
    "ax[0].plot(test1['B1'], '-o');\n",
    "ax[0].plot(test1['B2'], '-o');\n",
    "ax[1].plot(test2['B1'], '-o');\n",
    "ax[1].plot(test2['B2'], '-o');"
   ]
  },
  {
   "cell_type": "markdown",
   "id": "smart-trailer",
   "metadata": {},
   "source": [
    "左図の場合、$A_1B_1$から$A$を$A_2$に変更したときの増加分30と、$B$を$B_2$に変更したときの増加分20の和が、これらを同時に変更したときの増加分50に等しく、水準変更にともなう応答の変化に加法性が成立する。\n",
    "このような場合、2因子$A,B$に交互作用が存在しないという。\n",
    "\n",
    "一方、右図の場合、$A_1B_1$から$A$を$A_2$に変更したときの増加分30と、$B$を$B_2$に変更したときの増加分10の和40は、これらを同時に変更したときの増加分60に一致しない。\n",
    "このような場合、2因子$A,B$に交互作用が存在するという。\n",
    "\n",
    "### 2元配置分散分析\n",
    "多因子要因実験を完全無作為法で行うとき、それを多元配置と呼び、2因子の場合を2元配置、3因子の場合を3元配置という。"
   ]
  },
  {
   "cell_type": "code",
   "execution_count": 236,
   "id": "synthetic-sarah",
   "metadata": {},
   "outputs": [
    {
     "data": {
      "text/html": [
       "<div>\n",
       "<style scoped>\n",
       "    .dataframe tbody tr th:only-of-type {\n",
       "        vertical-align: middle;\n",
       "    }\n",
       "\n",
       "    .dataframe tbody tr th {\n",
       "        vertical-align: top;\n",
       "    }\n",
       "\n",
       "    .dataframe thead th {\n",
       "        text-align: right;\n",
       "    }\n",
       "</style>\n",
       "<table border=\"1\" class=\"dataframe\">\n",
       "  <thead>\n",
       "    <tr style=\"text-align: right;\">\n",
       "      <th></th>\n",
       "      <th>B1</th>\n",
       "      <th>B2</th>\n",
       "      <th>B3</th>\n",
       "      <th>B4</th>\n",
       "      <th>index</th>\n",
       "    </tr>\n",
       "  </thead>\n",
       "  <tbody>\n",
       "    <tr>\n",
       "      <th>0</th>\n",
       "      <td>76.0</td>\n",
       "      <td>76.2</td>\n",
       "      <td>75.3</td>\n",
       "      <td>70.4</td>\n",
       "      <td>A1</td>\n",
       "    </tr>\n",
       "    <tr>\n",
       "      <th>1</th>\n",
       "      <td>73.2</td>\n",
       "      <td>79.8</td>\n",
       "      <td>79.9</td>\n",
       "      <td>72.4</td>\n",
       "      <td>A1</td>\n",
       "    </tr>\n",
       "    <tr>\n",
       "      <th>2</th>\n",
       "      <td>77.1</td>\n",
       "      <td>84.5</td>\n",
       "      <td>86.5</td>\n",
       "      <td>76.9</td>\n",
       "      <td>A2</td>\n",
       "    </tr>\n",
       "    <tr>\n",
       "      <th>3</th>\n",
       "      <td>75.0</td>\n",
       "      <td>80.7</td>\n",
       "      <td>83.1</td>\n",
       "      <td>78.1</td>\n",
       "      <td>A2</td>\n",
       "    </tr>\n",
       "    <tr>\n",
       "      <th>4</th>\n",
       "      <td>75.7</td>\n",
       "      <td>81.3</td>\n",
       "      <td>80.7</td>\n",
       "      <td>77.1</td>\n",
       "      <td>A3</td>\n",
       "    </tr>\n",
       "    <tr>\n",
       "      <th>5</th>\n",
       "      <td>74.7</td>\n",
       "      <td>76.9</td>\n",
       "      <td>83.4</td>\n",
       "      <td>82.0</td>\n",
       "      <td>A3</td>\n",
       "    </tr>\n",
       "  </tbody>\n",
       "</table>\n",
       "</div>"
      ],
      "text/plain": [
       "     B1    B2    B3    B4 index\n",
       "0  76.0  76.2  75.3  70.4    A1\n",
       "1  73.2  79.8  79.9  72.4    A1\n",
       "2  77.1  84.5  86.5  76.9    A2\n",
       "3  75.0  80.7  83.1  78.1    A2\n",
       "4  75.7  81.3  80.7  77.1    A3\n",
       "5  74.7  76.9  83.4  82.0    A3"
      ]
     },
     "execution_count": 236,
     "metadata": {},
     "output_type": "execute_result"
    }
   ],
   "source": [
    "test3 =pd.DataFrame({'B1':[76.0,73.2,77.1,75.0,75.7,74.7],\n",
    "                     'B2':[76.2,79.8,84.5,80.7,81.3,76.9],\n",
    "                     'B3':[75.3,79.9,86.5,83.1,80.7,83.4],\n",
    "                     'B4':[70.4,72.4,76.9,78.1,77.1,82.0],\n",
    "                     'index':['A1','A1','A2','A2','A3','A3']})\n",
    "test3"
   ]
  },
  {
   "cell_type": "markdown",
   "id": "important-difficulty",
   "metadata": {},
   "source": [
    "#### 2元配置のモデル\n",
    "因子$A,B$の水準の組合せ$A_iB_j$での$k$番目の観測値を$y_{ijk}$とする。\n",
    "なお、$A,B$の水準数をそれぞれ$a,b$とし、繰返し数は一定で$r=2$とする。(一定でないデータの分析は容易ではない)\n",
    "次のモデルを想定する\n",
    "$$\n",
    "y_{ijk}=\\mu_{ij}+\\varepsilon_{ijk}\n",
    "$$"
   ]
  },
  {
   "cell_type": "code",
   "execution_count": null,
   "id": "arbitrary-designation",
   "metadata": {},
   "outputs": [],
   "source": []
  },
  {
   "cell_type": "code",
   "execution_count": null,
   "id": "raised-manhattan",
   "metadata": {},
   "outputs": [],
   "source": []
  },
  {
   "cell_type": "code",
   "execution_count": null,
   "id": "furnished-consolidation",
   "metadata": {},
   "outputs": [],
   "source": []
  },
  {
   "cell_type": "code",
   "execution_count": null,
   "id": "atlantic-respect",
   "metadata": {},
   "outputs": [],
   "source": []
  },
  {
   "cell_type": "code",
   "execution_count": null,
   "id": "intelligent-breath",
   "metadata": {},
   "outputs": [],
   "source": []
  }
 ],
 "metadata": {
  "kernelspec": {
   "display_name": "Python 3",
   "language": "python",
   "name": "python3"
  },
  "language_info": {
   "codemirror_mode": {
    "name": "ipython",
    "version": 3
   },
   "file_extension": ".py",
   "mimetype": "text/x-python",
   "name": "python",
   "nbconvert_exporter": "python",
   "pygments_lexer": "ipython3",
   "version": "3.8.5"
  }
 },
 "nbformat": 4,
 "nbformat_minor": 5
}
