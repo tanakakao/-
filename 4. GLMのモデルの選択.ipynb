{
 "cells": [
  {
   "cell_type": "code",
   "execution_count": null,
   "id": "humanitarian-structure",
   "metadata": {},
   "outputs": [],
   "source": []
  },
  {
   "cell_type": "markdown",
   "id": "ignored-pearl",
   "metadata": {},
   "source": [
    "## 4. GLMのモデルの選択\n",
    "複数の統計モデルから、何らかの意味で良いモデルを選ぶことを**モデル選択**と呼ぶ。  \n",
    "ここでは、「良い予測をするモデルが良いモデルである」という考え方に基づいた**AIC**という基準について説明する。"
   ]
  },
  {
   "cell_type": "markdown",
   "id": "provincial-bradley",
   "metadata": {},
   "source": [
    "### 4.1 データはひとつ、モデルはたくさん\n",
    "3章では、架空植物100個体の種子数のデータを説明する統計モデルをいくつか作り、最尤推定を行った。  \n",
    "- 体サイズ$x_i$が影響するモデル\n",
    "- 施肥効果$f_i$が影響するモデル\n",
    "- 体サイズと施肥効果が影響するモデル\n",
    "\n",
    "ここでは、もう一つ追加して図に示す。\n",
    "- 体サイズも施肥効果も影響しないモデル"
   ]
  },
  {
   "cell_type": "code",
   "execution_count": 374,
   "id": "configured-coverage",
   "metadata": {},
   "outputs": [],
   "source": [
    "import pandas as pd\n",
    "import numpy as np\n",
    "import statsmodels.api as sm\n",
    "import matplotlib.pyplot as plt\n",
    "\n",
    "d = pd.read_csv('C:/Users/tanak/study/参考書/データ解析のための統計モデリング/kubobook_2012/data/data3a.csv')\n",
    "d.loc[d['f']=='C', 'f_dummy'] = 0\n",
    "d.loc[d['f']=='T', 'f_dummy'] = 1\n",
    "\n",
    "make_model = lambda data: sm.GLM(d.y, sm.add_constant(data), family=sm.families.Poisson())\n",
    "\n",
    "\n",
    "model1 = make_model(d.x)\n",
    "model2 = make_model(d.f_dummy)\n",
    "model3 = make_model(d[['x', 'f_dummy']])\n",
    "model4 = sm.GLM(d.y, np.ones(len(d)), family=sm.families.Poisson())\n",
    "\n",
    "result1 = model1.fit()\n",
    "result2 = model2.fit()\n",
    "result3 = model3.fit()\n",
    "result4 = model4.fit()\n",
    "\n",
    "mdl_predict1 = lambda x: np.exp(result1.params[0]+result1.params[1]*x)\n",
    "mdl_predict2 = lambda x, d: np.exp(result2.params[0]+result2.params[1]*d*x/x)\n",
    "mdl_predict3 = lambda x, d: np.exp(result3.params[0]+result3.params[1]*x+result3.params[2]*d)\n",
    "mdl_predict4 = lambda x: np.exp(result4.params[0]*x/x)"
   ]
  },
  {
   "cell_type": "code",
   "execution_count": 2,
   "id": "angry-simpson",
   "metadata": {},
   "outputs": [
    {
     "data": {
      "image/png": "[encoded data removed]",
      "text/plain": [
       "<Figure size 864x576 with 4 Axes>"
      ]
     },
     "metadata": {
      "needs_background": "light"
     },
     "output_type": "display_data"
    }
   ],
   "source": [
    "x = np.arange(5, 15, 0.1)\n",
    "\n",
    "fig = plt.figure(figsize=(12,8))\n",
    "\n",
    "ax1 = fig.add_subplot(2, 2, 1)\n",
    "ax1.plot(x, mdl_predict1(x));\n",
    "ax1.set_ylim([5,12]);\n",
    "\n",
    "ax2 = fig.add_subplot(2, 2, 2)\n",
    "ax2.plot(x, mdl_predict2(x, 1), label='T');\n",
    "ax2.plot(x, mdl_predict2(x, 0), label='C');\n",
    "ax2.set_ylim([5,12]);\n",
    "ax2.legend();\n",
    "\n",
    "ax3 = fig.add_subplot(2, 2, 3)\n",
    "ax3.plot(x, mdl_predict3(x, 1), label='T');\n",
    "ax3.plot(x, mdl_predict3(x, 0), label='C');\n",
    "ax3.set_ylim([5,12]);\n",
    "ax3.legend();\n",
    "\n",
    "ax4 = fig.add_subplot(2, 2, 4)\n",
    "ax4.plot(x, mdl_predict4(x));\n",
    "ax4.set_ylim([5,12]);"
   ]
  },
  {
   "cell_type": "markdown",
   "id": "beneficial-performer",
   "metadata": {},
   "source": [
    "対数尤度が「いま手元にある観測データへの当てはまりの良さ」であると考え、これを最大にするパラメータを探してきた。  \n",
    "最大対数尤度つまり「当てはまりの良さ」こそがモデルの良さであると考えればよいか？"
   ]
  },
  {
   "cell_type": "markdown",
   "id": "inclusive-question",
   "metadata": {},
   "source": [
    "### 4.2 統計モデルのあてはまりの悪さ：逸脱度\n",
    "モデルの「あてはまりの良さ」ではなく「あてはまりの悪さ」を表現する**逸脱度**は、\n",
    "$$\n",
    "D=-2\\log{L^*}\n",
    "$$\n",
    "と定義される。  \n",
    "ここで、対数尤度を$\\log{L}$としたときに、最大対数尤度を$\\log{L^*}$と表記している。  \n",
    "たとえば体サイズだけに依存するモデルを「xモデル」と呼ぶことにすると、  \n",
    "このモデルの最大対数尤度は-235.4くらいであったので、逸脱度はおよそ470.8と計算できる。"
   ]
  },
  {
   "cell_type": "markdown",
   "id": "integral-majority",
   "metadata": {},
   "source": [
    "また、**残差逸脱度**は、「あてはまりの悪さの相対値」であり、次のように定義される。\n",
    "$$\n",
    "D-(ポアソン分布モデルで可能な最小逸脱度)\n",
    "$$\n",
    "ここで、「ポアソン分布モデルで可能な最小逸脱度」とは  \n",
    "フルモデル(データ数が100個なのでパラメータ100個を使ってあてはめたモデル)の逸脱度である。"
   ]
  },
  {
   "cell_type": "code",
   "execution_count": 20,
   "id": "professional-glory",
   "metadata": {},
   "outputs": [
    {
     "name": "stdout",
     "output_type": "stream",
     "text": [
      "-192.88975252449595\n",
      "逸脱度:  385.7795050489919\n"
     ]
    }
   ],
   "source": [
    "from scipy.stats import poisson\n",
    "\n",
    "prob = poisson.pmf(d.y, mu=d.y)\n",
    "\n",
    "logL = np.sum(np.log(prob))\n",
    "D = -2*logL\n",
    "print(logL)\n",
    "print(\"逸脱度: \", D)"
   ]
  },
  {
   "cell_type": "code",
   "execution_count": 23,
   "id": "mighty-quebec",
   "metadata": {},
   "outputs": [
    {
     "name": "stdout",
     "output_type": "stream",
     "text": [
      "逸脱度:  470.78\n",
      "残差逸脱度:  85.0\n"
     ]
    },
    {
     "data": {
      "text/html": [
       "<table class=\"simpletable\">\n",
       "<caption>Generalized Linear Model Regression Results</caption>\n",
       "<tr>\n",
       "  <th>Dep. Variable:</th>           <td>y</td>        <th>  No. Observations:  </th>  <td>   100</td> \n",
       "</tr>\n",
       "<tr>\n",
       "  <th>Model:</th>                  <td>GLM</td>       <th>  Df Residuals:      </th>  <td>    98</td> \n",
       "</tr>\n",
       "<tr>\n",
       "  <th>Model Family:</th>         <td>Poisson</td>     <th>  Df Model:          </th>  <td>     1</td> \n",
       "</tr>\n",
       "<tr>\n",
       "  <th>Link Function:</th>          <td>log</td>       <th>  Scale:             </th> <td>  1.0000</td>\n",
       "</tr>\n",
       "<tr>\n",
       "  <th>Method:</th>                <td>IRLS</td>       <th>  Log-Likelihood:    </th> <td> -235.39</td>\n",
       "</tr>\n",
       "<tr>\n",
       "  <th>Date:</th>            <td>Mon, 18 Oct 2021</td> <th>  Deviance:          </th> <td>  84.993</td>\n",
       "</tr>\n",
       "<tr>\n",
       "  <th>Time:</th>                <td>00:33:44</td>     <th>  Pearson chi2:      </th>  <td>  83.8</td> \n",
       "</tr>\n",
       "<tr>\n",
       "  <th>No. Iterations:</th>          <td>4</td>        <th>                     </th>     <td> </td>   \n",
       "</tr>\n",
       "<tr>\n",
       "  <th>Covariance Type:</th>     <td>nonrobust</td>    <th>                     </th>     <td> </td>   \n",
       "</tr>\n",
       "</table>\n",
       "<table class=\"simpletable\">\n",
       "<tr>\n",
       "    <td></td>       <th>coef</th>     <th>std err</th>      <th>z</th>      <th>P>|z|</th>  <th>[0.025</th>    <th>0.975]</th>  \n",
       "</tr>\n",
       "<tr>\n",
       "  <th>const</th> <td>    1.2917</td> <td>    0.364</td> <td>    3.552</td> <td> 0.000</td> <td>    0.579</td> <td>    2.005</td>\n",
       "</tr>\n",
       "<tr>\n",
       "  <th>x</th>     <td>    0.0757</td> <td>    0.036</td> <td>    2.125</td> <td> 0.034</td> <td>    0.006</td> <td>    0.145</td>\n",
       "</tr>\n",
       "</table>"
      ],
      "text/plain": [
       "<class 'statsmodels.iolib.summary.Summary'>\n",
       "\"\"\"\n",
       "                 Generalized Linear Model Regression Results                  \n",
       "==============================================================================\n",
       "Dep. Variable:                      y   No. Observations:                  100\n",
       "Model:                            GLM   Df Residuals:                       98\n",
       "Model Family:                 Poisson   Df Model:                            1\n",
       "Link Function:                    log   Scale:                          1.0000\n",
       "Method:                          IRLS   Log-Likelihood:                -235.39\n",
       "Date:                Mon, 18 Oct 2021   Deviance:                       84.993\n",
       "Time:                        00:33:44   Pearson chi2:                     83.8\n",
       "No. Iterations:                     4                                         \n",
       "Covariance Type:            nonrobust                                         \n",
       "==============================================================================\n",
       "                 coef    std err          z      P>|z|      [0.025      0.975]\n",
       "------------------------------------------------------------------------------\n",
       "const          1.2917      0.364      3.552      0.000       0.579       2.005\n",
       "x              0.0757      0.036      2.125      0.034       0.006       0.145\n",
       "==============================================================================\n",
       "\"\"\""
      ]
     },
     "execution_count": 23,
     "metadata": {},
     "output_type": "execute_result"
    }
   ],
   "source": [
    "print(\"逸脱度: \", -2*(-235.39))\n",
    "print(\"残差逸脱度: \", (-2*(-235.39))-385.78)\n",
    "result1.summary()"
   ]
  },
  {
   "cell_type": "markdown",
   "id": "underlying-acquisition",
   "metadata": {},
   "source": [
    "次に、残差逸脱度が最大となるのは最もあてはまりの悪いモデルである。  \n",
    "今回の場合では、最もパラメータの少ないモデルは切片のみのモデル(nullモデル)である。"
   ]
  },
  {
   "cell_type": "code",
   "execution_count": 24,
   "id": "unavailable-british",
   "metadata": {},
   "outputs": [
    {
     "name": "stdout",
     "output_type": "stream",
     "text": [
      "逸脱度:  475.28\n",
      "残差逸脱度:  89.5\n"
     ]
    },
    {
     "data": {
      "text/html": [
       "<table class=\"simpletable\">\n",
       "<caption>Generalized Linear Model Regression Results</caption>\n",
       "<tr>\n",
       "  <th>Dep. Variable:</th>           <td>y</td>        <th>  No. Observations:  </th>  <td>   100</td> \n",
       "</tr>\n",
       "<tr>\n",
       "  <th>Model:</th>                  <td>GLM</td>       <th>  Df Residuals:      </th>  <td>    99</td> \n",
       "</tr>\n",
       "<tr>\n",
       "  <th>Model Family:</th>         <td>Poisson</td>     <th>  Df Model:          </th>  <td>     0</td> \n",
       "</tr>\n",
       "<tr>\n",
       "  <th>Link Function:</th>          <td>log</td>       <th>  Scale:             </th> <td>  1.0000</td>\n",
       "</tr>\n",
       "<tr>\n",
       "  <th>Method:</th>                <td>IRLS</td>       <th>  Log-Likelihood:    </th> <td> -237.64</td>\n",
       "</tr>\n",
       "<tr>\n",
       "  <th>Date:</th>            <td>Mon, 18 Oct 2021</td> <th>  Deviance:          </th> <td>  89.507</td>\n",
       "</tr>\n",
       "<tr>\n",
       "  <th>Time:</th>                <td>00:33:54</td>     <th>  Pearson chi2:      </th>  <td>  87.1</td> \n",
       "</tr>\n",
       "<tr>\n",
       "  <th>No. Iterations:</th>          <td>4</td>        <th>                     </th>     <td> </td>   \n",
       "</tr>\n",
       "<tr>\n",
       "  <th>Covariance Type:</th>     <td>nonrobust</td>    <th>                     </th>     <td> </td>   \n",
       "</tr>\n",
       "</table>\n",
       "<table class=\"simpletable\">\n",
       "<tr>\n",
       "    <td></td>       <th>coef</th>     <th>std err</th>      <th>z</th>      <th>P>|z|</th>  <th>[0.025</th>    <th>0.975]</th>  \n",
       "</tr>\n",
       "<tr>\n",
       "  <th>const</th> <td>    2.0580</td> <td>    0.036</td> <td>   57.586</td> <td> 0.000</td> <td>    1.988</td> <td>    2.128</td>\n",
       "</tr>\n",
       "</table>"
      ],
      "text/plain": [
       "<class 'statsmodels.iolib.summary.Summary'>\n",
       "\"\"\"\n",
       "                 Generalized Linear Model Regression Results                  \n",
       "==============================================================================\n",
       "Dep. Variable:                      y   No. Observations:                  100\n",
       "Model:                            GLM   Df Residuals:                       99\n",
       "Model Family:                 Poisson   Df Model:                            0\n",
       "Link Function:                    log   Scale:                          1.0000\n",
       "Method:                          IRLS   Log-Likelihood:                -237.64\n",
       "Date:                Mon, 18 Oct 2021   Deviance:                       89.507\n",
       "Time:                        00:33:54   Pearson chi2:                     87.1\n",
       "No. Iterations:                     4                                         \n",
       "Covariance Type:            nonrobust                                         \n",
       "==============================================================================\n",
       "                 coef    std err          z      P>|z|      [0.025      0.975]\n",
       "------------------------------------------------------------------------------\n",
       "const          2.0580      0.036     57.586      0.000       1.988       2.128\n",
       "==============================================================================\n",
       "\"\"\""
      ]
     },
     "execution_count": 24,
     "metadata": {},
     "output_type": "execute_result"
    }
   ],
   "source": [
    "print(\"逸脱度: \", -2*(-237.64))\n",
    "print(\"残差逸脱度: \", (-2*(-237.64))-385.78)\n",
    "result4.summary()"
   ]
  },
  {
   "cell_type": "markdown",
   "id": "sapphire-entity",
   "metadata": {},
   "source": [
    "残差逸脱度の最大値は89.5となる。  \n",
    "  \n",
    "パラメータの数($k$)を増やせば残差逸脱度は小さくなり当てはまりが良くなる。"
   ]
  },
  {
   "cell_type": "markdown",
   "id": "advance-abuse",
   "metadata": {},
   "source": [
    "### 4.3 モデルの選択基準 AIC\n",
    "パラメータの数の多い統計モデルほど、データへの当てはまりがよくなるが、「予測の良さ」をそこなっている可能性がある。  \n",
    "ここでは、モデルの選択基準のひとつ**AIC(Akaike's information criterion)**を説明する。  \n",
    "AICは当てはまりの良さではなく、予測の良さを重視するモデル選択基準である。  \n",
    "$$\n",
    "\\begin{align}\n",
    "AIC&=-2\\{(最大対数尤度)-(最尤推定したパラメータ数)\\}\\\\\n",
    "&=-2(\\log{L^*}-k)\\\\\n",
    "&=D+2k\n",
    "\\end{align}\n",
    "$$\n",
    "\n",
    "AICが一番小さいモデルが良いモデルとなる。  \n",
    "今回の例題では、xのみを使ったモデルがAIC最小のモデルとなる。"
   ]
  },
  {
   "cell_type": "code",
   "execution_count": 31,
   "id": "rocky-bradford",
   "metadata": {},
   "outputs": [
    {
     "name": "stdout",
     "output_type": "stream",
     "text": [
      "null:  477.2864426185734\n",
      "x:  474.7725015397216\n",
      "f:  479.25451392137364\n",
      "x+f:  476.58743848498733\n",
      "full:  585.779505048992\n"
     ]
    }
   ],
   "source": [
    "print(\"null: \", result4.aic)\n",
    "print(\"x: \", result1.aic)\n",
    "print(\"f: \", result2.aic)\n",
    "print(\"x+f: \", result3.aic)\n",
    "print(\"full: \", D+2*100)"
   ]
  },
  {
   "cell_type": "markdown",
   "id": "coordinated-association",
   "metadata": {},
   "source": [
    "#### 4.4 AICの説明のための別の例題\n",
    "観測データには、個体$i$の種子数$y_i$と体サイズ$x_i$が50個体ぶん含まれている。  \n",
    "応答変数$y_i$は、ポアソン分布に従っているものとする。  \n",
    "また、説明変数$x_i$は、種子数$y_i$とは関係ないものとする。  \n",
    "ここで、2つのモデルを考える。\n",
    "- $\\log{\\lambda}_i=\\beta_1$　…　一定モデル(k=1)\n",
    "- $\\log{\\lambda}_i=\\beta_1+\\beta_2x_i$　…　xモデル(k=2)\n",
    "\n",
    "一方のモデルが他方に含められているとき、これらのモデルは**ネスト**しているモデルと呼ぶ。"
   ]
  },
  {
   "cell_type": "code",
   "execution_count": 77,
   "id": "federal-manchester",
   "metadata": {},
   "outputs": [
    {
     "data": {
      "text/html": [
       "<div>\n",
       "<style scoped>\n",
       "    .dataframe tbody tr th:only-of-type {\n",
       "        vertical-align: middle;\n",
       "    }\n",
       "\n",
       "    .dataframe tbody tr th {\n",
       "        vertical-align: top;\n",
       "    }\n",
       "\n",
       "    .dataframe thead th {\n",
       "        text-align: right;\n",
       "    }\n",
       "</style>\n",
       "<table border=\"1\" class=\"dataframe\">\n",
       "  <thead>\n",
       "    <tr style=\"text-align: right;\">\n",
       "      <th></th>\n",
       "      <th>y</th>\n",
       "      <th>x</th>\n",
       "    </tr>\n",
       "  </thead>\n",
       "  <tbody>\n",
       "    <tr>\n",
       "      <th>0</th>\n",
       "      <td>7</td>\n",
       "      <td>0.744037</td>\n",
       "    </tr>\n",
       "    <tr>\n",
       "      <th>1</th>\n",
       "      <td>6</td>\n",
       "      <td>0.407414</td>\n",
       "    </tr>\n",
       "    <tr>\n",
       "      <th>2</th>\n",
       "      <td>7</td>\n",
       "      <td>-1.702211</td>\n",
       "    </tr>\n",
       "    <tr>\n",
       "      <th>3</th>\n",
       "      <td>5</td>\n",
       "      <td>1.549428</td>\n",
       "    </tr>\n",
       "    <tr>\n",
       "      <th>4</th>\n",
       "      <td>8</td>\n",
       "      <td>-1.890381</td>\n",
       "    </tr>\n",
       "  </tbody>\n",
       "</table>\n",
       "</div>"
      ],
      "text/plain": [
       "   y         x\n",
       "0  7  0.744037\n",
       "1  6  0.407414\n",
       "2  7 -1.702211\n",
       "3  5  1.549428\n",
       "4  8 -1.890381"
      ]
     },
     "execution_count": 77,
     "metadata": {},
     "output_type": "execute_result"
    }
   ],
   "source": [
    "data2 = pd.DataFrame({\"y\":np.random.poisson(8, 50),\n",
    "                      \"x\":np.random.uniform(-2, 2, 50)})\n",
    "data2.head()"
   ]
  },
  {
   "cell_type": "code",
   "execution_count": 78,
   "id": "seeing-organic",
   "metadata": {},
   "outputs": [],
   "source": [
    "make_model = lambda data: sm.GLM(data2.y, sm.add_constant(data), family=sm.families.Poisson())\n",
    "\n",
    "model1 = make_model(data2.x)\n",
    "model2 = sm.GLM(data2.y, np.ones(len(data2)), family=sm.families.Poisson())\n",
    "\n",
    "result1 = model1.fit()\n",
    "result2 = model2.fit()\n",
    "\n",
    "mdl_predict1 = lambda x: np.exp(result1.params[0]+result1.params[1]*x)\n",
    "mdl_predict2 = lambda x: np.exp(result2.params[0]*x/x)"
   ]
  },
  {
   "cell_type": "code",
   "execution_count": 79,
   "id": "moved-vietnam",
   "metadata": {},
   "outputs": [
    {
     "data": {
      "image/png": "[encoded data removed]",
      "text/plain": [
       "<Figure size 432x288 with 1 Axes>"
      ]
     },
     "metadata": {
      "needs_background": "light"
     },
     "output_type": "display_data"
    }
   ],
   "source": [
    "x = np.arange(-2.1, 2.1, 0.1)\n",
    "\n",
    "plt.scatter(data2.x, data2.y)\n",
    "plt.plot(x, mdl_predict1(x));\n",
    "plt.plot(x, mdl_predict2(x));"
   ]
  },
  {
   "cell_type": "markdown",
   "id": "vulnerable-landing",
   "metadata": {},
   "source": [
    "### 4.5 なぜAICモデルを選択してよいか\n",
    "#### 平均対数尤度\n",
    "平均対数尤度はモデルの予測の良さを表す量である。  \n",
    "観測データを使って一定モデルのパラメータ$\\beta_1$の最尤推定を行う。  \n",
    "平均種子数は$\\lambda_i=\\exp{\\beta_1}$で決まる。  \n",
    "パラメータ最尤推定法は、対数尤度を最大にする最尤推定値$\\hat{\\beta_1}$を見つけることである。  \n",
    "真の統計モデル(生成したモデル)では、平均$\\lambda$は8と設定しているので、$\\beta_1=\\log{8}=2.08$となる。  \n",
    "この50個の観測データを使って最尤推定された$\\hat{\\beta_1}$は、2.06となった。"
   ]
  },
  {
   "cell_type": "code",
   "execution_count": 82,
   "id": "final-royalty",
   "metadata": {},
   "outputs": [
    {
     "name": "stdout",
     "output_type": "stream",
     "text": [
      "beta:  2.06\n"
     ]
    },
    {
     "data": {
      "image/png": "[encoded data removed]",
      "text/plain": [
       "<Figure size 432x288 with 1 Axes>"
      ]
     },
     "metadata": {
      "needs_background": "light"
     },
     "output_type": "display_data"
    }
   ],
   "source": [
    "x = np.arange(1.9, 2.2, 0.01)\n",
    "\n",
    "probs = [np.sum(np.log(poisson.pmf(data2.y, mu=i))) for i in np.exp(x)]\n",
    "max_id = np.argmax(probs)\n",
    "print(\"beta: \", x[max_id])\n",
    "\n",
    "plt.plot(x, probs);\n",
    "plt.plot(x[max_id], probs[max_id], 'o');"
   ]
  },
  {
   "cell_type": "markdown",
   "id": "extraordinary-collectible",
   "metadata": {},
   "source": [
    "推定されたモデルが真の統計モデルにどれぐらい近いのかを調べる方法として、予測の良さを推定する。  \n",
    "今回は真の統計モデルが分かっているので、予測の良さの評価用データを200セット生成する。  \n",
    "これらのデータに対し、すでに推定された一定モデル$\\hat{\\beta_1}=2.06$の当てはまりの良さを対数尤度で評価する。  \n",
    "これらの200個の対数尤度の平均が**平均対数尤度**であり、$E(\\log{L})$と書くこととする。"
   ]
  },
  {
   "cell_type": "code",
   "execution_count": 112,
   "id": "surprised-delivery",
   "metadata": {},
   "outputs": [
    {
     "data": {
      "text/plain": [
       "[<matplotlib.lines.Line2D at 0x1d3ef7f5220>]"
      ]
     },
     "execution_count": 112,
     "metadata": {},
     "output_type": "execute_result"
    },
    {
     "data": {
      "image/png": "[encoded data removed]",
      "text/plain": [
       "<Figure size 432x288 with 1 Axes>"
      ]
     },
     "metadata": {
      "needs_background": "light"
     },
     "output_type": "display_data"
    }
   ],
   "source": [
    "datasets = [np.random.poisson(8, 50) for i in range(200)]\n",
    "\n",
    "Elog = [np.sum(np.log(poisson.pmf(d, mu=np.exp(2.06)))) for d in datasets]\n",
    "mean_Elog = np.mean(Elog)\n",
    "\n",
    "plt.plot(x, probs);\n",
    "plt.plot([2.06]*200, Elog, 'o', markersize=1, color='red')\n",
    "plt.plot(x[max_id], probs[max_id], 'o', color='orange');\n",
    "plt.plot([1.89, 2.21], [probs[max_id], probs[max_id]], '--', color='orange')\n",
    "plt.plot(2.06, mean_Elog, 'o', color='green');\n",
    "plt.plot([1.89, 2.21], [mean_Elog, mean_Elog], '--', color='green')"
   ]
  },
  {
   "cell_type": "markdown",
   "id": "colored-folder",
   "metadata": {},
   "source": [
    "平均対数尤度は-121.96となり、偶然得られた観測データで推定されたモデルでは当てはまりの良さが過大評価されていることとなる。  \n",
    "ここで、\n",
    "1. 真の統計モデルからパラメータ推定用データ1セットを生成\n",
    "2. 一定モデルを推定\n",
    "3. 真の統計モデルから予測の良さ評価用データ200セットを生成\n",
    "4. 平均対数尤度を評価\n",
    "\n",
    "という操作を12回繰り返す。  \n",
    "最大対数尤度と平均対数尤度はどちらが大きいあるいは小さいとは言えない。"
   ]
  },
  {
   "cell_type": "code",
   "execution_count": 126,
   "id": "elementary-mobile",
   "metadata": {},
   "outputs": [],
   "source": [
    "def make_logL():\n",
    "    x = np.arange(1.9, 2.2, 0.01)\n",
    "    d = np.random.poisson(8, 50)\n",
    "    probs = [np.sum(np.log(poisson.pmf(d, mu=i))) for i in np.exp(x)]\n",
    "    max_id = np.argmax(probs)\n",
    "    beta = x[max_id]\n",
    "\n",
    "    datasets = [np.random.poisson(8, 50) for i in range(200)]\n",
    "\n",
    "    Elog = [np.sum(np.log(poisson.pmf(d, mu=np.exp(beta)))) for d in datasets]\n",
    "    mean_Elog = np.mean(Elog)\n",
    "    return beta, mean_Elog, probs[max_id], Elog"
   ]
  },
  {
   "cell_type": "code",
   "execution_count": 127,
   "id": "disturbed-municipality",
   "metadata": {},
   "outputs": [],
   "source": [
    "results = [make_logL() for i in range(12)]"
   ]
  },
  {
   "cell_type": "code",
   "execution_count": 135,
   "id": "micro-observation",
   "metadata": {},
   "outputs": [
    {
     "data": {
      "image/png": "[encoded data removed]",
      "text/plain": [
       "<Figure size 432x288 with 1 Axes>"
      ]
     },
     "metadata": {
      "needs_background": "light"
     },
     "output_type": "display_data"
    }
   ],
   "source": [
    "for i in range(12):\n",
    "    res = results[i]\n",
    "    plt.plot([res[0]]*200, res[3], 'o', markersize=1, color='red')\n",
    "    plt.plot(res[0], res[2], 'o', markersize=6, color='orange');\n",
    "    plt.plot(res[0], res[1], 'o', markersize=6, color='green');"
   ]
  },
  {
   "cell_type": "markdown",
   "id": "innocent-license",
   "metadata": {},
   "source": [
    "同じ操作を200回繰り返し、最大対数尤度と平均対数尤度の差の分布を確認する。  \n",
    "このとき、この差を**バイアス**と呼び、  \n",
    "$$\n",
    "b=\\log{L^*}-E(\\log{L})\n",
    "$$\n",
    "\n",
    "と定義する。"
   ]
  },
  {
   "cell_type": "code",
   "execution_count": 144,
   "id": "subjective-butler",
   "metadata": {},
   "outputs": [
    {
     "name": "stdout",
     "output_type": "stream",
     "text": [
      "標本平均 0.7661927572861009\n"
     ]
    }
   ],
   "source": [
    "results2 = [make_logL() for i in range(200)]\n",
    "diff = [r[2]-r[1] for r in results2]\n",
    "print('標本平均', np.mean(diff))"
   ]
  },
  {
   "cell_type": "markdown",
   "id": "induced-pepper",
   "metadata": {},
   "source": [
    "標本平均は0.77であり、分布は以下のようになる。"
   ]
  },
  {
   "cell_type": "code",
   "execution_count": 145,
   "id": "subtle-thriller",
   "metadata": {},
   "outputs": [
    {
     "data": {
      "image/png": "[encoded data removed]",
      "text/plain": [
       "<Figure size 432x288 with 1 Axes>"
      ]
     },
     "metadata": {
      "needs_background": "light"
     },
     "output_type": "display_data"
    }
   ],
   "source": [
    "plt.hist(diff, bins=30);"
   ]
  },
  {
   "cell_type": "markdown",
   "id": "hazardous-malawi",
   "metadata": {},
   "source": [
    "実際は真の統計モデルが不明であるため、$E(\\log{L})$がどのような値になるかはわからない。  \n",
    "ここで、バイアス$b$の定義を変形すると、\n",
    "$$\n",
    "E(\\log{L})=\\log{L^*}-b\n",
    "$$\n",
    "\n",
    "となり、平均的な$b$と最大対数尤度$\\log{L^*}$の値がわかれば、平均対数尤度の推定量が得られる。  \n",
    "これを**バイアス補正**と呼ぶ。  \n",
    "  \n",
    "一般的には、最尤推定するパラメータを$k$個もつモデルの平均対数尤度の推定量は$\\log{L^*}-k$であることが分かっている。  \n",
    "今回の一定モデルでは、$k=1$であるので、\n",
    "$$\n",
    "E(\\log{L})=\\log{L^*}-1\n",
    "$$\n",
    "\n",
    "であり、これに-2を掛けたものがAICとなる。\n",
    "$$\n",
    "AIC=-2×(\\log{L^*}-1)\n",
    "$$\n",
    "\n",
    "平均対数尤度が「モデルの予測の良さ」であったから、AICは「予測の悪さ」と解釈できる。  \n",
    "したがってAICが小さいほど予測が良いモデルということになる。"
   ]
  },
  {
   "cell_type": "markdown",
   "id": "emerging-ranking",
   "metadata": {},
   "source": [
    "#### ネストしているGLM間のAIC\n",
    "- $\\log{\\lambda}_i=\\beta_1$　…　一定モデル(k=1)\n",
    "- $\\log{\\lambda}_i=\\beta_1+\\beta_2x_i$　…　xモデル(k=2)"
   ]
  },
  {
   "cell_type": "code",
   "execution_count": 591,
   "id": "expanded-hanging",
   "metadata": {},
   "outputs": [],
   "source": [
    "def make_logL1(d, datasets):\n",
    "    b1 = np.arange(1.9, 2.2, 0.01)\n",
    "    \n",
    "    probs = [np.sum(np.log(poisson.pmf(d, mu=i))) for i in np.exp(b1)]\n",
    "    \n",
    "    max_id = np.argmax(probs)\n",
    "    beta = b1[max_id]\n",
    "\n",
    "    Elog = [np.sum(np.log(poisson.pmf(d, mu=np.exp(beta)))) for d in datasets]\n",
    "    mean_Elog = np.mean(Elog)\n",
    "    return mean_Elog, probs[max_id], Elog\n",
    "\n",
    "def make_logL2(d, datasets):\n",
    "    b1 = np.arange(1.9, 2.2, 0.01)\n",
    "    b2 = np.arange(-0.1, 0.016, 0.001)\n",
    "    \n",
    "    #xi = np.random.uniform(-2, 2, 50)\n",
    "    xi = np.random.normal(0, 1, 50)\n",
    "    probs = np.array([[np.sum(np.log(poisson.pmf(d, mu=np.exp(beta1+xi*beta2)))) for beta1 in b1] for beta2 in b2])\n",
    "    max_id = np.unravel_index(np.argmax(probs, axis=None), probs.shape)\n",
    "    \n",
    "    mb1 = b1[max_id[1]]\n",
    "    mb2 = b2[max_id[0]]\n",
    "\n",
    "    #xis = [np.random.uniform(-2, 2, 50) for _ in range(200)]\n",
    "    xis = [np.random.normal(0, 1, 50) for _ in range(200)]\n",
    "    \n",
    "    Elog = [np.sum(np.log(poisson.pmf(d, mu=np.exp(mb1 + mb2*x)))) for d, x in zip(datasets, xis)]\n",
    "    mean_Elog = np.mean(Elog)\n",
    "    return mean_Elog, probs[max_id], Elog"
   ]
  },
  {
   "cell_type": "code",
   "execution_count": 595,
   "id": "behavioral-jason",
   "metadata": {},
   "outputs": [],
   "source": [
    "diff_maxL = []\n",
    "diff_meanL = []\n",
    "diff_b = []\n",
    "for _ in range(200):\n",
    "    d = np.random.poisson(8, 50)\n",
    "    datasets = [np.random.poisson(8, 50) for i in range(200)]\n",
    "    \n",
    "    nullL = make_logL1(d, datasets)\n",
    "    xL = make_logL2(d, datasets)\n",
    "    \n",
    "    diff_maxL.append(xL[1]-nullL[1])\n",
    "    diff_meanL.append(xL[0]-nullL[0])\n",
    "    diff_b.append((xL[1]-xL[0])-(nullL[1]-nullL[0]))"
   ]
  },
  {
   "cell_type": "markdown",
   "id": "dedicated-substitute",
   "metadata": {},
   "source": [
    "あてはまりの良さである最大対数尤度の比較を行うために、\n",
    "$$\n",
    "(xモデルの\\log{L^*})-(一定モデルの\\log{L^*})\n",
    "$$\n",
    "\n",
    "の分布をみるとパラメータ数の多いxモデルのほうが高くなる。"
   ]
  },
  {
   "cell_type": "code",
   "execution_count": 596,
   "id": "quarterly-breath",
   "metadata": {
    "scrolled": true
   },
   "outputs": [
    {
     "name": "stdout",
     "output_type": "stream",
     "text": [
      "0.2901318879078702\n"
     ]
    },
    {
     "data": {
      "image/png": "[encoded data removed]",
      "text/plain": [
       "<Figure size 432x288 with 1 Axes>"
      ]
     },
     "metadata": {
      "needs_background": "light"
     },
     "output_type": "display_data"
    }
   ],
   "source": [
    "print(np.mean(diff_maxL))\n",
    "plt.hist(diff_maxL, bins=20);"
   ]
  },
  {
   "cell_type": "markdown",
   "id": "leading-network",
   "metadata": {},
   "source": [
    "予測能力を表す平均対数尤度の比較を行うために、\n",
    "$$\n",
    "(xモデルのE(\\log{L}))-(一定モデルのE(\\log{L}))\n",
    "$$\n",
    "\n",
    "の分布をみると、パラメータ数の多いxモデルのほうが低くなる。"
   ]
  },
  {
   "cell_type": "code",
   "execution_count": 597,
   "id": "funky-shelf",
   "metadata": {},
   "outputs": [
    {
     "name": "stdout",
     "output_type": "stream",
     "text": [
      "-0.22557423217906497\n"
     ]
    },
    {
     "data": {
      "image/png": "[encoded data removed]",
      "text/plain": [
       "<Figure size 432x288 with 1 Axes>"
      ]
     },
     "metadata": {
      "needs_background": "light"
     },
     "output_type": "display_data"
    }
   ],
   "source": [
    "print(np.mean(diff_meanL))\n",
    "plt.hist(diff_meanL, bins=20);"
   ]
  },
  {
   "cell_type": "markdown",
   "id": "productive-gathering",
   "metadata": {},
   "source": [
    "また、バイアスの差を見ると増加していることが分かる。"
   ]
  },
  {
   "cell_type": "code",
   "execution_count": 598,
   "id": "random-manhattan",
   "metadata": {},
   "outputs": [
    {
     "name": "stdout",
     "output_type": "stream",
     "text": [
      "0.5157061200869352\n"
     ]
    },
    {
     "data": {
      "image/png": "[encoded data removed]",
      "text/plain": [
       "<Figure size 432x288 with 1 Axes>"
      ]
     },
     "metadata": {
      "needs_background": "light"
     },
     "output_type": "display_data"
    }
   ],
   "source": [
    "print(np.mean(diff_b))\n",
    "plt.hist(diff_b, bins=20);"
   ]
  },
  {
   "cell_type": "code",
   "execution_count": null,
   "id": "treated-turner",
   "metadata": {},
   "outputs": [],
   "source": []
  },
  {
   "cell_type": "code",
   "execution_count": null,
   "id": "impressive-worthy",
   "metadata": {},
   "outputs": [],
   "source": []
  },
  {
   "cell_type": "code",
   "execution_count": null,
   "id": "muslim-baking",
   "metadata": {},
   "outputs": [],
   "source": []
  },
  {
   "cell_type": "code",
   "execution_count": null,
   "id": "pacific-durham",
   "metadata": {},
   "outputs": [],
   "source": []
  },
  {
   "cell_type": "code",
   "execution_count": null,
   "id": "fallen-landing",
   "metadata": {},
   "outputs": [],
   "source": []
  }
 ],
 "metadata": {
  "kernelspec": {
   "display_name": "Python 3",
   "language": "python",
   "name": "python3"
  },
  "language_info": {
   "codemirror_mode": {
    "name": "ipython",
    "version": 3
   },
   "file_extension": ".py",
   "mimetype": "text/x-python",
   "name": "python",
   "nbconvert_exporter": "python",
   "pygments_lexer": "ipython3",
   "version": "3.8.5"
  }
 },
 "nbformat": 4,
 "nbformat_minor": 5
}
