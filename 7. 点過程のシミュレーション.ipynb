{
 "cells": [
  {
   "cell_type": "markdown",
   "id": "athletic-scholar",
   "metadata": {},
   "source": [
    "### 乱数の生成\n",
    "ここでは、$[0,1]$の一様分布に従う一様乱数$U$は何らかの方法により得られるとする。\n",
    "\n",
    "#### 逆変換法\n",
    "逆変換法は、一様乱数を適切に変換することで望みの確率分布に従う乱数を生成する方法である。\n",
    "以下の確率分布の性質を用いる。\n",
    "\n",
    "- 確率変数$x$が確率密度関数$p(x)$に従うとき、その累積分布関数$F(x)=\\int_{-\\infty}^xp(s)ds$を用いて得られる確率変数$y=F(x)$は$[0,1]$上の一様分布に従う\n",
    "- その逆も成り立つ。つまり確率変数$y$が$[0,1]$上の一様分布に従うとき、$F$の逆変換$F^{-1}$を用いて得られる確率変数$x=F^{-1}(y)$は確率密度関数$p(x)$に従う\n",
    "\n",
    "以下の乱数生成のアルゴリズムが得られる。\n",
    "\n",
    "(アルゴリズム1)確率密度関数$p(x)$に従う乱数の生成(逆変換法)\n",
    "1. 一様乱数$U$を生成する\n",
    "2. $p(x)$の累積分布関数の逆関数$F^{-1}$を用いて、$x=F^{-1}(U)$を返す"
   ]
  },
  {
   "cell_type": "code",
   "execution_count": 27,
   "id": "accessory-viking",
   "metadata": {},
   "outputs": [
    {
     "data": {
      "image/png": "[encoded data removed]",
      "text/plain": [
       "<Figure size 432x288 with 1 Axes>"
      ]
     },
     "metadata": {
      "needs_background": "light"
     },
     "output_type": "display_data"
    }
   ],
   "source": [
    "from scipy.stats import norm, uniform\n",
    "import matplotlib.pyplot as plt\n",
    "\n",
    "U = uniform.rvs(size=10000)\n",
    "x = norm.ppf(U)\n",
    "\n",
    "plt.hist(x, bins=30);"
   ]
  },
  {
   "cell_type": "markdown",
   "id": "alleged-example",
   "metadata": {},
   "source": [
    "#### 棄却法\n",
    "望みの確率密度関数$p(x)$から乱数を直接生成するのが難しいときによく用いられる。\n",
    "棄却法は、まず乱数の生成が可能な別の確率密度関数$p^*(x)$(提案分布)から乱数$x^*$を生成し、それを$p(x)$の乱数の候補としてみなし、その候補を$x^*$の値に応じた採択確率$r(x^*)$で採択する方法である。\n",
    "ここで、採択確率$r(x)$を、定義域で$p(x)\\leq \\alpha p^*(x)$を満たす$\\alpha$に対して、$r(x)=p(x)/\\alpha p^*(x)$とすれば、採択された候補は$p(x)$に従う。\n",
    "ある候補を確率$r$で採択するには、一様乱数$U$を生成し、$U\\leq r$ならば候補を採択し、そうでなければ候補を棄却すればよい。\n",
    "\n",
    "(アルゴリズム2)確率密度関数$p(x)$に従う乱数の生成(棄却法)\n",
    "1. 提案分布$p^*(x)$および、定義域全体で$p(x)\\leq \\alpha p^*(x)$を満たす最小の$\\alpha$を決める\n",
    "2. 以下を繰り返す\n",
    "　2.1. 提案分布$p^*(x)$に従う乱数$x^*$(候補)を生成する\n",
    "　2.2. 一様乱数$U$と採択確率$r←p(x^*)/\\alpha p^*(x^*)$に対して、もし$U\\leq r$ならば候補を採択しステップ3に進み、そうでなければ候補を棄却しステップ2.1に戻る\n",
    "3. 採択された候補$x^*$を返す"
   ]
  },
  {
   "cell_type": "code",
   "execution_count": 155,
   "id": "selective-delight",
   "metadata": {},
   "outputs": [],
   "source": [
    "from scipy.stats import t as t_dist\n",
    "import numpy as np\n",
    "\n",
    "x = np.arange(-3, 3, 0.1)\n",
    "alpha = np.max(norm.pdf(x)/t_dist.pdf(x, df=10))\n",
    "\n",
    "def kikyaku(n):\n",
    "    result = []\n",
    "    while(len(result)<n):\n",
    "        xx = norm.rvs(size=1)\n",
    "        U = uniform.rvs(size=1)\n",
    "        r = norm.pdf(xx) / (alpha*t_dist.pdf(xx, df=10))\n",
    "\n",
    "        if U <= r:\n",
    "            result.append(xx[0])\n",
    "    return np.array(result)"
   ]
  },
  {
   "cell_type": "code",
   "execution_count": 156,
   "id": "outside-paintball",
   "metadata": {},
   "outputs": [
    {
     "data": {
      "image/png": "[encoded data removed]",
      "text/plain": [
       "<Figure size 432x288 with 1 Axes>"
      ]
     },
     "metadata": {
      "needs_background": "light"
     },
     "output_type": "display_data"
    }
   ],
   "source": [
    "plt.hist(kikyaku(10000), bins=30);"
   ]
  },
  {
   "cell_type": "code",
   "execution_count": null,
   "id": "corresponding-zambia",
   "metadata": {},
   "outputs": [],
   "source": []
  },
  {
   "cell_type": "code",
   "execution_count": null,
   "id": "large-ghost",
   "metadata": {},
   "outputs": [],
   "source": []
  }
 ],
 "metadata": {
  "kernelspec": {
   "display_name": "Python 3",
   "language": "python",
   "name": "python3"
  },
  "language_info": {
   "codemirror_mode": {
    "name": "ipython",
    "version": 3
   },
   "file_extension": ".py",
   "mimetype": "text/x-python",
   "name": "python",
   "nbconvert_exporter": "python",
   "pygments_lexer": "ipython3",
   "version": "3.8.5"
  }
 },
 "nbformat": 4,
 "nbformat_minor": 5
}
