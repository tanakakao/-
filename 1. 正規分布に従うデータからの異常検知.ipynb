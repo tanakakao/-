{
 "cells": [
  {
   "cell_type": "markdown",
   "id": "functional-navigation",
   "metadata": {},
   "source": [
    "### 1. 異常検知手順の流れ\n",
    "\n",
    "0. 準備\n",
    "\n",
    "$M$次元の観測値が$N$個手元にあると仮定する。  \n",
    "データをまとめて$D$という記号で表し、この中には異常な観測値が含まれていないか、含まれていたとしてもその影響は無視できると仮定する。  \n",
    "$$\n",
    "D=\\{\\boldsymbol{x}^{(1)},\\boldsymbol{x}^{(2)},\\cdots,\\boldsymbol{x}^{(N)}\\}\n",
    "$$\n",
    "\n",
    "1. ステップ1(分布推定)\n",
    "\n",
    "データの性質に応じた適切な確率分布のモデルを仮定する。  \n",
    "パラメータを$\\boldsymbol{\\theta}$という記号で表す。  \n",
    "分布推定の問題とは、$p(\\boldsymbol{x}|\\boldsymbol{\\theta})$における未知パラメータ$\\boldsymbol{\\theta}$を、$D$から決める問題である。\n",
    "\n",
    "2. ステップ2(異常度の定義)\n",
    "\n",
    "観測値$\\boldsymbol{x}$に対する予測分布を、$p(\\boldsymbol{x}|D)$と表す。  \n",
    "新たな観測値$\\boldsymbol{x'}$に対する異常度$a(\\boldsymbol{x'})$を、予測分布に対する負の対数尤度、\n",
    "$$\n",
    "a(\\boldsymbol{x'})=-\\ln p(\\boldsymbol{x}|D)\n",
    "$$\n",
    "で測ることを基本とする。  \n",
    "\n",
    "3. ステップ3(閾値の設定)\n",
    "\n",
    "異常度が決まると、それに異常判定のための閾値を付すことで異常検知ができる。\n",
    "  \n",
    "ただし、異常度の確率分布を求めるのは簡単なことではなく、正常データ$D$における割合(分位点)を使うのが一般的である。  \n",
    "\n",
    "### 2. 変数正規分布に基づく異常検知\n",
    "Davisというデータを使用する。"
   ]
  },
  {
   "cell_type": "code",
   "execution_count": 13,
   "id": "destroyed-defendant",
   "metadata": {},
   "outputs": [
    {
     "data": {
      "text/html": [
       "<div>\n",
       "<style scoped>\n",
       "    .dataframe tbody tr th:only-of-type {\n",
       "        vertical-align: middle;\n",
       "    }\n",
       "\n",
       "    .dataframe tbody tr th {\n",
       "        vertical-align: top;\n",
       "    }\n",
       "\n",
       "    .dataframe thead th {\n",
       "        text-align: right;\n",
       "    }\n",
       "</style>\n",
       "<table border=\"1\" class=\"dataframe\">\n",
       "  <thead>\n",
       "    <tr style=\"text-align: right;\">\n",
       "      <th></th>\n",
       "      <th>sex</th>\n",
       "      <th>weight</th>\n",
       "      <th>height</th>\n",
       "      <th>repwt</th>\n",
       "      <th>repht</th>\n",
       "    </tr>\n",
       "  </thead>\n",
       "  <tbody>\n",
       "    <tr>\n",
       "      <th>1</th>\n",
       "      <td>M</td>\n",
       "      <td>77</td>\n",
       "      <td>182</td>\n",
       "      <td>77.0</td>\n",
       "      <td>180.0</td>\n",
       "    </tr>\n",
       "    <tr>\n",
       "      <th>2</th>\n",
       "      <td>F</td>\n",
       "      <td>58</td>\n",
       "      <td>161</td>\n",
       "      <td>51.0</td>\n",
       "      <td>159.0</td>\n",
       "    </tr>\n",
       "    <tr>\n",
       "      <th>3</th>\n",
       "      <td>F</td>\n",
       "      <td>53</td>\n",
       "      <td>161</td>\n",
       "      <td>54.0</td>\n",
       "      <td>158.0</td>\n",
       "    </tr>\n",
       "  </tbody>\n",
       "</table>\n",
       "</div>"
      ],
      "text/plain": [
       "  sex  weight  height  repwt  repht\n",
       "1   M      77     182   77.0  180.0\n",
       "2   F      58     161   51.0  159.0\n",
       "3   F      53     161   54.0  158.0"
      ]
     },
     "execution_count": 13,
     "metadata": {},
     "output_type": "execute_result"
    }
   ],
   "source": [
    "import pandas as pd\n",
    "\n",
    "davis = pd.read_csv('C:/Users/tanak/study/参考書/機械学習による異常検知/Davis.csv', index_col=0)\n",
    "davis.head(3)"
   ]
  },
  {
   "cell_type": "code",
   "execution_count": 24,
   "id": "sunset-minnesota",
   "metadata": {},
   "outputs": [
    {
     "data": {
      "image/png": "[encoded data removed]",
      "text/plain": [
       "<Figure size 432x288 with 1 Axes>"
      ]
     },
     "metadata": {
      "needs_background": "light"
     },
     "output_type": "display_data"
    }
   ],
   "source": [
    "import matplotlib.pyplot as plt\n",
    "\n",
    "plt.hist(davis['weight'], bins=20);"
   ]
  },
  {
   "cell_type": "markdown",
   "id": "happy-zealand",
   "metadata": {},
   "source": [
    "ステップ1:分布推定  \n",
    "まずは正規分布をあてはめることを考える。  \n",
    "確率変数を$x$としたとき、平均$\\mu$、分散$\\sigma^2$をもつ正規分布は$N(x|\\mu,\\sigma^2)$は、\n",
    "$$\n",
    "N(x|\\mu,\\sigma^2)=\\frac{1}{(2\\pi\\sigma^2)^{1/2}}\\exp\\biggl\\{-\\frac{1}{2\\sigma^2}(x-\\mu)^2 \\biggr\\}\n",
    "$$\n",
    "\n",
    "この平均$\\mu$、分散$\\sigma^2$は、データから決めるべきパラメータであり、最尤推定で決定するのが一般的である。  \n",
    "$$\n",
    "\\hat{\\mu}=\\frac{1}{N}\\sum_{n=1}^Nx^{(n)}\\\\\n",
    "\\hat{\\sigma}^2=\\frac{1}{N}\\sum_{n=1}^N(x^{(n)}-\\hat{\\mu})^2\n",
    "$$\n",
    "\n",
    "それぞれ、***標本平均**と**標本分散**である。"
   ]
  },
  {
   "cell_type": "code",
   "execution_count": 57,
   "id": "textile-craps",
   "metadata": {},
   "outputs": [
    {
     "data": {
      "image/png": "[encoded data removed]",
      "text/plain": [
       "<Figure size 432x288 with 1 Axes>"
      ]
     },
     "metadata": {
      "needs_background": "light"
     },
     "output_type": "display_data"
    }
   ],
   "source": [
    "import numpy as np\n",
    "\n",
    "def NormDist1d(x, mu, sig2):\n",
    "    return 1/np.sqrt(2*np.pi*sig2) * np.exp(-(x-mu)**2 / (2*sig2))\n",
    "\n",
    "\n",
    "x = davis['weight']\n",
    "\n",
    "mu_hat = sum(x) / len(x)\n",
    "var_hat = sum((x - mu_hat)**2) / len(x)\n",
    "\n",
    "X = np.arange(0,120)\n",
    "Y = NormDist1d(X, mu_hat, var_hat)\n",
    "\n",
    "plt.plot(X, Y);\n",
    "plt.hist(davis['weight'], bins=20, density=True, alpha=.5);"
   ]
  },
  {
   "cell_type": "markdown",
   "id": "indian-platform",
   "metadata": {},
   "source": [
    "ステップ2:異常度の定義\n",
    "ここでは、負の対数尤度を異常度ととして採用することとする。  \n",
    "$$\n",
    "\\frac{1}{2\\hat{\\sigma}^2}(x'-\\hat{\\mu})^2+\\frac{1}{2}(2\\pi\\hat{\\sigma}^2)\n",
    "$$\n",
    "第2項は観測値$x'$に依存しないので無視し、異常度$a(x')$を次のように定義する。\n",
    "\n",
    "$$\n",
    "a(x')=\\frac{1}{\\hat{\\sigma}^2}(x'-\\hat{\\mu})^2=\\biggl(\\frac{x'-\\hat{\\mu}}{\\hat{\\sigma}} \\biggr)^2\n",
    "$$"
   ]
  },
  {
   "cell_type": "code",
   "execution_count": 75,
   "id": "crude-portugal",
   "metadata": {},
   "outputs": [
    {
     "data": {
      "image/png": "[encoded data removed]",
      "text/plain": [
       "<Figure size 432x288 with 1 Axes>"
      ]
     },
     "metadata": {
      "needs_background": "light"
     },
     "output_type": "display_data"
    }
   ],
   "source": [
    "def calc_a(x, mu, var):\n",
    "    sig = np.sqrt(var)\n",
    "    return ((x-mu)/sig)**2\n",
    "\n",
    "X = np.arange(0,130)\n",
    "a = calc_a(X, mu=mu_hat, var=var_hat)\n",
    "\n",
    "plt.plot(X, a);\n",
    "plt.vlines(mu_hat, -2, 20, linestyles='--', color='red');\n",
    "plt.hlines(0, -2, 130, linestyles='-', color='black');"
   ]
  },
  {
   "cell_type": "markdown",
   "id": "overhead-homework",
   "metadata": {},
   "source": [
    "ステップ3:閾値の設定\n",
    "異常度の確率分布の導き方として、ホテリング理論が知られている。\n",
    "\n",
    ">定理1　(ホテリング統計量の分布(1変数))\n",
    "1次元の観測データ$D=\\{x^{(1)},x^{(2)},\\cdots,x^{(N)}\\}$の各観測値が独立に同じ分布$N(\\mu,\\sigma^2)$に従い、新たな観測値$x'$も同じ分布に独立に従うとする。このとき、$a(x')$の定数倍は、自由度$(1,N-1)$のF分布に従う。\n",
    "$$\n",
    "\\frac{N-1}{N+1}a(x')\\sim F(1,N-1)\n",
    "$$\n",
    "特に、$N\\gg 1$のときは、$a(x')$そのものが自由度1、スケール因子1のカイ二乗分布に従う。\n",
    "$$\n",
    "a(x')\\sim \\chi^2(1,1)\n",
    "$$\n",
    "\n",
    "$\\frac{N-1}{N+1}a(x')$は、ホテリングの統計量(ホテリングの$T^2$)と呼ぶ。"
   ]
  },
  {
   "cell_type": "code",
   "execution_count": 127,
   "id": "exclusive-joseph",
   "metadata": {},
   "outputs": [
    {
     "data": {
      "image/png": "[encoded data removed]",
      "text/plain": [
       "<Figure size 432x288 with 1 Axes>"
      ]
     },
     "metadata": {
      "needs_background": "light"
     },
     "output_type": "display_data"
    }
   ],
   "source": [
    "ax = calc_a(x, mu=mu_hat, var=var_hat)\n",
    "ax = ax*((len(x)-1)/(len(x)+1))\n",
    "\n",
    "plt.plot(ax, 'o');"
   ]
  },
  {
   "cell_type": "code",
   "execution_count": 148,
   "id": "together-appliance",
   "metadata": {},
   "outputs": [
    {
     "data": {
      "image/png": "[encoded data removed]",
      "text/plain": [
       "<Figure size 432x288 with 1 Axes>"
      ]
     },
     "metadata": {
      "needs_background": "light"
     },
     "output_type": "display_data"
    }
   ],
   "source": [
    "from scipy.stats import f, chi2\n",
    "\n",
    "plt.hist(ax, bins=50, density=True, alpha=.5);\n",
    "\n",
    "X = np.arange(0, 5, 0.1)\n",
    "pf = f.pdf(X, dfn=1, dfd=(len(x)-1));\n",
    "\n",
    "plt.plot(pf);\n",
    "plt.fill_between(x=np.arange(20,50), y1=0, y2=f.pdf(np.arange(2,5,0.1), dfn=1, dfd=(len(x)-1)), color='red', alpha=.5)\n",
    "plt.xticks(np.arange(0,50,10), np.arange(0,5));"
   ]
  },
  {
   "cell_type": "markdown",
   "id": "atomic-battle",
   "metadata": {},
   "source": [
    "例えば、$a(x')=2$がどの程度ありえない値かを判定するには赤色の部分の面積を計算すればよい。  \n",
    "この面積が小さければ観測値$x'$は正常時にほとんどの確率で0でしか起こらない事象ということになる。  \n",
    "逆に、この面積をパーセント値で指定すれば、異常値の閾値を決めることができる。"
   ]
  },
  {
   "cell_type": "code",
   "execution_count": 123,
   "id": "committed-boston",
   "metadata": {},
   "outputs": [
    {
     "data": {
      "text/plain": [
       "0.15886182236023083"
      ]
     },
     "execution_count": 123,
     "metadata": {},
     "output_type": "execute_result"
    }
   ],
   "source": [
    "# a(x')=2が起こる確率\n",
    "1 - f.cdf(2, dfn=1, dfd=(len(x)-1))"
   ]
  },
  {
   "cell_type": "code",
   "execution_count": 119,
   "id": "fifty-domain",
   "metadata": {},
   "outputs": [
    {
     "data": {
      "text/plain": [
       "6.7639537014327455"
      ]
     },
     "execution_count": 119,
     "metadata": {},
     "output_type": "execute_result"
    }
   ],
   "source": [
    "# 上側1%点の値\n",
    "f.ppf(0.99, dfn=1, dfd=(len(x)-1))"
   ]
  },
  {
   "cell_type": "markdown",
   "id": "rough-haven",
   "metadata": {},
   "source": [
    "#### 実行例\n",
    ">手順1  \n",
    ">1. 準備　異常が含まれていないか、含まれていたとしてもごく少数と思われるデータセットを用意する。異常判定の閾値を確率値$\\alpha$で与え、カイ二乗分布の表から、異常度の閾値$a_{th}$を求めておく。\n",
    ">2. ステップ1(分布推定)　標本平均および標本分散\n",
    "$$\n",
    "\\hat{\\mu}=\\frac{1}{N}\\sum_{n=1}^Nx^{(n)},\\ \\hat{\\sigma}^2\\frac{1}{N}\\sum_{n=1}^N(x^{(n)}-\\hat{\\mu})^2\n",
    "$$\n",
    "を計算する。\n",
    ">3. ステップ2(異常度の判定)　新たな観測値$x'$が得られるたび、異常度\n",
    "$$\n",
    "a(x')=\\biggl(\\frac{x'-\\hat{\\mu}}{\\hat{\\sigma}} \\biggr)^2\n",
    "$$\n",
    "の値を計算する。\n",
    ">4. ステップ3(閾値判定)　異常度が閾値$a_{th}$を超えたら異常と判定する。"
   ]
  },
  {
   "cell_type": "code",
   "execution_count": 161,
   "id": "auburn-scratch",
   "metadata": {},
   "outputs": [
    {
     "data": {
      "image/png": "[encoded data removed]",
      "text/plain": [
       "<Figure size 432x288 with 1 Axes>"
      ]
     },
     "metadata": {
      "needs_background": "light"
     },
     "output_type": "display_data"
    }
   ],
   "source": [
    "# ステップ1\n",
    "# カイ二乗分布による1%水準の閾値\n",
    "ath = chi2.ppf(0.99, df=1)\n",
    "\n",
    "# ステップ2\n",
    "x = davis['weight']\n",
    "\n",
    "mu = np.mean(x)\n",
    "s2 = np.mean((x - mu_hat)**2)\n",
    "\n",
    "# ステップ3\n",
    "a = (x - mu)**2 / s2\n",
    "\n",
    "# ステップ4\n",
    "plt.scatter(np.arange(len(x)), a, color = ['red' if a > ath else 'blue' for a in a]);\n",
    "plt.hlines(ath, xmin=0, xmax=200, linestyles='--', color='red');"
   ]
  },
  {
   "cell_type": "markdown",
   "id": "nearby-chaos",
   "metadata": {},
   "source": [
    "### 4 .多変量正規分布に基づく異常検知\n",
    "ホテリング理論を2つ以上の変数がある場合に拡張する。  \n",
    "独立に同じ分布に従う$M$次元の$N$個の観測値からなるデータ$D$を考える。  \n",
    "このデータを、多次元正規分布\n",
    "$$\n",
    "N(\\boldsymbol{x}|\\boldsymbol{\\mu},\\Sigma)=\\frac{|\\Sigma|^{-1/2}}{(2\\pi)^{M/2}}\\exp\\biggl\\{-\\frac{1}{2}(\\boldsymbol{x}-\\boldsymbol{\\mu})^T\\Sigma(\\boldsymbol{x}-\\boldsymbol{\\mu}) \\biggr\\}\n",
    "$$\n",
    "によりモデル化する。  \n",
    "ここで、$\\boldsymbol{\\mu}$は平均ベクトル、$\\Sigma$は共分散行列である。  \n",
    "  \n",
    "ステップ1:多次元正規分布の最尤推定\n",
    "$D$に基づく未知パラメータの対数尤度$L(\\boldsymbol{\\mu},\\Sigma | D)$は次のようになる。\n",
    "$$\n",
    "L(\\boldsymbol{\\mu},\\Sigma | D)=\\ln\\prod_{n=1}^N\n",
    "N(\\boldsymbol{x}|\\boldsymbol{\\mu},\\Sigma)=\\sum_{n=1}^NN(\\boldsymbol{x}|\\boldsymbol{\\mu},\\Sigma)\n",
    "$$\n",
    "\n",
    "これを最大化する$\\boldsymbol{\\mu}$、$\\Sigma$を求めるには、それぞれで微分してゼロと等値した式を解く。\n",
    "$$\n",
    "\\hat{\\boldsymbol{\\mu}}=\\frac{1}{N}\\sum_{n=1}^N\\boldsymbol{x}^{(n)}\\\\\n",
    "\\hat{\\Sigma}=\\frac{1}{N}\\sum_{n=1}^N(\\boldsymbol{x}^{(n)}-\\hat{\\boldsymbol{\\mu}})(\\boldsymbol{x}^{(n)}-\\hat{\\boldsymbol{\\mu}})^T\n",
    "$$\n",
    "\n",
    "ステップ2:異常度の定義  \n",
    "1変数の場合と同様に、負の対数尤度$-\\ln N(\\boldsymbol{x}|\\boldsymbol{\\mu},\\Sigma)$の2倍をもとに次のように定義する。\n",
    "$$\n",
    "a(\\boldsymbol{x'})=(\\boldsymbol{x'}-\\hat{\\boldsymbol{\\mu}})^T\\hat{\\Sigma}^{-1}(\\boldsymbol{x'}-\\hat{\\boldsymbol{\\mu}})\n",
    "$$\n",
    "これを、**マハラノビス距離**(の2乗)と呼ぶこともある。\n",
    "  \n",
    "ステップ3:閾値の設定(ホテリングの$T^2$理論)  \n",
    "\n",
    ">定理2　(多変数のホテリングの$T^2$理論)  \n",
    "$M$次元正規分布$N(\\boldsymbol{\\mu},\\Sigma)$からの$N$個の独立標本$\\{\\boldsymbol{x}^{(1)},\\cdots,\\boldsymbol{x}^{(N)} \\}$に基づき、標本平均$\\boldsymbol{\\mu}$、標本分散$\\Sigma$を、\n",
    "$$\n",
    "\\hat{\\boldsymbol{\\mu}}=\\frac{1}{N}\\sum_{n=1}^N\\boldsymbol{x}^{(n)}\\\\\n",
    "\\hat{\\Sigma}=\\frac{1}{N}\\sum_{n=1}^N(\\boldsymbol{x}^{(n)}-\\hat{\\boldsymbol{\\mu}})(\\boldsymbol{x}^{(n)}-\\hat{\\boldsymbol{\\mu}})^T\n",
    "$$\n",
    "と定義する。  \n",
    "$N(\\boldsymbol{\\mu},\\Sigma)$からの独立標本$\\boldsymbol{x'}$を新たに観測したとき、以下が成立する。\n",
    ">1. $\\boldsymbol{x'}-\\hat{\\boldsymbol{\\mu}}$は、平均$\\boldsymbol{0}$、共分散$\\frac{N+1}{N}\\Sigma$の$M$次元正規分布に従う。\n",
    ">2. $N\\hat{\\Sigma}$は、$\\boldsymbol{x'}-\\hat{\\boldsymbol{\\mu}}$と統計的に独立に、自由度$N-1$、スケール行列$\\Sigma$の$M$次元ウィシャート分布に従う。\n",
    ">3. $\\frac{N-M}{(N+1)M}a(\\boldsymbol{x'})$は、自由度$(M,N-M)$のF分布に従う。\n",
    "4>. $N\\gg M$の場合は、$a(\\boldsymbol{x'})$は、近似的に、自由度$M$、スケール因子1のカイ二乗分布に従う。\n",
    "\n",
    "$$\n",
    "T^2=\\frac{N-M}{(N+1)M}(\\boldsymbol{x'}-\\hat{\\boldsymbol{\\mu}})^T\\hat{\\Sigma}^{-1}(\\boldsymbol{x'}-\\hat{\\boldsymbol{\\mu}})\n",
    "$$\n",
    "は、ホテリング統計量(ホテリングの$T^2$)と呼ぶ。  \n",
    "また、ウィシャート分布はカイ二乗分布を多次元に拡張したものに対応する分布である。  \n",
    "変数の数$M$がよほど多くなければ$N\\gg M$が成り立つことがほとんどである。  \n",
    "この場合、異常度$a$が、データの物理的単位や数値によらず、普遍的に、自由度$M$、スケール因子1のカイ二乗分布に従う。"
   ]
  },
  {
   "cell_type": "code",
   "execution_count": 290,
   "id": "removed-johnston",
   "metadata": {},
   "outputs": [
    {
     "data": {
      "image/png": "[encoded data removed]",
      "text/plain": [
       "<Figure size 432x288 with 1 Axes>"
      ]
     },
     "metadata": {
      "needs_background": "light"
     },
     "output_type": "display_data"
    }
   ],
   "source": [
    "x = davis[['weight', 'height']]\n",
    "\n",
    "plt.plot(x.weight, x.height, 'o');"
   ]
  },
  {
   "cell_type": "code",
   "execution_count": 291,
   "id": "neural-bumper",
   "metadata": {},
   "outputs": [],
   "source": [
    "ath = chi2.ppf(0.99, df=1)\n",
    "\n",
    "mx = np.mean(x, axis=0)\n",
    "Xc = x - mx\n",
    "Sx = Xc.T @ Xc / len(x)\n",
    "\n",
    "a = np.sum(Xc * np.matrix(np.linalg.inv(Sx)@Xc.T).T, axis=1)"
   ]
  },
  {
   "cell_type": "code",
   "execution_count": 292,
   "id": "wooden-surprise",
   "metadata": {},
   "outputs": [
    {
     "data": {
      "image/png": "[encoded data removed]",
      "text/plain": [
       "<Figure size 432x288 with 1 Axes>"
      ]
     },
     "metadata": {
      "needs_background": "light"
     },
     "output_type": "display_data"
    }
   ],
   "source": [
    "# 閾値の決定\n",
    "ath = chi2.ppf(0.99, df=1)\n",
    "\n",
    "# 最尤推定値の計算\n",
    "mx = np.mean(x, axis=0) # 平均値\n",
    "Xc = x - mx\n",
    "Sx = Xc.T @ Xc / len(x) # 分散\n",
    "\n",
    "# 異常度の計算\n",
    "a = np.sum(Xc * np.matrix(np.linalg.inv(Sx)@Xc.T).T, axis=1)\n",
    "\n",
    "plt.scatter(np.arange(len(x)), a, color = ['red' if a > ath else 'blue' for a in a]);\n",
    "plt.hlines(ath, xmin=0, xmax=200, linestyles='--', color='red');"
   ]
  },
  {
   "cell_type": "markdown",
   "id": "marine-edwards",
   "metadata": {},
   "source": [
    "### 6. マハラノビス=タグチ法\n",
    "ホテリング理論で計算されるのは全系の総合的な異常度であり、個別の異常度ではなかった。  \n",
    "この課題に対応するものとして**マハラノビス=タグチ法(MT法)**がある。  \n",
    "\n",
    ">手順2 (マハラノビス=タグチ法)  \n",
    ">1. 分布推定　$D$を基に、標本平均と標本共分散を求める\n",
    ">2. 異常度の計算　$D$の中の各標本に対し、1変数当たりのマハラノビス距離を計算する\n",
    ">3. 異常判定1　$D$の標本が正常範囲に入るように1変数当たりのマハラノビス距離の閾値を求める\n",
    ">4. 異常判定2　$D'$の各標本に対して、$M$変数の中からいくつかの変数を選び、その変数集合の1変数当たりの異常度を計算する\n",
    "\n",
    "変数集合$q$に対するSN比を,\n",
    "$$\n",
    "SN_q=-10\\log_{10}\\biggl\\{\\frac{1}{N'}\\sum_{n=1}^{N'}\\frac{1}{a_q(\\boldsymbol{x'}^{(n)})/M_q} \\biggr\\}\n",
    "$$\n",
    "導入する。  \n",
    "ここで、$q$は変数の取捨選択パターンを区別する添字で、$M_q$はパターン$q$における変数の数、$a_q$はパターン$q$に対応して、$M_q×M_q$次元の共分散行列を使ったときの異常度である。  \n"
   ]
  },
  {
   "cell_type": "code",
   "execution_count": 310,
   "id": "signal-north",
   "metadata": {},
   "outputs": [
    {
     "data": {
      "text/html": [
       "<div>\n",
       "<style scoped>\n",
       "    .dataframe tbody tr th:only-of-type {\n",
       "        vertical-align: middle;\n",
       "    }\n",
       "\n",
       "    .dataframe tbody tr th {\n",
       "        vertical-align: top;\n",
       "    }\n",
       "\n",
       "    .dataframe thead th {\n",
       "        text-align: right;\n",
       "    }\n",
       "</style>\n",
       "<table border=\"1\" class=\"dataframe\">\n",
       "  <thead>\n",
       "    <tr style=\"text-align: right;\">\n",
       "      <th></th>\n",
       "      <th>deaths</th>\n",
       "      <th>drivers</th>\n",
       "      <th>popden</th>\n",
       "      <th>rural</th>\n",
       "      <th>temp</th>\n",
       "      <th>fuel</th>\n",
       "    </tr>\n",
       "  </thead>\n",
       "  <tbody>\n",
       "    <tr>\n",
       "      <th>Alabama</th>\n",
       "      <td>968.0</td>\n",
       "      <td>158.0</td>\n",
       "      <td>64.0</td>\n",
       "      <td>66.0</td>\n",
       "      <td>62.0</td>\n",
       "      <td>119.0</td>\n",
       "    </tr>\n",
       "    <tr>\n",
       "      <th>Alaska</th>\n",
       "      <td>43.0</td>\n",
       "      <td>11.0</td>\n",
       "      <td>0.4</td>\n",
       "      <td>5.9</td>\n",
       "      <td>30.0</td>\n",
       "      <td>6.2</td>\n",
       "    </tr>\n",
       "    <tr>\n",
       "      <th>Arizona</th>\n",
       "      <td>588.0</td>\n",
       "      <td>91.0</td>\n",
       "      <td>12.0</td>\n",
       "      <td>33.0</td>\n",
       "      <td>64.0</td>\n",
       "      <td>65.0</td>\n",
       "    </tr>\n",
       "    <tr>\n",
       "      <th>Arkanas</th>\n",
       "      <td>640.0</td>\n",
       "      <td>92.0</td>\n",
       "      <td>34.0</td>\n",
       "      <td>73.0</td>\n",
       "      <td>51.0</td>\n",
       "      <td>74.0</td>\n",
       "    </tr>\n",
       "    <tr>\n",
       "      <th>Calif</th>\n",
       "      <td>4743.0</td>\n",
       "      <td>952.0</td>\n",
       "      <td>100.0</td>\n",
       "      <td>118.0</td>\n",
       "      <td>65.0</td>\n",
       "      <td>105.0</td>\n",
       "    </tr>\n",
       "  </tbody>\n",
       "</table>\n",
       "</div>"
      ],
      "text/plain": [
       "         deaths  drivers  popden  rural  temp   fuel\n",
       "Alabama   968.0    158.0    64.0   66.0  62.0  119.0\n",
       "Alaska     43.0     11.0     0.4    5.9  30.0    6.2\n",
       "Arizona   588.0     91.0    12.0   33.0  64.0   65.0\n",
       "Arkanas   640.0     92.0    34.0   73.0  51.0   74.0\n",
       "Calif    4743.0    952.0   100.0  118.0  65.0  105.0"
      ]
     },
     "execution_count": 310,
     "metadata": {},
     "output_type": "execute_result"
    }
   ],
   "source": [
    "road = pd.read_csv('C:/Users/tanak/study/参考書/機械学習による異常検知/road.csv', index_col=0)\n",
    "road = road.astype(float)\n",
    "road.head()"
   ]
  },
  {
   "cell_type": "code",
   "execution_count": 311,
   "id": "defensive-desktop",
   "metadata": {},
   "outputs": [],
   "source": [
    "# 変数はdrivers(運転者数)で割った値の対数をとったものを使用\n",
    "x = road.apply(lambda x: x / road['drivers'])\n",
    "del x['drivers']\n",
    "x = np.log1p(x)\n",
    "\n",
    "# 標本平均と標本共分散を求める\n",
    "mx = np.mean(x)\n",
    "Xc = x - mx\n",
    "Sx = Xc.T@Xc/len(x)\n",
    "\n",
    "# 異常値の計算(マハラノビス距離)\n",
    "a = np.sum(Xc * np.matrix(np.linalg.inv(Sx)@Xc.T).T/x.shape[1], axis=1)"
   ]
  },
  {
   "cell_type": "code",
   "execution_count": 312,
   "id": "parallel-output",
   "metadata": {},
   "outputs": [
    {
     "data": {
      "image/png": "[encoded data removed]",
      "text/plain": [
       "<Figure size 432x288 with 1 Axes>"
      ]
     },
     "metadata": {
      "needs_background": "light"
     },
     "output_type": "display_data"
    }
   ],
   "source": [
    "# 変数はdrivers(運転者数)で割った値の対数をとったものを使用\n",
    "x = road.apply(lambda x: x / road['drivers'])\n",
    "del x['drivers']\n",
    "x = np.log1p(x)\n",
    "\n",
    "# 標本平均と標本共分散を求める\n",
    "mx = np.mean(x)\n",
    "Xc = x - mx\n",
    "Sx = Xc.T@Xc/len(x)\n",
    "\n",
    "# 異常値の計算(マハラノビス距離)\n",
    "a = np.sum(Xc * np.matrix(np.linalg.inv(Sx)@Xc.T).T/x.shape[1], axis=1)\n",
    "\n",
    "plt.scatter(np.arange(len(x)), a, color = ['red' if a > 1 else 'blue' for a in a]);\n",
    "plt.hlines(1, xmin=0, xmax=27, linestyles='--', color='red');"
   ]
  },
  {
   "cell_type": "markdown",
   "id": "satisfied-castle",
   "metadata": {},
   "source": [
    "SN比は、$N'=1,M_q=1$として各変数のSN比を計算する。  \n",
    "この場合のSN比は非常に簡単になり、\n",
    "$$\n",
    "SN_q=10\\log_{10}\\frac{a_q(\\boldsymbol{x'})}{M_q}=10\\log_{10}\\frac{(x'_q-\\hat{\\mu}_q)^2}{\\hat{\\sigma}_q^2}\n",
    "$$\n",
    "\n",
    "$\\hat{\\mu}_q$および$\\hat{\\sigma}_q^2$はそれぞれ、第$q$番目の変数の標本平均と標本分散である。"
   ]
  },
  {
   "cell_type": "code",
   "execution_count": 316,
   "id": "level-aaron",
   "metadata": {},
   "outputs": [],
   "source": [
    "xc_prime = Xc.loc['Calif',:]\n",
    "SN1 = 10*np.log(xc_prime**2 / np.diag(Sx))"
   ]
  },
  {
   "cell_type": "code",
   "execution_count": 324,
   "id": "attractive-reply",
   "metadata": {},
   "outputs": [
    {
     "data": {
      "image/png": "[encoded data removed]",
      "text/plain": [
       "<Figure size 432x288 with 1 Axes>"
      ]
     },
     "metadata": {
      "needs_background": "light"
     },
     "output_type": "display_data"
    }
   ],
   "source": [
    "# 対象を選択\n",
    "xc_prime = Xc.loc['Calif',:]\n",
    "\n",
    "# SN比の計算\n",
    "SN1 = 10*np.log(xc_prime**2 / np.diag(Sx))\n",
    "\n",
    "plt.bar(x=Xc.columns, height=SN1);\n",
    "plt.hlines(0, xmin=-0.5, xmax=4.5, linestyles='-', color='black');"
   ]
  },
  {
   "cell_type": "markdown",
   "id": "premium-asthma",
   "metadata": {},
   "source": [
    "負のSN比は平均からの偏差が標準偏差よりも小さい場合に生じる。  \n",
    "Califの大きな異常度はほとんどすべてfuelに帰せられることがわかる。"
   ]
  },
  {
   "cell_type": "code",
   "execution_count": null,
   "id": "rough-chocolate",
   "metadata": {},
   "outputs": [],
   "source": []
  },
  {
   "cell_type": "code",
   "execution_count": null,
   "id": "experienced-manitoba",
   "metadata": {},
   "outputs": [],
   "source": []
  },
  {
   "cell_type": "code",
   "execution_count": null,
   "id": "arbitrary-boundary",
   "metadata": {},
   "outputs": [],
   "source": []
  },
  {
   "cell_type": "code",
   "execution_count": null,
   "id": "floating-digest",
   "metadata": {},
   "outputs": [],
   "source": []
  }
 ],
 "metadata": {
  "kernelspec": {
   "display_name": "Python 3",
   "language": "python",
   "name": "python3"
  },
  "language_info": {
   "codemirror_mode": {
    "name": "ipython",
    "version": 3
   },
   "file_extension": ".py",
   "mimetype": "text/x-python",
   "name": "python",
   "nbconvert_exporter": "python",
   "pygments_lexer": "ipython3",
   "version": "3.8.5"
  }
 },
 "nbformat": 4,
 "nbformat_minor": 5
}
