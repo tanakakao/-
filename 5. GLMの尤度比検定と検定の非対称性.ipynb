{
 "cells": [
  {
   "cell_type": "code",
   "execution_count": null,
   "id": "electronic-battlefield",
   "metadata": {},
   "outputs": [],
   "source": []
  },
  {
   "cell_type": "markdown",
   "id": "skilled-nickel",
   "metadata": {},
   "source": [
    "## 5. GLMの尤度比検定と検定の非対称性\n",
    "### 5.1 統計学的な検定のわくぐみ\n",
    "使用するデータを確定させたら、適切な統計モデルを設計し、それを使ってパラメータを最尤推定する。  \n",
    "パラメータの少ないモデルと多いモデル(単純なモデル・複雑なモデル)を、統計学的検定では**帰無仮説**・**対立仮説**と呼ぶ。  \n",
    "モデルの当てはまりの良さなどを**検定統計量**に指定し、  \n",
    "帰無仮説が「真のモデル」と仮定して、そのときに検定統計量の理論的なばらつきを調べて、検定統計量がとりうる範囲を求める。  \n",
    "この範囲が95%であるとき、5%の**有意水準**を設定したという。  \n",
    "そして、対立仮説のモデルで得られた検定統計量が、この範囲からはみ出ていることを確認し、  \n",
    "はみ出ていれば帰無仮説は棄却され、対立仮説が支持されたと結論される。  \n",
    "この検定のわくぐみを**Neyman-Pearsonの検定**のわくぐみと呼ぶ。"
   ]
  },
  {
   "cell_type": "markdown",
   "id": "macro-copyright",
   "metadata": {},
   "source": [
    "### 5.2 尤度比検定：逸脱度の差\n",
    "種子数データを使って説明する。  \n",
    "ここで使用するモデルは、$\\lambda_i=\\exp{(\\beta_1+\\beta_2x_i)}$を平均値とするポアソン分布のGLMである。  \n",
    "- $\\log{\\lambda}_i=\\beta_1$　…　一定モデル(k=1)\n",
    "- $\\log{\\lambda}_i=\\beta_1+\\beta_2x_i$　…　xモデル(k=2)\n",
    "\n",
    "これらのうち帰無仮説となる一定モデルが棄却できるか調べる。"
   ]
  },
  {
   "cell_type": "code",
   "execution_count": 25,
   "id": "amazing-british",
   "metadata": {},
   "outputs": [],
   "source": [
    "import pandas as pd\n",
    "import numpy as np\n",
    "import statsmodels.api as sm\n",
    "from scipy.stats import poisson\n",
    "import matplotlib.pyplot as plt\n",
    "\n",
    "d = pd.read_csv('C:/Users/tanak/study/参考書/データ解析のための統計モデリング/kubobook_2012/data/data3a.csv')\n",
    "d.loc[d['f']=='C', 'f_dummy'] = 0\n",
    "d.loc[d['f']=='T', 'f_dummy'] = 1\n",
    "\n",
    "make_model = lambda data: sm.GLM(d.y, sm.add_constant(data), family=sm.families.Poisson())\n",
    "\n",
    "model1 = make_model(d.x)\n",
    "model2 = sm.GLM(d.y, np.ones(len(d)), family=sm.families.Poisson())\n",
    "\n",
    "prob = poisson.pmf(d.y, mu=d.y)\n",
    "logL = np.sum(np.log(prob))\n",
    "D = -2*logL\n",
    "\n",
    "result1 = model1.fit()\n",
    "result2 = model2.fit()"
   ]
  },
  {
   "cell_type": "code",
   "execution_count": 34,
   "id": "systematic-better",
   "metadata": {},
   "outputs": [
    {
     "data": {
      "text/html": [
       "<div>\n",
       "<style scoped>\n",
       "    .dataframe tbody tr th:only-of-type {\n",
       "        vertical-align: middle;\n",
       "    }\n",
       "\n",
       "    .dataframe tbody tr th {\n",
       "        vertical-align: top;\n",
       "    }\n",
       "\n",
       "    .dataframe thead th {\n",
       "        text-align: right;\n",
       "    }\n",
       "</style>\n",
       "<table border=\"1\" class=\"dataframe\">\n",
       "  <thead>\n",
       "    <tr style=\"text-align: right;\">\n",
       "      <th></th>\n",
       "      <th>k</th>\n",
       "      <th>logL</th>\n",
       "      <th>-2logL</th>\n",
       "      <th>residual Deviance</th>\n",
       "      <th>AIC</th>\n",
       "    </tr>\n",
       "  </thead>\n",
       "  <tbody>\n",
       "    <tr>\n",
       "      <th>0</th>\n",
       "      <td>1</td>\n",
       "      <td>-237.643221</td>\n",
       "      <td>475.286443</td>\n",
       "      <td>89.506938</td>\n",
       "      <td>477.286443</td>\n",
       "    </tr>\n",
       "    <tr>\n",
       "      <th>1</th>\n",
       "      <td>2</td>\n",
       "      <td>-235.386251</td>\n",
       "      <td>470.772502</td>\n",
       "      <td>84.992996</td>\n",
       "      <td>474.772502</td>\n",
       "    </tr>\n",
       "    <tr>\n",
       "      <th>2</th>\n",
       "      <td>100</td>\n",
       "      <td>-192.889753</td>\n",
       "      <td>385.779505</td>\n",
       "      <td>0.000000</td>\n",
       "      <td>585.779505</td>\n",
       "    </tr>\n",
       "  </tbody>\n",
       "</table>\n",
       "</div>"
      ],
      "text/plain": [
       "     k        logL      -2logL  residual Deviance         AIC\n",
       "0    1 -237.643221  475.286443          89.506938  477.286443\n",
       "1    2 -235.386251  470.772502          84.992996  474.772502\n",
       "2  100 -192.889753  385.779505           0.000000  585.779505"
      ]
     },
     "execution_count": 34,
     "metadata": {},
     "output_type": "execute_result"
    }
   ],
   "source": [
    "df = pd.DataFrame({\"k\":[1,2,100],\n",
    "                   \"logL\": [result3.llf, result1.llf, logL],\n",
    "                   \"-2logL\": [-2*result2.llf, -2*result1.llf, -2*logL],\n",
    "                   \"residual Deviance\": [result2.deviance, result1.deviance, 0],\n",
    "                   \"AIC\": [result2.aic, result1.aic, -2*logL+2*100]})\n",
    "df"
   ]
  },
  {
   "cell_type": "markdown",
   "id": "attached-county",
   "metadata": {},
   "source": [
    "**尤度比**は今回は以下のように計算できる。\n",
    "$$\n",
    "\\frac{L_1^*}{L_2^*}=\\frac{一定モデルの最大尤度:\\exp{(-237.6)}}{xモデルの最大尤度:\\exp{(-235.4)}}\n",
    "$$\n",
    "\n",
    "尤度比検定では、尤度比の対数を取り-2をかける、つまり逸脱度の差\n",
    "$$\n",
    "\\Delta D_{1,2} = -2×(\\log{L_1^*}-\\log{L_2^*})\n",
    "$$\n",
    "\n",
    "に変換して検定統計量として扱う。  \n",
    "ここで、$D_1=-2\\log{L^*}$と$D_2=-2\\log{L^*}$とおくと、$\\Delta D_{1,2} = D_1-D_2$となる。  \n",
    "例では、$\\Delta D_{1,2} = 4.5$となったので、あてはまりの悪さである逸脱度が4.5改善されたということになる。  \n",
    "尤度比検定では、「4.5くらいでは改善されていない」と言ってよいかどうかを調べる。"
   ]
  },
  {
   "cell_type": "markdown",
   "id": "located-uruguay",
   "metadata": {},
   "source": [
    "### 5.3 2種類に過誤と統計学的な検定の非対称性\n",
    "- 帰無仮説: 一定モデル(k=1)\n",
    "- 対立仮説: xモデル(k=2)\n",
    "\n",
    "と設定する。  \n",
    "  \n",
    "予想される2つの過誤は、\n",
    "- 帰無仮説が真のモデルである場合：データが一定モデルから生成されたのに  \n",
    "「逸脱度の差が$\\Delta D_{1,2} = 4.5$もあるからxモデルのほうがよい、帰無仮説は正しくない」と判断する**第一種の過誤**  \n",
    "- 帰無仮説が真のモデルでない場合：データがxモデルから生成されたのに  \n",
    "「$\\Delta D_{1,2} = 4.5$しかないからxモデルは複雑、一定モデルで説明できるから帰無仮説は正しい」と判断する**第二種の過誤**  \n",
    "\n",
    "Newman-Pearsonの検定では、第一種の過誤の検討にだけ専念する。  \n",
    "このように第一種の過誤の重視は**検定の非対称性**と呼ばれる。  \n",
    "この場合全体の流れは、\n",
    "1. 帰無仮説の一定モデルが正しいものと仮定する\n",
    "2. 観測データに一定モデルをあてはめると、$\\hat{\\beta}_1=2.06$となったため、これを真のモデルとほぼ同じものと考える\n",
    "3. この真のモデルからデータを何回も生成し、そのたびに$k=1$と$k=2$のモデルをあてはめれば、  \n",
    "$\\Delta D_{1,2}$の分布が得つことができる  \n",
    "4. 一定モデルとxモデルの逸脱度の差が$\\Delta D_{1,2}\\geq 4.5$となる確率$P$が評価できる"
   ]
  },
  {
   "cell_type": "markdown",
   "id": "indoor-inclusion",
   "metadata": {},
   "source": [
    "### 5.4 帰無仮説を棄却するための有意水準\n",
    "一定モデルとxモデルの逸脱度の差が$\\Delta D_{1,2}\\geq 4.5$となる確率$P$は**P値**と呼ばれる。  \n",
    "- P値が大きい: $\\Delta D_{1,2}=4.5$はよくあること→帰無仮説を棄却できない\n",
    "- P値が小さい: $\\Delta D_{1,2}=4.5$は珍しいこと→帰無仮説を棄却(残ったxモデルを正しいと主張)\n",
    "\n",
    "P値の大小の判断の基準は**有意水準**と量$\\alpha$によって行う。  \n",
    "- $P\\geq\\alpha$: 帰無仮説は棄却できない\n",
    "- $P\\leq\\alpha$: 帰無仮説を棄却\n",
    "  \n",
    "#### 汎用性のあるパラメトリックブートストラップ法\n",
    "一定モデルが真のモデル出る場合において、$\\Delta D_{1,2}\\geq 4.5$となる確率を計算する。  \n",
    "P値を計算する方法にラメトリックブートストラップ(PB)法がある。  \n",
    "PB法は、データをたくさん生成する過程を、乱数発生のシミュレーションによって実施する方法である。 \n",
    "真のモデルから100個体分をデータを生成する。"
   ]
  },
  {
   "cell_type": "code",
   "execution_count": 110,
   "id": "alert-cancer",
   "metadata": {},
   "outputs": [],
   "source": [
    "dd = []\n",
    "d1 = []\n",
    "d2 = []\n",
    "for _ in range(1000):\n",
    "    d['y_rnd'] = np.random.poisson(np.mean(d.y), 100)\n",
    "    \n",
    "    fit1 = sm.GLM(d.y_rnd, np.ones(len(d)), family=sm.families.Poisson()).fit()\n",
    "    fit2 = sm.GLM(d.y_rnd, sm.add_constant(d.x), family=sm.families.Poisson()).fit()\n",
    "\n",
    "    dd.append(fit1.deviance - fit2.deviance)\n",
    "    d1.append(fit1.deviance)\n",
    "    d2.append(fit2.deviance)"
   ]
  },
  {
   "cell_type": "code",
   "execution_count": 113,
   "id": "intended-gambling",
   "metadata": {},
   "outputs": [
    {
     "data": {
      "image/png": "[encoded data removed]",
      "text/plain": [
       "<Figure size 432x288 with 1 Axes>"
      ]
     },
     "metadata": {
      "needs_background": "light"
     },
     "output_type": "display_data"
    }
   ],
   "source": [
    "plt.hist(dd, bins=100);\n",
    "plt.plot([4.5,4.5],[0,350], '--');"
   ]
  },
  {
   "cell_type": "markdown",
   "id": "respiratory-subdivision",
   "metadata": {},
   "source": [
    "1000個のデータのうち、4.5より右にあるデータ数を数えて「逸脱度の差が4.5より大きくなる確率」を計算する。"
   ]
  },
  {
   "cell_type": "code",
   "execution_count": 114,
   "id": "stupid-diary",
   "metadata": {},
   "outputs": [
    {
     "data": {
      "text/plain": [
       "0.036"
      ]
     },
     "execution_count": 114,
     "metadata": {},
     "output_type": "execute_result"
    }
   ],
   "source": [
    "np.sum(np.array(dd)>=4.5) / 1000"
   ]
  },
  {
   "cell_type": "markdown",
   "id": "dying-writer",
   "metadata": {},
   "source": [
    "また、P=0.05となる逸脱度の差を調べると4.07となり、$\\Delta D_{1,2}\\leq 4.07$くらいまではよくある差と見なされる。"
   ]
  },
  {
   "cell_type": "code",
   "execution_count": 115,
   "id": "amino-vintage",
   "metadata": {},
   "outputs": [
    {
     "data": {
      "text/plain": [
       "3.6480783582415452"
      ]
     },
     "execution_count": 115,
     "metadata": {},
     "output_type": "execute_result"
    }
   ],
   "source": [
    "np.quantile(dd, q=0.95)"
   ]
  },
  {
   "cell_type": "markdown",
   "id": "another-ministry",
   "metadata": {},
   "source": [
    "この尤度比検定では、  \n",
    "「逸脱度の差4.5のP値は0.042であり、これは有意水準0.05よりも小さい」ので有意差があり、  \n",
    "「帰無仮説(一定モデル)は棄却され、xモデルが残るのでこれを採択」と判断する。"
   ]
  },
  {
   "cell_type": "markdown",
   "id": "continued-harvest",
   "metadata": {},
   "source": [
    "#### $\\chi^2$分布を使った近似方法\n",
    "逸脱度の差の確率分布は、自由度1の**$\\chi^2$分布**で近似できる場合がある。  \n",
    "ここで、この分布において4.5以上となる確率を求める。"
   ]
  },
  {
   "cell_type": "code",
   "execution_count": 132,
   "id": "incorporated-engineering",
   "metadata": {},
   "outputs": [
    {
     "name": "stdout",
     "output_type": "stream",
     "text": [
      "0.028\n",
      "3.61848628092452\n"
     ]
    }
   ],
   "source": [
    "chi = np.random.chisquare(1, 1000)\n",
    "print(np.sum(chi>=4.5) / 1000)\n",
    "print(np.quantile(chi, 0.95))"
   ]
  },
  {
   "cell_type": "markdown",
   "id": "everyday-modification",
   "metadata": {},
   "source": [
    "従って帰無仮説は棄却される。  \n",
    "この方法で得られたP値とPB法で得られたP値は一致していない。  \n",
    "$\\chi^2$分布近似はサンプルサイズが大きい場合に有効な近似計算であるためである。"
   ]
  },
  {
   "cell_type": "markdown",
   "id": "everyday-union",
   "metadata": {},
   "source": [
    "### 5.5 「帰無仮説を棄却できない」は「差がない」ではない\n",
    "尤度比検定の結果$P\\geq\\alpha$となった場合には、「帰無仮説は棄却できない」と結論する。  \n",
    "これは「帰無仮説が正しい」という意味ではなく、帰無仮説・対立仮説のどちらも正しいとも正しくないとも言えず、  \n",
    "判断を保留するということである。"
   ]
  },
  {
   "cell_type": "code",
   "execution_count": null,
   "id": "accredited-wrapping",
   "metadata": {},
   "outputs": [],
   "source": []
  }
 ],
 "metadata": {
  "kernelspec": {
   "display_name": "Python 3",
   "language": "python",
   "name": "python3"
  },
  "language_info": {
   "codemirror_mode": {
    "name": "ipython",
    "version": 3
   },
   "file_extension": ".py",
   "mimetype": "text/x-python",
   "name": "python",
   "nbconvert_exporter": "python",
   "pygments_lexer": "ipython3",
   "version": "3.8.5"
  }
 },
 "nbformat": 4,
 "nbformat_minor": 5
}
