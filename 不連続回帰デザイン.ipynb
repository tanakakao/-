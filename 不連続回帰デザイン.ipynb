{
 "cells": [
  {
   "cell_type": "markdown",
   "id": "loving-semiconductor",
   "metadata": {},
   "source": [
    "### 不連続回帰デザインの背景\n",
    "#### 補講授業の効果を調べる\n",
    "ある大学の講義において、前期試験で$c$点未満であった学生は、補講授業に参加することが義務付けられており、$c$点以上であった学生は補講授業に参加しないものとする。\n",
    "データとして、各学生の前期試験、後期試験の点数が得られているとし、補講授業の学習効果を調べる問題を考える。\n",
    "ある学生$i(i=1,\\cdots,n)$について、補講授業に参加している場合%T_i=1%、不参加の場合$T_i=0$とし、後期試験の点数を$Y_i$で表す。\n",
    "ルービンの因果モデルに従って、学生$i$が参加したときに得られる後期試験の点数を$Y_{1i}$、参加しなかったときに得られる点数を$Y_{0i}$とかく。\n",
    "さらに、学生$i$の前期試験の点数を表す変数を$Z_i$とすれば、トリートメントの割り当ては\n",
    "\n",
    "$$\n",
    "T_i=\\left\\{\n",
    "\\begin{array}{ll}\n",
    "1 & if\\ Z_i<c \\\\\n",
    "0 & if\\ Z_i\\geq c\n",
    "\\end{array}\n",
    "\\right.\n",
    "$$\n",
    "\n",
    "のように表せる。ただし、$c$の値は既知とする。\n",
    "この、トリートメントの状態を決定する変数$Z_i$を**強制変数**と呼ぶ。\n",
    "強制変数は必ず連続変数とし、$Z_i=c$となるような$i$は存在しないものとする。\n",
    "\n",
    "ここで、データとして200人の学生について$\\{(Y_i,Z_i):i=1,\\cdots,200\\}$が得られたとする。\n",
    "このデータにおいて$c=60$となっている。"
   ]
  },
  {
   "cell_type": "code",
   "execution_count": 1,
   "id": "nutritional-measure",
   "metadata": {},
   "outputs": [
    {
     "data": {
      "text/html": [
       "<div>\n",
       "<style scoped>\n",
       "    .dataframe tbody tr th:only-of-type {\n",
       "        vertical-align: middle;\n",
       "    }\n",
       "\n",
       "    .dataframe tbody tr th {\n",
       "        vertical-align: top;\n",
       "    }\n",
       "\n",
       "    .dataframe thead th {\n",
       "        text-align: right;\n",
       "    }\n",
       "</style>\n",
       "<table border=\"1\" class=\"dataframe\">\n",
       "  <thead>\n",
       "    <tr style=\"text-align: right;\">\n",
       "      <th></th>\n",
       "      <th>Y</th>\n",
       "      <th>Z</th>\n",
       "    </tr>\n",
       "  </thead>\n",
       "  <tbody>\n",
       "    <tr>\n",
       "      <th>0</th>\n",
       "      <td>72.732649</td>\n",
       "      <td>57.010677</td>\n",
       "    </tr>\n",
       "    <tr>\n",
       "      <th>1</th>\n",
       "      <td>76.890651</td>\n",
       "      <td>75.347420</td>\n",
       "    </tr>\n",
       "    <tr>\n",
       "      <th>2</th>\n",
       "      <td>51.046729</td>\n",
       "      <td>64.336421</td>\n",
       "    </tr>\n",
       "    <tr>\n",
       "      <th>3</th>\n",
       "      <td>77.169467</td>\n",
       "      <td>73.305546</td>\n",
       "    </tr>\n",
       "    <tr>\n",
       "      <th>4</th>\n",
       "      <td>72.506933</td>\n",
       "      <td>45.013193</td>\n",
       "    </tr>\n",
       "  </tbody>\n",
       "</table>\n",
       "</div>"
      ],
      "text/plain": [
       "           Y          Z\n",
       "0  72.732649  57.010677\n",
       "1  76.890651  75.347420\n",
       "2  51.046729  64.336421\n",
       "3  77.169467  73.305546\n",
       "4  72.506933  45.013193"
      ]
     },
     "execution_count": 1,
     "metadata": {},
     "output_type": "execute_result"
    }
   ],
   "source": [
    "import pandas as pd\n",
    "\n",
    "data = pd.read_csv('C:/Users/tanak/study/参考書/Rによる実証分析/R_EmpiricalAnalysis/02 演習用データ集/Ch10.data.csv')\n",
    "data.head()"
   ]
  },
  {
   "cell_type": "code",
   "execution_count": 18,
   "id": "destroyed-shakespeare",
   "metadata": {},
   "outputs": [
    {
     "data": {
      "text/plain": [
       "Text(0, 0.5, 'Y:後期試験点数')"
      ]
     },
     "execution_count": 18,
     "metadata": {},
     "output_type": "execute_result"
    },
    {
     "data": {
      "image/png": "[encoded data removed]",
      "text/plain": [
       "<Figure size 432x288 with 1 Axes>"
      ]
     },
     "metadata": {
      "needs_background": "light"
     },
     "output_type": "display_data"
    }
   ],
   "source": [
    "import matplotlib.pyplot as plt\n",
    "import japanize_matplotlib\n",
    "\n",
    "plt.plot(data.Z, data.Y, 'o', mfc='white')\n",
    "plt.vlines(60,0,100,linestyles='--', color='red')\n",
    "for i, s in enumerate(['treatment', 'controll']):\n",
    "    plt.text(x=35+35*i, y=10, s=s, color='green')\n",
    "plt.xlabel('Z:前期試験点数')\n",
    "plt.ylabel('Y:後期試験点数')"
   ]
  },
  {
   "cell_type": "markdown",
   "id": "designed-request",
   "metadata": {},
   "source": [
    "全体的に前期試験の点数が高いほど後期試験の点数も高い、という右肩上がりの傾向が確認できる。\n",
    "一方、$Z=60$付近の集団に限定して成績を比較してみると、トリートメントグループの後期試験における点数の方が、コントロールグループのそれと比べて高い傾向がある。\n",
    "この結果は、「補講授業に参加することがもたらす学力への因果的効果が正である」ということを意味する。\n",
    "#### トリートメント効果の識別：連続性条件\n",
    "いま、$Y_{1i}-Y_{0i}$の値を調べたいが、観測できるのは$Y_{1i}$と$Y_{0i}$のどちらか一方のみである。\n",
    "したがって、個々の$i$に対する因果的効果でなく、一定のグループにおける平均的な因果的効果の推定を考える。\n",
    "もし補講授業への参加$T_i$が潜在的な点数$(Y_{1i},Y_{0i})$と完全に独立ならば、単純にトリートメントグループ/コントロールグループの$Y$の平均値の差から平均トリートメント効果(ATE)が推定できる。\n",
    "しかし、明らかに$Z_i$は$T_i$と$(Y_{1i},Y_{0i})$に共通して影響を与える要因のため、$T_i$と$(Y_{1i},Y_{0i})$が無条件で独立であるという仮定は満たされない。\n",
    "条件付独立性と同様に、$Z_i$ろ条件とすれば$T_i$と$(Y_{1i},Y_{0i})$が独立になることに注目する。\n",
    "ただし、オーバーラップ条件は満たされないため、マッチング法を用いることはできない。\n",
    "$P(T_i=1|Z_i)$の値は必ず0か1のどちらか一方であるため、すなわち、\n",
    "$$\n",
    "P(T_i=1|Z_i)=1\\ if\\ Z_i<c\\\\\n",
    "P(T_i=1|Z_i)=0\\ if\\ Z_i\\geq c\n",
    "$$\n",
    "\n",
    "であるから、$Z_i$が$c$点未満で、かつコントロールグループに属するといったデータは存在しない。\n",
    "データから推定が可能なのは、「$Z_i<c$の領域における$E[Y_{1i}|Z_i]$」と「$Z_i\\geq c$の領域における$E[Y_{0i}|Z_i]$」の2つである。\n",
    "\n",
    "ここで、「トリートメントグループ、コントロールグループにそれぞれ属する個人について、$Z$の値が極めて$c$に近い個人同士は比較可能である」と仮定する。\n",
    "数学的には次の**連続性条件**を導入する。\n",
    "\n",
    "$$\n",
    "E[Y_{1i}|Z_i],E[Y_{0i}|Z_i]はZ_i=cにおいて連続である\n",
    "$$\n",
    "\n",
    "また、推定の目標となるトリートメントの因果的効果として、$Z_i=c$を条件とした条件付平均トリートメント効果\n",
    "\n",
    "$$\n",
    "\\tau=E[Y_{1i}|Z_i=c]-E[Y_{0i}|Z_i=c]\n",
    "$$\n",
    "\n",
    "を考える。条件付平均トリートメント効果$\\tau$は、「境界$Z_i=c$における条件付期待値$E[Y_{1i}|Z_i]$と$E[Y_{0i}|Z_i]$のジャンプの高さ」に等しい値である。\n",
    "連続性条件は次の結果を意味する。\n",
    "$$\n",
    "E[Y_{1i}|Z_i=c]=\\lim_{z↑c}E[Y_{1i}|Z_i=z]=\\lim_{z↑c}E[Y_{i}|Z_i=z]\\\\\n",
    "E[Y_{0i}|Z_i=c]=\\lim_{z↓c}E[Y_{0i}|Z_i=z]=\\lim_{z↓c}E[Y_{i}|Z_i=z]\n",
    "$$\n",
    "したがって、\n",
    "\n",
    "$$\n",
    "\\begin{align}\n",
    "\\tau&=E[Y_{1i}|Z_i=c]-E[Y_{0i}|Z_i=c]\\\\\n",
    "&=\\lim_{z↑c}E[Y_{i}|Z_i=z]-\\lim_{z↓c}E[Y_{i}|Z_i=z]\n",
    "\\end{align}\n",
    "$$\n",
    "を得る。\n",
    "以上の結果は「連促成条件のもとで,$(Y,Z)$の観測データから条件付平均トリートメント効果$\\tau$が推定できる」ということを意味する。"
   ]
  },
  {
   "cell_type": "markdown",
   "id": "apart-plumbing",
   "metadata": {},
   "source": [
    "### 条件付平均トリートメント効果τの推定\n",
    "#### 条件付期待値が線形の場合\n",
    "条件付期待値$E[Y_{1i}|Z_i],E[Y_{0i}|Z_i]$がともに$Z_i$に関して線形関数である場合を考える。\n",
    "これらの条件付期待値は、\n",
    "$$\n",
    "E[Y_{1i}|Z_i]=\\alpha_1+\\beta_1Z_i\\\\\n",
    "E[Y_{0i}|Z_i]=\\alpha_0+\\beta_0Z_i\n",
    "$$\n",
    "と表すことができる。\n",
    "ここで、$\\tilde{\\alpha}_1=\\alpha_1+\\beta_1c,\\ \\tilde{\\alpha}_0=\\alpha_0+\\beta_0c$と定義すれば、\n",
    "$$\n",
    "E[Y_{1i}|Z_i]=\\tilde{\\alpha}_1+\\beta_1(Z_i-c)\\\\\n",
    "E[Y_{0i}|Z_i]=\\tilde{\\alpha}_0+\\beta_0(Z_i-c)\n",
    "$$\n",
    "と変形できる。\n",
    "したがって、$Z_i=c$を条件とした条件付トリートメント効果$\\tau$は\n",
    "\n",
    "$$\n",
    "\\begin{align}\n",
    "\\tau&=E[Y_{1i}|Z_i=c]-E[Y_{0i}|Z_i=c]\\\\\n",
    "&=\\tilde{\\alpha}_1-\\tilde{\\alpha}_0\n",
    "\\end{align}\n",
    "$$\n",
    "なので、\n",
    "$$\n",
    "\\begin{align}\n",
    "E[Y_{1i}|Z_i,T_i]&=\\tilde{\\alpha}_1T_i+\\beta_1T_i(Z_i-c)+\\tilde{\\alpha}_0(1-T_i)+\\beta_0(1-T_i)(Z_i-c)\\\\\n",
    "&=\\tilde{\\alpha}_0+\\tau T_i+\\beta_1T_i(Z_i-c)+\\beta_0(1-T_i)(Z_i-c)\n",
    "\\end{align}\n",
    "$$\n",
    "と書くことができる。\n",
    "この式は、被説明変数を$Y_i$、説明変数を$T_i,T_i(Z_i-c),(1-T_i)(Z_i-c)$とする線形モデル\n",
    "\n",
    "$$\n",
    "Y_i==\\tilde{\\alpha}_0+\\tau T_i+\\beta_1T_i(Z_i-c)+\\beta_0(1-T_i)(Z_i-c)+\\varepsilon_i\n",
    "$$\n",
    "を推定することで、未知パラメータの推定値が得られることを意味する。\n",
    "ただし、$\\varepsilon_i=Y_i-E[Y_{1i}|Z_i,T_i]$である。"
   ]
  },
  {
   "cell_type": "code",
   "execution_count": 77,
   "id": "hybrid-intake",
   "metadata": {},
   "outputs": [],
   "source": [
    "data['T'] = (data['Z']<60).astype(int)\n",
    "\n",
    "data['T(Z-60)']=data['T']*(data['Z']-60)\n",
    "data['(1-T)(Z-60)']=(1-data['T'])*(data['Z']-60)"
   ]
  },
  {
   "cell_type": "code",
   "execution_count": 78,
   "id": "reliable-rover",
   "metadata": {},
   "outputs": [
    {
     "name": "stdout",
     "output_type": "stream",
     "text": [
      "                            OLS Regression Results                            \n",
      "==============================================================================\n",
      "Dep. Variable:                      Y   R-squared:                       0.293\n",
      "Model:                            OLS   Adj. R-squared:                  0.283\n",
      "Method:                 Least Squares   F-statistic:                     27.13\n",
      "Date:                Mon, 11 Apr 2022   Prob (F-statistic):           1.01e-14\n",
      "Time:                        01:14:37   Log-Likelihood:                -724.10\n",
      "No. Observations:                 200   AIC:                             1456.\n",
      "Df Residuals:                     196   BIC:                             1469.\n",
      "Df Model:                           3                                         \n",
      "Covariance Type:            nonrobust                                         \n",
      "===============================================================================\n",
      "                  coef    std err          t      P>|t|      [0.025      0.975]\n",
      "-------------------------------------------------------------------------------\n",
      "const          60.0665      1.456     41.266      0.000      57.196      62.937\n",
      "T              13.0402      2.034      6.412      0.000       9.030      17.051\n",
      "T(Z-60)         0.6606      0.121      5.444      0.000       0.421       0.900\n",
      "(1-T)(Z-60)     0.8256      0.115      7.153      0.000       0.598       1.053\n",
      "==============================================================================\n",
      "Omnibus:                        0.953   Durbin-Watson:                   1.997\n",
      "Prob(Omnibus):                  0.621   Jarque-Bera (JB):                1.014\n",
      "Skew:                           0.079   Prob(JB):                        0.602\n",
      "Kurtosis:                       2.689   Cond. No.                         32.7\n",
      "==============================================================================\n",
      "\n",
      "Notes:\n",
      "[1] Standard Errors assume that the covariance matrix of the errors is correctly specified.\n"
     ]
    }
   ],
   "source": [
    "import  statsmodels.api as sm\n",
    "\n",
    "df_X = sm.add_constant(data[['T','T(Z-60)','(1-T)(Z-60)']])\n",
    "df_y = data['Y']\n",
    "\n",
    "model = sm.OLS(df_y, df_X)\n",
    "result = model.fit()\n",
    "print(result.summary())"
   ]
  },
  {
   "cell_type": "code",
   "execution_count": 80,
   "id": "greenhouse-solomon",
   "metadata": {},
   "outputs": [
    {
     "data": {
      "text/plain": [
       "[<matplotlib.lines.Line2D at 0x1fcbcec55e0>]"
      ]
     },
     "execution_count": 80,
     "metadata": {},
     "output_type": "execute_result"
    },
    {
     "data": {
      "image/png": "[encoded data removed]",
      "text/plain": [
       "<Figure size 432x288 with 1 Axes>"
      ]
     },
     "metadata": {
      "needs_background": "light"
     },
     "output_type": "display_data"
    }
   ],
   "source": [
    "import numpy as np\n",
    "\n",
    "plt.plot(data.Z, data.Y, 'o', mfc='white')\n",
    "plt.vlines(60,0,100,linestyles='--', color='red')\n",
    "for i, s in enumerate(['treatment', 'controll']):\n",
    "    plt.text(x=35+35*i, y=10, s=s, color='green')\n",
    "plt.xlabel('Z:前期試験点数')\n",
    "plt.ylabel('Y:後期試験点数')\n",
    "\n",
    "plt.plot(data['Z'], result.predict(), 'o')"
   ]
  },
  {
   "cell_type": "markdown",
   "id": "sweet-syracuse",
   "metadata": {},
   "source": [
    "$\\tau$の値はTの係数に相当するので、前期試験の点数が$Z=60$の条件の下で、補講授業への参加が学力に与える因果的効果は、後期試験の点数でおよそ13.04点となる。\n",
    "また、t値も十分大きく、補講授業の効果は統計的に有意と言える。"
   ]
  },
  {
   "cell_type": "markdown",
   "id": "chubby-brother",
   "metadata": {},
   "source": [
    "#### 条件付期待値が非線形の場合\n",
    "条件付期待値が一般的な非線形関数である場合を考える。\n",
    "#### 局所回帰\n",
    "条件付期待値$E[Y_{1i}|Z_i],E[Y_{0i}|Z_i]$は一般的な関数$m_1,m_0$を用いてそれぞれ\n",
    "\n",
    "$$\n",
    "E[Y_{1i}|Z_i]=m_1(Z_i)\\\\\n",
    "E[Y_{0i}|Z_i]=m_0(Z_i)\n",
    "$$\n",
    "\n",
    "と表すことができる。\n",
    "$Z_i=c$を条件とした条件付平均トリートメント効果$\\tau$は\n",
    "\n",
    "$$\n",
    "\\begin{align}\n",
    "\\tau&=E[Y_{1i}|Z_i=c]-E[Y_{0i}|Z_i=c]\\\\\n",
    "&=m_1(c)-m_0(c)\n",
    "\\end{align}\n",
    "$$\n",
    "\n",
    "と書ける。$Z_i=c$となるデータは存在しないので、$m_1(c),m_0(c)$をデータから直接推定することはできない。\n",
    "ここで、$h$を十分小さなある正の数とするとき、$c-h\\leq Z_i\\leq c+h$を満たすような$c$の「h近傍」の$Z_i$について、関数$m_1(Z_i),m_0(Z_i)$を\n",
    "$$\n",
    "m_1(Z_i)\\approx a_1,\\ c-h\\leq Z_i\\leq c+h\\\\\n",
    "m_0(Z_i)\\approx a_0,\\ c-h\\leq Z_i\\leq c+h\n",
    "$$\n",
    "\n",
    "として定数$a_1,a_0$でそれぞれ近似することが可能である。\n",
    "このことは、トリートメント効果$\\tau$が$\\tilde{\\tau}=a_1-a_0$と近似できることを意味する。\n",
    "さらに、\n",
    "$$\n",
    "E[Y_{i}|Z_i,T_i]\\approx a_0+\\tilde{\\tau}T_i,\\hspace{5mm}c-h\\leq Z_i\\leq c+h\n",
    "$$\n",
    "と書くことができる。\n",
    "これは条件「$c-h\\leq Z_i\\leq c+h$」を満たすデータのみを用いて、被説明変数を$Y_i$、説明変数を$T_i$とする局所的な線形回帰モデル\n",
    "$$\n",
    "Y_i=a_0+\\tilde{\\tau}T_i+\\varepsilon_i,\\hspace{5mm} c-h\\leq Z_i\\leq c+h\n",
    "$$\n",
    "\n",
    "を推定することで、$\\tau$の近似値$\\tilde{\\tau}$を含む未知パラメータ$(a_0,\\tilde{\\tau})$の推定値が得られる。\n",
    "このように、$Z_i$が$c$のh近傍に値をとるようなデータのみを用いた回帰分析の方法を**局所回帰**と呼ぶ。また、$h$を**バンド幅**と呼ぶ。"
   ]
  },
  {
   "cell_type": "code",
   "execution_count": 81,
   "id": "neither-permit",
   "metadata": {},
   "outputs": [
    {
     "name": "stdout",
     "output_type": "stream",
     "text": [
      "                            OLS Regression Results                            \n",
      "==============================================================================\n",
      "Dep. Variable:                      Y   R-squared:                       0.261\n",
      "Model:                            OLS   Adj. R-squared:                  0.251\n",
      "Method:                 Least Squares   F-statistic:                     25.40\n",
      "Date:                Mon, 11 Apr 2022   Prob (F-statistic):           3.34e-06\n",
      "Time:                        01:15:16   Log-Likelihood:                -266.37\n",
      "No. Observations:                  74   AIC:                             536.7\n",
      "Df Residuals:                      72   BIC:                             541.3\n",
      "Df Model:                           1                                         \n",
      "Covariance Type:            nonrobust                                         \n",
      "==============================================================================\n",
      "                 coef    std err          t      P>|t|      [0.025      0.975]\n",
      "------------------------------------------------------------------------------\n",
      "const         62.0736      1.612     38.514      0.000      58.861      65.287\n",
      "T             10.6559      2.114      5.040      0.000       6.441      14.871\n",
      "==============================================================================\n",
      "Omnibus:                        0.544   Durbin-Watson:                   1.941\n",
      "Prob(Omnibus):                  0.762   Jarque-Bera (JB):                0.691\n",
      "Skew:                           0.142   Prob(JB):                        0.708\n",
      "Kurtosis:                       2.621   Cond. No.                         2.85\n",
      "==============================================================================\n",
      "\n",
      "Notes:\n",
      "[1] Standard Errors assume that the covariance matrix of the errors is correctly specified.\n"
     ]
    }
   ],
   "source": [
    "h = 5 # バンド幅\n",
    "o = (60-h<=data['Z'])&(data['Z']<=60+h)\n",
    "\n",
    "data_o = data[o]\n",
    "\n",
    "df_X = sm.add_constant(data_o[['T']])\n",
    "df_y = data_o['Y']\n",
    "\n",
    "model = sm.OLS(df_y, df_X)\n",
    "result = model.fit()\n",
    "print(result.summary())"
   ]
  },
  {
   "cell_type": "code",
   "execution_count": 82,
   "id": "vietnamese-canal",
   "metadata": {},
   "outputs": [
    {
     "data": {
      "text/plain": [
       "[<matplotlib.lines.Line2D at 0x1fcbcf321c0>]"
      ]
     },
     "execution_count": 82,
     "metadata": {},
     "output_type": "execute_result"
    },
    {
     "data": {
      "image/png": "[encoded data removed]",
      "text/plain": [
       "<Figure size 432x288 with 1 Axes>"
      ]
     },
     "metadata": {
      "needs_background": "light"
     },
     "output_type": "display_data"
    }
   ],
   "source": [
    "import numpy as np\n",
    "\n",
    "plt.plot(data.Z, data.Y, 'o', mfc='white')\n",
    "plt.vlines(60,0,100,linestyles='--', color='red')\n",
    "for i, s in enumerate(['treatment', 'controll']):\n",
    "    plt.text(x=35+35*i, y=10, s=s, color='green')\n",
    "plt.xlabel('Z:前期試験点数')\n",
    "plt.ylabel('Y:後期試験点数')\n",
    "\n",
    "plt.plot(data_o['Z'], result.predict(), 'o')"
   ]
  },
  {
   "cell_type": "markdown",
   "id": "widespread-fellow",
   "metadata": {},
   "source": [
    "この結果、前期試験の点数が$Z=60$の条件の下で、補講授業への参加が学力に与える因果的効果は、後期試験の点数で10.656点となる。\n",
    "したがって、条件付期待値が線形関数と仮定した場合は、補講授業の効果を若干過大に推定していたことがわかる。\n",
    "#### 局所線形回帰\n",
    "$m_1(Z_i),m_0(Z_i)$の傾きの大きさも考慮に入れ、次のように修正する。\n",
    "$$\n",
    "m_1(Z_i)\\approx a_{11}+a_{12}(Z_i-c),\\hspace{5mm}c-h\\leq Z_i\\leq c+h\\\\\n",
    "m_0(Z_i)\\approx a_{01}+a_{02}(Z_i-c),\\hspace{5mm}c-h\\leq Z_i\\leq c+h\n",
    "$$\n",
    "$a_{12},a_{02}$が、それぞれ$m_1(Z_i),m_0(Z_i)$の傾きに相当し、トリートメント効果$\\tau$は$\\tilde{\\tau}=a_{11}-a_{01}$として近似できる。\n",
    "さらに、\n",
    "$$\n",
    "E[Y_i|Z_i,T_i]\\approx a_{01}+\\tilde{\\tau}T_i+a_{12}T_i(Z_i-c)+a_{02}(1-T_i)(Z_i-c),\\hspace{5mm}c-h\\leq Z_i\\leq c+h\n",
    "$$\n",
    "となるので、条件「$c-h\\leq Z_i\\leq c+h$」を満たすデータのみを用いて、被説明変数を$Y_i$、説明変数を$T_i,T_i(Z_i-c),(1-T_i)(Z_i-c)$とする局所的な線形回帰モデル\n",
    "$$\n",
    "Y_i=a_{01}+\\tilde{\\tau}T_i+a_{12} T_i(Z_i-c)+a_{02}(1-T_i)(Z_i-c)+\\varepsilon_i,\\hspace{5mm}c-h\\leq Z_i\\leq c+h\n",
    "$$\n",
    "を推定することで、未知パラメータの推定値が得られる。"
   ]
  },
  {
   "cell_type": "code",
   "execution_count": 83,
   "id": "indian-photographer",
   "metadata": {},
   "outputs": [
    {
     "name": "stdout",
     "output_type": "stream",
     "text": [
      "                            OLS Regression Results                            \n",
      "==============================================================================\n",
      "Dep. Variable:                      Y   R-squared:                       0.266\n",
      "Model:                            OLS   Adj. R-squared:                  0.234\n",
      "Method:                 Least Squares   F-statistic:                     8.443\n",
      "Date:                Mon, 11 Apr 2022   Prob (F-statistic):           7.29e-05\n",
      "Time:                        01:15:20   Log-Likelihood:                -266.12\n",
      "No. Observations:                  74   AIC:                             540.2\n",
      "Df Residuals:                      70   BIC:                             549.5\n",
      "Df Model:                           3                                         \n",
      "Covariance Type:            nonrobust                                         \n",
      "===============================================================================\n",
      "                  coef    std err          t      P>|t|      [0.025      0.975]\n",
      "-------------------------------------------------------------------------------\n",
      "const          63.6814      3.592     17.728      0.000      56.517      70.846\n",
      "T              10.2933      4.689      2.195      0.031       0.941      19.645\n",
      "T(Z-60)         0.4472      0.962      0.465      0.643      -1.471       2.365\n",
      "(1-T)(Z-60)    -0.6094      1.213     -0.502      0.617      -3.029       1.811\n",
      "==============================================================================\n",
      "Omnibus:                        0.489   Durbin-Watson:                   1.859\n",
      "Prob(Omnibus):                  0.783   Jarque-Bera (JB):                0.630\n",
      "Skew:                           0.162   Prob(JB):                        0.730\n",
      "Kurtosis:                       2.684   Cond. No.                         14.0\n",
      "==============================================================================\n",
      "\n",
      "Notes:\n",
      "[1] Standard Errors assume that the covariance matrix of the errors is correctly specified.\n"
     ]
    }
   ],
   "source": [
    "h = 5 # バンド幅\n",
    "o = (60-h<=data['Z'])&(data['Z']<=60+h)\n",
    "\n",
    "data_o = data[o]\n",
    "\n",
    "df_X = sm.add_constant(data_o[['T','T(Z-60)','(1-T)(Z-60)']])\n",
    "df_y = data_o['Y']\n",
    "\n",
    "model = sm.OLS(df_y, df_X)\n",
    "result = model.fit()\n",
    "print(result.summary())"
   ]
  },
  {
   "cell_type": "code",
   "execution_count": 84,
   "id": "dense-pattern",
   "metadata": {},
   "outputs": [
    {
     "data": {
      "text/plain": [
       "[<matplotlib.lines.Line2D at 0x1fcbdf5bdc0>]"
      ]
     },
     "execution_count": 84,
     "metadata": {},
     "output_type": "execute_result"
    },
    {
     "data": {
      "image/png": "[encoded data removed]",
      "text/plain": [
       "<Figure size 432x288 with 1 Axes>"
      ]
     },
     "metadata": {
      "needs_background": "light"
     },
     "output_type": "display_data"
    }
   ],
   "source": [
    "import numpy as np\n",
    "\n",
    "plt.plot(data.Z, data.Y, 'o', mfc='white')\n",
    "plt.vlines(60,0,100,linestyles='--', color='red')\n",
    "for i, s in enumerate(['treatment', 'controll']):\n",
    "    plt.text(x=35+35*i, y=10, s=s, color='green')\n",
    "plt.xlabel('Z:前期試験点数')\n",
    "plt.ylabel('Y:後期試験点数')\n",
    "\n",
    "plt.plot(data_o['Z'], result.predict(), 'o')"
   ]
  },
  {
   "cell_type": "markdown",
   "id": "innocent-spokesman",
   "metadata": {},
   "source": [
    "因果的効果は、局所回帰の場合とほぼ同じ値となった。\n",
    "#### 不連続回帰デザインの注意点\n",
    "##### 強制変数の操作可能性\n",
    "強制変数の値が個人によって完全に操作可能である場合、不連続回帰デザインを用いた分析は有効ではない。\n",
    "##### 結果の解釈\n",
    "$\\tau$はあくまで$Z_i=c$を条件としたうえでのトリートメントの評価にすぎない。\n",
    "「学生$i$と比べ学力が非常に高い$Z_j=100$の学生$j$にとっては、補講に参加する効果はほとんどゼロ」ということも考えられる。\n",
    "##### バンド幅の選択\n",
    "バンド幅の大きさを決めなければならない。\n",
    "様々な方法が議論されているが、いずれも完璧ではない。従って、一定の範囲内でバンド幅を調節しながら推定結果の変化を確認し\n",
    "、結果の判断は総合的に行う。\n",
    "##### トリートメントの選択可能性\n",
    "トリートメントが選択可能性である場合もある。\n",
    "このような場合でも、トリートメントの割り当ての確率$P(T_i=1|Z_i)$が$Z_i=c$において不連続であれば、FuzzyRDDと呼ばれる手法でトリートメント効果が推定可能である。"
   ]
  },
  {
   "cell_type": "code",
   "execution_count": null,
   "id": "assumed-dealer",
   "metadata": {},
   "outputs": [],
   "source": []
  },
  {
   "cell_type": "code",
   "execution_count": null,
   "id": "expressed-dryer",
   "metadata": {},
   "outputs": [],
   "source": []
  },
  {
   "cell_type": "code",
   "execution_count": null,
   "id": "smaller-income",
   "metadata": {},
   "outputs": [],
   "source": []
  },
  {
   "cell_type": "code",
   "execution_count": null,
   "id": "mineral-witch",
   "metadata": {},
   "outputs": [],
   "source": []
  }
 ],
 "metadata": {
  "kernelspec": {
   "display_name": "Python 3",
   "language": "python",
   "name": "python3"
  },
  "language_info": {
   "codemirror_mode": {
    "name": "ipython",
    "version": 3
   },
   "file_extension": ".py",
   "mimetype": "text/x-python",
   "name": "python",
   "nbconvert_exporter": "python",
   "pygments_lexer": "ipython3",
   "version": "3.8.5"
  }
 },
 "nbformat": 4,
 "nbformat_minor": 5
}
