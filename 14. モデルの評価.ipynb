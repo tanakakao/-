{
 "cells": [
  {
   "cell_type": "code",
   "execution_count": 1,
   "id": "suitable-oxide",
   "metadata": {},
   "outputs": [],
   "source": [
    "import warnings\n",
    "warnings.filterwarnings('ignore')"
   ]
  },
  {
   "cell_type": "markdown",
   "id": "developed-wrestling",
   "metadata": {},
   "source": [
    "## 14. モデルの評価\n",
    "アルゴリズムをチューニングし、モデルの性能を評価することで、よいモデルを構築する。"
   ]
  },
  {
   "cell_type": "markdown",
   "id": "coastal-montreal",
   "metadata": {},
   "source": [
    "### パイプライン\n",
    "schikit-learnのPiptlineというクラスを用いれば、任意の個数の変換ステップを含んだモデルを適合させ、  \n",
    "そのモデルを適用して新しいデータを予測できるようになる。"
   ]
  },
  {
   "cell_type": "code",
   "execution_count": 6,
   "id": "manufactured-waters",
   "metadata": {},
   "outputs": [],
   "source": [
    "from sklearn.datasets import load_breast_cancer\n",
    "from sklearn.model_selection import train_test_split\n",
    "import pandas as pd\n",
    "\n",
    "cancer = load_breast_cancer()\n",
    "#X = pd.DataFrame(cancer.data, columns=cancer.feature_names)\n",
    "X = cancer.data\n",
    "y = cancer.target\n",
    "\n",
    "X_train, X_test, y_train, y_test = train_test_split(X, y)"
   ]
  },
  {
   "cell_type": "code",
   "execution_count": 7,
   "id": "painted-question",
   "metadata": {},
   "outputs": [
    {
     "name": "stdout",
     "output_type": "stream",
     "text": [
      "0.9370629370629371\n"
     ]
    }
   ],
   "source": [
    "from sklearn.preprocessing import StandardScaler\n",
    "from sklearn.decomposition import PCA\n",
    "from sklearn.linear_model import LogisticRegression\n",
    "\n",
    "from sklearn.pipeline import make_pipeline\n",
    "\n",
    "pipe_lr = make_pipeline(StandardScaler(),\n",
    "                        PCA(n_components=2),\n",
    "                        LogisticRegression(solver='lbfgs'))\n",
    "pipe_lr.fit(X_train, y_train)\n",
    "y_pred = pipe_lr.predict(X_test)\n",
    "print(pipe_lr.score(X_test, y_test))"
   ]
  },
  {
   "cell_type": "markdown",
   "id": "clean-prospect",
   "metadata": {},
   "source": [
    "複数の特徴量を1つにまとめあげるには、FeatureUnionを使う。  \n",
    "ここで、前処理としてPCAにより作成された2つの成分と元々の特徴量を並列に準備し統合する例を示す。"
   ]
  },
  {
   "cell_type": "code",
   "execution_count": 8,
   "id": "acoustic-utilization",
   "metadata": {},
   "outputs": [
    {
     "name": "stdout",
     "output_type": "stream",
     "text": [
      "0.951048951048951\n"
     ]
    },
    {
     "name": "stderr",
     "output_type": "stream",
     "text": [
      "C:\\Users\\tanak\\anaconda3\\envs\\tanaka_env1\\lib\\site-packages\\sklearn\\linear_model\\_logistic.py:763: ConvergenceWarning: lbfgs failed to converge (status=1):\n",
      "STOP: TOTAL NO. of ITERATIONS REACHED LIMIT.\n",
      "\n",
      "Increase the number of iterations (max_iter) or scale the data as shown in:\n",
      "    https://scikit-learn.org/stable/modules/preprocessing.html\n",
      "Please also refer to the documentation for alternative solver options:\n",
      "    https://scikit-learn.org/stable/modules/linear_model.html#logistic-regression\n",
      "  n_iter_i = _check_optimize_result(\n"
     ]
    }
   ],
   "source": [
    "from sklearn.pipeline import Pipeline, FeatureUnion\n",
    "from sklearn.preprocessing import FunctionTransformer\n",
    "\n",
    "preprocess = FeatureUnion([('row', FunctionTransformer(lambda x: x, validate=False)),\n",
    "                           ('pca', PCA(n_components=2))])\n",
    "\n",
    "pipe_lr2 = Pipeline([(\"preprocess\", preprocess),\n",
    "                     (\"classifier\", LogisticRegression())])\n",
    "pipe_lr2.fit(X_train, y_train)\n",
    "y_pred = pipe_lr2.predict(X_test)\n",
    "print(pipe_lr2.score(X_test, y_test))"
   ]
  },
  {
   "cell_type": "markdown",
   "id": "documentary-cameroon",
   "metadata": {},
   "source": [
    "カラムごとに異なる前処理を行う場合はColumnTransformerを使用する。"
   ]
  },
  {
   "cell_type": "code",
   "execution_count": 9,
   "id": "weighted-bubble",
   "metadata": {},
   "outputs": [
    {
     "name": "stdout",
     "output_type": "stream",
     "text": [
      "0.972027972027972\n"
     ]
    }
   ],
   "source": [
    "from sklearn.compose import ColumnTransformer\n",
    "\n",
    "X = pd.DataFrame(cancer.data, columns=cancer.feature_names)\n",
    "X_train, X_test, y_train, y_test = train_test_split(X, y)\n",
    "\n",
    "cols1 = [s for s in X.columns if 'mean' in s]\n",
    "cols2 = [s for s in X.columns if 'worst' in s]\n",
    "\n",
    "transformer1 = Pipeline(steps=[\n",
    "    ('scaler', StandardScaler())])\n",
    "\n",
    "transformer2 = Pipeline(steps=[\n",
    "    ('scaler', StandardScaler()),\n",
    "    ('pca', PCA(n_components=2))])\n",
    "\n",
    "preprocess = ColumnTransformer(\n",
    "    transformers=[\n",
    "        ('tr1', transformer1, cols1),\n",
    "        ('tr2', transformer2, cols2)])\n",
    "\n",
    "pipe_lr2 = Pipeline([(\"preprocess\", preprocess),\n",
    "                     (\"classifier\", LogisticRegression())])\n",
    "pipe_lr2.fit(X_train, y_train)\n",
    "y_pred = pipe_lr2.predict(X_test)\n",
    "print(pipe_lr2.score(X_test, y_test))"
   ]
  },
  {
   "cell_type": "markdown",
   "id": "religious-aluminum",
   "metadata": {},
   "source": [
    "### モデルの性能の評価\n",
    "#### ホールドアウト法\n",
    "効果的な方法は、データを訓練データセット、検証データセット、テストデータセットの3つに分割することである。  \n",
    "訓練データセットはさまざまなモデルの学習に使い、モデルの選択のために、検証データセットを使ってモデルの性能を評価する。  \n",
    "最終的な性能評価には、テストデータセットを用いる。  \n",
    "ただし、元の訓練データセットを訓練サブセットと検証サブセットにどのように分割するかによって、性能の評価に影響が及ぶ場合がある。  \n",
    "  \n",
    "#### k分割交差検証法(k-fold cross-validation)\n",
    "非復元抽出を用いて、訓練データセットをランダムに$k$個に分割する。  \n",
    "そのうち$k-1$個をモデルの訓練に使い、1個を性能の評価に使う。  \n",
    "この手順を$k$回繰り返すことで、$k$個のモデルを取得し、性能を推定する。  \n",
    "個々のサブセットに基づいてモデルの平均性能を計算する。  \n",
    "より正確なモデルを作成するため、k分割交差検証法の後に訓練データセット全体でモデルを再び訓練する。  "
   ]
  },
  {
   "cell_type": "code",
   "execution_count": 10,
   "id": "amazing-adolescent",
   "metadata": {},
   "outputs": [],
   "source": [
    "standardizer = StandardScaler()\n",
    "lr = LogisticRegression()\n",
    "pipeline = make_pipeline(standardizer, lr)"
   ]
  },
  {
   "cell_type": "code",
   "execution_count": 11,
   "id": "iraqi-access",
   "metadata": {},
   "outputs": [
    {
     "name": "stdout",
     "output_type": "stream",
     "text": [
      "CV accuracy acores: [1.         0.95348837 1.         0.97674419 0.93023256 1.\n",
      " 0.97619048 0.95238095 0.97619048 1.        ]\n"
     ]
    },
    {
     "ename": "NameError",
     "evalue": "name 'np' is not defined",
     "output_type": "error",
     "traceback": [
      "\u001b[1;31m---------------------------------------------------------------------------\u001b[0m",
      "\u001b[1;31mNameError\u001b[0m                                 Traceback (most recent call last)",
      "\u001b[1;32m<ipython-input-11-8cded6e3494a>\u001b[0m in \u001b[0;36m<module>\u001b[1;34m\u001b[0m\n\u001b[0;32m     11\u001b[0m \u001b[1;33m\u001b[0m\u001b[0m\n\u001b[0;32m     12\u001b[0m \u001b[0mkf\u001b[0m \u001b[1;33m=\u001b[0m \u001b[0mKFold\u001b[0m\u001b[1;33m(\u001b[0m\u001b[0mn_splits\u001b[0m\u001b[1;33m=\u001b[0m\u001b[1;36m10\u001b[0m\u001b[1;33m,\u001b[0m \u001b[0mshuffle\u001b[0m\u001b[1;33m=\u001b[0m\u001b[1;32mTrue\u001b[0m\u001b[1;33m,\u001b[0m \u001b[0mrandom_state\u001b[0m\u001b[1;33m=\u001b[0m\u001b[1;36m1\u001b[0m\u001b[1;33m)\u001b[0m\u001b[1;33m\u001b[0m\u001b[1;33m\u001b[0m\u001b[0m\n\u001b[1;32m---> 13\u001b[1;33m \u001b[0mcalc_cv_score\u001b[0m\u001b[1;33m(\u001b[0m\u001b[0mkf\u001b[0m\u001b[1;33m)\u001b[0m\u001b[1;33m\u001b[0m\u001b[1;33m\u001b[0m\u001b[0m\n\u001b[0m",
      "\u001b[1;32m<ipython-input-11-8cded6e3494a>\u001b[0m in \u001b[0;36mcalc_cv_score\u001b[1;34m(cv)\u001b[0m\n\u001b[0;32m      8\u001b[0m                              n_jobs=-1)\n\u001b[0;32m      9\u001b[0m     \u001b[0mprint\u001b[0m\u001b[1;33m(\u001b[0m\u001b[1;34m'CV accuracy acores: %s'\u001b[0m \u001b[1;33m%\u001b[0m \u001b[0mscores\u001b[0m\u001b[1;33m)\u001b[0m\u001b[1;33m\u001b[0m\u001b[1;33m\u001b[0m\u001b[0m\n\u001b[1;32m---> 10\u001b[1;33m     \u001b[0mprint\u001b[0m\u001b[1;33m(\u001b[0m\u001b[1;34m'CV accuracy: %.3f +/- %.3f'\u001b[0m \u001b[1;33m%\u001b[0m \u001b[1;33m(\u001b[0m\u001b[0mnp\u001b[0m\u001b[1;33m.\u001b[0m\u001b[0mmean\u001b[0m\u001b[1;33m(\u001b[0m\u001b[0mscores\u001b[0m\u001b[1;33m)\u001b[0m\u001b[1;33m,\u001b[0m \u001b[0mnp\u001b[0m\u001b[1;33m.\u001b[0m\u001b[0mstd\u001b[0m\u001b[1;33m(\u001b[0m\u001b[0mscores\u001b[0m\u001b[1;33m)\u001b[0m\u001b[1;33m)\u001b[0m\u001b[1;33m)\u001b[0m\u001b[1;33m\u001b[0m\u001b[1;33m\u001b[0m\u001b[0m\n\u001b[0m\u001b[0;32m     11\u001b[0m \u001b[1;33m\u001b[0m\u001b[0m\n\u001b[0;32m     12\u001b[0m \u001b[0mkf\u001b[0m \u001b[1;33m=\u001b[0m \u001b[0mKFold\u001b[0m\u001b[1;33m(\u001b[0m\u001b[0mn_splits\u001b[0m\u001b[1;33m=\u001b[0m\u001b[1;36m10\u001b[0m\u001b[1;33m,\u001b[0m \u001b[0mshuffle\u001b[0m\u001b[1;33m=\u001b[0m\u001b[1;32mTrue\u001b[0m\u001b[1;33m,\u001b[0m \u001b[0mrandom_state\u001b[0m\u001b[1;33m=\u001b[0m\u001b[1;36m1\u001b[0m\u001b[1;33m)\u001b[0m\u001b[1;33m\u001b[0m\u001b[1;33m\u001b[0m\u001b[0m\n",
      "\u001b[1;31mNameError\u001b[0m: name 'np' is not defined"
     ]
    }
   ],
   "source": [
    "from sklearn.model_selection import cross_val_score, KFold\n",
    "import numpy as np\n",
    "\n",
    "def calc_cv_score(cv):\n",
    "    scores = cross_val_score(pipeline,\n",
    "                             X_train,\n",
    "                             y_train,\n",
    "                             cv=cv,\n",
    "                             n_jobs=-1)\n",
    "    print('CV accuracy acores: %s' % scores)\n",
    "    print('CV accuracy: %.3f +/- %.3f' % (np.mean(scores), np.std(scores)))\n",
    "\n",
    "kf = KFold(n_splits=10, shuffle=True, random_state=1)\n",
    "calc_cv_score(kf)"
   ]
  },
  {
   "cell_type": "markdown",
   "id": "brutal-essex",
   "metadata": {},
   "source": [
    "#### 層化k分割交差検証(stratified k-fold CV)\n",
    "各サブセットでのクラスラベルの比率が維持される。  "
   ]
  },
  {
   "cell_type": "code",
   "execution_count": null,
   "id": "breathing-reynolds",
   "metadata": {},
   "outputs": [],
   "source": [
    "from sklearn.model_selection import StratifiedKFold\n",
    "\n",
    "stratified_kf = StratifiedKFold(n_splits=5, shuffle=True, random_state=1)\n",
    "calc_cv_score(stratified_kf)"
   ]
  },
  {
   "cell_type": "markdown",
   "id": "decreased-electronics",
   "metadata": {},
   "source": [
    "#### 1つ抜き交差検証(Leave One Out CV)\n",
    "毎回1サンプルのみをテストセットとして検証する。  "
   ]
  },
  {
   "cell_type": "code",
   "execution_count": null,
   "id": "organic-plymouth",
   "metadata": {},
   "outputs": [],
   "source": [
    "from sklearn.model_selection import LeaveOneOut\n",
    "\n",
    "loo = LeaveOneOut()\n",
    "calc_cv_score(loo)"
   ]
  },
  {
   "cell_type": "markdown",
   "id": "determined-nancy",
   "metadata": {},
   "source": [
    "#### シャッフル分割交差検証(Shufle CV)\n",
    "毎回train_size個の点をテストセット、test_size個のデータを訓練セットとする検証をn_iter回繰り返す手法  "
   ]
  },
  {
   "cell_type": "code",
   "execution_count": null,
   "id": "corporate-acrylic",
   "metadata": {},
   "outputs": [],
   "source": [
    "from sklearn.model_selection import ShuffleSplit\n",
    "\n",
    "shuffle_split = ShuffleSplit(test_size=.5, train_size=.5, n_splits=10)\n",
    "calc_cv_score(shuffle_split)"
   ]
  },
  {
   "cell_type": "markdown",
   "id": "warming-laptop",
   "metadata": {},
   "source": [
    "#### グループ付き交差検証\n",
    "同じグループのデータを分割せずに検証を行う手法であり、例えば同一人物の画像を分けたくないときなどに使う。"
   ]
  },
  {
   "cell_type": "code",
   "execution_count": null,
   "id": "powered-breath",
   "metadata": {
    "scrolled": true
   },
   "outputs": [],
   "source": [
    "from sklearn.model_selection import GroupKFold\n",
    "\n",
    "g = list(range(0,71))*6\n",
    "\n",
    "scores = cross_val_score(pipeline,\n",
    "                         X_train,\n",
    "                         y_train,\n",
    "                         groups=g, # これで指定\n",
    "                         n_jobs=-1)\n",
    "print('CV accuracy acores: %s' % scores)\n",
    "print('CV accuracy: %.3f +/- %.3f' % (np.mean(scores), np.std(scores)))"
   ]
  },
  {
   "cell_type": "markdown",
   "id": "color-diagram",
   "metadata": {},
   "source": [
    "### 学習曲線と検証曲線\n",
    "#### 学習曲線\n"
   ]
  },
  {
   "cell_type": "code",
   "execution_count": 14,
   "id": "right-boxing",
   "metadata": {},
   "outputs": [
    {
     "data": {
      "image/png": "[encoded data removed]",
      "text/plain": [
       "<Figure size 432x288 with 1 Axes>"
      ]
     },
     "metadata": {
      "needs_background": "light"
     },
     "output_type": "display_data"
    }
   ],
   "source": [
    "from sklearn.model_selection import learning_curve\n",
    "import numpy as np\n",
    "import matplotlib.pyplot as plt\n",
    "\n",
    "standardizer = StandardScaler()\n",
    "lr = LogisticRegression()\n",
    "pipeline = make_pipeline(standardizer, lr)\n",
    "\n",
    "train_sizes, train_scores, test_scores = learning_curve(estimator=pipeline,\n",
    "                                                        X=X_train, y=y_train,\n",
    "                                                        train_sizes=np.linspace(0.1, 1.0, 10),\n",
    "                                                        cv=10, n_jobs=-1)\n",
    "\n",
    "train_mean = np.mean(train_scores, axis=1)\n",
    "train_std = np.std(train_scores, axis=1)\n",
    "test_mean = np.mean(test_scores, axis=1)\n",
    "test_std = np.std(test_scores, axis=1)\n",
    "\n",
    "plt.plot(train_sizes, train_mean, color='blue', marker='o', markersize=5, label='Training accuracy')\n",
    "plt.fill_between(train_sizes, train_mean+train_std, train_mean-train_std, alpha=0.15, color='blue')\n",
    "plt.plot(train_sizes, test_mean, color='green', linestyle='--', marker='s', markersize=5, label='Training accuracy')\n",
    "plt.fill_between(train_sizes, test_mean+train_std, train_mean-train_std, alpha=0.15, color='green')\n",
    "\n",
    "plt.grid()\n",
    "plt.xlabel('Number of training examples')\n",
    "plt.ylabel('Accuracy')\n",
    "plt.legend(loc='lower right')\n",
    "plt.ylim([0.8, 1.03])\n",
    "plt.tight_layout()\n",
    "plt.show()"
   ]
  },
  {
   "cell_type": "markdown",
   "id": "adjustable-funds",
   "metadata": {},
   "source": [
    "#### 検証曲線\n"
   ]
  },
  {
   "cell_type": "code",
   "execution_count": 15,
   "id": "naked-screening",
   "metadata": {},
   "outputs": [
    {
     "data": {
      "image/png": "[encoded data removed]",
      "text/plain": [
       "<Figure size 432x288 with 1 Axes>"
      ]
     },
     "metadata": {
      "needs_background": "light"
     },
     "output_type": "display_data"
    }
   ],
   "source": [
    "from sklearn.model_selection import validation_curve\n",
    "param_range = [0.001, 0.01, 0.1, 1.0, 10.0, 100.0]\n",
    "\n",
    "standardizer = StandardScaler()\n",
    "lr = LogisticRegression()\n",
    "pipeline = make_pipeline(standardizer, lr)\n",
    "\n",
    "train_scores, test_scores = validation_curve(estimator=pipeline,\n",
    "                                             X=X_train, y=y_train,\n",
    "                                             param_name='logisticregression__C',\n",
    "                                             param_range=param_range,\n",
    "                                             cv=10, n_jobs=-1)\n",
    "\n",
    "train_mean = np.mean(train_scores, axis=1)\n",
    "train_std = np.std(train_scores, axis=1)\n",
    "test_mean = np.mean(test_scores, axis=1)\n",
    "test_std = np.std(test_scores, axis=1)\n",
    "\n",
    "plt.plot(param_range, train_mean, color='blue', marker='o', markersize=5, label='Training accuracy')\n",
    "plt.fill_between(param_range, train_mean+train_std, train_mean-train_std, alpha=0.15, color='blue')\n",
    "plt.plot(param_range, test_mean, color='green', linestyle='--', marker='s', markersize=5, label='Training accuracy')\n",
    "plt.fill_between(param_range, test_mean+train_std, train_mean-train_std, alpha=0.15, color='green')\n",
    "\n",
    "plt.grid()\n",
    "plt.xscale('log')\n",
    "plt.xlabel('Parameter C')\n",
    "plt.ylabel('Accuracy')\n",
    "plt.legend(loc='lower right')\n",
    "plt.ylim([0.8, 1.0])\n",
    "plt.tight_layout()\n",
    "plt.show()"
   ]
  },
  {
   "cell_type": "markdown",
   "id": "individual-upgrade",
   "metadata": {},
   "source": [
    "### 性能評価指標\n",
    "#### 混同行列\n",
    "混同行列は、分類器の真陽性(True Positive)、真陰性(True Negative)、偽陽性(False Positive)、偽陰性(False Negative)の個数を要素とする行列である。"
   ]
  },
  {
   "cell_type": "code",
   "execution_count": 16,
   "id": "voluntary-corrections",
   "metadata": {},
   "outputs": [
    {
     "name": "stdout",
     "output_type": "stream",
     "text": [
      "[[55  1]\n",
      " [ 1 86]]\n"
     ]
    },
    {
     "data": {
      "image/png": "[encoded data removed]",
      "text/plain": [
       "<Figure size 180x180 with 1 Axes>"
      ]
     },
     "metadata": {
      "needs_background": "light"
     },
     "output_type": "display_data"
    }
   ],
   "source": [
    "from sklearn.metrics import confusion_matrix\n",
    "import matplotlib.pyplot as plt\n",
    "\n",
    "pipeline.fit(X_train, y_train)\n",
    "y_pred = pipeline.predict(X_test)\n",
    "\n",
    "confmat = confusion_matrix(y_true=y_test, y_pred=y_pred)\n",
    "print(confmat)\n",
    "\n",
    "fig, ax = plt.subplots(figsize=(2.5,2.5))\n",
    "ax.matshow(confmat, cmap=plt.cm.Blues, alpha=0.3)\n",
    "for i in range(confmat.shape[0]):\n",
    "    for j in range(confmat.shape[1]):\n",
    "        ax.text(x=j, y=i, s=confmat[i, j], va='center', ha='center')\n",
    "plt.xlabel('Predicted label')\n",
    "plt.ylabel('True label')\n",
    "plt.tight_layout()\n",
    "plt.show()"
   ]
  },
  {
   "cell_type": "markdown",
   "id": "demographic-venue",
   "metadata": {},
   "source": [
    "**誤分類率(ERR)**は、誤った予測の合計を予測の総数で割ったもの、  \n",
    "**正解率(ACC)**は、正しい予測の合計を予測の総数で割ったものである。\n",
    "$$\n",
    "\\begin{align}\n",
    "ERR&=\\frac{FP+FN}{FP+FN+TP+TN}\\\\\n",
    "ACC&=\\frac{TP+TN}{FP+FN+TP+TN}=1-ERR\n",
    "\\end{align}\n",
    "$$\n",
    "\n",
    "**真陽性率(TPR)**と**偽陽性率(FPR)**は、不均衡なクラスの際に役立つ指標である。  \n",
    "$$\n",
    "FPR=\\frac{FP}{N}=\\frac{FP}{FP+TN}\\\\\n",
    "TPR=\\frac{TP}{P}=\\frac{TP}{FN+TP}\n",
    "$$\n",
    "\n",
    "**適合率(PRE)**は、陽性と予測したデータ点のうち、実際に陽性であったデータの割合、  \n",
    "**再現率(REC)**は、陽性クラスのデータ点のうち、実際に陽性と予測されたデータ点の割合であり、TPRと同義である。 \n",
    "$$\n",
    "\\begin{align}\n",
    "PRE&=\\frac{TP}{TP+FP}\\\\\n",
    "REC&=TPR=\\frac{TP}{P}=\\frac{TP}{FN+TP}\n",
    "\\end{align}\n",
    "$$\n",
    "\n",
    "再現率の最適化は不検出を最小化するのに役立つが、偽陽性を増やす可能性がある。  \n",
    "適合率の最適化は陽性であるという予測の正確さえお強化できるが、不検出(偽陰性)を頻繁に起こす。  \n",
    "PREとRECのバランスをとるために、**F1スコア(F1-score)**がよく使われる。\n",
    "$$\n",
    "F1=2\\frac{PRE×REC}{PRE+REC}\n",
    "$$"
   ]
  },
  {
   "cell_type": "code",
   "execution_count": 17,
   "id": "continental-tomato",
   "metadata": {},
   "outputs": [
    {
     "name": "stdout",
     "output_type": "stream",
     "text": [
      "Precision: 0.989\n",
      "Recall: 0.989\n",
      "F1: 0.989\n"
     ]
    }
   ],
   "source": [
    "from sklearn.metrics import precision_score\n",
    "from sklearn.metrics import recall_score, f1_score\n",
    "\n",
    "print('Precision: %.3f' % precision_score(y_true=y_test, y_pred=y_pred))\n",
    "print('Recall: %.3f' % recall_score(y_true=y_test, y_pred=y_pred))\n",
    "print('F1: %.3f' % f1_score(y_true=y_test, y_pred=y_pred))"
   ]
  },
  {
   "cell_type": "markdown",
   "id": "renewable-halloween",
   "metadata": {},
   "source": [
    "#### ROC(受信者操作特性)曲線\n",
    "分類器の閾値を変えることによって計算される偽陽性率と真陽性率の選択の基準となる。  \n",
    "ROC曲線の対角線は当て推量(ランダムな推定)として解釈でき、対角線を下回る分類モデルは当て推量よりも劣るとみなされる。  \n",
    "完璧な分類器はグラフの左上隅に位置付けられ、TPRは1FPRは0となる。  \n",
    "性能の評価には**AUC(曲線下面積)**を用いる。"
   ]
  },
  {
   "cell_type": "code",
   "execution_count": 30,
   "id": "radio-toyota",
   "metadata": {},
   "outputs": [
    {
     "name": "stdout",
     "output_type": "stream",
     "text": [
      "AUC:  0.8552955665024631\n"
     ]
    },
    {
     "data": {
      "image/png": "[encoded data removed]",
      "text/plain": [
       "<Figure size 432x288 with 1 Axes>"
      ]
     },
     "metadata": {
      "needs_background": "light"
     },
     "output_type": "display_data"
    }
   ],
   "source": [
    "from sklearn.metrics import roc_curve, roc_auc_score\n",
    "\n",
    "pipeline.fit(X_train.iloc[:,9:11], y_train)\n",
    "y_probabilities = pipeline.predict_proba(X_test.iloc[:,9:11])[:,1]\n",
    "\n",
    "false_positive_rate, true_positive_rate, threshold = roc_curve(y_test, y_probabilities)\n",
    "\n",
    "plt.plot(false_positive_rate, true_positive_rate)\n",
    "plt.plot([0, 1], ls=\"--\")\n",
    "plt.plot([0, 0], [1, 0], c=\".7\")\n",
    "plt.plot([1, 1], c=\".7\")\n",
    "print('AUC: ',roc_auc_score(y_test, y_probabilities))"
   ]
  },
  {
   "cell_type": "markdown",
   "id": "social-prototype",
   "metadata": {},
   "source": [
    "#### 適合率-再現率曲線"
   ]
  },
  {
   "cell_type": "code",
   "execution_count": 39,
   "id": "changed-might",
   "metadata": {},
   "outputs": [
    {
     "data": {
      "text/plain": [
       "Text(0, 0.5, 'Recall')"
      ]
     },
     "execution_count": 39,
     "metadata": {},
     "output_type": "execute_result"
    },
    {
     "data": {
      "image/png": "[encoded data removed]",
      "text/plain": [
       "<Figure size 432x288 with 1 Axes>"
      ]
     },
     "metadata": {
      "needs_background": "light"
     },
     "output_type": "display_data"
    }
   ],
   "source": [
    "from sklearn.metrics import precision_recall_curve\n",
    "\n",
    "y_probabilities = pipeline.decision_function(X_test.iloc[:,9:11])\n",
    "\n",
    "precision, recall, thresholds = precision_recall_curve(y_test, y_probabilities)\n",
    "\n",
    "close_zero = np.argmin(np.abs(thresholds))\n",
    "plt.plot(precision[close_zero], recall[close_zero], 'o', markersize=10,\n",
    "         label=\"threshold zero\", fillstyle=\"none\", c='k', mew=2)\n",
    "plt.plot(precision, recall, label=\"precision recall curve\")\n",
    "plt.xlabel(\"Precision\")\n",
    "plt.ylabel(\"Recall\")"
   ]
  },
  {
   "cell_type": "markdown",
   "id": "foster-spokesman",
   "metadata": {},
   "source": [
    "#### 多クラス分類のための性能指標\n",
    "**マイクロ法**と**マクロ法**があり、これらは**一体全**分類を通じてそれらの性能指標を多クラス問題に拡張するものである。\n",
    "#### マイクロ平均法\n",
    "各インスタンスまたは予測を平等に重み付けしたい場合に役立つ。  \n",
    "$k$クラス問題での適合率のマイクロ平均は次のように求められる。\n",
    "$$\n",
    "PRE_{micro}=\\frac{TP_1+\\cdots+TP_k}{TP_1+\\cdots+TP_k+FP_1+\\cdots+FP_k}\n",
    "$$\n",
    "  \n",
    "#### マクロ平均法\n",
    "最も出現するクラスラベルに過度の影響を受けることなく分類器の全体的な性能を評価するために、すべてのクラスに平等に重み付けをする。  \n",
    "マクロ平均はそれぞれの問題の性能指標の平均として求める。  \n",
    "$$\n",
    "PRE_{macro}=\\frac{PRE_1+\\cdots+PRE_k}{k}\n",
    "$$"
   ]
  },
  {
   "cell_type": "code",
   "execution_count": 42,
   "id": "reflected-clearing",
   "metadata": {},
   "outputs": [],
   "source": [
    "from sklearn.metrics import make_scorer\n",
    "\n",
    "pre_scorer = make_scorer(score_func=precision_score,\n",
    "                         pos_label=1, \n",
    "                         greater_is_better=True,\n",
    "                         average='micro')"
   ]
  },
  {
   "cell_type": "code",
   "execution_count": null,
   "id": "better-silly",
   "metadata": {},
   "outputs": [],
   "source": []
  },
  {
   "cell_type": "markdown",
   "id": "civilian-opening",
   "metadata": {},
   "source": [
    "全解探索"
   ]
  },
  {
   "cell_type": "code",
   "execution_count": 4,
   "id": "intensive-stick",
   "metadata": {},
   "outputs": [],
   "source": [
    "from sklearn.datasets import load_iris\n",
    "from sklearn.model_selection import train_test_split\n",
    "\n",
    "iris = load_iris()\n",
    "X = iris.data\n",
    "y = iris.target\n",
    "\n",
    "X_train, X_test, y_train, y_test = train_test_split(X, y, test_size=0.3, stratify=y)"
   ]
  },
  {
   "cell_type": "code",
   "execution_count": 5,
   "id": "another-variance",
   "metadata": {},
   "outputs": [],
   "source": [
    "import numpy as np\n",
    "from sklearn import linear_model\n",
    "from sklearn.model_selection import GridSearchCV\n",
    "\n",
    "lr = linear_model.LogisticRegression()\n",
    "\n",
    "penalty = ['l1', 'l2']\n",
    "C = np.logspace(0, 4, 10)\n",
    "params = dict(C=C, penalty=penalty)\n",
    "\n",
    "gridsearch = GridSearchCV(lr, params, cv=5, verbose=0)\n",
    "\n",
    "best_model = gridsearch.fit(X_train, y_train)"
   ]
  },
  {
   "cell_type": "code",
   "execution_count": 6,
   "id": "biblical-skill",
   "metadata": {},
   "outputs": [
    {
     "name": "stdout",
     "output_type": "stream",
     "text": [
      "Best Penalty: l2\n",
      "Best C: 7.742636826811269\n"
     ]
    }
   ],
   "source": [
    "print('Best Penalty:', best_model.best_estimator_.get_params()['penalty'])\n",
    "print('Best C:', best_model.best_estimator_.get_params()['C'])"
   ]
  },
  {
   "cell_type": "code",
   "execution_count": 7,
   "id": "fiscal-apparel",
   "metadata": {},
   "outputs": [
    {
     "name": "stdout",
     "output_type": "stream",
     "text": [
      "[2 0 1 1 0 1 1 2 0 2 1 1 0 0 0 2 0 0 2 2 0 0 2 1 2 2 0 2 2 2 1 1 1 0 0 2 1\n",
      " 0 1 1 2 1 1 2 0]\n",
      "[2 0 1 1 0 1 1 2 0 2 1 1 0 0 0 2 0 0 2 2 0 0 2 1 2 2 0 2 2 2 1 1 1 0 0 2 1\n",
      " 0 1 1 2 1 1 2 0]\n"
     ]
    }
   ],
   "source": [
    "print(best_model.predict(X_test))\n",
    "print(y_test)"
   ]
  },
  {
   "cell_type": "markdown",
   "id": "acceptable-ecology",
   "metadata": {},
   "source": [
    "ランダム探索"
   ]
  },
  {
   "cell_type": "code",
   "execution_count": 8,
   "id": "alone-tampa",
   "metadata": {},
   "outputs": [],
   "source": [
    "from scipy.stats import uniform\n",
    "from sklearn.model_selection import RandomizedSearchCV\n",
    "\n",
    "randomizedsearch = RandomizedSearchCV(lr, params, n_iter=100, cv=5, verbose=0)\n",
    "\n",
    "best_model = randomizedsearch.fit(X_train, y_train)"
   ]
  },
  {
   "cell_type": "code",
   "execution_count": 9,
   "id": "iraqi-majority",
   "metadata": {},
   "outputs": [
    {
     "name": "stdout",
     "output_type": "stream",
     "text": [
      "Best Penalty: l2\n",
      "Best C: 7.742636826811269\n"
     ]
    }
   ],
   "source": [
    "print('Best Penalty:', best_model.best_estimator_.get_params()['penalty'])\n",
    "print('Best C:', best_model.best_estimator_.get_params()['C'])"
   ]
  },
  {
   "cell_type": "code",
   "execution_count": 12,
   "id": "sufficient-eugene",
   "metadata": {},
   "outputs": [
    {
     "name": "stdout",
     "output_type": "stream",
     "text": [
      "[1 0 0 1 1 1 1 0 2 2 1 0 2 2 0 1 2 0 0 1 2 0 2 1 1 0 0 2 2 1 2 0 2 1 0 0 0\n",
      " 1 2 1 0 2 1 2 1]\n",
      "[1 0 0 2 1 1 1 0 2 2 1 0 2 2 0 1 2 0 0 1 2 0 2 1 1 0 0 2 2 1 2 0 2 1 0 0 0\n",
      " 1 2 1 0 2 1 2 1]\n"
     ]
    }
   ],
   "source": [
    "print(best_model.predict(X_test))\n",
    "print(y_test)"
   ]
  },
  {
   "cell_type": "markdown",
   "id": "international-washer",
   "metadata": {},
   "source": [
    "複数のアルゴリズムから最良のモデルの選択"
   ]
  },
  {
   "cell_type": "code",
   "execution_count": 10,
   "id": "spoken-tumor",
   "metadata": {},
   "outputs": [],
   "source": [
    "from sklearn.linear_model import LogisticRegression\n",
    "from sklearn.ensemble import RandomForestClassifier\n",
    "from sklearn.model_selection import GridSearchCV\n",
    "from sklearn.pipeline import Pipeline\n",
    "\n",
    "pipe = Pipeline([(\"classifier\", RandomForestClassifier())])\n",
    "\n",
    "search_space = [{\"classifier\": [LogisticRegression()],\n",
    "                 \"classifier__penalty\": ['l1', 'l2'],\n",
    "                 \"classifier__C\": np.logspace(0, 4, 10)},\n",
    "                {\"classifier\": [RandomForestClassifier()],\n",
    "                 \"classifier__n_estimators\": [10, 100, 1000],\n",
    "                 \"classifier__max_features\": [1, 2, 3]}]\n",
    "\n",
    "gridsearch = GridSearchCV(pipe, search_space, cv=5, verbose=0)\n",
    "\n",
    "best_model = gridsearch.fit(X_train, y_train)"
   ]
  },
  {
   "cell_type": "code",
   "execution_count": 11,
   "id": "polished-relative",
   "metadata": {},
   "outputs": [
    {
     "data": {
      "text/plain": [
       "{'memory': None,\n",
       " 'steps': [('classifier', LogisticRegression(C=7.742636826811269))],\n",
       " 'verbose': False,\n",
       " 'classifier': LogisticRegression(C=7.742636826811269),\n",
       " 'classifier__C': 7.742636826811269,\n",
       " 'classifier__class_weight': None,\n",
       " 'classifier__dual': False,\n",
       " 'classifier__fit_intercept': True,\n",
       " 'classifier__intercept_scaling': 1,\n",
       " 'classifier__l1_ratio': None,\n",
       " 'classifier__max_iter': 100,\n",
       " 'classifier__multi_class': 'auto',\n",
       " 'classifier__n_jobs': None,\n",
       " 'classifier__penalty': 'l2',\n",
       " 'classifier__random_state': None,\n",
       " 'classifier__solver': 'lbfgs',\n",
       " 'classifier__tol': 0.0001,\n",
       " 'classifier__verbose': 0,\n",
       " 'classifier__warm_start': False}"
      ]
     },
     "execution_count": 11,
     "metadata": {},
     "output_type": "execute_result"
    }
   ],
   "source": [
    "best_model.best_estimator_.get_params()"
   ]
  },
  {
   "cell_type": "code",
   "execution_count": 12,
   "id": "desirable-investigator",
   "metadata": {},
   "outputs": [
    {
     "name": "stdout",
     "output_type": "stream",
     "text": [
      "[2 0 1 1 0 1 1 2 0 2 1 1 0 0 0 2 0 0 2 2 0 0 2 1 2 2 0 2 2 2 1 1 1 0 0 2 1\n",
      " 0 1 1 2 1 1 2 0]\n",
      "[2 0 1 1 0 1 1 2 0 2 1 1 0 0 0 2 0 0 2 2 0 0 2 1 2 2 0 2 2 2 1 1 1 0 0 2 1\n",
      " 0 1 1 2 1 1 2 0]\n"
     ]
    }
   ],
   "source": [
    "print(best_model.predict(X_test))\n",
    "print(y_test)"
   ]
  },
  {
   "cell_type": "markdown",
   "id": "strange-tradition",
   "metadata": {},
   "source": [
    "前処理がある場合の最良モデルの選択"
   ]
  },
  {
   "cell_type": "code",
   "execution_count": 13,
   "id": "rotary-houston",
   "metadata": {},
   "outputs": [],
   "source": [
    "from sklearn.model_selection import GridSearchCV\n",
    "from sklearn.pipeline import Pipeline, FeatureUnion\n",
    "from sklearn.decomposition import PCA\n",
    "from sklearn.preprocessing import StandardScaler\n",
    "#-----\n",
    "from sklearn.preprocessing import FunctionTransformer\n",
    "from sklearn.compose import ColumnTransformer\n",
    "# ColumnTransformer([('transparent', FunctionTransformer(lambda x: x, validate=False), [i for i, _ in enumerate(X_df)])])\n",
    "\n",
    "\n",
    "preprocess = FeatureUnion([(\"std\", StandardScaler()), (\"pca\", PCA())])\n",
    "\n",
    "pipe = Pipeline([(\"preprocess\", preprocess),\n",
    "                 (\"classifier\", LogisticRegression())])\n",
    "\n",
    "search_space = [{\"preprocess__pca__n_components\": [1, 2, 3],\n",
    "                 \"classifier__penalty\": [\"l1\", \"l2\"],\n",
    "                 \"classifier__C\": np.logspace(0, 4, 10)}]\n",
    "\n",
    "clf = GridSearchCV(pipe, search_space, cv=5, verbose=0, n_jobs=-1)\n",
    "\n",
    "best_model = clf.fit(X_train, y_train)"
   ]
  },
  {
   "cell_type": "code",
   "execution_count": 14,
   "id": "fluid-directive",
   "metadata": {},
   "outputs": [
    {
     "data": {
      "text/plain": [
       "1"
      ]
     },
     "execution_count": 14,
     "metadata": {},
     "output_type": "execute_result"
    }
   ],
   "source": [
    "best_model.best_estimator_.get_params()['preprocess__pca__n_components']"
   ]
  },
  {
   "cell_type": "code",
   "execution_count": 15,
   "id": "proper-soccer",
   "metadata": {},
   "outputs": [
    {
     "name": "stdout",
     "output_type": "stream",
     "text": [
      "[2 0 1 1 0 1 1 2 0 2 1 1 0 0 0 2 0 0 2 2 0 0 2 2 2 2 0 2 2 2 1 1 1 0 0 2 1\n",
      " 0 1 1 2 1 1 2 0]\n",
      "[2 0 1 1 0 1 1 2 0 2 1 1 0 0 0 2 0 0 2 2 0 0 2 1 2 2 0 2 2 2 1 1 1 0 0 2 1\n",
      " 0 1 1 2 1 1 2 0]\n"
     ]
    }
   ],
   "source": [
    "print(best_model.predict(X_test))\n",
    "print(y_test)"
   ]
  },
  {
   "cell_type": "markdown",
   "id": "engaged-luxury",
   "metadata": {},
   "source": [
    "モデル選択後の性能評価  \n",
    "二重交差検証"
   ]
  },
  {
   "cell_type": "code",
   "execution_count": 22,
   "id": "small-aquarium",
   "metadata": {},
   "outputs": [
    {
     "data": {
      "text/plain": [
       "0.9333333333333333"
      ]
     },
     "execution_count": 22,
     "metadata": {},
     "output_type": "execute_result"
    }
   ],
   "source": [
    "from sklearn.model_selection import cross_val_score\n",
    "\n",
    "lr = LogisticRegression()\n",
    "\n",
    "C = np.logspace(0, 4, 10)\n",
    "\n",
    "params = dict(C=C)\n",
    "\n",
    "gridsearch = GridSearchCV(lr, params, cv=5, n_jobs=-1, verbose=0)\n",
    "cross_val_score(gridsearch, X_train, y_train).mean()"
   ]
  },
  {
   "cell_type": "code",
   "execution_count": null,
   "id": "satellite-piano",
   "metadata": {},
   "outputs": [],
   "source": []
  },
  {
   "cell_type": "code",
   "execution_count": 18,
   "id": "recognized-vitamin",
   "metadata": {},
   "outputs": [],
   "source": [
    "from sklearn.datasets import load_breast_cancer\n",
    "from sklearn.model_selection import train_test_split\n",
    "\n",
    "cancer = load_breast_cancer()\n",
    "features = cancer.data\n",
    "target = cancer.target\n",
    "\n",
    "X_train, X_test, y_train, y_test = train_test_split(features, target, stratify=target)\n",
    "X_train, X_val, y_train, y_val = train_test_split(X_train, y_train, stratify=y_train)"
   ]
  },
  {
   "cell_type": "markdown",
   "id": "applied-therapy",
   "metadata": {},
   "source": [
    "## ベイズ最適化"
   ]
  },
  {
   "cell_type": "code",
   "execution_count": 19,
   "id": "greater-spare",
   "metadata": {},
   "outputs": [],
   "source": [
    "from hyperopt import fmin, tpe, hp, STATUS_OK, Trials\n",
    "from sklearn.metrics import log_loss\n",
    "import xgboost as xgb\n",
    "\n",
    "\n",
    "\n",
    "def score(params):\n",
    "    params['max_depth'] = int(params['max_depth'])\n",
    "    params['silent'] = 1\n",
    "   \n",
    "    dtrain = xgb.DMatrix(X_train, label=y_train)\n",
    "    dvalid = xgb.DMatrix(X_val, label=y_val)\n",
    "    watchlist = [(dvalid, 'eval'), (dtrain, 'train')]\n",
    "    \n",
    "    gbm_model = xgb.train(params, dtrain,\n",
    "                          evals=watchlist,\n",
    "                          verbose_eval=True)\n",
    "    \n",
    "    predictions = gbm_model.predict(dvalid,\n",
    "                                    ntree_limit=gbm_model.best_iteration + 1)\n",
    "    score = log_loss(y_val, predictions)\n",
    "    print(f'params: {params}, logloss: {score:.4f}')\n",
    "    #history.append(params, score)\n",
    "    \n",
    "    return {'loss': score, 'status': STATUS_OK}"
   ]
  },
  {
   "cell_type": "code",
   "execution_count": 20,
   "id": "atlantic-clark",
   "metadata": {},
   "outputs": [
    {
     "name": "stdout",
     "output_type": "stream",
     "text": [
      "[09:59:16] WARNING: C:/Users/Administrator/workspace/xgboost-win64_release_1.3.0/src/learner.cc:541:                   \n",
      "Parameters: { silent } might not be used.\n",
      "\n",
      "  This may not be accurate due to some parameters are only used in language bindings but\n",
      "  passed down to XGBoost core.  Or some parameters are not used but slip through this\n",
      "  verification. Please open an issue if you find above cases.\n",
      "\n",
      "\n",
      "[09:59:16] WARNING: C:/Users/Administrator/workspace/xgboost-win64_release_1.3.0/src/learner.cc:1061: Starting in XGBoost 1.3.0, the default evaluation metric used with the objective 'binary:logistic' was changed from 'error' to 'logloss'. Explicitly set eval_metric if you'd like to restore the old behavior.\n",
      "[0]\teval-logloss:0.50507\ttrain-logloss:0.45520                                                                         \n",
      "\n",
      "[1]\teval-logloss:0.39188\ttrain-logloss:0.31894                                                                         \n",
      "\n",
      "[2]\teval-logloss:0.31529\ttrain-logloss:0.23394                                                                         \n",
      "\n",
      "[3]\teval-logloss:0.26637\ttrain-logloss:0.17207                                                                         \n",
      "\n",
      "[4]\teval-logloss:0.22447\ttrain-logloss:0.12813                                                                         \n",
      "\n",
      "[5]\teval-logloss:0.20092\ttrain-logloss:0.09718                                                                         \n",
      "\n",
      "[6]\teval-logloss:0.18528\ttrain-logloss:0.07641                                                                         \n",
      "\n",
      "[7]\teval-logloss:0.17134\ttrain-logloss:0.05949                                                                         \n",
      "\n",
      "[8]\teval-logloss:0.16942\ttrain-logloss:0.04562                                                                         \n",
      "\n",
      "[9]\teval-logloss:0.16900\ttrain-logloss:0.03629                                                                         \n",
      "\n",
      "params: {'alpha': 3.188636869794577e-08, 'booster': 'gbtree', 'colsample_bytree': 0.75, 'gamma': 0.010377997394027453, 'lambda': 0.0011110120190158841, 'max_depth': 4, 'min_child_weight': 0.3119704762572281, 'objective': 'binary:logistic', 'subsample': 0.7000000000000001, 'silent': 1}, logloss: 0.1690\n",
      "[09:59:16] WARNING: C:/Users/Administrator/workspace/xgboost-win64_release_1.3.0/src/learner.cc:541:                   \n",
      "Parameters: { silent } might not be used.\n",
      "\n",
      "  This may not be accurate due to some parameters are only used in language bindings but\n",
      "  passed down to XGBoost core.  Or some parameters are not used but slip through this\n",
      "  verification. Please open an issue if you find above cases.\n",
      "\n",
      "\n",
      "[09:59:16] WARNING: C:/Users/Administrator/workspace/xgboost-win64_release_1.3.0/src/learner.cc:1061: Starting in XGBoost 1.3.0, the default evaluation metric used with the objective 'binary:logistic' was changed from 'error' to 'logloss'. Explicitly set eval_metric if you'd like to restore the old behavior.\n",
      "[0]\teval-logloss:0.50314\ttrain-logloss:0.49259                                                                         \n",
      "\n",
      "[1]\teval-logloss:0.38558\ttrain-logloss:0.37914                                                                         \n",
      "\n",
      "[2]\teval-logloss:0.31913\ttrain-logloss:0.29962                                                                         \n",
      "\n",
      "[3]\teval-logloss:0.27762\ttrain-logloss:0.24602                                                                         \n",
      "\n",
      "[4]\teval-logloss:0.26049\ttrain-logloss:0.21063                                                                         \n",
      "\n",
      "[5]\teval-logloss:0.23131\ttrain-logloss:0.18483                                                                         \n",
      "\n",
      "[6]\teval-logloss:0.22132\ttrain-logloss:0.16785                                                                         \n",
      "\n",
      "[7]\teval-logloss:0.22128\ttrain-logloss:0.16712                                                                         \n",
      "\n",
      "[8]\teval-logloss:0.21093\ttrain-logloss:0.15272                                                                         \n",
      "\n",
      "[9]\teval-logloss:0.21135\ttrain-logloss:0.15221                                                                         \n",
      "\n",
      "params: {'alpha': 0.02556736632833712, 'booster': 'gbtree', 'colsample_bytree': 0.65, 'gamma': 2.569106922558783e-06, 'lambda': 0.004004527673371518, 'max_depth': 3, 'min_child_weight': 9.891879566049338, 'objective': 'binary:logistic', 'subsample': 0.6000000000000001, 'silent': 1}, logloss: 0.2114\n",
      "[09:59:16] WARNING: C:/Users/Administrator/workspace/xgboost-win64_release_1.3.0/src/learner.cc:541:                   \n",
      "Parameters: { silent } might not be used.\n",
      "\n",
      "  This may not be accurate due to some parameters are only used in language bindings but\n",
      "  passed down to XGBoost core.  Or some parameters are not used but slip through this\n",
      "  verification. Please open an issue if you find above cases.\n",
      "\n",
      "\n",
      "[09:59:16] WARNING: C:/Users/Administrator/workspace/xgboost-win64_release_1.3.0/src/learner.cc:1061: Starting in XGBoost 1.3.0, the default evaluation metric used with the objective 'binary:logistic' was changed from 'error' to 'logloss'. Explicitly set eval_metric if you'd like to restore the old behavior.\n",
      "[0]\teval-logloss:0.50680\ttrain-logloss:0.48975                                                                         \n",
      "\n",
      "[1]\teval-logloss:0.38620\ttrain-logloss:0.37645                                                                         \n",
      "\n",
      "[2]\teval-logloss:0.31732\ttrain-logloss:0.29540                                                                         \n",
      "\n",
      "[3]\teval-logloss:0.27243\ttrain-logloss:0.24244                                                                         \n",
      "\n",
      "[4]\teval-logloss:0.25631\ttrain-logloss:0.20816                                                                         \n",
      "\n",
      "[5]\teval-logloss:0.22825\ttrain-logloss:0.18242                                                                         \n",
      "\n",
      "[6]\teval-logloss:0.21400\ttrain-logloss:0.16567                                                                         \n",
      "\n",
      "[7]\teval-logloss:0.20788\ttrain-logloss:0.15096                                                                         \n",
      "\n",
      "[8]\teval-logloss:0.20036\ttrain-logloss:0.13770                                                                         \n",
      "\n",
      "[9]\teval-logloss:0.20124\ttrain-logloss:0.13734                                                                         \n",
      "\n",
      "params: {'alpha': 1.562565875898637e-07, 'booster': 'gbtree', 'colsample_bytree': 0.7000000000000001, 'gamma': 0.0602867930612279, 'lambda': 0.018714433795491744, 'max_depth': 5, 'min_child_weight': 8.11843188564238, 'objective': 'binary:logistic', 'subsample': 0.6000000000000001, 'silent': 1}, logloss: 0.2012\n",
      "[09:59:16] WARNING: C:/Users/Administrator/workspace/xgboost-win64_release_1.3.0/src/learner.cc:541:                   \n",
      "Parameters: { silent } might not be used.\n",
      "\n",
      "  This may not be accurate due to some parameters are only used in language bindings but\n",
      "  passed down to XGBoost core.  Or some parameters are not used but slip through this\n",
      "  verification. Please open an issue if you find above cases.\n",
      "\n",
      "\n",
      "[09:59:16] WARNING: C:/Users/Administrator/workspace/xgboost-win64_release_1.3.0/src/learner.cc:1061: Starting in XGBoost 1.3.0, the default evaluation metric used with the objective 'binary:logistic' was changed from 'error' to 'logloss'. Explicitly set eval_metric if you'd like to restore the old behavior.\n",
      "[0]\teval-logloss:0.51564\ttrain-logloss:0.48026                                                                         \n",
      "\n",
      "[1]\teval-logloss:0.40346\ttrain-logloss:0.34666                                                                         \n",
      "\n",
      "[2]\teval-logloss:0.32457\ttrain-logloss:0.26667                                                                         \n",
      "\n",
      "[3]\teval-logloss:0.26944\ttrain-logloss:0.20389                                                                         \n",
      "\n",
      "[4]\teval-logloss:0.24685\ttrain-logloss:0.16336                                                                         \n",
      "\n",
      "[5]\teval-logloss:0.22282\ttrain-logloss:0.13221                                                                         \n",
      "\n",
      "[6]\teval-logloss:0.20846\ttrain-logloss:0.10897                                                                         \n",
      "\n",
      "[7]\teval-logloss:0.18991\ttrain-logloss:0.09105                                                                         \n",
      "\n",
      "[8]\teval-logloss:0.18135\ttrain-logloss:0.07893                                                                         \n",
      "\n",
      "[9]\teval-logloss:0.17508\ttrain-logloss:0.06890                                                                         \n",
      "\n",
      "params: {'alpha': 1.2774319435398704e-06, 'booster': 'gbtree', 'colsample_bytree': 0.75, 'gamma': 5.4841728618734964e-06, 'lambda': 1.675113663930988, 'max_depth': 3, 'min_child_weight': 0.10754416222751859, 'objective': 'binary:logistic', 'subsample': 0.8, 'silent': 1}, logloss: 0.1751\n",
      "[09:59:17] WARNING: C:/Users/Administrator/workspace/xgboost-win64_release_1.3.0/src/learner.cc:541:                   \n",
      "Parameters: { silent } might not be used.\n",
      "\n",
      "  This may not be accurate due to some parameters are only used in language bindings but\n",
      "  passed down to XGBoost core.  Or some parameters are not used but slip through this\n",
      "  verification. Please open an issue if you find above cases.\n",
      "\n",
      "\n",
      "[09:59:17] WARNING: C:/Users/Administrator/workspace/xgboost-win64_release_1.3.0/src/learner.cc:1061: Starting in XGBoost 1.3.0, the default evaluation metric used with the objective 'binary:logistic' was changed from 'error' to 'logloss'. Explicitly set eval_metric if you'd like to restore the old behavior.\n",
      "[0]\teval-logloss:0.50795\ttrain-logloss:0.49501                                                                         \n",
      "\n",
      "[1]\teval-logloss:0.39595\ttrain-logloss:0.37177                                                                         \n",
      "\n",
      "[2]\teval-logloss:0.33366\ttrain-logloss:0.29026                                                                         \n",
      "\n",
      "[3]\teval-logloss:0.28589\ttrain-logloss:0.23416                                                                         \n",
      "\n",
      "[4]\teval-logloss:0.25270\ttrain-logloss:0.19293                                                                         \n",
      "\n",
      "[5]\teval-logloss:0.22851\ttrain-logloss:0.16344                                                                         \n",
      "\n",
      "[6]\teval-logloss:0.21957\ttrain-logloss:0.14234                                                                         \n",
      "\n",
      "[7]\teval-logloss:0.20212\ttrain-logloss:0.12420                                                                         \n",
      "\n",
      "[8]\teval-logloss:0.19276\ttrain-logloss:0.10997                                                                         \n",
      "\n",
      "[9]\teval-logloss:0.18720\ttrain-logloss:0.09911                                                                         \n",
      "\n",
      "params: {'alpha': 1.1455422917229035e-06, 'booster': 'gbtree', 'colsample_bytree': 0.8500000000000001, 'gamma': 0.002661172597649134, 'lambda': 4.554065518170491, 'max_depth': 7, 'min_child_weight': 1.463982334708536, 'objective': 'binary:logistic', 'subsample': 0.9, 'silent': 1}, logloss: 0.1872\n",
      "[09:59:17] WARNING: C:/Users/Administrator/workspace/xgboost-win64_release_1.3.0/src/learner.cc:541:                   \n",
      "Parameters: { silent } might not be used.\n",
      "\n",
      "  This may not be accurate due to some parameters are only used in language bindings but\n",
      "  passed down to XGBoost core.  Or some parameters are not used but slip through this\n",
      "  verification. Please open an issue if you find above cases.\n",
      "\n",
      "\n",
      "[09:59:17] WARNING: C:/Users/Administrator/workspace/xgboost-win64_release_1.3.0/src/learner.cc:1061: Starting in XGBoost 1.3.0, the default evaluation metric used with the objective 'binary:logistic' was changed from 'error' to 'logloss'. Explicitly set eval_metric if you'd like to restore the old behavior.\n",
      "[0]\teval-logloss:0.50029\ttrain-logloss:0.46068                                                                         \n",
      "\n",
      "[1]\teval-logloss:0.40123\ttrain-logloss:0.32063                                                                         \n",
      "\n",
      "[2]\teval-logloss:0.32293\ttrain-logloss:0.23648                                                                         \n",
      "\n",
      "[3]\teval-logloss:0.28151\ttrain-logloss:0.17409                                                                         \n",
      "\n",
      "[4]\teval-logloss:0.25291\ttrain-logloss:0.13132                                                                         \n",
      "\n",
      "[5]\teval-logloss:0.22129\ttrain-logloss:0.10150                                                                         \n",
      "\n",
      "[6]\teval-logloss:0.20194\ttrain-logloss:0.07946                                                                         \n",
      "\n",
      "[7]\teval-logloss:0.19254\ttrain-logloss:0.06355                                                                         \n",
      "\n",
      "[8]\teval-logloss:0.18359\ttrain-logloss:0.04735                                                                         \n",
      "\n",
      "[9]\teval-logloss:0.18199\ttrain-logloss:0.03858                                                                         \n",
      "\n",
      "params: {'alpha': 1.6822524070827376e-06, 'booster': 'gbtree', 'colsample_bytree': 0.75, 'gamma': 2.2964768973713887e-05, 'lambda': 0.00026924230513268875, 'max_depth': 3, 'min_child_weight': 0.10685305737545674, 'objective': 'binary:logistic', 'subsample': 0.9500000000000001, 'silent': 1}, logloss: 0.1820\n",
      "[09:59:17] WARNING: C:/Users/Administrator/workspace/xgboost-win64_release_1.3.0/src/learner.cc:541:                   \n",
      "Parameters: { silent } might not be used.\n",
      "\n",
      "  This may not be accurate due to some parameters are only used in language bindings but\n",
      "  passed down to XGBoost core.  Or some parameters are not used but slip through this\n",
      "  verification. Please open an issue if you find above cases.\n",
      "\n",
      "\n",
      "[09:59:17] WARNING: C:/Users/Administrator/workspace/xgboost-win64_release_1.3.0/src/learner.cc:1061: Starting in XGBoost 1.3.0, the default evaluation metric used with the objective 'binary:logistic' was changed from 'error' to 'logloss'. Explicitly set eval_metric if you'd like to restore the old behavior.\n",
      "[0]\teval-logloss:0.51509\ttrain-logloss:0.46749                                                                         \n",
      "\n",
      "[1]\teval-logloss:0.39549\ttrain-logloss:0.33560                                                                         \n",
      "\n",
      "[2]\teval-logloss:0.31609\ttrain-logloss:0.25736                                                                         \n",
      "\n",
      "[3]\teval-logloss:0.27996\ttrain-logloss:0.19780                                                                         \n",
      "\n",
      "[4]\teval-logloss:0.25177\ttrain-logloss:0.15868                                                                         \n",
      "\n",
      "[5]\teval-logloss:0.22703\ttrain-logloss:0.13044                                                                         \n",
      "\n",
      "[6]\teval-logloss:0.21407\ttrain-logloss:0.11054                                                                         \n",
      "\n",
      "[7]\teval-logloss:0.19968\ttrain-logloss:0.09225                                                                         \n",
      "\n",
      "[8]\teval-logloss:0.19149\ttrain-logloss:0.07747                                                                         \n",
      "\n",
      "[9]\teval-logloss:0.18566\ttrain-logloss:0.06837                                                                         \n",
      "\n",
      "params: {'alpha': 0.913581595109773, 'booster': 'gbtree', 'colsample_bytree': 0.65, 'gamma': 0.000294903776680946, 'lambda': 0.1630061865922007, 'max_depth': 9, 'min_child_weight': 0.6370965842566346, 'objective': 'binary:logistic', 'subsample': 0.8, 'silent': 1}, logloss: 0.1857\n",
      "[09:59:17] WARNING: C:/Users/Administrator/workspace/xgboost-win64_release_1.3.0/src/learner.cc:541:                   \n",
      "Parameters: { silent } might not be used.\n",
      "\n",
      "  This may not be accurate due to some parameters are only used in language bindings but\n",
      "  passed down to XGBoost core.  Or some parameters are not used but slip through this\n",
      "  verification. Please open an issue if you find above cases.\n",
      "\n",
      "\n",
      "[09:59:17] WARNING: C:/Users/Administrator/workspace/xgboost-win64_release_1.3.0/src/learner.cc:1061: Starting in XGBoost 1.3.0, the default evaluation metric used with the objective 'binary:logistic' was changed from 'error' to 'logloss'. Explicitly set eval_metric if you'd like to restore the old behavior.\n"
     ]
    },
    {
     "name": "stdout",
     "output_type": "stream",
     "text": [
      "[0]\teval-logloss:0.51019\ttrain-logloss:0.44703                                                                         \n",
      "\n",
      "[1]\teval-logloss:0.40885\ttrain-logloss:0.31092                                                                         \n",
      "\n",
      "[2]\teval-logloss:0.32939\ttrain-logloss:0.22461                                                                         \n",
      "\n",
      "[3]\teval-logloss:0.28067\ttrain-logloss:0.16482                                                                         \n",
      "\n",
      "[4]\teval-logloss:0.24948\ttrain-logloss:0.12565                                                                         \n",
      "\n",
      "[5]\teval-logloss:0.22532\ttrain-logloss:0.09459                                                                         \n",
      "\n",
      "[6]\teval-logloss:0.20396\ttrain-logloss:0.07250                                                                         \n",
      "\n",
      "[7]\teval-logloss:0.18934\ttrain-logloss:0.05566                                                                         \n",
      "\n",
      "[8]\teval-logloss:0.18311\ttrain-logloss:0.04371                                                                         \n",
      "\n",
      "[9]\teval-logloss:0.18330\ttrain-logloss:0.03423                                                                         \n",
      "\n",
      "params: {'alpha': 0.008213930823189728, 'booster': 'gbtree', 'colsample_bytree': 0.75, 'gamma': 8.037697250791895e-05, 'lambda': 1.5174279774591912e-06, 'max_depth': 8, 'min_child_weight': 0.22251006502362808, 'objective': 'binary:logistic', 'subsample': 0.7000000000000001, 'silent': 1}, logloss: 0.1833\n",
      "[09:59:17] WARNING: C:/Users/Administrator/workspace/xgboost-win64_release_1.3.0/src/learner.cc:541:                   \n",
      "Parameters: { silent } might not be used.\n",
      "\n",
      "  This may not be accurate due to some parameters are only used in language bindings but\n",
      "  passed down to XGBoost core.  Or some parameters are not used but slip through this\n",
      "  verification. Please open an issue if you find above cases.\n",
      "\n",
      "\n",
      "[09:59:17] WARNING: C:/Users/Administrator/workspace/xgboost-win64_release_1.3.0/src/learner.cc:1061: Starting in XGBoost 1.3.0, the default evaluation metric used with the objective 'binary:logistic' was changed from 'error' to 'logloss'. Explicitly set eval_metric if you'd like to restore the old behavior.\n",
      "[0]\teval-logloss:0.49191\ttrain-logloss:0.45201                                                                         \n",
      "\n",
      "[1]\teval-logloss:0.38621\ttrain-logloss:0.31156                                                                         \n",
      "\n",
      "[2]\teval-logloss:0.31024\ttrain-logloss:0.22606                                                                         \n",
      "\n",
      "[3]\teval-logloss:0.25707\ttrain-logloss:0.16577                                                                         \n",
      "\n",
      "[4]\teval-logloss:0.22949\ttrain-logloss:0.12511                                                                         \n",
      "\n",
      "[5]\teval-logloss:0.21228\ttrain-logloss:0.09631                                                                         \n",
      "\n",
      "[6]\teval-logloss:0.20661\ttrain-logloss:0.07501                                                                         \n",
      "\n",
      "[7]\teval-logloss:0.19174\ttrain-logloss:0.05949                                                                         \n",
      "\n",
      "[8]\teval-logloss:0.18896\ttrain-logloss:0.04808                                                                         \n",
      "\n",
      "[9]\teval-logloss:0.18310\ttrain-logloss:0.03971                                                                         \n",
      "\n",
      "params: {'alpha': 0.24530567602525583, 'booster': 'gbtree', 'colsample_bytree': 0.8500000000000001, 'gamma': 2.8697269540803394e-06, 'lambda': 0.019336893964788805, 'max_depth': 7, 'min_child_weight': 0.16179237674523184, 'objective': 'binary:logistic', 'subsample': 0.8500000000000001, 'silent': 1}, logloss: 0.1831\n",
      "[09:59:17] WARNING: C:/Users/Administrator/workspace/xgboost-win64_release_1.3.0/src/learner.cc:541:                   \n",
      "Parameters: { silent } might not be used.\n",
      "\n",
      "  This may not be accurate due to some parameters are only used in language bindings but\n",
      "  passed down to XGBoost core.  Or some parameters are not used but slip through this\n",
      "  verification. Please open an issue if you find above cases.\n",
      "\n",
      "\n",
      "[09:59:17] WARNING: C:/Users/Administrator/workspace/xgboost-win64_release_1.3.0/src/learner.cc:1061: Starting in XGBoost 1.3.0, the default evaluation metric used with the objective 'binary:logistic' was changed from 'error' to 'logloss'. Explicitly set eval_metric if you'd like to restore the old behavior.\n",
      "[0]\teval-logloss:0.49923\ttrain-logloss:0.48511                                                                         \n",
      "\n",
      "[1]\teval-logloss:0.37913\ttrain-logloss:0.36855                                                                         \n",
      "\n",
      "[2]\teval-logloss:0.31287\ttrain-logloss:0.29242                                                                         \n",
      "\n",
      "[3]\teval-logloss:0.26545\ttrain-logloss:0.23487                                                                         \n",
      "\n",
      "[4]\teval-logloss:0.24009\ttrain-logloss:0.19657                                                                         \n",
      "\n",
      "[5]\teval-logloss:0.21240\ttrain-logloss:0.16983                                                                         \n",
      "\n",
      "[6]\teval-logloss:0.19532\ttrain-logloss:0.14985                                                                         \n",
      "\n",
      "[7]\teval-logloss:0.18385\ttrain-logloss:0.13255                                                                         \n",
      "\n",
      "[8]\teval-logloss:0.17943\ttrain-logloss:0.12089                                                                         \n",
      "\n",
      "[9]\teval-logloss:0.17515\ttrain-logloss:0.11135                                                                         \n",
      "\n",
      "params: {'alpha': 2.96411586653054e-07, 'booster': 'gbtree', 'colsample_bytree': 0.75, 'gamma': 0.027930268925105636, 'lambda': 0.15361103956009525, 'max_depth': 6, 'min_child_weight': 5.245321586215727, 'objective': 'binary:logistic', 'subsample': 0.65, 'silent': 1}, logloss: 0.1752\n",
      "100%|███████████████████████████████████████████████| 10/10 [00:00<00:00, 13.95trial/s, best loss: 0.16899933223830205]\n"
     ]
    }
   ],
   "source": [
    "param_space = {\n",
    "    'booster': 'gbtree',\n",
    "    'objective': 'binary:logistic',\n",
    "    'min_child_weight': hp.loguniform('min_child_weight', np.log(0.1), np.log(10)),\n",
    "    'max_depth': hp.quniform('max_depth', 3, 9, 1),\n",
    "    'subsample': hp.quniform('subsample', 0.6, 0.95, 0.05),\n",
    "    'colsample_bytree': hp.quniform('colsample_bytree', 0.6, 0.95, 0.05),\n",
    "    'gamma': hp.loguniform('gamma', np.log(1e-8), np.log(1.0)),\n",
    "    'alpha': hp.loguniform('alpha', np.log(1e-8), np.log(1.0)),\n",
    "    'lambda': hp.loguniform('lambda', np.log(1e-6), np.log(10.0))\n",
    "}\n",
    "\n",
    "max_evals= 10\n",
    "trials = Trials()\n",
    "history = []\n",
    "best = fmin(score, param_space, algo=tpe.suggest, trials=trials, max_evals=max_evals)"
   ]
  },
  {
   "cell_type": "code",
   "execution_count": null,
   "id": "spiritual-stake",
   "metadata": {},
   "outputs": [],
   "source": []
  },
  {
   "cell_type": "code",
   "execution_count": 27,
   "id": "pregnant-civilization",
   "metadata": {},
   "outputs": [
    {
     "name": "stdout",
     "output_type": "stream",
     "text": [
      "[11:42:44] WARNING: C:/Users/Administrator/workspace/xgboost-win64_release_1.3.0/src/learner.cc:1061: Starting in XGBoost 1.3.0, the default evaluation metric used with the objective 'binary:logistic' was changed from 'error' to 'logloss'. Explicitly set eval_metric if you'd like to restore the old behavior.\n",
      "[0]\ttrain-logloss:0.46677\teval-logloss:0.49023\n",
      "[1]\ttrain-logloss:0.33420\teval-logloss:0.37897\n",
      "[2]\ttrain-logloss:0.24816\teval-logloss:0.30992\n",
      "[3]\ttrain-logloss:0.19085\teval-logloss:0.26406\n",
      "[4]\ttrain-logloss:0.15025\teval-logloss:0.23465\n",
      "[5]\ttrain-logloss:0.11768\teval-logloss:0.21631\n",
      "[6]\ttrain-logloss:0.09444\teval-logloss:0.20829\n",
      "[7]\ttrain-logloss:0.07859\teval-logloss:0.19361\n",
      "[8]\ttrain-logloss:0.06325\teval-logloss:0.18541\n",
      "[9]\ttrain-logloss:0.05470\teval-logloss:0.18624\n",
      "[10]\ttrain-logloss:0.04754\teval-logloss:0.17450\n",
      "[11]\ttrain-logloss:0.04037\teval-logloss:0.17341\n",
      "[12]\ttrain-logloss:0.03385\teval-logloss:0.16815\n",
      "[13]\ttrain-logloss:0.02909\teval-logloss:0.17200\n",
      "[14]\ttrain-logloss:0.02560\teval-logloss:0.16785\n",
      "[15]\ttrain-logloss:0.02293\teval-logloss:0.17189\n",
      "[16]\ttrain-logloss:0.02125\teval-logloss:0.17257\n",
      "[17]\ttrain-logloss:0.01963\teval-logloss:0.17307\n",
      "[18]\ttrain-logloss:0.01815\teval-logloss:0.17616\n",
      "[19]\ttrain-logloss:0.01663\teval-logloss:0.18031\n",
      "[20]\ttrain-logloss:0.01579\teval-logloss:0.18076\n",
      "[21]\ttrain-logloss:0.01550\teval-logloss:0.18106\n",
      "[22]\ttrain-logloss:0.01509\teval-logloss:0.18398\n",
      "[23]\ttrain-logloss:0.01439\teval-logloss:0.18427\n",
      "[24]\ttrain-logloss:0.01420\teval-logloss:0.18538\n",
      "[25]\ttrain-logloss:0.01386\teval-logloss:0.18628\n",
      "[26]\ttrain-logloss:0.01362\teval-logloss:0.18650\n",
      "[27]\ttrain-logloss:0.01331\teval-logloss:0.18804\n",
      "[28]\ttrain-logloss:0.01282\teval-logloss:0.19040\n",
      "[29]\ttrain-logloss:0.01279\teval-logloss:0.19100\n",
      "[30]\ttrain-logloss:0.01253\teval-logloss:0.19168\n",
      "[31]\ttrain-logloss:0.01224\teval-logloss:0.19201\n",
      "[32]\ttrain-logloss:0.01199\teval-logloss:0.19191\n",
      "[33]\ttrain-logloss:0.01199\teval-logloss:0.19191\n",
      "[34]\ttrain-logloss:0.01199\teval-logloss:0.19191\n",
      "0.19190940671659154\n",
      "0.965034965034965\n"
     ]
    }
   ],
   "source": [
    "dtrain = xgb.DMatrix(X_train, label=y_train)\n",
    "dvalid = xgb.DMatrix(X_val, label=y_val)\n",
    "dtest = xgb.DMatrix(X_test, label=y_test)\n",
    "num_round = 50\n",
    "\n",
    "best['max_depth'] = int(best['max_depth'])\n",
    "best['booster'] = 'gbtree'\n",
    "best['objective'] = 'binary:logistic'\n",
    "\n",
    "watchlist = [(dtrain, 'train'), (dvalid, 'eval')]\n",
    "model = xgb.train(best, dtrain, num_round, evals=watchlist, early_stopping_rounds=20)\n",
    "\n",
    "va_pred = model.predict(dvalid)\n",
    "score = log_loss(y_val, va_pred)\n",
    "print(score)\n",
    "\n",
    "pred = model.predict(dtest)\n",
    "print(np.sum((pred>=0.5)==(y_test))/len(y_test))"
   ]
  },
  {
   "cell_type": "markdown",
   "id": "beginning-politics",
   "metadata": {},
   "source": [
    "# optunaによる最適化"
   ]
  },
  {
   "cell_type": "code",
   "execution_count": 21,
   "id": "charming-grass",
   "metadata": {},
   "outputs": [
    {
     "name": "stdout",
     "output_type": "stream",
     "text": [
      "params: {'kernel': 'rbf', 'C': 20.84532688788379, 'gamma': 0.010146030481205121}\n"
     ]
    }
   ],
   "source": [
    "from functools import partial\n",
    "\n",
    "import optuna\n",
    "from sklearn.model_selection import StratifiedKFold\n",
    "from sklearn.model_selection import cross_validate\n",
    "from sklearn.svm import SVC\n",
    "from sklearn import datasets\n",
    "\n",
    "\n",
    "def objective(X, y, trial):\n",
    "    \"\"\"最小化する目的関数\"\"\"\n",
    "    params = {\n",
    "        'kernel': trial.suggest_categorical('kernel', ['rbf', 'sigmoid']),\n",
    "        'C': trial.suggest_loguniform('C', 1e+0, 1e+2),\n",
    "        'gamma': trial.suggest_loguniform('gamma', 1e-2, 1e+1),\n",
    "    }\n",
    "\n",
    "    # モデルを作る\n",
    "    model = SVC(**params)\n",
    "\n",
    "    # 5-Fold CV / Accuracy でモデルを評価する\n",
    "    kf = StratifiedKFold(n_splits=5, shuffle=True, random_state=42)\n",
    "    scores = cross_validate(model, X=X, y=y, cv=kf)\n",
    "    # 最小化なので 1.0 からスコアを引く\n",
    "    return 1.0 - scores['test_score'].mean()\n",
    "\n",
    "\n",
    "def main():\n",
    "    # 目的関数にデータを適用する\n",
    "    f = partial(objective, X_train, y_train)\n",
    "    # 最適化のセッションを作る\n",
    "    study = optuna.create_study()\n",
    "    # 100 回試行する\n",
    "    study.optimize(f, n_trials=100)\n",
    "    # 最適化したパラメータを出力する\n",
    "    print('params:', study.best_params)\n",
    "\n",
    "\n",
    "if __name__ == '__main__':\n",
    "    main()"
   ]
  },
  {
   "cell_type": "markdown",
   "id": "secret-eugene",
   "metadata": {},
   "source": [
    "複数モデルからの選択"
   ]
  },
  {
   "cell_type": "code",
   "execution_count": 22,
   "id": "comfortable-joint",
   "metadata": {},
   "outputs": [],
   "source": [
    "from functools import partial\n",
    "\n",
    "import optuna\n",
    "from sklearn.ensemble import RandomForestClassifier\n",
    "from sklearn.model_selection import StratifiedKFold\n",
    "from sklearn.model_selection import cross_validate\n",
    "from sklearn.svm import SVC\n",
    "from sklearn import datasets\n",
    "\n",
    "optuna.logging.disable_default_handler()\n",
    "\n",
    "def objective(X, y, trial):\n",
    "    \"\"\"最小化する目的関数\"\"\"\n",
    "\n",
    "    # 使う分類器は SVM or RF\n",
    "    classifier = trial.suggest_categorical('classifier', ['SVC', 'RandomForestClassifier'])\n",
    "\n",
    "    # 選ばれた分類器で分岐する\n",
    "    if classifier == 'SVC':\n",
    "        # SVC のとき\n",
    "        params = {\n",
    "            'kernel': trial.suggest_categorical('kernel', ['rbf', 'sigmoid']),\n",
    "            'C': trial.suggest_loguniform('C', 1e+0, 1e+2),\n",
    "            'gamma': trial.suggest_loguniform('gamma', 1e-2, 1e+1),\n",
    "        }\n",
    "        model = SVC(**params)\n",
    "    else:\n",
    "        # RF のとき\n",
    "        params = {\n",
    "            'n_estimators': int(trial.suggest_int('n_estimators', 1e+2, 1e+3, log=True)),\n",
    "            'max_depth': int(trial.suggest_int('max_depth', 2, 32, log=True)),\n",
    "        }\n",
    "        model = RandomForestClassifier(**params)\n",
    "\n",
    "    kf = StratifiedKFold(n_splits=5, shuffle=True, random_state=42)\n",
    "    scores = cross_validate(model, X=X, y=y, cv=kf, n_jobs=-1)\n",
    "    return 1.0 - scores['test_score'].mean()"
   ]
  },
  {
   "cell_type": "code",
   "execution_count": 23,
   "id": "acute-raising",
   "metadata": {},
   "outputs": [
    {
     "name": "stdout",
     "output_type": "stream",
     "text": [
      "params: {'classifier': 'RandomForestClassifier', 'n_estimators': 745, 'max_depth': 14}\n"
     ]
    }
   ],
   "source": [
    "f = partial(objective, X_train, y_train)\n",
    "study = optuna.create_study()\n",
    "study.optimize(f, n_trials=100)\n",
    "print('params:', study.best_params)"
   ]
  },
  {
   "cell_type": "code",
   "execution_count": 38,
   "id": "pressed-avenue",
   "metadata": {},
   "outputs": [
    {
     "data": {
      "text/plain": [
       "{'n_estimators': 172, 'max_depth': 24}"
      ]
     },
     "execution_count": 38,
     "metadata": {},
     "output_type": "execute_result"
    }
   ],
   "source": [
    "d=study.best_params\n",
    "del d['classifier']\n",
    "d"
   ]
  },
  {
   "cell_type": "code",
   "execution_count": 40,
   "id": "typical-wayne",
   "metadata": {},
   "outputs": [
    {
     "data": {
      "text/plain": [
       "0.958041958041958"
      ]
     },
     "execution_count": 40,
     "metadata": {},
     "output_type": "execute_result"
    }
   ],
   "source": [
    "model = RandomForestClassifier(**d)\n",
    "model.fit(X_train, y_train)\n",
    "model.score(X_test, y_test)"
   ]
  },
  {
   "cell_type": "code",
   "execution_count": null,
   "id": "common-electricity",
   "metadata": {},
   "outputs": [],
   "source": []
  }
 ],
 "metadata": {
  "kernelspec": {
   "display_name": "Python 3",
   "language": "python",
   "name": "python3"
  },
  "language_info": {
   "codemirror_mode": {
    "name": "ipython",
    "version": 3
   },
   "file_extension": ".py",
   "mimetype": "text/x-python",
   "name": "python",
   "nbconvert_exporter": "python",
   "pygments_lexer": "ipython3",
   "version": "3.8.5"
  }
 },
 "nbformat": 4,
 "nbformat_minor": 5
}
