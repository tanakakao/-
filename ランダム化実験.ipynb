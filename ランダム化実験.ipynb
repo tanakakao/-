{
 "cells": [
  {
   "cell_type": "markdown",
   "id": "extraordinary-listing",
   "metadata": {},
   "source": [
    "### ランダム化実験\n",
    "#### 選択性バイアス\n",
    "授業の出席率と成績に相関が観察されたとして、その結果を因果関係とみなせるか。\n",
    "ある学生$i$について$Y_i$を最終試験の点数を表す変数、$T_i$を学生$i$の出席率が50%以上ならば1の値を、50%未満ならば0の値をとるダミー変数とおく。\n",
    "この授業の受講者数$n$は40人とし、データとして$\\{(Y_i,T_i):i=1,\\cdots,40\\}$が得られたとする。"
   ]
  },
  {
   "cell_type": "code",
   "execution_count": 17,
   "id": "engaged-reasoning",
   "metadata": {},
   "outputs": [
    {
     "data": {
      "text/html": [
       "<div>\n",
       "<style scoped>\n",
       "    .dataframe tbody tr th:only-of-type {\n",
       "        vertical-align: middle;\n",
       "    }\n",
       "\n",
       "    .dataframe tbody tr th {\n",
       "        vertical-align: top;\n",
       "    }\n",
       "\n",
       "    .dataframe thead th {\n",
       "        text-align: right;\n",
       "    }\n",
       "</style>\n",
       "<table border=\"1\" class=\"dataframe\">\n",
       "  <thead>\n",
       "    <tr style=\"text-align: right;\">\n",
       "      <th></th>\n",
       "      <th>Y</th>\n",
       "      <th>T</th>\n",
       "      <th>motiv</th>\n",
       "    </tr>\n",
       "  </thead>\n",
       "  <tbody>\n",
       "    <tr>\n",
       "      <th>0</th>\n",
       "      <td>65</td>\n",
       "      <td>0</td>\n",
       "      <td>10.620347</td>\n",
       "    </tr>\n",
       "    <tr>\n",
       "      <th>1</th>\n",
       "      <td>64</td>\n",
       "      <td>0</td>\n",
       "      <td>14.884956</td>\n",
       "    </tr>\n",
       "    <tr>\n",
       "      <th>2</th>\n",
       "      <td>76</td>\n",
       "      <td>1</td>\n",
       "      <td>22.914135</td>\n",
       "    </tr>\n",
       "    <tr>\n",
       "      <th>3</th>\n",
       "      <td>83</td>\n",
       "      <td>1</td>\n",
       "      <td>36.328312</td>\n",
       "    </tr>\n",
       "    <tr>\n",
       "      <th>4</th>\n",
       "      <td>54</td>\n",
       "      <td>0</td>\n",
       "      <td>8.067277</td>\n",
       "    </tr>\n",
       "  </tbody>\n",
       "</table>\n",
       "</div>"
      ],
      "text/plain": [
       "    Y  T      motiv\n",
       "0  65  0  10.620347\n",
       "1  64  0  14.884956\n",
       "2  76  1  22.914135\n",
       "3  83  1  36.328312\n",
       "4  54  0   8.067277"
      ]
     },
     "execution_count": 17,
     "metadata": {},
     "output_type": "execute_result"
    }
   ],
   "source": [
    "import pandas as pd\n",
    "\n",
    "data = pd.read_csv('C:/Users/tanak/study/参考書/Rによる実証分析/R_EmpiricalAnalysis/02 演習用データ集/Ch8.data.csv')\n",
    "data.head()"
   ]
  },
  {
   "cell_type": "code",
   "execution_count": 6,
   "id": "graduate-elder",
   "metadata": {},
   "outputs": [
    {
     "data": {
      "text/plain": [
       "(-1.0, 2.0)"
      ]
     },
     "execution_count": 6,
     "metadata": {},
     "output_type": "execute_result"
    },
    {
     "data": {
      "image/png": "[encoded data removed]",
      "text/plain": [
       "<Figure size 432x288 with 1 Axes>"
      ]
     },
     "metadata": {
      "needs_background": "light"
     },
     "output_type": "display_data"
    }
   ],
   "source": [
    "import matplotlib.pyplot as plt\n",
    "\n",
    "plt.plot(data['T'], data['Y'], 'o')\n",
    "plt.xlim(-1,2)"
   ]
  },
  {
   "cell_type": "code",
   "execution_count": 16,
   "id": "creative-tolerance",
   "metadata": {},
   "outputs": [
    {
     "data": {
      "text/html": [
       "<div>\n",
       "<style scoped>\n",
       "    .dataframe tbody tr th:only-of-type {\n",
       "        vertical-align: middle;\n",
       "    }\n",
       "\n",
       "    .dataframe tbody tr th {\n",
       "        vertical-align: top;\n",
       "    }\n",
       "\n",
       "    .dataframe thead th {\n",
       "        text-align: right;\n",
       "    }\n",
       "</style>\n",
       "<table border=\"1\" class=\"dataframe\">\n",
       "  <thead>\n",
       "    <tr style=\"text-align: right;\">\n",
       "      <th></th>\n",
       "      <th>count</th>\n",
       "      <th>mean</th>\n",
       "      <th>max</th>\n",
       "      <th>min</th>\n",
       "    </tr>\n",
       "    <tr>\n",
       "      <th>T</th>\n",
       "      <th></th>\n",
       "      <th></th>\n",
       "      <th></th>\n",
       "      <th></th>\n",
       "    </tr>\n",
       "  </thead>\n",
       "  <tbody>\n",
       "    <tr>\n",
       "      <th>0</th>\n",
       "      <td>21</td>\n",
       "      <td>57.047619</td>\n",
       "      <td>75</td>\n",
       "      <td>45</td>\n",
       "    </tr>\n",
       "    <tr>\n",
       "      <th>1</th>\n",
       "      <td>19</td>\n",
       "      <td>77.210526</td>\n",
       "      <td>95</td>\n",
       "      <td>63</td>\n",
       "    </tr>\n",
       "  </tbody>\n",
       "</table>\n",
       "</div>"
      ],
      "text/plain": [
       "   count       mean  max  min\n",
       "T                            \n",
       "0     21  57.047619   75   45\n",
       "1     19  77.210526   95   63"
      ]
     },
     "execution_count": 16,
     "metadata": {},
     "output_type": "execute_result"
    }
   ],
   "source": [
    "data.groupby('T')['Y'].agg(['count','mean','max','min'])"
   ]
  },
  {
   "cell_type": "markdown",
   "id": "artificial-antarctica",
   "metadata": {},
   "source": [
    "授業に出ているが学生は出ていない学生に比べ、平均的に20.16点高い成績をとっていることがわかる。\n",
    "「この20.16点という平均点の差が、純粋に授業出席の多い・少ないによって生じた差なのか」が知りたいことである。\n",
    "ここで疑似相関を考えると、授業の出席率と成績に同時に影響を与える要因として、まず学習意欲が挙げられる。\n",
    "学習意欲が高ければ積極的に授業に出席することでどれだけ効率的に学習できるかに影響を与えるものと考えられる。\n",
    "他にも出席率と生成器に影響する要因は多数存在すると考えられ、それらの影響をすべて考慮に入れない限り、回帰分析から因果関係を正確に特定することはできない。\n",
    "しかし、この結果は少なくとも「学生の学習意欲や学力が、授業の出席率と成績に同時に影響を与えている」ことを示している。\n",
    "出席率と成績の単純な相関関係を因果関係として解釈することは過大評価といえる。"
   ]
  },
  {
   "cell_type": "markdown",
   "id": "vertical-animal",
   "metadata": {},
   "source": [
    "各学生は2つのグループの伊瀬れかに属している。\n",
    "- トリートメントグループ($T=1$)：授業に50%以上出席\n",
    "- コントロールグループ($T=0$)：授業に50%未満出席\n",
    "\n",
    "ある学生$i(i=1,\\cdots,n)$がトリートメントグループに所属しているときの成績を$Y_{1i}$、コントロールグループに所属しているときの成績を$Y_{0i}$と書くことにする。\n",
    "\n",
    "$$\n",
    "Y_i=\\left\\{\n",
    "\\begin{array}{ll}\n",
    "Y_{1i} & if\\ T_i=1 \\\\\n",
    "Y_{0i} & if\\ T_i=0\n",
    "\\end{array}\n",
    "\\right.\n",
    "$$\n",
    "\n",
    "1つの式にまとめると、\n",
    "\n",
    "$$\n",
    "Y_i=T_iY_{1i}+(1-T_i)Y_{0i}\n",
    "$$\n",
    "\n",
    "と書ける。\n",
    "また、学生$i$が授業に50%以上出席することの因果的効果、すなわちトリートメント効果は\n",
    "\n",
    "$$\n",
    "Y_{1i}-Y_{0i}\n",
    "$$\n",
    "\n",
    "である。\n",
    "もしトリートメント効果が0の場合は、\n",
    "$$\n",
    "Y_{1i}=Y_{0i}\n",
    "$$\n",
    "\n",
    "だから、\n",
    "\n",
    "$$\n",
    "Y_i=Y_{1i}=Y_{0i}\n",
    "$$\n",
    "\n",
    "となる。\n",
    "\n",
    "ただし、一般的にトリートメント効果は個人によって異なる値をとる。\n",
    "また、それぞれの学生について、観測できるのは$Y_1$と$Y_0$のどちらか一方であり、個人レベルでのトリートメント効果を調べることは原理的に不可能である。\n",
    "そこで、特定の個人ではなく、トリートメントグループの平均的な成績と、コントロールグループの平均的な成績の差\n",
    "\n",
    "$$\n",
    "E[Y_i|T_i=1]-E[Y_i|T_i=0]\n",
    "$$\n",
    "\n",
    "について調べる。\n",
    "ここで、\n",
    "\n",
    "$$\n",
    "\\begin{align}\n",
    "E[Y_i|T_i=1]&=E[T_iY_{1i}+(1-T_i)Y_{0i}|T_i=1]\\\\\n",
    "&=E[1Y_{1i}+0Y_{0i}|T_i=1]\\\\\n",
    "&=E[Y_{1i}|T_i=1]\n",
    "\\end{align}\n",
    "$$\n",
    "\n",
    "同様に\n",
    "\n",
    "$$\n",
    "\\begin{align}\n",
    "E[Y_i|T_i=0]&=E[T_iY_{1i}+(1-T_i)Y_{0i}|T_i=0]\\\\\n",
    "&=E[0Y_{1i}+1Y_{0i}|T_i=0]\\\\\n",
    "&=E[Y_{0i}|T_i=0]\n",
    "\\end{align}\n",
    "$$\n",
    "\n",
    "であることに注意すると\n",
    "\n",
    "$$\n",
    "\\begin{align}\n",
    "E[Y_i|T_i=1]-E[Y_i|T_i=0]&=E[Y_{1i}|T_i=1]-E[Y_{0i}|T_i=0]\\\\\n",
    "&=E[Y_{1i}-Y_{0i}|T_i=1]+E[Y_{0i}|T_i=1]-E[Y_{0i}|T_i=0]\n",
    "\\end{align}\n",
    "$$\n",
    "\n",
    "右辺第1項は「出席率が50%以上の学生に対する、授業出席が成績にもたらす平均的なトリートメント効果」と解釈できる。\n",
    "このような「トリートメントグループに対する平均トリートメント効果」を、**ATET(またはATT)**と呼ぶ。\n",
    "\n",
    "特に、トリートメント効果がトリートメントグループとコントロールグループで平均的に等しい場合、\n",
    "\n",
    "$$\n",
    "E[Y_{1i}-Y_{0i}|T_i=1]=E[Y_{1i}-Y_{0i}|T_i=0]\n",
    "$$\n",
    "\n",
    "ならば、\n",
    "\n",
    "$$\n",
    "\\begin{align}\n",
    "E[Y_{1i}-Y_{0i}]&=E[Y_{1i}-Y_{0i}|T_i=1]P(T_i=1)+E[Y_{1i}-Y_{0i}|T_i=0]P(T_i=0)\\\\\n",
    "&=E[Y_{1i}-Y_{0i}|T_i=1]\\{P(T_i=1)+P(T_i=0) \\}\\\\\n",
    "&=E[Y_{1i}-Y_{0i}|T_i=1]\n",
    "\\end{align}\n",
    "$$\n",
    "\n",
    "となり、ATETは平均トリートメント効果(ATE)と等しくなる。\n",
    "\n",
    "右辺第2項は「出席率が50%以上であった学生が、仮想的に授業に出席しなかった場合に得られる平均的な成績と、実際に出席率が50%未満であった学生の平均的な成績の差」を表す。この項を**選択性バイアス**と呼ぶ。\n",
    "\n",
    "第2項と第3項は仮想的な$E[Y_{0i}|T_i=1]$を含んでいるため、データから予測できない。\n",
    "もし選択性バイアスが0ならば、ATETは$E[Y_i|T_i=1]-E[Y_i|T_i=0]$と等しくなる。\n",
    "正の選択性バイアスが存在する場合、因果効果としては過大評価になる。\n",
    "ATETが仮に0あるいは負であったとしても、それを上回る正の選択性バイアスが存在するならば、観測される出席率と成績の相関関係は正になる。\n",
    "負の選択性バイアスが存在する場合、因果効果としては過小評価になる。\n",
    "ATETが仮に0あるいは正であったとしても、観測される出席率と成績の相関関係は負になる場合がある。\n",
    "すなわち、選択性バイアスがゼロでないかぎり、相関関係を観察しただけでは、因果関係の強弱だけでなく、符号さえもわからない。\n",
    "選択性バイアスは、一般的にトリートメントの状態を各個人が自ら選択できるときに生じる。\n",
    "そこで、トリートメントの状態をランダムに決めれば選択性バイアスは除去されるはずである。\n",
    "このように、各個人のトリートメントの状態をランダム化したうえでデータを取得する方法を、**ランダム化実験**と呼ぶ。"
   ]
  },
  {
   "cell_type": "markdown",
   "id": "applicable-iceland",
   "metadata": {},
   "source": [
    "### ランダム化実験\n",
    "#### 選択性バイアスの除去\n",
    "ランダムにトリートメントを割り当てることで、すべての個人$i(i=1,\\cdots,n)$について、トリートメント$T_i$と潜在的な成果$Y_{1i},Y_{0i}$は独立となる。\n",
    "出席率と成績の文脈でいうと「授業に50%以上/未満出席したときに得られる成績と、実際に授業に50%以上/未満出席するかは無関係」と解釈できる。\n",
    "ランダム化実験の下では以下が成立する。\n",
    "$$\n",
    "E[Y_{1i}|T_i=1]=E[Y_{1i}|T_i=0]\\\\\n",
    "E[Y_{0i}|T_i=1]=E[Y_{0i}|T_i=0]\n",
    "$$\n",
    "2行目の式は「選択性バイアスがゼロ」ということを意味するので、\n",
    "$$\n",
    "E[Y_i|T_i=1]-E[Y_i|T_i=0]=E[Y_{1i}-Y_{0i}|T_i=1]\n",
    "$$\n",
    "となり、各グループで観測できる$Y$の平均値の差を、因果的効果(ATET)と見なすことができる。\n",
    "ランダム化実験を用いれば、単純に各グループの平均値の差を調べるだけで、平均トリートメント効果(ATE)を求めることができる。\n",
    "\n",
    "#### 回帰分析による因果的効果の推定\n",
    "ランダム化実験を用いて取得したデータに対して、回帰分析は因果的効果を推定する有効な手法となる。\n",
    "ここでは、説明の簡略化のため、各個人のトリートメント効果はある値$\\beta$に等しいものとする。\n",
    "$$\n",
    "Y_{1i}-Y_{0i}=\\beta,\\hspace{5mm}1,\\cdots,n\n",
    "$$\n",
    "これを、\n",
    "$$\n",
    "Y_i=T_iY_{1i}+(1-T_i)Y_{0i}\n",
    "$$\n",
    "に代入することで、\n",
    "$$\n",
    "\\begin{align}\n",
    "Y_i&=Y_{0i}+\\beta・T_i\\\\\n",
    "&=E[Y_{0i}]+\\beta・T_i+Y_{0i}-E[Y_{0i}]\\\\\n",
    "&=\\alpha+\\beta・T_i+\\varepsilon_i\n",
    "\\end{align}\n",
    "$$\n",
    "と単回帰モデルの形で書き表すことができる。\n",
    "ただし、\n",
    "$$\n",
    "\\alpha=E[Y_{0i}]\\\\\n",
    "\\varepsilon_i=Y_{0i}-E[Y_{0i}]\n",
    "$$\n",
    "とする。\n",
    "単回帰モデルを最小二乗法によって推定し得られる$T$の回帰係数$\\hat{\\beta}$は、各グループにおける$Y$の算術平均値の差に数値的に等しくなる。すなわち、\n",
    "$$\n",
    "最小二乗推定量\\hat{\\beta}=\\frac{\\sum_{i=1}^nT_iY_i}{\\sum_{i=1}^nT_i}-\\frac{\\sum_{i=1}^n(1-T_i)Y_i}{\\sum_{i=1}^n(1-T_i)}\n",
    "$$\n",
    "という関係式が成立している。(参考書参照)"
   ]
  },
  {
   "cell_type": "code",
   "execution_count": 26,
   "id": "hawaiian-blair",
   "metadata": {},
   "outputs": [
    {
     "name": "stdout",
     "output_type": "stream",
     "text": [
      "                            OLS Regression Results                            \n",
      "==============================================================================\n",
      "Dep. Variable:                      Y   R-squared:                       0.580\n",
      "Model:                            OLS   Adj. R-squared:                  0.569\n",
      "Method:                 Least Squares   F-statistic:                     52.52\n",
      "Date:                Sat, 09 Apr 2022   Prob (F-statistic):           1.14e-08\n",
      "Time:                        09:50:12   Log-Likelihood:                -142.66\n",
      "No. Observations:                  40   AIC:                             289.3\n",
      "Df Residuals:                      38   BIC:                             292.7\n",
      "Df Model:                           1                                         \n",
      "Covariance Type:            nonrobust                                         \n",
      "==============================================================================\n",
      "                 coef    std err          t      P>|t|      [0.025      0.975]\n",
      "------------------------------------------------------------------------------\n",
      "const         57.0476      1.918     29.751      0.000      53.166      60.929\n",
      "T             20.1629      2.782      7.247      0.000      14.531      25.795\n",
      "==============================================================================\n",
      "Omnibus:                        2.958   Durbin-Watson:                   2.184\n",
      "Prob(Omnibus):                  0.228   Jarque-Bera (JB):                1.843\n",
      "Skew:                           0.290   Prob(JB):                        0.398\n",
      "Kurtosis:                       2.123   Cond. No.                         2.56\n",
      "==============================================================================\n",
      "\n",
      "Notes:\n",
      "[1] Standard Errors assume that the covariance matrix of the errors is correctly specified.\n"
     ]
    }
   ],
   "source": [
    "import  statsmodels.api as sm\n",
    "\n",
    "# 回帰モデル\n",
    "df_X = sm.add_constant(data[['T']])\n",
    "df_y = data['Y']\n",
    "\n",
    "model = sm.OLS(df_y, df_X)\n",
    "result = model.fit()\n",
    "print(result.summary())"
   ]
  },
  {
   "cell_type": "code",
   "execution_count": 30,
   "id": "lasting-windows",
   "metadata": {},
   "outputs": [
    {
     "data": {
      "text/plain": [
       "20.16290726817043"
      ]
     },
     "execution_count": 30,
     "metadata": {},
     "output_type": "execute_result"
    }
   ],
   "source": [
    "# 平均値の差\n",
    "sum(data['T']*data['Y'])/sum(data['T']) - sum((1-data['T'])*data['Y'])/sum(1-data['T'])"
   ]
  },
  {
   "cell_type": "markdown",
   "id": "moderate-litigation",
   "metadata": {},
   "source": [
    "回帰分s系による$T$の係数の推定値と、各グループにおける$Y$の算術平均値の差は等しい値となっている。"
   ]
  },
  {
   "cell_type": "markdown",
   "id": "practical-publisher",
   "metadata": {},
   "source": [
    "回帰分析の結果を因果関係として解釈するためには、説明変数と誤差項の無相関が必要条件となる。\n",
    "実際、ランダム化実験の下では、トリートメントと潜在的な成果の独立性が成立するため、\n",
    "$$\n",
    "\\begin{align}\n",
    "E[T_i\\varepsilon_i]&=E[T_i(Y_{0i}-E[Y_{0i}])]\\\\\n",
    "&=E[T_iY_{0i}]-E[T_i]E[Y_{0i}](=Cov(T_i,Y_{0i}))\\\\\n",
    "&=0\n",
    "\\end{align}\n",
    "$$\n",
    "となり、$T_i$と$\\varepsilon_i$は相関しない。\n",
    "\n",
    "通常、成績は授業への出席だけでなく、学生自身の学習意欲や能力によっても決まる。\n",
    "これらの要因を新たな説明変数$X_1,\\cdots,X_k$とし、データとして$\\{(Y_i,T_i,X_{i1},\\cdots,X_{ki}):i=1,\\cdots,n\\}$が観測されているとする。\n",
    "ここで、単回帰モデルを修正し、重回帰モデル\n",
    "$$\n",
    "Y_i = \\alpha + T_i\\beta + X_{1i}\\gamma_1+\\cdots+X_{ki}\\gamma_k+\\varepsilon_i\n",
    "$$\n",
    "の推定を考える。\n",
    "トリートメントが完全にランダムに割り振られているならば、すべての個人$i(i=1,\\cdots,n)$について、トリートメント$T_i$は説明変数$X_{1i},\\cdots,X_{ki}$とも独立になる。\n",
    "したがって、重回帰モデルから得られる$\\beta$の推定値は、単回帰モデルから推定された$\\beta$と近い値となるはずである。\n",
    "逆に、それらの値が大きく異なるのであれば、それは「トリートメント$T_i$が説明変数$X_{1i},\\cdots,X_{ki}$と独立に割り振られていない」ということを意味する。"
   ]
  },
  {
   "cell_type": "code",
   "execution_count": 32,
   "id": "pediatric-department",
   "metadata": {},
   "outputs": [
    {
     "name": "stdout",
     "output_type": "stream",
     "text": [
      "                            OLS Regression Results                            \n",
      "==============================================================================\n",
      "Dep. Variable:                      Y   R-squared:                       0.666\n",
      "Model:                            OLS   Adj. R-squared:                  0.647\n",
      "Method:                 Least Squares   F-statistic:                     36.81\n",
      "Date:                Sat, 09 Apr 2022   Prob (F-statistic):           1.59e-09\n",
      "Time:                        11:03:17   Log-Likelihood:                -138.12\n",
      "No. Observations:                  40   AIC:                             282.2\n",
      "Df Residuals:                      37   BIC:                             287.3\n",
      "Df Model:                           2                                         \n",
      "Covariance Type:            nonrobust                                         \n",
      "==============================================================================\n",
      "                 coef    std err          t      P>|t|      [0.025      0.975]\n",
      "------------------------------------------------------------------------------\n",
      "const         48.8079      3.194     15.280      0.000      42.336      55.280\n",
      "T              6.0280      5.245      1.149      0.258      -4.599      16.655\n",
      "motiv          0.7266      0.237      3.072      0.004       0.247       1.206\n",
      "==============================================================================\n",
      "Omnibus:                        3.344   Durbin-Watson:                   2.016\n",
      "Prob(Omnibus):                  0.188   Jarque-Bera (JB):                1.562\n",
      "Skew:                          -0.006   Prob(JB):                        0.458\n",
      "Kurtosis:                       2.032   Cond. No.                         105.\n",
      "==============================================================================\n",
      "\n",
      "Notes:\n",
      "[1] Standard Errors assume that the covariance matrix of the errors is correctly specified.\n"
     ]
    }
   ],
   "source": [
    "# 回帰モデル\n",
    "df_X2 = sm.add_constant(data[['T','motiv']])\n",
    "df_y = data['Y']\n",
    "\n",
    "model2 = sm.OLS(df_y, df_X2)\n",
    "result2 = model2.fit()\n",
    "print(result2.summary())"
   ]
  },
  {
   "cell_type": "markdown",
   "id": "industrial-commerce",
   "metadata": {},
   "source": [
    "単回帰モデルでは20.16であった$T$の回帰係数の推定値は、6.028まで小さくなり、$t$の値も有意とは言えない。\n",
    "一方、motivのt値は有意となっている。\n",
    "このことから、観察された出席率と成績の正の相関関係は、学習意欲を表す変数motivと出席率$T$との間の相関によってもたらされた、単なる疑似相関であったことがわかった。"
   ]
  },
  {
   "cell_type": "markdown",
   "id": "advised-executive",
   "metadata": {},
   "source": [
    "#### ランダム化実験の注意点\n",
    "##### サンプルの欠落\n",
    "実験の期間が長いとき、サンプルの欠落の可能性が考えられる。\n",
    "サンプルの欠落がトリートメントの状態と独立に生じているのであれば、大きな問題ではない。\n",
    "そうでない場合、トリートメントの割り当てがランダムであったとしても、推定結果はバイアスを伴う。\n",
    "##### サンプルの代表性\n",
    "推測統計の原則として、サンプルから母集団の値を正確に推定するためには、サンプルの代表性が求められる。\n",
    "もっとも代表性の高いサンプリングの方法は、無作為抽出である。\n",
    "##### ホーソン効果\n",
    "実験に参加していると意識すること自体が、行動に影響を及ぼす」という現象を総称してホーソン効果と呼ぶ。"
   ]
  },
  {
   "cell_type": "code",
   "execution_count": null,
   "id": "alive-healing",
   "metadata": {},
   "outputs": [],
   "source": []
  },
  {
   "cell_type": "code",
   "execution_count": null,
   "id": "japanese-horizon",
   "metadata": {},
   "outputs": [],
   "source": []
  },
  {
   "cell_type": "code",
   "execution_count": null,
   "id": "buried-hometown",
   "metadata": {},
   "outputs": [],
   "source": []
  },
  {
   "cell_type": "code",
   "execution_count": null,
   "id": "killing-symposium",
   "metadata": {},
   "outputs": [],
   "source": []
  }
 ],
 "metadata": {
  "kernelspec": {
   "display_name": "Python 3",
   "language": "python",
   "name": "python3"
  },
  "language_info": {
   "codemirror_mode": {
    "name": "ipython",
    "version": 3
   },
   "file_extension": ".py",
   "mimetype": "text/x-python",
   "name": "python",
   "nbconvert_exporter": "python",
   "pygments_lexer": "ipython3",
   "version": "3.8.5"
  }
 },
 "nbformat": 4,
 "nbformat_minor": 5
}
