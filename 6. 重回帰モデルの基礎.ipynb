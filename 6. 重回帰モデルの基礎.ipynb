{
 "cells": [
  {
   "cell_type": "code",
   "execution_count": 1,
   "id": "cardiac-poison",
   "metadata": {},
   "outputs": [
    {
     "name": "stdout",
     "output_type": "stream",
     "text": [
      "C:\\Users\\tanak\\study\\参考書\\統計的因果推論\\causality-main\n"
     ]
    }
   ],
   "source": [
    "%cd C:\\Users\\tanak\\study\\参考書\\統計的因果推論\\causality-main\n",
    "import pandas as pd"
   ]
  },
  {
   "cell_type": "markdown",
   "id": "excessive-classification",
   "metadata": {},
   "source": [
    "### データ\n",
    "1人当たりの国内総生産(GDP)を交絡因子の候補として使用し、ノーベル賞受賞者数とチョコレート消費量の関係について検証する。\n",
    "変数y1は、人口1千万人当たりのノーベル賞受賞者数である。変数x1は、人口1人当たりの年間のチョコレート消費量(kg)である。変数x2は1人当たりの国内総生産(単位：1000米ドル)である。"
   ]
  },
  {
   "cell_type": "code",
   "execution_count": 4,
   "id": "intensive-porcelain",
   "metadata": {},
   "outputs": [
    {
     "data": {
      "text/html": [
       "<div>\n",
       "<style scoped>\n",
       "    .dataframe tbody tr th:only-of-type {\n",
       "        vertical-align: middle;\n",
       "    }\n",
       "\n",
       "    .dataframe tbody tr th {\n",
       "        vertical-align: top;\n",
       "    }\n",
       "\n",
       "    .dataframe thead th {\n",
       "        text-align: right;\n",
       "    }\n",
       "</style>\n",
       "<table border=\"1\" class=\"dataframe\">\n",
       "  <thead>\n",
       "    <tr style=\"text-align: right;\">\n",
       "      <th></th>\n",
       "      <th>y1</th>\n",
       "      <th>x1</th>\n",
       "      <th>x2</th>\n",
       "    </tr>\n",
       "  </thead>\n",
       "  <tbody>\n",
       "    <tr>\n",
       "      <th>count</th>\n",
       "      <td>23.000000</td>\n",
       "      <td>23.000000</td>\n",
       "      <td>23.000000</td>\n",
       "    </tr>\n",
       "    <tr>\n",
       "      <th>mean</th>\n",
       "      <td>9.747739</td>\n",
       "      <td>4.869565</td>\n",
       "      <td>44.704478</td>\n",
       "    </tr>\n",
       "    <tr>\n",
       "      <th>std</th>\n",
       "      <td>9.124687</td>\n",
       "      <td>2.369011</td>\n",
       "      <td>20.999829</td>\n",
       "    </tr>\n",
       "    <tr>\n",
       "      <th>min</th>\n",
       "      <td>0.000000</td>\n",
       "      <td>0.100000</td>\n",
       "      <td>8.755000</td>\n",
       "    </tr>\n",
       "    <tr>\n",
       "      <th>25%</th>\n",
       "      <td>1.961321</td>\n",
       "      <td>4.000000</td>\n",
       "      <td>31.453000</td>\n",
       "    </tr>\n",
       "    <tr>\n",
       "      <th>50%</th>\n",
       "      <td>8.643573</td>\n",
       "      <td>4.900000</td>\n",
       "      <td>46.232000</td>\n",
       "    </tr>\n",
       "    <tr>\n",
       "      <th>75%</th>\n",
       "      <td>13.856512</td>\n",
       "      <td>6.200000</td>\n",
       "      <td>53.908000</td>\n",
       "    </tr>\n",
       "    <tr>\n",
       "      <th>max</th>\n",
       "      <td>30.763108</td>\n",
       "      <td>8.800000</td>\n",
       "      <td>85.135000</td>\n",
       "    </tr>\n",
       "  </tbody>\n",
       "</table>\n",
       "</div>"
      ],
      "text/plain": [
       "              y1         x1         x2\n",
       "count  23.000000  23.000000  23.000000\n",
       "mean    9.747739   4.869565  44.704478\n",
       "std     9.124687   2.369011  20.999829\n",
       "min     0.000000   0.100000   8.755000\n",
       "25%     1.961321   4.000000  31.453000\n",
       "50%     8.643573   4.900000  46.232000\n",
       "75%    13.856512   6.200000  53.908000\n",
       "max    30.763108   8.800000  85.135000"
      ]
     },
     "execution_count": 4,
     "metadata": {},
     "output_type": "execute_result"
    }
   ],
   "source": [
    "data = pd.read_csv('data06.csv')\n",
    "data.describe()"
   ]
  },
  {
   "cell_type": "markdown",
   "id": "loaded-transformation",
   "metadata": {},
   "source": [
    "### 分散\n",
    "変数$Y$の不偏分散は、\n",
    "$$\n",
    "var[Y_i]=\\frac{1}{n-1}\\sum_{i=1}^n(Y_i-\\bar{Y})^2\n",
    "$$\n",
    "分散の分子である偏差平方和は、変数$Y$の総和変動(TSS)を表している。"
   ]
  },
  {
   "cell_type": "code",
   "execution_count": 17,
   "id": "private-purple",
   "metadata": {},
   "outputs": [
    {
     "name": "stdout",
     "output_type": "stream",
     "text": [
      "tss        1831.71823454121\n",
      "tss/(n1-1) 83.25991975187318\n",
      "var(y1)    83.25991975187318\n"
     ]
    }
   ],
   "source": [
    "import numpy as np\n",
    "\n",
    "n = len(data)\n",
    "\n",
    "hensa = data.y1 - data.y1.mean()\n",
    "hensa2 = hensa**2\n",
    "tss = hensa2.sum()\n",
    "print('tss       ', tss)\n",
    "print('tss/(n1-1)', tss/(n-1))\n",
    "print('var(y1)   ', data.y1.var(ddof=1))"
   ]
  },
  {
   "cell_type": "markdown",
   "id": "micro-microwave",
   "metadata": {},
   "source": [
    "### ESSとUSS\n",
    "まず単回帰モデル$\\hat{Y}_i=\\hat{\\beta}_0+\\hat{\\beta}_1X_{1i}$を考える。\n",
    "各国の経済力は考慮せず、チョコレートの消費量がノーベル賞受賞者数にどれくらいの効果を持っているかを調べる。\n",
    "最小二乗の条件を満たす$\\hat{\\beta}_0,\\hat{\\beta}_1$は次のようになる。\n",
    "$$\n",
    "\\hat{\\beta}_0=\\frac{\\sum (X_i-\\bar{X})(Y_i-\\bar{Y})}{\\sum(X_i-\\bar{X})^2}\\\\\n",
    "\\hat{\\beta}_1=\\bar{Y}-\\hat{\\beta}_1\\bar{X}\n",
    "$$"
   ]
  },
  {
   "cell_type": "code",
   "execution_count": 22,
   "id": "eastern-wilderness",
   "metadata": {},
   "outputs": [
    {
     "name": "stdout",
     "output_type": "stream",
     "text": [
      "                            OLS Regression Results                            \n",
      "==============================================================================\n",
      "Dep. Variable:                     y1   R-squared:                       0.493\n",
      "Model:                            OLS   Adj. R-squared:                  0.469\n",
      "Method:                 Least Squares   F-statistic:                     20.42\n",
      "Date:                Tue, 21 Jun 2022   Prob (F-statistic):           0.000188\n",
      "Time:                        15:14:05   Log-Likelihood:                -75.166\n",
      "No. Observations:                  23   AIC:                             154.3\n",
      "Df Residuals:                      21   BIC:                             156.6\n",
      "Df Model:                           1                                         \n",
      "Covariance Type:            nonrobust                                         \n",
      "==============================================================================\n",
      "                 coef    std err          t      P>|t|      [0.025      0.975]\n",
      "------------------------------------------------------------------------------\n",
      "const         -3.4217      3.227     -1.060      0.301     -10.133       3.290\n",
      "x1             2.7044      0.598      4.519      0.000       1.460       3.949\n",
      "==============================================================================\n",
      "Omnibus:                        4.380   Durbin-Watson:                   1.951\n",
      "Prob(Omnibus):                  0.112   Jarque-Bera (JB):                2.860\n",
      "Skew:                           0.850   Prob(JB):                        0.239\n",
      "Kurtosis:                       3.311   Cond. No.                         12.9\n",
      "==============================================================================\n",
      "\n",
      "Notes:\n",
      "[1] Standard Errors assume that the covariance matrix of the errors is correctly specified.\n"
     ]
    },
    {
     "data": {
      "text/plain": [
       "Text(0, 0.5, 'y1')"
      ]
     },
     "execution_count": 22,
     "metadata": {},
     "output_type": "execute_result"
    },
    {
     "data": {
      "image/png": "[encoded data removed]",
      "text/plain": [
       "<Figure size 432x288 with 1 Axes>"
      ]
     },
     "metadata": {
      "needs_background": "light"
     },
     "output_type": "display_data"
    }
   ],
   "source": [
    "import statsmodels.api as sm\n",
    "import matplotlib.pyplot as plt\n",
    "\n",
    "df_X = sm.add_constant(data[['x1']])\n",
    "df_y = data['y1']\n",
    "\n",
    "model = sm.OLS(df_y, df_X)\n",
    "result = model.fit()\n",
    "print(result.summary())\n",
    "\n",
    "plt.scatter(data.x1, data.y1, alpha=.5)\n",
    "plt.xlabel('x1')\n",
    "plt.ylabel('y1')"
   ]
  },
  {
   "cell_type": "markdown",
   "id": "democratic-publisher",
   "metadata": {},
   "source": [
    "この結果から、人口1人当たりのチョコレート消費量が1kg多いと、人口1千万人当たりのノーベル賞受賞者は平均して約27044人多いと解釈できる。\n",
    "次の式はESSであり、$X_1$を説明変数とする単回帰モデルから説明できる$Y$の変動部分である。\n",
    "$$\n",
    "ESS=\\sum_{i=1}^n(\\hat{Y}_i-\\bar{Y})^2\n",
    "$$"
   ]
  },
  {
   "cell_type": "code",
   "execution_count": 31,
   "id": "abroad-logistics",
   "metadata": {},
   "outputs": [
    {
     "name": "stdout",
     "output_type": "stream",
     "text": [
      "yhat1\n",
      " [ 9.82986 18.48394 11.72294 -0.17642  7.3959  -3.15126  9.82986 11.18206\n",
      "  8.20722 17.94306  3.3393  17.94306  7.3959  -0.17642 10.37074 12.26382\n",
      " 11.99338  1.9871   7.3959  14.42734 20.37702 17.13174  8.47766]\n",
      "ESS 903.0227986732095\n",
      "predict\n",
      " [ 9.83004809 18.48421881 11.72314793 -0.17633681  7.39606257 -3.15120799\n",
      "  9.83004809 11.18226226  8.20739108 17.94333314  3.33942005 17.94333314\n",
      "  7.39606257 -0.17633681 10.37093376 12.2640336  11.99359077  1.98720587\n",
      "  7.39606257 14.42757628 20.37731865 17.13200463  8.47783391]\n"
     ]
    }
   ],
   "source": [
    "yhat1 = -3.4217 + 2.7044 * data.x1\n",
    "yhat2 = (yhat1 - data.y1.mean())**2\n",
    "ess = yhat2.sum()\n",
    "print('yhat1\\n', yhat1.ravel())\n",
    "print('ESS', ess)\n",
    "# predictを使ってもよい\n",
    "print('predict\\n',result.predict(df_X).ravel())"
   ]
  },
  {
   "cell_type": "markdown",
   "id": "infectious-flush",
   "metadata": {},
   "source": [
    "次の式はUSSであり、$X_1$を説明変数とする単回帰モデルから説明できない$Y$の変動部分であり、残差平方和である。\n",
    "$$\n",
    "USS=\\sum_{i=1}^n(Y_i-\\hat{Y}_i)^2=\\sum_{i=1}^ne_i^2\n",
    "$$"
   ]
  },
  {
   "cell_type": "code",
   "execution_count": 40,
   "id": "selected-tenant",
   "metadata": {},
   "outputs": [
    {
     "name": "stdout",
     "output_type": "stream",
     "text": [
      "e1\n",
      " [ -5.9585345   -2.82540172  -3.07936723   0.17642     -3.22203374\n",
      "   3.17250979  12.41766355  -3.92178344   0.83960101  -7.96170361\n",
      "  -1.47337858  -5.88857372  -4.86079432   2.15698561  -0.71997342\n",
      "   8.11106303 -10.1600554   -0.04502284  -6.12992292  16.33576773\n",
      "   8.42187044   1.6514565    2.96751395]\n",
      "uss 928.6765050876865\n",
      "resid\n",
      " [ -5.95872259  -2.82568053  -3.07957516   0.17633681  -3.22219631\n",
      "   3.17245778  12.41747546  -3.9219857    0.83942993  -7.96197675\n",
      "  -1.47349863  -5.88884686  -4.86095689   2.15690242  -0.72016718\n",
      "   8.11084943 -10.16026616  -0.04512871  -6.13008549  16.33553145\n",
      "   8.42157179   1.65119187   2.96734004]\n"
     ]
    }
   ],
   "source": [
    "e1 = data.y1 - yhat1\n",
    "e2 = e1**2\n",
    "uss = e2.sum()\n",
    "print('e1\\n',e1.ravel())\n",
    "print('uss',uss)\n",
    "# residで確認できる\n",
    "print('resid\\n',result.resid.ravel())"
   ]
  },
  {
   "cell_type": "markdown",
   "id": "brazilian-racing",
   "metadata": {},
   "source": [
    "### 決定係数\n",
    "次の式は決定係数を表す。\n",
    "$$\n",
    "R^2=1-\\frac{\\sum(Y_i-\\hat{Y})^2}{\\sum(Y_i-\\bar{Y})^2}=1-\\frac{USS}{TSS}\n",
    "$$\n"
   ]
  },
  {
   "cell_type": "code",
   "execution_count": 51,
   "id": "employed-relevance",
   "metadata": {},
   "outputs": [
    {
     "name": "stdout",
     "output_type": "stream",
     "text": [
      "r2  0.4930025330449954\n",
      "r2  0.4930025335393128\n"
     ]
    }
   ],
   "source": [
    "r2 = 1 - uss/tss\n",
    "print('r2 ',r2)\n",
    "# こちらでもよい\n",
    "print('r2 ',result.rsquared)"
   ]
  },
  {
   "cell_type": "markdown",
   "id": "civil-refrigerator",
   "metadata": {},
   "source": [
    "この値は、$X_1$を説明変数とする単回帰モデルから説明できる$Y$の変動部分の割合であるから、「チョコレート消費量を説明変数とする単回帰モデルから、ノーベル賞受賞者数の変動の約49.30%を説明できる」と解釈できる。\n",
    "### 回帰係数の標準偏差と回帰の標準誤差\n",
    "回帰係数$\\hat{\\beta}_1$の標準誤差は、次の式となる。\n",
    "$$\n",
    "\\begin{align}\n",
    "s.e.(\\hat{\\beta}_1)&=\\frac{s_{reg}}{\\sqrt{\\sum(X_i-\\bar{X})^2}}\\\\\n",
    "s_{reg}&=\\sqrt{\\frac{\\sum(Y_i-\\hat{Y}_i)^2}{n-k}}=\\sqrt{\\frac{USS}{n-k}}\n",
    "\\end{align}\n",
    "$$\n",
    "分母は説明変数がどれくらいばらついているかを表している。分子$s_{reg}$は、回帰の標準誤差である。\n",
    "また、回帰の標準誤差の分子は、USSである。なお、$n-k$は自由度を表し、$k$は推定すべき母数の個数を表す。"
   ]
  },
  {
   "cell_type": "markdown",
   "id": "available-luxury",
   "metadata": {},
   "source": [
    "### 三変数の重回帰モデル\n",
    "$Y_i=\\beta_0+\\beta_1X_{1i}+\\beta_2X_{2i}+\\varepsilon_i$における$\\beta_1$の偏りのない推定を行うことを考える。\n",
    "$X_1$と$X_2$には交絡があるとし、それを$A$とする。\n",
    "ここでは、$A$を取り除いて、$X_1$から$Y$への純粋な効果を測る方法を考察する。\n",
    "三変数の重回帰モデルにおける$\\beta_1,\\beta_2,\\beta_0$の最小二乗による推定方法は、\n",
    "$$\n",
    "\\begin{align}\n",
    "\\hat{\\beta}_1&=\\frac{\\sum (X_{1i}-\\hat{X}_{1i})(Y_i-\\bar{Y})}{\\sum(X_{1i}-\\hat{X}_{1i})^2}\\\\\n",
    "\\hat{\\beta}_2&=\\frac{\\sum (X_{2i}-\\hat{X}_{2i})(Y_i-\\bar{Y})}{\\sum(X_{2i}-\\hat{X}_{2i})^2}\\\\\n",
    "\\hat{\\beta}_0&=\\bar{Y}-\\hat{\\beta}_1\\bar{X}_1-\\hat{\\beta}_2\\bar{X}_2\n",
    "\\end{align}\n",
    "$$\n",
    "である。\n",
    "ここで、$\\hat{X}_{1i}=a_1+b_1X_{2i}$である。すなわち、三変数の重回帰モデルは二段階で分析を行っている。\n",
    "まず、単回帰モデル$\\hat{X}_{1i}=a_1+b_1X_{2i}$を作り、$X_{2i}$から予測値$\\hat{X}_{1i}$を計算する、次に残差$X_{1i}-\\hat{X}_{1i}$計算して、この残差部分から$Y$への回帰を行っている。"
   ]
  },
  {
   "cell_type": "code",
   "execution_count": 59,
   "id": "considered-gallery",
   "metadata": {},
   "outputs": [],
   "source": [
    "df_X1 = sm.add_constant(data[['x2']])\n",
    "df_y1 = data['x1']\n",
    "\n",
    "model1 =  sm.OLS(df_y1, df_X1)\n",
    "result1 = model1.fit()\n",
    "ex1 = result1.resid\n",
    "\n",
    "df_X2 = sm.add_constant(data[['x1','x2']])\n",
    "df_y2 = data['y1']\n",
    "\n",
    "model2 = sm.OLS(df_y2, ex1)\n",
    "result2 = model2.fit()\n",
    "\n",
    "model3 = sm.OLS(df_y2, df_X2)\n",
    "result3 = model3.fit()"
   ]
  },
  {
   "cell_type": "code",
   "execution_count": 60,
   "id": "million-variation",
   "metadata": {},
   "outputs": [
    {
     "name": "stdout",
     "output_type": "stream",
     "text": [
      "                            OLS Regression Results                            \n",
      "==============================================================================\n",
      "Dep. Variable:                     x1   R-squared:                       0.479\n",
      "Model:                            OLS   Adj. R-squared:                  0.454\n",
      "Method:                 Least Squares   F-statistic:                     19.32\n",
      "Date:                Tue, 21 Jun 2022   Prob (F-statistic):           0.000253\n",
      "Time:                        23:18:30   Log-Likelihood:                -44.461\n",
      "No. Observations:                  23   AIC:                             92.92\n",
      "Df Residuals:                      21   BIC:                             95.19\n",
      "Df Model:                           1                                         \n",
      "Covariance Type:            nonrobust                                         \n",
      "==============================================================================\n",
      "                 coef    std err          t      P>|t|      [0.025      0.975]\n",
      "------------------------------------------------------------------------------\n",
      "const          1.3788      0.874      1.577      0.130      -0.439       3.196\n",
      "x2             0.0781      0.018      4.395      0.000       0.041       0.115\n",
      "==============================================================================\n",
      "Omnibus:                        0.848   Durbin-Watson:                   2.142\n",
      "Prob(Omnibus):                  0.655   Jarque-Bera (JB):                0.731\n",
      "Skew:                           0.395   Prob(JB):                        0.694\n",
      "Kurtosis:                       2.629   Cond. No.                         118.\n",
      "==============================================================================\n",
      "\n",
      "Notes:\n",
      "[1] Standard Errors assume that the covariance matrix of the errors is correctly specified.\n"
     ]
    }
   ],
   "source": [
    "print(result1.summary())"
   ]
  },
  {
   "cell_type": "code",
   "execution_count": 61,
   "id": "periodic-regression",
   "metadata": {},
   "outputs": [
    {
     "name": "stdout",
     "output_type": "stream",
     "text": [
      "                                 OLS Regression Results                                \n",
      "=======================================================================================\n",
      "Dep. Variable:                     y1   R-squared (uncentered):                   0.036\n",
      "Model:                            OLS   Adj. R-squared (uncentered):             -0.008\n",
      "Method:                 Least Squares   F-statistic:                             0.8275\n",
      "Date:                Tue, 21 Jun 2022   Prob (F-statistic):                       0.373\n",
      "Time:                        23:18:38   Log-Likelihood:                         -91.584\n",
      "No. Observations:                  23   AIC:                                      185.2\n",
      "Df Residuals:                      22   BIC:                                      186.3\n",
      "Df Model:                           1                                                  \n",
      "Covariance Type:            nonrobust                                                  \n",
      "==============================================================================\n",
      "                 coef    std err          t      P>|t|      [0.025      0.975]\n",
      "------------------------------------------------------------------------------\n",
      "x1             1.5048      1.654      0.910      0.373      -1.926       4.935\n",
      "==============================================================================\n",
      "Omnibus:                        4.298   Durbin-Watson:                   0.753\n",
      "Prob(Omnibus):                  0.117   Jarque-Bera (JB):                3.300\n",
      "Skew:                           0.927   Prob(JB):                        0.192\n",
      "Kurtosis:                       2.909   Cond. No.                         1.00\n",
      "==============================================================================\n",
      "\n",
      "Notes:\n",
      "[1] R² is computed without centering (uncentered) since the model does not contain a constant.\n",
      "[2] Standard Errors assume that the covariance matrix of the errors is correctly specified.\n"
     ]
    }
   ],
   "source": [
    "print(result2.summary())"
   ]
  },
  {
   "cell_type": "code",
   "execution_count": 62,
   "id": "worse-multiple",
   "metadata": {},
   "outputs": [
    {
     "name": "stdout",
     "output_type": "stream",
     "text": [
      "                            OLS Regression Results                            \n",
      "==============================================================================\n",
      "Dep. Variable:                     y1   R-squared:                       0.598\n",
      "Model:                            OLS   Adj. R-squared:                  0.558\n",
      "Method:                 Least Squares   F-statistic:                     14.90\n",
      "Date:                Tue, 21 Jun 2022   Prob (F-statistic):           0.000109\n",
      "Time:                        23:18:43   Log-Likelihood:                -72.484\n",
      "No. Observations:                  23   AIC:                             151.0\n",
      "Df Residuals:                      20   BIC:                             154.4\n",
      "Df Model:                           2                                         \n",
      "Covariance Type:            nonrobust                                         \n",
      "==============================================================================\n",
      "                 coef    std err          t      P>|t|      [0.025      0.975]\n",
      "------------------------------------------------------------------------------\n",
      "const         -6.3203      3.203     -1.973      0.062     -13.002       0.362\n",
      "x1             1.5048      0.756      1.990      0.060      -0.073       3.082\n",
      "x2             0.1955      0.085      2.292      0.033       0.018       0.373\n",
      "==============================================================================\n",
      "Omnibus:                        8.070   Durbin-Watson:                   1.915\n",
      "Prob(Omnibus):                  0.018   Jarque-Bera (JB):                5.785\n",
      "Skew:                           1.010   Prob(JB):                       0.0554\n",
      "Kurtosis:                       4.398   Cond. No.                         126.\n",
      "==============================================================================\n",
      "\n",
      "Notes:\n",
      "[1] Standard Errors assume that the covariance matrix of the errors is correctly specified.\n"
     ]
    }
   ],
   "source": [
    "print(result3.summary())"
   ]
  },
  {
   "cell_type": "markdown",
   "id": "outer-attitude",
   "metadata": {},
   "source": [
    "1人当たりの国内総生産が一定であるならば、人口1人当たりのチョコレート消費量が1kg多くなると、人口1千万人当たりのノーベル賞受賞者数が平均して約1.505人増えるといえる。また、信頼区間を見ると0が含まれているため、5％の有意水準で帰無仮説$\\beta_0=0$を棄却できない。\n",
    "国ごとの経済力を考慮に入れれば、チョコレート消費量は、ノーベル賞受賞者数に対して因果的な効果を持っているとは言えないと結論付けられる。"
   ]
  },
  {
   "cell_type": "code",
   "execution_count": null,
   "id": "designed-dominican",
   "metadata": {},
   "outputs": [],
   "source": []
  },
  {
   "cell_type": "code",
   "execution_count": null,
   "id": "surrounded-reasoning",
   "metadata": {},
   "outputs": [],
   "source": []
  },
  {
   "cell_type": "code",
   "execution_count": null,
   "id": "verified-chambers",
   "metadata": {},
   "outputs": [],
   "source": []
  }
 ],
 "metadata": {
  "kernelspec": {
   "display_name": "Python 3",
   "language": "python",
   "name": "python3"
  },
  "language_info": {
   "codemirror_mode": {
    "name": "ipython",
    "version": 3
   },
   "file_extension": ".py",
   "mimetype": "text/x-python",
   "name": "python",
   "nbconvert_exporter": "python",
   "pygments_lexer": "ipython3",
   "version": "3.8.5"
  }
 },
 "nbformat": 4,
 "nbformat_minor": 5
}
