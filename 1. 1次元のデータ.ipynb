{
 "cells": [
  {
   "cell_type": "code",
   "execution_count": null,
   "id": "humanitarian-mentor",
   "metadata": {},
   "outputs": [],
   "source": []
  },
  {
   "cell_type": "code",
   "execution_count": 1,
   "id": "announced-intellectual",
   "metadata": {},
   "outputs": [
    {
     "data": {
      "text/html": [
       "<div>\n",
       "<style scoped>\n",
       "    .dataframe tbody tr th:only-of-type {\n",
       "        vertical-align: middle;\n",
       "    }\n",
       "\n",
       "    .dataframe tbody tr th {\n",
       "        vertical-align: top;\n",
       "    }\n",
       "\n",
       "    .dataframe thead th {\n",
       "        text-align: right;\n",
       "    }\n",
       "</style>\n",
       "<table border=\"1\" class=\"dataframe\">\n",
       "  <thead>\n",
       "    <tr style=\"text-align: right;\">\n",
       "      <th></th>\n",
       "      <th>No.</th>\n",
       "      <th>ポケモン</th>\n",
       "      <th>タイプ1</th>\n",
       "      <th>タイプ2</th>\n",
       "      <th>重さ</th>\n",
       "      <th>高さ</th>\n",
       "      <th>HP</th>\n",
       "      <th>攻撃</th>\n",
       "      <th>防御</th>\n",
       "      <th>特攻</th>\n",
       "      <th>特防</th>\n",
       "      <th>素早さ</th>\n",
       "      <th>合計</th>\n",
       "    </tr>\n",
       "  </thead>\n",
       "  <tbody>\n",
       "    <tr>\n",
       "      <th>0</th>\n",
       "      <td>1</td>\n",
       "      <td>フシギダネ</td>\n",
       "      <td>くさ</td>\n",
       "      <td>どく</td>\n",
       "      <td>6.9</td>\n",
       "      <td>0.7</td>\n",
       "      <td>45</td>\n",
       "      <td>49</td>\n",
       "      <td>49</td>\n",
       "      <td>65</td>\n",
       "      <td>65</td>\n",
       "      <td>45</td>\n",
       "      <td>318</td>\n",
       "    </tr>\n",
       "    <tr>\n",
       "      <th>1</th>\n",
       "      <td>2</td>\n",
       "      <td>フシギソウ</td>\n",
       "      <td>くさ</td>\n",
       "      <td>どく</td>\n",
       "      <td>13.0</td>\n",
       "      <td>1.0</td>\n",
       "      <td>60</td>\n",
       "      <td>62</td>\n",
       "      <td>63</td>\n",
       "      <td>80</td>\n",
       "      <td>80</td>\n",
       "      <td>60</td>\n",
       "      <td>405</td>\n",
       "    </tr>\n",
       "    <tr>\n",
       "      <th>2</th>\n",
       "      <td>3</td>\n",
       "      <td>フシギバナ</td>\n",
       "      <td>くさ</td>\n",
       "      <td>どく</td>\n",
       "      <td>100.0</td>\n",
       "      <td>2.0</td>\n",
       "      <td>80</td>\n",
       "      <td>82</td>\n",
       "      <td>83</td>\n",
       "      <td>100</td>\n",
       "      <td>100</td>\n",
       "      <td>80</td>\n",
       "      <td>525</td>\n",
       "    </tr>\n",
       "    <tr>\n",
       "      <th>3</th>\n",
       "      <td>4</td>\n",
       "      <td>ヒトカゲ</td>\n",
       "      <td>ほのお</td>\n",
       "      <td>NaN</td>\n",
       "      <td>8.5</td>\n",
       "      <td>0.6</td>\n",
       "      <td>39</td>\n",
       "      <td>52</td>\n",
       "      <td>43</td>\n",
       "      <td>60</td>\n",
       "      <td>50</td>\n",
       "      <td>65</td>\n",
       "      <td>309</td>\n",
       "    </tr>\n",
       "    <tr>\n",
       "      <th>4</th>\n",
       "      <td>5</td>\n",
       "      <td>リザード</td>\n",
       "      <td>ほのお</td>\n",
       "      <td>NaN</td>\n",
       "      <td>19.0</td>\n",
       "      <td>1.1</td>\n",
       "      <td>58</td>\n",
       "      <td>64</td>\n",
       "      <td>58</td>\n",
       "      <td>80</td>\n",
       "      <td>65</td>\n",
       "      <td>80</td>\n",
       "      <td>405</td>\n",
       "    </tr>\n",
       "    <tr>\n",
       "      <th>...</th>\n",
       "      <td>...</td>\n",
       "      <td>...</td>\n",
       "      <td>...</td>\n",
       "      <td>...</td>\n",
       "      <td>...</td>\n",
       "      <td>...</td>\n",
       "      <td>...</td>\n",
       "      <td>...</td>\n",
       "      <td>...</td>\n",
       "      <td>...</td>\n",
       "      <td>...</td>\n",
       "      <td>...</td>\n",
       "      <td>...</td>\n",
       "    </tr>\n",
       "    <tr>\n",
       "      <th>893</th>\n",
       "      <td>894</td>\n",
       "      <td>レジエレキ</td>\n",
       "      <td>でんき</td>\n",
       "      <td>NaN</td>\n",
       "      <td>145.0</td>\n",
       "      <td>1.2</td>\n",
       "      <td>80</td>\n",
       "      <td>100</td>\n",
       "      <td>50</td>\n",
       "      <td>100</td>\n",
       "      <td>50</td>\n",
       "      <td>200</td>\n",
       "      <td>580</td>\n",
       "    </tr>\n",
       "    <tr>\n",
       "      <th>894</th>\n",
       "      <td>895</td>\n",
       "      <td>レジドラゴ</td>\n",
       "      <td>ドラゴン</td>\n",
       "      <td>NaN</td>\n",
       "      <td>200.0</td>\n",
       "      <td>2.1</td>\n",
       "      <td>200</td>\n",
       "      <td>100</td>\n",
       "      <td>50</td>\n",
       "      <td>100</td>\n",
       "      <td>50</td>\n",
       "      <td>80</td>\n",
       "      <td>580</td>\n",
       "    </tr>\n",
       "    <tr>\n",
       "      <th>895</th>\n",
       "      <td>896</td>\n",
       "      <td>ブリザポス</td>\n",
       "      <td>こおり</td>\n",
       "      <td>NaN</td>\n",
       "      <td>800.0</td>\n",
       "      <td>2.2</td>\n",
       "      <td>100</td>\n",
       "      <td>145</td>\n",
       "      <td>130</td>\n",
       "      <td>65</td>\n",
       "      <td>110</td>\n",
       "      <td>30</td>\n",
       "      <td>580</td>\n",
       "    </tr>\n",
       "    <tr>\n",
       "      <th>896</th>\n",
       "      <td>897</td>\n",
       "      <td>レイスポス</td>\n",
       "      <td>ゴースト</td>\n",
       "      <td>NaN</td>\n",
       "      <td>44.5</td>\n",
       "      <td>2.0</td>\n",
       "      <td>100</td>\n",
       "      <td>65</td>\n",
       "      <td>60</td>\n",
       "      <td>145</td>\n",
       "      <td>80</td>\n",
       "      <td>130</td>\n",
       "      <td>580</td>\n",
       "    </tr>\n",
       "    <tr>\n",
       "      <th>897</th>\n",
       "      <td>898</td>\n",
       "      <td>バドレックス</td>\n",
       "      <td>エスパー</td>\n",
       "      <td>くさ</td>\n",
       "      <td>7.7</td>\n",
       "      <td>1.1</td>\n",
       "      <td>100</td>\n",
       "      <td>80</td>\n",
       "      <td>80</td>\n",
       "      <td>80</td>\n",
       "      <td>80</td>\n",
       "      <td>80</td>\n",
       "      <td>500</td>\n",
       "    </tr>\n",
       "  </tbody>\n",
       "</table>\n",
       "<p>898 rows × 13 columns</p>\n",
       "</div>"
      ],
      "text/plain": [
       "     No.    ポケモン  タイプ1 タイプ2     重さ   高さ   HP   攻撃   防御   特攻   特防  素早さ   合計\n",
       "0      1   フシギダネ    くさ   どく    6.9  0.7   45   49   49   65   65   45  318\n",
       "1      2   フシギソウ    くさ   どく   13.0  1.0   60   62   63   80   80   60  405\n",
       "2      3   フシギバナ    くさ   どく  100.0  2.0   80   82   83  100  100   80  525\n",
       "3      4    ヒトカゲ   ほのお  NaN    8.5  0.6   39   52   43   60   50   65  309\n",
       "4      5    リザード   ほのお  NaN   19.0  1.1   58   64   58   80   65   80  405\n",
       "..   ...     ...   ...  ...    ...  ...  ...  ...  ...  ...  ...  ...  ...\n",
       "893  894   レジエレキ   でんき  NaN  145.0  1.2   80  100   50  100   50  200  580\n",
       "894  895   レジドラゴ  ドラゴン  NaN  200.0  2.1  200  100   50  100   50   80  580\n",
       "895  896   ブリザポス   こおり  NaN  800.0  2.2  100  145  130   65  110   30  580\n",
       "896  897   レイスポス  ゴースト  NaN   44.5  2.0  100   65   60  145   80  130  580\n",
       "897  898  バドレックス  エスパー   くさ    7.7  1.1  100   80   80   80   80   80  500\n",
       "\n",
       "[898 rows x 13 columns]"
      ]
     },
     "execution_count": 1,
     "metadata": {},
     "output_type": "execute_result"
    }
   ],
   "source": [
    "import pandas as pd\n",
    "import numpy as np\n",
    "import matplotlib.pyplot as plt\n",
    "import japanize_matplotlib\n",
    "\n",
    "d = pd.read_csv('C:/Users/tanak/OneDrive/ドキュメント/pokemon_for_stats.csv').iloc[:,1:]\n",
    "d"
   ]
  },
  {
   "cell_type": "markdown",
   "id": "executive-performer",
   "metadata": {},
   "source": [
    "#### 度数分布とヒストグラム\n",
    "度数分布表は、観測値の取り得る値をいくつかの階級に分け、それぞれの階級で観測値がいくつあるか度数を数えて表にしたものである。\n",
    "階級値とは階級の代表する値のことであって、各階級の中で観測値は一様に分布していると仮定して、階級の上限値と下限値の中間値を階級値とするのが普通である。  \n",
    "相対度数は観測値の総数、すなわちデータ全体の大きさを1としたときの、各階級に属する観測値の個数の全体中での割合を示す。\n",
    "\n",
    "累積度数、累積相対度数とは、度数を下の階級から順に積み上げたときの度数、相対度数の累積和である。\n",
    "\n",
    "度数分布表からは、一般にヒストグラムまたは柱状グラフと呼ばれるグラフが描かれる。\n",
    "それぞれの階級に対して階級幅を横幅とし柱の面積が度数と比例するように高さを定める。"
   ]
  },
  {
   "cell_type": "code",
   "execution_count": 2,
   "id": "standard-suspect",
   "metadata": {},
   "outputs": [
    {
     "data": {
      "image/png": "[encoded data removed]",
      "text/plain": [
       "<Figure size 720x720 with 9 Axes>"
      ]
     },
     "metadata": {
      "needs_background": "light"
     },
     "output_type": "display_data"
    }
   ],
   "source": [
    "num_cols = ['重さ','高さ','HP','攻撃','防御','特攻','特防','素早さ','合計']\n",
    "\n",
    "fig, axes = plt.subplots(3, 3, figsize=(10,10))\n",
    "\n",
    "for i, c in enumerate(num_cols):\n",
    "    axes[i//3][i%3].hist(d[c], bins=16);\n",
    "    axes[i//3][i%3].set_title(c)"
   ]
  },
  {
   "cell_type": "code",
   "execution_count": 3,
   "id": "stylish-familiar",
   "metadata": {},
   "outputs": [
    {
     "data": {
      "text/html": [
       "<div>\n",
       "<style scoped>\n",
       "    .dataframe tbody tr th:only-of-type {\n",
       "        vertical-align: middle;\n",
       "    }\n",
       "\n",
       "    .dataframe tbody tr th {\n",
       "        vertical-align: top;\n",
       "    }\n",
       "\n",
       "    .dataframe thead th {\n",
       "        text-align: right;\n",
       "    }\n",
       "</style>\n",
       "<table border=\"1\" class=\"dataframe\">\n",
       "  <thead>\n",
       "    <tr style=\"text-align: right;\">\n",
       "      <th></th>\n",
       "      <th>階級</th>\n",
       "      <th>度数</th>\n",
       "      <th>相対度数</th>\n",
       "      <th>累積度数</th>\n",
       "      <th>累積相対度数</th>\n",
       "    </tr>\n",
       "  </thead>\n",
       "  <tbody>\n",
       "    <tr>\n",
       "      <th>0</th>\n",
       "      <td>(4.8229999999999995, 16.0]</td>\n",
       "      <td>6</td>\n",
       "      <td>0.006682</td>\n",
       "      <td>6</td>\n",
       "      <td>0.006682</td>\n",
       "    </tr>\n",
       "    <tr>\n",
       "      <th>1</th>\n",
       "      <td>(16.0, 27.0]</td>\n",
       "      <td>22</td>\n",
       "      <td>0.024499</td>\n",
       "      <td>28</td>\n",
       "      <td>0.031180</td>\n",
       "    </tr>\n",
       "    <tr>\n",
       "      <th>2</th>\n",
       "      <td>(27.0, 38.0]</td>\n",
       "      <td>47</td>\n",
       "      <td>0.052339</td>\n",
       "      <td>75</td>\n",
       "      <td>0.083519</td>\n",
       "    </tr>\n",
       "    <tr>\n",
       "      <th>3</th>\n",
       "      <td>(38.0, 49.0]</td>\n",
       "      <td>85</td>\n",
       "      <td>0.094655</td>\n",
       "      <td>160</td>\n",
       "      <td>0.178174</td>\n",
       "    </tr>\n",
       "    <tr>\n",
       "      <th>4</th>\n",
       "      <td>(49.0, 60.0]</td>\n",
       "      <td>147</td>\n",
       "      <td>0.163697</td>\n",
       "      <td>307</td>\n",
       "      <td>0.341871</td>\n",
       "    </tr>\n",
       "    <tr>\n",
       "      <th>5</th>\n",
       "      <td>(60.0, 71.0]</td>\n",
       "      <td>114</td>\n",
       "      <td>0.126949</td>\n",
       "      <td>421</td>\n",
       "      <td>0.468820</td>\n",
       "    </tr>\n",
       "    <tr>\n",
       "      <th>6</th>\n",
       "      <td>(71.0, 82.0]</td>\n",
       "      <td>116</td>\n",
       "      <td>0.129176</td>\n",
       "      <td>537</td>\n",
       "      <td>0.597996</td>\n",
       "    </tr>\n",
       "    <tr>\n",
       "      <th>7</th>\n",
       "      <td>(82.0, 93.0]</td>\n",
       "      <td>105</td>\n",
       "      <td>0.116927</td>\n",
       "      <td>642</td>\n",
       "      <td>0.714922</td>\n",
       "    </tr>\n",
       "    <tr>\n",
       "      <th>8</th>\n",
       "      <td>(93.0, 104.0]</td>\n",
       "      <td>88</td>\n",
       "      <td>0.097996</td>\n",
       "      <td>730</td>\n",
       "      <td>0.812918</td>\n",
       "    </tr>\n",
       "    <tr>\n",
       "      <th>9</th>\n",
       "      <td>(104.0, 115.0]</td>\n",
       "      <td>64</td>\n",
       "      <td>0.071269</td>\n",
       "      <td>794</td>\n",
       "      <td>0.884187</td>\n",
       "    </tr>\n",
       "    <tr>\n",
       "      <th>10</th>\n",
       "      <td>(115.0, 126.0]</td>\n",
       "      <td>53</td>\n",
       "      <td>0.059020</td>\n",
       "      <td>847</td>\n",
       "      <td>0.943207</td>\n",
       "    </tr>\n",
       "    <tr>\n",
       "      <th>11</th>\n",
       "      <td>(126.0, 137.0]</td>\n",
       "      <td>35</td>\n",
       "      <td>0.038976</td>\n",
       "      <td>882</td>\n",
       "      <td>0.982183</td>\n",
       "    </tr>\n",
       "    <tr>\n",
       "      <th>12</th>\n",
       "      <td>(137.0, 148.0]</td>\n",
       "      <td>8</td>\n",
       "      <td>0.008909</td>\n",
       "      <td>890</td>\n",
       "      <td>0.991091</td>\n",
       "    </tr>\n",
       "    <tr>\n",
       "      <th>13</th>\n",
       "      <td>(148.0, 159.0]</td>\n",
       "      <td>4</td>\n",
       "      <td>0.004454</td>\n",
       "      <td>894</td>\n",
       "      <td>0.995546</td>\n",
       "    </tr>\n",
       "    <tr>\n",
       "      <th>14</th>\n",
       "      <td>(159.0, 170.0]</td>\n",
       "      <td>3</td>\n",
       "      <td>0.003341</td>\n",
       "      <td>897</td>\n",
       "      <td>0.998886</td>\n",
       "    </tr>\n",
       "    <tr>\n",
       "      <th>15</th>\n",
       "      <td>(170.0, 181.0]</td>\n",
       "      <td>1</td>\n",
       "      <td>0.001114</td>\n",
       "      <td>898</td>\n",
       "      <td>1.000000</td>\n",
       "    </tr>\n",
       "  </tbody>\n",
       "</table>\n",
       "</div>"
      ],
      "text/plain": [
       "                            階級   度数      相対度数  累積度数    累積相対度数\n",
       "0   (4.8229999999999995, 16.0]    6  0.006682     6  0.006682\n",
       "1                 (16.0, 27.0]   22  0.024499    28  0.031180\n",
       "2                 (27.0, 38.0]   47  0.052339    75  0.083519\n",
       "3                 (38.0, 49.0]   85  0.094655   160  0.178174\n",
       "4                 (49.0, 60.0]  147  0.163697   307  0.341871\n",
       "5                 (60.0, 71.0]  114  0.126949   421  0.468820\n",
       "6                 (71.0, 82.0]  116  0.129176   537  0.597996\n",
       "7                 (82.0, 93.0]  105  0.116927   642  0.714922\n",
       "8                (93.0, 104.0]   88  0.097996   730  0.812918\n",
       "9               (104.0, 115.0]   64  0.071269   794  0.884187\n",
       "10              (115.0, 126.0]   53  0.059020   847  0.943207\n",
       "11              (126.0, 137.0]   35  0.038976   882  0.982183\n",
       "12              (137.0, 148.0]    8  0.008909   890  0.991091\n",
       "13              (148.0, 159.0]    4  0.004454   894  0.995546\n",
       "14              (159.0, 170.0]    3  0.003341   897  0.998886\n",
       "15              (170.0, 181.0]    1  0.001114   898  1.000000"
      ]
     },
     "execution_count": 3,
     "metadata": {},
     "output_type": "execute_result"
    }
   ],
   "source": [
    "freq = d['攻撃'].value_counts(bins=16,sort=False)\n",
    "hist_range = freq.index\n",
    "hist_count = freq.values\n",
    "\n",
    "df = pd.DataFrame({'階級':hist_range, '度数':hist_count.astype(int)})\n",
    "df['相対度数'] = df['度数'] / sum(df['度数'])\n",
    "df['累積度数'] = df['度数'].cumsum()\n",
    "df['累積相対度数'] = df['相対度数'].cumsum()\n",
    "df"
   ]
  },
  {
   "cell_type": "code",
   "execution_count": 4,
   "id": "athletic-captain",
   "metadata": {},
   "outputs": [
    {
     "data": {
      "image/png": "[encoded data removed]",
      "text/plain": [
       "<Figure size 720x720 with 4 Axes>"
      ]
     },
     "metadata": {
      "needs_background": "light"
     },
     "output_type": "display_data"
    }
   ],
   "source": [
    "fig, axes = plt.subplots(2, 2, figsize=(10,10))\n",
    "\n",
    "axes[0][0].hist(d['攻撃'], bins=16);\n",
    "axes[0][0].set_title('度数');\n",
    "\n",
    "axes[0][1].hist(d['攻撃'], bins=16, density=True);\n",
    "axes[0][1].set_title('相対度数');\n",
    "\n",
    "axes[1][0].hist(d['攻撃'], bins=16, cumulative=True);\n",
    "axes[1][0].set_title('累積度数');\n",
    "\n",
    "axes[1][1].hist(d['攻撃'], bins=16, cumulative=True, density=True);\n",
    "axes[1][1].set_title('累積相対度数');"
   ]
  },
  {
   "cell_type": "markdown",
   "id": "inclusive-account",
   "metadata": {},
   "source": [
    "「攻撃」の分布は中央に一つの峰がある山型分布である。\n",
    "しかし、左右対称の山型分布にならないものも多くある。\n",
    "例えば、下の図の「高さ」の分布のように右側に長く裾を引く分布のことを右に歪んだ分布という。\n",
    "「合計」の分布のようにデータによっては峰が二つ以上ある分布(双方型)も生じることがある。\n",
    "そのような場合、性質の異なるデータがまじりあっていることが多く、適当にグループ分けすると峰が一つの単純な分布(単峰型)が現れることが多い。\n",
    "このような操作を層別という。"
   ]
  },
  {
   "cell_type": "code",
   "execution_count": 5,
   "id": "informed-postage",
   "metadata": {},
   "outputs": [
    {
     "data": {
      "image/png": "[encoded data removed]",
      "text/plain": [
       "<Figure size 432x288 with 1 Axes>"
      ]
     },
     "metadata": {
      "needs_background": "light"
     },
     "output_type": "display_data"
    }
   ],
   "source": [
    "plt.hist(d['高さ'], bins=50);"
   ]
  },
  {
   "cell_type": "code",
   "execution_count": 6,
   "id": "similar-theory",
   "metadata": {},
   "outputs": [
    {
     "data": {
      "image/png": "[encoded data removed]",
      "text/plain": [
       "<Figure size 432x288 with 1 Axes>"
      ]
     },
     "metadata": {
      "needs_background": "light"
     },
     "output_type": "display_data"
    }
   ],
   "source": [
    "plt.hist(d['合計'], bins=30);"
   ]
  },
  {
   "cell_type": "markdown",
   "id": "aggregate-translation",
   "metadata": {},
   "source": [
    "階級数については、階級数が少ないと荒すぎるためありふれた形となり真の分布を見出しえない。\n",
    "一方、階級数が多すぎると階級によって小さなデコボコが生じて、真の分布が偶然性によって乱される場合が多い。\n",
    "階級数の統一的なルールはないが、スタージェスの公式が参考になる。\n",
    "$$\n",
    "k\\fallingdotseq 1+\\log_2n=1+(\\log_{10}n)/(\\log_{10}2)\n",
    "$$"
   ]
  },
  {
   "cell_type": "code",
   "execution_count": 7,
   "id": "canadian-weekend",
   "metadata": {},
   "outputs": [
    {
     "data": {
      "image/png": "[encoded data removed]",
      "text/plain": [
       "<Figure size 1080x288 with 3 Axes>"
      ]
     },
     "metadata": {
      "needs_background": "light"
     },
     "output_type": "display_data"
    }
   ],
   "source": [
    "fig, axes = plt.subplots(1, 3, figsize=(15,4))\n",
    "\n",
    "axes[0].hist(d['攻撃'], bins=5);\n",
    "axes[0].set_title('階級数が少ない場合')\n",
    "axes[1].hist(d['攻撃'], bins=50);\n",
    "axes[1].set_title('階級数が多い場合')\n",
    "axes[2].hist(d['攻撃'], bins=int(np.ceil(1+np.log2(len(d)))));\n",
    "axes[2].set_title('スタージェスの公式');"
   ]
  },
  {
   "cell_type": "code",
   "execution_count": null,
   "id": "brutal-paragraph",
   "metadata": {},
   "outputs": [],
   "source": []
  },
  {
   "cell_type": "markdown",
   "id": "varying-settlement",
   "metadata": {},
   "source": [
    "累積度数を組み合わせて書いた折れ線をローレンツ曲線と呼ぶ。  \n",
    "ローレンツ曲線は分配の不平等さを示すのに用いられる。\n",
    "対角線からの分離の度合が大きいほど、不平等に分布している。\n",
    "\n",
    "少し無理があるが、「攻撃」の累積相対度数と「合計」および「重さ」の累積相対度数を組み合わせたローレンツ曲線を示す。\n",
    "「攻撃」と「合計」については平等に振り分けられているが、「攻撃」と「重さ」については直線からの分離が大きい。\n",
    "「重さ」が大きいポケモンに大きな「攻撃」をもったものが含まれている可能性がある。"
   ]
  },
  {
   "cell_type": "code",
   "execution_count": 8,
   "id": "thick-donor",
   "metadata": {},
   "outputs": [
    {
     "data": {
      "image/png": "[encoded data removed]",
      "text/plain": [
       "<Figure size 432x288 with 1 Axes>"
      ]
     },
     "metadata": {
      "needs_background": "light"
     },
     "output_type": "display_data"
    }
   ],
   "source": [
    "d['攻撃_bin'] = pd.cut(d['攻撃'], bins=hist_range)\n",
    "d_agg = d.groupby(['攻撃_bin']).agg({'ポケモン':'count', '合計':'sum', '重さ':'sum'}).reset_index()\n",
    "d_agg['ポケモン'] = d_agg['ポケモン'].cumsum() / d_agg['ポケモン'].sum() \n",
    "d_agg['合計'] = d_agg['合計'].cumsum() / d_agg['合計'].sum() \n",
    "d_agg['重さ'] = d_agg['重さ'].cumsum() / d_agg['重さ'].sum() \n",
    "\n",
    "plt.plot(d_agg.ポケモン, d_agg.合計, label='合計')\n",
    "plt.plot(d_agg.ポケモン, d_agg.重さ, label='重さ')\n",
    "plt.plot([0,1], [0,1], 'red')\n",
    "plt.legend();"
   ]
  },
  {
   "cell_type": "code",
   "execution_count": null,
   "id": "crucial-mining",
   "metadata": {},
   "outputs": [],
   "source": []
  },
  {
   "cell_type": "markdown",
   "id": "skilled-little",
   "metadata": {},
   "source": [
    "#### 代表値\n",
    "代表値とは、分布を代表する値のことである。\n",
    "最もよく知られている代表値は平均であり、その中でも特に算術平均と呼ばれる値である。  \n",
    "算術平均は観測値$x_1,x_2,\\cdots,x_n$の和を観測値の総数、すなわちデータの大きさ$n$で割ったものであり、\n",
    "$$\n",
    "\\bar{x}=\\frac{x_1+\\cdots+x_n}{n}\n",
    "$$\n",
    "と定義される。\n",
    "離散型データの場合、各観測値に対してその値をとる度数を掛けて、その合計をデータの大きさで割ればよい。  \n",
    "観測値の取り得る値を$v_1,\\cdots,v_k$とし、それぞれの度数が$f_1,\\cdots,f_k$であるとすると、平均は\n",
    "$$\n",
    "\\bar{x}=\\frac{f_1v_1+\\cdots+f_kv_k}{f_1+\\cdots+f_k}\n",
    "$$\n",
    "によって求めることができる。\n",
    "度数分布表から計算された平均値は階級値が使用されるため真の平均値とは一致しないことに注意する。\n",
    "\n",
    "平均には、幾何平均$x_G$\n",
    "$$\n",
    "x_G=\\sqrt[n]{x_1・x_2・\\cdots・x_n}\n",
    "$$\n",
    "調和平均$x_H$\n",
    "$$\n",
    "\\frac{1}{x_H}=\\frac{1}{n}\\biggl(\\frac{1}{x_1}+\\cdots+\\frac{1}{x_n} \\biggr)\n",
    "$$\n",
    "\n",
    "などがある。"
   ]
  },
  {
   "cell_type": "code",
   "execution_count": 9,
   "id": "pursuant-aquatic",
   "metadata": {},
   "outputs": [
    {
     "data": {
      "text/plain": [
       "重さ      63.970045\n",
       "高さ       1.185969\n",
       "HP      69.031180\n",
       "攻撃      76.544543\n",
       "防御      71.897550\n",
       "特攻      69.681514\n",
       "特防      69.887528\n",
       "素早さ     65.949889\n",
       "合計     422.992205\n",
       "dtype: float64"
      ]
     },
     "execution_count": 9,
     "metadata": {},
     "output_type": "execute_result"
    }
   ],
   "source": [
    "d[num_cols].mean()"
   ]
  },
  {
   "cell_type": "markdown",
   "id": "apart-estonia",
   "metadata": {},
   "source": [
    "メディアン(中位数、中央値)は、観測値を小さいものから順番に並び替えたときの中央の値である。\n",
    "データ$x_1,\\cdots,x_n$を大きさの順序に並び替えたものを、小さいものから$x_{(1)},\\cdots,x_{(n)}$とかく。\n",
    "メディアンは、データの大きさが奇数$n=2m+1$のときには$m+1$番目の観測値$x_{m+1}$であるが、\n",
    "偶数$n=2m$の場合は、$m$番目と$m+1$番目の観測値$x_{m}$と$x_{m+1}$の平均$(x_{m}+x_{m+1})/2$をメディアンとする。"
   ]
  },
  {
   "cell_type": "code",
   "execution_count": 10,
   "id": "injured-appliance",
   "metadata": {},
   "outputs": [
    {
     "data": {
      "text/plain": [
       "重さ      27.0\n",
       "高さ       1.0\n",
       "HP      65.0\n",
       "攻撃      75.0\n",
       "防御      67.0\n",
       "特攻      65.0\n",
       "特防      65.0\n",
       "素早さ     65.0\n",
       "合計     440.0\n",
       "dtype: float64"
      ]
     },
     "execution_count": 10,
     "metadata": {},
     "output_type": "execute_result"
    }
   ],
   "source": [
    "d[num_cols].median()"
   ]
  },
  {
   "cell_type": "markdown",
   "id": "restricted-comfort",
   "metadata": {},
   "source": [
    "メディアンを拡張したものに分位点がある。\n",
    "観測値を小さいものの順に並び替えたとき、小さい方から$100p$%($0\\leq p \\leq 1$)の所にある値を100pパーセンタイル((百)分位点)という。  \n",
    "よく用いられる分位点には四分位点がある。これはデータを4分割したときの3つの分割点であり、第1四分位点$Q_1$は25%分位点、第2四分位点$Q_2$は50%分位点(メディアン)、第3四分位点$Q_3$は75%分位点である。"
   ]
  },
  {
   "cell_type": "code",
   "execution_count": 11,
   "id": "dependent-noise",
   "metadata": {},
   "outputs": [
    {
     "data": {
      "text/html": [
       "<div>\n",
       "<style scoped>\n",
       "    .dataframe tbody tr th:only-of-type {\n",
       "        vertical-align: middle;\n",
       "    }\n",
       "\n",
       "    .dataframe tbody tr th {\n",
       "        vertical-align: top;\n",
       "    }\n",
       "\n",
       "    .dataframe thead th {\n",
       "        text-align: right;\n",
       "    }\n",
       "</style>\n",
       "<table border=\"1\" class=\"dataframe\">\n",
       "  <thead>\n",
       "    <tr style=\"text-align: right;\">\n",
       "      <th></th>\n",
       "      <th>重さ</th>\n",
       "      <th>高さ</th>\n",
       "      <th>HP</th>\n",
       "      <th>攻撃</th>\n",
       "      <th>防御</th>\n",
       "      <th>特攻</th>\n",
       "      <th>特防</th>\n",
       "      <th>素早さ</th>\n",
       "      <th>合計</th>\n",
       "    </tr>\n",
       "  </thead>\n",
       "  <tbody>\n",
       "    <tr>\n",
       "      <th>0.25</th>\n",
       "      <td>8.5</td>\n",
       "      <td>0.5</td>\n",
       "      <td>50.0</td>\n",
       "      <td>55.0</td>\n",
       "      <td>50.0</td>\n",
       "      <td>46.25</td>\n",
       "      <td>50.0</td>\n",
       "      <td>45.0</td>\n",
       "      <td>320.0</td>\n",
       "    </tr>\n",
       "    <tr>\n",
       "      <th>0.50</th>\n",
       "      <td>27.0</td>\n",
       "      <td>1.0</td>\n",
       "      <td>65.0</td>\n",
       "      <td>75.0</td>\n",
       "      <td>67.0</td>\n",
       "      <td>65.00</td>\n",
       "      <td>65.0</td>\n",
       "      <td>65.0</td>\n",
       "      <td>440.0</td>\n",
       "    </tr>\n",
       "    <tr>\n",
       "      <th>0.75</th>\n",
       "      <td>65.0</td>\n",
       "      <td>1.5</td>\n",
       "      <td>80.0</td>\n",
       "      <td>95.0</td>\n",
       "      <td>90.0</td>\n",
       "      <td>90.00</td>\n",
       "      <td>85.0</td>\n",
       "      <td>85.0</td>\n",
       "      <td>500.0</td>\n",
       "    </tr>\n",
       "  </tbody>\n",
       "</table>\n",
       "</div>"
      ],
      "text/plain": [
       "        重さ   高さ    HP    攻撃    防御     特攻    特防   素早さ     合計\n",
       "0.25   8.5  0.5  50.0  55.0  50.0  46.25  50.0  45.0  320.0\n",
       "0.50  27.0  1.0  65.0  75.0  67.0  65.00  65.0  65.0  440.0\n",
       "0.75  65.0  1.5  80.0  95.0  90.0  90.00  85.0  85.0  500.0"
      ]
     },
     "execution_count": 11,
     "metadata": {},
     "output_type": "execute_result"
    }
   ],
   "source": [
    "d[num_cols].quantile(q=[0.25,0.5,0.75])"
   ]
  },
  {
   "cell_type": "code",
   "execution_count": 12,
   "id": "overall-detective",
   "metadata": {},
   "outputs": [
    {
     "data": {
      "text/plain": [
       "array([[  8.5 ,   0.5 ,  50.  ,  55.  ,  50.  ,  46.25,  50.  ,  45.  ,\n",
       "        320.  ],\n",
       "       [ 27.  ,   1.  ,  65.  ,  75.  ,  67.  ,  65.  ,  65.  ,  65.  ,\n",
       "        440.  ],\n",
       "       [ 65.  ,   1.5 ,  80.  ,  95.  ,  90.  ,  90.  ,  85.  ,  85.  ,\n",
       "        500.  ]])"
      ]
     },
     "execution_count": 12,
     "metadata": {},
     "output_type": "execute_result"
    }
   ],
   "source": [
    "np.quantile(d[num_cols], q=[0.25,0.5,0.75], axis=0)"
   ]
  },
  {
   "cell_type": "code",
   "execution_count": 13,
   "id": "dense-bracelet",
   "metadata": {},
   "outputs": [
    {
     "data": {
      "text/html": [
       "<div>\n",
       "<style scoped>\n",
       "    .dataframe tbody tr th:only-of-type {\n",
       "        vertical-align: middle;\n",
       "    }\n",
       "\n",
       "    .dataframe tbody tr th {\n",
       "        vertical-align: top;\n",
       "    }\n",
       "\n",
       "    .dataframe thead th {\n",
       "        text-align: right;\n",
       "    }\n",
       "</style>\n",
       "<table border=\"1\" class=\"dataframe\">\n",
       "  <thead>\n",
       "    <tr style=\"text-align: right;\">\n",
       "      <th></th>\n",
       "      <th>重さ</th>\n",
       "      <th>高さ</th>\n",
       "      <th>HP</th>\n",
       "      <th>攻撃</th>\n",
       "      <th>防御</th>\n",
       "      <th>特攻</th>\n",
       "      <th>特防</th>\n",
       "      <th>素早さ</th>\n",
       "      <th>合計</th>\n",
       "    </tr>\n",
       "  </thead>\n",
       "  <tbody>\n",
       "    <tr>\n",
       "      <th>count</th>\n",
       "      <td>898.000000</td>\n",
       "      <td>898.000000</td>\n",
       "      <td>898.000000</td>\n",
       "      <td>898.000000</td>\n",
       "      <td>898.000000</td>\n",
       "      <td>898.000000</td>\n",
       "      <td>898.000000</td>\n",
       "      <td>898.000000</td>\n",
       "      <td>898.000000</td>\n",
       "    </tr>\n",
       "    <tr>\n",
       "      <th>mean</th>\n",
       "      <td>63.970045</td>\n",
       "      <td>1.185969</td>\n",
       "      <td>69.031180</td>\n",
       "      <td>76.544543</td>\n",
       "      <td>71.897550</td>\n",
       "      <td>69.681514</td>\n",
       "      <td>69.887528</td>\n",
       "      <td>65.949889</td>\n",
       "      <td>422.992205</td>\n",
       "    </tr>\n",
       "    <tr>\n",
       "      <th>std</th>\n",
       "      <td>119.430298</td>\n",
       "      <td>1.234222</td>\n",
       "      <td>26.213707</td>\n",
       "      <td>29.665559</td>\n",
       "      <td>29.563766</td>\n",
       "      <td>29.372609</td>\n",
       "      <td>27.043127</td>\n",
       "      <td>28.456596</td>\n",
       "      <td>111.846123</td>\n",
       "    </tr>\n",
       "    <tr>\n",
       "      <th>min</th>\n",
       "      <td>0.100000</td>\n",
       "      <td>0.100000</td>\n",
       "      <td>1.000000</td>\n",
       "      <td>5.000000</td>\n",
       "      <td>5.000000</td>\n",
       "      <td>10.000000</td>\n",
       "      <td>20.000000</td>\n",
       "      <td>5.000000</td>\n",
       "      <td>175.000000</td>\n",
       "    </tr>\n",
       "    <tr>\n",
       "      <th>25%</th>\n",
       "      <td>8.500000</td>\n",
       "      <td>0.500000</td>\n",
       "      <td>50.000000</td>\n",
       "      <td>55.000000</td>\n",
       "      <td>50.000000</td>\n",
       "      <td>46.250000</td>\n",
       "      <td>50.000000</td>\n",
       "      <td>45.000000</td>\n",
       "      <td>320.000000</td>\n",
       "    </tr>\n",
       "    <tr>\n",
       "      <th>50%</th>\n",
       "      <td>27.000000</td>\n",
       "      <td>1.000000</td>\n",
       "      <td>65.000000</td>\n",
       "      <td>75.000000</td>\n",
       "      <td>67.000000</td>\n",
       "      <td>65.000000</td>\n",
       "      <td>65.000000</td>\n",
       "      <td>65.000000</td>\n",
       "      <td>440.000000</td>\n",
       "    </tr>\n",
       "    <tr>\n",
       "      <th>75%</th>\n",
       "      <td>65.000000</td>\n",
       "      <td>1.500000</td>\n",
       "      <td>80.000000</td>\n",
       "      <td>95.000000</td>\n",
       "      <td>90.000000</td>\n",
       "      <td>90.000000</td>\n",
       "      <td>85.000000</td>\n",
       "      <td>85.000000</td>\n",
       "      <td>500.000000</td>\n",
       "    </tr>\n",
       "    <tr>\n",
       "      <th>max</th>\n",
       "      <td>999.900000</td>\n",
       "      <td>20.000000</td>\n",
       "      <td>255.000000</td>\n",
       "      <td>181.000000</td>\n",
       "      <td>230.000000</td>\n",
       "      <td>173.000000</td>\n",
       "      <td>230.000000</td>\n",
       "      <td>200.000000</td>\n",
       "      <td>720.000000</td>\n",
       "    </tr>\n",
       "  </tbody>\n",
       "</table>\n",
       "</div>"
      ],
      "text/plain": [
       "               重さ          高さ          HP          攻撃          防御          特攻  \\\n",
       "count  898.000000  898.000000  898.000000  898.000000  898.000000  898.000000   \n",
       "mean    63.970045    1.185969   69.031180   76.544543   71.897550   69.681514   \n",
       "std    119.430298    1.234222   26.213707   29.665559   29.563766   29.372609   \n",
       "min      0.100000    0.100000    1.000000    5.000000    5.000000   10.000000   \n",
       "25%      8.500000    0.500000   50.000000   55.000000   50.000000   46.250000   \n",
       "50%     27.000000    1.000000   65.000000   75.000000   67.000000   65.000000   \n",
       "75%     65.000000    1.500000   80.000000   95.000000   90.000000   90.000000   \n",
       "max    999.900000   20.000000  255.000000  181.000000  230.000000  173.000000   \n",
       "\n",
       "               特防         素早さ          合計  \n",
       "count  898.000000  898.000000  898.000000  \n",
       "mean    69.887528   65.949889  422.992205  \n",
       "std     27.043127   28.456596  111.846123  \n",
       "min     20.000000    5.000000  175.000000  \n",
       "25%     50.000000   45.000000  320.000000  \n",
       "50%     65.000000   65.000000  440.000000  \n",
       "75%     85.000000   85.000000  500.000000  \n",
       "max    230.000000  200.000000  720.000000  "
      ]
     },
     "execution_count": 13,
     "metadata": {},
     "output_type": "execute_result"
    }
   ],
   "source": [
    "d[num_cols].describe()"
   ]
  },
  {
   "cell_type": "markdown",
   "id": "western-jacksonville",
   "metadata": {},
   "source": [
    "モード(最頻値)とは、分布の峰に対応する値のことである。度数分布表においては、その頻度が最大である階級の階級値がモードとなる。\n",
    "階級の取り方によって異なることや、峰が2つ以上ある場合には有効な代表値とはならないことに注意する。"
   ]
  },
  {
   "cell_type": "code",
   "execution_count": 14,
   "id": "trying-matter",
   "metadata": {},
   "outputs": [
    {
     "data": {
      "image/png": "[encoded data removed]",
      "text/plain": [
       "<Figure size 1080x720 with 9 Axes>"
      ]
     },
     "metadata": {
      "needs_background": "light"
     },
     "output_type": "display_data"
    }
   ],
   "source": [
    "num_cols = ['重さ','高さ','HP','攻撃','防御','特攻','特防','素早さ','合計']\n",
    "\n",
    "fig, axes = plt.subplots(3, 3, figsize=(15,10))\n",
    "\n",
    "for i, c in enumerate(num_cols):\n",
    "    mean = d[c].mean()\n",
    "    med = d[c].median()\n",
    "    \n",
    "    a,b,_=axes[i//3][i%3].hist(d[c], bins=9, density=True);\n",
    "    \n",
    "    max_count =  np.max(a)*1.2\n",
    "    mode = (b[np.argmax(a)]+b[np.argmax(a)+1])/2\n",
    "    \n",
    "    axes[i//3][i%3].plot([mean,mean], [0, max_count], label='mean');\n",
    "    axes[i//3][i%3].plot([med,med], [0, max_count], label='median');\n",
    "    axes[i//3][i%3].plot([mode,mode], [0, max_count], label='mode');\n",
    "    \n",
    "    axes[i//3][i%3].set_title(c)\n",
    "    axes[i//3][i%3].legend()"
   ]
  },
  {
   "cell_type": "markdown",
   "id": "descending-trail",
   "metadata": {},
   "source": [
    "平均、メディアン、モードの3つの関係を確認する。\n",
    "「攻撃」のように左右対称の場合この三つの値は完全に一致する。\n",
    "「特攻」や「特防」のように峰が左側によっている場合、一般的に\n",
    "$$\n",
    "Mean>Median>Mode\n",
    "$$\n",
    "である(辞書に登場する順番と覚えればよい)。"
   ]
  },
  {
   "cell_type": "markdown",
   "id": "convertible-university",
   "metadata": {},
   "source": [
    "#### 散らばりの尺度\n",
    "分布の形状を示す指標でよく用いられるものは散らばりの尺度と呼ばれるものである。\n",
    "\n",
    "もっとも単純な散らばりの指標はレンジ(範囲)と呼ばれるものであって、\n",
    "$$\n",
    "R=\\max (x_1,\\cdots, x_n) - \\min (x_1, \\cdots, x_n)\n",
    "$$\n"
   ]
  },
  {
   "cell_type": "code",
   "execution_count": 15,
   "id": "directed-junior",
   "metadata": {},
   "outputs": [
    {
     "data": {
      "text/plain": [
       "重さ     999.8\n",
       "高さ      19.9\n",
       "HP     254.0\n",
       "攻撃     176.0\n",
       "防御     225.0\n",
       "特攻     163.0\n",
       "特防     210.0\n",
       "素早さ    195.0\n",
       "合計     545.0\n",
       "dtype: float64"
      ]
     },
     "execution_count": 15,
     "metadata": {},
     "output_type": "execute_result"
    }
   ],
   "source": [
    "d[num_cols].max() - d[num_cols].min()"
   ]
  },
  {
   "cell_type": "markdown",
   "id": "worldwide-mandate",
   "metadata": {},
   "source": [
    "重さが広く分布しており、「特防」や「防御」は同じような値をとっている。\n",
    "レンジは尺度としてかなり荒いものであり、「特防」や「防御」の分布の違いを記述することはできない。\n",
    "レンジを改良したものとして次の式で定義される四分位偏差がある。\n",
    "$$\n",
    "Q=\\frac{1}{2}(Q_3-Q_1)\n",
    "$$\n"
   ]
  },
  {
   "cell_type": "code",
   "execution_count": 16,
   "id": "nonprofit-startup",
   "metadata": {},
   "outputs": [
    {
     "data": {
      "text/plain": [
       "重さ      56.50\n",
       "高さ       1.00\n",
       "HP      30.00\n",
       "攻撃      40.00\n",
       "防御      40.00\n",
       "特攻      43.75\n",
       "特防      35.00\n",
       "素早さ     40.00\n",
       "合計     180.00\n",
       "dtype: float64"
      ]
     },
     "execution_count": 16,
     "metadata": {},
     "output_type": "execute_result"
    }
   ],
   "source": [
    "dq = d[num_cols].quantile(q=[0.25,0.75]).T\n",
    "dq[0.75]-dq[0.25]"
   ]
  },
  {
   "cell_type": "markdown",
   "id": "senior-vegetation",
   "metadata": {},
   "source": [
    "各観測値が平均からどれだけ離れているかについての平均を求めたものが平均偏差である。\n",
    "$$\n",
    "d=\\frac{1}{n}\\{|x_1-\\bar{x}|+|x_2-\\bar{x}|+\\cdots+|x_n-\\bar{x}| \\}\n",
    "$$\n",
    "平均からの偏差は正負両符号を含むため絶対値を取っている。"
   ]
  },
  {
   "cell_type": "code",
   "execution_count": 17,
   "id": "fabulous-productivity",
   "metadata": {},
   "outputs": [
    {
     "data": {
      "text/plain": [
       "重さ     64.712695\n",
       "高さ      0.664894\n",
       "HP     19.124786\n",
       "攻撃     24.234304\n",
       "防御     22.876494\n",
       "特攻     24.013943\n",
       "特防     21.319795\n",
       "素早さ    23.148209\n",
       "合計     95.048318\n",
       "dtype: float64"
      ]
     },
     "execution_count": 17,
     "metadata": {},
     "output_type": "execute_result"
    }
   ],
   "source": [
    "np.abs(d[num_cols] - d[num_cols].mean()).mean(axis=0)"
   ]
  },
  {
   "cell_type": "markdown",
   "id": "compatible-eating",
   "metadata": {},
   "source": [
    "絶対値ではなく2乗することで符号を消し、同様に平均を求めたものをデータの分散という。\n",
    "$$\n",
    "S^2=\\frac{1}{n}\\{(x_1-\\bar{x})^2+(x_2-\\bar{x})^2+\\cdots+(x_n-\\bar{x})^2 \\}\n",
    "$$\n",
    "分散は単位が変わるので、単位を揃えるときには分散の平方根をとった$S$が用いられる。これを標準偏差と呼ぶ。\n",
    "$$\n",
    "S=\\sqrt{S^2}\n",
    "$$\n",
    "ここでは、分散を計算する。"
   ]
  },
  {
   "cell_type": "code",
   "execution_count": 18,
   "id": "sunrise-conditioning",
   "metadata": {},
   "outputs": [
    {
     "data": {
      "text/plain": [
       "重さ     14247.712299\n",
       "高さ         1.521607\n",
       "HP       686.393237\n",
       "攻撃       879.065388\n",
       "防御       873.042956\n",
       "特攻       861.789436\n",
       "特防       730.516303\n",
       "素早さ      808.876108\n",
       "合計     12495.624661\n",
       "dtype: float64"
      ]
     },
     "execution_count": 18,
     "metadata": {},
     "output_type": "execute_result"
    }
   ],
   "source": [
    "((d[num_cols] - d[num_cols].mean())**2).mean(axis=0)"
   ]
  },
  {
   "cell_type": "code",
   "execution_count": 19,
   "id": "italian-scholarship",
   "metadata": {},
   "outputs": [
    {
     "data": {
      "text/plain": [
       "重さ     14247.712299\n",
       "高さ         1.521607\n",
       "HP       686.393237\n",
       "攻撃       879.065388\n",
       "防御       873.042956\n",
       "特攻       861.789436\n",
       "特防       730.516303\n",
       "素早さ      808.876108\n",
       "合計     12495.624661\n",
       "dtype: float64"
      ]
     },
     "execution_count": 19,
     "metadata": {},
     "output_type": "execute_result"
    }
   ],
   "source": [
    "d[num_cols].var(ddof=0)"
   ]
  },
  {
   "cell_type": "markdown",
   "id": "disabled-machine",
   "metadata": {},
   "source": [
    "標準偏差の計算を行う。"
   ]
  },
  {
   "cell_type": "code",
   "execution_count": 20,
   "id": "neutral-representative",
   "metadata": {},
   "outputs": [
    {
     "data": {
      "text/plain": [
       "重さ     119.363781\n",
       "高さ       1.233534\n",
       "HP      26.199108\n",
       "攻撃      29.649037\n",
       "防御      29.547300\n",
       "特攻      29.356250\n",
       "特防      27.028065\n",
       "素早さ     28.440747\n",
       "合計     111.783830\n",
       "dtype: float64"
      ]
     },
     "execution_count": 20,
     "metadata": {},
     "output_type": "execute_result"
    }
   ],
   "source": [
    "np.sqrt(((d[num_cols] - d[num_cols].mean())**2).mean(axis=0))"
   ]
  },
  {
   "cell_type": "code",
   "execution_count": 21,
   "id": "mounted-japanese",
   "metadata": {},
   "outputs": [
    {
     "data": {
      "text/plain": [
       "重さ     119.363781\n",
       "高さ       1.233534\n",
       "HP      26.199108\n",
       "攻撃      29.649037\n",
       "防御      29.547300\n",
       "特攻      29.356250\n",
       "特防      27.028065\n",
       "素早さ     28.440747\n",
       "合計     111.783830\n",
       "dtype: float64"
      ]
     },
     "execution_count": 21,
     "metadata": {},
     "output_type": "execute_result"
    }
   ],
   "source": [
    "d[num_cols].std(ddof=0)"
   ]
  },
  {
   "cell_type": "markdown",
   "id": "laden-steal",
   "metadata": {},
   "source": [
    "分布の中心の位置が著しく異なる場合には分散をもって分布の散らばり具合を比較することはできない。\n",
    "変動係数と呼ばれる、平均$\\bar{x}$を考慮した上で散らばり具合を相対的に比較するのに便利な指標がある。\n",
    "$$\n",
    "C.V.=S_x/\\bar{x}\n",
    "$$\n"
   ]
  },
  {
   "cell_type": "code",
   "execution_count": 22,
   "id": "horizontal-seeker",
   "metadata": {},
   "outputs": [
    {
     "data": {
      "text/plain": [
       "重さ     0.535925\n",
       "高さ     0.961440\n",
       "HP     2.634868\n",
       "攻撃     2.581687\n",
       "防御     2.433304\n",
       "特攻     2.373652\n",
       "特防     2.585739\n",
       "素早さ    2.318852\n",
       "合計     3.784020\n",
       "dtype: float64"
      ]
     },
     "execution_count": 22,
     "metadata": {},
     "output_type": "execute_result"
    }
   ],
   "source": [
    "d[num_cols].mean() / d[num_cols].std(ddof=0)"
   ]
  },
  {
   "cell_type": "markdown",
   "id": "valued-supervisor",
   "metadata": {},
   "source": [
    "データを次のように変換した場合、\n",
    "すなわち、平均を差し引き標準偏差で割って、位置。尺度の調整をした結果、\n",
    "$$\n",
    "z_i=\\frac{x_i-\\bar{x}}{S_x}\n",
    "$$\n",
    "平均は0、標準偏差は1にそろったことになる。\n",
    "$z$を$x$の標準化や、標準得点と呼ぶ。"
   ]
  },
  {
   "cell_type": "code",
   "execution_count": 23,
   "id": "handmade-anatomy",
   "metadata": {},
   "outputs": [
    {
     "data": {
      "text/html": [
       "<div>\n",
       "<style scoped>\n",
       "    .dataframe tbody tr th:only-of-type {\n",
       "        vertical-align: middle;\n",
       "    }\n",
       "\n",
       "    .dataframe tbody tr th {\n",
       "        vertical-align: top;\n",
       "    }\n",
       "\n",
       "    .dataframe thead th {\n",
       "        text-align: right;\n",
       "    }\n",
       "</style>\n",
       "<table border=\"1\" class=\"dataframe\">\n",
       "  <thead>\n",
       "    <tr style=\"text-align: right;\">\n",
       "      <th></th>\n",
       "      <th>重さ</th>\n",
       "      <th>高さ</th>\n",
       "      <th>HP</th>\n",
       "      <th>攻撃</th>\n",
       "      <th>防御</th>\n",
       "      <th>特攻</th>\n",
       "      <th>特防</th>\n",
       "      <th>素早さ</th>\n",
       "      <th>合計</th>\n",
       "    </tr>\n",
       "  </thead>\n",
       "  <tbody>\n",
       "    <tr>\n",
       "      <th>count</th>\n",
       "      <td>8.980000e+02</td>\n",
       "      <td>8.980000e+02</td>\n",
       "      <td>8.980000e+02</td>\n",
       "      <td>8.980000e+02</td>\n",
       "      <td>8.980000e+02</td>\n",
       "      <td>8.980000e+02</td>\n",
       "      <td>8.980000e+02</td>\n",
       "      <td>8.980000e+02</td>\n",
       "      <td>8.980000e+02</td>\n",
       "    </tr>\n",
       "    <tr>\n",
       "      <th>mean</th>\n",
       "      <td>7.912503e-18</td>\n",
       "      <td>-3.956251e-17</td>\n",
       "      <td>-2.532001e-16</td>\n",
       "      <td>3.165001e-17</td>\n",
       "      <td>1.978126e-16</td>\n",
       "      <td>1.582501e-16</td>\n",
       "      <td>-1.582501e-17</td>\n",
       "      <td>1.978126e-17</td>\n",
       "      <td>6.330002e-17</td>\n",
       "    </tr>\n",
       "    <tr>\n",
       "      <th>std</th>\n",
       "      <td>1.000557e+00</td>\n",
       "      <td>1.000557e+00</td>\n",
       "      <td>1.000557e+00</td>\n",
       "      <td>1.000557e+00</td>\n",
       "      <td>1.000557e+00</td>\n",
       "      <td>1.000557e+00</td>\n",
       "      <td>1.000557e+00</td>\n",
       "      <td>1.000557e+00</td>\n",
       "      <td>1.000557e+00</td>\n",
       "    </tr>\n",
       "    <tr>\n",
       "      <th>min</th>\n",
       "      <td>-5.350873e-01</td>\n",
       "      <td>-8.803717e-01</td>\n",
       "      <td>-2.596698e+00</td>\n",
       "      <td>-2.413048e+00</td>\n",
       "      <td>-2.264083e+00</td>\n",
       "      <td>-2.033009e+00</td>\n",
       "      <td>-1.845768e+00</td>\n",
       "      <td>-2.143048e+00</td>\n",
       "      <td>-2.218498e+00</td>\n",
       "    </tr>\n",
       "    <tr>\n",
       "      <th>25%</th>\n",
       "      <td>-4.647142e-01</td>\n",
       "      <td>-5.561003e-01</td>\n",
       "      <td>-7.264057e-01</td>\n",
       "      <td>-7.266524e-01</td>\n",
       "      <td>-7.411016e-01</td>\n",
       "      <td>-7.981780e-01</td>\n",
       "      <td>-7.358103e-01</td>\n",
       "      <td>-7.366153e-01</td>\n",
       "      <td>-9.213515e-01</td>\n",
       "    </tr>\n",
       "    <tr>\n",
       "      <th>50%</th>\n",
       "      <td>-3.097258e-01</td>\n",
       "      <td>-1.507610e-01</td>\n",
       "      <td>-1.538671e-01</td>\n",
       "      <td>-5.209422e-02</td>\n",
       "      <td>-1.657529e-01</td>\n",
       "      <td>-1.594725e-01</td>\n",
       "      <td>-1.808316e-01</td>\n",
       "      <td>-3.339886e-02</td>\n",
       "      <td>1.521490e-01</td>\n",
       "    </tr>\n",
       "    <tr>\n",
       "      <th>75%</th>\n",
       "      <td>8.628710e-03</td>\n",
       "      <td>2.545784e-01</td>\n",
       "      <td>4.186715e-01</td>\n",
       "      <td>6.224639e-01</td>\n",
       "      <td>6.126600e-01</td>\n",
       "      <td>6.921349e-01</td>\n",
       "      <td>5.591400e-01</td>\n",
       "      <td>6.698175e-01</td>\n",
       "      <td>6.888992e-01</td>\n",
       "    </tr>\n",
       "    <tr>\n",
       "      <th>max</th>\n",
       "      <td>7.840988e+00</td>\n",
       "      <td>1.525213e+01</td>\n",
       "      <td>7.098288e+00</td>\n",
       "      <td>3.523064e+00</td>\n",
       "      <td>5.350826e+00</td>\n",
       "      <td>3.519471e+00</td>\n",
       "      <td>5.923934e+00</td>\n",
       "      <td>4.713312e+00</td>\n",
       "      <td>2.656984e+00</td>\n",
       "    </tr>\n",
       "  </tbody>\n",
       "</table>\n",
       "</div>"
      ],
      "text/plain": [
       "                 重さ            高さ            HP            攻撃            防御  \\\n",
       "count  8.980000e+02  8.980000e+02  8.980000e+02  8.980000e+02  8.980000e+02   \n",
       "mean   7.912503e-18 -3.956251e-17 -2.532001e-16  3.165001e-17  1.978126e-16   \n",
       "std    1.000557e+00  1.000557e+00  1.000557e+00  1.000557e+00  1.000557e+00   \n",
       "min   -5.350873e-01 -8.803717e-01 -2.596698e+00 -2.413048e+00 -2.264083e+00   \n",
       "25%   -4.647142e-01 -5.561003e-01 -7.264057e-01 -7.266524e-01 -7.411016e-01   \n",
       "50%   -3.097258e-01 -1.507610e-01 -1.538671e-01 -5.209422e-02 -1.657529e-01   \n",
       "75%    8.628710e-03  2.545784e-01  4.186715e-01  6.224639e-01  6.126600e-01   \n",
       "max    7.840988e+00  1.525213e+01  7.098288e+00  3.523064e+00  5.350826e+00   \n",
       "\n",
       "                 特攻            特防           素早さ            合計  \n",
       "count  8.980000e+02  8.980000e+02  8.980000e+02  8.980000e+02  \n",
       "mean   1.582501e-16 -1.582501e-17  1.978126e-17  6.330002e-17  \n",
       "std    1.000557e+00  1.000557e+00  1.000557e+00  1.000557e+00  \n",
       "min   -2.033009e+00 -1.845768e+00 -2.143048e+00 -2.218498e+00  \n",
       "25%   -7.981780e-01 -7.358103e-01 -7.366153e-01 -9.213515e-01  \n",
       "50%   -1.594725e-01 -1.808316e-01 -3.339886e-02  1.521490e-01  \n",
       "75%    6.921349e-01  5.591400e-01  6.698175e-01  6.888992e-01  \n",
       "max    3.519471e+00  5.923934e+00  4.713312e+00  2.656984e+00  "
      ]
     },
     "execution_count": 23,
     "metadata": {},
     "output_type": "execute_result"
    }
   ],
   "source": [
    "from sklearn.preprocessing import StandardScaler\n",
    "\n",
    "scaler = StandardScaler()\n",
    "d_scaled = scaler.fit_transform(d[num_cols])\n",
    "pd.DataFrame(d_scaled, columns=num_cols).describe()"
   ]
  },
  {
   "cell_type": "code",
   "execution_count": null,
   "id": "mathematical-modeling",
   "metadata": {},
   "outputs": [],
   "source": []
  },
  {
   "cell_type": "code",
   "execution_count": null,
   "id": "constitutional-denver",
   "metadata": {},
   "outputs": [],
   "source": []
  },
  {
   "cell_type": "code",
   "execution_count": null,
   "id": "limiting-plenty",
   "metadata": {},
   "outputs": [],
   "source": []
  }
 ],
 "metadata": {
  "kernelspec": {
   "display_name": "Python 3",
   "language": "python",
   "name": "python3"
  },
  "language_info": {
   "codemirror_mode": {
    "name": "ipython",
    "version": 3
   },
   "file_extension": ".py",
   "mimetype": "text/x-python",
   "name": "python",
   "nbconvert_exporter": "python",
   "pygments_lexer": "ipython3",
   "version": "3.8.5"
  }
 },
 "nbformat": 4,
 "nbformat_minor": 5
}
