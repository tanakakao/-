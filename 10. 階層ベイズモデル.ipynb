{
 "cells": [
  {
   "cell_type": "markdown",
   "id": "dressed-source",
   "metadata": {},
   "source": [
    "## 10. 階層ベイズモデル\n",
    "### 10.1 個体差と生存種子数(個体差あり)\n",
    "個体数100の架空の植物の各個体から8個の種子を採取し、個体$i$における生存種子数$y_i$を調査した。"
   ]
  },
  {
   "cell_type": "code",
   "execution_count": 4,
   "id": "alpha-vessel",
   "metadata": {},
   "outputs": [
    {
     "data": {
      "text/html": [
       "<div>\n",
       "<style scoped>\n",
       "    .dataframe tbody tr th:only-of-type {\n",
       "        vertical-align: middle;\n",
       "    }\n",
       "\n",
       "    .dataframe tbody tr th {\n",
       "        vertical-align: top;\n",
       "    }\n",
       "\n",
       "    .dataframe thead th {\n",
       "        text-align: right;\n",
       "    }\n",
       "</style>\n",
       "<table border=\"1\" class=\"dataframe\">\n",
       "  <thead>\n",
       "    <tr style=\"text-align: right;\">\n",
       "      <th></th>\n",
       "      <th>N</th>\n",
       "      <th>y</th>\n",
       "      <th>x</th>\n",
       "      <th>id</th>\n",
       "    </tr>\n",
       "  </thead>\n",
       "  <tbody>\n",
       "    <tr>\n",
       "      <th>0</th>\n",
       "      <td>8</td>\n",
       "      <td>0</td>\n",
       "      <td>2</td>\n",
       "      <td>1</td>\n",
       "    </tr>\n",
       "    <tr>\n",
       "      <th>1</th>\n",
       "      <td>8</td>\n",
       "      <td>1</td>\n",
       "      <td>2</td>\n",
       "      <td>2</td>\n",
       "    </tr>\n",
       "    <tr>\n",
       "      <th>2</th>\n",
       "      <td>8</td>\n",
       "      <td>2</td>\n",
       "      <td>2</td>\n",
       "      <td>3</td>\n",
       "    </tr>\n",
       "    <tr>\n",
       "      <th>3</th>\n",
       "      <td>8</td>\n",
       "      <td>4</td>\n",
       "      <td>2</td>\n",
       "      <td>4</td>\n",
       "    </tr>\n",
       "    <tr>\n",
       "      <th>4</th>\n",
       "      <td>8</td>\n",
       "      <td>1</td>\n",
       "      <td>2</td>\n",
       "      <td>5</td>\n",
       "    </tr>\n",
       "  </tbody>\n",
       "</table>\n",
       "</div>"
      ],
      "text/plain": [
       "   N  y  x  id\n",
       "0  8  0  2   1\n",
       "1  8  1  2   2\n",
       "2  8  2  2   3\n",
       "3  8  4  2   4\n",
       "4  8  1  2   5"
      ]
     },
     "execution_count": 4,
     "metadata": {},
     "output_type": "execute_result"
    }
   ],
   "source": [
    "import pandas as pd\n",
    "\n",
    "d = pd.read_csv('C:/Users/tanak/study/参考書/データ解析のための統計モデリング/kubobook_2012/glmm/data.csv')\n",
    "d.head()"
   ]
  },
  {
   "cell_type": "markdown",
   "id": "educated-gravity",
   "metadata": {},
   "source": [
    "生存種子数のヒストグラムは次のようになり、個体に由来するランダム効果によって過分散が生じている。"
   ]
  },
  {
   "cell_type": "code",
   "execution_count": 26,
   "id": "textile-maria",
   "metadata": {},
   "outputs": [
    {
     "data": {
      "image/png": "[encoded data removed]",
      "text/plain": [
       "<Figure size 432x288 with 1 Axes>"
      ]
     },
     "metadata": {
      "needs_background": "light"
     },
     "output_type": "display_data"
    }
   ],
   "source": [
    "import matplotlib.pyplot as plt\n",
    "import numpy as np\n",
    "from scipy.stats import binom\n",
    "\n",
    "p = binom.pmf(np.arange(9), n=8, p=0.504)*len(d)\n",
    "\n",
    "plt.scatter(np.arange(9), d.groupby('y')['id'].count(), color='blue');\n",
    "plt.plot(np.arange(9), p, '-o', color='red');"
   ]
  },
  {
   "cell_type": "markdown",
   "id": "commercial-muslim",
   "metadata": {},
   "source": [
    "### 10.2 GLMMの階層ベイズモデル化\n",
    "個体ごとに由来する原因不明な差異などを組み込んだGLMが**GLMM(階層ベイズモデル)**である。  \n",
    "しかし、個体差だけでなく場所差なども考慮するGLMMの場合は、パラメータの最尤推定が困難である。  \n",
    "リンク関数と線形予測子を$logit(q_i)=\\beta+r_i$とする。  \n",
    "$\\beta$は全個体に共通するパラメータであり、個体差を表す$r_i$は平均ゼロで標準偏差$s$の正規分布に従うと仮定する。  \n",
    "データが得られる確率$p(\\boldsymbol{Y}|\\beta,\\{r_i\\})$は全100個体の二項分布の積であるから、  \n",
    "$$\n",
    "p(\\boldsymbol{Y}|\\beta,\\{r_i\\})=\\prod_i\\begin{pmatrix}8\\\\y_i\\end{pmatrix}q_i^{y_i}(1-q_i)^{8-y_i}\n",
    "$$\n",
    "となる。  \n",
    "推定したい事後分布は、\n",
    "$$\n",
    "事後分布 \\propto p(\\boldsymbol{Y}|\\beta,\\{r_i\\})×事前分布\n",
    "$$\n",
    "となるので、事前分布を設定すれば統計モデルの設計は完了する。  \n",
    "$\\beta$の事前分布として無情報事前分布を指定する。  \n",
    "これは、平均ゼロで標準偏差100の正規分布\n",
    "$$\n",
    "p(\\beta)=\\frac{1}{\\sqrt{2\\pi×100^2}}\\exp{\\biggl(\\frac{-\\beta^2}{2×100^2}\\biggr)}\n",
    "$$\n",
    "とする。  \n",
    "個体差$r_i$の事前分布については、平均ゼロで標準偏差$s$の正規分布\n",
    "$$\n",
    "p(r_i|s)=\\frac{1}{\\sqrt{2\\pi s^2}}\\exp{\\biggl(\\frac{-r_i^2}{2s^2} \\biggr)}\n",
    "$$\n",
    "であるとする。  \n",
    "ここでは、事前分布$p(s)$を無情報事前分布としてよいので、\n",
    "$$\n",
    "p(s)=(0から10^4までの連続一様分布)\n",
    "$$\n",
    "とする。  \n",
    "このように、個体差$r_i$の事前分布$p(r_i|s)$のかたちを決める$s$という未知のパラメータがあって、  \n",
    "さらにこの$s$についても事前分布$p(s)$が設定されているとき、ここでは$p(r_i|s)$を**階層事前分布**と呼ぶ。  \n",
    "また、パラメータ$s$は**超パラメータ**、事前分布の事前分布である$p(s)$は**超事前分布**と呼ぶ。  \n",
    "このような階層事前分布を使っているベイズ統計モデルが**階層ベイズモデル**である。"
   ]
  },
  {
   "cell_type": "markdown",
   "id": "accurate-nancy",
   "metadata": {},
   "source": [
    "### 10.3 階層ベイズモデルの推定・予測\n",
    "この例題の階層ベイズモデルの事後分布は、\n",
    "$$\n",
    "p(\\beta,s,\\{r_i\\}|\\boldsymbol{Y})\\propto p(\\boldsymbol{Y}|\\beta,\\{r_i\\})p(\\beta)p(s)\\prod_ip(r_i|s)\n",
    "$$\n",
    "と書ける。"
   ]
  },
  {
   "cell_type": "code",
   "execution_count": 158,
   "id": "coastal-serum",
   "metadata": {
    "scrolled": false
   },
   "outputs": [
    {
     "data": {
      "text/html": [
       "\n",
       "    <div>\n",
       "        <style>\n",
       "            /* Turns off some styling */\n",
       "            progress {\n",
       "                /* gets rid of default border in Firefox and Opera. */\n",
       "                border: none;\n",
       "                /* Needs to be in here for Safari polyfill so background images work as expected. */\n",
       "                background-size: auto;\n",
       "            }\n",
       "            .progress-bar-interrupted, .progress-bar-interrupted::-webkit-progress-bar {\n",
       "                background: #F44336;\n",
       "            }\n",
       "        </style>\n",
       "      <progress value='49' class='' max='49' style='width:300px; height:20px; vertical-align: middle;'></progress>\n",
       "      100.00% [49/49 00:02<00:00 logp = -307.91, ||grad|| = 0.010597]\n",
       "    </div>\n",
       "    "
      ],
      "text/plain": [
       "<IPython.core.display.HTML object>"
      ]
     },
     "metadata": {},
     "output_type": "display_data"
    },
    {
     "name": "stdout",
     "output_type": "stream",
     "text": [
      "\n"
     ]
    },
    {
     "name": "stderr",
     "output_type": "stream",
     "text": [
      "<ipython-input-158-ab46a59a3c87>:14: FutureWarning: In v4.0, pm.sample will return an `arviz.InferenceData` object instead of a `MultiTrace` by default. You can pass return_inferencedata=True or return_inferencedata=False to be safe and silence this warning.\n",
      "  trace = pm.sample(500,\n",
      "Multiprocess sampling (4 chains in 4 jobs)\n",
      "NUTS: [r, s, beta]\n"
     ]
    },
    {
     "data": {
      "text/html": [
       "\n",
       "    <div>\n",
       "        <style>\n",
       "            /* Turns off some styling */\n",
       "            progress {\n",
       "                /* gets rid of default border in Firefox and Opera. */\n",
       "                border: none;\n",
       "                /* Needs to be in here for Safari polyfill so background images work as expected. */\n",
       "                background-size: auto;\n",
       "            }\n",
       "            .progress-bar-interrupted, .progress-bar-interrupted::-webkit-progress-bar {\n",
       "                background: #F44336;\n",
       "            }\n",
       "        </style>\n",
       "      <progress value='2200' class='' max='2200' style='width:300px; height:20px; vertical-align: middle;'></progress>\n",
       "      100.00% [2200/2200 44:40<00:00 Sampling 4 chains, 0 divergences]\n",
       "    </div>\n",
       "    "
      ],
      "text/plain": [
       "<IPython.core.display.HTML object>"
      ]
     },
     "metadata": {},
     "output_type": "display_data"
    },
    {
     "name": "stderr",
     "output_type": "stream",
     "text": [
      "Sampling 4 chains for 50 tune and 500 draw iterations (200 + 2_000 draws total) took 2692 seconds.\n",
      "The acceptance probability does not match the target. It is 0.9577723055235489, but should be close to 0.8. Try to increase the number of tuning steps.\n",
      "The acceptance probability does not match the target. It is 0.9310122710043224, but should be close to 0.8. Try to increase the number of tuning steps.\n",
      "The acceptance probability does not match the target. It is 0.9271459732436286, but should be close to 0.8. Try to increase the number of tuning steps.\n",
      "The acceptance probability does not match the target. It is 0.9461427115223386, but should be close to 0.8. Try to increase the number of tuning steps.\n",
      "The number of effective samples is smaller than 25% for some parameters.\n",
      "Got error No model on context stack. trying to find log_likelihood in translation.\n",
      "C:\\Users\\tanak\\anaconda3\\envs\\tanaka_env1\\lib\\site-packages\\arviz\\data\\io_pymc3_3x.py:98: FutureWarning: Using `from_pymc3` without the model will be deprecated in a future release. Not using the model will return less accurate and less useful results. Make sure you use the model argument or call from_pymc3 within a model context.\n",
      "  warnings.warn(\n"
     ]
    },
    {
     "data": {
      "text/html": [
       "<div>\n",
       "<style scoped>\n",
       "    .dataframe tbody tr th:only-of-type {\n",
       "        vertical-align: middle;\n",
       "    }\n",
       "\n",
       "    .dataframe tbody tr th {\n",
       "        vertical-align: top;\n",
       "    }\n",
       "\n",
       "    .dataframe thead th {\n",
       "        text-align: right;\n",
       "    }\n",
       "</style>\n",
       "<table border=\"1\" class=\"dataframe\">\n",
       "  <thead>\n",
       "    <tr style=\"text-align: right;\">\n",
       "      <th></th>\n",
       "      <th>mean</th>\n",
       "      <th>sd</th>\n",
       "      <th>hdi_3%</th>\n",
       "      <th>hdi_97%</th>\n",
       "      <th>mcse_mean</th>\n",
       "      <th>mcse_sd</th>\n",
       "      <th>ess_bulk</th>\n",
       "      <th>ess_tail</th>\n",
       "      <th>r_hat</th>\n",
       "    </tr>\n",
       "  </thead>\n",
       "  <tbody>\n",
       "    <tr>\n",
       "      <th>beta</th>\n",
       "      <td>-0.212</td>\n",
       "      <td>0.341</td>\n",
       "      <td>-0.864</td>\n",
       "      <td>0.402</td>\n",
       "      <td>0.020</td>\n",
       "      <td>0.014</td>\n",
       "      <td>282.0</td>\n",
       "      <td>487.0</td>\n",
       "      <td>1.02</td>\n",
       "    </tr>\n",
       "    <tr>\n",
       "      <th>r[0]</th>\n",
       "      <td>-3.672</td>\n",
       "      <td>1.820</td>\n",
       "      <td>-7.273</td>\n",
       "      <td>-0.796</td>\n",
       "      <td>0.051</td>\n",
       "      <td>0.043</td>\n",
       "      <td>1606.0</td>\n",
       "      <td>910.0</td>\n",
       "      <td>1.01</td>\n",
       "    </tr>\n",
       "    <tr>\n",
       "      <th>r[1]</th>\n",
       "      <td>-1.847</td>\n",
       "      <td>1.089</td>\n",
       "      <td>-3.861</td>\n",
       "      <td>0.100</td>\n",
       "      <td>0.027</td>\n",
       "      <td>0.021</td>\n",
       "      <td>1739.0</td>\n",
       "      <td>1384.0</td>\n",
       "      <td>1.00</td>\n",
       "    </tr>\n",
       "    <tr>\n",
       "      <th>r[2]</th>\n",
       "      <td>-0.963</td>\n",
       "      <td>0.920</td>\n",
       "      <td>-2.621</td>\n",
       "      <td>0.704</td>\n",
       "      <td>0.031</td>\n",
       "      <td>0.023</td>\n",
       "      <td>927.0</td>\n",
       "      <td>973.0</td>\n",
       "      <td>1.01</td>\n",
       "    </tr>\n",
       "    <tr>\n",
       "      <th>r[3]</th>\n",
       "      <td>0.202</td>\n",
       "      <td>0.821</td>\n",
       "      <td>-1.405</td>\n",
       "      <td>1.689</td>\n",
       "      <td>0.026</td>\n",
       "      <td>0.018</td>\n",
       "      <td>991.0</td>\n",
       "      <td>1467.0</td>\n",
       "      <td>1.00</td>\n",
       "    </tr>\n",
       "    <tr>\n",
       "      <th>...</th>\n",
       "      <td>...</td>\n",
       "      <td>...</td>\n",
       "      <td>...</td>\n",
       "      <td>...</td>\n",
       "      <td>...</td>\n",
       "      <td>...</td>\n",
       "      <td>...</td>\n",
       "      <td>...</td>\n",
       "      <td>...</td>\n",
       "    </tr>\n",
       "    <tr>\n",
       "      <th>r[96]</th>\n",
       "      <td>0.757</td>\n",
       "      <td>0.789</td>\n",
       "      <td>-0.776</td>\n",
       "      <td>2.149</td>\n",
       "      <td>0.023</td>\n",
       "      <td>0.017</td>\n",
       "      <td>1213.0</td>\n",
       "      <td>1349.0</td>\n",
       "      <td>1.00</td>\n",
       "    </tr>\n",
       "    <tr>\n",
       "      <th>r[97]</th>\n",
       "      <td>2.229</td>\n",
       "      <td>1.129</td>\n",
       "      <td>0.354</td>\n",
       "      <td>4.443</td>\n",
       "      <td>0.032</td>\n",
       "      <td>0.025</td>\n",
       "      <td>1421.0</td>\n",
       "      <td>1137.0</td>\n",
       "      <td>1.00</td>\n",
       "    </tr>\n",
       "    <tr>\n",
       "      <th>r[98]</th>\n",
       "      <td>-0.964</td>\n",
       "      <td>0.907</td>\n",
       "      <td>-2.741</td>\n",
       "      <td>0.624</td>\n",
       "      <td>0.025</td>\n",
       "      <td>0.019</td>\n",
       "      <td>1312.0</td>\n",
       "      <td>1292.0</td>\n",
       "      <td>1.00</td>\n",
       "    </tr>\n",
       "    <tr>\n",
       "      <th>r[99]</th>\n",
       "      <td>3.997</td>\n",
       "      <td>1.840</td>\n",
       "      <td>0.970</td>\n",
       "      <td>7.440</td>\n",
       "      <td>0.059</td>\n",
       "      <td>0.047</td>\n",
       "      <td>1203.0</td>\n",
       "      <td>897.0</td>\n",
       "      <td>1.00</td>\n",
       "    </tr>\n",
       "    <tr>\n",
       "      <th>s</th>\n",
       "      <td>3.023</td>\n",
       "      <td>0.390</td>\n",
       "      <td>2.294</td>\n",
       "      <td>3.725</td>\n",
       "      <td>0.017</td>\n",
       "      <td>0.012</td>\n",
       "      <td>571.0</td>\n",
       "      <td>895.0</td>\n",
       "      <td>1.00</td>\n",
       "    </tr>\n",
       "  </tbody>\n",
       "</table>\n",
       "<p>102 rows × 9 columns</p>\n",
       "</div>"
      ],
      "text/plain": [
       "        mean     sd  hdi_3%  hdi_97%  mcse_mean  mcse_sd  ess_bulk  ess_tail  \\\n",
       "beta  -0.212  0.341  -0.864    0.402      0.020    0.014     282.0     487.0   \n",
       "r[0]  -3.672  1.820  -7.273   -0.796      0.051    0.043    1606.0     910.0   \n",
       "r[1]  -1.847  1.089  -3.861    0.100      0.027    0.021    1739.0    1384.0   \n",
       "r[2]  -0.963  0.920  -2.621    0.704      0.031    0.023     927.0     973.0   \n",
       "r[3]   0.202  0.821  -1.405    1.689      0.026    0.018     991.0    1467.0   \n",
       "...      ...    ...     ...      ...        ...      ...       ...       ...   \n",
       "r[96]  0.757  0.789  -0.776    2.149      0.023    0.017    1213.0    1349.0   \n",
       "r[97]  2.229  1.129   0.354    4.443      0.032    0.025    1421.0    1137.0   \n",
       "r[98] -0.964  0.907  -2.741    0.624      0.025    0.019    1312.0    1292.0   \n",
       "r[99]  3.997  1.840   0.970    7.440      0.059    0.047    1203.0     897.0   \n",
       "s      3.023  0.390   2.294    3.725      0.017    0.012     571.0     895.0   \n",
       "\n",
       "       r_hat  \n",
       "beta    1.02  \n",
       "r[0]    1.01  \n",
       "r[1]    1.00  \n",
       "r[2]    1.01  \n",
       "r[3]    1.00  \n",
       "...      ...  \n",
       "r[96]   1.00  \n",
       "r[97]   1.00  \n",
       "r[98]   1.00  \n",
       "r[99]   1.00  \n",
       "s       1.00  \n",
       "\n",
       "[102 rows x 9 columns]"
      ]
     },
     "execution_count": 158,
     "metadata": {},
     "output_type": "execute_result"
    }
   ],
   "source": [
    "import pymc3 as pm\n",
    "\n",
    "\n",
    "with pm.Model() as model:\n",
    "    beta = pm.Normal('beta', mu=0, sd=100)\n",
    "\n",
    "    s = pm.Uniform('s', upper=10000, lower=0)\n",
    "    r = pm.Normal('r', mu=0, sd=s, shape=len(d.y))\n",
    "    \n",
    "    y = pm.Binomial('y', p=pm.invlogit(beta + r), n=8, observed=d['y'].values)\n",
    "\n",
    "# サンプリングして推定する\n",
    "with model: # Metropolis, HamiltonianMC\n",
    "    trace = pm.sample(500,\n",
    "                      start=pm.find_MAP(),\n",
    "                      step=pm.NUTS(),\n",
    "                      tune=50, # 最初の100ステップは捨てる\n",
    "                      init='adapt_diag',\n",
    "                      chains=4,\n",
    "                      cores=4,\n",
    "                      random_seed=0)\n",
    "\n",
    "# 得られた結果を確認する\n",
    "#pm.traceplot(trace) # サンプリング過程を表示する\n",
    "pm.summary(trace) # 推定結果を表示する"
   ]
  },
  {
   "cell_type": "code",
   "execution_count": 184,
   "id": "aging-bobby",
   "metadata": {},
   "outputs": [
    {
     "data": {
      "image/png": "[encoded data removed]",
      "text/plain": [
       "<Figure size 432x216 with 1 Axes>"
      ]
     },
     "metadata": {
      "needs_background": "light"
     },
     "output_type": "display_data"
    }
   ],
   "source": [
    "import seaborn as sns\n",
    "\n",
    "sns.displot(trace.r, kind=\"kde\", legend=False,height=3,aspect=2);"
   ]
  },
  {
   "cell_type": "code",
   "execution_count": 183,
   "id": "exciting-parade",
   "metadata": {},
   "outputs": [
    {
     "data": {
      "text/plain": [
       "[<matplotlib.lines.Line2D at 0x22e42ee3820>]"
      ]
     },
     "execution_count": 183,
     "metadata": {},
     "output_type": "execute_result"
    },
    {
     "data": {
      "image/png": "[encoded data removed]",
      "text/plain": [
       "<Figure size 432x288 with 1 Axes>"
      ]
     },
     "metadata": {
      "needs_background": "light"
     },
     "output_type": "display_data"
    }
   ],
   "source": [
    "plt.plot(trace.r.mean(axis=0))"
   ]
  },
  {
   "cell_type": "code",
   "execution_count": null,
   "id": "offshore-saudi",
   "metadata": {},
   "outputs": [],
   "source": []
  },
  {
   "cell_type": "code",
   "execution_count": 173,
   "id": "desirable-slovakia",
   "metadata": {},
   "outputs": [],
   "source": [
    "?sns.displot"
   ]
  },
  {
   "cell_type": "markdown",
   "id": "supported-northern",
   "metadata": {},
   "source": [
    "### 10.4 ベイズモデルで使うさまざまな事前分布\n",
    "あるパラメータとして、無情報事前分布・階層事前分布のどちらを選ぶべきかを考える。  \n",
    "その選択はそのパラメータがデータ全体のどの範囲を使用しているかに依存すると考えてよい。  \n",
    "統計モデルには2種類のパラメータが含まれている。\n",
    "- データ全体を大域的に説明する少数のパラメータ\n",
    "- データのごく一部だけを説明する局所的な多数のパラメータ\n",
    "\n",
    "である。  \n",
    "この例では、切片$\\beta$はデータ全体を説明している大域的なパラメータなので、無情報事前分布を用いて推定する。  \n",
    "一方で、100個ある個体差$\\{r_i\\}$は、\n",
    "- 個々の$r_i$はデータ全体のごく一部を説明しているだけ\n",
    "- 全個体の$\\{r_i\\}$は「似たような」パラメータのあつまりと考えられる\n",
    "\n",
    "といった性質を持つ局所的なパラメータであるので、階層事前分布を指定する。  \n"
   ]
  },
  {
   "cell_type": "markdown",
   "id": "bound-arrow",
   "metadata": {},
   "source": [
    "### 10.5 個体差+場所差の階層ベイズモデル\n",
    "個体差だけでなく場所差も組み込んだ階層ベイズモデルについて考える。  \n",
    "今回の実験では、植木鉢(pot)が10個($j\\in\\{A,B,C,\\cdots,J\\}$)準備されていて、各植木鉢に10個体の植物が育てられているとする。  \n",
    "個体番号$i$は、$\\{1,2,\\cdots,100\\}$となっていて、植木鉢Aには$\\{1,2,\\cdots,10\\}$、植木鉢Bには$\\{11,12,\\cdots,20\\}$となるように番号が付けられている。  \n",
    "$j\\in\\{A,B,C,D,E\\}$の植木鉢は無処理($f_i=0$)、$j\\in\\{F,G,H,I,J\\}$の植木鉢は施肥処理した($f_i=1$)とする。  "
   ]
  },
  {
   "cell_type": "code",
   "execution_count": 134,
   "id": "standard-kidney",
   "metadata": {},
   "outputs": [
    {
     "data": {
      "text/html": [
       "<div>\n",
       "<style scoped>\n",
       "    .dataframe tbody tr th:only-of-type {\n",
       "        vertical-align: middle;\n",
       "    }\n",
       "\n",
       "    .dataframe tbody tr th {\n",
       "        vertical-align: top;\n",
       "    }\n",
       "\n",
       "    .dataframe thead th {\n",
       "        text-align: right;\n",
       "    }\n",
       "</style>\n",
       "<table border=\"1\" class=\"dataframe\">\n",
       "  <thead>\n",
       "    <tr style=\"text-align: right;\">\n",
       "      <th></th>\n",
       "      <th>N</th>\n",
       "      <th>y</th>\n",
       "      <th>x</th>\n",
       "    </tr>\n",
       "  </thead>\n",
       "  <tbody>\n",
       "    <tr>\n",
       "      <th>0</th>\n",
       "      <td>8</td>\n",
       "      <td>1</td>\n",
       "      <td>2</td>\n",
       "    </tr>\n",
       "    <tr>\n",
       "      <th>1</th>\n",
       "      <td>8</td>\n",
       "      <td>0</td>\n",
       "      <td>2</td>\n",
       "    </tr>\n",
       "    <tr>\n",
       "      <th>2</th>\n",
       "      <td>8</td>\n",
       "      <td>1</td>\n",
       "      <td>2</td>\n",
       "    </tr>\n",
       "    <tr>\n",
       "      <th>3</th>\n",
       "      <td>8</td>\n",
       "      <td>2</td>\n",
       "      <td>2</td>\n",
       "    </tr>\n",
       "    <tr>\n",
       "      <th>4</th>\n",
       "      <td>8</td>\n",
       "      <td>2</td>\n",
       "      <td>2</td>\n",
       "    </tr>\n",
       "  </tbody>\n",
       "</table>\n",
       "</div>"
      ],
      "text/plain": [
       "   N  y  x\n",
       "0  8  1  2\n",
       "1  8  0  2\n",
       "2  8  1  2\n",
       "3  8  2  2\n",
       "4  8  2  2"
      ]
     },
     "execution_count": 134,
     "metadata": {},
     "output_type": "execute_result"
    }
   ],
   "source": [
    "d2 = pd.read_csv('C:/Users/tanak/study/参考書/データ解析のための統計モデリング/kubobook_2012/glmm/data6a.csv')\n",
    "d2.head()"
   ]
  },
  {
   "cell_type": "markdown",
   "id": "painted-surge",
   "metadata": {},
   "source": [
    "観測された個体ごとの種子数$y_i$と処理ごとの平均を図に示す。  \n",
    "ポアソン分布にしたがうと考えたときに平均が8ぐらいであることから標本標準偏差は$\\sqrt{8}$ぐらいになるはずであるが、  \n",
    "図からそれより大きいことは明らかであり過分散が発生していると考えられる。  \n",
    "また、植木鉢の差にも原因があることが予想される。  \n",
    "個体も植木鉢も疑似反復であるので、個体差と植木鉢差を同時に扱う統計モデルを作らなければならない。  \n",
    "これまでのように個体$i$の種子数$y_i$のばらつきを平均$\\lambda_i$のポアソン分布  \n",
    "$$\n",
    "p(y_i|\\lambda_i)=\\frac{\\lambda_i^{y_i}\\exp{-\\lambda_i}}{y_i!}\n",
    "$$\n",
    "で表現する。  \n",
    "線形予測子と対数リンク関数を使って平均種子数$\\lambda_i$は、\n",
    "$$\n",
    "\\log{\\lambda_i}=\\beta_1+\\beta_2f_i+r_i+r_{j(i)}\n",
    "$$\n",
    "とする。  \n",
    "個体差を表す$r_i$は100個、植木鉢の差である$r_{j(i)}$は10個あり、それぞれのばらつきを$s$と$s_p$とする。  \n",
    "- 大域的な平均パラメータである$\\beta_1$と$\\beta_2$は無情報事前分布、平均ゼロの押しつぶされた正規分布\n",
    "- 大域的なばらつきパラメータである$s$と$s_p$は無情報事前分布、$0$から$10^4$の範囲をとる一様分布\n",
    "- 局所パラメータである$r_i$と$r_{j(i)}$は階層事前分布、平均ゼロで標準偏差はそれぞれ$s$と$s_p$"
   ]
  },
  {
   "cell_type": "code",
   "execution_count": null,
   "id": "conscious-rolling",
   "metadata": {},
   "outputs": [],
   "source": []
  },
  {
   "cell_type": "code",
   "execution_count": null,
   "id": "raised-spelling",
   "metadata": {},
   "outputs": [],
   "source": []
  }
 ],
 "metadata": {
  "kernelspec": {
   "display_name": "Python 3",
   "language": "python",
   "name": "python3"
  },
  "language_info": {
   "codemirror_mode": {
    "name": "ipython",
    "version": 3
   },
   "file_extension": ".py",
   "mimetype": "text/x-python",
   "name": "python",
   "nbconvert_exporter": "python",
   "pygments_lexer": "ipython3",
   "version": "3.8.5"
  }
 },
 "nbformat": 4,
 "nbformat_minor": 5
}
