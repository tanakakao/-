{
 "cells": [
  {
   "cell_type": "markdown",
   "metadata": {},
   "source": [
    "## 2. ホテリングの$T^2$法による異常検知\n",
    "### 2.1 多変量正規分布の最尤推定\n",
    "$M$次元ベクトル$\\boldsymbol{x}$がN個観測されているとする。\n",
    "$$\n",
    "D=\\{\\boldsymbol{x}^{(1)},\\boldsymbol{x}^{(2)},\\cdots,\\boldsymbol{x}^{(N)}\\}\n",
    "$$\n",
    "\n",
    "ホテリングの$t^2$法では、このデータが異常標本を含まないか、含んでいたとしてもごく少数であるという前提のもと、  \n",
    "各標本が独立に次の確率密度関数に従うと仮定する。\n",
    "$$\n",
    "N(\\boldsymbol{x}|\\boldsymbol{\\mu},\\boldsymbol{\\Sigma})=\\frac{|\\Sigma|^{-1/2}}{(2\\pi)^{M/2}}\\exp{\\biggl\\{-\\frac{1}{2}(\\boldsymbol{x}-\\boldsymbol{\\mu})^T\\Sigma^{-1}(\\boldsymbol{x}-\\boldsymbol{\\mu}) \\biggr\\}}\n",
    "$$\n",
    "\n",
    "この確率密度関数を**正規分布(ガウス分布)**と呼ぶ。  \n",
    "$\\mu$は平均、$\\Sigma$は共分散行列、$|・|$は行列式を表している。  \n",
    "また、$\\Sigma^{-1}$をしばしば$\\Lambda$で表し、これを**精度行列**と呼ぶ。  \n",
    "  \n",
    "パラメータをデータ$D$から決める方法として、**最尤推定**と呼ばれるものがある。  \n",
    "$D$の対数尤度$L(\\boldsymbol{\\mu},\\Sigma|D)$は次のようになる。\n",
    "$$\n",
    "L(\\boldsymbol{\\mu},\\Sigma|D)=\\ln{\\prod_{n=1}^N N(\\boldsymbol{x}^{(n)}|\\boldsymbol{\\mu},\\Sigma)}=\\sum_{n=1}^N\\ln{ N(\\boldsymbol{x}^{(n)}|\\boldsymbol{\\mu},\\Sigma)}\n",
    "$$\n",
    "\n",
    "これを最大化するようにパラメータを決める。  \n",
    "多変量正規分布の定義を代入する。\n",
    "$$\n",
    "L(\\boldsymbol{\\mu},\\Sigma|D)=-\\frac{MN}{2}\\ln{(2\\pi)}-\\frac{N}{2}\\ln{|\\Sigma|}-\\frac{1}{2}\\sum_{n=1}^N(\\boldsymbol{x}^{(n)}-\\boldsymbol{\\mu})^T\\Sigma^{-1}(\\boldsymbol{x}^{(n)}-\\boldsymbol{\\mu})\n",
    "$$\n",
    "\n",
    "$L(\\boldsymbol{\\mu},\\Sigma|D)$を$\\boldsymbol{\\mu}$で微分して0と等値とする。  \n",
    "$$\n",
    "\\frac{\\partial L(\\boldsymbol{\\mu},\\Sigma|D)}{\\partial \\boldsymbol{\\mu}}=\\sum_{n=1}^N\\Sigma^{-1}(\\boldsymbol{x}^{(n)}-\\boldsymbol{\\mu})\n",
    "$$\n",
    "\n",
    "最尤解$\\hat{\\boldsymbol{\\mu}}$は、\n",
    "$$\n",
    "\\hat{\\boldsymbol{\\mu}}=\\frac{1}{N}\\sum_{i=1}^N\\boldsymbol{x}^{(n)}\n",
    "$$\n",
    "\n",
    "となるが、これは**相加平均**である。  \n",
    "$\\Sigma$については、\n",
    "$$\n",
    "-\\ln{|\\Sigma|}=\\ln{|\\Sigma^{-1}|}\\\\\n",
    "\\frac{\\partial}{\\partial A}Tr(AB)=\\frac{\\partial}{\\partial A}Tr(BA)=B^T\\\\\n",
    "\\frac{\\partial}{\\partial A}\\ln{A}=(A^{-1})^T\\\\\n",
    "a^TAb=Tr(a^TAb)=Tr(Aba^T)\n",
    "$$\n",
    "等を利用して、$\\Sigma^{-1}$で微分することにより求める。\n",
    "$$\n",
    "\\hat{\\Sigma}=\\frac{1}{N}(\\boldsymbol{x}^{(n)}-\\hat{\\boldsymbol{\\mu}})(\\boldsymbol{x}^{(n)}-\\hat{\\boldsymbol{\\mu}})^T\n",
    "$$"
   ]
  },
  {
   "cell_type": "code",
   "execution_count": 1,
   "metadata": {},
   "outputs": [],
   "source": [
    "import numpy as np\n",
    "from scipy import linalg\n",
    "\n",
    "def N_Gaussian(x, mu, sigma):\n",
    "    X = np.matrix(x).T\n",
    "    mu = np.matrix(mu).T\n",
    "    sigma = np.matrix(sigma)\n",
    "\n",
    "    x_mu = X - mu\n",
    "\n",
    "    w1 = np.matmul(np.linalg.inv(sigma), x_mu)\n",
    "    w2 = -0.5 * np.matmul(x_mu.T, w1)\n",
    "\n",
    "    det = np.linalg.det(sigma)\n",
    "\n",
    "    N = 1/(np.sqrt(((2*np.pi)**len(x)) * np.abs(det))) * np.exp(w2)\n",
    "    return N[0,0]\n",
    "\n",
    "def box_muller(n):\n",
    "    r1 = np.random.rand(n)\n",
    "    r2 = np.random.rand(n)\n",
    "\n",
    "    x = np.sqrt(-2*np.log(r1)) * np.sin(2*np.pi*r2)\n",
    "    return x\n",
    "\n",
    "def sampling_gaus(n, sample, mu, sigma):\n",
    "    L = np.linalg.cholesky(sigma)\n",
    "\n",
    "    Y = np.array([np.dot(L, box_muller(n)) for _ in range(sample)]) + mu\n",
    "    return Y"
   ]
  },
  {
   "cell_type": "code",
   "execution_count": 2,
   "metadata": {},
   "outputs": [
    {
     "data": {
      "text/plain": [
       "(-5.0, 5.0)"
      ]
     },
     "execution_count": 2,
     "metadata": {},
     "output_type": "execute_result"
    },
    {
     "data": {
      "image/png": "[encoded data removed]",
      "text/plain": [
       "<Figure size 288x288 with 1 Axes>"
      ]
     },
     "metadata": {
      "needs_background": "light"
     },
     "output_type": "display_data"
    }
   ],
   "source": [
    "import matplotlib.pyplot as plt\n",
    "\n",
    "data = sampling_gaus(2, 1000, [1,2], [[1, 0.9], [0.9,1]])\n",
    "\n",
    "plt.figure(figsize=(4,4))\n",
    "plt.scatter(data[:,0], data[:,1], alpha=.5);\n",
    "plt.xlim(-5, 5)\n",
    "plt.ylim(-5, 5)"
   ]
  },
  {
   "cell_type": "code",
   "execution_count": 8,
   "metadata": {},
   "outputs": [
    {
     "name": "stdout",
     "output_type": "stream",
     "text": [
      "mu:  [1.02079689 2.01662665]\n",
      "sigma:  [[1.0504567  0.94518192]\n",
      " [0.94518192 1.04458064]]\n"
     ]
    },
    {
     "data": {
      "image/png": "[encoded data removed]",
      "text/plain": [
       "<Figure size 288x288 with 1 Axes>"
      ]
     },
     "metadata": {
      "needs_background": "light"
     },
     "output_type": "display_data"
    }
   ],
   "source": [
    "# パラメータの推定\n",
    "mu_hat = np.mean(data, axis=0)\n",
    "sigma_hat = np.matmul((data-mu_hat).T, (data-mu_hat))/len(data)\n",
    "\n",
    "print('mu: ', mu_hat)\n",
    "print('sigma: ', sigma_hat)\n",
    "\n",
    "# 推定された分布\n",
    "x1 = np.linspace(-5, 5, 101)\n",
    "x2 = np.linspace(-5, 5, 101)\n",
    "X1, X2 = np.meshgrid(x1, x2)\n",
    "\n",
    "N = np.array([[N_Gaussian([i, j], mu=mu_hat, sigma=sigma_hat) for i in x1] for j in x2])\n",
    "\n",
    "plt.figure(figsize=(4,4))\n",
    "plt.imshow(N, origin='lower', extent=[-5, 5, -5, 5]);"
   ]
  },
  {
   "cell_type": "code",
   "execution_count": null,
   "metadata": {},
   "outputs": [],
   "source": []
  },
  {
   "cell_type": "markdown",
   "metadata": {},
   "source": [
    "### 2.2 マハラノビス距離とホテリングの$T^2$法\n",
    "最尤推定量を代入することで、データ$D$を表現する確率密度関数が、\n",
    "$$\n",
    "p(\\boldsymbol{x}|D)=N(\\boldsymbol{x}|\\hat{\\boldsymbol{\\mu}},\\hat{\\Sigma})\n",
    "$$\n",
    "\n",
    "のように得られたとする。  \n",
    "定義($a(\\boldsymbol{x'})=-\\ln{p(\\boldsymbol{x'}|D)}$)より、  \n",
    "観測値に関係のない定数を無視すると異常度は、\n",
    "$$\n",
    "a(\\boldsymbol{x'})=(\\boldsymbol{x'}-\\hat{\\boldsymbol{\\mu}})^T\\hat{\\Sigma}^{-1}(\\boldsymbol{x'}-\\hat{\\boldsymbol{\\mu}})\n",
    "$$\n",
    "\n",
    "となる。  \n",
    "これは、観測データ$\\boldsymbol{x'}$が、どれだけ標本平均$\\hat{\\boldsymbol{\\mu}}$から離れているかを表すもので、**マハラノビス距離**(の2乗)と呼ばれる。  \n",
    "$\\boldsymbol{x'}$を異常か正常かを判定する閾値をどう決めるかについては、  \n",
    "ホテリングの$T^2$法では、異常度$a$が従う確率分布を多変量正規分布の仮定に基づいて明示的に求めることができる。  \n",
    "ホテリングの$T^2$法について次の定理が成り立つ。\n",
    ">$M$次元正規分布$N(\\boldsymbol{\\mu},\\Sigma)$からの$N$個の独立標本$\\{\\boldsymbol{x}^{(1)},\\cdots,\\boldsymbol{x}^{(N)} \\}$に基づき、標本平均\\hat{\\boldsymbol{\\mu}}を\n",
    "$$\n",
    "\\hat{\\boldsymbol{\\mu}}=\\frac{1}{N}\\sum_{i=1}^N\\boldsymbol{x}^{(n)}\n",
    "$$\n",
    "で、標本分散$\\hat{\\Sigma}$を\n",
    "$$\n",
    "\\hat{\\Sigma}=\\frac{1}{N}(\\boldsymbol{x}^{(n)}-\\hat{\\boldsymbol{\\mu}})(\\boldsymbol{x}^{(n)}-\\hat{\\boldsymbol{\\mu}})^T\n",
    "$$\n",
    "で定義する。\n",
    "$N(\\boldsymbol{\\mu},\\Sigma)$からの独立標本$\\boldsymbol{x}'$を新たに観測したとき、以下が成立する。\n",
    ">1. $\\boldsymbol{x}'-\\hat{\\boldsymbol{\\mu}}$は、平均$\\boldsymbol{0}$、共分散$\\frac{N}{N+1}\\Sigma$の$M$次元正規分布に従う\n",
    "2. $\\hat{\\Sigma}$は、$\\boldsymbol{x}'-\\hat{\\boldsymbol{\\mu}}$と統計的に独立である\n",
    "3. $T^2=\\frac{N-M}{(N+1)M}a(\\boldsymbol{x}')$により定義される統計量$T^2$は、自由度$(M,N-M)$のF分布に従う  \n",
    "ただし、\n",
    "$$\n",
    "a(\\boldsymbol{x}')=(\\boldsymbol{x'}-\\hat{\\boldsymbol{\\mu}})^T\\hat{\\Sigma}^{-1}(\\boldsymbol{x'}-\\hat{\\boldsymbol{\\mu}})\n",
    "$$\n",
    "4. $N>>M$のときは、$a(\\boldsymbol{x}')$は近似的に、自由度$M'$、スケール因子1のカイ2乗分布に従う\n",
    "\n",
    "統計量$T^2$を**ホテリング統計量**または**ホテリングの$T^2$**と呼ぶ。  \n",
    "ほとんどの場合で$N>>M$が成り立つので、異常度はカイ2乗分布に従うものと考える。"
   ]
  },
  {
   "cell_type": "markdown",
   "metadata": {},
   "source": [
    "カイ2乗分布に基づく異常判定モデルの構築アルゴリズムは以下のようになる。\n",
    ">所与の誤報率$\\alpha$に基づき、カイ2乗分布から方程式\n",
    "$$\n",
    "1-\\alpha=\\int_0^{a_{th}}dx\\chi^2(x|M,1)\n",
    "$$\n",
    "により閾値$a_{th}$を求めておく\n",
    ">1. 正常標本が圧倒的だと信じられるデータから標本平均および標本共分散行列\n",
    "$$\n",
    "\\hat{\\boldsymbol{\\mu}}=\\frac{1}{N}\\sum_{i=1}^N\\boldsymbol{x}^{(n)}\\\\\n",
    "\\hat{\\Sigma}=\\frac{1}{N}(\\boldsymbol{x}^{(n)}-\\hat{\\boldsymbol{\\mu}})(\\boldsymbol{x}^{(n)}-\\hat{\\boldsymbol{\\mu}})^T\n",
    "$$\n",
    "を計算しておく\n",
    "2. 新たな観測値$\\boldsymbol{x}'$を得るたび、異常度としてのマハラノビス距離\n",
    "$$\n",
    "a(\\boldsymbol{x}')=(\\boldsymbol{x'}-\\hat{\\boldsymbol{\\mu}})^T\\hat{\\Sigma}^{-1}(\\boldsymbol{x'}-\\hat{\\boldsymbol{\\mu}})\n",
    "$$\n",
    "を計算する\n",
    "3. $a(\\boldsymbol{x}')>a_{th}$なら警報を出す"
   ]
  },
  {
   "cell_type": "code",
   "execution_count": 6,
   "metadata": {},
   "outputs": [
    {
     "name": "stdout",
     "output_type": "stream",
     "text": [
      "ath:  9.21034037197618\n",
      "x:  [ 2 -2]  a:  124.48091554482315  judge:  True\n",
      "x:  [0 1]  a:  1.0415817560615477  judge:  False\n"
     ]
    }
   ],
   "source": [
    "import scipy.stats as sps\n",
    "\n",
    "def calc_mahalanobis(x, mu_hat, sigma_hat):\n",
    "    w = np.matmul(np.linalg.inv(sigma_hat), (x-mu_hat))\n",
    "    a = np.matmul((x-mu_hat).T, w)\n",
    "    return a\n",
    "\n",
    "# 設定\n",
    "M = 2 #次元\n",
    "alpha = 0.01 # 誤報率\n",
    "\n",
    "# 閾値の決定\n",
    "ath = sps.chi2.ppf(q = 1 - alpha, df = M, scale=1)\n",
    "print('ath: ', ath)\n",
    "\n",
    "# 1. 標本平均及び標本標準共分散行列の計算\n",
    "mu_hat = np.mean(data, axis=0)\n",
    "sigma_hat = np.matmul((data-mu_hat).T, (data-mu_hat))/len(data)\n",
    "\n",
    "# 2. 新たな観測値に対するマハラノビス距離の計算\n",
    "x_new1 = np.array([2, -2])\n",
    "x_new2 = np.array([0, 1])\n",
    "\n",
    "a1 = calc_mahalanobis(x_new1, mu_hat, sigma_hat)\n",
    "a2 = calc_mahalanobis(x_new2, mu_hat, sigma_hat)\n",
    "\n",
    "# 3. 判定\n",
    "print(\"x: \", x_new1, \" a: \", a1, ' judge: ', a1>ath)\n",
    "print(\"x: \", x_new2, \" a: \", a2, ' judge: ', a2>ath)"
   ]
  },
  {
   "cell_type": "code",
   "execution_count": 7,
   "metadata": {},
   "outputs": [
    {
     "data": {
      "text/plain": [
       "(-5.0, 5.0)"
      ]
     },
     "execution_count": 7,
     "metadata": {},
     "output_type": "execute_result"
    },
    {
     "data": {
      "image/png": "[encoded data removed]",
      "text/plain": [
       "<Figure size 288x288 with 1 Axes>"
      ]
     },
     "metadata": {
      "needs_background": "light"
     },
     "output_type": "display_data"
    }
   ],
   "source": [
    "# 結果の可視化\n",
    "# 正常領域と異常領域を表示\n",
    "a_grid = np.array([[calc_mahalanobis([i, j], mu_hat, sigma_hat) for i in x1] for j in x2])\n",
    "a_grid = (a_grid < a_th).astype(int)\n",
    "\n",
    "plt.figure(figsize=(4,4))\n",
    "plt.contourf(X1, X2, a_grid, 10, alpha=0.5, cmap='PuOr')\n",
    "plt.scatter(data[:,0], data[:,1], alpha=.5);\n",
    "plt.scatter(2, -2, color=\"red\")\n",
    "plt.scatter(0, 1, color=\"orange\")\n",
    "plt.xlim(-5, 5)\n",
    "plt.ylim(-5, 5)"
   ]
  },
  {
   "cell_type": "markdown",
   "metadata": {},
   "source": [
    "### 2.3 正規分布とカイ2乗分布の関係\n",
    "1次元正規変数の平方和の分布に関して次の定理が成り立つ。\n",
    ">$N(0,\\sigma^2)$に独立に従う$M$個の確率変数$x_1,\\cdots,x_M$と、定数$c>0$により定義される確率変数\n",
    "$$\n",
    "u=c(x_1^2+x_2^2+\\cdots+x_M^2)\n",
    "$$\n",
    "は、自由度$M$、スケール因子$c\\sigma^2$のカイ2乗分布$\\chi^2(u|M,c\\sigma^2)$に従う"
   ]
  },
  {
   "cell_type": "code",
   "execution_count": 137,
   "metadata": {},
   "outputs": [
    {
     "data": {
      "image/png": "[encoded data removed]",
      "text/plain": [
       "<Figure size 432x288 with 1 Axes>"
      ]
     },
     "metadata": {
      "needs_background": "light"
     },
     "output_type": "display_data"
    }
   ],
   "source": [
    "sigma = 0.5\n",
    "c = 2\n",
    "\n",
    "# 確率変数の2乗の和\n",
    "u = [c*np.sum(np.random.normal(0, sigma, 10)**2) for _ in range(1000)]\n",
    "\n",
    "# カイ2乗分布の確率分布\n",
    "x = np.arange(0, max(u))\n",
    "chi = sps.chi2.pdf(x, df = 10, scale=c*0.5**2)\n",
    "\n",
    "plt.hist(u, bins=20, density=True);\n",
    "plt.plot(x, chi);"
   ]
  },
  {
   "cell_type": "code",
   "execution_count": 132,
   "metadata": {},
   "outputs": [],
   "source": [
    "?plt.hist"
   ]
  }
 ],
 "metadata": {
  "kernelspec": {
   "display_name": "Python 3",
   "language": "python",
   "name": "python3"
  },
  "language_info": {
   "codemirror_mode": {
    "name": "ipython",
    "version": 3
   },
   "file_extension": ".py",
   "mimetype": "text/x-python",
   "name": "python",
   "nbconvert_exporter": "python",
   "pygments_lexer": "ipython3",
   "version": "3.8.5"
  }
 },
 "nbformat": 4,
 "nbformat_minor": 5
}
