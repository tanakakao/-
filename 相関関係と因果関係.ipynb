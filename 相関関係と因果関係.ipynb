{
 "cells": [
  {
   "cell_type": "markdown",
   "id": "pressed-dispatch",
   "metadata": {},
   "source": [
    "### 相関≠因果\n",
    "#### 疑似相関\n",
    "「テレビゲームに多くの時間を費やすほど、成績に悪影響を及ぼす」といった因果関係を考える。"
   ]
  },
  {
   "cell_type": "code",
   "execution_count": 2,
   "id": "outstanding-milwaukee",
   "metadata": {},
   "outputs": [
    {
     "data": {
      "text/html": [
       "<div>\n",
       "<style scoped>\n",
       "    .dataframe tbody tr th:only-of-type {\n",
       "        vertical-align: middle;\n",
       "    }\n",
       "\n",
       "    .dataframe tbody tr th {\n",
       "        vertical-align: top;\n",
       "    }\n",
       "\n",
       "    .dataframe thead th {\n",
       "        text-align: right;\n",
       "    }\n",
       "</style>\n",
       "<table border=\"1\" class=\"dataframe\">\n",
       "  <thead>\n",
       "    <tr style=\"text-align: right;\">\n",
       "      <th></th>\n",
       "      <th>grade</th>\n",
       "      <th>hours</th>\n",
       "    </tr>\n",
       "  </thead>\n",
       "  <tbody>\n",
       "    <tr>\n",
       "      <th>0</th>\n",
       "      <td>66</td>\n",
       "      <td>0.0</td>\n",
       "    </tr>\n",
       "    <tr>\n",
       "      <th>1</th>\n",
       "      <td>58</td>\n",
       "      <td>0.1</td>\n",
       "    </tr>\n",
       "    <tr>\n",
       "      <th>2</th>\n",
       "      <td>54</td>\n",
       "      <td>3.6</td>\n",
       "    </tr>\n",
       "    <tr>\n",
       "      <th>3</th>\n",
       "      <td>71</td>\n",
       "      <td>0.0</td>\n",
       "    </tr>\n",
       "    <tr>\n",
       "      <th>4</th>\n",
       "      <td>62</td>\n",
       "      <td>0.9</td>\n",
       "    </tr>\n",
       "  </tbody>\n",
       "</table>\n",
       "</div>"
      ],
      "text/plain": [
       "   grade  hours\n",
       "0     66    0.0\n",
       "1     58    0.1\n",
       "2     54    3.6\n",
       "3     71    0.0\n",
       "4     62    0.9"
      ]
     },
     "execution_count": 2,
     "metadata": {},
     "output_type": "execute_result"
    }
   ],
   "source": [
    "import pandas as pd\n",
    "import matplotlib.pyplot as plt\n",
    "import japanize_matplotlib\n",
    "\n",
    "data = pd.read_csv('C:/Users/tanak/study/参考書/Rによる実証分析/R_EmpiricalAnalysis/02 演習用データ集/Ch6.data.csv')\n",
    "data.head()"
   ]
  },
  {
   "cell_type": "code",
   "execution_count": 7,
   "id": "under-hamburg",
   "metadata": {},
   "outputs": [
    {
     "data": {
      "text/plain": [
       "[<matplotlib.lines.Line2D at 0x2a4789c9850>]"
      ]
     },
     "execution_count": 7,
     "metadata": {},
     "output_type": "execute_result"
    },
    {
     "data": {
      "image/png": "[encoded data removed]",
      "text/plain": [
       "<Figure size 432x288 with 1 Axes>"
      ]
     },
     "metadata": {
      "needs_background": "light"
     },
     "output_type": "display_data"
    }
   ],
   "source": [
    "plt.plot(data.hours, data.grade, 'o', mfc='white')"
   ]
  },
  {
   "cell_type": "markdown",
   "id": "about-month",
   "metadata": {},
   "source": [
    "全体的に右肩下がりの傾向が見られ、ゲームの時間と成績の間には負の相関が存在することが分かる。\n",
    "しかし、テレビゲームに費やす時間が学業成績に直接的な影響を与えない場合であっても、図のような負の相関は観測されうる。\n",
    "その理由として**疑似相関**がある。疑似相関とは、「2つの変数間に因果関係はなくとも、それらに共通して影響を与える第3の変数が存在する場合には、結果的に相関関係が観測されること」を表す。\n",
    "テレビゲームの時間と学業成績に共通して影響を与える要因として考えられるものの1つとして、家庭環境があげられる。\n",
    "家庭環境とは「親が共働きであるか」や「子供が自分の部屋をもっているか」などである。\n",
    "テレビゲームの時間そのものは本質的な問題ではなく、「勉強時間が確保できる家庭環境をいかにつくるか」が重要と言える。\n",
    "#### 偶然の相関\n",
    "例えば、海賊の数と地球の平均気温を考えると負の相関があることがわかる。\n",
    "この結果から「地球の温暖化問題を解決するためには海賊を保護し増やす必要がある」と考えるのは間違いで、両者に因果関係がないことは明らかである。\n",
    "これは、「単なる偶然」であり、両者ともに時代の流れとともに変化していっただけである。\n",
    "\n",
    "#### 同時性\n",
    "明確な因果関係が存在するにも関わらず、観察される相関係数からでは、因果的な影響の大きさや正負が正しく判別できない場合もある。"
   ]
  },
  {
   "cell_type": "code",
   "execution_count": 9,
   "id": "sorted-priest",
   "metadata": {},
   "outputs": [
    {
     "data": {
      "text/html": [
       "<div>\n",
       "<style scoped>\n",
       "    .dataframe tbody tr th:only-of-type {\n",
       "        vertical-align: middle;\n",
       "    }\n",
       "\n",
       "    .dataframe tbody tr th {\n",
       "        vertical-align: top;\n",
       "    }\n",
       "\n",
       "    .dataframe thead th {\n",
       "        text-align: right;\n",
       "    }\n",
       "</style>\n",
       "<table border=\"1\" class=\"dataframe\">\n",
       "  <thead>\n",
       "    <tr style=\"text-align: right;\">\n",
       "      <th></th>\n",
       "      <th>Unnamed: 0</th>\n",
       "      <th>police</th>\n",
       "      <th>crime</th>\n",
       "    </tr>\n",
       "  </thead>\n",
       "  <tbody>\n",
       "    <tr>\n",
       "      <th>0</th>\n",
       "      <td>愛知県</td>\n",
       "      <td>1.914967</td>\n",
       "      <td>13.01</td>\n",
       "    </tr>\n",
       "    <tr>\n",
       "      <th>1</th>\n",
       "      <td>青森県</td>\n",
       "      <td>1.996425</td>\n",
       "      <td>4.93</td>\n",
       "    </tr>\n",
       "    <tr>\n",
       "      <th>2</th>\n",
       "      <td>秋田県</td>\n",
       "      <td>2.250593</td>\n",
       "      <td>3.83</td>\n",
       "    </tr>\n",
       "    <tr>\n",
       "      <th>3</th>\n",
       "      <td>石川県</td>\n",
       "      <td>1.979315</td>\n",
       "      <td>6.47</td>\n",
       "    </tr>\n",
       "    <tr>\n",
       "      <th>4</th>\n",
       "      <td>茨城県</td>\n",
       "      <td>1.812279</td>\n",
       "      <td>12.00</td>\n",
       "    </tr>\n",
       "  </tbody>\n",
       "</table>\n",
       "</div>"
      ],
      "text/plain": [
       "  Unnamed: 0    police  crime\n",
       "0        愛知県  1.914967  13.01\n",
       "1        青森県  1.996425   4.93\n",
       "2        秋田県  2.250593   3.83\n",
       "3        石川県  1.979315   6.47\n",
       "4        茨城県  1.812279  12.00"
      ]
     },
     "execution_count": 9,
     "metadata": {},
     "output_type": "execute_result"
    }
   ],
   "source": [
    "data = pd.read_csv('C:/Users/tanak/study/参考書/Rによる実証分析/R_EmpiricalAnalysis/02 演習用データ集/police_crime.csv', encoding='shift-jis')\n",
    "data.head()"
   ]
  },
  {
   "cell_type": "code",
   "execution_count": 11,
   "id": "complicated-flour",
   "metadata": {},
   "outputs": [
    {
     "data": {
      "text/plain": [
       "[<matplotlib.lines.Line2D at 0x2a478a6b5e0>]"
      ]
     },
     "execution_count": 11,
     "metadata": {},
     "output_type": "execute_result"
    },
    {
     "data": {
      "image/png": "[encoded data removed]",
      "text/plain": [
       "<Figure size 432x288 with 1 Axes>"
      ]
     },
     "metadata": {
      "needs_background": "light"
     },
     "output_type": "display_data"
    }
   ],
   "source": [
    "plt.plot(data.police, data.crime, 'o', mfc='white')"
   ]
  },
  {
   "cell_type": "markdown",
   "id": "annoying-voluntary",
   "metadata": {},
   "source": [
    "警察官の数と犯罪の数には正の相関がみられるが、警察官の数が増えれば犯罪は抑制されるはずと考えられるので、因果関係としてはこの2つには負の相関の関係が期待される。\n",
    "これは同時性の観点から説明できる。\n",
    "同時性とは「2つの事柄について、互いが互いの原因であり同時に結果であること」を表す。\n",
    "犯罪件数の多い地域では犯罪抑制のためにより多くの警察官が配備され、同時に、警察の増強は犯罪を減らすものと考えられる。\n",
    "もし、地域間の犯罪検挙率が均等化するように警察官が配備されるのであれば、結果的に正の相関が観察されることとなる。"
   ]
  },
  {
   "cell_type": "markdown",
   "id": "otherwise-operator",
   "metadata": {},
   "source": [
    "### ルービンの因果モデル\n",
    "#### トリートメントと潜在的な結果\n",
    "変数の組$(Y,T)$における因果関係を考える。$Y$は何らかの結果・成果を表す変数、$T$はその原因を表す変数とする。\n",
    "このような変数$T$を**トリートメント**と呼ぶ。\n",
    "以下では、トリートメント$T$が0か1の値をとるダミー変数である場合に注目する。\n",
    "ある個人$i$について、データとして$(Y_i,T_i)$が観測されているとする。\n",
    "$T_i=1$であったときに得られる結果の値を$Y_{1i}=Y_i(T_i=1)$、逆に$T_i=0$であったときに得られる結果の値を$Y_{0i}=Y_i(T_i=0)$とする。\n",
    "このとき、$T_i$の値は必ず0か1のどちらか一方しか実現しない、すなわち、$T_i=1$が実現しているときには、$Y_i=Y_{1i}$が結果として観測されるが、一方$Y_{0i}$は観測できない潜在的な値、いわゆる**反実仮想**の値となる。\n",
    "同様に、$T_i=0$が実現しているときには、$Y_i=Y_{0i}$が結果として観測されるが、$Y_{1i}$は観測できない。\n",
    "\n",
    "|トリートメントの実現値|観測される結果|観測されない潜在的結果|\n",
    "|-|-|-|\n",
    "|$$T_i=1$$|$$Y_i=Y_{1i}$$|$$Y_{0i}$$|\n",
    "|$$T_i=0$$|$$Y_i=Y_{0i}$$|$$Y_{1i}$$|\n",
    "\n",
    "$Y_i$について式にまとめると\n",
    "\n",
    "$$\n",
    "Y_i=\\left\\{\n",
    "\\begin{array}{ll}\n",
    "Y_{1i} & if\\ T_i=1 \\\\\n",
    "Y_{0i} & if\\ T_i=0\n",
    "\\end{array}\n",
    "\\right.\n",
    "$$\n",
    "\n",
    "あるいは\n",
    "\n",
    "$$\n",
    "Y_i=T_iY_{1i}+(1-T_i)Y_{0i}\n",
    "$$\n",
    "\n",
    "と書ける。\n",
    "\n",
    "「個人$i$について$T$が$Y$に及ぼす因果的効果」は、\n",
    "$$\n",
    "Y_{1i}-Y_{0i}\n",
    "$$\n",
    "\n",
    "と定義される。この式は**トリートメント効果**と呼ばれる。\n",
    "トリートメント効果は「$T_i=1(T_i=0)$を実際に選んだときに得られる結果と、そのとき選ばれなかった$T_i=0(T_i=1)$のもとでの結果の差」を表す。\n",
    "一般的にトリートメント効果は個人ごとに異なる効果をとる。\n",
    "このようにある変数からある変数への因果的効果を、観測できない潜在的な結果と比べて定義するアプローチを**ルービンの因果モデル**と呼ぶ。\n",
    "\n",
    "#### 平均トリートメント効果\n",
    "各個人$i$について、$Y_{0i}$と$Y_{1i}$の両方の値を知ることはできないので、トリートメント効果をデータから計算することは不可能である。\n",
    "そこで、特定の個人ではなく、全体としての平均的なトリートメント効果、すなわち**平均トリートメント効果(ATE)**\n",
    "$$\n",
    "E[Y_{1i}-Y_{0i}]\n",
    "$$\n",
    "について考える。\n",
    "\n",
    "データとして$\\{(Y_i,T_i):i=1,\\cdots,n\\}$が得られたとする。\n",
    "この時次の仮定が満たされているものとする。\n",
    "$$\n",
    "Y_{1i}=Y_i(T_1,\\cdots,T_i=1,\\cdots,T_n)\\\\\n",
    "Y_{0i}=Y_i(T_1,\\cdots,T_i=0,\\cdots,T_n)\n",
    "$$\n",
    "\n",
    "これは「$i$以外の個人$j(i\\neq j)$のトリートメントは、個人$i$の結果に影響しない」ということを意味する。\n",
    "また、トリートメントが$T=1$である個人のグループ$\\{i:T_i=1\\}$を**トリートメントグループ**、$T=0$である個人のグループ$\\{i:T_i=0\\}$を**コントロールグループ**と呼ぶ。\n",
    "ATEは各グループの$Y$の平均の差\n",
    "$$\n",
    "\\frac{\\sum_{i=1}^nT_iY_i}{\\sum_{i=1}^nT_i}-\\frac{\\sum_{i=1}^n(1-T_i)Y_i}{\\sum_{i=1}^n(1-T_i)}\n",
    "$$\n",
    "\n",
    "から推定できると考えらえる。"
   ]
  },
  {
   "cell_type": "code",
   "execution_count": 44,
   "id": "early-commitment",
   "metadata": {},
   "outputs": [],
   "source": [
    "import numpy as np\n",
    "\n",
    "n = 400\n",
    "T = np.random.binomial(1, 0.6, n) # 確率0.6で1となるトリートメント変数\n",
    "TE = 2 # トリートメント効果(個人差は無いと想定)\n",
    "Y = TE*T + np.random.normal(n) # 成果変数"
   ]
  },
  {
   "cell_type": "markdown",
   "id": "another-alpha",
   "metadata": {},
   "source": [
    "このシミュレーションでは、各個人$i$におけるトリートメント効果は2で等しく、平均トリートメント効果の値も2となる。\n",
    "通常は平均トリートメント効果の値は事前にわからないので、この2という値を推定することが目標となる。\n",
    "成果変数は\n",
    "$$\n",
    "Y=トリートメント効果×T+個人ごとの撹乱項\n",
    "$$\n",
    "として決まっているものと想定する。"
   ]
  },
  {
   "cell_type": "code",
   "execution_count": 45,
   "id": "julian-microwave",
   "metadata": {},
   "outputs": [
    {
     "data": {
      "text/plain": [
       "1.9999999999999432"
      ]
     },
     "execution_count": 45,
     "metadata": {},
     "output_type": "execute_result"
    }
   ],
   "source": [
    "EY1 = np.sum(T*Y)/np.sum(T) # トリートメントグループの平均値\n",
    "EY0 = np.sum((1-T)*Y)/np.sum(1-T) # コントロールグループの平均値\n",
    "\n",
    "# 以下のように計算してもよい\n",
    "#EY1 = np.mean(Y[T==1])\n",
    "#EY0 = np.mean(Y[T==0])\n",
    "\n",
    "EY1 - EY0"
   ]
  },
  {
   "cell_type": "markdown",
   "id": "minimal-columbia",
   "metadata": {},
   "source": [
    "さらに、区間\\[0,1\\]上の一様分布に従う変数$Z$を作成し、トリートメント$T$は$Z$の値が大きいほど1を取りやすいものとする。\n",
    "$$\n",
    "Pr(T_i=1)=Z_i,\\ Pr(T_i=0)=1-Z_i\n",
    "$$\n",
    "\n",
    "さらに、成果変数についても\n",
    "\n",
    "$$\n",
    "Y=トリートメント効果×T+(2Z-1)+個人ごとの撹乱項\n",
    "$$\n",
    "\n",
    "として$Z$の影響があるとする。"
   ]
  },
  {
   "cell_type": "code",
   "execution_count": 47,
   "id": "confirmed-pound",
   "metadata": {},
   "outputs": [
    {
     "data": {
      "text/plain": [
       "2.6436621434397125"
      ]
     },
     "execution_count": 47,
     "metadata": {},
     "output_type": "execute_result"
    }
   ],
   "source": [
    "n = 400\n",
    "\n",
    "Z = np.random.uniform(size=n)\n",
    "T = np.random.binomial(1, Z, n) # 確率0.6で1となるトリートメント変数\n",
    "TE = 2 # トリートメント効果(個人差は無いと想定)\n",
    "Y = TE*T + (2*Z-1) +np.random.normal(n) # 成果変数\n",
    "\n",
    "EY1 = np.sum(T*Y)/np.sum(T) # トリートメントグループの平均値\n",
    "EY0 = np.sum((1-T)*Y)/np.sum(1-T) # コントロールグループの平均値\n",
    "\n",
    "# 以下のように計算してもよい\n",
    "#EY1 = np.mean(Y[T==1])\n",
    "#EY0 = np.mean(Y[T==0])\n",
    "\n",
    "EY1 - EY0"
   ]
  },
  {
   "cell_type": "markdown",
   "id": "authentic-inspector",
   "metadata": {},
   "source": [
    "明らかに2よりも大きな値が得られ、過大評価されていることがわかる。\n",
    "$T$と$Y$に共通して影響を与える変数$Z$が存在する場合には、単純に$T$と$Y$の相関関係を調べただけではそれらの因果関係はわからない。"
   ]
  },
  {
   "cell_type": "code",
   "execution_count": null,
   "id": "fatal-revolution",
   "metadata": {},
   "outputs": [],
   "source": []
  }
 ],
 "metadata": {
  "kernelspec": {
   "display_name": "Python 3",
   "language": "python",
   "name": "python3"
  },
  "language_info": {
   "codemirror_mode": {
    "name": "ipython",
    "version": 3
   },
   "file_extension": ".py",
   "mimetype": "text/x-python",
   "name": "python",
   "nbconvert_exporter": "python",
   "pygments_lexer": "ipython3",
   "version": "3.8.5"
  }
 },
 "nbformat": 4,
 "nbformat_minor": 5
}
