{
 "cells": [
  {
   "cell_type": "code",
   "execution_count": null,
   "id": "suspected-ultimate",
   "metadata": {},
   "outputs": [],
   "source": []
  },
  {
   "cell_type": "markdown",
   "id": "equal-third",
   "metadata": {},
   "source": [
    "## 11. ナイーブベイズ"
   ]
  },
  {
   "cell_type": "code",
   "execution_count": 3,
   "id": "occupational-viewer",
   "metadata": {},
   "outputs": [],
   "source": [
    "from sklearn import datasets\n",
    "from sklearn.naive_bayes import GaussianNB\n",
    "\n",
    "iris = datasets.load_iris()\n",
    "features = iris.data\n",
    "target = iris.target\n",
    "\n",
    "classifer = GaussianNB()\n",
    "classifer_proir = GaussianNB(priors=[0.25,0.25,0.5])\n",
    "\n",
    "model = classifer.fit(features, target)\n",
    "model_proir = classifer_proir.fit(features, target)"
   ]
  },
  {
   "cell_type": "code",
   "execution_count": 4,
   "id": "human-alloy",
   "metadata": {},
   "outputs": [
    {
     "name": "stdout",
     "output_type": "stream",
     "text": [
      "[1]\n",
      "[1]\n"
     ]
    }
   ],
   "source": [
    "new_observation = [[4,4,4,0.4]]\n",
    "\n",
    "print(model.predict(new_observation))\n",
    "print(model_proir.predict(new_observation))"
   ]
  },
  {
   "cell_type": "markdown",
   "id": "cheap-safety",
   "metadata": {},
   "source": [
    "離散特徴量とカウント特徴量  \n",
    "多項ナイーブベイズ"
   ]
  },
  {
   "cell_type": "code",
   "execution_count": 6,
   "id": "informal-disco",
   "metadata": {},
   "outputs": [],
   "source": [
    "import numpy as np\n",
    "from sklearn.naive_bayes import MultinomialNB\n",
    "from sklearn.feature_extraction.text import CountVectorizer\n",
    "\n",
    "text_data = np.array(['I have an apple',\n",
    "                      'I have a pen',\n",
    "                      'pen pineapple apple pen'])\n",
    "\n",
    "count = CountVectorizer()\n",
    "bag_of_words = count.fit_transform(text_data)\n",
    "\n",
    "features = bag_of_words.toarray()\n",
    "\n",
    "target = np.array([0,0,1])\n",
    "\n",
    "classifer = MultinomialNB(class_prior=[0.25,0.5])\n",
    "\n",
    "model = classifer.fit(features, target)"
   ]
  },
  {
   "cell_type": "code",
   "execution_count": 8,
   "id": "incident-framing",
   "metadata": {},
   "outputs": [
    {
     "data": {
      "text/plain": [
       "array([1])"
      ]
     },
     "execution_count": 8,
     "metadata": {},
     "output_type": "execute_result"
    }
   ],
   "source": [
    "new_obsevation = [[0,1,0,1,0]]\n",
    "\n",
    "model.predict(new_obsevation)"
   ]
  },
  {
   "cell_type": "markdown",
   "id": "deluxe-needle",
   "metadata": {},
   "source": [
    "2クラス特徴量に対するnb"
   ]
  },
  {
   "cell_type": "code",
   "execution_count": 12,
   "id": "compatible-campus",
   "metadata": {},
   "outputs": [],
   "source": [
    "import numpy as np\n",
    "from sklearn.naive_bayes import BernoulliNB\n",
    "\n",
    "features = np.random.randint(2, size=(100, 3))\n",
    "\n",
    "target = np.random.randint(2, size=(100, 1)).ravel()\n",
    "\n",
    "classifer = BernoulliNB(class_prior=[0.25, 0.5], alpha=0.5) # alpha 平滑化パラメータ\n",
    "\n",
    "model = classifer.fit(features, target)"
   ]
  },
  {
   "cell_type": "code",
   "execution_count": 13,
   "id": "incident-somewhere",
   "metadata": {},
   "outputs": [
    {
     "data": {
      "text/plain": [
       "array([1])"
      ]
     },
     "execution_count": 13,
     "metadata": {},
     "output_type": "execute_result"
    }
   ],
   "source": [
    "new_obsevation = [[0,1,0]]\n",
    "\n",
    "model.predict(new_obsevation)"
   ]
  },
  {
   "cell_type": "markdown",
   "id": "proud-subcommittee",
   "metadata": {},
   "source": [
    "予測確率の較正"
   ]
  },
  {
   "cell_type": "code",
   "execution_count": 15,
   "id": "prime-thanks",
   "metadata": {},
   "outputs": [
    {
     "data": {
      "text/plain": [
       "array([[0.31859969, 0.63663466, 0.04476565]])"
      ]
     },
     "execution_count": 15,
     "metadata": {},
     "output_type": "execute_result"
    }
   ],
   "source": [
    "from sklearn import datasets\n",
    "from sklearn.naive_bayes import GaussianNB\n",
    "from sklearn.calibration import CalibratedClassifierCV\n",
    "\n",
    "iris = datasets.load_iris()\n",
    "features = iris.data\n",
    "target = iris.target\n",
    "\n",
    "classifer = GaussianNB()\n",
    "\n",
    "classifer_sigmoid = CalibratedClassifierCV(classifer, cv=2, method=\"sigmoid\")\n",
    "\n",
    "classifer_sigmoid.fit(features, target)\n",
    "\n",
    "new_observation = [[2.6, 2.6, 2.6, 0.4]]\n",
    "\n",
    "classifer_sigmoid.predict_proba(new_observation)"
   ]
  },
  {
   "cell_type": "code",
   "execution_count": null,
   "id": "brown-depth",
   "metadata": {},
   "outputs": [],
   "source": []
  },
  {
   "cell_type": "code",
   "execution_count": null,
   "id": "instructional-consensus",
   "metadata": {},
   "outputs": [],
   "source": []
  }
 ],
 "metadata": {
  "kernelspec": {
   "display_name": "Python 3",
   "language": "python",
   "name": "python3"
  },
  "language_info": {
   "codemirror_mode": {
    "name": "ipython",
    "version": 3
   },
   "file_extension": ".py",
   "mimetype": "text/x-python",
   "name": "python",
   "nbconvert_exporter": "python",
   "pygments_lexer": "ipython3",
   "version": "3.8.5"
  }
 },
 "nbformat": 4,
 "nbformat_minor": 5
}
