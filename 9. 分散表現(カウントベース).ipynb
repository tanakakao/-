{
 "cells": [
  {
   "cell_type": "code",
   "execution_count": null,
   "id": "blessed-pasta",
   "metadata": {},
   "outputs": [],
   "source": []
  },
  {
   "cell_type": "markdown",
   "id": "unnecessary-drain",
   "metadata": {},
   "source": [
    "## 9. 分散表現(カウントベース)"
   ]
  },
  {
   "cell_type": "markdown",
   "id": "advanced-director",
   "metadata": {},
   "source": [
    "### 単語の意味\n",
    "単語の意味をコンピュータに理解させる手法として、\n",
    "- シソーラスによる手法\n",
    "- カウントベースによる手法\n",
    "- 推論ベースによる手法(word2vec)\n",
    "\n",
    "の3つを考える。"
   ]
  },
  {
   "cell_type": "markdown",
   "id": "sunset-thousand",
   "metadata": {},
   "source": [
    "#### シソーラス\n",
    "**シソーラス**とは類語辞書であり、同じ意味の単語(同義語)や意味の似た単語(類義語)が同じグループに分類されている。  \n",
    "最も有名なシソーラスは**WordNet**である。  \n",
    "シソーラスには、\n",
    "- 時代の変化に対応するのが困難\n",
    "- 人の作業コストが高い\n",
    "- 単語の細かなニュアンスを表現できない\n",
    "\n",
    "などの問題点がある。"
   ]
  },
  {
   "cell_type": "markdown",
   "id": "buried-produce",
   "metadata": {},
   "source": [
    "#### カウントベースの手法\n",
    "自然言語処理の研究やアプリケーションのために目的をもって収集されたテキストデータを**コーパス**と呼ぶ。  \n",
    "有名なコーパスとしては、WikipediaやGoogle Newsなどのテキストや、夏目漱石などの作家の作品群もコーパスとして利用される。  \n",
    "カウントベースの手法ではコーパスを利用する。"
   ]
  },
  {
   "cell_type": "code",
   "execution_count": 11,
   "id": "electronic-canal",
   "metadata": {},
   "outputs": [
    {
     "name": "stdout",
     "output_type": "stream",
     "text": [
      "[0, 1, 2, 3, 4, 1, 5, 6]\n",
      "{'you': 0, 'say': 1, 'goodbye': 2, 'and': 3, 'i': 4, 'hello': 5, '.': 6}\n",
      "{0: 'you', 1: 'say', 2: 'goodbye', 3: 'and', 4: 'i', 5: 'hello', 6: '.'}\n"
     ]
    }
   ],
   "source": [
    "import numpy as np\n",
    "\n",
    "def preprocess(text):\n",
    "    # 前処理\n",
    "    text = text.lower() # すべての文字を小文字に変換\n",
    "    text = text.replace('.', ' .') # 「.」も1単語として扱うためスペースを入れる。\n",
    "    words = text.split(' ')\n",
    "    \n",
    "    # 単語辞書、ID辞書の作成\n",
    "    word_to_id = {} # 単語: ID\n",
    "    id_to_word = {} # ID: 単語\n",
    "\n",
    "    for word in words: # 単語のリスト\n",
    "        if word not in word_to_id: # word_to_idに存在しない場合\n",
    "            new_id = len(word_to_id) # 新しいIDの発行\n",
    "            word_to_id[word] = new_id\n",
    "            id_to_word[new_id] = word\n",
    "    \n",
    "    # コーパスの作成(単語リストをIDリストに変換)\n",
    "    corpus = [word_to_id[w] for w in words]\n",
    "    \n",
    "    return corpus, word_to_id, id_to_word\n",
    "\n",
    "text = 'You say goodbye and I say Hello.'\n",
    "\n",
    "corpus, word_to_id, id_to_word = preprocess(text)\n",
    "print(corpus)\n",
    "print(word_to_id)\n",
    "print(id_to_word)"
   ]
  },
  {
   "cell_type": "markdown",
   "id": "reverse-longitude",
   "metadata": {},
   "source": [
    "#### 分散表現\n",
    "世の中にはさまざまな「色」が存在し、「コバルトブルー」や「シンクレッド」など固有の名前が付けられている。  \n",
    "一方で、色はRGBの3成分の値(3次元ベクトル)で表すことができる。  \n",
    "RGBのベクトル表現のほうが、正確に色を指定できるだけでなく、色同士の関連性(似た色かどうか)も容易に判断できる。  \n",
    "「色」のベクトル表現のようなことを「単語」で行うことを、単語の**分散表現**と呼ぶ。"
   ]
  },
  {
   "cell_type": "markdown",
   "id": "better-calcium",
   "metadata": {},
   "source": [
    "#### 分布仮説\n",
    "「単語の意味は、周囲の単語によって形成される」という考え方を**分布仮説**と呼び、多くの研究がこの仮説に基づいている。  \n",
    "注目する単語に対して、その周囲に存在する単語を**コンテキスト**と呼ぶ。\n",
    "```\n",
    "you say goodbye and i say hello.\n",
    "```\n",
    "例えば、上の文で「goodbye」という単語に注目したとき、**ウィンドウサイズ**が2の場合「you, say, and, i」がコンテキストに相当する。"
   ]
  },
  {
   "cell_type": "markdown",
   "id": "instructional-seafood",
   "metadata": {},
   "source": [
    "#### 共起行列\n",
    "分布仮説に基づき単語をベクトルで表現するには、周囲の単語をカウントする方法が考えられる。  \n",
    "次の文についてウィンドウサイズが1の場合を考える。\n",
    "```\n",
    "you say goodbye and i say hello.\n",
    "```\n",
    "\n",
    "各単語について、そのコンテキストに含まれる単語の頻度をカウントしテーブルにまとめると(「say」は2個含まれている)、  \n",
    "\n",
    "||you|say|goodbye|and|i|hello|.|\n",
    "|-|-|-|-|-|-|-|-|\n",
    "|you|0|1|0|0|0|0|0|\n",
    "|say|1|0|1|0|1|1|0|\n",
    "|goodbye|0|1|0|1|0|0|0|\n",
    "|and|0|0|1|0|1|0|0|\n",
    "|i|0|1|0|1|0|0|0|\n",
    "|hello|0|1|0|0|0|0|1|\n",
    "|.|0|0|0|0|0|1|0|\n",
    "\n",
    "このようなテーブルは**共起行列**と呼ばれる。"
   ]
  },
  {
   "cell_type": "code",
   "execution_count": 18,
   "id": "metropolitan-aviation",
   "metadata": {},
   "outputs": [
    {
     "data": {
      "text/plain": [
       "array([[0, 1, 0, 0, 0, 0, 0],\n",
       "       [1, 0, 1, 0, 1, 1, 0],\n",
       "       [0, 1, 0, 1, 0, 0, 0],\n",
       "       [0, 0, 1, 0, 1, 0, 0],\n",
       "       [0, 1, 0, 1, 0, 0, 0],\n",
       "       [0, 1, 0, 0, 0, 0, 1],\n",
       "       [0, 0, 0, 0, 0, 1, 0]])"
      ]
     },
     "execution_count": 18,
     "metadata": {},
     "output_type": "execute_result"
    }
   ],
   "source": [
    "def create_co_matrix(corpus, vocab_size, window_size=1):\n",
    "    corpus_size = len(corpus)\n",
    "    co_matrix = np.zeros((vocab_size, vocab_size), dtype=np.int32)\n",
    "    \n",
    "    for idx, word_id in enumerate(corpus):\n",
    "        for i in range(1, window_size + 1):\n",
    "            # コンテキストのインデックスを計算\n",
    "            left_idx = idx - 1\n",
    "            right_idx = idx + 1\n",
    "            \n",
    "            # 左と右がはみだしていないかチェック\n",
    "            if left_idx >= 0: # 左はマイナスにならない\n",
    "                left_word_id = corpus[left_idx] # IDを抽出\n",
    "                co_matrix[word_id, left_word_id] += 1 # co_matrixに加算\n",
    "            \n",
    "            if right_idx < corpus_size: # コーパス(文章)より長くならない\n",
    "                right_word_id = corpus[right_idx] # IDを抽出\n",
    "                co_matrix[word_id, right_word_id] += 1 # co_matrixに加算\n",
    "    \n",
    "    return co_matrix\n",
    "\n",
    "create_co_matrix(corpus=corpus, vocab_size=len(word_to_id), window_size=1)"
   ]
  },
  {
   "cell_type": "markdown",
   "id": "premium-makeup",
   "metadata": {},
   "source": [
    "#### 類似度\n",
    "単語のベクトル表現の類似度として**コサイン類似度**がよく用いられる。  \n",
    "どれだけ同じ方向を向いているかを表す。\n",
    "$$\n",
    "similarity(\\boldsymbol{x}, \\boldsymbol{y})=\\frac{\\boldsymbol{x}・\\boldsymbol{y}}{|\\boldsymbol{x}||\\boldsymbol{y}|}=\\frac{x_1y_1+\\cdots+x_ny_n}{\\sqrt{x_1^2+\\cdots+x_n^2}\\sqrt{y_1^2+\\cdots+y_n^2}}\n",
    "$$"
   ]
  },
  {
   "cell_type": "code",
   "execution_count": 22,
   "id": "emotional-muscle",
   "metadata": {},
   "outputs": [
    {
     "name": "stdout",
     "output_type": "stream",
     "text": [
      "0.7071067691154799\n"
     ]
    }
   ],
   "source": [
    "def cos_similarity(x, y, eps=1e-8):\n",
    "    nx = x / (np.sqrt(np.sum(x**2)) + eps)\n",
    "    ny = y / (np.sqrt(np.sum(y**2)) + eps)\n",
    "    return np.dot(nx, ny)\n",
    "\n",
    "vocab_size = len(word_to_id)\n",
    "C = create_co_matrix(corpus, vocab_size)\n",
    "c0 = C[word_to_id['you']]\n",
    "c1 = C[word_to_id['i']]\n",
    "print(cos_similarity(c0, c1))"
   ]
  },
  {
   "cell_type": "code",
   "execution_count": 24,
   "id": "outstanding-bicycle",
   "metadata": {},
   "outputs": [
    {
     "name": "stdout",
     "output_type": "stream",
     "text": [
      "\n",
      "[query]you\n",
      " goodbye 0.7071067691154799\n",
      " i 0.7071067691154799\n",
      " hello 0.7071067691154799\n",
      " say 0.0\n",
      " and 0.0\n"
     ]
    }
   ],
   "source": [
    "def most_similar(query, word_to_id, id_to_word, word_matrix, top=5):\n",
    "    # クエリを取り出す\n",
    "    if query not in word_to_id:\n",
    "        print('%s is not found' % query)\n",
    "        return\n",
    "    \n",
    "    print('\\n[query]' + query)\n",
    "    query_id = word_to_id[query] # クエリのID\n",
    "    query_vec = word_matrix[query_id] # クエリの単語ベクトル\n",
    "    \n",
    "    # コサイン類似度の計算\n",
    "    vocab_size = len(id_to_word)\n",
    "    similarity = np.zeros(vocab_size)\n",
    "    \n",
    "    for i in range(vocab_size):\n",
    "        similarity[i] = cos_similarity(word_matrix[i], query_vec)\n",
    "    \n",
    "    # コサイン類似度の高い順に出力\n",
    "    count = 0\n",
    "    for i in (-1*similarity).argsort():\n",
    "        # 同じベクトルであればスキップ\n",
    "        if id_to_word[i] == query:\n",
    "            continue\n",
    "        print(' %s %s' % (id_to_word[i], similarity[i]))\n",
    "        \n",
    "        count += 1\n",
    "        if count >= top:\n",
    "            return\n",
    "\n",
    "most_similar('you', word_to_id, id_to_word, C, top=5)"
   ]
  },
  {
   "cell_type": "markdown",
   "id": "improving-perfume",
   "metadata": {},
   "source": [
    "#### 相互情報量\n",
    "共起行列では、例えば「the」などの高頻度で出現する単語があった場合に強い関連性を持ってしまうという問題点がある。  \n",
    "そこで、次の式で定義される**相互情報量(PMI)**を利用する。この値が高いほど関連性が高い。  \n",
    "$$\n",
    "PMI(x,y)=\\log_2\\frac{P(x,y)}{P(x)P(y)}\n",
    "$$\n",
    "\n",
    "ここで、$P(x)$は$x$が起こる確率、$P(y)$は$y$が起こる確率、$P(x,y)$は$x$と$y$が同時に起こる確率を表す。  \n",
    "例えば、10000個の単語からなるコーパスで「the」という単語が100回出現したとすれば、$P('the')=100/10000=0.01$と計算できる。  \n",
    "共起行列$C$として、単語xとyの共起する回数を$C(x,y)$、xとyの出現する回数を$C(x)$、$C(y)$で表す。  \n",
    "コーパスに含まれる単語数を$N$とすると、\n",
    "$$\n",
    "PMI(x,y)=\\log_2\\frac{P(x,y)}{P(x)P(y)}=\\log_2\\frac{\\frac{C(x,y)}{N}}{\\frac{C(x)}{N}\\frac{C(y)}{N}}=\\log_2\\frac{C(x,y)・N}{C(x)C(y)}\n",
    "$$\n",
    "のように書き換えられる。  \n",
    "共起する回数が0の場合、$-\\infty$となってしまうので**正の相互情報量(PPMI)**が使用される。\n",
    "$$\n",
    "PPMI(x,y)=\\max(0,PMI(x,y))\n",
    "$$"
   ]
  },
  {
   "cell_type": "code",
   "execution_count": 25,
   "id": "bigger-concept",
   "metadata": {},
   "outputs": [],
   "source": [
    "def ppmi(C, verbose=False, eps=1e-8):\n",
    "    M = np.zeros_like(C, dtype=np.float32)\n",
    "    N = np.sum(C)\n",
    "    S = np.sum(C, axis=0)\n",
    "    total = C.shape[0] * C.shape[1]\n",
    "    cnt = 0\n",
    "    \n",
    "    for i in range(C.shape[0]):\n",
    "        for j in range(C.shape[1]):\n",
    "            pmi = np.log2(C[i,j] * N / (S[j]*S[i]) + eps)\n",
    "            M[i, j] = max(0, pmi)\n",
    "            \n",
    "            if verbose:\n",
    "                cnt += 1\n",
    "                \n",
    "                if cnt % (total//100 + 1) == 0:\n",
    "                    print('%.1f%% done' % (100*cnt/total))\n",
    "    return M"
   ]
  },
  {
   "cell_type": "code",
   "execution_count": 27,
   "id": "surgical-stock",
   "metadata": {},
   "outputs": [
    {
     "name": "stdout",
     "output_type": "stream",
     "text": [
      "covariance matrix\n",
      "[[0 1 0 0 0 0 0]\n",
      " [1 0 1 0 1 1 0]\n",
      " [0 1 0 1 0 0 0]\n",
      " [0 0 1 0 1 0 0]\n",
      " [0 1 0 1 0 0 0]\n",
      " [0 1 0 0 0 0 1]\n",
      " [0 0 0 0 0 1 0]]\n",
      "--------------------------------------------------\n",
      "PMI\n",
      "[[0.    1.807 0.    0.    0.    0.    0.   ]\n",
      " [1.807 0.    0.807 0.    0.807 0.807 0.   ]\n",
      " [0.    0.807 0.    1.807 0.    0.    0.   ]\n",
      " [0.    0.    1.807 0.    1.807 0.    0.   ]\n",
      " [0.    0.807 0.    1.807 0.    0.    0.   ]\n",
      " [0.    0.807 0.    0.    0.    0.    2.807]\n",
      " [0.    0.    0.    0.    0.    2.807 0.   ]]\n"
     ]
    }
   ],
   "source": [
    "W = ppmi(C)\n",
    "\n",
    "np.set_printoptions(precision=3)\n",
    "print('covariance matrix')\n",
    "print(C)\n",
    "print('-'*50)\n",
    "print('PMI')\n",
    "print(W)"
   ]
  },
  {
   "cell_type": "markdown",
   "id": "cheap-workplace",
   "metadata": {},
   "source": [
    "#### 次元削減\n",
    "次元削減として、以下の式で表される**特異値分解(SVD)**を使用する。\n",
    "$$\n",
    "\\boldsymbol{X}=\\boldsymbol{U}\\boldsymbol{S}\\boldsymbol{V^T}\n",
    "$$\n",
    "\n",
    "$\\boldsymbol{S}$は、対角行列であり、$\\boldsymbol{U}$は直交行列となる。  \n",
    "この直交行列は何らかの空間の軸(基底)を表している。この空間を「単語空間」として扱う。  \n",
    "対角行列$\\boldsymbol{S}$の対角成分は**特異値**が大きい順に並んでいて、対応する軸の重要度とみなすことができる。"
   ]
  },
  {
   "cell_type": "code",
   "execution_count": 30,
   "id": "center-humanity",
   "metadata": {},
   "outputs": [
    {
     "name": "stdout",
     "output_type": "stream",
     "text": [
      "[0 1 0 0 0 0 0]\n",
      "[0.    1.807 0.    0.    0.    0.    0.   ]\n",
      "[ 0.000e+00  3.409e-01 -1.205e-01 -3.886e-16 -1.110e-16 -9.323e-01\n",
      " -2.426e-17]\n"
     ]
    },
    {
     "data": {
      "image/png": "[encoded data removed]",
      "text/plain": [
       "<Figure size 432x288 with 1 Axes>"
      ]
     },
     "metadata": {
      "needs_background": "light"
     },
     "output_type": "display_data"
    }
   ],
   "source": [
    "import matplotlib.pyplot as plt\n",
    "\n",
    "U, S, V = np.linalg.svd(W)\n",
    "\n",
    "print(C[0])\n",
    "print(W[0])\n",
    "print(U[0])\n",
    "\n",
    "for word, word_id in word_to_id.items():\n",
    "    plt.annotate(word, (U[word_id, 0], U[word_id, 1]))\n",
    "\n",
    "plt.scatter(U[:,0], U[:,1], alpha=0.5)\n",
    "plt.show()"
   ]
  },
  {
   "cell_type": "code",
   "execution_count": null,
   "id": "infinite-least",
   "metadata": {},
   "outputs": [],
   "source": []
  },
  {
   "cell_type": "code",
   "execution_count": null,
   "id": "permanent-poster",
   "metadata": {},
   "outputs": [],
   "source": []
  },
  {
   "cell_type": "code",
   "execution_count": null,
   "id": "amateur-afternoon",
   "metadata": {},
   "outputs": [],
   "source": []
  },
  {
   "cell_type": "code",
   "execution_count": null,
   "id": "sunset-aluminum",
   "metadata": {},
   "outputs": [],
   "source": []
  },
  {
   "cell_type": "code",
   "execution_count": null,
   "id": "freelance-princeton",
   "metadata": {},
   "outputs": [],
   "source": []
  },
  {
   "cell_type": "code",
   "execution_count": null,
   "id": "pursuant-replacement",
   "metadata": {},
   "outputs": [],
   "source": []
  }
 ],
 "metadata": {
  "kernelspec": {
   "display_name": "Python 3",
   "language": "python",
   "name": "python3"
  },
  "language_info": {
   "codemirror_mode": {
    "name": "ipython",
    "version": 3
   },
   "file_extension": ".py",
   "mimetype": "text/x-python",
   "name": "python",
   "nbconvert_exporter": "python",
   "pygments_lexer": "ipython3",
   "version": "3.8.5"
  }
 },
 "nbformat": 4,
 "nbformat_minor": 5
}
