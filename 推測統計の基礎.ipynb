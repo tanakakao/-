{
 "cells": [
  {
   "cell_type": "markdown",
   "id": "together-nursery",
   "metadata": {},
   "source": [
    "### 統計的仮説検定の考え方\n",
    "#### 統計的仮説検定とは\n",
    "統計的仮説検定とは、「統計学的な背理法」である。\n",
    "一般な仮説検定の手続きは以下のようになる。\n",
    "\n",
    "1. どれくらい低い確率であれば「現実には起こりえない」と見なすか、その基準を決めておく。この基準を**有意水準**という。\n",
    "2. ある確率分布について、何らかの仮説を立てる。これを**帰無仮説**($H_0$)という。また、帰無仮説が否定された場合に採用される、もう1つの仮説を準備する。これを**対立仮説**($H_1$)という。\n",
    "3. 分布から標本を抽出する。\n",
    "4. 帰無仮説を正しいものとして、3で抽出した標本から得られる確率を計算する。その結果が1で決めた有意水準よりも小さいならば、帰無仮説は真実ではないち結論して棄却し、対立仮説を受容する。確率が有意水準よりも大きいならば、帰無仮説を受容する。\n",
    "\n",
    "ここで注意することは「帰無仮説が受容」されたからといって「帰無仮説が正しい」というわけではないことである。\n",
    "\n",
    "#### 回帰分析と統計的仮説検定\n",
    "回帰分析では、回帰係数の値に関する検定が行われる。\n",
    "たとえば、「教育年数は賃金の予測に役立つか」という問題を調べたいとする。\n",
    "このような場合には、以下の手続きに従って分析を行う。\n",
    "\n",
    "1. 賃金を教育年数とその他の説明変数に回帰し、各変数の回帰係数を推定する。\n",
    "2. 回帰分析の推定結果をうまく使って、帰無仮説:$H_0:\\beta_{school}=0$を検定する。\n",
    "3. 帰無仮説が棄却されたなら、そのときは対立仮説$H_1:\\beta_{school}\\neq0$を採用する。帰無仮説が棄却されなかった場合は、仮説$H_0:\\beta_{school}=0$を否定できるだけの十分な根拠が得られない。したがって、教育年数の情報が、賃金の予測において役に立たない可能性がある。\n",
    "\n",
    "### 平均値の検定\n",
    "#### 問題設定\n",
    "ある確率密度関数$f$について、その平均値を$\\mu=\\int uf(u)du$とする。\n",
    "いま、この$\\mu$の値について「$\\mu=0$」または「$\\mu\\neq0$」の2つの可能性があるものとする。\n",
    "そして、$f$から無作為に抽出された標本$X_1,\\cdots,X_n$を利用することができるとする。\n",
    "\n",
    "#### 正規分布の場合\n",
    "母集団の分布が平均$\\mu$、標準偏差1の正規分布$N(\\mu,1)$であると判明しているケースを考える。\n",
    "\n",
    "1. 有意水準の選択\n",
    "ここでは、5%とする\n",
    "2. 帰無仮説の設定\n",
    "帰無仮説を$H_0:\\mu=0$、対立仮説を$H_1:\\mu\\neq 0$とする\n",
    "3. 標本の抽出\n",
    "検定の対象となっている母集団$N(\\mu,1)$から標本を抽出する。たとえば、大きさ1の標本$X=2.23$だけだ得られたものとする。\n",
    "4. 帰無仮説$H_0:\\mu=0$の検定\n",
    "正規分布に従う確率変数$X$について$|X|<1.96$となる確率は95%、$|X|>1.96$となる確率は5%である。帰無仮説$H_0:\\mu=0$のもとで標本$X=2.23$を得る確率は有意水準5%未満であるから、$H_0:\\mu=0$は棄却される。\n",
    "\n",
    "「平均値$\\mu$はわからないが、分布が正規分布であることは判明している」という状況は考えづらい。\n",
    "また、標本の大きさを1とするのも現実的ではない。\n",
    "\n",
    "#### t値による方法\n",
    "そこで問題設定を「母集団分布については何もわからない」とする。\n",
    "検定の手続きを次のように変える。\n",
    "\n",
    "1. 有意水準を5%とする\n",
    "2. 帰無仮説を$H_0:\\mu=0$、対立仮説を$H_1:\\mu\\neq 0$とする\n",
    "3. 母集団$f$から大きさ$n$の標本を抽出する。$n$が十分に大きな数であれば、中心極限定理により、以下の式で定義される$t$は近似的に正規分布$N(0,1)$に従うものと考えられる。\n",
    "$$\n",
    "t=\\frac{\\sqrt{n}(\\bar{X}_n-\\mu)}{\\sqrt{S_n}}\n",
    "$$\n",
    "ただし、$\\bar{X}_n$は標本平均、$S_n$は標本分散であり、\n",
    "$$\n",
    "\\bar{X}_n=\\frac{1}{n}\\sum_{i=1}^nX_i\\\\\n",
    "S_n=\\frac{1}{n-1}\\sum_{i=1}^n(X_i-\\bar{X}_n)^2\n",
    "$$\n",
    "である。\n",
    "4. 帰無仮説$H_0:\\mu=0$が正しいものとする。このとき\n",
    "$$\n",
    "t=\\frac{\\sqrt{n}}{\\sqrt{S_n}}・\\bar{X}_n\n",
    "$$\n",
    "は近似的に正規分布$N(0,1)$に従うことになる。特に、$|t|>1.96$であれば、有意水準5%で$H_0:\\mu=0$は棄却される。\n",
    "\n",
    "ここで使用されている統計量$t$を、この検定における$t値$と呼ぶ。\n",
    "また、t値を用いる検定を**t検定**と呼ぶ。\n",
    "\n",
    "#### 有意水準と棄却域\n",
    "一般に帰無仮説を棄却するか否かを決定する領域を検定の**棄却域**と呼ぶ。\n",
    "また、棄却するかどうかを決める基準値1.96を**棄却臨界値**と呼ぶ。"
   ]
  },
  {
   "cell_type": "code",
   "execution_count": 2,
   "id": "together-flood",
   "metadata": {},
   "outputs": [
    {
     "name": "stdout",
     "output_type": "stream",
     "text": [
      "mean\n",
      "distA    2.042323\n",
      "distB    0.074927\n",
      "dtype: float64\n",
      "\n",
      "var\n",
      "distA    0.372785\n",
      "distB    0.359234\n",
      "dtype: float64\n"
     ]
    }
   ],
   "source": [
    "import pandas as pd\n",
    "import matplotlib.pyplot as plt\n",
    "import japanize_matplotlib\n",
    "\n",
    "data = pd.read_csv('C:/Users/tanak/study/参考書/Rによる実証分析/R_EmpiricalAnalysis/02 演習用データ集/data_5_1.csv')\n",
    "print('mean')\n",
    "print(data.mean())\n",
    "print('\\nvar')\n",
    "print(data.var())"
   ]
  },
  {
   "cell_type": "code",
   "execution_count": 33,
   "id": "according-advance",
   "metadata": {},
   "outputs": [
    {
     "name": "stdout",
     "output_type": "stream",
     "text": [
      "t-value\n",
      "distA    33.449949\n",
      "distB     1.250113\n",
      "dtype: float64\n",
      "p-value\n",
      "[9.27339666e-56 2.14205349e-01]\n"
     ]
    }
   ],
   "source": [
    "import numpy as np\n",
    "import scipy.stats as stats\n",
    "\n",
    "print('t-value')\n",
    "t_values = np.sqrt(100) / np.sqrt(data.var()) * data.mean()\n",
    "print(t_values)\n",
    "\n",
    "print('p-value')\n",
    "print(stats.t.sf(t_values, df=n-1)*2)"
   ]
  },
  {
   "cell_type": "markdown",
   "id": "heavy-traffic",
   "metadata": {},
   "source": [
    "distAについては有意水準が0.1%であっても、帰無仮説$H_0:\\mu=0$は棄却される。\n",
    "distBについては有意水準が10%であっても帰無仮説は棄却できないことが分かる。"
   ]
  },
  {
   "cell_type": "markdown",
   "id": "charitable-gregory",
   "metadata": {},
   "source": [
    "#### p値による方法\n",
    "$t=1.25$のときに$H_0:\\mu=0$を棄却するためには、有意水準をどこまで大きくする必要があるか、を考えてみる。\n",
    "つまり、$N(0,1)$に従う確率変数を$Z$とするとき、$|Z|\\geq 1.25$となる確率はどれくらいか、ということである。"
   ]
  },
  {
   "cell_type": "code",
   "execution_count": 31,
   "id": "controversial-central",
   "metadata": {},
   "outputs": [
    {
     "name": "stdout",
     "output_type": "stream",
     "text": [
      "p-value(|Z|>1.25)\n",
      "\n",
      "normal dist:  0.2112995473337107\n",
      "t dist:  0.21424633756838654\n"
     ]
    },
    {
     "data": {
      "image/png": "[encoded data removed]",
      "text/plain": [
       "<Figure size 432x288 with 1 Axes>"
      ]
     },
     "metadata": {
      "needs_background": "light"
     },
     "output_type": "display_data"
    }
   ],
   "source": [
    "from scipy.stats import norm\n",
    "\n",
    "n = len(data)\n",
    "\n",
    "print('p-value(|Z|>1.25)\\n')\n",
    "print('normal dist: ', norm.sf(1.25,0,1)*2)\n",
    "print('t dist: ', stats.t.sf(1.25, df=n-1)*2)\n",
    "\n",
    "x_all = np.arange(-2.5,2.5,0.1)\n",
    "x_left = np.arange(-2.5,-1.25, 0.1)\n",
    "x_right = np.arange(1.25,  2.5, 0.1)\n",
    "\n",
    "plt.plot(x_all, norm.pdf(x_all, 0, 1), color='blue', label='normal');\n",
    "plt.plot(x_all, stats.t.pdf(x_all, df=n-1), color='orange', label='t');\n",
    "\n",
    "plt.vlines([-1.25, 1.25], ymin=0,ymax=0.5, colors='red', linestyles='--')\n",
    "plt.fill_between(x_left,  y1=norm.pdf(x_left,  0, 1), y2=0, alpha=.2, color='red')\n",
    "plt.fill_between(x_right, y1=norm.pdf(x_right, 0, 1), y2=0, alpha=.2, color='red')\n",
    "plt.legend();"
   ]
  },
  {
   "cell_type": "markdown",
   "id": "horizontal-chest",
   "metadata": {},
   "source": [
    "およそ21%となることがわかる。この確率を当該検定におけるp値という。\n",
    "したがって、分布Bについて帰無仮説$H_0:\\mu=0$を棄却したいのであれば、21%の有意水準を認めるほかない。\n",
    "\n",
    "$t$検定では有意水準を事前に決める必要があるのに対して、$p$値ではその必要がない。\n",
    "$p$値を用いる方法では、帰無仮説を棄却することの妥当性が示されるが、$t$検定とは異なり、最終的な結論として帰無仮説の棄却/受容を決定しない。\n",
    "したがって、有意水準の設定を避けたいのであれば$t$値よりも$p$値のほうが優れた方法であるといえ、帰無仮説の棄却についてはっきりした結論を得たいのであれば$t$値の方が優れた方法と言える。"
   ]
  },
  {
   "cell_type": "markdown",
   "id": "second-fossil",
   "metadata": {},
   "source": [
    "### 回帰係数の検定\n",
    "#### OLS推定量の漸近分布\n",
    "単回帰分析について考える。\n",
    "単回帰モデル\n",
    "$$\n",
    "\\left\\{\n",
    "\\begin{array}{ll}\n",
    "y=\\beta_0+\\beta_1x+\\varepsilon \\\\\n",
    "E(y|x)=\\beta_0+\\beta_1x\n",
    "\\end{array}\n",
    "\\right.\n",
    "$$\n",
    "\n",
    "を仮定する。\n",
    "標本$\\{(y_i,x_i):i=1,\\cdots,n \\}$が得られたとき、回帰係数$\\beta_1$のOLS推定量は\n",
    "$$\n",
    "\\hat{\\beta}_1=\\frac{\\sum_{i=1}^n(x_i-\\bar{x}_n)(y_i-\\bar{y}_n)}{\\sum_{i=1}^n(x_i-\\bar{x}_n)^2}\n",
    "$$\n",
    "によって計算される。中心極限定理を適用することで、標本平均と同様に、$\\hat{\\beta}_1$についても十分大きな$n$のもとで、\n",
    "$$\n",
    "Z_n=\\frac{\\sqrt{n}(\\hat{\\beta}_1-\\beta_1)}{\\sqrt{S_n}}\n",
    "$$\n",
    "\n",
    "が近似的に正規分布$N(0,1)$に従うことを示せる。\n",
    "ここで$S_n$は標本分散である。\n",
    "式を以下のように変形する。\n",
    "$$\n",
    "\\hat{\\beta}_1=\\beta_1+\\frac{\\sqrt{S_n}}{\\sqrt{n}}Z_n\n",
    "$$\n",
    "十分に大きな$n$で$Z_n$は近似的に$N(0,1)$に従うから、$\\sigma=\\frac{\\sqrt{S_n}}{\\sqrt{n}}$と書けば、$\\hat{\\beta}_1$は平均$\\beta_1$、標準偏差$\\sigma$の正規分布$N(\\beta_1,\\sigma^2)$に従うことになる。\n",
    "この$N(\\beta_1,\\sigma^2)$をOLS推定量$\\hat{\\beta}_1$の漸近分布という。ある推定量の漸近分布の標準偏差$\\sigma$を**標準誤差**という。"
   ]
  },
  {
   "cell_type": "code",
   "execution_count": 35,
   "id": "leading-column",
   "metadata": {},
   "outputs": [],
   "source": [
    "from sklearn.linear_model import LinearRegression\n",
    "\n",
    "S = 10000 # 繰り返し回数\n",
    "beta1 = np.zeros(S)\n",
    "\n",
    "for i in range(S):\n",
    "    x = np.random.randn(1000)+0.1\n",
    "    y = 1+5*x+np.random.randn(1000)+0.1\n",
    "    \n",
    "    lm = LinearRegression()\n",
    "    lm.fit(x.reshape(-1, 1), y)\n",
    "    beta1[i] = lm.coef_[0]"
   ]
  },
  {
   "cell_type": "code",
   "execution_count": 36,
   "id": "valued-shoot",
   "metadata": {},
   "outputs": [
    {
     "data": {
      "text/html": [
       "<div>\n",
       "<style scoped>\n",
       "    .dataframe tbody tr th:only-of-type {\n",
       "        vertical-align: middle;\n",
       "    }\n",
       "\n",
       "    .dataframe tbody tr th {\n",
       "        vertical-align: top;\n",
       "    }\n",
       "\n",
       "    .dataframe thead th {\n",
       "        text-align: right;\n",
       "    }\n",
       "</style>\n",
       "<table border=\"1\" class=\"dataframe\">\n",
       "  <thead>\n",
       "    <tr style=\"text-align: right;\">\n",
       "      <th></th>\n",
       "      <th>count</th>\n",
       "      <th>mean</th>\n",
       "      <th>std</th>\n",
       "      <th>min</th>\n",
       "      <th>25%</th>\n",
       "      <th>50%</th>\n",
       "      <th>75%</th>\n",
       "      <th>max</th>\n",
       "    </tr>\n",
       "  </thead>\n",
       "  <tbody>\n",
       "    <tr>\n",
       "      <th>0</th>\n",
       "      <td>10000.0</td>\n",
       "      <td>4.99997</td>\n",
       "      <td>0.031627</td>\n",
       "      <td>4.865158</td>\n",
       "      <td>4.97889</td>\n",
       "      <td>5.000029</td>\n",
       "      <td>5.02128</td>\n",
       "      <td>5.127427</td>\n",
       "    </tr>\n",
       "  </tbody>\n",
       "</table>\n",
       "</div>"
      ],
      "text/plain": [
       "     count     mean       std       min      25%       50%      75%       max\n",
       "0  10000.0  4.99997  0.031627  4.865158  4.97889  5.000029  5.02128  5.127427"
      ]
     },
     "execution_count": 36,
     "metadata": {},
     "output_type": "execute_result"
    }
   ],
   "source": [
    "pd.DataFrame(beta1).describe().T"
   ]
  },
  {
   "cell_type": "code",
   "execution_count": 67,
   "id": "successful-donor",
   "metadata": {},
   "outputs": [
    {
     "data": {
      "image/png": "[encoded data removed]",
      "text/plain": [
       "<Figure size 432x288 with 1 Axes>"
      ]
     },
     "metadata": {
      "needs_background": "light"
     },
     "output_type": "display_data"
    }
   ],
   "source": [
    "plt.hist(beta1, bins=20, density=True);\n",
    "plt.plot(np.arange(4.8,5.2,0.01), norm.pdf(np.arange(4.8,5.2,0.01), 5, 0.031627), color='orange');"
   ]
  },
  {
   "cell_type": "markdown",
   "id": "digital-bouquet",
   "metadata": {},
   "source": [
    "10000個の推定値は、$\\beta_1=5$を中心として左右対称に分布していることがわかる。\n",
    "また、$\\hat{\\beta}_1$の標準偏差はおよそ$\\sigma=0.032$であるので、漸近分布はおおむね$N(5,(0.032)^2)$となる。\n",
    "\n",
    "#### 回帰係数のt検定\n",
    "もし$\\beta_1=0$であるならば、$\\hat{\\beta}_1$の漸近分布は$N(0,\\sigma^2)$となる。さらに、\n",
    "$$\n",
    "t=\\frac{\\hat{\\beta}_1}{\\sigma}\n",
    "$$\n",
    "によって$\\hat{\\beta}_1$の$t$値を定義すれば、これは正規分布$N(0,1)$に従う。\n",
    "帰無仮説の下で$|t|>1.96$となる確率は5%以下のはずだから、もし$|t|>1.96$となれば有意水準5%で帰無仮説を棄却できる。\n",
    "\n",
    "回帰係数のt検定の手順\n",
    "1. 単回帰モデル$y=\\beta_0+\\beta_1x+\\varepsilon$の係数$\\beta_1$について、帰無仮説を$H_0:\\beta_1=0$、対立仮説$H_1:\\beta_1\\neq0$とする\n",
    "2. OLS推定量$\\hat{\\beta}_1$と、標準誤差$\\sigma$を計算する\n",
    "3. $t=\\hat{\\beta}_1/\\sigma$として、$|t|>1.96$であれば、有意水準5%で帰無仮説$H_0:\\beta_1=0$を棄却する\n",
    "\n",
    "#### p値による回帰係数の検定\n",
    "p値による回帰係数の検定の手順\n",
    "1. 単回帰モデル$y=\\beta_0+\\beta_1x+\\varepsilon$の係数$\\beta_1$について、帰無仮説を$H_0:\\beta_1=0$、対立仮説$H_1:\\beta_1\\neq0$とする\n",
    "2. OLS推定量$\\hat{\\beta}_1$と、標準誤差$\\sigma$を計算する\n",
    "3. $t=\\hat{\\beta}_1/\\sigma$の値を計算する\n",
    "4. $N(0,1)$に従う確率変数$Z$について、$|Z|>|t|$となる確率を計算する。この値が小さいほど、帰無仮説を棄却することが容易であると考える。\n",
    "\n",
    "#### 重回帰分析の場合\n",
    "重回帰モデル\n",
    "$$\n",
    "\\left\\{\n",
    "\\begin{array}{ll}\n",
    "y=\\beta_0+\\beta_1x_1+\\beta_2x_2++\\cdots+\\beta_dx_d+\\varepsilon \\\\\n",
    "E(y|x)=\\beta_0+\\beta_1x_1+\\beta_2x_2++\\cdots+\\beta_dx_d\n",
    "\\end{array}\n",
    "\\right.\n",
    "$$\n",
    "の場合でも、検定については単回帰と変わらない。\n",
    "帰無仮説$H_0:\\beta_k=0$のもとで、\n",
    "$$\n",
    "t_k=\\frac{\\sqrt{n}}{\\sqrt{s_k}}\\hat{\\beta}_k\n",
    "$$\n",
    "が$N(0,1)$に従う。ここで、$s_k$は標本に基づいて計算される値である。\n",
    "もし、$|t_k|>1.96$であれば、融資水準5%のもとで$H_0:\\beta_k=0$が棄却される。"
   ]
  },
  {
   "cell_type": "code",
   "execution_count": 55,
   "id": "suspected-state",
   "metadata": {},
   "outputs": [
    {
     "data": {
      "text/html": [
       "<div>\n",
       "<style scoped>\n",
       "    .dataframe tbody tr th:only-of-type {\n",
       "        vertical-align: middle;\n",
       "    }\n",
       "\n",
       "    .dataframe tbody tr th {\n",
       "        vertical-align: top;\n",
       "    }\n",
       "\n",
       "    .dataframe thead th {\n",
       "        text-align: right;\n",
       "    }\n",
       "</style>\n",
       "<table border=\"1\" class=\"dataframe\">\n",
       "  <thead>\n",
       "    <tr style=\"text-align: right;\">\n",
       "      <th></th>\n",
       "      <th>school</th>\n",
       "      <th>exper</th>\n",
       "      <th>wage</th>\n",
       "    </tr>\n",
       "  </thead>\n",
       "  <tbody>\n",
       "    <tr>\n",
       "      <th>0</th>\n",
       "      <td>14</td>\n",
       "      <td>1</td>\n",
       "      <td>1.197540</td>\n",
       "    </tr>\n",
       "    <tr>\n",
       "      <th>1</th>\n",
       "      <td>13</td>\n",
       "      <td>4</td>\n",
       "      <td>1.675962</td>\n",
       "    </tr>\n",
       "    <tr>\n",
       "      <th>2</th>\n",
       "      <td>12</td>\n",
       "      <td>4</td>\n",
       "      <td>1.515963</td>\n",
       "    </tr>\n",
       "    <tr>\n",
       "      <th>3</th>\n",
       "      <td>12</td>\n",
       "      <td>2</td>\n",
       "      <td>1.894115</td>\n",
       "    </tr>\n",
       "    <tr>\n",
       "      <th>4</th>\n",
       "      <td>12</td>\n",
       "      <td>5</td>\n",
       "      <td>1.948775</td>\n",
       "    </tr>\n",
       "  </tbody>\n",
       "</table>\n",
       "</div>"
      ],
      "text/plain": [
       "   school  exper      wage\n",
       "0      14      1  1.197540\n",
       "1      13      4  1.675962\n",
       "2      12      4  1.515963\n",
       "3      12      2  1.894115\n",
       "4      12      5  1.948775"
      ]
     },
     "execution_count": 55,
     "metadata": {},
     "output_type": "execute_result"
    }
   ],
   "source": [
    "data = pd.read_csv('C:/Users/tanak/study/参考書/Rによる実証分析/R_EmpiricalAnalysis/02 演習用データ集/data_Males.csv')\n",
    "data.head()"
   ]
  },
  {
   "cell_type": "code",
   "execution_count": 61,
   "id": "virgin-british",
   "metadata": {},
   "outputs": [
    {
     "name": "stdout",
     "output_type": "stream",
     "text": [
      "                            OLS Regression Results                            \n",
      "==============================================================================\n",
      "Dep. Variable:                   wage   R-squared:                       0.083\n",
      "Model:                            OLS   Adj. R-squared:                  0.079\n",
      "Method:                 Least Squares   F-statistic:                     24.42\n",
      "Date:                Sun, 27 Mar 2022   Prob (F-statistic):           7.01e-11\n",
      "Time:                        10:00:33   Log-Likelihood:                -430.87\n",
      "No. Observations:                 545   AIC:                             867.7\n",
      "Df Residuals:                     542   BIC:                             880.6\n",
      "Df Model:                           2                                         \n",
      "Covariance Type:            nonrobust                                         \n",
      "==============================================================================\n",
      "                 coef    std err          t      P>|t|      [0.025      0.975]\n",
      "------------------------------------------------------------------------------\n",
      "const         -0.1611      0.224     -0.718      0.473      -0.602       0.280\n",
      "school         0.1085      0.016      6.734      0.000       0.077       0.140\n",
      "exper          0.0923      0.017      5.427      0.000       0.059       0.126\n",
      "==============================================================================\n",
      "Omnibus:                      173.831   Durbin-Watson:                   2.037\n",
      "Prob(Omnibus):                  0.000   Jarque-Bera (JB):              608.476\n",
      "Skew:                          -1.461   Prob(JB):                    7.43e-133\n",
      "Kurtosis:                       7.272   Cond. No.                         121.\n",
      "==============================================================================\n",
      "\n",
      "Notes:\n",
      "[1] Standard Errors assume that the covariance matrix of the errors is correctly specified.\n"
     ]
    }
   ],
   "source": [
    "import  statsmodels.api as sm\n",
    "\n",
    "df_X = sm.add_constant(data[['school','exper']])\n",
    "df_y = data['wage']\n",
    "\n",
    "model = sm.OLS(df_y, df_X)\n",
    "result = model.fit()\n",
    "print(result.summary())"
   ]
  },
  {
   "cell_type": "markdown",
   "id": "innocent-keyboard",
   "metadata": {},
   "source": [
    "たとえばschoolの回帰係数$\\hat{\\beta}_{school}$は、真の回帰係数$\\beta_{school}$を中心とする正規分布$N(\\beta_{school},(0.016)^2)$に従っているものとみなせる。また、$\\hat{\\beta}_{exper}$の漸近分布は$N(\\beta_{exper},(0.017)^2)$と考えられる。\n",
    "帰無仮説$H_0:\\beta_{school}$に対するt値は、$t=\\hat{\\beta}_{exper}/\\sigma_{school}$となっている。"
   ]
  },
  {
   "cell_type": "code",
   "execution_count": 69,
   "id": "approved-subcommittee",
   "metadata": {},
   "outputs": [
    {
     "name": "stdout",
     "output_type": "stream",
     "text": [
      "t-value:  6.78125\n",
      "p-value:  8.748991505782372e-10\n"
     ]
    }
   ],
   "source": [
    "t_value = 0.1085 / 0.016\n",
    "print('t-value: ', t_value)\n",
    "\n",
    "p_value = stats.t.sf(t_value, df=n-1)*2\n",
    "print('p-value: ', p_value)"
   ]
  },
  {
   "cell_type": "markdown",
   "id": "natural-mention",
   "metadata": {},
   "source": [
    "この回帰において、schoolとexperは有意な変数といえる。\n",
    "\n",
    "### 信頼区間\n",
    "#### 回帰係数の信頼区間\n",
    "回帰係数の推定量$\\hat{\\beta}=(\\hat{\\beta}_0,\\hat{\\beta}_1,\\cdots,\\hat{\\beta}_d)$の各要素$\\hat{\\beta}_k(k=0,1,\\cdots,d)$について信頼区間を構成することを考える。\n",
    "たとえば$\\hat{\\beta}_k$の漸近分布が$N(\\hat{\\beta}_k,\\sigma^2_k)$であるとする。$n$が十分大きいときには、\n",
    "$$\n",
    "Z_k=\\frac{\\hat{\\beta}_k-\\beta_k}{\\sigma_k}\n",
    "$$\n",
    "は$N(0,1)$に従うものと見なせるとする。\n",
    "よって十分に大きな$n$のもとでは、\n",
    "$$\n",
    "P(|Z_k|<1.96)=P\\biggl(-1.96\\leq \\frac{\\hat{\\beta}_k-\\beta_k}{\\sigma_k}\\leq 1.96 \\biggr)=0.95\n",
    "$$\n",
    "と近似できるはずである。\n",
    "これにより、$\\beta_k$の95%信頼区間は\n",
    "$$\n",
    "\\hat{\\beta}_k-1.96\\sigma_k\\leq \\beta_k\\leq \\hat{\\beta}+1.96\\sigma_k\n",
    "$$\n",
    "となる。"
   ]
  },
  {
   "cell_type": "code",
   "execution_count": 92,
   "id": "textile-illness",
   "metadata": {},
   "outputs": [
    {
     "data": {
      "text/html": [
       "<div>\n",
       "<style scoped>\n",
       "    .dataframe tbody tr th:only-of-type {\n",
       "        vertical-align: middle;\n",
       "    }\n",
       "\n",
       "    .dataframe tbody tr th {\n",
       "        vertical-align: top;\n",
       "    }\n",
       "\n",
       "    .dataframe thead th {\n",
       "        text-align: right;\n",
       "    }\n",
       "</style>\n",
       "<table border=\"1\" class=\"dataframe\">\n",
       "  <thead>\n",
       "    <tr style=\"text-align: right;\">\n",
       "      <th></th>\n",
       "      <th>lower_bound</th>\n",
       "      <th>upper_bound</th>\n",
       "    </tr>\n",
       "  </thead>\n",
       "  <tbody>\n",
       "    <tr>\n",
       "      <th>const</th>\n",
       "      <td>-0.600891</td>\n",
       "      <td>0.278691</td>\n",
       "    </tr>\n",
       "    <tr>\n",
       "      <th>school</th>\n",
       "      <td>0.076894</td>\n",
       "      <td>0.140035</td>\n",
       "    </tr>\n",
       "    <tr>\n",
       "      <th>exper</th>\n",
       "      <td>0.058969</td>\n",
       "      <td>0.125645</td>\n",
       "    </tr>\n",
       "  </tbody>\n",
       "</table>\n",
       "</div>"
      ],
      "text/plain": [
       "        lower_bound  upper_bound\n",
       "const     -0.600891     0.278691\n",
       "school     0.076894     0.140035\n",
       "exper      0.058969     0.125645"
      ]
     },
     "execution_count": 92,
     "metadata": {},
     "output_type": "execute_result"
    }
   ],
   "source": [
    "CI = pd.DataFrame({'lower_bound':result.params - 1.96 * result.bse,\n",
    "                   'upper_bound':result.params + 1.96 * result.bse})\n",
    "CI"
   ]
  },
  {
   "cell_type": "markdown",
   "id": "proud-royal",
   "metadata": {},
   "source": [
    "$\\beta_{school}$の信頼区間はおよそ0.08～0.14、$\\beta_{exper}$の信頼区間はおよそ0.06～0.12であることがわかる。\n",
    "$t$検定ではわからなかった推定精度の評価が可能となった。"
   ]
  },
  {
   "cell_type": "code",
   "execution_count": 65,
   "id": "studied-reservoir",
   "metadata": {},
   "outputs": [],
   "source": [
    "?plt.hist"
   ]
  }
 ],
 "metadata": {
  "kernelspec": {
   "display_name": "Python 3",
   "language": "python",
   "name": "python3"
  },
  "language_info": {
   "codemirror_mode": {
    "name": "ipython",
    "version": 3
   },
   "file_extension": ".py",
   "mimetype": "text/x-python",
   "name": "python",
   "nbconvert_exporter": "python",
   "pygments_lexer": "ipython3",
   "version": "3.8.5"
  }
 },
 "nbformat": 4,
 "nbformat_minor": 5
}
