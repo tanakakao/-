{
 "cells": [
  {
   "cell_type": "code",
   "execution_count": null,
   "id": "greek-chest",
   "metadata": {},
   "outputs": [],
   "source": []
  },
  {
   "cell_type": "markdown",
   "id": "tribal-winning",
   "metadata": {},
   "source": [
    "## 回帰分析\n",
    "出力変数には因果効果が表れる変数を使用し、  \n",
    "入力変数にはバックドアパスを閉じるように因果ダイアグラムをd分離した後に残っている変数のみを利用する。"
   ]
  },
  {
   "cell_type": "markdown",
   "id": "moved-europe",
   "metadata": {},
   "source": [
    "ここでテレビCMの架空事例を考える。  \n",
    "「iさん」の年齢を$x_1^i$、性別を$x_2^i$として表す。  \n",
    "「iさん」がCMを見た場合$Z^i=1$となり、$Z^i_1$と表す。CMを見ていない場合は$Z^i_0$となる。  \n",
    "「iさん」の商品購入量を$Y^i$と記載し、$Z^i=1$の場合は$Y^i_1$、$Z^i=0$の場合は$Y^i_0$と記載される。  \n",
    "  \n",
    "年齢$x_1^i$と性別$x_2^i$は交絡因子であるので、d分離するためには$x_1^i$と$x_2^i$を考慮する必要がある。  \n",
    "$$\n",
    "Y^i_1=f_1(Z^i,x_1^i,x_2^i)\\\\\n",
    "Y^i_0=f_0(Z^i,x_1^i,x_2^i)\n",
    "$$\n",
    "線形回帰モデルで書き直すと、\n",
    "$$\n",
    "Y^i_1=b_{z1}Z^i_1+b_1x_1^i+b_2x_2^i+b_0=b_z×1+b_1x_1^i+b_2x_2^i+b_0\\\\\n",
    "Y^i_1=b_{z0}Z^i_0+b_1x_1^i+b_2x_2^i+b_0=b_z×0+b_1x_1^i+b_2x_2^i+b_0\n",
    "$$\n",
    "$Z$は0か1の2値なので、$b_{z1}=b_{z0}=b_z$と書き直しても問題はない。  \n",
    "最終的に回帰モデルは\n",
    "$$\n",
    "Y^i=b_zZ^i+b_1x_1^i+b_2x_2^i+b_0\n",
    "$$"
   ]
  },
  {
   "cell_type": "code",
   "execution_count": 5,
   "id": "historic-audience",
   "metadata": {},
   "outputs": [],
   "source": [
    "import numpy as np\n",
    "from numpy.random import randint, randn\n",
    "\n",
    "num_data = 200\n",
    "\n",
    "x_1 = randint(15, 76, num_data)\n",
    "x_2 = randint(0, 2, num_data)"
   ]
  },
  {
   "cell_type": "code",
   "execution_count": 21,
   "id": "closed-mouth",
   "metadata": {},
   "outputs": [],
   "source": [
    "e_z = randn(num_data)\n",
    "\n",
    "z_base = x_1 + (x_2)+10 - 40 + 5*e_z\n",
    "\n",
    "def sigmoid(x):\n",
    "    return 1 / (1 + np.exp(-x))\n",
    "\n",
    "z_prob = sigmoid(0.1*z_base)\n",
    "\n",
    "Z = np.array([])\n",
    "\n",
    "for i in range(num_data):\n",
    "    Z_i = np.random.choice(2, size=1, p=[1-z_prob[i], z_prob[i]])[0]\n",
    "    Z = np.append(Z, Z_i)"
   ]
  },
  {
   "cell_type": "code",
   "execution_count": 22,
   "id": "growing-staff",
   "metadata": {},
   "outputs": [],
   "source": [
    "e_y = randn(num_data)\n",
    "\n",
    "Y = -x_1 + 30*x_2 + 10*Z + 80 + 10*e_y"
   ]
  },
  {
   "cell_type": "code",
   "execution_count": 23,
   "id": "swedish-hebrew",
   "metadata": {},
   "outputs": [
    {
     "data": {
      "text/html": [
       "<div>\n",
       "<style scoped>\n",
       "    .dataframe tbody tr th:only-of-type {\n",
       "        vertical-align: middle;\n",
       "    }\n",
       "\n",
       "    .dataframe tbody tr th {\n",
       "        vertical-align: top;\n",
       "    }\n",
       "\n",
       "    .dataframe thead th {\n",
       "        text-align: right;\n",
       "    }\n",
       "</style>\n",
       "<table border=\"1\" class=\"dataframe\">\n",
       "  <thead>\n",
       "    <tr style=\"text-align: right;\">\n",
       "      <th></th>\n",
       "      <th>年齢</th>\n",
       "      <th>性別</th>\n",
       "      <th>CMを見た</th>\n",
       "      <th>購入量</th>\n",
       "    </tr>\n",
       "  </thead>\n",
       "  <tbody>\n",
       "    <tr>\n",
       "      <th>0</th>\n",
       "      <td>42</td>\n",
       "      <td>1</td>\n",
       "      <td>0.0</td>\n",
       "      <td>77.603291</td>\n",
       "    </tr>\n",
       "    <tr>\n",
       "      <th>1</th>\n",
       "      <td>19</td>\n",
       "      <td>1</td>\n",
       "      <td>0.0</td>\n",
       "      <td>94.670630</td>\n",
       "    </tr>\n",
       "    <tr>\n",
       "      <th>2</th>\n",
       "      <td>25</td>\n",
       "      <td>1</td>\n",
       "      <td>1.0</td>\n",
       "      <td>115.727395</td>\n",
       "    </tr>\n",
       "    <tr>\n",
       "      <th>3</th>\n",
       "      <td>18</td>\n",
       "      <td>1</td>\n",
       "      <td>0.0</td>\n",
       "      <td>100.441828</td>\n",
       "    </tr>\n",
       "    <tr>\n",
       "      <th>4</th>\n",
       "      <td>41</td>\n",
       "      <td>1</td>\n",
       "      <td>1.0</td>\n",
       "      <td>78.515094</td>\n",
       "    </tr>\n",
       "  </tbody>\n",
       "</table>\n",
       "</div>"
      ],
      "text/plain": [
       "   年齢  性別  CMを見た         購入量\n",
       "0  42   1    0.0   77.603291\n",
       "1  19   1    0.0   94.670630\n",
       "2  25   1    1.0  115.727395\n",
       "3  18   1    0.0  100.441828\n",
       "4  41   1    1.0   78.515094"
      ]
     },
     "execution_count": 23,
     "metadata": {},
     "output_type": "execute_result"
    }
   ],
   "source": [
    "import pandas as pd\n",
    "\n",
    "df = pd.DataFrame({'年齢': x_1,\n",
    "                   '性別': x_2,\n",
    "                   'CMを見た': Z,\n",
    "                   '購入量': Y})\n",
    "\n",
    "df.head()"
   ]
  },
  {
   "cell_type": "code",
   "execution_count": 24,
   "id": "indonesian-season",
   "metadata": {},
   "outputs": [
    {
     "name": "stdout",
     "output_type": "stream",
     "text": [
      "年齢       50.623188\n",
      "性別        0.528986\n",
      "CMを見た     1.000000\n",
      "購入量      54.338187\n",
      "dtype: float64\n",
      "--------------------\n",
      "年齢       30.032258\n",
      "性別        0.548387\n",
      "CMを見た     0.000000\n",
      "購入量      67.340469\n",
      "dtype: float64\n"
     ]
    }
   ],
   "source": [
    "print(df[df['CMを見た']==1.0].mean())\n",
    "print('--------------------')\n",
    "print(df[df['CMを見た']==0.0].mean())"
   ]
  },
  {
   "cell_type": "code",
   "execution_count": 25,
   "id": "preceding-viking",
   "metadata": {},
   "outputs": [
    {
     "name": "stdout",
     "output_type": "stream",
     "text": [
      "係数: [[-1.0644072  31.20355516  9.52025179]]\n"
     ]
    }
   ],
   "source": [
    "from sklearn.linear_model import LinearRegression\n",
    "\n",
    "X = df[[\"年齢\", \"性別\", \"CMを見た\"]]\n",
    "y = df[[\"購入量\"]]\n",
    "\n",
    "reg = LinearRegression().fit(X, y)\n",
    "\n",
    "print('係数:', reg.coef_)"
   ]
  },
  {
   "cell_type": "markdown",
   "id": "aware-architect",
   "metadata": {},
   "source": [
    "### 逆確率重み付け法(IPTW)\n",
    "調整化公式\n",
    "$$\n",
    "P(Y=y|do(Z=z))=\\sum_xP(Y=y|Z=z,X=x)P(X=x)\n",
    "$$\n",
    "ここで、右辺の分母分子に$P(Z=z|X=x)$を掛けると、\n",
    "$$\n",
    "\\sum_xP(Y=y|Z=z,X=x)P(X=x)=\\sum_x\\frac{P(Y=y,X=x|Z=z)P(Z=z|X=x)P(X=x)}{P(Z=z|X=x)}\n",
    "$$\n",
    "さらに、同時確率と条件付き確率の変換を行い、\n",
    "$$\n",
    "\\sum_xP(Y=y|Z=z,X=x)P(X=x)=\\sum_x\\frac{P(Y=y,Z=z,X=x)}{P(Z=z|X=x)}\n",
    "$$\n",
    "以上より、調整化公式は\n",
    "$$\n",
    "P(Y=y|do(Z=z))=\\sum_x\\frac{P(x,y,z)}{P(z|x)}\n",
    "$$\n",
    "ここで、$P(z|x)$を**傾向スコア**と呼ぶ。"
   ]
  },
  {
   "cell_type": "code",
   "execution_count": 27,
   "id": "suffering-audience",
   "metadata": {},
   "outputs": [
    {
     "name": "stdout",
     "output_type": "stream",
     "text": [
      "係数beta : [[ 0.09622365 -0.20832621]]\n",
      "係数alpha : [-2.87987577]\n"
     ]
    }
   ],
   "source": [
    "from sklearn.linear_model import LogisticRegression\n",
    "\n",
    "X = df[[\"年齢\", \"性別\"]]\n",
    "Z = df[\"CMを見た\"]\n",
    "\n",
    "reg = LogisticRegression().fit(X,Z)\n",
    "\n",
    "print(\"係数beta :\", reg.coef_)\n",
    "print(\"係数alpha :\", reg.intercept_)"
   ]
  },
  {
   "cell_type": "code",
   "execution_count": 28,
   "id": "golden-foundation",
   "metadata": {},
   "outputs": [
    {
     "name": "stdout",
     "output_type": "stream",
     "text": [
      "[[0.27824346 0.72175654]\n",
      " [0.77901795 0.22098205]\n",
      " [0.66432112 0.33567888]\n",
      " [0.79513753 0.20486247]\n",
      " [0.29797326 0.70202674]]\n",
      "--------\n",
      "0    0.0\n",
      "1    0.0\n",
      "2    1.0\n",
      "3    0.0\n",
      "4    1.0\n",
      "Name: CMを見た, dtype: float64\n"
     ]
    }
   ],
   "source": [
    "Z_pre = reg.predict_proba(X)\n",
    "print(Z_pre[0:5])\n",
    "print(\"--------\")\n",
    "print(Z[0:5])"
   ]
  },
  {
   "cell_type": "markdown",
   "id": "offensive-novel",
   "metadata": {},
   "source": [
    "平均処置効果は、\n",
    "$$\n",
    "ATE = E(Y_1)-E(Y_0)=E(Y_1|do(Z=1))-E(Y_0|do(Z=0))\n",
    "$$\n",
    "であり、調整化公式で書き換えると、\n",
    "$$\n",
    "ATE = \\sum_xP(Y|Z=1,X=x)P(X=x)-\\sum_xP(Y|Z=0,X=x)P(X=x)\n",
    "$$\n",
    "さらにさきほどの式変形より\n",
    "$$\n",
    "ATE = \\sum_x\\frac{P(Y,Z=1,X=x)}{P(Z=1|X=x)}-\\sum_x\\frac{P(Y,Z=0,X=x)}{P(Z=0|X=x)}\n",
    "$$\n",
    "Yが連続値の場合\n",
    "$$\n",
    "ATE = \\frac{1}{N}\\sum_i^N\\frac{y_i}{P(Z=1|X=x_i)}Z_i-\\frac{1}{N}\\sum_i^N\\frac{y_i}{P(Z=0|X=x_i)}(1-Z_i)\n",
    "$$"
   ]
  },
  {
   "cell_type": "code",
   "execution_count": 29,
   "id": "interpreted-reason",
   "metadata": {},
   "outputs": [
    {
     "name": "stdout",
     "output_type": "stream",
     "text": [
      "推定したATE 9.482524478717783\n"
     ]
    }
   ],
   "source": [
    "ATE_i = Y/Z_pre[:,1]*Z-Y/Z_pre[:,0]*(1-Z)\n",
    "ATE = 1/len(Y)*ATE_i.sum()\n",
    "print(\"推定したATE\", ATE)"
   ]
  },
  {
   "cell_type": "code",
   "execution_count": null,
   "id": "informational-amsterdam",
   "metadata": {},
   "outputs": [],
   "source": []
  },
  {
   "cell_type": "markdown",
   "id": "outstanding-secret",
   "metadata": {},
   "source": [
    "## Doubly Robust法(DR法)"
   ]
  },
  {
   "cell_type": "markdown",
   "id": "measured-david",
   "metadata": {},
   "source": [
    "平均処置TEの前半の項を\n",
    "$$\n",
    "\\frac{y_i}{P(Z=1|X=x_i)}Z_i+\\bigr(1-\\frac{Z_i}{P(Z=0|X=x_i)}\\bigl)\\hat{Y}^i_1\n",
    "$$\n",
    "とする。反実仮想を計算に加えることができる。  \n",
    "同様に後半の項は、\n",
    "$$\n",
    "\\frac{y_i}{P(Z=0|X=x_i)}(1-Z_i)+\\bigr(1-\\frac{(1-Z_i)}{P(Z=0|X=x_i)}\\bigl)\\hat{Y}^i_0\n",
    "$$\n",
    "ここで、$\\hat{Y}$は回帰分析から求めた推測値である。  \n",
    "このようにIPTW法での推定と回帰分析での推定を組み合わせて因果の効果を推定する方法を**Doubly Robust Estimation**と呼ぶ。"
   ]
  },
  {
   "cell_type": "code",
   "execution_count": 33,
   "id": "ordered-dietary",
   "metadata": {},
   "outputs": [],
   "source": [
    "from sklearn.linear_model import LinearRegression\n",
    "\n",
    "X = df[[\"年齢\", \"性別\", \"CMを見た\"]]\n",
    "y = df[\"購入量\"]\n",
    "\n",
    "reg2 = LinearRegression().fit(X,y)\n",
    "\n",
    "X_0 = X.copy()\n",
    "X_0[\"CMを見た\"] = 0\n",
    "Y_0 = reg2.predict(X_0)\n",
    "\n",
    "X_1 = X.copy()\n",
    "X_1[\"CMを見た\"] = 1\n",
    "Y_1 = reg2.predict(X_1)"
   ]
  },
  {
   "cell_type": "code",
   "execution_count": 35,
   "id": "divided-injection",
   "metadata": {},
   "outputs": [
    {
     "name": "stdout",
     "output_type": "stream",
     "text": [
      "[[0.27824346 0.72175654]\n",
      " [0.77901795 0.22098205]\n",
      " [0.66432112 0.33567888]\n",
      " [0.79513753 0.20486247]\n",
      " [0.29797326 0.70202674]]\n"
     ]
    }
   ],
   "source": [
    "from sklearn.linear_model import LogisticRegression\n",
    "\n",
    "X = df[[\"年齢\", \"性別\"]]\n",
    "Z = df[\"CMを見た\"]\n",
    "\n",
    "reg = LogisticRegression().fit(X,Z)\n",
    "\n",
    "Z_pre = reg.predict_proba(X)\n",
    "print(Z_pre[0:5])"
   ]
  },
  {
   "cell_type": "code",
   "execution_count": 37,
   "id": "sorted-wrapping",
   "metadata": {},
   "outputs": [
    {
     "name": "stdout",
     "output_type": "stream",
     "text": [
      "推定したATE 9.364474321296356\n"
     ]
    }
   ],
   "source": [
    "ATE_1_i = Y/Z_pre[:,1]*Z + (1-Z/Z_pre[:,1])*Y_1\n",
    "ATE_0_i = Y/Z_pre[:,0]*(1-Z) + (1-(1-Z)/Z_pre[:,0])*Y_0\n",
    "ATE = 1/len(Y)*(ATE_1_i-ATE_0_i).sum()\n",
    "print(\"推定したATE\", ATE)"
   ]
  },
  {
   "cell_type": "code",
   "execution_count": null,
   "id": "beautiful-consciousness",
   "metadata": {},
   "outputs": [],
   "source": []
  },
  {
   "cell_type": "code",
   "execution_count": null,
   "id": "tough-thailand",
   "metadata": {},
   "outputs": [],
   "source": []
  }
 ],
 "metadata": {
  "kernelspec": {
   "display_name": "Python 3",
   "language": "python",
   "name": "python3"
  },
  "language_info": {
   "codemirror_mode": {
    "name": "ipython",
    "version": 3
   },
   "file_extension": ".py",
   "mimetype": "text/x-python",
   "name": "python",
   "nbconvert_exporter": "python",
   "pygments_lexer": "ipython3",
   "version": "3.8.5"
  }
 },
 "nbformat": 4,
 "nbformat_minor": 5
}
