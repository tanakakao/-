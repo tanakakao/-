{
 "cells": [
  {
   "cell_type": "code",
   "execution_count": 8,
   "id": "raising-nitrogen",
   "metadata": {},
   "outputs": [],
   "source": [
    "import pandas as pd\n",
    "import numpy as np\n",
    "from numpy import matlib\n",
    "\n",
    "number_of_generating_samples = 10000\n",
    "desired_sum_of_components = 1\n",
    "\n",
    "setting_of_generation = pd.read_csv('C:/Users/tanak/study/参考書/実験計画法/python_doe_kspub-master/setting_of_generation.csv', index_col=0, header=0)\n",
    "x_generated = np.random.rand(number_of_generating_samples, setting_of_generation.shape[1])\n",
    "\n",
    "x_upper = setting_of_generation.iloc[0,:]\n",
    "x_lower = setting_of_generation.iloc[1,:]\n",
    "x_generated = x_generated * (x_upper.values - x_lower.values) + x_lower.values\n",
    "\n",
    "if setting_of_generation.iloc[2,:].sum() != 0:\n",
    "    for group_number in range(1, int(setting_of_generation.iloc[2,:].max()) + 1):\n",
    "        variable_numbers = np.where(setting_of_generation.iloc[2,:] == group_number)[0]\n",
    "        actual_sum_of_components = x_generated[:, variable_numbers].sum(axis=1)\n",
    "        actual_sum_of_components_components = np.matlib.repmat(np.reshape(actual_sum_of_components, (x_generated.shape[0], 1)), 1, len(variable_numbers))\n",
    "        x_generated[:, variable_numbers] = x_generated[:, variable_numbers] / actual_sum_of_components_components * desired_sum_of_components\n",
    "        deleting_sample_numbers, _ = np.where(x_generated > x_upper.values)\n",
    "        x_generated = np.delete(x_generated, deleting_sample_numbers, axis=0)\n",
    "        deleting_sample_numbers, _ = np.where(x_generated < x_lower.values)\n",
    "        x_generated = np.delete(x_generated, deleting_sample_numbers, axis=0)\n",
    "\n",
    "if setting_of_generation.shape[0] > 4:\n",
    "    for variable_nuimber in range(x_generated.shape[1]):\n",
    "        x_generated[:, variable_number] = np.round(x_generated[:, variable_number], int(setting_of_generating.iloc[3, variable_number]))\n",
    "\n",
    "x_generated = pd.DataFrame(x_generated, columns=setting_of_generation.columns)"
   ]
  },
  {
   "cell_type": "code",
   "execution_count": 12,
   "id": "institutional-jumping",
   "metadata": {},
   "outputs": [
    {
     "data": {
      "text/html": [
       "<div>\n",
       "<style scoped>\n",
       "    .dataframe tbody tr th:only-of-type {\n",
       "        vertical-align: middle;\n",
       "    }\n",
       "\n",
       "    .dataframe tbody tr th {\n",
       "        vertical-align: top;\n",
       "    }\n",
       "\n",
       "    .dataframe thead th {\n",
       "        text-align: right;\n",
       "    }\n",
       "</style>\n",
       "<table border=\"1\" class=\"dataframe\">\n",
       "  <thead>\n",
       "    <tr style=\"text-align: right;\">\n",
       "      <th></th>\n",
       "      <th>raw material 1</th>\n",
       "      <th>raw material 2</th>\n",
       "      <th>raw material 3</th>\n",
       "      <th>temperature</th>\n",
       "      <th>time</th>\n",
       "    </tr>\n",
       "  </thead>\n",
       "  <tbody>\n",
       "    <tr>\n",
       "      <th>upper</th>\n",
       "      <td>1</td>\n",
       "      <td>0.6</td>\n",
       "      <td>0.95</td>\n",
       "      <td>110</td>\n",
       "      <td>130</td>\n",
       "    </tr>\n",
       "    <tr>\n",
       "      <th>lower</th>\n",
       "      <td>0</td>\n",
       "      <td>0.0</td>\n",
       "      <td>0.00</td>\n",
       "      <td>40</td>\n",
       "      <td>5</td>\n",
       "    </tr>\n",
       "    <tr>\n",
       "      <th>group with a total of desired_sum_of_components</th>\n",
       "      <td>1</td>\n",
       "      <td>1.0</td>\n",
       "      <td>1.00</td>\n",
       "      <td>0</td>\n",
       "      <td>0</td>\n",
       "    </tr>\n",
       "    <tr>\n",
       "      <th>rounding</th>\n",
       "      <td>2</td>\n",
       "      <td>2.0</td>\n",
       "      <td>2.00</td>\n",
       "      <td>0</td>\n",
       "      <td>-1</td>\n",
       "    </tr>\n",
       "  </tbody>\n",
       "</table>\n",
       "</div>"
      ],
      "text/plain": [
       "                                                 raw material 1  \\\n",
       "upper                                                         1   \n",
       "lower                                                         0   \n",
       "group with a total of desired_sum_of_components               1   \n",
       "rounding                                                      2   \n",
       "\n",
       "                                                 raw material 2  \\\n",
       "upper                                                       0.6   \n",
       "lower                                                       0.0   \n",
       "group with a total of desired_sum_of_components             1.0   \n",
       "rounding                                                    2.0   \n",
       "\n",
       "                                                 raw material 3  temperature  \\\n",
       "upper                                                      0.95          110   \n",
       "lower                                                      0.00           40   \n",
       "group with a total of desired_sum_of_components            1.00            0   \n",
       "rounding                                                   2.00            0   \n",
       "\n",
       "                                                 time  \n",
       "upper                                             130  \n",
       "lower                                               5  \n",
       "group with a total of desired_sum_of_components     0  \n",
       "rounding                                           -1  "
      ]
     },
     "execution_count": 12,
     "metadata": {},
     "output_type": "execute_result"
    }
   ],
   "source": [
    "setting_of_generation.iloc"
   ]
  },
  {
   "cell_type": "code",
   "execution_count": null,
   "id": "solid-ranking",
   "metadata": {},
   "outputs": [],
   "source": []
  },
  {
   "cell_type": "code",
   "execution_count": null,
   "id": "structured-raleigh",
   "metadata": {},
   "outputs": [],
   "source": []
  },
  {
   "cell_type": "code",
   "execution_count": null,
   "id": "rubber-northwest",
   "metadata": {},
   "outputs": [],
   "source": []
  },
  {
   "cell_type": "code",
   "execution_count": null,
   "id": "ranking-california",
   "metadata": {},
   "outputs": [],
   "source": []
  },
  {
   "cell_type": "code",
   "execution_count": null,
   "id": "deluxe-delaware",
   "metadata": {},
   "outputs": [],
   "source": []
  },
  {
   "cell_type": "code",
   "execution_count": null,
   "id": "accredited-reggae",
   "metadata": {},
   "outputs": [],
   "source": []
  }
 ],
 "metadata": {
  "kernelspec": {
   "display_name": "Python 3",
   "language": "python",
   "name": "python3"
  },
  "language_info": {
   "codemirror_mode": {
    "name": "ipython",
    "version": 3
   },
   "file_extension": ".py",
   "mimetype": "text/x-python",
   "name": "python",
   "nbconvert_exporter": "python",
   "pygments_lexer": "ipython3",
   "version": "3.8.5"
  }
 },
 "nbformat": 4,
 "nbformat_minor": 5
}
