{
 "cells": [
  {
   "cell_type": "markdown",
   "id": "aggregate-seeking",
   "metadata": {},
   "source": [
    "### モデル構築までの典型的なプロセス\n",
    "単位根検定は、モデル内に入れる各変数に対して種分けを行う役割がある。\n",
    "すべての内生変数がI(0)である場合は、レベルVARを構築することが考えられる。\n",
    "一方、I(1)の内生変数が複数個ある場合は共和分検定を行う。\n",
    "共和分関係がある場合は、ベクトル誤差修正モデル(VECM)を構築することが考えられる。\n",
    "共和分関係がない場合は、I(1)の内生変数をI(0)に階差変換するのが普通である。\n",
    "VECMを採用せず、階差変換してI(0)過程となった内生変数を1個でも含む場合は、階差VARに分類する。\n",
    "\n",
    "### 単位根検定の概要\n",
    "単位根検定は、検定対象となる変数の時系列過程が単位根を持っているか否かを検定する。\n",
    "その目的は和分過程の次数を決定することである。\n",
    "単位根検定には、次のような副次的な目的もある。\n",
    "I(0)過程でもトレンド定常過程とレベル定常過程とがある。I(1)過程でも定数項のある過程とない過程とがある。\n",
    "このような定数項とタイムトレンド項に関する有意性情報も得る。\n",
    "最もぽポピュラーな単位根検定は、拡張ディッキー=フラー検定であり、ADF検定と表記する。\n",
    "\n",
    "### 拡張ディッキー=フラー検定\n",
    "回帰におけるt検定の考え方を単位根検定に適用したのがディッキー=フラー検定(DF検定)であり、その改良版が拡張ディッキー=フラー検定(ADF検定)である。DF検定がAR(1)を仮定するのに対し、ADF検定はAR(p)を仮定する。\n",
    "単位根検定に使う回帰モデルは、次の2つのモデルの統合化が考えられる。\n",
    "$$\n",
    "y_t=c_1+c_2t+u_t\\\\\n",
    "y_t=c_3+y_{t-1}+u_t\n",
    "$$\n",
    "1つ目の式は、単位根を持っていない時系列過程の代表格であり、2つ目の式は単位根を持っている時系列過程の代表格である。\n",
    "このような位置づけになる2つのモデルを統合化し、単位根検定のための回帰モデルを作ることにする。\n",
    "$$\n",
    "\\begin{align}\n",
    "y_t&=c_1+c_2t+v_tおよびv_t=\\rho y_{t-1}+u_t\\\\\n",
    "y_t&=c_1+c_2t+\\rho[y_{t-1}-c_1-c_2(t-1)]+u_t\\\\\n",
    "&=[c_1(1-\\rho)+c_2\\rho]+c_2(1-\\rho)t+\\rho y_{t-1}+u_t\n",
    "\\end{align}\n",
    "$$\n",
    "このままでは非線形回帰となるので、線形回帰になるように次の表現にする。\n",
    "$$\n",
    "y_t=\\beta_1+\\beta_2t+\\rho y_{t-1}+u_t\n",
    "$$\n",
    "ただし、次の関係がある。\n",
    "$$\n",
    "\\begin{align}\n",
    "\\beta_1&=c_1(1-\\rho)+c_2\\rho\\\\\n",
    "\\beta_2&=c_2(1-\\rho)\n",
    "\\end{align}\n",
    "$$\n",
    "この線形回帰モデルを単位根検定に使う場合は、次の帰無仮説と対立仮説が考えられる。\n",
    "$$\n",
    "H_0:\\rho-1=0(単位根あり)\\\\\n",
    "H_1:\\rho-1<0(単位根なし)\n",
    "$$\n",
    "\n",
    "単位根なしの場合($\\rho<1$)は$\\rho y_{t-1}+u_t$が定常過程になるから、トレンド定常過程が導出できる。\n",
    "単遺恨ありの場合($\\rho=1$)は$\\beta_2=c_2(1-\\rho)$がゼロとなり、ドリフト付き単位根過程が導出できる。\n",
    "もう少し使い勝手が良い定式化にするため、$y_{t-1}$を両辺から引いて次の線形回帰モデルを得る。\n",
    "$$\n",
    "\\Delta y_t=\\beta_1+\\beta_2t+(\\rho-1)y_{t-1}+u_t\n",
    "$$\n",
    "\n",
    "単位根検定の特殊事情を整理する。\n",
    "1. 単位根$\\rho=1$の環境(帰無仮説$H_0$のもとでの環境)は、大数の法則や中心極限定理が成せず、特殊な漸近理論を使う必要がある。そのことに関連し、通常の結果にならないことが起こる。\n",
    "2. 自己回帰構造のため、撹乱項とラグ付き変数とが相関し、不変推定量を得ることができず、せいぜい一致推定量しか得られない推定環境になっている。\n",
    "3. 係数$\\beta_1$と$\\beta_2$の有無によって検定統計量の分布が大きく変化する。\n",
    "4. 検定用回帰式の導出プロセスを考慮すると、係数$\\beta_1$と$\\beta_2$は$\\rho$に対して独立していないと考えるのが適切である。\n",
    "\n",
    "\n",
    "ADF検定のための、基本的な検定用回帰モデルを示す。\n",
    "$$\n",
    "\\Delta \\boldsymbol{y}_t=\\boldsymbol{\\beta}_1+\\boldsymbol{\\beta}_2t+(1-\\rho)\\boldsymbol{y}_{t-1}+\\sum_{i=1}^{p-1}\\gamma_i\\Delta \\boldsymbol{y}_{t-i}+\\boldsymbol{u}_t\n",
    "$$\n",
    "\n",
    "検定対象$\\boldsymbol{y}_t$の単位根を調べる核心部は、係数$\\rho-1$である。\n",
    "回帰式の右辺に含まれている他の要素は、検定の環境を制御するために回帰モデルに入っている。\n",
    "例えば、$\\boldsymbol{\\beta}_2t$はタイムトレンドの影響を制御する役割がある。\n",
    "$p-1$個の$\\Delta \\boldsymbol{y}_{t-i}$は系列相関の影響を制御する役割がある。\n",
    "系列相関の影響を制御しない回帰モデルにすると、それはDF検定になる。\n",
    "ADF検定のための検定統計量は、2つが開発されている。1つは通常のt検定統計量と同じ形になっており、次のように表現できる。\n",
    "$$\n",
    "\\tau=\\frac{\\hat{\\rho}-1}{\\hat{\\sigma_{\\hat{\\rho}}}}\n",
    "$$\n",
    "ただし、$\\hat{\\sigma_{\\hat{\\rho}}}$は推定慮$\\hat{\\rho}$の標準誤差である。こちらはtau($\\tau$)検定統計量やt検定統計量と呼ばれる。\n",
    "もう1つの検定統計量は次の形をしている。\n",
    "$$\n",
    "Z_{DF}=\\frac{T(\\hat{\\rho}-1)}{1-\\sum_{i=1}^{p-1}\\hat{\\gamma}_i}\n",
    "$$\n",
    "こちらは係数検定統計量や正規化バイアス検定統計量と呼ばれる。\n",
    "普通は$\\tau$検定統計量を使うので、$\\tau$検定統計量に基づいて議論を進める。\n",
    "仮説の内容は次のようになる。\n",
    "$$\n",
    "H_0:\\rho-1=0(単位根あり)\\\\\n",
    "→\\tau統計量=0\\\\\n",
    "H_1:\\rho-1<0(単位根なし)\\\\\n",
    "→\\tau統計量が0からマイナス方向へ大きくずれる\n",
    "$$\n",
    "\n",
    "$\\tau$検定統計量に基づく単位根検定は左片側検定になる。したがって次のように判断する。\n",
    "1. $\\tau<DF_{\\alpha}$のとき、有意水準$\\alpha$で帰無仮説$H_0$を棄却する\n",
    "2. $\\tau\\geq DF_{\\alpha}$のとき、有意水準$\\alpha$で帰無仮説$H_0$を棄却しない\n",
    "\n",
    "ただし、$\\tau$は$\\tau$検定統計量の値、$DF_{\\alpha}$は左端に確率$\\alpha$を設定したときのDF分布の棄却点を表す。\n",
    "次のような複合仮説によっても単位根検定は実行できる。\n",
    "$$\n",
    "H_0:\\rho-1=0\\ and\\ \\beta_2=0\\\\\n",
    "H_1:\\rho-1<0\\ and\\ \\beta_2\\neq0\n",
    "$$\n",
    "\n",
    "これは、「ドリフト付き単位根過程」対「トレンド定常過程」の選択問題になっている。\n",
    "ドリフト項はタイムトレンドを表すので$H_0$の方は「タイムトレンドを持った単位根過程」を意味している。\n",
    "このような考え方に立てば、$\\beta_2=0$の前提のもと、次の複合仮説も考慮に値する。\n",
    "$$\n",
    "H_0:\\rho-1=0\\ and\\ \\beta_1=0\\\\\n",
    "H_1:\\rho-1<0\\ and\\ \\beta_1\\neq0\n",
    "$$\n",
    "\n",
    "$H_0$はドリフトなしの単位根過程を表し、$H_1$はタイムトレンドなしの定常過程を表している。\n",
    "したがって、「タイムトレンドなしの単位根過程」対「タイムトレンドなしの定常過程」の選択問題になっている。\n",
    "このよな複合仮説に対する検定統計量はphi($\\Phi$)検定統計量と呼ぶ。\n",
    "\n",
    "検定用回帰モデルは次の3つがあり、「trendモデル」「driftモデル」「noneモデル」と呼ぶ。\n",
    "\n",
    "#### trendモデル\n",
    "トレンド項と定数項との双方を含む次の回帰モデルをtrendモデルと呼ぶ。\n",
    "$$\n",
    "\\Delta y_t=\\beta_1+\\beta_2t+(1-\\rho)y_{t-1}+\\sum_{i=1}^{p-1}\\gamma_i\\Delta y_{t-1}+u_t\n",
    "$$\n",
    "\n",
    "ここでは、「タイムトレンドを持った定常過程」対「タイムトレンドを持った単位根過程」といった対峙を考え、帰無仮説のための真のデータ生成過程(DGP)は、$\\rho=1,\\beta_2=0$といった制約を加えた次のドリフト付き単位根過程とする。\n",
    "$$\n",
    "\\Delta y_t=\\beta_1+\\sum_{i=1}^{p-1}\\gamma_i\\Delta y_{t-1}+u_t\n",
    "$$\n",
    "\n",
    "単位根過程におけるドリフト項$\\beta_1$はタイムトレンドを表す。\n",
    "この想定のもと、tau検定統計量の分布は「tau3表」と呼ばれる分布になる。\n",
    "trendモデルにおけるtau検定統計量の値は「tau3統計値」と呼ぶことにする。\n",
    "また、「$H_0:\\rho-1=0\\ and\\ \\beta_2=0$」を検定するphi検定統計量の分布は「phi3表」と呼ばれる分布となる。\n",
    "phi3表に対応するphi検定統計量の値は「phi3統計値」と呼ぶことにする。\n",
    "trendモデルにおいて、帰無仮説のための真のデータ生成過程(DGP)として$\\beta_2\\neq 0$を想定し、次の定式化を用いることが考えられる。\n",
    "$$\n",
    "\\Delta y_t=\\beta_1+\\beta_2t+\\sum_{i=1}^{p-1}\\gamma_i\\Delta y_{t-1}+u_t\n",
    "$$\n",
    "\n",
    "この条件$\\beta_2\\neq 0$のもとでは、係数推定量$\\hat{\\rho}$の分布が漸近的に正規分布に収束することが知られている。\n",
    "したがって、tau3統計値を$N(0,1)$またはt分布で評価することが考えられる。\n",
    "\n",
    "#### driftモデル\n",
    "トレンド項がなく、定数項のみを含む次の回帰モデルをdriftモデルと呼ぶ。\n",
    "$$\n",
    "\\Delta y_t=\\beta_1+(1-\\rho)y_{t-1}+\\sum_{i=1}^{p-1}\\gamma_i\\Delta y_{t-1}+u_t\n",
    "$$\n",
    "帰無仮説のための真のデータ生成過程(DGP)は、$\\rho=1,\\beta_1=0$といった制約を加えた次の単位根過程とする。\n",
    "$$\n",
    "\\Delta y_t=\\sum_{i=1}^{p-1}\\gamma_i\\Delta y_{t-1}+u_t\n",
    "$$\n",
    "\n",
    "この式の想定のもと、tau検定統計量の分布は「tau2表」と呼ばれる分布になる。\n",
    "tau2表に対応させるため、driftもdるにおけるtau検定統計量の値は「tau2統計値」と呼ぶことにする。\n",
    "また、「$H_0:\\rho-1=0\\ and\\ \\beta_2=0$」を検定するphi検定統計量の分布は「phi1表」と呼ばれる分布となる。\n",
    "phi1表に対応するphi検定統計量の値は「phi1統計値」と呼ぶことにする。\n",
    "driftモデルにおいて、帰無仮説のための真のデータ生成過程(DGP)として$\\beta_1\\neq 0$を想定し、次の定式化を用いることが考えられる。\n",
    "\n",
    "$$\n",
    "\\Delta y_t=\\beta_1+\\sum_{i=1}^{p-1}\\gamma_i\\Delta y_{t-1}+u_t\n",
    "$$\n",
    "\n",
    "この条件$\\beta_1\\neq 1$のもとでは、係数推定量$\\hat{\\rho}$の分布が漸近的に正規分布に収束することが知られている。\n",
    "したがって、tau2統計値を$N(0,1)$またはt分布で評価することが考えられる。\n",
    "\n",
    "#### noneモデル\n",
    "トレンド項も定数項もない次の回帰モデルをnoneモデルと呼ぶ。\n",
    "$$\n",
    "\\Delta y_t=(1-\\rho)y_{t-1}+\\sum_{i=1}^{p-1}\\gamma_i\\Delta y_{t-1}+u_t\n",
    "$$\n",
    "\n",
    "帰無仮説のための真のデータ生成過程(DGP)は、$\\rho=1$といった制約を加えた次のDGPとする。\n",
    "$$\n",
    "\\Delta y_t=\\sum_{i=1}^{p-1}\\gamma_i\\Delta y_{t-1}+u_t\n",
    "$$\n",
    "\n",
    "この式の想定のもと、tau検定統計量の分布は「tau1表」と呼ばれる分布になる。\n",
    "tau1表に対応させるため、driftもdるにおけるtau検定統計量の値は「tau1統計値」と呼ぶことにする。\n",
    "noneモデルにおいては、$\\beta_1\\neq 0$や$\\beta_2\\neq 0$に関わるphi検定が成立せず、tau検定のみを行う。\n",
    "\n",
    "3つのモデルの表記ルールを次のようにする。\n",
    "\n",
    "|場面の名称|使用モデルの名称|tau検定統計値の名称|棄却点を表す統計表の名称|\n",
    "|-|-|-|-|\n",
    "|場面3|trendモデル|tau3統計値|tau3表|\n",
    "|場面2|driftモデル|tau2統計値|tau2表|\n",
    "|場面1|noneモデル|tau1統計値|tau1表|\n",
    "\n",
    "検定対象の過程$y_t$がタイムトレンドを持っている場合は、trendモデルを用いる。\n",
    "過程$y_t$がタイムトレンドを持たず、期待値がゼロでない場合は、driftモデルを用いる。\n",
    "過程$y_t$がタイムトレンドを持っておらず、かつ期待値がゼロの場合は、noneモデルを用いる。\n",
    "\n",
    "「trendモデル→driftモデル→noneモデル」の順序でモデルを使い、$\\beta_1$と$\\beta_2$に関する仮説検定を行い、適切なモデルを選び出す。\n",
    "\n",
    "最初はトレンドと定数項との影響をコントロールできる環境にするため、trendモデル($\\beta_1\\neq0,\\beta_2\\neq0$)を用いる。\n",
    "もし、検定の結果、タイムトレンドがないことがわかれば、driftモデル($\\beta_1\\neq0,\\beta_2=0$)を用いる。\n",
    "さらに、検定の結果、定数項がゼロであることが分かれば、noneモデル($\\beta_1=0,\\beta_2\\neq0$)を用いる。\n",
    "\n",
    "このようなモデルの切り替えは、複合検定に基づいて行うことができる。\n",
    "そのための検定統計量がphi検定統計量である。異なった複合仮説に対応するように、phi検定統計量は「phi1」「phi2」「phi3」といった3タイプがある。\n",
    "\n",
    "|モデル名|複合帰無仮説の内容|phi検定統計量の名称|\n",
    "|-|-|-|\n",
    "|trend|$$H_0:\\rho-1=0,\\beta_1=0,\\beta_2=0$$|phi2|\n",
    "|trend|$$H_0:\\rho-1=0,\\beta_2=0$$|phi3|\n",
    "|drift|$$H_0:\\rho-1=0,\\beta_1=0$$|phi1|\n",
    "|none|none|none|\n",
    "\n",
    "分布表の使い分けについて整理すると次のようになる。\n",
    "\n",
    "|モデル|検定用回帰モデル|$$H_0$$|$$H_0$$のための真の過程|使用する分布|\n",
    "|-|-|-|-|-|\n",
    "|trend|$$\\Delta y_t=\\beta_1+\\beta_2t+(1-\\rho)y_{t-1}+\\sum_{i=1}^{p-1}\\gamma_i\\Delta y_{t-1}+u_t$$|$$\\rho=1$$|$$\\rho=1,\\beta_2=0$$|tau3表|\n",
    "|trend|上と同じ|$$\\rho=1$$|$$\\rho=1,\\beta_2\\neq0$$|N(0,1)|\n",
    "|drift|$$\\Delta y_t=\\beta_1+(1-\\rho)y_{t-1}+\\sum_{i=1}^{p-1}\\gamma_i\\Delta y_{t-1}+u_t$$|$$\\rho=1$$|$$\\rho=1,\\beta_1=0$$|tau2表|\n",
    "|drift|上と同じ|$$\\rho=1$$|$$\\rho=1,\\beta_1\\neq0$$|N(0,1)|\n",
    "|none|$$\\Delta y_t=(1-\\rho)y_{t-1}+\\sum_{i=1}^{p-1}\\gamma_i\\Delta y_{t-1}+u_t$$|$$\\rho=1$$|$$\\rho=1$$|tau1表|\n",
    "\n",
    "ADF検定と言ってもいくつかバリエーションがあるので注意する。\n",
    "\n",
    "#### trendモデルによる検定\n",
    "ADF検定の実行はtrendモデル($\\beta_1\\neq0,\\beta_2\\neq0$)からスタートする。\n",
    "そしてtau3統計値をtau3表で評価して第1の単位根($\\rho=1$)検定を行う。\n",
    "単位根の帰無仮説が棄却できれば、「単位根なし」と判断する。\n",
    "帰無仮説が棄却できない場合は、2つの選択肢がある。\n",
    "「帰無仮説が正しい」とする選択と「判断を保留してさらに調べる」といった選択である。\n",
    "ここでは、後者の選択肢を選び、トレンド項$\\beta_2$の有意検定を行う。\n",
    "次の複合仮説を設定する。\n",
    "$$\n",
    "H_0:\\rho-1=0\\ and\\ \\beta_2=0\n",
    "$$\n",
    "この複合仮説ではphi3統計値をphi3表で評価する。\n",
    "前段階で$\\rho-1\\approx 0$の情報を得ているので、この複合仮説が棄却されると、$\\beta_2\\neq0$と判断できる。\n",
    "次の回帰分析を行い、$\\beta_2\\neq0$の検定をt検定で行うといったことも考えられる。\n",
    "$$\n",
    "\\Delta y_t=\\beta_1+\\beta_2t+\\sum_{i=1}^{p-1}\\gamma_i\\Delta y_{t-1}+u_t\n",
    "$$\n",
    "この条件のもとでは、推定量$\\hat{\\rho}$の分布が漸近的に正規分布に収束することが知られている。\n",
    "したがって、tau3統計値を$N(0,1)$で評価して第2の単位根($\\rho=1$)検定を行えばよい。\n",
    "単位根の帰無仮説が棄却できれば「単位根なし」と判断する。\n",
    "単位根の帰無仮説が棄却できなければ「単位根あり」と判断する。\n",
    "\n",
    "#### driftモデルによる検定\n",
    "trendモデル($\\beta_1\\neq0,\\beta_2\\neq0$)において$\\beta_2=0$と判断した場合は、driftモデル($\\beta_1\\neq0,\\beta_2=0$)を用いる。\n",
    "そしてtau2統計値をtau2表で評価して第1の単位根($\\rho-1$)検定を行う。\n",
    "単位根の帰無仮説が棄却できれば、「単位根なし」と判断する。\n",
    "帰無仮説が棄却できない場合は、2つの選択肢がある。\n",
    "「帰無仮説が正しい」とする選択と「判断を保留してさらに調べる」といった選択である。\n",
    "ここでは、後者の選択肢を選び、トレンド項$\\beta_1$の有意検定を行う。\n",
    "次の複合仮説を設定する。\n",
    "$$\n",
    "H_0:\\rho-1=0\\ and\\ \\beta_1=0\n",
    "$$\n",
    "この複合仮説ではphi1統計値をphi1表で評価する。\n",
    "前段階で$\\rho-1\\approx 0$の情報を得ているので、この複合仮説が棄却されると、$\\beta_1\\neq0$と判断できる。\n",
    "次の回帰分析を行い、$\\beta_1\\neq0$の検定をt検定で行うといったことも考えられる。\n",
    "$$\n",
    "\\Delta y_t=\\beta_1+\\sum_{i=1}^{p-1}\\gamma_i\\Delta y_{t-1}+u_t\n",
    "$$\n",
    "この条件のもとでは、推定量$\\hat{\\rho}$の分布が漸近的に正規分布に収束することが知られている。\n",
    "したがって、tau2統計値を$N(0,1)$で評価して第2の単位根($\\rho=1$)検定を行えばよい。\n",
    "\n",
    "\n",
    "#### noneモデルによる検定\n",
    "driftモデル($\\beta_1\\neq0,\\beta_2=0$)において$\\beta_1=0$と判断した場合は、noneモデル($\\beta_1=0,\\beta_2=0$)を用いる。\n",
    "tau1統計値をtau1表で評価して第1の単位根($\\rho-1$)検定を行う。\n",
    "単位根の帰無仮説が棄却できれば、「単位根なし」と判断する。\n",
    "単位根の帰無仮説が棄却できなければ「単位根あり」と判断する。\n",
    "\n",
    "上に示すさまざまな場面において「帰無仮説が棄却できない」「単位根あり」と判断した場合は、階差型の$\\Delta y_t$を使って単位根検定を再び繰り返す。そして、「帰無仮説が棄却できる」「単位根なし」の結果が得られるまで検定を続ける。\n",
    "「帰無仮説が棄却できる」「単位根なし」の結果が得られたところで、当該過程の$y_t$の和分次数を決定する。\n",
    "単位根検定の主目的は「和分次数の決定」である。"
   ]
  },
  {
   "cell_type": "markdown",
   "id": "temporal-platform",
   "metadata": {},
   "source": [
    "### ディッキー=フラー分布の分布のイメージ\n",
    "DF検定およびADF検定に用いる標本分布はディッキー=フラー(DF)分布と呼ばれる。\n",
    "tau検定統計量の分布表、phi検定統計量の分布表を含め、DF分布と呼ばれている。\n",
    "t分布に対応するのはtau表であり、t分布にもっとも近いのはtau1表である。そして、tau2表とtau3表の順番となる。\n",
    "tau1表はt分布で代用できるほど似ていないが、大きく違うというほどにも異なっていない。\n",
    "tau2表とtau3表はt分布と大きく異なる。\n",
    "また、3つの分布は負の方向に片寄っている。\n",
    "\n",
    "### Pantula, Gonzales-Farias, Fuller検定\n",
    "ADF検定に代わる単位根検定としてPantula, Gonzales-Farias, Fuller(PGFF)検定がある。\n",
    "PGFF検定は通常最小2乗(OLS)推定量に代えて加重対称(WS)推定量を用い、OLS推定量に基づくADF検定や他の検定に比べ検定力が大きいのが特徴である。\n",
    "PGFF検定においてもADF検定と同様な検定用回帰モデルを用い、それは次のように表現できる。\n",
    "$$\n",
    "y_t=\\mu(1-\\rho)+\\rho y_{t-1}+u_t\n",
    "$$\n",
    "\n",
    "帰無仮説ち対立仮説は次のようになる。\n",
    "$$\n",
    "H_0:\\rho=1(単位根あり)\\\\\n",
    "H_1:\\rho<1(単位根なし)\n",
    "$$\n",
    "\n",
    "次の標準的な定常AR(p)過程を想定する。\n",
    "$$\n",
    "y_t=\\beta_0+\\sum_{i=1}^p\\beta_iy_{t-i}+u_t\n",
    "$$\n",
    "\n",
    "ただし、$u_t$は分散$\\sigma^2$を有するホワイトノイズである。\n",
    "この定常AR(p)過程は次の前向き表現を持つことが知られている。\n",
    "$$\n",
    "y_t=\\beta_0+\\sum_{i=1}^p\\beta_iy_{t+i}+v_t\n",
    "$$\n",
    "ただし、$v_t$は分散$\\sigma^2$を有するホワイトノイズである。\n",
    "次の目的関数$Q(\\theta)$を最小化する最小化問題を解く解がWS推定量となる。\n",
    "$$\n",
    "Q(\\theta)=\\sum_{t=p+1}^T(t-p)\\biggl(y_t-\\rho y_t-\\sum_{i=2}^p\\gamma_i\\Delta y_{t-i} \\biggr)^2+\\sum_{y=p+1}^T(T-t+p)\\biggl(y_{t-p}-\\rho y_{t-p+1}-\\sum_{i=2}^p\\gamma_i\\Delta y_{t-p+2} \\biggr)^2\n",
    "$$\n",
    "\n",
    "ただし、$\\theta=(\\rho,\\gamma_2,\\gamma_3,\\cdots,\\gamma_p)'$である。\n",
    "$p=1$および$w_t=\\frac{t-1}{T}$と設定すると、次の目的関数$Q(\\rho)$が得られる。\n",
    "$$\n",
    "Q(\\rho)=\\sum_{t=2}^Tw_t(y_t-\\rho y_t)^2+\\sum_{t=1}^{T-1}(1-w_{t+1})(y_t-\\rho y_{t+1})^2\n",
    "$$\n",
    "この目的関数$Q(\\rho)$の最小化問題を解くWS推定量は次のようになる。\n",
    "$$\n",
    "\\hat{\\rho_{WS}}=\\frac{\\sum_{t=2}^Ty_{t-1}y_t}{\\sum_{t=2}^Ty_t^2+\\frac{1}{T}\\sum_{t=1}^Ty_t^2}\n",
    "$$\n",
    "そしてt検定統計量に相当する検定統計量は、次の形で得ることができる。\n",
    "$$\n",
    "\\tau_{WS}=(\\hat{\\rho_{WS}}-1)\\biggl(\\sum_{t=2}^Ty_t^2+\\frac{1}{T}\\sum_{t=1}^Ty_t^2 \\biggr)^{1\\ /\\ 2}\\hat{\\sigma_{WS}}^{-1}\n",
    "$$\n",
    "\n",
    "この検定統計量は、tau検定統計量と呼ばれる。"
   ]
  },
  {
   "cell_type": "code",
   "execution_count": 1,
   "id": "hazardous-placement",
   "metadata": {},
   "outputs": [],
   "source": [
    "import numpy as np\n",
    "import pandas as pd\n",
    "import statsmodels.api as sm\n",
    "from statsmodels.tsa.adfvalues import mackinnonp\n",
    "from scipy.stats import norm\n",
    "\n",
    "\n",
    "def make_distribution(y, p, beta1=True, beta2=True, rho=True):  \n",
    "    if beta1&beta2:\n",
    "        reg = 'ct'\n",
    "    elif beta1:\n",
    "        reg = 'c'\n",
    "    else:\n",
    "        reg='nc'\n",
    "    \n",
    "    y = y[::-1]\n",
    "    delta_y = np.concatenate([np.diff(y), np.zeros(1)])\n",
    "    delta_yt = delta_y[:-(p+1)]\n",
    "    \n",
    "    delta_yt_1 = np.array([delta_y[i:-(p-i+1)] for i in range(1,p+1)]).T\n",
    "    yt_1 = y[1:-(p)].reshape(-1,1)\n",
    "    t = np.arange(len(yt_1))[::-1].reshape(-1,1)\n",
    "    \n",
    "    X = delta_yt_1\n",
    "    col_names = ['delta_y_'+str(i) for i in range(1,p+1)]\n",
    "    \n",
    "    if rho:\n",
    "        X = np.concatenate([yt_1, delta_yt_1],axis=1)\n",
    "        col_names = ['yt_1'] + col_names\n",
    "    \n",
    "    if beta2:\n",
    "        X = np.concatenate([t, X],axis=1)\n",
    "        col_names = ['t'] + col_names\n",
    "    \n",
    "    X = pd.DataFrame(X, columns=col_names)\n",
    "    if beta1:\n",
    "        X = sm.add_constant(X)\n",
    "    Y = delta_yt.reshape(-1,1)\n",
    "    \n",
    "    model = sm.OLS(Y, X)\n",
    "    result = model.fit()\n",
    "    #print(result.summary())\n",
    "    \n",
    "    if beta1:\n",
    "        t_beta1 = result.tvalues['const']\n",
    "        p_beta1 = norm.sf(np.abs(t_beta1))\n",
    "    else:\n",
    "        t_beta1 = None\n",
    "        p_beta1 = None\n",
    "    \n",
    "    if beta2:\n",
    "        t_beta2 = result.tvalues['t']\n",
    "        p_beta2 = norm.sf(np.abs(t_beta2))\n",
    "    else:\n",
    "        t_beta2 = None\n",
    "        p_beta2 = None\n",
    "    \n",
    "    if rho:\n",
    "        t_rho = -result.tvalues['yt_1']\n",
    "        p_rho = mackinnonp(t_rho, regression=reg, N=1)\n",
    "        p_rho_norm = norm.sf(np.abs(t_rho))\n",
    "    else:\n",
    "        t_rho = None\n",
    "        p_rho = None\n",
    "        p_rho_norm = None\n",
    "    \n",
    "    print('t_beta1: ', t_beta1,\n",
    "          '\\nt_beta2: ', t_beta2,\n",
    "          '\\nt_rho: ', t_rho,\n",
    "          '\\n\\np_beta1: ', p_beta1,\n",
    "          '\\np_beta2: ', p_beta2,\n",
    "          '\\np_rho: ', p_rho, \n",
    "          '\\np_rho_norm: ', p_rho_norm)\n",
    "    \n",
    "    return (t_beta1, t_beta2, t_rho), (p_beta1, p_beta2, p_rho, p_rho_norm)"
   ]
  },
  {
   "cell_type": "code",
   "execution_count": 2,
   "id": "organizational-pressing",
   "metadata": {},
   "outputs": [
    {
     "data": {
      "text/plain": [
       "[<matplotlib.lines.Line2D at 0x1696c8cb070>]"
      ]
     },
     "execution_count": 2,
     "metadata": {},
     "output_type": "execute_result"
    },
    {
     "data": {
      "image/png": "[encoded data removed]",
      "text/plain": [
       "<Figure size 432x288 with 1 Axes>"
      ]
     },
     "metadata": {
      "needs_background": "light"
     },
     "output_type": "display_data"
    }
   ],
   "source": [
    "import matplotlib.pyplot as plt\n",
    "\n",
    "y = np.random.normal(size=2000)\n",
    "yc = 1000+y.cumsum().cumsum()+10*np.arange(2000)\n",
    "plt.plot(yc)"
   ]
  },
  {
   "cell_type": "code",
   "execution_count": 3,
   "id": "future-joseph",
   "metadata": {},
   "outputs": [
    {
     "name": "stdout",
     "output_type": "stream",
     "text": [
      "t_beta1:  -1.015085183671324 \n",
      "t_beta2:  1.9777302535191765 \n",
      "t_rho:  -0.2924142131636938 \n",
      "\n",
      "p_beta1:  0.15503261183170514 \n",
      "p_beta2:  0.023979572697038726 \n",
      "p_rho:  0.989689909782547 \n",
      "p_rho_norm:  0.38498497118183284\n"
     ]
    }
   ],
   "source": [
    "# trendモデルによる検定\n",
    "make_distribution(yc, p=1, beta1=True, beta2=True, rho=True);"
   ]
  },
  {
   "cell_type": "markdown",
   "id": "whole-korea",
   "metadata": {},
   "source": [
    "「単位根なし($\\rho=1$)」が棄却できない。\n",
    "$1-\\rho$としたモデル式で$\\beta_2=0$の検定を行う。"
   ]
  },
  {
   "cell_type": "code",
   "execution_count": 4,
   "id": "convinced-volleyball",
   "metadata": {},
   "outputs": [
    {
     "name": "stdout",
     "output_type": "stream",
     "text": [
      "t_beta1:  -0.9728457185704351 \n",
      "t_beta2:  1.9581026399364814 \n",
      "t_rho:  None \n",
      "\n",
      "p_beta1:  0.16531499322268978 \n",
      "p_beta2:  0.02510898502940755 \n",
      "p_rho:  None \n",
      "p_rho_norm:  None\n"
     ]
    }
   ],
   "source": [
    "# 複合仮説に対する検定\n",
    "make_distribution(yc, p=1, beta1=True, beta2=True, rho=False);"
   ]
  },
  {
   "cell_type": "markdown",
   "id": "unavailable-debut",
   "metadata": {},
   "source": [
    "棄却できないため「$\\beta_2=0$」と判断する。\n",
    "driftモデルの検定を行う。"
   ]
  },
  {
   "cell_type": "code",
   "execution_count": 5,
   "id": "accurate-dominican",
   "metadata": {},
   "outputs": [
    {
     "name": "stdout",
     "output_type": "stream",
     "text": [
      "t_beta1:  1.6014437818456184 \n",
      "t_beta2:  None \n",
      "t_rho:  -0.08054838244580215 \n",
      "\n",
      "p_beta1:  0.054639331097456424 \n",
      "p_beta2:  None \n",
      "p_rho:  0.9513418535622663 \n",
      "p_rho_norm:  0.4679005587914252\n"
     ]
    }
   ],
   "source": [
    "# driftモデルによる検定\n",
    "make_distribution(yc, p=1, beta1=True, beta2=False, rho=True);"
   ]
  },
  {
   "cell_type": "code",
   "execution_count": 6,
   "id": "nutritional-cliff",
   "metadata": {},
   "outputs": [
    {
     "name": "stdout",
     "output_type": "stream",
     "text": [
      "t_beta1:  1.7412149895965885 \n",
      "t_beta2:  None \n",
      "t_rho:  None \n",
      "\n",
      "p_beta1:  0.04082295036912571 \n",
      "p_beta2:  None \n",
      "p_rho:  None \n",
      "p_rho_norm:  None\n"
     ]
    }
   ],
   "source": [
    "# 複合仮説に対する検定\n",
    "make_distribution(yc, p=1, beta1=True, beta2=False, rho=False);"
   ]
  },
  {
   "cell_type": "markdown",
   "id": "distant-exploration",
   "metadata": {},
   "source": [
    "棄却できないため「$\\beta_1=0$」と判断する。\n",
    "noneモデルの検定を行う。"
   ]
  },
  {
   "cell_type": "code",
   "execution_count": 7,
   "id": "bottom-wrong",
   "metadata": {},
   "outputs": [
    {
     "name": "stdout",
     "output_type": "stream",
     "text": [
      "t_beta1:  None \n",
      "t_beta2:  None \n",
      "t_rho:  -0.6868890381930344 \n",
      "\n",
      "p_beta1:  None \n",
      "p_beta2:  None \n",
      "p_rho:  0.4181332344964255 \n",
      "p_rho_norm:  0.24607632758951076\n"
     ]
    }
   ],
   "source": [
    "# noneモデルによる検定\n",
    "make_distribution(yc, p=1, beta1=False, beta2=False, rho=True);"
   ]
  },
  {
   "cell_type": "markdown",
   "id": "catholic-fitness",
   "metadata": {},
   "source": [
    "差分を取り同様の検定を繰り返す。"
   ]
  },
  {
   "cell_type": "code",
   "execution_count": 8,
   "id": "external-stylus",
   "metadata": {},
   "outputs": [
    {
     "data": {
      "text/plain": [
       "[<matplotlib.lines.Line2D at 0x1696c9f9880>]"
      ]
     },
     "execution_count": 8,
     "metadata": {},
     "output_type": "execute_result"
    },
    {
     "data": {
      "image/png": "[encoded data removed]",
      "text/plain": [
       "<Figure size 432x288 with 1 Axes>"
      ]
     },
     "metadata": {
      "needs_background": "light"
     },
     "output_type": "display_data"
    }
   ],
   "source": [
    "yc2 = np.diff(yc)\n",
    "plt.plot(yc2)"
   ]
  },
  {
   "cell_type": "code",
   "execution_count": 9,
   "id": "premium-arrow",
   "metadata": {},
   "outputs": [
    {
     "name": "stdout",
     "output_type": "stream",
     "text": [
      "t_beta1:  -1.0566250102192964 \n",
      "t_beta2:  2.0254335777780232 \n",
      "t_rho:  -2.0100895826811898 \n",
      "\n",
      "p_beta1:  0.1453413807595283 \n",
      "p_beta2:  0.021411431242818278 \n",
      "p_rho:  0.5959268864637838 \n",
      "p_rho_norm:  0.02221085420990982\n"
     ]
    }
   ],
   "source": [
    "# trendモデルによる検定\n",
    "make_distribution(yc2, p=1, beta1=True, beta2=True, rho=True);"
   ]
  },
  {
   "cell_type": "code",
   "execution_count": 10,
   "id": "vertical-domestic",
   "metadata": {},
   "outputs": [
    {
     "name": "stdout",
     "output_type": "stream",
     "text": [
      "t_beta1:  0.5319059463115772 \n",
      "t_beta2:  0.4538432639555933 \n",
      "t_rho:  None \n",
      "\n",
      "p_beta1:  0.2973955693361894 \n",
      "p_beta2:  0.3249708209004605 \n",
      "p_rho:  None \n",
      "p_rho_norm:  None\n"
     ]
    }
   ],
   "source": [
    "# 複合仮説に対する検定\n",
    "make_distribution(yc2, p=1, beta1=True, beta2=True, rho=False);"
   ]
  },
  {
   "cell_type": "code",
   "execution_count": 11,
   "id": "fitted-atlanta",
   "metadata": {},
   "outputs": [
    {
     "name": "stdout",
     "output_type": "stream",
     "text": [
      "t_beta1:  1.6873838132918195 \n",
      "t_beta2:  None \n",
      "t_rho:  -0.3796609870034998 \n",
      "\n",
      "p_beta1:  0.04576478712550849 \n",
      "p_beta2:  None \n",
      "p_rho:  0.9134396793513049 \n",
      "p_rho_norm:  0.3520985416673418\n"
     ]
    }
   ],
   "source": [
    "# driftモデルによる検定\n",
    "make_distribution(yc2, p=1, beta1=True, beta2=False, rho=True);"
   ]
  },
  {
   "cell_type": "code",
   "execution_count": 12,
   "id": "nonprofit-cross",
   "metadata": {},
   "outputs": [
    {
     "name": "stdout",
     "output_type": "stream",
     "text": [
      "t_beta1:  1.8476673801410517 \n",
      "t_beta2:  None \n",
      "t_rho:  None \n",
      "\n",
      "p_beta1:  0.032325237826783336 \n",
      "p_beta2:  None \n",
      "p_rho:  None \n",
      "p_rho_norm:  None\n"
     ]
    }
   ],
   "source": [
    "# 複合仮説に対する検定\n",
    "make_distribution(yc2, p=1, beta1=True, beta2=False, rho=False);"
   ]
  },
  {
   "cell_type": "code",
   "execution_count": 13,
   "id": "needed-thursday",
   "metadata": {},
   "outputs": [
    {
     "name": "stdout",
     "output_type": "stream",
     "text": [
      "t_beta1:  None \n",
      "t_beta2:  None \n",
      "t_rho:  0.8418030451112725 \n",
      "\n",
      "p_beta1:  None \n",
      "p_beta2:  None \n",
      "p_rho:  0.8920294511590338 \n",
      "p_rho_norm:  0.19994910358694284\n"
     ]
    }
   ],
   "source": [
    "# noneモデルによる検定\n",
    "make_distribution(yc2, p=1, beta1=False, beta2=False, rho=True);"
   ]
  },
  {
   "cell_type": "markdown",
   "id": "identical-principle",
   "metadata": {},
   "source": [
    "さらに差分を取り検定を続ける。"
   ]
  },
  {
   "cell_type": "code",
   "execution_count": 14,
   "id": "needed-opposition",
   "metadata": {},
   "outputs": [
    {
     "data": {
      "text/plain": [
       "[<matplotlib.lines.Line2D at 0x1696ca69700>]"
      ]
     },
     "execution_count": 14,
     "metadata": {},
     "output_type": "execute_result"
    },
    {
     "data": {
      "image/png": "[encoded data removed]",
      "text/plain": [
       "<Figure size 432x288 with 1 Axes>"
      ]
     },
     "metadata": {
      "needs_background": "light"
     },
     "output_type": "display_data"
    }
   ],
   "source": [
    "yc3 = np.diff(yc2)\n",
    "plt.plot(yc3)"
   ]
  },
  {
   "cell_type": "code",
   "execution_count": 15,
   "id": "adult-photograph",
   "metadata": {},
   "outputs": [
    {
     "name": "stdout",
     "output_type": "stream",
     "text": [
      "t_beta1:  0.5428190484782356 \n",
      "t_beta2:  0.4074764106048283 \n",
      "t_rho:  -29.97134207306259 \n",
      "\n",
      "p_beta1:  0.2936271983399405 \n",
      "p_beta2:  0.3418290581172768 \n",
      "p_rho:  0.0 \n",
      "p_rho_norm:  1.1598609646507074e-197\n"
     ]
    }
   ],
   "source": [
    "# trendモデルによる検定\n",
    "make_distribution(yc3, p=1, beta1=True, beta2=True, rho=True);"
   ]
  },
  {
   "cell_type": "code",
   "execution_count": null,
   "id": "unavailable-cache",
   "metadata": {},
   "outputs": [],
   "source": []
  },
  {
   "cell_type": "code",
   "execution_count": null,
   "id": "divine-cleaning",
   "metadata": {},
   "outputs": [],
   "source": []
  },
  {
   "cell_type": "code",
   "execution_count": null,
   "id": "ancient-islam",
   "metadata": {},
   "outputs": [],
   "source": []
  },
  {
   "cell_type": "code",
   "execution_count": 16,
   "id": "christian-choice",
   "metadata": {},
   "outputs": [
    {
     "name": "stdout",
     "output_type": "stream",
     "text": [
      "(-0.12715878534076877, 0.9926906174209282, 3, 1996, {'1%': -3.963312773626392, '5%': -3.412691872967494, '10%': -3.128346378782722}, 5534.000162454016)\n",
      "(0.09145075012451113, 0.9654725265186076, 3, 1996, {'1%': -3.433630425730241, '5%': -2.862989113874071, '10%': -2.5675414465504156}, 5535.842313570241)\n",
      "(-0.5053244146491352, 0.4939342339854063, 3, 1996, {'1%': -2.566861050668471, '5%': -1.9411354098370124, '10%': -1.6166876119002997}, 5536.736271834197)\n"
     ]
    }
   ],
   "source": [
    "from statsmodels.tsa import stattools\n",
    "\n",
    "res1 = stattools.adfuller(yc, regression=\"ct\")\n",
    "res2 = stattools.adfuller(yc, regression=\"c\")\n",
    "res3 = stattools.adfuller(yc, regression=\"nc\")\n",
    "\n",
    "print(res1)\n",
    "print(res2)\n",
    "print(res3)\n",
    "\n",
    "# regression\n",
    "# regression = 'c'    定数のみ\n",
    "# regression = 'ct'    定数とトレンド\n",
    "# regression = 'ctt'    定数と１次、２次のトレンド\n",
    "# regression = 'nt'    定数もトレンドもなし\n",
    "\n",
    "# 出力\n",
    "# adf: ADF検定の統計量\n",
    "# pvalue: 検定のP値\n",
    "# usedlag: モデルに採用されたラグの値\n",
    "# nobs: 回帰に使われたデータの個数\n",
    "# critical values: 検定の1,5,10%点の値\n",
    "# icbest: autolagがNoneでない場合、情報量の最大値を返す。\n",
    "# resstore: 検定と回帰の結果のインスタンス"
   ]
  },
  {
   "cell_type": "code",
   "execution_count": 17,
   "id": "divided-number",
   "metadata": {},
   "outputs": [
    {
     "name": "stdout",
     "output_type": "stream",
     "text": [
      "(-2.0661865863804363, 0.5649715390049084, 2, 1996, {'1%': -3.963312773626392, '5%': -3.412691872967494, '10%': -3.128346378782722}, 5529.932460980026)\n",
      "(-0.4440794345884307, 0.9024748877195754, 2, 1996, {'1%': -3.433630425730241, '5%': -2.862989113874071, '10%': -2.5675414465504156}, 5531.857302074624)\n",
      "(0.7533852268429866, 0.8767634504908913, 2, 1996, {'1%': -2.566861050668471, '5%': -1.9411354098370124, '10%': -1.6166876119002997}, 5532.898182897048)\n"
     ]
    }
   ],
   "source": [
    "res1 = stattools.adfuller(yc2, regression=\"ct\")\n",
    "res2 = stattools.adfuller(yc2, regression=\"c\")\n",
    "res3 = stattools.adfuller(yc2, regression=\"nc\")\n",
    "\n",
    "print(res1)\n",
    "print(res2)\n",
    "print(res3)"
   ]
  },
  {
   "cell_type": "code",
   "execution_count": 18,
   "id": "herbal-remainder",
   "metadata": {},
   "outputs": [
    {
     "name": "stdout",
     "output_type": "stream",
     "text": [
      "(-29.97134207306283, 0.0, 1, 1996, {'1%': -3.963312773626392, '5%': -3.412691872967494, '10%': -3.128346378782722}, 5528.615268124343)\n",
      "(-29.974849846001376, 0.0, 1, 1996, {'1%': -3.433630425730241, '5%': -2.862989113874071, '10%': -2.5675414465504156}, 5526.687430358565)\n",
      "(-29.905028846248896, 0.0, 1, 1996, {'1%': -2.566861050668471, '5%': -1.9411354098370124, '10%': -1.6166876119002997}, 5528.120909730544)\n"
     ]
    }
   ],
   "source": [
    "res1 = stattools.adfuller(yc3, regression=\"ct\")\n",
    "res2 = stattools.adfuller(yc3, regression=\"c\")\n",
    "res3 = stattools.adfuller(yc3, regression=\"nc\")\n",
    "\n",
    "print(res1)\n",
    "print(res2)\n",
    "print(res3)"
   ]
  },
  {
   "cell_type": "code",
   "execution_count": null,
   "id": "proof-supervision",
   "metadata": {},
   "outputs": [],
   "source": []
  },
  {
   "cell_type": "code",
   "execution_count": 19,
   "id": "architectural-royal",
   "metadata": {},
   "outputs": [
    {
     "data": {
      "text/html": [
       "<div>\n",
       "<style scoped>\n",
       "    .dataframe tbody tr th:only-of-type {\n",
       "        vertical-align: middle;\n",
       "    }\n",
       "\n",
       "    .dataframe tbody tr th {\n",
       "        vertical-align: top;\n",
       "    }\n",
       "\n",
       "    .dataframe thead th {\n",
       "        text-align: right;\n",
       "    }\n",
       "</style>\n",
       "<table border=\"1\" class=\"dataframe\">\n",
       "  <thead>\n",
       "    <tr style=\"text-align: right;\">\n",
       "      <th></th>\n",
       "      <th>prod</th>\n",
       "      <th>e</th>\n",
       "      <th>U</th>\n",
       "      <th>rw</th>\n",
       "    </tr>\n",
       "  </thead>\n",
       "  <tbody>\n",
       "    <tr>\n",
       "      <th>0</th>\n",
       "      <td>405.366466</td>\n",
       "      <td>929.610514</td>\n",
       "      <td>7.53</td>\n",
       "      <td>386.136109</td>\n",
       "    </tr>\n",
       "    <tr>\n",
       "      <th>1</th>\n",
       "      <td>404.639834</td>\n",
       "      <td>929.803985</td>\n",
       "      <td>7.70</td>\n",
       "      <td>388.135759</td>\n",
       "    </tr>\n",
       "    <tr>\n",
       "      <th>2</th>\n",
       "      <td>403.814883</td>\n",
       "      <td>930.318388</td>\n",
       "      <td>7.47</td>\n",
       "      <td>390.540113</td>\n",
       "    </tr>\n",
       "    <tr>\n",
       "      <th>3</th>\n",
       "      <td>404.215773</td>\n",
       "      <td>931.427687</td>\n",
       "      <td>7.27</td>\n",
       "      <td>393.963817</td>\n",
       "    </tr>\n",
       "    <tr>\n",
       "      <th>4</th>\n",
       "      <td>405.046714</td>\n",
       "      <td>932.662006</td>\n",
       "      <td>7.37</td>\n",
       "      <td>396.764691</td>\n",
       "    </tr>\n",
       "    <tr>\n",
       "      <th>...</th>\n",
       "      <td>...</td>\n",
       "      <td>...</td>\n",
       "      <td>...</td>\n",
       "      <td>...</td>\n",
       "    </tr>\n",
       "    <tr>\n",
       "      <th>79</th>\n",
       "      <td>415.701580</td>\n",
       "      <td>959.488142</td>\n",
       "      <td>6.93</td>\n",
       "      <td>467.702562</td>\n",
       "    </tr>\n",
       "    <tr>\n",
       "      <th>80</th>\n",
       "      <td>416.867407</td>\n",
       "      <td>960.362493</td>\n",
       "      <td>6.80</td>\n",
       "      <td>469.134788</td>\n",
       "    </tr>\n",
       "    <tr>\n",
       "      <th>81</th>\n",
       "      <td>417.610399</td>\n",
       "      <td>960.783379</td>\n",
       "      <td>6.70</td>\n",
       "      <td>469.336420</td>\n",
       "    </tr>\n",
       "    <tr>\n",
       "      <th>82</th>\n",
       "      <td>418.002980</td>\n",
       "      <td>961.029030</td>\n",
       "      <td>6.93</td>\n",
       "      <td>470.011666</td>\n",
       "    </tr>\n",
       "    <tr>\n",
       "      <th>83</th>\n",
       "      <td>417.266680</td>\n",
       "      <td>961.765710</td>\n",
       "      <td>6.87</td>\n",
       "      <td>469.647234</td>\n",
       "    </tr>\n",
       "  </tbody>\n",
       "</table>\n",
       "<p>84 rows × 4 columns</p>\n",
       "</div>"
      ],
      "text/plain": [
       "          prod           e     U          rw\n",
       "0   405.366466  929.610514  7.53  386.136109\n",
       "1   404.639834  929.803985  7.70  388.135759\n",
       "2   403.814883  930.318388  7.47  390.540113\n",
       "3   404.215773  931.427687  7.27  393.963817\n",
       "4   405.046714  932.662006  7.37  396.764691\n",
       "..         ...         ...   ...         ...\n",
       "79  415.701580  959.488142  6.93  467.702562\n",
       "80  416.867407  960.362493  6.80  469.134788\n",
       "81  417.610399  960.783379  6.70  469.336420\n",
       "82  418.002980  961.029030  6.93  470.011666\n",
       "83  417.266680  961.765710  6.87  469.647234\n",
       "\n",
       "[84 rows x 4 columns]"
      ]
     },
     "execution_count": 19,
     "metadata": {},
     "output_type": "execute_result"
    }
   ],
   "source": [
    "import pandas as pd\n",
    "\n",
    "canada = pd.read_csv('C:/Users/tanak/study/参考書/VAR実証分析/978-4-274-22477-5-20220111/Chap_5/data/canada.csv')[['prod','e','U','rw']]\n",
    "canada"
   ]
  },
  {
   "cell_type": "code",
   "execution_count": 20,
   "id": "confused-receipt",
   "metadata": {},
   "outputs": [
    {
     "data": {
      "text/plain": [
       "[<matplotlib.lines.Line2D at 0x1696dc03b20>]"
      ]
     },
     "execution_count": 20,
     "metadata": {},
     "output_type": "execute_result"
    },
    {
     "data": {
      "image/png": "[encoded data removed]",
      "text/plain": [
       "<Figure size 432x288 with 1 Axes>"
      ]
     },
     "metadata": {
      "needs_background": "light"
     },
     "output_type": "display_data"
    }
   ],
   "source": [
    "plt.plot(canada['prod'])"
   ]
  },
  {
   "cell_type": "code",
   "execution_count": 21,
   "id": "committed-machinery",
   "metadata": {},
   "outputs": [
    {
     "name": "stdout",
     "output_type": "stream",
     "text": [
      "t_beta1:  -1.015085183671324 \n",
      "t_beta2:  1.9777302535191765 \n",
      "t_rho:  -0.2924142131636938 \n",
      "\n",
      "p_beta1:  0.15503261183170514 \n",
      "p_beta2:  0.023979572697038726 \n",
      "p_rho:  0.989689909782547 \n",
      "p_rho_norm:  0.38498497118183284\n"
     ]
    }
   ],
   "source": [
    "# trendモデルによる検定\n",
    "make_distribution(yc, p=1, beta1=True, beta2=True, rho=True);"
   ]
  },
  {
   "cell_type": "code",
   "execution_count": 23,
   "id": "unavailable-magnitude",
   "metadata": {},
   "outputs": [
    {
     "name": "stdout",
     "output_type": "stream",
     "text": [
      "t_beta1:  -0.9728457185704351 \n",
      "t_beta2:  1.9581026399364814 \n",
      "t_rho:  None \n",
      "\n",
      "p_beta1:  0.16531499322268978 \n",
      "p_beta2:  0.02510898502940755 \n",
      "p_rho:  None \n",
      "p_rho_norm:  None\n"
     ]
    }
   ],
   "source": [
    "# 複合仮説に対する検定\n",
    "make_distribution(yc, p=1, beta1=True, beta2=True, rho=False);"
   ]
  },
  {
   "cell_type": "code",
   "execution_count": 25,
   "id": "careful-norfolk",
   "metadata": {},
   "outputs": [
    {
     "data": {
      "text/plain": [
       "[<matplotlib.lines.Line2D at 0x1696ca487f0>]"
      ]
     },
     "execution_count": 25,
     "metadata": {},
     "output_type": "execute_result"
    },
    {
     "data": {
      "image/png": "[encoded data removed]",
      "text/plain": [
       "<Figure size 432x288 with 1 Axes>"
      ]
     },
     "metadata": {
      "needs_background": "light"
     },
     "output_type": "display_data"
    }
   ],
   "source": [
    "canada_diff = np.diff(canada['prod'])\n",
    "plt.plot(canada_diff)"
   ]
  },
  {
   "cell_type": "code",
   "execution_count": 26,
   "id": "recreational-stereo",
   "metadata": {},
   "outputs": [
    {
     "name": "stdout",
     "output_type": "stream",
     "text": [
      "t_beta1:  0.010055081054421882 \n",
      "t_beta2:  -0.8849668809565873 \n",
      "t_rho:  -5.19524083100768 \n",
      "\n",
      "p_beta1:  0.49598867062865365 \n",
      "p_beta2:  0.1880872470709365 \n",
      "p_rho:  8.941093108979579e-05 \n",
      "p_rho_norm:  1.022274934328306e-07\n"
     ]
    }
   ],
   "source": [
    "# trendモデルによる検定\n",
    "make_distribution(canada_diff, p=1, beta1=True, beta2=True, rho=True);"
   ]
  },
  {
   "cell_type": "code",
   "execution_count": null,
   "id": "reserved-pencil",
   "metadata": {},
   "outputs": [],
   "source": []
  },
  {
   "cell_type": "code",
   "execution_count": 27,
   "id": "actual-swiss",
   "metadata": {},
   "outputs": [
    {
     "name": "stdout",
     "output_type": "stream",
     "text": [
      "(-2.021648051699196, 0.5895933518277959, 1, 82, {'1%': -4.073644812103713, '5%': -3.46545759986071, '10%': -3.1592060271905518}, 148.0523113505343)\n",
      "(-0.11438723866930145, 0.9479865196512958, 1, 82, {'1%': -3.512738056978279, '5%': -2.8974898650628984, '10%': -2.585948732897085}, 149.05779311101062)\n",
      "(1.3798955030044222, 0.95767316427249, 1, 82, {'1%': -2.593545264723379, '5%': -1.9447194276780662, '10%': -1.6139386024578866}, 147.163943634954)\n"
     ]
    }
   ],
   "source": [
    "res1 = stattools.adfuller(canada['prod'], regression=\"ct\")\n",
    "res2 = stattools.adfuller(canada['prod'], regression=\"c\")\n",
    "res3 = stattools.adfuller(canada['prod'], regression=\"nc\")\n",
    "\n",
    "print(res1)\n",
    "print(res2)\n",
    "print(res3)"
   ]
  },
  {
   "cell_type": "code",
   "execution_count": 28,
   "id": "lyric-noise",
   "metadata": {},
   "outputs": [
    {
     "name": "stdout",
     "output_type": "stream",
     "text": [
      "(-6.667389444163509, 7.874915680599069e-08, 0, 82, {'1%': -4.073644812103713, '5%': -3.46545759986071, '10%': -3.1592060271905518}, 147.6695041570346)\n",
      "(-6.584087567624692, 7.389140830052686e-09, 0, 82, {'1%': -3.512738056978279, '5%': -2.8974898650628984, '10%': -2.585948732897085}, 146.07336359651498)\n",
      "(-6.401839390773469, 1.276753237884115e-09, 0, 82, {'1%': -2.593545264723379, '5%': -1.9447194276780662, '10%': -1.6139386024578866}, 146.87701869462316)\n"
     ]
    }
   ],
   "source": [
    "res1 = stattools.adfuller(canada_diff, regression=\"ct\")\n",
    "res2 = stattools.adfuller(canada_diff, regression=\"c\")\n",
    "res3 = stattools.adfuller(canada_diff, regression=\"nc\")\n",
    "\n",
    "print(res1)\n",
    "print(res2)\n",
    "print(res3)"
   ]
  },
  {
   "cell_type": "code",
   "execution_count": null,
   "id": "peaceful-colombia",
   "metadata": {},
   "outputs": [],
   "source": []
  },
  {
   "cell_type": "code",
   "execution_count": null,
   "id": "forward-evanescence",
   "metadata": {},
   "outputs": [],
   "source": []
  },
  {
   "cell_type": "code",
   "execution_count": null,
   "id": "resistant-healthcare",
   "metadata": {},
   "outputs": [],
   "source": []
  },
  {
   "cell_type": "code",
   "execution_count": 22,
   "id": "several-second",
   "metadata": {},
   "outputs": [
    {
     "ename": "SyntaxError",
     "evalue": "invalid syntax (<ipython-input-22-371729081f51>, line 2)",
     "output_type": "error",
     "traceback": [
      "\u001b[1;36m  File \u001b[1;32m\"<ipython-input-22-371729081f51>\"\u001b[1;36m, line \u001b[1;32m2\u001b[0m\n\u001b[1;33m    jres = coint_johansen(, det_order=0, k_ar_diff=1)\u001b[0m\n\u001b[1;37m                          ^\u001b[0m\n\u001b[1;31mSyntaxError\u001b[0m\u001b[1;31m:\u001b[0m invalid syntax\n"
     ]
    }
   ],
   "source": []
  },
  {
   "cell_type": "code",
   "execution_count": null,
   "id": "synthetic-supervisor",
   "metadata": {},
   "outputs": [],
   "source": []
  },
  {
   "cell_type": "code",
   "execution_count": null,
   "id": "fewer-treasury",
   "metadata": {},
   "outputs": [],
   "source": []
  },
  {
   "cell_type": "code",
   "execution_count": null,
   "id": "material-veteran",
   "metadata": {},
   "outputs": [],
   "source": []
  }
 ],
 "metadata": {
  "kernelspec": {
   "display_name": "Python 3",
   "language": "python",
   "name": "python3"
  },
  "language_info": {
   "codemirror_mode": {
    "name": "ipython",
    "version": 3
   },
   "file_extension": ".py",
   "mimetype": "text/x-python",
   "name": "python",
   "nbconvert_exporter": "python",
   "pygments_lexer": "ipython3",
   "version": "3.8.5"
  }
 },
 "nbformat": 4,
 "nbformat_minor": 5
}
