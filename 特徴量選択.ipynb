{
 "cells": [
  {
   "cell_type": "code",
   "execution_count": null,
   "id": "characteristic-finnish",
   "metadata": {},
   "outputs": [],
   "source": []
  },
  {
   "cell_type": "markdown",
   "id": "sized-console",
   "metadata": {},
   "source": [
    "## 特徴量選択\n",
    "- 単変量統計　分散分析に基づく選択  \n",
    "   相互情報量\n",
    "- モデルベース特徴量選択　教師あり学習モデルによる特徴量の重要性により選択\n",
    "- 反復特徴量選択　RFE：再帰的特徴量削減　すべての特徴量からモデルを作り重要性の低いものを削除する過程を、指定の数になるまで繰り返す"
   ]
  },
  {
   "cell_type": "code",
   "execution_count": 5,
   "id": "simple-tolerance",
   "metadata": {},
   "outputs": [],
   "source": [
    "from sklearn.datasets import load_iris\n",
    "from sklearn.model_selection import train_test_split\n",
    "\n",
    "iris = load_iris()\n",
    "X = iris.data\n",
    "y = iris.target"
   ]
  },
  {
   "cell_type": "markdown",
   "id": "southern-gathering",
   "metadata": {},
   "source": [
    "分散による閾値処理"
   ]
  },
  {
   "cell_type": "code",
   "execution_count": 29,
   "id": "smooth-omaha",
   "metadata": {},
   "outputs": [
    {
     "data": {
      "text/plain": [
       "array([[5.1, 1.4, 0.2],\n",
       "       [4.9, 1.4, 0.2],\n",
       "       [4.7, 1.3, 0.2]])"
      ]
     },
     "execution_count": 29,
     "metadata": {},
     "output_type": "execute_result"
    }
   ],
   "source": [
    "from sklearn.feature_selection import VarianceThreshold\n",
    "\n",
    "thresholder = VarianceThreshold(threshold=.5)\n",
    "\n",
    "features_high_variance = thresholder.fit_transform(X)\n",
    "\n",
    "features_high_variance[:3]"
   ]
  },
  {
   "cell_type": "code",
   "execution_count": 30,
   "id": "electric-pressure",
   "metadata": {},
   "outputs": [
    {
     "data": {
      "text/plain": [
       "array([0.68112222, 0.18871289, 3.09550267, 0.57713289])"
      ]
     },
     "execution_count": 30,
     "metadata": {},
     "output_type": "execute_result"
    }
   ],
   "source": [
    "thresholder.fit(X).variances_"
   ]
  },
  {
   "cell_type": "code",
   "execution_count": 3,
   "id": "decimal-baker",
   "metadata": {},
   "outputs": [
    {
     "name": "stdout",
     "output_type": "stream",
     "text": [
      "shape(SelectPercentile), (75, 27)\n"
     ]
    }
   ],
   "source": [
    "from sklearn.feature_selection import SelectPercentile\n",
    "import numpy as np\n",
    "\n",
    "rng = np.random.RandomState(42)\n",
    "noise = rng.normal(size=(len(X.data), 50))\n",
    "\n",
    "X_w_noise = np.hstack([X.data, noise])\n",
    "\n",
    "X_train, X_test, y_train, y_test = train_test_split(X_w_noise, y, test_size=.5)\n",
    "\n",
    "select_perc = SelectPercentile(percentile=50)\n",
    "select_perc.fit(X_train, y_train)\n",
    "\n",
    "X_train_selected_perc = select_perc.transform(X_train)\n",
    "\n",
    "print(\"shape(SelectPercentile), {}\".format(X_train_selected_perc.shape))"
   ]
  },
  {
   "cell_type": "code",
   "execution_count": 6,
   "id": "beautiful-railway",
   "metadata": {},
   "outputs": [
    {
     "name": "stdout",
     "output_type": "stream",
     "text": [
      "shape(chi2), (150, 2)\n",
      "shape(f_classif), (150, 2)\n",
      "shape(mutual_info_classif), (150, 2)\n"
     ]
    }
   ],
   "source": [
    "from sklearn.feature_selection import SelectKBest\n",
    "from sklearn.feature_selection import chi2, f_classif, mutual_info_classif # 回帰の場合:mutual_info_regression\n",
    "\n",
    "y = y.astype(int)\n",
    "\n",
    "chi2_selector = SelectKBest(chi2, k=2)\n",
    "features_kbest = chi2_selector.fit_transform(X, y)\n",
    "print(\"shape(chi2), {}\".format(features_kbest.shape))\n",
    "\n",
    "fvalue_selector = SelectKBest(f_classif, k=2)\n",
    "features_kbest = fvalue_selector.fit_transform(X, y)\n",
    "print(\"shape(f_classif), {}\".format(features_kbest.shape))\n",
    "\n",
    "mi_selector = SelectKBest(mutual_info_classif, k=2)\n",
    "features_kbest = mi_selector.fit_transform(X, y)\n",
    "print(\"shape(mutual_info_classif), {}\".format(features_kbest.shape))"
   ]
  },
  {
   "cell_type": "code",
   "execution_count": null,
   "id": "celtic-promotion",
   "metadata": {},
   "outputs": [],
   "source": []
  },
  {
   "cell_type": "code",
   "execution_count": 8,
   "id": "visible-riverside",
   "metadata": {},
   "outputs": [
    {
     "name": "stdout",
     "output_type": "stream",
     "text": [
      "shape: (75, 27)\n"
     ]
    }
   ],
   "source": [
    "from sklearn.feature_selection import SelectFromModel\n",
    "from sklearn.ensemble import RandomForestClassifier\n",
    "\n",
    "select = SelectFromModel(\n",
    "    RandomForestClassifier(n_estimators=100),\n",
    "    threshold=\"median\")\n",
    "\n",
    "select.fit(X_train, y_train)\n",
    "X_train_l1 = select.transform(X_train)\n",
    "print(\"shape: {}\".format(X_train_l1.shape))"
   ]
  },
  {
   "cell_type": "code",
   "execution_count": null,
   "id": "laden-norway",
   "metadata": {},
   "outputs": [],
   "source": []
  },
  {
   "cell_type": "code",
   "execution_count": 10,
   "id": "clear-legislature",
   "metadata": {},
   "outputs": [
    {
     "name": "stdout",
     "output_type": "stream",
     "text": [
      "shape(RFE): (75, 40)\n",
      "shape(RFECV): (75, 2)\n"
     ]
    }
   ],
   "source": [
    "from sklearn.feature_selection import RFE, RFECV\n",
    "\n",
    "rfe = RFE(RandomForestClassifier(n_estimators=100),\n",
    "          n_features_to_select=40)\n",
    "\n",
    "rfecv = RFECV(RandomForestClassifier(n_estimators=100),\n",
    "              step=1, scoring=\"neg_mean_squared_error\")\n",
    "\n",
    "\n",
    "rfe.fit(X_train, y_train)\n",
    "rfecv.fit(X_train, y_train)\n",
    "\n",
    "X_train_l1 = rfe.transform(X_train)\n",
    "X_train_l2 = rfecv.transform(X_train)\n",
    "\n",
    "print(\"shape(RFE): {}\".format(X_train_l1.shape))\n",
    "print(\"shape(RFECV): {}\".format(X_train_l2.shape))"
   ]
  },
  {
   "cell_type": "code",
   "execution_count": 11,
   "id": "portuguese-management",
   "metadata": {},
   "outputs": [
    {
     "data": {
      "text/plain": [
       "2"
      ]
     },
     "execution_count": 11,
     "metadata": {},
     "output_type": "execute_result"
    }
   ],
   "source": [
    "rfecv.n_features_"
   ]
  },
  {
   "cell_type": "code",
   "execution_count": 12,
   "id": "wrong-approval",
   "metadata": {},
   "outputs": [
    {
     "data": {
      "text/plain": [
       "array([False, False,  True,  True, False, False, False, False, False,\n",
       "       False, False, False, False, False, False, False, False, False,\n",
       "       False, False, False, False, False, False, False, False, False,\n",
       "       False, False, False, False, False, False, False, False, False,\n",
       "       False, False, False, False, False, False, False, False, False,\n",
       "       False, False, False, False, False, False, False, False, False])"
      ]
     },
     "execution_count": 12,
     "metadata": {},
     "output_type": "execute_result"
    }
   ],
   "source": [
    "rfecv.support_"
   ]
  },
  {
   "cell_type": "code",
   "execution_count": null,
   "id": "assured-darwin",
   "metadata": {},
   "outputs": [],
   "source": []
  },
  {
   "cell_type": "code",
   "execution_count": null,
   "id": "radio-convenience",
   "metadata": {},
   "outputs": [],
   "source": []
  },
  {
   "cell_type": "code",
   "execution_count": null,
   "id": "enhanced-sense",
   "metadata": {},
   "outputs": [],
   "source": []
  },
  {
   "cell_type": "code",
   "execution_count": null,
   "id": "freelance-darkness",
   "metadata": {},
   "outputs": [],
   "source": []
  },
  {
   "cell_type": "code",
   "execution_count": null,
   "id": "distinguished-intersection",
   "metadata": {},
   "outputs": [],
   "source": []
  },
  {
   "cell_type": "code",
   "execution_count": null,
   "id": "supposed-bernard",
   "metadata": {},
   "outputs": [],
   "source": []
  }
 ],
 "metadata": {
  "kernelspec": {
   "display_name": "Python 3",
   "language": "python",
   "name": "python3"
  },
  "language_info": {
   "codemirror_mode": {
    "name": "ipython",
    "version": 3
   },
   "file_extension": ".py",
   "mimetype": "text/x-python",
   "name": "python",
   "nbconvert_exporter": "python",
   "pygments_lexer": "ipython3",
   "version": "3.8.5"
  }
 },
 "nbformat": 4,
 "nbformat_minor": 5
}
