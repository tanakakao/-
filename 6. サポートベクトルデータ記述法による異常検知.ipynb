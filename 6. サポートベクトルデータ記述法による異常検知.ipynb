{
 "cells": [
  {
   "cell_type": "markdown",
   "id": "applicable-vatican",
   "metadata": {},
   "source": [
    "## 6. サポートベクトルデータ記述法による異常検知\n",
    "### 6.1 データを囲む最小の球\n",
    "$D=\\{\\boldsymbol{x}^{(1)},\\cdots,\\boldsymbol{x}^{(N)}\\}$のような、ラベルが与えられていないデータを考える。  \n",
    "$D$の中には異常標本が含まれていないか、含まれていたとしても圧倒的少数であるとする。  \n",
    "「標本集合のほぼ全体を囲む球を作り、その球に入りきらなかったものを異常と判定する」という考え方は自然である。  "
   ]
  },
  {
   "cell_type": "code",
   "execution_count": 9,
   "id": "missing-links",
   "metadata": {},
   "outputs": [
    {
     "data": {
      "image/png": "[encoded data removed]",
      "text/plain": [
       "<Figure size 432x288 with 1 Axes>"
      ]
     },
     "metadata": {
      "needs_background": "light"
     },
     "output_type": "display_data"
    }
   ],
   "source": [
    "import numpy as np\n",
    "import matplotlib.pyplot as plt\n",
    "np.random.seed(1)\n",
    "\n",
    "def make_circle(x, y, r, theta):\n",
    "    return np.concatenate([[x + r * np.cos(theta)], [y + r * np.sin(theta)]], axis=0).T\n",
    "\n",
    "def find_near_k(x1, x2, k):    \n",
    "    dist = np.sum((x1 - x2)**2, axis=1)\n",
    "    near5 = x1[np.argsort(dist)[:k]]\n",
    "    dist5 = dist[np.argsort(dist)[k-1]]\n",
    "    return near5, dist5\n",
    "\n",
    "x1 = np.random.rand(20, 2)\n",
    "\n",
    "x2 = np.mean(x1, axis=0)\n",
    "\n",
    "near, dist = find_near_k(x1, x2=x2, k=20)\n",
    "\n",
    "theta = np.linspace(0, 2*np.pi, 100)\n",
    "\n",
    "plt.scatter(x1[:,0], x1[:,1]);\n",
    "plt.scatter(x2[0], x2[1], color=['red']);\n",
    "\n",
    "c = make_circle(x2[0], x2[1], r=np.sqrt(dist), theta=theta)\n",
    "\n",
    "plt.plot(c[:,0], c[:,1], '--', color='red');"
   ]
  },
  {
   "cell_type": "markdown",
   "id": "collectible-guarantee",
   "metadata": {},
   "source": [
    "データを含むという条件のもとで、できる限り小さい球を求める。  \n",
    "これは次のような最適化問題で表せる。\n",
    "$$\n",
    "\\min_{R^2,\\boldsymbol{b}}{R^2}\\ ただし条件\\ |\\boldsymbol{x}^{(n)}-\\boldsymbol{b}|^2\\leq R^2\n",
    "$$\n",
    "ここで、$n=1,\\cdots,N$で$|\\boldsymbol{a}|^2=\\boldsymbol{a}^T\\boldsymbol{a}$であり、$R$は球の半径、$\\boldsymbol{b}$は中心の位置ベクトルを表す。  \n",
    "$\\boldsymbol{x}^{(n)}$に対して、半径2乗に$u^{(n)}$分だけの「遊び」を許したうえで次の問題を解くことにする。  \n",
    "$$\n",
    "\\min_{R^2,\\boldsymbol{b},\\boldsymbol{u}}\\biggl\\{R^2+C\\sum_{n=1}^Nu^{(n)} \\biggr\\}\\ subject\\ to\\ |\\boldsymbol{x}^{(n)}-\\boldsymbol{b}|^2\\leq R^2+u^{(n)}\n",
    "$$\n",
    "$C$は**正則化定数**と呼ばれる。  \n",
    "また、$u^{(n)}\\geq 0$でなければならない。  \n",
    "  \n",
    "解が$\\{R^{2*},\\boldsymbol{b}^*,\\boldsymbol{u}^*\\}$が求まっているとする。  \n",
    "直感的に異常度を「球からはみ出した長さ」として$a(\\boldsymbol{x}')=|\\boldsymbol{x}'-\\boldsymbol{b}^*|＾2-R^{2*}$のように定義できる。  \n",
    "2乗を展開して、\n",
    "$$\n",
    "a(\\boldsymbol{x}')=K(\\boldsymbol{x}',\\boldsymbol{x}')-2K(\\boldsymbol{b}^*,\\boldsymbol{x}')+K(\\boldsymbol{b}^*,\\boldsymbol{b}^*)-R^{2*}\n",
    "$$\n",
    "と表しておく。  \n",
    "ただし、$K(・,・)$は引数同士の内積を表す。(あとで拡張した定義を与える。)  \n",
    "最適化問題を解くと、異常と正常を分ける球が、ごく少数の訓練標本で表されるという結果になる。  \n",
    "それが、**サポートベクトルデータ記述法(支持ベクトルデータ記述法)**と呼ばれる由来である。  \n",
    "この手法は、**1クラスサポートベクトルマシン**とも呼ばれる。"
   ]
  },
  {
   "cell_type": "markdown",
   "id": "based-relative",
   "metadata": {},
   "source": [
    "### 6.2 双対問題への変換とカーネルトリック\n",
    "非線形制約を持つ最適化問題を「双対問題」に変換することで、非線形制約を消去する手法がある。  \n",
    "それを使えないか検討する。  \n",
    "ラグランジュ関数$L$を次のように定義する。  \n",
    "$$\n",
    "\\begin{align}\n",
    "L(R^2, \\boldsymbol{b}, \\boldsymbol{u}, \\boldsymbol{\\alpha}, \\boldsymbol{\\beta})&=R^2+C\\sum_{n=1}^Nu^{(n)}-\\sum_{n=1}^N\\beta_nu^{(n)}-\\sum_{n=1}^N\\alpha_n\\bigl\\{R^2+u^{(n)}-|\\boldsymbol{x}^{(n)}-\\boldsymbol{b}|^2 \\bigr\\}\n",
    "\\end{align}\n",
    "$$\n",
    "もとの変数$R^2$、$\\boldsymbol{b}$、$\\boldsymbol{u}$について最大化するため以下の計算を行う。  \n",
    "\n",
    "$$\n",
    "0=\\frac{\\partial L}{\\partial R^2}=1-\\sum_{n=1}^N\\alpha_n\\\\\n",
    "\\boldsymbol{0}=\\frac{\\partial L}{\\partial \\boldsymbol{b}}=2\\sum_{n=1}^N\\alpha_n\\boldsymbol{b}-2\\sum_{n=1}^N\\alpha_n\\boldsymbol{x}^{(n)}\\\\\n",
    "0=\\frac{\\partial L}{\\partial u^{(n)}}=C-\\beta_n-\\alpha_n\n",
    "$$\n",
    "\n",
    "これを使って$R^2$、$\\boldsymbol{b}$、$\\boldsymbol{u}$を消去する。  \n",
    "$$\n",
    "\\begin{align}\n",
    "l(\\boldsymbol{\\alpha},\\boldsymbol{\\beta})&=\\min_{R^2,\\boldsymbol{b},\\boldsymbol{u}}L(R^2, \\boldsymbol{b}, \\boldsymbol{u}, \\boldsymbol{\\alpha}, \\boldsymbol{\\beta})\\\\\n",
    "&=\\sum_{n=1}^N\\alpha_nK_{n,n}-\\sum_{n=1}^N\\alpha_n\\alpha_{n'}K_{n,n'}\n",
    "\\end{align}\n",
    "$$\n",
    "\n",
    "ただし、$K_{n,n'}=K(\\boldsymbol{x}^{(n)},\\boldsymbol{x}^{(n')})$と略記している。  \n",
    "ラグランジュ乗数$\\boldsymbol{\\alpha},\\boldsymbol{\\beta}$については、KKT条件から、非負条件$\\alpha_n\\geq0,\\beta_n\\geq0$が付される。  \n",
    "明らかに\n",
    "$$\n",
    "0\\leq\\beta_n=C-\\alpha_n\n",
    "$$\n",
    "が成り立つので、$\\beta_n$は$\\alpha_n$が求まれば決定できる。  \n",
    "$\\beta_n$に対する非負条件から$\\alpha_n\\leq C$という条件を付す。  \n",
    "以上まとめると、解くべき問題は、\n",
    "$$\n",
    "\\max_{\\alpha}\\biggl\\{\\sum_{n=1}^N\\alpha_nK_{n,n}-\\sum_{n,n'=1}^N\\alpha_n\\alpha_{n'}K_{n,n'} \\biggr\\}\\\\\n",
    "subject\\ to\\ 0\\leq\\alpha_n\\leq C(n=1,\\cdots,N)\n",
    "$$\n",
    "この双対問題は、通常の二値分類問題に使われる支持ベクトル分類器の双対問題と本質的に同じである。  \n",
    "通常、LIBSVMなどの既存のプログラムを用いて数値計算を行う。  \n",
    "具体的な最適化手法としては、SMO法と双対座標降下法が代表的である。  \n"
   ]
  },
  {
   "cell_type": "markdown",
   "id": "modular-gossip",
   "metadata": {},
   "source": [
    "内積$K$を、たとえばRBF(動径基底関数)カーネルを使って、\n",
    "$$\n",
    "K(\\boldsymbol{x},\\boldsymbol{x'})←\\exp\\{-\\sigma|\\boldsymbol{x}-\\boldsymbol{x'}|^2\\}\n",
    "$$\n",
    "のように置き換えたと考える。  \n",
    "これは、元の座標を、内積が上記の関数で与えるような座標に非線形変換したとに対応している。  \n",
    "内積を与えることで非線形変換をしたことにする考え方を**カーネルトリック**と呼ぶ。  \n",
    "内積として与える関数$K(\\boldsymbol{x},\\boldsymbol{x'})$のことを**カーネル関数**と呼ぶ。"
   ]
  },
  {
   "cell_type": "markdown",
   "id": "spread-herald",
   "metadata": {},
   "source": [
    "### 6.3 解の性質と分類\n",
    "最適解$\\alpha^*$が求まったら、KKT条件を逆に使い、元の解を求める。  \n",
    "まず、\n",
    "$$\n",
    "\\boldsymbol{b}^*=\\sum_{n=1}^N\\alpha_n^*\\boldsymbol{x}^{(n)}\n",
    "$$\n",
    "が得られる。  \n",
    "また、KKT条件の式に対応して、次の2種類の式が成り立つ。  \n",
    "$$\n",
    "\\begin{align}\n",
    "\\alpha_n\\bigl\\{R^2+u^{(n)}-|\\boldsymbol{x}^{(n)}-\\boldsymbol{b}|^2 \\bigr\\}&=0\\\\\n",
    "(C-\\alpha_n^*)u^{(n)}&=0\n",
    "\\end{align}\n",
    "$$\n",
    "この条件式から、以下の3つの場合があることが分かる。  \n",
    "\n",
    "1. "
   ]
  },
  {
   "cell_type": "code",
   "execution_count": null,
   "id": "entertaining-sugar",
   "metadata": {},
   "outputs": [],
   "source": []
  },
  {
   "cell_type": "code",
   "execution_count": null,
   "id": "charming-gauge",
   "metadata": {},
   "outputs": [],
   "source": []
  },
  {
   "cell_type": "code",
   "execution_count": null,
   "id": "independent-wellington",
   "metadata": {},
   "outputs": [],
   "source": []
  },
  {
   "cell_type": "code",
   "execution_count": null,
   "id": "canadian-thanks",
   "metadata": {},
   "outputs": [],
   "source": []
  }
 ],
 "metadata": {
  "kernelspec": {
   "display_name": "Python 3",
   "language": "python",
   "name": "python3"
  },
  "language_info": {
   "codemirror_mode": {
    "name": "ipython",
    "version": 3
   },
   "file_extension": ".py",
   "mimetype": "text/x-python",
   "name": "python",
   "nbconvert_exporter": "python",
   "pygments_lexer": "ipython3",
   "version": "3.8.5"
  }
 },
 "nbformat": 4,
 "nbformat_minor": 5
}
