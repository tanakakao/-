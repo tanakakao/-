{
 "cells": [
  {
   "cell_type": "code",
   "execution_count": null,
   "id": "weird-patch",
   "metadata": {},
   "outputs": [],
   "source": []
  },
  {
   "cell_type": "markdown",
   "id": "domestic-lawsuit",
   "metadata": {},
   "source": [
    "### ベイジアンネットワーク\n",
    "**ベイジアンネットワーク**は、グラフ表現によるネットワーク図をベースとした、変数間の関係性を表す手法のこと。  \n",
    "**スケルトン**とは、骨格構造のことでDAGにおいて因果の方向を示す矢印がないグラフのこと。  \n",
    "**PDAG**は、スケルトンとDAGの中間にあたる存在。  \n",
    "  \n",
    "ベイジアンネットワークでは、因果関係のあるノード間の関係性を**条件付き確率表(CPT: Conditional Probabilities Tables)**で表現する。"
   ]
  },
  {
   "cell_type": "markdown",
   "id": "conservative-diversity",
   "metadata": {},
   "source": [
    "当てはまりの良さを示す指標としてここでは**BIC(Bayesian information criterion)**を使用する。\n",
    "$$\n",
    "BIC_m=-2l_m(\\theta_m|\\boldsymbol{X})+k_m(\\log{N})\n",
    "$$\n",
    "ここで、$m$はモデル（対象のベイジアンネットワークのDAG）、$\\boldsymbol{X}$は実測されたデータを示す。  \n",
    "$k_m$はデータ数、$l_m(\\theta_m|\\boldsymbol{X})$はデータ$\\boldsymbol{X}$のもとでのモデルの対数尤度を示す。"
   ]
  },
  {
   "cell_type": "markdown",
   "id": "native-austria",
   "metadata": {},
   "source": [
    "ベイジアンネットワークにおけるCPTを以下のように考える。  \n",
    "\n",
    "|x1|P(x1)|\n",
    "|---|---|\n",
    "|0|0.6|\n",
    "|1|0.4|\n",
    "\n",
    "|x2|P(x2)|\n",
    "|---|---|\n",
    "|0|0.4|\n",
    "|1|0.6|\n",
    "\n",
    "|x1|x2|x3|P(x3=0\\|x1,x2)|\n",
    "|---|---|---|:---:|\n",
    "|0|0|0|0.2|\n",
    "|0|1|0|0.3|\n",
    "|1|0|0|0.4|\n",
    "|1|1|0|0.1|\n",
    "\n",
    "パラメータ数は1+1+4=6となる。（2値変数なので、P(0)がわかれば、P(1)もわかる。）"
   ]
  },
  {
   "cell_type": "code",
   "execution_count": 1,
   "id": "bibliographic-strand",
   "metadata": {},
   "outputs": [
    {
     "data": {
      "text/html": [
       "<div>\n",
       "<style scoped>\n",
       "    .dataframe tbody tr th:only-of-type {\n",
       "        vertical-align: middle;\n",
       "    }\n",
       "\n",
       "    .dataframe tbody tr th {\n",
       "        vertical-align: top;\n",
       "    }\n",
       "\n",
       "    .dataframe thead th {\n",
       "        text-align: right;\n",
       "    }\n",
       "</style>\n",
       "<table border=\"1\" class=\"dataframe\">\n",
       "  <thead>\n",
       "    <tr style=\"text-align: right;\">\n",
       "      <th></th>\n",
       "      <th>x1</th>\n",
       "      <th>x2</th>\n",
       "    </tr>\n",
       "  </thead>\n",
       "  <tbody>\n",
       "    <tr>\n",
       "      <th>0</th>\n",
       "      <td>0</td>\n",
       "      <td>1</td>\n",
       "    </tr>\n",
       "    <tr>\n",
       "      <th>1</th>\n",
       "      <td>1</td>\n",
       "      <td>0</td>\n",
       "    </tr>\n",
       "    <tr>\n",
       "      <th>2</th>\n",
       "      <td>0</td>\n",
       "      <td>0</td>\n",
       "    </tr>\n",
       "    <tr>\n",
       "      <th>3</th>\n",
       "      <td>0</td>\n",
       "      <td>1</td>\n",
       "    </tr>\n",
       "    <tr>\n",
       "      <th>4</th>\n",
       "      <td>0</td>\n",
       "      <td>1</td>\n",
       "    </tr>\n",
       "  </tbody>\n",
       "</table>\n",
       "</div>"
      ],
      "text/plain": [
       "   x1  x2\n",
       "0   0   1\n",
       "1   1   0\n",
       "2   0   0\n",
       "3   0   1\n",
       "4   0   1"
      ]
     },
     "execution_count": 1,
     "metadata": {},
     "output_type": "execute_result"
    }
   ],
   "source": [
    "import numpy as np\n",
    "import pandas as pd\n",
    "\n",
    "num_data = 10\n",
    "\n",
    "x1 = np.random.choice([0, 1], num_data, p=[0.6, 0.4])\n",
    "x2 = np.random.choice([0, 1], num_data, p=[0.4, 0.6])\n",
    "\n",
    "df = pd.DataFrame({'x1': x1,\n",
    "                   'x2': x2})\n",
    "df.head()"
   ]
  },
  {
   "cell_type": "code",
   "execution_count": 2,
   "id": "generic-neighborhood",
   "metadata": {},
   "outputs": [
    {
     "data": {
      "text/html": [
       "<div>\n",
       "<style scoped>\n",
       "    .dataframe tbody tr th:only-of-type {\n",
       "        vertical-align: middle;\n",
       "    }\n",
       "\n",
       "    .dataframe tbody tr th {\n",
       "        vertical-align: top;\n",
       "    }\n",
       "\n",
       "    .dataframe thead th {\n",
       "        text-align: right;\n",
       "    }\n",
       "</style>\n",
       "<table border=\"1\" class=\"dataframe\">\n",
       "  <thead>\n",
       "    <tr style=\"text-align: right;\">\n",
       "      <th></th>\n",
       "      <th>x1</th>\n",
       "      <th>x2</th>\n",
       "      <th>x3</th>\n",
       "    </tr>\n",
       "  </thead>\n",
       "  <tbody>\n",
       "    <tr>\n",
       "      <th>0</th>\n",
       "      <td>0</td>\n",
       "      <td>1</td>\n",
       "      <td>0</td>\n",
       "    </tr>\n",
       "    <tr>\n",
       "      <th>1</th>\n",
       "      <td>1</td>\n",
       "      <td>0</td>\n",
       "      <td>1</td>\n",
       "    </tr>\n",
       "    <tr>\n",
       "      <th>2</th>\n",
       "      <td>0</td>\n",
       "      <td>0</td>\n",
       "      <td>1</td>\n",
       "    </tr>\n",
       "    <tr>\n",
       "      <th>3</th>\n",
       "      <td>0</td>\n",
       "      <td>1</td>\n",
       "      <td>1</td>\n",
       "    </tr>\n",
       "    <tr>\n",
       "      <th>4</th>\n",
       "      <td>0</td>\n",
       "      <td>1</td>\n",
       "      <td>0</td>\n",
       "    </tr>\n",
       "    <tr>\n",
       "      <th>5</th>\n",
       "      <td>0</td>\n",
       "      <td>1</td>\n",
       "      <td>0</td>\n",
       "    </tr>\n",
       "    <tr>\n",
       "      <th>6</th>\n",
       "      <td>1</td>\n",
       "      <td>0</td>\n",
       "      <td>0</td>\n",
       "    </tr>\n",
       "    <tr>\n",
       "      <th>7</th>\n",
       "      <td>1</td>\n",
       "      <td>0</td>\n",
       "      <td>0</td>\n",
       "    </tr>\n",
       "    <tr>\n",
       "      <th>8</th>\n",
       "      <td>0</td>\n",
       "      <td>0</td>\n",
       "      <td>1</td>\n",
       "    </tr>\n",
       "    <tr>\n",
       "      <th>9</th>\n",
       "      <td>0</td>\n",
       "      <td>1</td>\n",
       "      <td>1</td>\n",
       "    </tr>\n",
       "  </tbody>\n",
       "</table>\n",
       "</div>"
      ],
      "text/plain": [
       "   x1  x2  x3\n",
       "0   0   1   0\n",
       "1   1   0   1\n",
       "2   0   0   1\n",
       "3   0   1   1\n",
       "4   0   1   0\n",
       "5   0   1   0\n",
       "6   1   0   0\n",
       "7   1   0   0\n",
       "8   0   0   1\n",
       "9   0   1   1"
      ]
     },
     "execution_count": 2,
     "metadata": {},
     "output_type": "execute_result"
    }
   ],
   "source": [
    "x3 = []\n",
    "for i in range(num_data):\n",
    "    if x1[i] == 0 and x2[i] == 0:\n",
    "        x3_value = np.random.choice([0, 1], num_data, p=[0.2, 0.8])\n",
    "        x3.append(x3_value[0])\n",
    "    elif x1[i] == 0 and x2[i] == 1:\n",
    "        x3_value = np.random.choice([0, 1], num_data, p=[0.3, 0.7])\n",
    "        x3.append(x3_value[0])\n",
    "    elif x1[i] == 1 and x2[i] == 0:\n",
    "        x3_value = np.random.choice([0, 1], num_data, p=[0.4, 0.6])\n",
    "        x3.append(x3_value[0])\n",
    "    elif x1[i] == 1 and x2[i] == 1:\n",
    "        x3_value = np.random.choice([0, 1], num_data, p=[0.1, 0.9])\n",
    "        x3.append(x3_value[0])\n",
    "df[\"x3\"] = x3\n",
    "df"
   ]
  },
  {
   "cell_type": "markdown",
   "id": "early-rugby",
   "metadata": {},
   "source": [
    "CPTの具体的な確率値を$\\hat{\\theta}_{i,j,k}$と表す。  \n",
    "$$\n",
    "\\hat{\\theta}_{i,j,k}=\\frac{N_{ijk}}{N_{ij}}\n",
    "$$\n",
    "ここで$N_{ijk}$は変数$i$がとある条件パターン$j$で値$k$となったデータ数。  \n",
    "$N_{ij}$は変数$i$がとある条件パターン$j$であったデータ数。 \n",
    "  \n",
    "変数$x_1$は条件付き確率ではないので、条件パターン$j$は存在しない。  \n",
    "よって、$\\hat{\\theta}_{1,[\\,],0}=4/10=0.4$となる。  \n",
    "また、変数$x_3$は条件パターン$j$として、\\[0,0\\]、\\[0,1\\]、\\[1,0\\]、\\[1,1\\]の4つとなる。  \n",
    "例えば、$\\hat{\\theta}_{3,[0,1],0}=1/3=0.33$と計算できる。  \n",
    "  \n",
    "対数尤度$l_m(\\theta_m|\\boldsymbol{X})$は計算が大変なため、比例する値を計算する。  \n",
    "$$\n",
    "l_m(\\theta_m|\\boldsymbol{X}) \\propto \\sum_i\\sum_j\\sum_k(N_{ijk})\\log{\\hat{\\theta}_{i,j,k}}\n",
    "$$"
   ]
  },
  {
   "cell_type": "code",
   "execution_count": 6,
   "id": "french-diary",
   "metadata": {},
   "outputs": [],
   "source": [
    "from pgmpy.models import BayesianModel\n",
    "model = BayesianModel([('x1', 'x3'), ('x2', 'x3')])"
   ]
  },
  {
   "cell_type": "code",
   "execution_count": 8,
   "id": "possible-dining",
   "metadata": {},
   "outputs": [
    {
     "name": "stdout",
     "output_type": "stream",
     "text": [
      "\n",
      "    x1\n",
      "0   7\n",
      "1   3\n",
      "\n",
      "    x2\n",
      "0   5\n",
      "1   5\n",
      "\n",
      " x1    0         1     \n",
      "x2    0    1    0    1\n",
      "x3                    \n",
      "0   0.0  3.0  2.0  0.0\n",
      "1   2.0  2.0  1.0  0.0\n"
     ]
    }
   ],
   "source": [
    "from pgmpy.estimators import ParameterEstimator\n",
    "pe = ParameterEstimator(model, df)\n",
    "print(\"\\n\", pe.state_counts('x1'))\n",
    "print(\"\\n\", pe.state_counts('x2'))\n",
    "print(\"\\n\", pe.state_counts('x3'))"
   ]
  },
  {
   "cell_type": "code",
   "execution_count": 9,
   "id": "parliamentary-mixer",
   "metadata": {},
   "outputs": [
    {
     "name": "stdout",
     "output_type": "stream",
     "text": [
      "+-------+-----+\n",
      "| x1(0) | 0.7 |\n",
      "+-------+-----+\n",
      "| x1(1) | 0.3 |\n",
      "+-------+-----+\n",
      "+-------+-----+\n",
      "| x2(0) | 0.5 |\n",
      "+-------+-----+\n",
      "| x2(1) | 0.5 |\n",
      "+-------+-----+\n",
      "+-------+-------+-------+--------------------+-------+\n",
      "| x1    | x1(0) | x1(0) | x1(1)              | x1(1) |\n",
      "+-------+-------+-------+--------------------+-------+\n",
      "| x2    | x2(0) | x2(1) | x2(0)              | x2(1) |\n",
      "+-------+-------+-------+--------------------+-------+\n",
      "| x3(0) | 0.0   | 0.6   | 0.6666666666666666 | nan   |\n",
      "+-------+-------+-------+--------------------+-------+\n",
      "| x3(1) | 1.0   | 0.4   | 0.3333333333333333 | nan   |\n",
      "+-------+-------+-------+--------------------+-------+\n"
     ]
    },
    {
     "name": "stderr",
     "output_type": "stream",
     "text": [
      "C:\\Users\\tanak\\anaconda3\\envs\\tanaka_env1\\lib\\site-packages\\pgmpy\\factors\\discrete\\CPD.py:285: RuntimeWarning: invalid value encountered in true_divide\n",
      "  tabular_cpd.values = (cpd / cpd.sum(axis=0)).reshape(tabular_cpd.cardinality)\n"
     ]
    }
   ],
   "source": [
    "from pgmpy.estimators import BayesianEstimator\n",
    "\n",
    "estimator = BayesianEstimator(model, df)\n",
    "\n",
    "cpd_x1 = estimator.estimate_cpd(\n",
    "    'x1', prior_type=\"dirichlet\", pseudo_counts=[[0],[0]])\n",
    "cpd_x2 = estimator.estimate_cpd(\n",
    "    'x2', prior_type=\"dirichlet\", pseudo_counts=[[0],[0]])\n",
    "cpd_x3 = estimator.estimate_cpd(\n",
    "    'x3', prior_type=\"dirichlet\", pseudo_counts=[[0,0,0,0],[0,0,0,0]])\n",
    "\n",
    "print(cpd_x1)\n",
    "print(cpd_x2)\n",
    "print(cpd_x3)"
   ]
  },
  {
   "cell_type": "code",
   "execution_count": 10,
   "id": "bulgarian-statistics",
   "metadata": {},
   "outputs": [
    {
     "name": "stdout",
     "output_type": "stream",
     "text": [
      "-25.22247094506125\n"
     ]
    }
   ],
   "source": [
    "from pgmpy.estimators import BicScore\n",
    "bic = BicScore(df)\n",
    "print(bic.score(model))"
   ]
  },
  {
   "cell_type": "markdown",
   "id": "killing-huntington",
   "metadata": {},
   "source": [
    "### 独立性の検定\n",
    "#### カイ二乗検定"
   ]
  },
  {
   "cell_type": "code",
   "execution_count": 15,
   "id": "sexual-found",
   "metadata": {},
   "outputs": [
    {
     "data": {
      "text/html": [
       "<div>\n",
       "<style scoped>\n",
       "    .dataframe tbody tr th:only-of-type {\n",
       "        vertical-align: middle;\n",
       "    }\n",
       "\n",
       "    .dataframe tbody tr th {\n",
       "        vertical-align: top;\n",
       "    }\n",
       "\n",
       "    .dataframe thead th {\n",
       "        text-align: right;\n",
       "    }\n",
       "</style>\n",
       "<table border=\"1\" class=\"dataframe\">\n",
       "  <thead>\n",
       "    <tr style=\"text-align: right;\">\n",
       "      <th></th>\n",
       "      <th>x1</th>\n",
       "      <th>x2</th>\n",
       "    </tr>\n",
       "  </thead>\n",
       "  <tbody>\n",
       "    <tr>\n",
       "      <th>0</th>\n",
       "      <td>0</td>\n",
       "      <td>0</td>\n",
       "    </tr>\n",
       "    <tr>\n",
       "      <th>1</th>\n",
       "      <td>0</td>\n",
       "      <td>0</td>\n",
       "    </tr>\n",
       "    <tr>\n",
       "      <th>2</th>\n",
       "      <td>0</td>\n",
       "      <td>0</td>\n",
       "    </tr>\n",
       "    <tr>\n",
       "      <th>3</th>\n",
       "      <td>0</td>\n",
       "      <td>0</td>\n",
       "    </tr>\n",
       "    <tr>\n",
       "      <th>4</th>\n",
       "      <td>0</td>\n",
       "      <td>0</td>\n",
       "    </tr>\n",
       "  </tbody>\n",
       "</table>\n",
       "</div>"
      ],
      "text/plain": [
       "   x1  x2\n",
       "0   0   0\n",
       "1   0   0\n",
       "2   0   0\n",
       "3   0   0\n",
       "4   0   0"
      ]
     },
     "execution_count": 15,
     "metadata": {},
     "output_type": "execute_result"
    }
   ],
   "source": [
    "num_data = 100\n",
    "\n",
    "x1 = np.random.choice([0, 1], num_data, p=[0.6, 0.4])\n",
    "x2 = np.random.choice([0, 1], num_data, p=[0.4, 0.6])\n",
    "x2 = x2*x1\n",
    "\n",
    "df = pd.DataFrame({'x1':x1,\n",
    "                   'x2':x2})\n",
    "df.head()"
   ]
  },
  {
   "cell_type": "code",
   "execution_count": 16,
   "id": "modified-chambers",
   "metadata": {},
   "outputs": [
    {
     "name": "stdout",
     "output_type": "stream",
     "text": [
      "59\n",
      "17\n",
      "0\n",
      "24\n"
     ]
    }
   ],
   "source": [
    "print(((df[\"x1\"]==0)&(df[\"x2\"]==0)).sum())\n",
    "print(((df[\"x1\"]==1)&(df[\"x2\"]==0)).sum())\n",
    "print(((df[\"x1\"]==0)&(df[\"x2\"]==1)).sum())\n",
    "print(((df[\"x1\"]==1)&(df[\"x2\"]==1)).sum())"
   ]
  },
  {
   "cell_type": "markdown",
   "id": "cardiovascular-syndication",
   "metadata": {},
   "source": [
    "カイ二乗統計量は、\n",
    "$$\n",
    "\\chi^2=\\sum_{i=1}^{r}\\sum_{j=1}^{c}\\frac{(n_{ij}-E_{ij})^2}{E_{ij}}\n",
    "$$\n",
    "$E_{ij}$は推定期待度数であり、\n",
    "$$\n",
    "E_{ij}=\\frac{n_jn_j}{N}\n",
    "$$"
   ]
  },
  {
   "cell_type": "code",
   "execution_count": 18,
   "id": "ultimate-keeping",
   "metadata": {},
   "outputs": [
    {
     "data": {
      "text/html": [
       "<div>\n",
       "<style scoped>\n",
       "    .dataframe tbody tr th:only-of-type {\n",
       "        vertical-align: middle;\n",
       "    }\n",
       "\n",
       "    .dataframe tbody tr th {\n",
       "        vertical-align: top;\n",
       "    }\n",
       "\n",
       "    .dataframe thead th {\n",
       "        text-align: right;\n",
       "    }\n",
       "</style>\n",
       "<table border=\"1\" class=\"dataframe\">\n",
       "  <thead>\n",
       "    <tr style=\"text-align: right;\">\n",
       "      <th></th>\n",
       "      <th>x1</th>\n",
       "      <th>x2</th>\n",
       "    </tr>\n",
       "  </thead>\n",
       "  <tbody>\n",
       "    <tr>\n",
       "      <th>0</th>\n",
       "      <td>0</td>\n",
       "      <td>1</td>\n",
       "    </tr>\n",
       "    <tr>\n",
       "      <th>1</th>\n",
       "      <td>0</td>\n",
       "      <td>0</td>\n",
       "    </tr>\n",
       "    <tr>\n",
       "      <th>2</th>\n",
       "      <td>1</td>\n",
       "      <td>1</td>\n",
       "    </tr>\n",
       "    <tr>\n",
       "      <th>3</th>\n",
       "      <td>0</td>\n",
       "      <td>1</td>\n",
       "    </tr>\n",
       "    <tr>\n",
       "      <th>4</th>\n",
       "      <td>1</td>\n",
       "      <td>1</td>\n",
       "    </tr>\n",
       "  </tbody>\n",
       "</table>\n",
       "</div>"
      ],
      "text/plain": [
       "   x1  x2\n",
       "0   0   1\n",
       "1   0   0\n",
       "2   1   1\n",
       "3   0   1\n",
       "4   1   1"
      ]
     },
     "execution_count": 18,
     "metadata": {},
     "output_type": "execute_result"
    }
   ],
   "source": [
    "num_data = 100\n",
    "\n",
    "# 独立である状況\n",
    "x1 = np.random.choice([0, 1], num_data, p=[0.6, 0.4])\n",
    "x2 = np.random.choice([0, 1], num_data, p=[0.4, 0.6])\n",
    "\n",
    "df2 = pd.DataFrame({'x1':x1,\n",
    "                   'x2':x2})\n",
    "df2.head()"
   ]
  },
  {
   "cell_type": "code",
   "execution_count": 19,
   "id": "atlantic-tolerance",
   "metadata": {},
   "outputs": [
    {
     "name": "stdout",
     "output_type": "stream",
     "text": [
      "17\n",
      "22\n",
      "38\n",
      "23\n"
     ]
    }
   ],
   "source": [
    "print(((df2[\"x1\"]==0)&(df2[\"x2\"]==0)).sum())\n",
    "print(((df2[\"x1\"]==1)&(df2[\"x2\"]==0)).sum())\n",
    "print(((df2[\"x1\"]==0)&(df2[\"x2\"]==1)).sum())\n",
    "print(((df2[\"x1\"]==1)&(df2[\"x2\"]==1)).sum())"
   ]
  },
  {
   "cell_type": "code",
   "execution_count": 53,
   "id": "female-borough",
   "metadata": {},
   "outputs": [
    {
     "ename": "AttributeError",
     "evalue": "'ConstraintBasedEstimator' object has no attribute 'test_conditional_independence'",
     "output_type": "error",
     "traceback": [
      "\u001b[1;31m---------------------------------------------------------------------------\u001b[0m",
      "\u001b[1;31mAttributeError\u001b[0m                            Traceback (most recent call last)",
      "\u001b[1;32m<ipython-input-53-686c08c72019>\u001b[0m in \u001b[0;36m<module>\u001b[1;34m\u001b[0m\n\u001b[0;32m      2\u001b[0m \u001b[1;33m\u001b[0m\u001b[0m\n\u001b[0;32m      3\u001b[0m \u001b[0mest\u001b[0m \u001b[1;33m=\u001b[0m \u001b[0mConstraintBasedEstimator\u001b[0m\u001b[1;33m.\u001b[0m\u001b[0mConstraintBasedEstimator\u001b[0m\u001b[1;33m(\u001b[0m\u001b[0mdf2\u001b[0m\u001b[1;33m)\u001b[0m\u001b[1;33m\u001b[0m\u001b[1;33m\u001b[0m\u001b[0m\n\u001b[1;32m----> 4\u001b[1;33m \u001b[0mprint\u001b[0m\u001b[1;33m(\u001b[0m\u001b[0mest\u001b[0m\u001b[1;33m.\u001b[0m\u001b[0mtest_conditional_independence\u001b[0m\u001b[1;33m(\u001b[0m\u001b[1;34m'x1'\u001b[0m\u001b[1;33m,\u001b[0m \u001b[1;34m'x2'\u001b[0m\u001b[1;33m,\u001b[0m \u001b[0mmethod\u001b[0m\u001b[1;33m=\u001b[0m\u001b[1;34m\"chi_square\"\u001b[0m\u001b[1;33m,\u001b[0m \u001b[0mtol\u001b[0m\u001b[1;33m=\u001b[0m\u001b[1;36m0.05\u001b[0m\u001b[1;33m)\u001b[0m\u001b[1;33m)\u001b[0m\u001b[1;33m\u001b[0m\u001b[1;33m\u001b[0m\u001b[0m\n\u001b[0m\u001b[0;32m      5\u001b[0m \u001b[1;33m\u001b[0m\u001b[0m\n\u001b[0;32m      6\u001b[0m \u001b[0mest\u001b[0m \u001b[1;33m=\u001b[0m \u001b[0mConstraintBasedEstimator\u001b[0m\u001b[1;33m(\u001b[0m\u001b[0mdf\u001b[0m\u001b[1;33m)\u001b[0m\u001b[1;33m\u001b[0m\u001b[1;33m\u001b[0m\u001b[0m\n",
      "\u001b[1;31mAttributeError\u001b[0m: 'ConstraintBasedEstimator' object has no attribute 'test_conditional_independence'"
     ]
    }
   ],
   "source": [
    "from pgmpy.estimators import ConstraintBasedEstimator\n",
    "\n",
    "est = ConstraintBasedEstimator.ConstraintBasedEstimator(df2)\n",
    "print(est.test_conditional_independence('x1', 'x2', method=\"chi_square\", tol=0.05))\n",
    "\n",
    "est = ConstraintBasedEstimator(df)\n",
    "print(est.test_conditional_independence('x1', 'x2', method=\"chi_square\", tol=0.05))"
   ]
  },
  {
   "cell_type": "markdown",
   "id": "upset-boards",
   "metadata": {},
   "source": [
    "### PCアルゴリズムによるベイジアンネットワーク探索"
   ]
  },
  {
   "cell_type": "code",
   "execution_count": 31,
   "id": "patient-psychiatry",
   "metadata": {},
   "outputs": [],
   "source": [
    "from scipy.special import expit\n",
    "\n",
    "num_data = 2000\n",
    "\n",
    "x = np.random.uniform(low=-1, high=1, size=num_data)\n",
    "\n",
    "e_z = np.random.randn(num_data)\n",
    "z_prob = expit(-5.0*x+5*e_z)\n",
    "Z = np.array([])\n",
    "\n",
    "for i in range(num_data):\n",
    "    Z_i = np.random.choice(2, size=1, p=[1-z_prob[i], z_prob[i]])[0]\n",
    "    Z = np.append(Z, Z_i)\n",
    "    \n",
    "t = np.zeros(num_data)\n",
    "for i in range(num_data):\n",
    "    if x[i] < 0:\n",
    "        t[i] = 0.5\n",
    "    elif x[i] >= 0 and x[i] < 0.5:\n",
    "        t[i] = 0.7\n",
    "    elif x[i] >= 0.5:\n",
    "        t[i] = 1.0\n",
    "        \n",
    "e_y = np.random.randn(num_data)\n",
    "Y = 2.0 + t*Z + 0.3*x + 0.1*e_y"
   ]
  },
  {
   "cell_type": "code",
   "execution_count": 34,
   "id": "russian-deficit",
   "metadata": {},
   "outputs": [],
   "source": [
    "Y2 = np.random.choice([1.0, 2.0, 3.0, 4.0, 5.0], num_data, p=[0.1, 0.2, 0.3, 0.2, 0.2])\n",
    "\n",
    "e_y3 = np.random.randn(num_data)\n",
    "Y3 = 3*Y + Y2 + e_y3\n",
    "\n",
    "e_y4 = np.random.randn(num_data)\n",
    "Y4 = 3*Y3 + 5 + 2*e_y4"
   ]
  },
  {
   "cell_type": "code",
   "execution_count": 35,
   "id": "confident-archive",
   "metadata": {},
   "outputs": [
    {
     "data": {
      "text/html": [
       "<div>\n",
       "<style scoped>\n",
       "    .dataframe tbody tr th:only-of-type {\n",
       "        vertical-align: middle;\n",
       "    }\n",
       "\n",
       "    .dataframe tbody tr th {\n",
       "        vertical-align: top;\n",
       "    }\n",
       "\n",
       "    .dataframe thead th {\n",
       "        text-align: right;\n",
       "    }\n",
       "</style>\n",
       "<table border=\"1\" class=\"dataframe\">\n",
       "  <thead>\n",
       "    <tr style=\"text-align: right;\">\n",
       "      <th></th>\n",
       "      <th>x</th>\n",
       "      <th>Z</th>\n",
       "      <th>t</th>\n",
       "      <th>Y</th>\n",
       "      <th>Y2</th>\n",
       "      <th>Y3</th>\n",
       "      <th>Y4</th>\n",
       "    </tr>\n",
       "  </thead>\n",
       "  <tbody>\n",
       "    <tr>\n",
       "      <th>0</th>\n",
       "      <td>0.430652</td>\n",
       "      <td>1.0</td>\n",
       "      <td>0.7</td>\n",
       "      <td>2.860354</td>\n",
       "      <td>1.0</td>\n",
       "      <td>9.222925</td>\n",
       "      <td>30.867631</td>\n",
       "    </tr>\n",
       "    <tr>\n",
       "      <th>1</th>\n",
       "      <td>-0.193179</td>\n",
       "      <td>1.0</td>\n",
       "      <td>0.5</td>\n",
       "      <td>2.409125</td>\n",
       "      <td>3.0</td>\n",
       "      <td>8.908337</td>\n",
       "      <td>32.392158</td>\n",
       "    </tr>\n",
       "    <tr>\n",
       "      <th>2</th>\n",
       "      <td>-0.175358</td>\n",
       "      <td>1.0</td>\n",
       "      <td>0.5</td>\n",
       "      <td>2.437063</td>\n",
       "      <td>3.0</td>\n",
       "      <td>9.314384</td>\n",
       "      <td>31.661338</td>\n",
       "    </tr>\n",
       "    <tr>\n",
       "      <th>3</th>\n",
       "      <td>-0.161702</td>\n",
       "      <td>1.0</td>\n",
       "      <td>0.5</td>\n",
       "      <td>2.550986</td>\n",
       "      <td>4.0</td>\n",
       "      <td>13.026968</td>\n",
       "      <td>43.373926</td>\n",
       "    </tr>\n",
       "    <tr>\n",
       "      <th>4</th>\n",
       "      <td>0.805733</td>\n",
       "      <td>0.0</td>\n",
       "      <td>1.0</td>\n",
       "      <td>2.325156</td>\n",
       "      <td>5.0</td>\n",
       "      <td>12.093357</td>\n",
       "      <td>43.432567</td>\n",
       "    </tr>\n",
       "  </tbody>\n",
       "</table>\n",
       "</div>"
      ],
      "text/plain": [
       "          x    Z    t         Y   Y2         Y3         Y4\n",
       "0  0.430652  1.0  0.7  2.860354  1.0   9.222925  30.867631\n",
       "1 -0.193179  1.0  0.5  2.409125  3.0   8.908337  32.392158\n",
       "2 -0.175358  1.0  0.5  2.437063  3.0   9.314384  31.661338\n",
       "3 -0.161702  1.0  0.5  2.550986  4.0  13.026968  43.373926\n",
       "4  0.805733  0.0  1.0  2.325156  5.0  12.093357  43.432567"
      ]
     },
     "execution_count": 35,
     "metadata": {},
     "output_type": "execute_result"
    }
   ],
   "source": [
    "df = pd.DataFrame({'x':x,\n",
    "                   'Z':Z,\n",
    "                   't':t,\n",
    "                   'Y':Y,\n",
    "                   'Y2':Y2,\n",
    "                   'Y3':Y3,\n",
    "                   'Y4':Y4})\n",
    "df.head()"
   ]
  },
  {
   "cell_type": "code",
   "execution_count": 36,
   "id": "superior-nashville",
   "metadata": {},
   "outputs": [
    {
     "name": "stdout",
     "output_type": "stream",
     "text": [
      "0       4\n",
      "1       3\n",
      "2       3\n",
      "3       3\n",
      "4       3\n",
      "       ..\n",
      "1995    2\n",
      "1996    2\n",
      "1997    1\n",
      "1998    2\n",
      "1999    1\n",
      "Name: Y, Length: 2000, dtype: category\n",
      "Categories (5, int64): [1 < 2 < 3 < 4 < 5]\n",
      "[1.55595831 1.94081874 2.32376443 2.70671013 3.08965583 3.47260153]\n"
     ]
    }
   ],
   "source": [
    "s_qcut, bins = pd.cut(df[\"Y\"], 5, labels=[1, 2, 3, 4, 5], retbins=True) # ビンごとにデータ数が同じになる\n",
    "\n",
    "print(s_qcut)\n",
    "print(bins)"
   ]
  },
  {
   "cell_type": "code",
   "execution_count": 37,
   "id": "ready-poetry",
   "metadata": {},
   "outputs": [
    {
     "data": {
      "text/html": [
       "<div>\n",
       "<style scoped>\n",
       "    .dataframe tbody tr th:only-of-type {\n",
       "        vertical-align: middle;\n",
       "    }\n",
       "\n",
       "    .dataframe tbody tr th {\n",
       "        vertical-align: top;\n",
       "    }\n",
       "\n",
       "    .dataframe thead th {\n",
       "        text-align: right;\n",
       "    }\n",
       "</style>\n",
       "<table border=\"1\" class=\"dataframe\">\n",
       "  <thead>\n",
       "    <tr style=\"text-align: right;\">\n",
       "      <th></th>\n",
       "      <th>x</th>\n",
       "      <th>Z</th>\n",
       "      <th>Y</th>\n",
       "      <th>Y2</th>\n",
       "      <th>Y3</th>\n",
       "      <th>Y4</th>\n",
       "    </tr>\n",
       "  </thead>\n",
       "  <tbody>\n",
       "    <tr>\n",
       "      <th>0</th>\n",
       "      <td>4</td>\n",
       "      <td>5</td>\n",
       "      <td>4</td>\n",
       "      <td>1</td>\n",
       "      <td>2</td>\n",
       "      <td>2</td>\n",
       "    </tr>\n",
       "    <tr>\n",
       "      <th>1</th>\n",
       "      <td>3</td>\n",
       "      <td>5</td>\n",
       "      <td>3</td>\n",
       "      <td>3</td>\n",
       "      <td>2</td>\n",
       "      <td>2</td>\n",
       "    </tr>\n",
       "    <tr>\n",
       "      <th>2</th>\n",
       "      <td>3</td>\n",
       "      <td>5</td>\n",
       "      <td>3</td>\n",
       "      <td>3</td>\n",
       "      <td>2</td>\n",
       "      <td>2</td>\n",
       "    </tr>\n",
       "    <tr>\n",
       "      <th>3</th>\n",
       "      <td>3</td>\n",
       "      <td>5</td>\n",
       "      <td>3</td>\n",
       "      <td>4</td>\n",
       "      <td>4</td>\n",
       "      <td>4</td>\n",
       "    </tr>\n",
       "    <tr>\n",
       "      <th>4</th>\n",
       "      <td>5</td>\n",
       "      <td>1</td>\n",
       "      <td>3</td>\n",
       "      <td>5</td>\n",
       "      <td>4</td>\n",
       "      <td>4</td>\n",
       "    </tr>\n",
       "  </tbody>\n",
       "</table>\n",
       "</div>"
      ],
      "text/plain": [
       "   x  Z  Y Y2 Y3 Y4\n",
       "0  4  5  4  1  2  2\n",
       "1  3  5  3  3  2  2\n",
       "2  3  5  3  3  2  2\n",
       "3  3  5  3  4  4  4\n",
       "4  5  1  3  5  4  4"
      ]
     },
     "execution_count": 37,
     "metadata": {},
     "output_type": "execute_result"
    }
   ],
   "source": [
    "df_bin = df.copy()\n",
    "del df_bin[\"t\"]\n",
    "\n",
    "df_bin[\"x\"], x_bins = pd.cut(df[\"x\"], 5, labels=[1, 2, 3, 4, 5], retbins=True)\n",
    "df_bin[\"Z\"], x_bins = pd.cut(df[\"Z\"], 5, labels=[1, 2, 3, 4, 5], retbins=True)\n",
    "df_bin[\"Y\"], x_bins = pd.cut(df[\"Y\"], 5, labels=[1, 2, 3, 4, 5], retbins=True)\n",
    "df_bin[\"Y2\"], x_bins = pd.cut(df[\"Y2\"], 5, labels=[1, 2, 3, 4, 5], retbins=True)\n",
    "df_bin[\"Y3\"], x_bins = pd.cut(df[\"Y3\"], 5, labels=[1, 2, 3, 4, 5], retbins=True)\n",
    "df_bin[\"Y4\"], x_bins = pd.cut(df[\"Y4\"], 5, labels=[1, 2, 3, 4, 5], retbins=True)\n",
    "\n",
    "df_bin.head()"
   ]
  },
  {
   "cell_type": "code",
   "execution_count": 52,
   "id": "structured-mechanism",
   "metadata": {},
   "outputs": [
    {
     "ename": "AttributeError",
     "evalue": "'ConstraintBasedEstimator' object has no attribute 'test_conditional_independence'",
     "output_type": "error",
     "traceback": [
      "\u001b[1;31m---------------------------------------------------------------------------\u001b[0m",
      "\u001b[1;31mAttributeError\u001b[0m                            Traceback (most recent call last)",
      "\u001b[1;32m<ipython-input-52-db3a36585e6e>\u001b[0m in \u001b[0;36m<module>\u001b[1;34m\u001b[0m\n\u001b[0;32m      4\u001b[0m \u001b[0mest\u001b[0m \u001b[1;33m=\u001b[0m \u001b[0mConstraintBasedEstimator\u001b[0m\u001b[1;33m.\u001b[0m\u001b[0mConstraintBasedEstimator\u001b[0m\u001b[1;33m(\u001b[0m\u001b[0mdf_bin\u001b[0m\u001b[1;33m)\u001b[0m\u001b[1;33m\u001b[0m\u001b[1;33m\u001b[0m\u001b[0m\n\u001b[0;32m      5\u001b[0m \u001b[1;33m\u001b[0m\u001b[0m\n\u001b[1;32m----> 6\u001b[1;33m \u001b[0mprint\u001b[0m\u001b[1;33m(\u001b[0m\u001b[0mest\u001b[0m\u001b[1;33m.\u001b[0m\u001b[0mtest_conditional_independence\u001b[0m\u001b[1;33m(\u001b[0m\u001b[1;34m'x'\u001b[0m\u001b[1;33m,\u001b[0m \u001b[1;34m'Z'\u001b[0m\u001b[1;33m,\u001b[0m \u001b[0mmethod\u001b[0m\u001b[1;33m=\u001b[0m\u001b[1;34m\"chi_square\"\u001b[0m\u001b[1;33m,\u001b[0m \u001b[0mtol\u001b[0m\u001b[1;33m=\u001b[0m\u001b[1;36m0.05\u001b[0m\u001b[1;33m)\u001b[0m\u001b[1;33m)\u001b[0m\u001b[1;33m\u001b[0m\u001b[1;33m\u001b[0m\u001b[0m\n\u001b[0m",
      "\u001b[1;31mAttributeError\u001b[0m: 'ConstraintBasedEstimator' object has no attribute 'test_conditional_independence'"
     ]
    }
   ],
   "source": [
    "from pgmpy.estimators import ConstraintBasedEstimator\n",
    "import pgmpy\n",
    "\n",
    "est = ConstraintBasedEstimator.ConstraintBasedEstimator(df_bin)\n",
    "\n",
    "print(est.test_conditional_independence('x', 'Z', method=\"chi_square\", tol=0.05))"
   ]
  },
  {
   "cell_type": "code",
   "execution_count": 48,
   "id": "noticed-leadership",
   "metadata": {},
   "outputs": [
    {
     "data": {
      "text/plain": [
       "<pgmpy.estimators.ConstraintBasedEstimator.ConstraintBasedEstimator at 0x1f335110970>"
      ]
     },
     "execution_count": 48,
     "metadata": {},
     "output_type": "execute_result"
    }
   ],
   "source": []
  }
 ],
 "metadata": {
  "kernelspec": {
   "display_name": "Python 3",
   "language": "python",
   "name": "python3"
  },
  "language_info": {
   "codemirror_mode": {
    "name": "ipython",
    "version": 3
   },
   "file_extension": ".py",
   "mimetype": "text/x-python",
   "name": "python",
   "nbconvert_exporter": "python",
   "pygments_lexer": "ipython3",
   "version": "3.8.5"
  }
 },
 "nbformat": 4,
 "nbformat_minor": 5
}
