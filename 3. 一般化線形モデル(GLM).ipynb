{
 "cells": [
  {
   "cell_type": "code",
   "execution_count": null,
   "id": "seventh-knowing",
   "metadata": {},
   "outputs": [],
   "source": []
  },
  {
   "cell_type": "markdown",
   "id": "rural-luxury",
   "metadata": {},
   "source": [
    "## 3. 一般化線形モデル(GLM)\n",
    "### 3.1 例題：個体ごとに平均種子数が異なる場合\n",
    "第2章の例題と似ているが、個体の大きさがさまざまであったり、あるいは植物たちを二つのグループに分けて、  \n",
    "それぞれで異なる実験処理を施していたりする点で異なる。  \n",
    "架空植物100個体の調査をして得られた、個体ごとの種子数のデータがあるとする。  \n",
    "植物個体$i$の種子数は$y_i$個であり、体サイズ$x_i$が観測されている。  \n",
    "さらに、全個体のうち50個体($i\\in\\{1,2,\\cdots,50\\}$)は何も処理していない(処理C)、  \n",
    "残り50体($i\\in\\{51,52,\\cdots,100\\}$)には肥料を与える処理(施肥処理、処理T)を施す。"
   ]
  },
  {
   "cell_type": "markdown",
   "id": "close-bolivia",
   "metadata": {},
   "source": [
    "### 3.2 観測されたデータの概要を調べる"
   ]
  },
  {
   "cell_type": "code",
   "execution_count": 1,
   "id": "refined-spider",
   "metadata": {},
   "outputs": [
    {
     "data": {
      "text/html": [
       "<div>\n",
       "<style scoped>\n",
       "    .dataframe tbody tr th:only-of-type {\n",
       "        vertical-align: middle;\n",
       "    }\n",
       "\n",
       "    .dataframe tbody tr th {\n",
       "        vertical-align: top;\n",
       "    }\n",
       "\n",
       "    .dataframe thead th {\n",
       "        text-align: right;\n",
       "    }\n",
       "</style>\n",
       "<table border=\"1\" class=\"dataframe\">\n",
       "  <thead>\n",
       "    <tr style=\"text-align: right;\">\n",
       "      <th></th>\n",
       "      <th>y</th>\n",
       "      <th>x</th>\n",
       "      <th>f</th>\n",
       "    </tr>\n",
       "  </thead>\n",
       "  <tbody>\n",
       "    <tr>\n",
       "      <th>0</th>\n",
       "      <td>6</td>\n",
       "      <td>8.31</td>\n",
       "      <td>C</td>\n",
       "    </tr>\n",
       "    <tr>\n",
       "      <th>1</th>\n",
       "      <td>6</td>\n",
       "      <td>9.44</td>\n",
       "      <td>C</td>\n",
       "    </tr>\n",
       "    <tr>\n",
       "      <th>2</th>\n",
       "      <td>6</td>\n",
       "      <td>9.50</td>\n",
       "      <td>C</td>\n",
       "    </tr>\n",
       "    <tr>\n",
       "      <th>3</th>\n",
       "      <td>12</td>\n",
       "      <td>9.07</td>\n",
       "      <td>C</td>\n",
       "    </tr>\n",
       "    <tr>\n",
       "      <th>4</th>\n",
       "      <td>10</td>\n",
       "      <td>10.16</td>\n",
       "      <td>C</td>\n",
       "    </tr>\n",
       "    <tr>\n",
       "      <th>...</th>\n",
       "      <td>...</td>\n",
       "      <td>...</td>\n",
       "      <td>...</td>\n",
       "    </tr>\n",
       "    <tr>\n",
       "      <th>95</th>\n",
       "      <td>8</td>\n",
       "      <td>9.15</td>\n",
       "      <td>T</td>\n",
       "    </tr>\n",
       "    <tr>\n",
       "      <th>96</th>\n",
       "      <td>6</td>\n",
       "      <td>8.52</td>\n",
       "      <td>T</td>\n",
       "    </tr>\n",
       "    <tr>\n",
       "      <th>97</th>\n",
       "      <td>8</td>\n",
       "      <td>10.24</td>\n",
       "      <td>T</td>\n",
       "    </tr>\n",
       "    <tr>\n",
       "      <th>98</th>\n",
       "      <td>7</td>\n",
       "      <td>10.86</td>\n",
       "      <td>T</td>\n",
       "    </tr>\n",
       "    <tr>\n",
       "      <th>99</th>\n",
       "      <td>9</td>\n",
       "      <td>9.97</td>\n",
       "      <td>T</td>\n",
       "    </tr>\n",
       "  </tbody>\n",
       "</table>\n",
       "<p>100 rows × 3 columns</p>\n",
       "</div>"
      ],
      "text/plain": [
       "     y      x  f\n",
       "0    6   8.31  C\n",
       "1    6   9.44  C\n",
       "2    6   9.50  C\n",
       "3   12   9.07  C\n",
       "4   10  10.16  C\n",
       "..  ..    ... ..\n",
       "95   8   9.15  T\n",
       "96   6   8.52  T\n",
       "97   8  10.24  T\n",
       "98   7  10.86  T\n",
       "99   9   9.97  T\n",
       "\n",
       "[100 rows x 3 columns]"
      ]
     },
     "execution_count": 1,
     "metadata": {},
     "output_type": "execute_result"
    }
   ],
   "source": [
    "import pandas as pd\n",
    "\n",
    "d = pd.read_csv('C:/Users/tanak/study/参考書/データ解析のための統計モデリング/kubobook_2012/data/data3a.csv')\n",
    "d"
   ]
  },
  {
   "cell_type": "code",
   "execution_count": 2,
   "id": "settled-railway",
   "metadata": {},
   "outputs": [
    {
     "data": {
      "text/plain": [
       "y      int64\n",
       "x    float64\n",
       "f     object\n",
       "dtype: object"
      ]
     },
     "execution_count": 2,
     "metadata": {},
     "output_type": "execute_result"
    }
   ],
   "source": [
    "d.dtypes"
   ]
  },
  {
   "cell_type": "code",
   "execution_count": 3,
   "id": "lonely-protein",
   "metadata": {},
   "outputs": [
    {
     "data": {
      "text/html": [
       "<div>\n",
       "<style scoped>\n",
       "    .dataframe tbody tr th:only-of-type {\n",
       "        vertical-align: middle;\n",
       "    }\n",
       "\n",
       "    .dataframe tbody tr th {\n",
       "        vertical-align: top;\n",
       "    }\n",
       "\n",
       "    .dataframe thead th {\n",
       "        text-align: right;\n",
       "    }\n",
       "</style>\n",
       "<table border=\"1\" class=\"dataframe\">\n",
       "  <thead>\n",
       "    <tr style=\"text-align: right;\">\n",
       "      <th></th>\n",
       "      <th>y</th>\n",
       "      <th>x</th>\n",
       "    </tr>\n",
       "  </thead>\n",
       "  <tbody>\n",
       "    <tr>\n",
       "      <th>count</th>\n",
       "      <td>100.000000</td>\n",
       "      <td>100.000000</td>\n",
       "    </tr>\n",
       "    <tr>\n",
       "      <th>mean</th>\n",
       "      <td>7.830000</td>\n",
       "      <td>10.089100</td>\n",
       "    </tr>\n",
       "    <tr>\n",
       "      <th>std</th>\n",
       "      <td>2.624881</td>\n",
       "      <td>1.008049</td>\n",
       "    </tr>\n",
       "    <tr>\n",
       "      <th>min</th>\n",
       "      <td>2.000000</td>\n",
       "      <td>7.190000</td>\n",
       "    </tr>\n",
       "    <tr>\n",
       "      <th>25%</th>\n",
       "      <td>6.000000</td>\n",
       "      <td>9.427500</td>\n",
       "    </tr>\n",
       "    <tr>\n",
       "      <th>50%</th>\n",
       "      <td>8.000000</td>\n",
       "      <td>10.155000</td>\n",
       "    </tr>\n",
       "    <tr>\n",
       "      <th>75%</th>\n",
       "      <td>10.000000</td>\n",
       "      <td>10.685000</td>\n",
       "    </tr>\n",
       "    <tr>\n",
       "      <th>max</th>\n",
       "      <td>15.000000</td>\n",
       "      <td>12.400000</td>\n",
       "    </tr>\n",
       "  </tbody>\n",
       "</table>\n",
       "</div>"
      ],
      "text/plain": [
       "                y           x\n",
       "count  100.000000  100.000000\n",
       "mean     7.830000   10.089100\n",
       "std      2.624881    1.008049\n",
       "min      2.000000    7.190000\n",
       "25%      6.000000    9.427500\n",
       "50%      8.000000   10.155000\n",
       "75%     10.000000   10.685000\n",
       "max     15.000000   12.400000"
      ]
     },
     "execution_count": 3,
     "metadata": {},
     "output_type": "execute_result"
    }
   ],
   "source": [
    "d.describe()"
   ]
  },
  {
   "cell_type": "markdown",
   "id": "viral-evaluation",
   "metadata": {},
   "source": [
    "### 3.3 統計モデリングの前にデータを図示する\n",
    "視覚的に把握するためにも、いろいろな図にしてよく見ることは大事である。"
   ]
  },
  {
   "cell_type": "code",
   "execution_count": 82,
   "id": "absolute-faith",
   "metadata": {},
   "outputs": [
    {
     "data": {
      "text/plain": [
       "Text(0, 0.5, 'y')"
      ]
     },
     "execution_count": 82,
     "metadata": {},
     "output_type": "execute_result"
    },
    {
     "data": {
      "image/png": "[encoded data removed]",
      "text/plain": [
       "<Figure size 432x288 with 1 Axes>"
      ]
     },
     "metadata": {
      "needs_background": "light"
     },
     "output_type": "display_data"
    }
   ],
   "source": [
    "import matplotlib.pyplot as plt\n",
    "\n",
    "for s in ['C', 'T']:\n",
    "    d_select = d[d['f']==s]\n",
    "    plt.scatter(d_select['x'], d_select['y'], label=s)\n",
    "plt.legend(loc='upper left')\n",
    "plt.xlabel('x')\n",
    "plt.ylabel('y')"
   ]
  },
  {
   "cell_type": "code",
   "execution_count": 5,
   "id": "secure-stroke",
   "metadata": {},
   "outputs": [
    {
     "data": {
      "image/png": "[encoded data removed]",
      "text/plain": [
       "<Figure size 432x288 with 1 Axes>"
      ]
     },
     "metadata": {
      "needs_background": "light"
     },
     "output_type": "display_data"
    }
   ],
   "source": [
    "import seaborn as sns\n",
    "\n",
    "sns.boxplot(x='f', y='y', data=d);"
   ]
  },
  {
   "cell_type": "markdown",
   "id": "spread-handle",
   "metadata": {},
   "source": [
    "### 3.4 ポアソン回帰の統計モデル\n",
    "最初に個体$i$の体サイス$x_i$だけに依存する統計モデルについて考える。  \n",
    "説明変数は$x_i$で、応答変数は種子数$y_i$である。$f_i$はとりあえず無視する。  \n",
    "ある個体$i$において種子数$y_i$である確率$p(y_i|\\lambda_i)$はポアソン分布に従っていて、\n",
    "$$\n",
    "p(y_i|\\lambda_i)=\\frac{\\lambda_i^{y_i}\\exp{(-\\lambda_i)}}{y_i!}\n",
    "$$\n",
    "と仮定する。  \n",
    "  \n",
    "個体ごとに異なる平均$\\lambda_i$を説明変数$x_i$の関数として定義する。  \n",
    "ここでは、ある個体$i$の平均種子数$\\lambda_i$が、\n",
    "$$\n",
    "\\lambda_i=\\exp{(\\beta_1+\\beta_2x_i)}\n",
    "$$\n",
    "であるとする。  \n",
    "$\\beta_1$や$\\beta_2$をパラメータと呼び、とりあえず$\\beta_1$を切片、$\\beta_2$を傾きと呼ぶことにする。  \n",
    "ここで$\\lambda_i=\\exp{(\\beta_1+\\beta_2x_i)}$を図示すると。"
   ]
  },
  {
   "cell_type": "code",
   "execution_count": 83,
   "id": "quantitative-holmes",
   "metadata": {},
   "outputs": [
    {
     "data": {
      "text/plain": [
       "Text(0, 0.5, 'lambda')"
      ]
     },
     "execution_count": 83,
     "metadata": {},
     "output_type": "execute_result"
    },
    {
     "data": {
      "image/png": "[encoded data removed]",
      "text/plain": [
       "<Figure size 432x288 with 1 Axes>"
      ]
     },
     "metadata": {
      "needs_background": "light"
     },
     "output_type": "display_data"
    }
   ],
   "source": [
    "import numpy as np\n",
    "\n",
    "def lmd(x, b1, b2):\n",
    "    return np.exp(b1+b2*x)\n",
    "\n",
    "x = np.arange(-3,6,0.1)\n",
    "\n",
    "plt.plot(x, lmd(x, -2, -0.8), label='{b1,b2}={-2,-0.8}');\n",
    "plt.plot(x, lmd(x, -1,  0.4), label='{b1,b2}={-1,0.4}');\n",
    "plt.legend();\n",
    "plt.xlabel('x')\n",
    "plt.ylabel('lambda')"
   ]
  },
  {
   "cell_type": "markdown",
   "id": "congressional-aaron",
   "metadata": {},
   "source": [
    "このモデルの平均種子数$\\lambda_i$の式は、\n",
    "$$\n",
    "\\log{\\lambda_i}=\\beta_1+\\beta_2x_i\n",
    "$$\n",
    "と変形できる。  \n",
    "このとき右辺の$\\beta_1+\\beta_2x_i$は**線形予測子**と呼ばれる。($\\beta_1$と$\\beta_2$の線形結合)  \n",
    "上の式は、$\\log{\\lambda_i}=(線形予測子)$となっているが、左辺の関数は**リンク関数**と呼ばれる。  \n",
    "今回の場合は、対数関数が指定されているため、**対数リンク関数**と呼ばれる。  \n",
    "ポアソン回帰をする場合、たいていは対数リンク関数を使用する。  \n",
    "また、数学的によい性質があるので、ポアソン分布・二項分布の**正準リンク関数**と呼ぶ。  \n",
    "  \n",
    "ポアソン回帰とは、観測データに対するポアソン分布を使った統計モデルのあてはめであり、  \n",
    "この統計モデル対数尤度$\\log{L}$が最大になるパラメータ$\\hat{\\beta}_1$と$\\hat{\\beta}_2$の推定値を決めることである。  \n",
    "データ$\\boldsymbol{Y}$のもとでの、このモデルの対数尤度は、\n",
    "$$\n",
    "\\log{L}(\\beta_1,\\beta_2)=\\sum_i\\log{\\frac{\\lambda_i^{y_i}\\exp{(-\\lambda_i)}}{y_i!}}\n",
    "$$\n",
    "となり、$\\lambda_i$は$\\beta_1$と$\\beta_2$の関数であることに注意する。"
   ]
  },
  {
   "cell_type": "code",
   "execution_count": 88,
   "id": "dominican-justice",
   "metadata": {},
   "outputs": [
    {
     "data": {
      "text/html": [
       "<table class=\"simpletable\">\n",
       "<caption>Generalized Linear Model Regression Results</caption>\n",
       "<tr>\n",
       "  <th>Dep. Variable:</th>           <td>y</td>        <th>  No. Observations:  </th>  <td>   100</td> \n",
       "</tr>\n",
       "<tr>\n",
       "  <th>Model:</th>                  <td>GLM</td>       <th>  Df Residuals:      </th>  <td>    98</td> \n",
       "</tr>\n",
       "<tr>\n",
       "  <th>Model Family:</th>         <td>Poisson</td>     <th>  Df Model:          </th>  <td>     1</td> \n",
       "</tr>\n",
       "<tr>\n",
       "  <th>Link Function:</th>          <td>log</td>       <th>  Scale:             </th> <td>  1.0000</td>\n",
       "</tr>\n",
       "<tr>\n",
       "  <th>Method:</th>                <td>IRLS</td>       <th>  Log-Likelihood:    </th> <td> -235.39</td>\n",
       "</tr>\n",
       "<tr>\n",
       "  <th>Date:</th>            <td>Sat, 07 May 2022</td> <th>  Deviance:          </th> <td>  84.993</td>\n",
       "</tr>\n",
       "<tr>\n",
       "  <th>Time:</th>                <td>13:04:50</td>     <th>  Pearson chi2:      </th>  <td>  83.8</td> \n",
       "</tr>\n",
       "<tr>\n",
       "  <th>No. Iterations:</th>          <td>4</td>        <th>                     </th>     <td> </td>   \n",
       "</tr>\n",
       "<tr>\n",
       "  <th>Covariance Type:</th>     <td>nonrobust</td>    <th>                     </th>     <td> </td>   \n",
       "</tr>\n",
       "</table>\n",
       "<table class=\"simpletable\">\n",
       "<tr>\n",
       "    <td></td>       <th>coef</th>     <th>std err</th>      <th>z</th>      <th>P>|z|</th>  <th>[0.025</th>    <th>0.975]</th>  \n",
       "</tr>\n",
       "<tr>\n",
       "  <th>const</th> <td>    1.2917</td> <td>    0.364</td> <td>    3.552</td> <td> 0.000</td> <td>    0.579</td> <td>    2.005</td>\n",
       "</tr>\n",
       "<tr>\n",
       "  <th>x</th>     <td>    0.0757</td> <td>    0.036</td> <td>    2.125</td> <td> 0.034</td> <td>    0.006</td> <td>    0.145</td>\n",
       "</tr>\n",
       "</table>"
      ],
      "text/plain": [
       "<class 'statsmodels.iolib.summary.Summary'>\n",
       "\"\"\"\n",
       "                 Generalized Linear Model Regression Results                  \n",
       "==============================================================================\n",
       "Dep. Variable:                      y   No. Observations:                  100\n",
       "Model:                            GLM   Df Residuals:                       98\n",
       "Model Family:                 Poisson   Df Model:                            1\n",
       "Link Function:                    log   Scale:                          1.0000\n",
       "Method:                          IRLS   Log-Likelihood:                -235.39\n",
       "Date:                Sat, 07 May 2022   Deviance:                       84.993\n",
       "Time:                        13:04:50   Pearson chi2:                     83.8\n",
       "No. Iterations:                     4                                         \n",
       "Covariance Type:            nonrobust                                         \n",
       "==============================================================================\n",
       "                 coef    std err          z      P>|z|      [0.025      0.975]\n",
       "------------------------------------------------------------------------------\n",
       "const          1.2917      0.364      3.552      0.000       0.579       2.005\n",
       "x              0.0757      0.036      2.125      0.034       0.006       0.145\n",
       "==============================================================================\n",
       "\"\"\""
      ]
     },
     "execution_count": 88,
     "metadata": {},
     "output_type": "execute_result"
    }
   ],
   "source": [
    "import statsmodels.api as sm\n",
    "\n",
    "model = sm.GLM(d.y, sm.add_constant(d.x), family=sm.families.Poisson())\n",
    "#model.fit_regularized(method='elastic_net', alpha=1.0, L1_wt=0.0) # 正則化\n",
    "result = model.fit()\n",
    "\n",
    "result.summary()"
   ]
  },
  {
   "cell_type": "code",
   "execution_count": 85,
   "id": "abstract-anderson",
   "metadata": {},
   "outputs": [
    {
     "name": "stderr",
     "output_type": "stream",
     "text": [
      "C:\\Users\\tanak\\anaconda3\\envs\\tanaka_env1\\lib\\site-packages\\sklearn\\utils\\validation.py:63: DataConversionWarning: A column-vector y was passed when a 1d array was expected. Please change the shape of y to (n_samples, ), for example using ravel().\n",
      "  return f(*args, **kwargs)\n"
     ]
    },
    {
     "data": {
      "text/plain": [
       "PoissonRegressor(alpha=0)"
      ]
     },
     "execution_count": 85,
     "metadata": {},
     "output_type": "execute_result"
    }
   ],
   "source": [
    "# sklearnでも用意されている\n",
    "from sklearn.linear_model import PoissonRegressor\n",
    "\n",
    "glm = PoissonRegressor(\n",
    "                        alpha=0,  # ペナルティ項\n",
    "                        fit_intercept=True,  # 切片\n",
    "                        max_iter=100,  # ソルバーの試行回数\n",
    "                      )\n",
    "glm.fit(d.x.values.reshape(-1, 1), d.y.values.reshape(-1, 1))"
   ]
  },
  {
   "cell_type": "code",
   "execution_count": 86,
   "id": "biblical-median",
   "metadata": {},
   "outputs": [
    {
     "name": "stdout",
     "output_type": "stream",
     "text": [
      "[0.07566189]\n",
      "1.2917210225621196\n"
     ]
    }
   ],
   "source": [
    "print(glm.coef_ )\n",
    "print(glm.intercept_  )"
   ]
  },
  {
   "cell_type": "markdown",
   "id": "pressing-veteran",
   "metadata": {},
   "source": [
    "constは切片$\\beta_1$、説明変数$x$の係数は傾き$\\beta_2$に対応している。  \n",
    "std errorはパラメータの標準誤差の推定値で、**標準誤差(SE)**とは推定値$\\beta_1$と$\\beta_2$のばらつきを標準偏差で表したものである。  \n",
    "簡単に「同じ調査方法で同数の別データをとりなおしたときのばらつき具合」ということにする。  \n",
    "zはz値と呼ばれる統計量であり、最尤推定値をSEで除した値である。  \n",
    "これにより、Wald信頼区間というものが構成できて、推定値がゼロから十分に離れているかの荒い目安となる。  \n",
    "P>|z|は、この値(確率)が大きいほどz値がゼロに近くなり、$\\hat{\\beta_1}$と$\\hat{\\beta_2}$がゼロに近いことを表現する。  \n",
    "  \n",
    "ある説明変数をモデルに含めるべきか否かといった判断は、Wald信頼区間ではなく、4章で説明するモデル選択を使用するほうが良いかもしれない。  \n",
    "モデル選択はより良い選択をする統計モデルを探し出すもので、当てはまりの改善ではなく、予測の改善を目的としているからである。  \n",
    "  \n",
    "ここで、**最大対数尤度**を**当てはまりの良さ**と呼ぶ。  \n",
    "このモデルの最大対数尤度は-235.4ということがわかる。  \n",
    "  \n",
    "ここで、ポアソン回帰の結果を図示する。"
   ]
  },
  {
   "cell_type": "code",
   "execution_count": 89,
   "id": "incoming-policy",
   "metadata": {},
   "outputs": [
    {
     "data": {
      "text/plain": [
       "Text(0, 0.5, 'y')"
      ]
     },
     "execution_count": 89,
     "metadata": {},
     "output_type": "execute_result"
    },
    {
     "data": {
      "image/png": "[encoded data removed]",
      "text/plain": [
       "<Figure size 432x288 with 1 Axes>"
      ]
     },
     "metadata": {
      "needs_background": "light"
     },
     "output_type": "display_data"
    }
   ],
   "source": [
    "xx = np.arange(np.min(d.x), np.max(d.x), 0.5)\n",
    "yy = result.predict(sm.add_constant(xx))\n",
    "\n",
    "for s in ['C', 'T']:\n",
    "    d_select = d[d['f']==s]\n",
    "    plt.scatter(d_select['x'], d_select['y'], label=s)\n",
    "plt.plot(xx, yy, '-', color='red')\n",
    "plt.legend(loc='upper left')\n",
    "plt.xlabel('x')\n",
    "plt.ylabel('y')"
   ]
  },
  {
   "cell_type": "markdown",
   "id": "turkish-recognition",
   "metadata": {},
   "source": [
    "### 3.5 説明変数がカテゴリ変数の統計モデル\n",
    "カテゴリ変数はダミー変数に置き換えてあつかう。  \n",
    "施肥効果$f_i$だけが影響するモデルの平均値を、\n",
    "$$\n",
    "\\lambda_i=\\exp{(\\beta_1+\\beta_3d_i)}\n",
    "$$\n",
    "\n",
    "として、$\\beta_1$は切片、$\\beta_3$は施肥の効果を表す。  \n",
    "ここで、$d_i$は以下のような値をとるダミー変数である。\n",
    "$$\n",
    "d_i=\\left\\{\n",
    "\\begin{array}{11}\n",
    "0\\ (f_i=C)\\\\\n",
    "1\\ (f_i=T)\n",
    "\\end{array}\n",
    "\\right.\n",
    "$$\n",
    "\n",
    "個体$i$が肥料なし($f_i=C$)の場合、\n",
    "$$\n",
    "\\lambda_i=\\exp{(\\beta_1)}\n",
    "$$\n",
    "\n",
    "個体$i$が施肥処理をした($f_i=T$)、\n",
    "$$\n",
    "\\lambda_i=\\exp{(\\beta_1+\\beta_3)}\n",
    "$$\n",
    "となる。"
   ]
  },
  {
   "cell_type": "code",
   "execution_count": 11,
   "id": "seasonal-bradford",
   "metadata": {},
   "outputs": [
    {
     "data": {
      "text/html": [
       "<table class=\"simpletable\">\n",
       "<caption>Generalized Linear Model Regression Results</caption>\n",
       "<tr>\n",
       "  <th>Dep. Variable:</th>           <td>y</td>        <th>  No. Observations:  </th>  <td>   100</td> \n",
       "</tr>\n",
       "<tr>\n",
       "  <th>Model:</th>                  <td>GLM</td>       <th>  Df Residuals:      </th>  <td>    98</td> \n",
       "</tr>\n",
       "<tr>\n",
       "  <th>Model Family:</th>         <td>Poisson</td>     <th>  Df Model:          </th>  <td>     1</td> \n",
       "</tr>\n",
       "<tr>\n",
       "  <th>Link Function:</th>          <td>log</td>       <th>  Scale:             </th> <td>  1.0000</td>\n",
       "</tr>\n",
       "<tr>\n",
       "  <th>Method:</th>                <td>IRLS</td>       <th>  Log-Likelihood:    </th> <td> -237.63</td>\n",
       "</tr>\n",
       "<tr>\n",
       "  <th>Date:</th>            <td>Sat, 07 May 2022</td> <th>  Deviance:          </th> <td>  89.475</td>\n",
       "</tr>\n",
       "<tr>\n",
       "  <th>Time:</th>                <td>09:51:41</td>     <th>  Pearson chi2:      </th>  <td>  87.1</td> \n",
       "</tr>\n",
       "<tr>\n",
       "  <th>No. Iterations:</th>          <td>4</td>        <th>                     </th>     <td> </td>   \n",
       "</tr>\n",
       "<tr>\n",
       "  <th>Covariance Type:</th>     <td>nonrobust</td>    <th>                     </th>     <td> </td>   \n",
       "</tr>\n",
       "</table>\n",
       "<table class=\"simpletable\">\n",
       "<tr>\n",
       "     <td></td>        <th>coef</th>     <th>std err</th>      <th>z</th>      <th>P>|z|</th>  <th>[0.025</th>    <th>0.975]</th>  \n",
       "</tr>\n",
       "<tr>\n",
       "  <th>const</th>   <td>    2.0516</td> <td>    0.051</td> <td>   40.463</td> <td> 0.000</td> <td>    1.952</td> <td>    2.151</td>\n",
       "</tr>\n",
       "<tr>\n",
       "  <th>f_dummy</th> <td>    0.0128</td> <td>    0.071</td> <td>    0.179</td> <td> 0.858</td> <td>   -0.127</td> <td>    0.153</td>\n",
       "</tr>\n",
       "</table>"
      ],
      "text/plain": [
       "<class 'statsmodels.iolib.summary.Summary'>\n",
       "\"\"\"\n",
       "                 Generalized Linear Model Regression Results                  \n",
       "==============================================================================\n",
       "Dep. Variable:                      y   No. Observations:                  100\n",
       "Model:                            GLM   Df Residuals:                       98\n",
       "Model Family:                 Poisson   Df Model:                            1\n",
       "Link Function:                    log   Scale:                          1.0000\n",
       "Method:                          IRLS   Log-Likelihood:                -237.63\n",
       "Date:                Sat, 07 May 2022   Deviance:                       89.475\n",
       "Time:                        09:51:41   Pearson chi2:                     87.1\n",
       "No. Iterations:                     4                                         \n",
       "Covariance Type:            nonrobust                                         \n",
       "==============================================================================\n",
       "                 coef    std err          z      P>|z|      [0.025      0.975]\n",
       "------------------------------------------------------------------------------\n",
       "const          2.0516      0.051     40.463      0.000       1.952       2.151\n",
       "f_dummy        0.0128      0.071      0.179      0.858      -0.127       0.153\n",
       "==============================================================================\n",
       "\"\"\""
      ]
     },
     "execution_count": 11,
     "metadata": {},
     "output_type": "execute_result"
    }
   ],
   "source": [
    "d.loc[d['f']=='C', 'f_dummy'] = 0\n",
    "d.loc[d['f']=='T', 'f_dummy'] = 1\n",
    "\n",
    "model = sm.GLM(d.y, sm.add_constant(d.f_dummy), family=sm.families.Poisson())\n",
    "result = model.fit()\n",
    "\n",
    "result.summary()"
   ]
  },
  {
   "cell_type": "markdown",
   "id": "million-breast",
   "metadata": {},
   "source": [
    "個体$i$が肥料なし($f_i=C$)の場合、\n",
    "$$\n",
    "\\lambda_i=\\exp{(2.05+0)}=\\exp{(2.05)}=7.77\n",
    "$$\n",
    "\n",
    "個体$i$が施肥処理をした($f_i=T$)、\n",
    "$$\n",
    "\\lambda_i=\\exp{(2.05+0.0128)}=\\exp{(2.0628)}=7.87\n",
    "$$\n",
    "となり、肥料をやると平均種子数は少しだけ増えると予測される。  \n",
    "最大対数尤度は-237.63と$x_i$だけのモデルより当てはまりが悪くなっている。"
   ]
  },
  {
   "cell_type": "markdown",
   "id": "defensive-passion",
   "metadata": {},
   "source": [
    "### 3.6 説明変数が数量型+カテゴリ型の統計モデル\n",
    "体サイズ$x_i$と施肥効果$f_i$の複数の説明変数を同時に組み込んだ統計モデルを作る。  \n",
    "$$\n",
    "\\log{\\lambda_i}=\\beta_1+\\beta_2x_i+\\beta_3d_i\n",
    "$$\n"
   ]
  },
  {
   "cell_type": "code",
   "execution_count": 44,
   "id": "chemical-gossip",
   "metadata": {},
   "outputs": [
    {
     "data": {
      "text/html": [
       "<table class=\"simpletable\">\n",
       "<caption>Generalized Linear Model Regression Results</caption>\n",
       "<tr>\n",
       "  <th>Dep. Variable:</th>           <td>y</td>        <th>  No. Observations:  </th>  <td>   100</td> \n",
       "</tr>\n",
       "<tr>\n",
       "  <th>Model:</th>                  <td>GLM</td>       <th>  Df Residuals:      </th>  <td>    97</td> \n",
       "</tr>\n",
       "<tr>\n",
       "  <th>Model Family:</th>         <td>Poisson</td>     <th>  Df Model:          </th>  <td>     2</td> \n",
       "</tr>\n",
       "<tr>\n",
       "  <th>Link Function:</th>          <td>log</td>       <th>  Scale:             </th> <td>  1.0000</td>\n",
       "</tr>\n",
       "<tr>\n",
       "  <th>Method:</th>                <td>IRLS</td>       <th>  Log-Likelihood:    </th> <td> -235.29</td>\n",
       "</tr>\n",
       "<tr>\n",
       "  <th>Date:</th>            <td>Sat, 07 May 2022</td> <th>  Deviance:          </th> <td>  84.808</td>\n",
       "</tr>\n",
       "<tr>\n",
       "  <th>Time:</th>                <td>10:02:17</td>     <th>  Pearson chi2:      </th>  <td>  83.8</td> \n",
       "</tr>\n",
       "<tr>\n",
       "  <th>No. Iterations:</th>          <td>4</td>        <th>                     </th>     <td> </td>   \n",
       "</tr>\n",
       "<tr>\n",
       "  <th>Covariance Type:</th>     <td>nonrobust</td>    <th>                     </th>     <td> </td>   \n",
       "</tr>\n",
       "</table>\n",
       "<table class=\"simpletable\">\n",
       "<tr>\n",
       "     <td></td>        <th>coef</th>     <th>std err</th>      <th>z</th>      <th>P>|z|</th>  <th>[0.025</th>    <th>0.975]</th>  \n",
       "</tr>\n",
       "<tr>\n",
       "  <th>const</th>   <td>    1.2631</td> <td>    0.370</td> <td>    3.417</td> <td> 0.001</td> <td>    0.539</td> <td>    1.988</td>\n",
       "</tr>\n",
       "<tr>\n",
       "  <th>x</th>       <td>    0.0801</td> <td>    0.037</td> <td>    2.162</td> <td> 0.031</td> <td>    0.007</td> <td>    0.153</td>\n",
       "</tr>\n",
       "<tr>\n",
       "  <th>f_dummy</th> <td>   -0.0320</td> <td>    0.074</td> <td>   -0.430</td> <td> 0.667</td> <td>   -0.178</td> <td>    0.114</td>\n",
       "</tr>\n",
       "</table>"
      ],
      "text/plain": [
       "<class 'statsmodels.iolib.summary.Summary'>\n",
       "\"\"\"\n",
       "                 Generalized Linear Model Regression Results                  \n",
       "==============================================================================\n",
       "Dep. Variable:                      y   No. Observations:                  100\n",
       "Model:                            GLM   Df Residuals:                       97\n",
       "Model Family:                 Poisson   Df Model:                            2\n",
       "Link Function:                    log   Scale:                          1.0000\n",
       "Method:                          IRLS   Log-Likelihood:                -235.29\n",
       "Date:                Sat, 07 May 2022   Deviance:                       84.808\n",
       "Time:                        10:02:17   Pearson chi2:                     83.8\n",
       "No. Iterations:                     4                                         \n",
       "Covariance Type:            nonrobust                                         \n",
       "==============================================================================\n",
       "                 coef    std err          z      P>|z|      [0.025      0.975]\n",
       "------------------------------------------------------------------------------\n",
       "const          1.2631      0.370      3.417      0.001       0.539       1.988\n",
       "x              0.0801      0.037      2.162      0.031       0.007       0.153\n",
       "f_dummy       -0.0320      0.074     -0.430      0.667      -0.178       0.114\n",
       "==============================================================================\n",
       "\"\"\""
      ]
     },
     "execution_count": 44,
     "metadata": {},
     "output_type": "execute_result"
    }
   ],
   "source": [
    "model1 = sm.GLM(d.y, sm.add_constant(d[['x', 'f_dummy']]), family=sm.families.Poisson())\n",
    "result1 = model1.fit()\n",
    "\n",
    "result1.summary()"
   ]
  },
  {
   "cell_type": "markdown",
   "id": "completed-convenience",
   "metadata": {},
   "source": [
    "$f_i$だけのモデルでは効果(係数)がプラスであったが、このモデルではマイナスとなっている。  \n",
    "最大対数尤度に関しては、$x_i$だけのモデルと比較すると、少しだけ当てはまりがよくなっている。"
   ]
  },
  {
   "cell_type": "markdown",
   "id": "lined-instrumentation",
   "metadata": {},
   "source": [
    "「対数kリンク関数では要因の効果が積で表される」という性質を持つ。  \n",
    "個体$i$が肥料なし($f_i=C$)の場合、\n",
    "$$\n",
    "\\lambda_i=\\exp{(1.26+0.08x_i)}\n",
    "$$\n",
    "\n",
    "個体$i$が施肥処理をした($f_i=T$)、\n",
    "$$\n",
    "\\lambda_i=\\exp{(1.26+0.08x_i-0.032)}\n",
    "$$\n",
    "となり、以下のように分解できる。\n",
    "$$\n",
    "\\begin{align}\n",
    "\\lambda_i&=\\exp{(1.26)}\\exp{(0.08x_i)}\\exp{(-0.032)}\\\\\n",
    "=&(定数)×(サイズの効果)×(施肥処理の効果)\n",
    "\\end{align}\n",
    "$$\n",
    "\n",
    "サイズ$x_i$について「説明変数$x_i$が1増加すると、$\\lambda\\_i$は$\\exp{(0.08×1)}=1.08$倍に増える」と予測される。  \n",
    "施肥$f_i$については「説明変数$d_i$が1の場合、$\\lambda\\_i$は$\\exp{(-0.032×1)}=0.969$倍になる」と予測される。  \n",
    "  \n",
    "ここで、平均が線形予測子に等しい**恒等リンク関数**を使ってポアソン回帰を行ってみる。"
   ]
  },
  {
   "cell_type": "code",
   "execution_count": 45,
   "id": "defensive-mount",
   "metadata": {},
   "outputs": [
    {
     "name": "stderr",
     "output_type": "stream",
     "text": [
      "<ipython-input-45-159206de8ef3>:1: DeprecationWarning: Calling Family(..) with a link class as argument is deprecated.\n",
      "Use an instance of a link class instead.\n",
      "  model2 = sm.GLM(d.y, sm.add_constant(d[['x', 'f_dummy']]), family=sm.families.Poisson(link=sm.genmod.families.links.identity))\n",
      "C:\\Users\\tanak\\anaconda3\\envs\\tanaka_env1\\lib\\site-packages\\statsmodels\\genmod\\generalized_linear_model.py:293: DomainWarning: The identity link function does not respect the domain of the Poisson family.\n",
      "  warnings.warn((f\"The {type(family.link).__name__} link function \"\n"
     ]
    },
    {
     "data": {
      "text/html": [
       "<table class=\"simpletable\">\n",
       "<caption>Generalized Linear Model Regression Results</caption>\n",
       "<tr>\n",
       "  <th>Dep. Variable:</th>           <td>y</td>        <th>  No. Observations:  </th>  <td>   100</td> \n",
       "</tr>\n",
       "<tr>\n",
       "  <th>Model:</th>                  <td>GLM</td>       <th>  Df Residuals:      </th>  <td>    97</td> \n",
       "</tr>\n",
       "<tr>\n",
       "  <th>Model Family:</th>         <td>Poisson</td>     <th>  Df Model:          </th>  <td>     2</td> \n",
       "</tr>\n",
       "<tr>\n",
       "  <th>Link Function:</th>       <td>identity</td>     <th>  Scale:             </th> <td>  1.0000</td>\n",
       "</tr>\n",
       "<tr>\n",
       "  <th>Method:</th>                <td>IRLS</td>       <th>  Log-Likelihood:    </th> <td> -235.16</td>\n",
       "</tr>\n",
       "<tr>\n",
       "  <th>Date:</th>            <td>Sat, 07 May 2022</td> <th>  Deviance:          </th> <td>  84.538</td>\n",
       "</tr>\n",
       "<tr>\n",
       "  <th>Time:</th>                <td>10:02:26</td>     <th>  Pearson chi2:      </th>  <td>  83.6</td> \n",
       "</tr>\n",
       "<tr>\n",
       "  <th>No. Iterations:</th>          <td>5</td>        <th>                     </th>     <td> </td>   \n",
       "</tr>\n",
       "<tr>\n",
       "  <th>Covariance Type:</th>     <td>nonrobust</td>    <th>                     </th>     <td> </td>   \n",
       "</tr>\n",
       "</table>\n",
       "<table class=\"simpletable\">\n",
       "<tr>\n",
       "     <td></td>        <th>coef</th>     <th>std err</th>      <th>z</th>      <th>P>|z|</th>  <th>[0.025</th>    <th>0.975]</th>  \n",
       "</tr>\n",
       "<tr>\n",
       "  <th>const</th>   <td>    1.2671</td> <td>    2.843</td> <td>    0.446</td> <td> 0.656</td> <td>   -4.306</td> <td>    6.840</td>\n",
       "</tr>\n",
       "<tr>\n",
       "  <th>x</th>       <td>    0.6606</td> <td>    0.290</td> <td>    2.281</td> <td> 0.023</td> <td>    0.093</td> <td>    1.228</td>\n",
       "</tr>\n",
       "<tr>\n",
       "  <th>f_dummy</th> <td>   -0.2048</td> <td>    0.582</td> <td>   -0.352</td> <td> 0.725</td> <td>   -1.346</td> <td>    0.936</td>\n",
       "</tr>\n",
       "</table>"
      ],
      "text/plain": [
       "<class 'statsmodels.iolib.summary.Summary'>\n",
       "\"\"\"\n",
       "                 Generalized Linear Model Regression Results                  \n",
       "==============================================================================\n",
       "Dep. Variable:                      y   No. Observations:                  100\n",
       "Model:                            GLM   Df Residuals:                       97\n",
       "Model Family:                 Poisson   Df Model:                            2\n",
       "Link Function:               identity   Scale:                          1.0000\n",
       "Method:                          IRLS   Log-Likelihood:                -235.16\n",
       "Date:                Sat, 07 May 2022   Deviance:                       84.538\n",
       "Time:                        10:02:26   Pearson chi2:                     83.6\n",
       "No. Iterations:                     5                                         \n",
       "Covariance Type:            nonrobust                                         \n",
       "==============================================================================\n",
       "                 coef    std err          z      P>|z|      [0.025      0.975]\n",
       "------------------------------------------------------------------------------\n",
       "const          1.2671      2.843      0.446      0.656      -4.306       6.840\n",
       "x              0.6606      0.290      2.281      0.023       0.093       1.228\n",
       "f_dummy       -0.2048      0.582     -0.352      0.725      -1.346       0.936\n",
       "==============================================================================\n",
       "\"\"\""
      ]
     },
     "execution_count": 45,
     "metadata": {},
     "output_type": "execute_result"
    }
   ],
   "source": [
    "model2 = sm.GLM(d.y, sm.add_constant(d[['x', 'f_dummy']]), family=sm.families.Poisson(link=sm.genmod.families.links.identity))\n",
    "result2 = model2.fit()\n",
    "\n",
    "result2.summary()"
   ]
  },
  {
   "cell_type": "code",
   "execution_count": 90,
   "id": "stunning-typing",
   "metadata": {},
   "outputs": [
    {
     "data": {
      "text/plain": [
       "Text(0.5, 1.0, 'identity link')"
      ]
     },
     "execution_count": 90,
     "metadata": {},
     "output_type": "execute_result"
    },
    {
     "data": {
      "image/png": "[encoded data removed]",
      "text/plain": [
       "<Figure size 864x288 with 2 Axes>"
      ]
     },
     "metadata": {
      "needs_background": "light"
     },
     "output_type": "display_data"
    }
   ],
   "source": [
    "x = np.arange(5, 20, 0.1)\n",
    "\n",
    "def pred(x, d, result):\n",
    "    xx = sm.add_constant(x)\n",
    "    dd = np.array([d]*len(xx))\n",
    "    X = pd.DataFrame(np.concatenate([xx.reshape(-1,2),dd.reshape(-1,1)], axis=1))\n",
    "    y_pred = result.predict(X)\n",
    "    return y_pred\n",
    "\n",
    "fig = plt.figure(figsize=(12,4))\n",
    "\n",
    "ax1 = fig.add_subplot(1, 2, 1)\n",
    "ax1.plot(x, pred(x, 1, result1), label='T');\n",
    "ax1.plot(x, pred(x, 0, result1), label='C');\n",
    "ax1.legend()\n",
    "ax1.set_title('log link')\n",
    "\n",
    "ax2 = fig.add_subplot(1, 2, 2)\n",
    "ax2.plot(x, pred(x, 1, result2), label='T');\n",
    "ax2.plot(x, pred(x, 0, result2), label='C');\n",
    "ax2.legend()\n",
    "ax2.set_title('identity link')"
   ]
  },
  {
   "cell_type": "markdown",
   "id": "wound-constraint",
   "metadata": {},
   "source": [
    "## 3.7 「何でも正規分布」「何でも直線」には無理がある\n",
    "GLMにおいて、恒等リンク関数を指定すると、一般化ではない**線形モデル**あるいは**一般線形モデル**と呼ばれる。  \n",
    "**直線回帰**はLMのあてはめのひとつである。  \n",
    "直線回帰はGLMの一部であり、統計モデルの特徴は以下のようになる。\n",
    "- 観測値{$x_1,x_2,\\cdots,x_n$}と{$y_1,y_2,\\cdots,y_n$}のペアがあり、$\\boldsymbol{X}=\\{ x_i\\}$を説明変数、$\\boldsymbol{Y}=\\{ y_i\\}$を応答変数と呼ぶ。\n",
    "- $\\boldsymbol{Y}$は平均$\\mu_i$で標準偏差$\\sigma$の正規分布に従う\n",
    "- あるデータ点$i$において平均値が$\\mu_i=\\beta_1+\\beta_2x_i$となる\n",
    "\n",
    "今回の例のように応答変数がカウントデータだったとすると、以下のような疑問点が生じる。\n",
    "- 正規分布は連続的な値を扱う確率分布だったはずでは？\n",
    "- カウントデータなのに平均値の予測がマイナスになる理由は？\n",
    "- 図で見ると「ばらつき一定」ではなさそうなのに、分散一定を仮定？\n",
    "\n",
    "このように直線回帰の統計モデルは「現実ばなれ」している。  \n",
    "これに対してポアソン分布を使ったGLMでは、上に挙げた問題点は、\n",
    "- ポアソン分布を使っているのでカウントデータに正しく対応\n",
    "- 対数リンク関数を使えば平均値は常に非負\n",
    "- $y$のばらつきは平均とともに増大する\n",
    "  \n",
    "のようにうまく解決できるように見える。  \n",
    "また、応答変数を対数変換して直線回帰することと、ポアソン回帰はまったく別物であることに注意する。"
   ]
  },
  {
   "cell_type": "code",
   "execution_count": 18,
   "id": "cultural-shadow",
   "metadata": {},
   "outputs": [
    {
     "data": {
      "text/html": [
       "<table class=\"simpletable\">\n",
       "<caption>Generalized Linear Model Regression Results</caption>\n",
       "<tr>\n",
       "  <th>Dep. Variable:</th>           <td>y</td>        <th>  No. Observations:  </th>  <td>   100</td> \n",
       "</tr>\n",
       "<tr>\n",
       "  <th>Model:</th>                  <td>GLM</td>       <th>  Df Residuals:      </th>  <td>    97</td> \n",
       "</tr>\n",
       "<tr>\n",
       "  <th>Model Family:</th>         <td>Poisson</td>     <th>  Df Model:          </th>  <td>     2</td> \n",
       "</tr>\n",
       "<tr>\n",
       "  <th>Link Function:</th>          <td>log</td>       <th>  Scale:             </th> <td>  1.0000</td>\n",
       "</tr>\n",
       "<tr>\n",
       "  <th>Method:</th>                <td>IRLS</td>       <th>  Log-Likelihood:    </th> <td> -235.29</td>\n",
       "</tr>\n",
       "<tr>\n",
       "  <th>Date:</th>            <td>Sat, 07 May 2022</td> <th>  Deviance:          </th> <td>  84.808</td>\n",
       "</tr>\n",
       "<tr>\n",
       "  <th>Time:</th>                <td>09:53:19</td>     <th>  Pearson chi2:      </th>  <td>  83.8</td> \n",
       "</tr>\n",
       "<tr>\n",
       "  <th>No. Iterations:</th>          <td>4</td>        <th>                     </th>     <td> </td>   \n",
       "</tr>\n",
       "<tr>\n",
       "  <th>Covariance Type:</th>     <td>nonrobust</td>    <th>                     </th>     <td> </td>   \n",
       "</tr>\n",
       "</table>\n",
       "<table class=\"simpletable\">\n",
       "<tr>\n",
       "     <td></td>        <th>coef</th>     <th>std err</th>      <th>z</th>      <th>P>|z|</th>  <th>[0.025</th>    <th>0.975]</th>  \n",
       "</tr>\n",
       "<tr>\n",
       "  <th>const</th>   <td>    1.2631</td> <td>    0.370</td> <td>    3.417</td> <td> 0.001</td> <td>    0.539</td> <td>    1.988</td>\n",
       "</tr>\n",
       "<tr>\n",
       "  <th>x</th>       <td>    0.0801</td> <td>    0.037</td> <td>    2.162</td> <td> 0.031</td> <td>    0.007</td> <td>    0.153</td>\n",
       "</tr>\n",
       "<tr>\n",
       "  <th>f_dummy</th> <td>   -0.0320</td> <td>    0.074</td> <td>   -0.430</td> <td> 0.667</td> <td>   -0.178</td> <td>    0.114</td>\n",
       "</tr>\n",
       "</table>"
      ],
      "text/plain": [
       "<class 'statsmodels.iolib.summary.Summary'>\n",
       "\"\"\"\n",
       "                 Generalized Linear Model Regression Results                  \n",
       "==============================================================================\n",
       "Dep. Variable:                      y   No. Observations:                  100\n",
       "Model:                            GLM   Df Residuals:                       97\n",
       "Model Family:                 Poisson   Df Model:                            2\n",
       "Link Function:                    log   Scale:                          1.0000\n",
       "Method:                          IRLS   Log-Likelihood:                -235.29\n",
       "Date:                Sat, 07 May 2022   Deviance:                       84.808\n",
       "Time:                        09:53:19   Pearson chi2:                     83.8\n",
       "No. Iterations:                     4                                         \n",
       "Covariance Type:            nonrobust                                         \n",
       "==============================================================================\n",
       "                 coef    std err          z      P>|z|      [0.025      0.975]\n",
       "------------------------------------------------------------------------------\n",
       "const          1.2631      0.370      3.417      0.001       0.539       1.988\n",
       "x              0.0801      0.037      2.162      0.031       0.007       0.153\n",
       "f_dummy       -0.0320      0.074     -0.430      0.667      -0.178       0.114\n",
       "==============================================================================\n",
       "\"\"\""
      ]
     },
     "execution_count": 18,
     "metadata": {},
     "output_type": "execute_result"
    }
   ],
   "source": [
    "model_poisson = sm.GLM(d.y, sm.add_constant(d[['x', 'f_dummy']]), family=sm.families.Poisson())\n",
    "result_poisson = model_poisson.fit()\n",
    "\n",
    "result_poisson.summary()"
   ]
  },
  {
   "cell_type": "code",
   "execution_count": 76,
   "id": "apparent-gathering",
   "metadata": {},
   "outputs": [
    {
     "data": {
      "text/html": [
       "<table class=\"simpletable\">\n",
       "<caption>OLS Regression Results</caption>\n",
       "<tr>\n",
       "  <th>Dep. Variable:</th>            <td>y</td>        <th>  R-squared:         </th> <td>   0.067</td>\n",
       "</tr>\n",
       "<tr>\n",
       "  <th>Model:</th>                   <td>OLS</td>       <th>  Adj. R-squared:    </th> <td>   0.047</td>\n",
       "</tr>\n",
       "<tr>\n",
       "  <th>Method:</th>             <td>Least Squares</td>  <th>  F-statistic:       </th> <td>   3.465</td>\n",
       "</tr>\n",
       "<tr>\n",
       "  <th>Date:</th>             <td>Sat, 07 May 2022</td> <th>  Prob (F-statistic):</th>  <td>0.0352</td> \n",
       "</tr>\n",
       "<tr>\n",
       "  <th>Time:</th>                 <td>10:17:03</td>     <th>  Log-Likelihood:    </th> <td> -38.853</td>\n",
       "</tr>\n",
       "<tr>\n",
       "  <th>No. Observations:</th>      <td>   100</td>      <th>  AIC:               </th> <td>   83.71</td>\n",
       "</tr>\n",
       "<tr>\n",
       "  <th>Df Residuals:</th>          <td>    97</td>      <th>  BIC:               </th> <td>   91.52</td>\n",
       "</tr>\n",
       "<tr>\n",
       "  <th>Df Model:</th>              <td>     2</td>      <th>                     </th>     <td> </td>   \n",
       "</tr>\n",
       "<tr>\n",
       "  <th>Covariance Type:</th>      <td>nonrobust</td>    <th>                     </th>     <td> </td>   \n",
       "</tr>\n",
       "</table>\n",
       "<table class=\"simpletable\">\n",
       "<tr>\n",
       "     <td></td>        <th>coef</th>     <th>std err</th>      <th>t</th>      <th>P>|t|</th>  <th>[0.025</th>    <th>0.975]</th>  \n",
       "</tr>\n",
       "<tr>\n",
       "  <th>const</th>   <td>    1.0201</td> <td>    0.373</td> <td>    2.737</td> <td> 0.007</td> <td>    0.280</td> <td>    1.760</td>\n",
       "</tr>\n",
       "<tr>\n",
       "  <th>x</th>       <td>    0.0981</td> <td>    0.038</td> <td>    2.605</td> <td> 0.011</td> <td>    0.023</td> <td>    0.173</td>\n",
       "</tr>\n",
       "<tr>\n",
       "  <th>f_dummy</th> <td>   -0.0280</td> <td>    0.076</td> <td>   -0.370</td> <td> 0.712</td> <td>   -0.178</td> <td>    0.122</td>\n",
       "</tr>\n",
       "</table>\n",
       "<table class=\"simpletable\">\n",
       "<tr>\n",
       "  <th>Omnibus:</th>       <td> 9.268</td> <th>  Durbin-Watson:     </th> <td>   2.108</td>\n",
       "</tr>\n",
       "<tr>\n",
       "  <th>Prob(Omnibus):</th> <td> 0.010</td> <th>  Jarque-Bera (JB):  </th> <td>   9.210</td>\n",
       "</tr>\n",
       "<tr>\n",
       "  <th>Skew:</th>          <td>-0.635</td> <th>  Prob(JB):          </th> <td>  0.0100</td>\n",
       "</tr>\n",
       "<tr>\n",
       "  <th>Kurtosis:</th>      <td> 3.775</td> <th>  Cond. No.          </th> <td>    106.</td>\n",
       "</tr>\n",
       "</table><br/><br/>Notes:<br/>[1] Standard Errors assume that the covariance matrix of the errors is correctly specified."
      ],
      "text/plain": [
       "<class 'statsmodels.iolib.summary.Summary'>\n",
       "\"\"\"\n",
       "                            OLS Regression Results                            \n",
       "==============================================================================\n",
       "Dep. Variable:                      y   R-squared:                       0.067\n",
       "Model:                            OLS   Adj. R-squared:                  0.047\n",
       "Method:                 Least Squares   F-statistic:                     3.465\n",
       "Date:                Sat, 07 May 2022   Prob (F-statistic):             0.0352\n",
       "Time:                        10:17:03   Log-Likelihood:                -38.853\n",
       "No. Observations:                 100   AIC:                             83.71\n",
       "Df Residuals:                      97   BIC:                             91.52\n",
       "Df Model:                           2                                         \n",
       "Covariance Type:            nonrobust                                         \n",
       "==============================================================================\n",
       "                 coef    std err          t      P>|t|      [0.025      0.975]\n",
       "------------------------------------------------------------------------------\n",
       "const          1.0201      0.373      2.737      0.007       0.280       1.760\n",
       "x              0.0981      0.038      2.605      0.011       0.023       0.173\n",
       "f_dummy       -0.0280      0.076     -0.370      0.712      -0.178       0.122\n",
       "==============================================================================\n",
       "Omnibus:                        9.268   Durbin-Watson:                   2.108\n",
       "Prob(Omnibus):                  0.010   Jarque-Bera (JB):                9.210\n",
       "Skew:                          -0.635   Prob(JB):                       0.0100\n",
       "Kurtosis:                       3.775   Cond. No.                         106.\n",
       "==============================================================================\n",
       "\n",
       "Notes:\n",
       "[1] Standard Errors assume that the covariance matrix of the errors is correctly specified.\n",
       "\"\"\""
      ]
     },
     "execution_count": 76,
     "metadata": {},
     "output_type": "execute_result"
    }
   ],
   "source": [
    "model_linear = sm.OLS(np.log(d.y), sm.add_constant(d[['x', 'f_dummy']]))\n",
    "result_linear = model_linear.fit()\n",
    "\n",
    "result_linear.summary()"
   ]
  },
  {
   "cell_type": "code",
   "execution_count": 80,
   "id": "incorporate-buffer",
   "metadata": {},
   "outputs": [
    {
     "data": {
      "text/plain": [
       "<matplotlib.legend.Legend at 0x23e1ef19eb0>"
      ]
     },
     "execution_count": 80,
     "metadata": {},
     "output_type": "execute_result"
    },
    {
     "data": {
      "image/png": "[encoded data removed]",
      "text/plain": [
       "<Figure size 864x288 with 2 Axes>"
      ]
     },
     "metadata": {
      "needs_background": "light"
     },
     "output_type": "display_data"
    }
   ],
   "source": [
    "x = np.arange(6, 15, 0.1)\n",
    "\n",
    "fig = plt.figure(figsize=(12,4))\n",
    "\n",
    "ax1 = fig.add_subplot(1, 2, 1)\n",
    "for s in ['C', 'T']:\n",
    "    d_select = d[d['f']==s]\n",
    "    ax1.scatter(d_select['x'], d_select['y'], label=s, alpha=.5)\n",
    "ax1.plot(x, pred(x, 1, result_poisson), label='T');\n",
    "ax1.plot(x, pred(x, 0, result_poisson), label='C');\n",
    "ax1.set_title('GLM')\n",
    "ax1.legend()\n",
    "\n",
    "ax2 = fig.add_subplot(1, 2, 2)\n",
    "for s in ['C', 'T']:\n",
    "    d_select = d[d['f']==s]\n",
    "    ax2.scatter(d_select['x'], d_select['y'], label=s, alpha=.5)\n",
    "ax2.plot(x, np.exp(pred(x, 1, result_linear)), label='T');\n",
    "ax2.plot(x, np.exp(pred(x, 0, result_linear)), label='C');\n",
    "ax2.set_title('OLS')\n",
    "ax2.legend()"
   ]
  },
  {
   "cell_type": "code",
   "execution_count": null,
   "id": "thousand-valley",
   "metadata": {},
   "outputs": [],
   "source": []
  },
  {
   "cell_type": "code",
   "execution_count": null,
   "id": "hispanic-blair",
   "metadata": {},
   "outputs": [],
   "source": []
  }
 ],
 "metadata": {
  "kernelspec": {
   "display_name": "Python 3",
   "language": "python",
   "name": "python3"
  },
  "language_info": {
   "codemirror_mode": {
    "name": "ipython",
    "version": 3
   },
   "file_extension": ".py",
   "mimetype": "text/x-python",
   "name": "python",
   "nbconvert_exporter": "python",
   "pygments_lexer": "ipython3",
   "version": "3.8.5"
  }
 },
 "nbformat": 4,
 "nbformat_minor": 5
}
